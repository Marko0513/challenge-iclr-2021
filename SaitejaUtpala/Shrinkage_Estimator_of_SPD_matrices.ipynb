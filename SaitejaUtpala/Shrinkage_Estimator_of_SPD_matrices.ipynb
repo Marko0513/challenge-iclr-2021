{
  "nbformat": 4,
  "nbformat_minor": 0,
  "metadata": {
    "colab": {
      "name": "Shrinkage Estimator of SPD matrices.ipynb",
      "provenance": [],
      "collapsed_sections": []
    },
    "kernelspec": {
      "display_name": "Python 3",
      "name": "python3"
    },
    "language_info": {
      "name": "python"
    },
    "widgets": {
      "application/vnd.jupyter.widget-state+json": {
        "7895e14e14b74ec5be1b7b464958e420": {
          "model_module": "@jupyter-widgets/controls",
          "model_name": "HBoxModel",
          "state": {
            "_dom_classes": [],
            "_model_module": "@jupyter-widgets/controls",
            "_model_module_version": "1.5.0",
            "_model_name": "HBoxModel",
            "_view_count": null,
            "_view_module": "@jupyter-widgets/controls",
            "_view_module_version": "1.5.0",
            "_view_name": "HBoxView",
            "box_style": "",
            "children": [
              "IPY_MODEL_e48bacc2fff945d8bbda09d6d9dff07f",
              "IPY_MODEL_5b8c09ce69d240739e650efa0251651f"
            ],
            "layout": "IPY_MODEL_b1f303d28b824f7bb8ae5acc82a9b804"
          }
        },
        "e48bacc2fff945d8bbda09d6d9dff07f": {
          "model_module": "@jupyter-widgets/controls",
          "model_name": "FloatProgressModel",
          "state": {
            "_dom_classes": [],
            "_model_module": "@jupyter-widgets/controls",
            "_model_module_version": "1.5.0",
            "_model_name": "FloatProgressModel",
            "_view_count": null,
            "_view_module": "@jupyter-widgets/controls",
            "_view_module_version": "1.5.0",
            "_view_name": "ProgressView",
            "bar_style": "success",
            "description": "",
            "description_tooltip": null,
            "layout": "IPY_MODEL_1dff757445b940b1b4deb065c4e83a83",
            "max": 1,
            "min": 0,
            "orientation": "horizontal",
            "style": "IPY_MODEL_05be58c19c3543fc92c56137f22c96d7",
            "value": 1
          }
        },
        "5b8c09ce69d240739e650efa0251651f": {
          "model_module": "@jupyter-widgets/controls",
          "model_name": "HTMLModel",
          "state": {
            "_dom_classes": [],
            "_model_module": "@jupyter-widgets/controls",
            "_model_module_version": "1.5.0",
            "_model_name": "HTMLModel",
            "_view_count": null,
            "_view_module": "@jupyter-widgets/controls",
            "_view_module_version": "1.5.0",
            "_view_name": "HTMLView",
            "description": "",
            "description_tooltip": null,
            "layout": "IPY_MODEL_0184de96e6fb461cafabaa487dc20c5a",
            "placeholder": "​",
            "style": "IPY_MODEL_62cefc8400ba4d0dbcde4ed977edac38",
            "value": " 4/? [16:33&lt;00:00, 248.39s/it]"
          }
        },
        "b1f303d28b824f7bb8ae5acc82a9b804": {
          "model_module": "@jupyter-widgets/base",
          "model_name": "LayoutModel",
          "state": {
            "_model_module": "@jupyter-widgets/base",
            "_model_module_version": "1.2.0",
            "_model_name": "LayoutModel",
            "_view_count": null,
            "_view_module": "@jupyter-widgets/base",
            "_view_module_version": "1.2.0",
            "_view_name": "LayoutView",
            "align_content": null,
            "align_items": null,
            "align_self": null,
            "border": null,
            "bottom": null,
            "display": null,
            "flex": null,
            "flex_flow": null,
            "grid_area": null,
            "grid_auto_columns": null,
            "grid_auto_flow": null,
            "grid_auto_rows": null,
            "grid_column": null,
            "grid_gap": null,
            "grid_row": null,
            "grid_template_areas": null,
            "grid_template_columns": null,
            "grid_template_rows": null,
            "height": null,
            "justify_content": null,
            "justify_items": null,
            "left": null,
            "margin": null,
            "max_height": null,
            "max_width": null,
            "min_height": null,
            "min_width": null,
            "object_fit": null,
            "object_position": null,
            "order": null,
            "overflow": null,
            "overflow_x": null,
            "overflow_y": null,
            "padding": null,
            "right": null,
            "top": null,
            "visibility": null,
            "width": null
          }
        },
        "1dff757445b940b1b4deb065c4e83a83": {
          "model_module": "@jupyter-widgets/base",
          "model_name": "LayoutModel",
          "state": {
            "_model_module": "@jupyter-widgets/base",
            "_model_module_version": "1.2.0",
            "_model_name": "LayoutModel",
            "_view_count": null,
            "_view_module": "@jupyter-widgets/base",
            "_view_module_version": "1.2.0",
            "_view_name": "LayoutView",
            "align_content": null,
            "align_items": null,
            "align_self": null,
            "border": null,
            "bottom": null,
            "display": null,
            "flex": null,
            "flex_flow": null,
            "grid_area": null,
            "grid_auto_columns": null,
            "grid_auto_flow": null,
            "grid_auto_rows": null,
            "grid_column": null,
            "grid_gap": null,
            "grid_row": null,
            "grid_template_areas": null,
            "grid_template_columns": null,
            "grid_template_rows": null,
            "height": null,
            "justify_content": null,
            "justify_items": null,
            "left": null,
            "margin": null,
            "max_height": null,
            "max_width": null,
            "min_height": null,
            "min_width": null,
            "object_fit": null,
            "object_position": null,
            "order": null,
            "overflow": null,
            "overflow_x": null,
            "overflow_y": null,
            "padding": null,
            "right": null,
            "top": null,
            "visibility": null,
            "width": null
          }
        },
        "05be58c19c3543fc92c56137f22c96d7": {
          "model_module": "@jupyter-widgets/controls",
          "model_name": "ProgressStyleModel",
          "state": {
            "_model_module": "@jupyter-widgets/controls",
            "_model_module_version": "1.5.0",
            "_model_name": "ProgressStyleModel",
            "_view_count": null,
            "_view_module": "@jupyter-widgets/base",
            "_view_module_version": "1.2.0",
            "_view_name": "StyleView",
            "bar_color": null,
            "description_width": "initial"
          }
        },
        "0184de96e6fb461cafabaa487dc20c5a": {
          "model_module": "@jupyter-widgets/base",
          "model_name": "LayoutModel",
          "state": {
            "_model_module": "@jupyter-widgets/base",
            "_model_module_version": "1.2.0",
            "_model_name": "LayoutModel",
            "_view_count": null,
            "_view_module": "@jupyter-widgets/base",
            "_view_module_version": "1.2.0",
            "_view_name": "LayoutView",
            "align_content": null,
            "align_items": null,
            "align_self": null,
            "border": null,
            "bottom": null,
            "display": null,
            "flex": null,
            "flex_flow": null,
            "grid_area": null,
            "grid_auto_columns": null,
            "grid_auto_flow": null,
            "grid_auto_rows": null,
            "grid_column": null,
            "grid_gap": null,
            "grid_row": null,
            "grid_template_areas": null,
            "grid_template_columns": null,
            "grid_template_rows": null,
            "height": null,
            "justify_content": null,
            "justify_items": null,
            "left": null,
            "margin": null,
            "max_height": null,
            "max_width": null,
            "min_height": null,
            "min_width": null,
            "object_fit": null,
            "object_position": null,
            "order": null,
            "overflow": null,
            "overflow_x": null,
            "overflow_y": null,
            "padding": null,
            "right": null,
            "top": null,
            "visibility": null,
            "width": null
          }
        },
        "62cefc8400ba4d0dbcde4ed977edac38": {
          "model_module": "@jupyter-widgets/controls",
          "model_name": "DescriptionStyleModel",
          "state": {
            "_model_module": "@jupyter-widgets/controls",
            "_model_module_version": "1.5.0",
            "_model_name": "DescriptionStyleModel",
            "_view_count": null,
            "_view_module": "@jupyter-widgets/base",
            "_view_module_version": "1.2.0",
            "_view_name": "StyleView",
            "description_width": ""
          }
        },
        "2be460e87ce6411782b26a7d248323ec": {
          "model_module": "@jupyter-widgets/controls",
          "model_name": "HBoxModel",
          "state": {
            "_dom_classes": [],
            "_model_module": "@jupyter-widgets/controls",
            "_model_module_version": "1.5.0",
            "_model_name": "HBoxModel",
            "_view_count": null,
            "_view_module": "@jupyter-widgets/controls",
            "_view_module_version": "1.5.0",
            "_view_name": "HBoxView",
            "box_style": "",
            "children": [
              "IPY_MODEL_7dc8d8b252dc4170bccf3d49f3021859",
              "IPY_MODEL_42ad77a225084de29da142e10b2d75a3"
            ],
            "layout": "IPY_MODEL_2890e37aeca545c2b280c22614986612"
          }
        },
        "7dc8d8b252dc4170bccf3d49f3021859": {
          "model_module": "@jupyter-widgets/controls",
          "model_name": "FloatProgressModel",
          "state": {
            "_dom_classes": [],
            "_model_module": "@jupyter-widgets/controls",
            "_model_module_version": "1.5.0",
            "_model_name": "FloatProgressModel",
            "_view_count": null,
            "_view_module": "@jupyter-widgets/controls",
            "_view_module_version": "1.5.0",
            "_view_name": "ProgressView",
            "bar_style": "success",
            "description": "",
            "description_tooltip": null,
            "layout": "IPY_MODEL_b8d0ef94ea6840e9a4281794fecabf0d",
            "max": 1,
            "min": 0,
            "orientation": "horizontal",
            "style": "IPY_MODEL_0b789698c78d4453b5b9b0c8cef23d51",
            "value": 1
          }
        },
        "42ad77a225084de29da142e10b2d75a3": {
          "model_module": "@jupyter-widgets/controls",
          "model_name": "HTMLModel",
          "state": {
            "_dom_classes": [],
            "_model_module": "@jupyter-widgets/controls",
            "_model_module_version": "1.5.0",
            "_model_name": "HTMLModel",
            "_view_count": null,
            "_view_module": "@jupyter-widgets/controls",
            "_view_module_version": "1.5.0",
            "_view_name": "HTMLView",
            "description": "",
            "description_tooltip": null,
            "layout": "IPY_MODEL_93d51411841049c486214bc08550557c",
            "placeholder": "​",
            "style": "IPY_MODEL_ded4ac4f141d4589a03f7e976ad14779",
            "value": " 250/? [16:33&lt;00:00,  3.97s/it]"
          }
        },
        "2890e37aeca545c2b280c22614986612": {
          "model_module": "@jupyter-widgets/base",
          "model_name": "LayoutModel",
          "state": {
            "_model_module": "@jupyter-widgets/base",
            "_model_module_version": "1.2.0",
            "_model_name": "LayoutModel",
            "_view_count": null,
            "_view_module": "@jupyter-widgets/base",
            "_view_module_version": "1.2.0",
            "_view_name": "LayoutView",
            "align_content": null,
            "align_items": null,
            "align_self": null,
            "border": null,
            "bottom": null,
            "display": null,
            "flex": null,
            "flex_flow": null,
            "grid_area": null,
            "grid_auto_columns": null,
            "grid_auto_flow": null,
            "grid_auto_rows": null,
            "grid_column": null,
            "grid_gap": null,
            "grid_row": null,
            "grid_template_areas": null,
            "grid_template_columns": null,
            "grid_template_rows": null,
            "height": null,
            "justify_content": null,
            "justify_items": null,
            "left": null,
            "margin": null,
            "max_height": null,
            "max_width": null,
            "min_height": null,
            "min_width": null,
            "object_fit": null,
            "object_position": null,
            "order": null,
            "overflow": null,
            "overflow_x": null,
            "overflow_y": null,
            "padding": null,
            "right": null,
            "top": null,
            "visibility": null,
            "width": null
          }
        },
        "b8d0ef94ea6840e9a4281794fecabf0d": {
          "model_module": "@jupyter-widgets/base",
          "model_name": "LayoutModel",
          "state": {
            "_model_module": "@jupyter-widgets/base",
            "_model_module_version": "1.2.0",
            "_model_name": "LayoutModel",
            "_view_count": null,
            "_view_module": "@jupyter-widgets/base",
            "_view_module_version": "1.2.0",
            "_view_name": "LayoutView",
            "align_content": null,
            "align_items": null,
            "align_self": null,
            "border": null,
            "bottom": null,
            "display": null,
            "flex": null,
            "flex_flow": null,
            "grid_area": null,
            "grid_auto_columns": null,
            "grid_auto_flow": null,
            "grid_auto_rows": null,
            "grid_column": null,
            "grid_gap": null,
            "grid_row": null,
            "grid_template_areas": null,
            "grid_template_columns": null,
            "grid_template_rows": null,
            "height": null,
            "justify_content": null,
            "justify_items": null,
            "left": null,
            "margin": null,
            "max_height": null,
            "max_width": null,
            "min_height": null,
            "min_width": null,
            "object_fit": null,
            "object_position": null,
            "order": null,
            "overflow": null,
            "overflow_x": null,
            "overflow_y": null,
            "padding": null,
            "right": null,
            "top": null,
            "visibility": null,
            "width": null
          }
        },
        "0b789698c78d4453b5b9b0c8cef23d51": {
          "model_module": "@jupyter-widgets/controls",
          "model_name": "ProgressStyleModel",
          "state": {
            "_model_module": "@jupyter-widgets/controls",
            "_model_module_version": "1.5.0",
            "_model_name": "ProgressStyleModel",
            "_view_count": null,
            "_view_module": "@jupyter-widgets/base",
            "_view_module_version": "1.2.0",
            "_view_name": "StyleView",
            "bar_color": null,
            "description_width": "initial"
          }
        },
        "93d51411841049c486214bc08550557c": {
          "model_module": "@jupyter-widgets/base",
          "model_name": "LayoutModel",
          "state": {
            "_model_module": "@jupyter-widgets/base",
            "_model_module_version": "1.2.0",
            "_model_name": "LayoutModel",
            "_view_count": null,
            "_view_module": "@jupyter-widgets/base",
            "_view_module_version": "1.2.0",
            "_view_name": "LayoutView",
            "align_content": null,
            "align_items": null,
            "align_self": null,
            "border": null,
            "bottom": null,
            "display": null,
            "flex": null,
            "flex_flow": null,
            "grid_area": null,
            "grid_auto_columns": null,
            "grid_auto_flow": null,
            "grid_auto_rows": null,
            "grid_column": null,
            "grid_gap": null,
            "grid_row": null,
            "grid_template_areas": null,
            "grid_template_columns": null,
            "grid_template_rows": null,
            "height": null,
            "justify_content": null,
            "justify_items": null,
            "left": null,
            "margin": null,
            "max_height": null,
            "max_width": null,
            "min_height": null,
            "min_width": null,
            "object_fit": null,
            "object_position": null,
            "order": null,
            "overflow": null,
            "overflow_x": null,
            "overflow_y": null,
            "padding": null,
            "right": null,
            "top": null,
            "visibility": null,
            "width": null
          }
        },
        "ded4ac4f141d4589a03f7e976ad14779": {
          "model_module": "@jupyter-widgets/controls",
          "model_name": "DescriptionStyleModel",
          "state": {
            "_model_module": "@jupyter-widgets/controls",
            "_model_module_version": "1.5.0",
            "_model_name": "DescriptionStyleModel",
            "_view_count": null,
            "_view_module": "@jupyter-widgets/base",
            "_view_module_version": "1.2.0",
            "_view_name": "StyleView",
            "description_width": ""
          }
        },
        "bca178d82479415db247b8edca31ce00": {
          "model_module": "@jupyter-widgets/controls",
          "model_name": "HBoxModel",
          "state": {
            "_dom_classes": [],
            "_model_module": "@jupyter-widgets/controls",
            "_model_module_version": "1.5.0",
            "_model_name": "HBoxModel",
            "_view_count": null,
            "_view_module": "@jupyter-widgets/controls",
            "_view_module_version": "1.5.0",
            "_view_name": "HBoxView",
            "box_style": "",
            "children": [
              "IPY_MODEL_155bb4a4a1aa4af3ac7d8241440fdfe0",
              "IPY_MODEL_524d3655e4ef4bf2bf05270b70e13b3c"
            ],
            "layout": "IPY_MODEL_001daa4b6a6649dfb15631ad2f62cda4"
          }
        },
        "155bb4a4a1aa4af3ac7d8241440fdfe0": {
          "model_module": "@jupyter-widgets/controls",
          "model_name": "FloatProgressModel",
          "state": {
            "_dom_classes": [],
            "_model_module": "@jupyter-widgets/controls",
            "_model_module_version": "1.5.0",
            "_model_name": "FloatProgressModel",
            "_view_count": null,
            "_view_module": "@jupyter-widgets/controls",
            "_view_module_version": "1.5.0",
            "_view_name": "ProgressView",
            "bar_style": "success",
            "description": "",
            "description_tooltip": null,
            "layout": "IPY_MODEL_dec9bf9b12684bb1b44033a48da0f2ca",
            "max": 1,
            "min": 0,
            "orientation": "horizontal",
            "style": "IPY_MODEL_a5dcf7cef6d846519c5483ebd54f5689",
            "value": 1
          }
        },
        "524d3655e4ef4bf2bf05270b70e13b3c": {
          "model_module": "@jupyter-widgets/controls",
          "model_name": "HTMLModel",
          "state": {
            "_dom_classes": [],
            "_model_module": "@jupyter-widgets/controls",
            "_model_module_version": "1.5.0",
            "_model_name": "HTMLModel",
            "_view_count": null,
            "_view_module": "@jupyter-widgets/controls",
            "_view_module_version": "1.5.0",
            "_view_name": "HTMLView",
            "description": "",
            "description_tooltip": null,
            "layout": "IPY_MODEL_4b15237aba1b4982ab55d55aaf1f6fcb",
            "placeholder": "​",
            "style": "IPY_MODEL_996d9df1dda940b5b8cb06f4621c70f4",
            "value": " 250/? [03:47&lt;00:00,  1.10it/s]"
          }
        },
        "001daa4b6a6649dfb15631ad2f62cda4": {
          "model_module": "@jupyter-widgets/base",
          "model_name": "LayoutModel",
          "state": {
            "_model_module": "@jupyter-widgets/base",
            "_model_module_version": "1.2.0",
            "_model_name": "LayoutModel",
            "_view_count": null,
            "_view_module": "@jupyter-widgets/base",
            "_view_module_version": "1.2.0",
            "_view_name": "LayoutView",
            "align_content": null,
            "align_items": null,
            "align_self": null,
            "border": null,
            "bottom": null,
            "display": null,
            "flex": null,
            "flex_flow": null,
            "grid_area": null,
            "grid_auto_columns": null,
            "grid_auto_flow": null,
            "grid_auto_rows": null,
            "grid_column": null,
            "grid_gap": null,
            "grid_row": null,
            "grid_template_areas": null,
            "grid_template_columns": null,
            "grid_template_rows": null,
            "height": null,
            "justify_content": null,
            "justify_items": null,
            "left": null,
            "margin": null,
            "max_height": null,
            "max_width": null,
            "min_height": null,
            "min_width": null,
            "object_fit": null,
            "object_position": null,
            "order": null,
            "overflow": null,
            "overflow_x": null,
            "overflow_y": null,
            "padding": null,
            "right": null,
            "top": null,
            "visibility": null,
            "width": null
          }
        },
        "dec9bf9b12684bb1b44033a48da0f2ca": {
          "model_module": "@jupyter-widgets/base",
          "model_name": "LayoutModel",
          "state": {
            "_model_module": "@jupyter-widgets/base",
            "_model_module_version": "1.2.0",
            "_model_name": "LayoutModel",
            "_view_count": null,
            "_view_module": "@jupyter-widgets/base",
            "_view_module_version": "1.2.0",
            "_view_name": "LayoutView",
            "align_content": null,
            "align_items": null,
            "align_self": null,
            "border": null,
            "bottom": null,
            "display": null,
            "flex": null,
            "flex_flow": null,
            "grid_area": null,
            "grid_auto_columns": null,
            "grid_auto_flow": null,
            "grid_auto_rows": null,
            "grid_column": null,
            "grid_gap": null,
            "grid_row": null,
            "grid_template_areas": null,
            "grid_template_columns": null,
            "grid_template_rows": null,
            "height": null,
            "justify_content": null,
            "justify_items": null,
            "left": null,
            "margin": null,
            "max_height": null,
            "max_width": null,
            "min_height": null,
            "min_width": null,
            "object_fit": null,
            "object_position": null,
            "order": null,
            "overflow": null,
            "overflow_x": null,
            "overflow_y": null,
            "padding": null,
            "right": null,
            "top": null,
            "visibility": null,
            "width": null
          }
        },
        "a5dcf7cef6d846519c5483ebd54f5689": {
          "model_module": "@jupyter-widgets/controls",
          "model_name": "ProgressStyleModel",
          "state": {
            "_model_module": "@jupyter-widgets/controls",
            "_model_module_version": "1.5.0",
            "_model_name": "ProgressStyleModel",
            "_view_count": null,
            "_view_module": "@jupyter-widgets/base",
            "_view_module_version": "1.2.0",
            "_view_name": "StyleView",
            "bar_color": null,
            "description_width": "initial"
          }
        },
        "4b15237aba1b4982ab55d55aaf1f6fcb": {
          "model_module": "@jupyter-widgets/base",
          "model_name": "LayoutModel",
          "state": {
            "_model_module": "@jupyter-widgets/base",
            "_model_module_version": "1.2.0",
            "_model_name": "LayoutModel",
            "_view_count": null,
            "_view_module": "@jupyter-widgets/base",
            "_view_module_version": "1.2.0",
            "_view_name": "LayoutView",
            "align_content": null,
            "align_items": null,
            "align_self": null,
            "border": null,
            "bottom": null,
            "display": null,
            "flex": null,
            "flex_flow": null,
            "grid_area": null,
            "grid_auto_columns": null,
            "grid_auto_flow": null,
            "grid_auto_rows": null,
            "grid_column": null,
            "grid_gap": null,
            "grid_row": null,
            "grid_template_areas": null,
            "grid_template_columns": null,
            "grid_template_rows": null,
            "height": null,
            "justify_content": null,
            "justify_items": null,
            "left": null,
            "margin": null,
            "max_height": null,
            "max_width": null,
            "min_height": null,
            "min_width": null,
            "object_fit": null,
            "object_position": null,
            "order": null,
            "overflow": null,
            "overflow_x": null,
            "overflow_y": null,
            "padding": null,
            "right": null,
            "top": null,
            "visibility": null,
            "width": null
          }
        },
        "996d9df1dda940b5b8cb06f4621c70f4": {
          "model_module": "@jupyter-widgets/controls",
          "model_name": "DescriptionStyleModel",
          "state": {
            "_model_module": "@jupyter-widgets/controls",
            "_model_module_version": "1.5.0",
            "_model_name": "DescriptionStyleModel",
            "_view_count": null,
            "_view_module": "@jupyter-widgets/base",
            "_view_module_version": "1.2.0",
            "_view_name": "StyleView",
            "description_width": ""
          }
        },
        "5f6e37dea0f24e6aa03651c1acaea315": {
          "model_module": "@jupyter-widgets/controls",
          "model_name": "HBoxModel",
          "state": {
            "_dom_classes": [],
            "_model_module": "@jupyter-widgets/controls",
            "_model_module_version": "1.5.0",
            "_model_name": "HBoxModel",
            "_view_count": null,
            "_view_module": "@jupyter-widgets/controls",
            "_view_module_version": "1.5.0",
            "_view_name": "HBoxView",
            "box_style": "",
            "children": [
              "IPY_MODEL_efa52b1828aa4e71acad7e0c8bf63b90",
              "IPY_MODEL_15d3619d564e4b97a660a40faffb8247"
            ],
            "layout": "IPY_MODEL_e4e2b02208624a36bf138cdda9719dd9"
          }
        },
        "efa52b1828aa4e71acad7e0c8bf63b90": {
          "model_module": "@jupyter-widgets/controls",
          "model_name": "FloatProgressModel",
          "state": {
            "_dom_classes": [],
            "_model_module": "@jupyter-widgets/controls",
            "_model_module_version": "1.5.0",
            "_model_name": "FloatProgressModel",
            "_view_count": null,
            "_view_module": "@jupyter-widgets/controls",
            "_view_module_version": "1.5.0",
            "_view_name": "ProgressView",
            "bar_style": "success",
            "description": "",
            "description_tooltip": null,
            "layout": "IPY_MODEL_dfa54383f7f64534b03dda3ee2d5702e",
            "max": 1,
            "min": 0,
            "orientation": "horizontal",
            "style": "IPY_MODEL_fbc81fee309748069a566d353bbfb00d",
            "value": 1
          }
        },
        "15d3619d564e4b97a660a40faffb8247": {
          "model_module": "@jupyter-widgets/controls",
          "model_name": "HTMLModel",
          "state": {
            "_dom_classes": [],
            "_model_module": "@jupyter-widgets/controls",
            "_model_module_version": "1.5.0",
            "_model_name": "HTMLModel",
            "_view_count": null,
            "_view_module": "@jupyter-widgets/controls",
            "_view_module_version": "1.5.0",
            "_view_name": "HTMLView",
            "description": "",
            "description_tooltip": null,
            "layout": "IPY_MODEL_0d36d3f495d04c449e06c3473ae0009f",
            "placeholder": "​",
            "style": "IPY_MODEL_9cdfd893c1f24215955c25f3d8cbb340",
            "value": " 250/? [00:12&lt;00:00, 19.38it/s]"
          }
        },
        "e4e2b02208624a36bf138cdda9719dd9": {
          "model_module": "@jupyter-widgets/base",
          "model_name": "LayoutModel",
          "state": {
            "_model_module": "@jupyter-widgets/base",
            "_model_module_version": "1.2.0",
            "_model_name": "LayoutModel",
            "_view_count": null,
            "_view_module": "@jupyter-widgets/base",
            "_view_module_version": "1.2.0",
            "_view_name": "LayoutView",
            "align_content": null,
            "align_items": null,
            "align_self": null,
            "border": null,
            "bottom": null,
            "display": null,
            "flex": null,
            "flex_flow": null,
            "grid_area": null,
            "grid_auto_columns": null,
            "grid_auto_flow": null,
            "grid_auto_rows": null,
            "grid_column": null,
            "grid_gap": null,
            "grid_row": null,
            "grid_template_areas": null,
            "grid_template_columns": null,
            "grid_template_rows": null,
            "height": null,
            "justify_content": null,
            "justify_items": null,
            "left": null,
            "margin": null,
            "max_height": null,
            "max_width": null,
            "min_height": null,
            "min_width": null,
            "object_fit": null,
            "object_position": null,
            "order": null,
            "overflow": null,
            "overflow_x": null,
            "overflow_y": null,
            "padding": null,
            "right": null,
            "top": null,
            "visibility": null,
            "width": null
          }
        },
        "dfa54383f7f64534b03dda3ee2d5702e": {
          "model_module": "@jupyter-widgets/base",
          "model_name": "LayoutModel",
          "state": {
            "_model_module": "@jupyter-widgets/base",
            "_model_module_version": "1.2.0",
            "_model_name": "LayoutModel",
            "_view_count": null,
            "_view_module": "@jupyter-widgets/base",
            "_view_module_version": "1.2.0",
            "_view_name": "LayoutView",
            "align_content": null,
            "align_items": null,
            "align_self": null,
            "border": null,
            "bottom": null,
            "display": null,
            "flex": null,
            "flex_flow": null,
            "grid_area": null,
            "grid_auto_columns": null,
            "grid_auto_flow": null,
            "grid_auto_rows": null,
            "grid_column": null,
            "grid_gap": null,
            "grid_row": null,
            "grid_template_areas": null,
            "grid_template_columns": null,
            "grid_template_rows": null,
            "height": null,
            "justify_content": null,
            "justify_items": null,
            "left": null,
            "margin": null,
            "max_height": null,
            "max_width": null,
            "min_height": null,
            "min_width": null,
            "object_fit": null,
            "object_position": null,
            "order": null,
            "overflow": null,
            "overflow_x": null,
            "overflow_y": null,
            "padding": null,
            "right": null,
            "top": null,
            "visibility": null,
            "width": null
          }
        },
        "fbc81fee309748069a566d353bbfb00d": {
          "model_module": "@jupyter-widgets/controls",
          "model_name": "ProgressStyleModel",
          "state": {
            "_model_module": "@jupyter-widgets/controls",
            "_model_module_version": "1.5.0",
            "_model_name": "ProgressStyleModel",
            "_view_count": null,
            "_view_module": "@jupyter-widgets/base",
            "_view_module_version": "1.2.0",
            "_view_name": "StyleView",
            "bar_color": null,
            "description_width": "initial"
          }
        },
        "0d36d3f495d04c449e06c3473ae0009f": {
          "model_module": "@jupyter-widgets/base",
          "model_name": "LayoutModel",
          "state": {
            "_model_module": "@jupyter-widgets/base",
            "_model_module_version": "1.2.0",
            "_model_name": "LayoutModel",
            "_view_count": null,
            "_view_module": "@jupyter-widgets/base",
            "_view_module_version": "1.2.0",
            "_view_name": "LayoutView",
            "align_content": null,
            "align_items": null,
            "align_self": null,
            "border": null,
            "bottom": null,
            "display": null,
            "flex": null,
            "flex_flow": null,
            "grid_area": null,
            "grid_auto_columns": null,
            "grid_auto_flow": null,
            "grid_auto_rows": null,
            "grid_column": null,
            "grid_gap": null,
            "grid_row": null,
            "grid_template_areas": null,
            "grid_template_columns": null,
            "grid_template_rows": null,
            "height": null,
            "justify_content": null,
            "justify_items": null,
            "left": null,
            "margin": null,
            "max_height": null,
            "max_width": null,
            "min_height": null,
            "min_width": null,
            "object_fit": null,
            "object_position": null,
            "order": null,
            "overflow": null,
            "overflow_x": null,
            "overflow_y": null,
            "padding": null,
            "right": null,
            "top": null,
            "visibility": null,
            "width": null
          }
        },
        "9cdfd893c1f24215955c25f3d8cbb340": {
          "model_module": "@jupyter-widgets/controls",
          "model_name": "DescriptionStyleModel",
          "state": {
            "_model_module": "@jupyter-widgets/controls",
            "_model_module_version": "1.5.0",
            "_model_name": "DescriptionStyleModel",
            "_view_count": null,
            "_view_module": "@jupyter-widgets/base",
            "_view_module_version": "1.2.0",
            "_view_name": "StyleView",
            "description_width": ""
          }
        },
        "6e1fe34385164e1483cd6d97edbc90c3": {
          "model_module": "@jupyter-widgets/controls",
          "model_name": "HBoxModel",
          "state": {
            "_dom_classes": [],
            "_model_module": "@jupyter-widgets/controls",
            "_model_module_version": "1.5.0",
            "_model_name": "HBoxModel",
            "_view_count": null,
            "_view_module": "@jupyter-widgets/controls",
            "_view_module_version": "1.5.0",
            "_view_name": "HBoxView",
            "box_style": "",
            "children": [
              "IPY_MODEL_2974742ce0544dd58d844ec3ea2e5dc9",
              "IPY_MODEL_64bfd89feae445dcaac64c46427aaa5c"
            ],
            "layout": "IPY_MODEL_aade1746ce7345dd9ad8bd18142240a5"
          }
        },
        "2974742ce0544dd58d844ec3ea2e5dc9": {
          "model_module": "@jupyter-widgets/controls",
          "model_name": "FloatProgressModel",
          "state": {
            "_dom_classes": [],
            "_model_module": "@jupyter-widgets/controls",
            "_model_module_version": "1.5.0",
            "_model_name": "FloatProgressModel",
            "_view_count": null,
            "_view_module": "@jupyter-widgets/controls",
            "_view_module_version": "1.5.0",
            "_view_name": "ProgressView",
            "bar_style": "success",
            "description": "",
            "description_tooltip": null,
            "layout": "IPY_MODEL_0c5605551bee42c78b8b82014f79f21f",
            "max": 1,
            "min": 0,
            "orientation": "horizontal",
            "style": "IPY_MODEL_3f447ff62fb248379063bded91a7fe94",
            "value": 1
          }
        },
        "64bfd89feae445dcaac64c46427aaa5c": {
          "model_module": "@jupyter-widgets/controls",
          "model_name": "HTMLModel",
          "state": {
            "_dom_classes": [],
            "_model_module": "@jupyter-widgets/controls",
            "_model_module_version": "1.5.0",
            "_model_name": "HTMLModel",
            "_view_count": null,
            "_view_module": "@jupyter-widgets/controls",
            "_view_module_version": "1.5.0",
            "_view_name": "HTMLView",
            "description": "",
            "description_tooltip": null,
            "layout": "IPY_MODEL_1e001728c1c149388ff7ac9c26d69a3e",
            "placeholder": "​",
            "style": "IPY_MODEL_44939b347e4d4004a3c375edd2aa065f",
            "value": " 250/? [02:20&lt;00:00,  1.78it/s]"
          }
        },
        "aade1746ce7345dd9ad8bd18142240a5": {
          "model_module": "@jupyter-widgets/base",
          "model_name": "LayoutModel",
          "state": {
            "_model_module": "@jupyter-widgets/base",
            "_model_module_version": "1.2.0",
            "_model_name": "LayoutModel",
            "_view_count": null,
            "_view_module": "@jupyter-widgets/base",
            "_view_module_version": "1.2.0",
            "_view_name": "LayoutView",
            "align_content": null,
            "align_items": null,
            "align_self": null,
            "border": null,
            "bottom": null,
            "display": null,
            "flex": null,
            "flex_flow": null,
            "grid_area": null,
            "grid_auto_columns": null,
            "grid_auto_flow": null,
            "grid_auto_rows": null,
            "grid_column": null,
            "grid_gap": null,
            "grid_row": null,
            "grid_template_areas": null,
            "grid_template_columns": null,
            "grid_template_rows": null,
            "height": null,
            "justify_content": null,
            "justify_items": null,
            "left": null,
            "margin": null,
            "max_height": null,
            "max_width": null,
            "min_height": null,
            "min_width": null,
            "object_fit": null,
            "object_position": null,
            "order": null,
            "overflow": null,
            "overflow_x": null,
            "overflow_y": null,
            "padding": null,
            "right": null,
            "top": null,
            "visibility": null,
            "width": null
          }
        },
        "0c5605551bee42c78b8b82014f79f21f": {
          "model_module": "@jupyter-widgets/base",
          "model_name": "LayoutModel",
          "state": {
            "_model_module": "@jupyter-widgets/base",
            "_model_module_version": "1.2.0",
            "_model_name": "LayoutModel",
            "_view_count": null,
            "_view_module": "@jupyter-widgets/base",
            "_view_module_version": "1.2.0",
            "_view_name": "LayoutView",
            "align_content": null,
            "align_items": null,
            "align_self": null,
            "border": null,
            "bottom": null,
            "display": null,
            "flex": null,
            "flex_flow": null,
            "grid_area": null,
            "grid_auto_columns": null,
            "grid_auto_flow": null,
            "grid_auto_rows": null,
            "grid_column": null,
            "grid_gap": null,
            "grid_row": null,
            "grid_template_areas": null,
            "grid_template_columns": null,
            "grid_template_rows": null,
            "height": null,
            "justify_content": null,
            "justify_items": null,
            "left": null,
            "margin": null,
            "max_height": null,
            "max_width": null,
            "min_height": null,
            "min_width": null,
            "object_fit": null,
            "object_position": null,
            "order": null,
            "overflow": null,
            "overflow_x": null,
            "overflow_y": null,
            "padding": null,
            "right": null,
            "top": null,
            "visibility": null,
            "width": null
          }
        },
        "3f447ff62fb248379063bded91a7fe94": {
          "model_module": "@jupyter-widgets/controls",
          "model_name": "ProgressStyleModel",
          "state": {
            "_model_module": "@jupyter-widgets/controls",
            "_model_module_version": "1.5.0",
            "_model_name": "ProgressStyleModel",
            "_view_count": null,
            "_view_module": "@jupyter-widgets/base",
            "_view_module_version": "1.2.0",
            "_view_name": "StyleView",
            "bar_color": null,
            "description_width": "initial"
          }
        },
        "1e001728c1c149388ff7ac9c26d69a3e": {
          "model_module": "@jupyter-widgets/base",
          "model_name": "LayoutModel",
          "state": {
            "_model_module": "@jupyter-widgets/base",
            "_model_module_version": "1.2.0",
            "_model_name": "LayoutModel",
            "_view_count": null,
            "_view_module": "@jupyter-widgets/base",
            "_view_module_version": "1.2.0",
            "_view_name": "LayoutView",
            "align_content": null,
            "align_items": null,
            "align_self": null,
            "border": null,
            "bottom": null,
            "display": null,
            "flex": null,
            "flex_flow": null,
            "grid_area": null,
            "grid_auto_columns": null,
            "grid_auto_flow": null,
            "grid_auto_rows": null,
            "grid_column": null,
            "grid_gap": null,
            "grid_row": null,
            "grid_template_areas": null,
            "grid_template_columns": null,
            "grid_template_rows": null,
            "height": null,
            "justify_content": null,
            "justify_items": null,
            "left": null,
            "margin": null,
            "max_height": null,
            "max_width": null,
            "min_height": null,
            "min_width": null,
            "object_fit": null,
            "object_position": null,
            "order": null,
            "overflow": null,
            "overflow_x": null,
            "overflow_y": null,
            "padding": null,
            "right": null,
            "top": null,
            "visibility": null,
            "width": null
          }
        },
        "44939b347e4d4004a3c375edd2aa065f": {
          "model_module": "@jupyter-widgets/controls",
          "model_name": "DescriptionStyleModel",
          "state": {
            "_model_module": "@jupyter-widgets/controls",
            "_model_module_version": "1.5.0",
            "_model_name": "DescriptionStyleModel",
            "_view_count": null,
            "_view_module": "@jupyter-widgets/base",
            "_view_module_version": "1.2.0",
            "_view_name": "StyleView",
            "description_width": ""
          }
        }
      }
    }
  },
  "cells": [
    {
      "cell_type": "markdown",
      "metadata": {
        "id": "qXkzG-7X7DOa"
      },
      "source": [
        "#**Shrinkage Estimator of Mean of Symmetric Positive Definite (SPD) matrices**\n",
        "\n",
        "Following notebook implements and explores the use of Shrinkage Estimator for Frechet Mean on manifold of Symmetric Positive Definite (SPD) matrices. Shrinkage Estimators are class of estimators that are better than Maximum Likelihood Estimators in terms of error. The Notebook is split into Four Section. In First Section,  We will see about classic James \n",
        "Stein Estimator for euclidean spaces and how it performs significantly better than MLE(empirical mean). In Next Section, we will see about shrinkage estimator on manifold of SPD matrices and see it improves upon on MLE on synthetic dataset. In third section , we will see about novel type of application in Human Action Reconginition. In last section we will see about some of limitations of method. \n",
        "\n",
        "### Table of Contents\n",
        "\n",
        "* [1. Illustration of Shrinkage Estimator in $\\mathbb{R}^n$](#chapter1)\n",
        "    * [1.1 Implementation of Estimator](#section_1_1)\n",
        "    * [1.2 Analysis on Big Data vs Low Data Regime](#Section_1_2)\n",
        "* [2. Illustration of Shrinkage Estimator in $\\text{Sym}_{n}^+$](#chapter1)  \n",
        "    * [1.1 Implementation of Estimator](#section_1_2_1)\n",
        "    * [1.2 Profiling the Code](#Section_1_2)  \n",
        "    * [1.3 Ablation Study](#Section_1_3)\n",
        "    * [1.4 Would-be-nice to have features in Geomstats](#Section_1_4)\n",
        "\n",
        "* [3. Applications ](#chapter2)\n",
        "    * [Section 2.1](#section_2_1)\n",
        "    * [Section 2.2](#section_2_2)\n",
        "\n",
        "* [4. References ](#chapter2)\n",
        "\n",
        "\n",
        "\n",
        "\n"
      ]
    },
    {
      "cell_type": "code",
      "metadata": {
        "id": "enLUkeuyfi94"
      },
      "source": [
        "!pip3 install geomstats"
      ],
      "execution_count": null,
      "outputs": []
    },
    {
      "cell_type": "code",
      "metadata": {
        "id": "XGCeND1of4HF"
      },
      "source": [
        "import numpy as np\n",
        "import geomstats.geometry.spd_matrices as spd\n",
        "import geomstats.backend as gs\n",
        "from sklearn.metrics import mean_squared_error\n",
        "from scipy.stats import invwishart\n",
        "import scipy.optimize as optimize\n",
        "from tqdm.notebook import tqdm\n",
        "import matplotlib.pyplot as plt\n",
        "import seaborn as sns\n",
        "sns.set()"
      ],
      "execution_count": null,
      "outputs": []
    },
    {
      "cell_type": "markdown",
      "metadata": {
        "id": "ikrXDJFxyTz1"
      },
      "source": [
        "##**Illustration of James Stein Estimator in $\\mathbb{R}^n$**\n",
        "\n",
        "James and Stein showed that there exists class of estimators that  have less quadratic error than Maximum Likelihood Estimator (MLE) for mean of Normal distribution. Specifically assuming $X_i \\sim \\mathcal{N}(\\mu_i , \\sigma^2)$ and assuming $\\sigma^2$ is known the estimator\n",
        "\n",
        "$$X_{\\text{js}} = \\left( 1- \\frac{(d-2)\\sigma^2}{N\\overline{X}} \\right)\\overline{X} , \\text{ where } \\overline{X} = \\frac{1}{N} \\sum_{i=1}^N X_i$$\n",
        "\n",
        "dominates $X_{\\text{mle}} =  \\frac{1}{N} \\sum_{i=1}^N X_i $, when $d \\geq 3$. Note that  assumption $\\sigma^2$ is known can be relaxed. By using substituting $\\sigma^2$ with $\\text{mle}$, one does get similar result."
      ]
    },
    {
      "cell_type": "code",
      "metadata": {
        "id": "aKClTHVhWqTb"
      },
      "source": [
        "\n",
        "\n",
        "def generate_data(N,d):\n",
        "  \"\"\"\n",
        "  N : number of data points\n",
        "  m : dimension of each data point\n",
        "  \"\"\"\n",
        " \n",
        "  means = np.full((d), 0)\n",
        "  sigmas = np.full((d),1)\n",
        "  data = np.random.normal(means,sigmas,(N,d))\n",
        "  return data,means,sigmas\n"
      ],
      "execution_count": null,
      "outputs": []
    },
    {
      "cell_type": "code",
      "metadata": {
        "id": "dYdokpuMV6ro"
      },
      "source": [
        "def mle_and_jse(data):\n",
        "  \"\"\"\n",
        "    data : numpy array\n",
        "    Returns\n",
        "    mle : Maximum Likeilhood Estimator\n",
        "    jse : James Stein Estimator\n",
        "  \"\"\"\n",
        "\n",
        "  mle = data.mean(axis = 0)\n",
        "  N = data.shape[0]\n",
        "  d = data.shape[1]\n",
        "  jse_coeff = (1-(d-2)/(N*np.linalg.norm(mle)**2))\n",
        "  jse = jse_coeff * mle\n",
        "  return mle,jse"
      ],
      "execution_count": null,
      "outputs": []
    },
    {
      "cell_type": "code",
      "metadata": {
        "id": "HqfH6w3NvRmp"
      },
      "source": [
        "def get_rmse(data,mean,sigma):\n",
        "  \n",
        "  mle,jse = mle_and_jse(data)\n",
        "  mle_rmse = mean_squared_error(mle,mean,squared=False)\n",
        "  jse_rmse = mean_squared_error(jse,mean,squared=False)\n",
        "  return mle_rmse,jse_rmse"
      ],
      "execution_count": null,
      "outputs": []
    },
    {
      "cell_type": "code",
      "metadata": {
        "colab": {
          "base_uri": "https://localhost:8080/"
        },
        "id": "68IBeogigoed",
        "outputId": "e78c395e-ea70-4682-9722-94f096daeb9c"
      },
      "source": [
        "N = 10000\n",
        "d = 10000\n",
        "data,mean,sigma = generate_data(N,d)\n",
        "mle_rmse, jse_rmse =  get_rmse(data,mean,sigma)\n",
        "print(\"RMSE for Maximum Likelihood Estimator\" , mle_rmse)\n",
        "print(\"RMSE for James Stein Estimator\" , jse_rmse)\n",
        "print(\"Improvement\", mle_rmse/jse_rmse)"
      ],
      "execution_count": null,
      "outputs": [
        {
          "output_type": "stream",
          "text": [
            "RMSE for Maximum Likelihood Estimator 0.009949317889297217\n",
            "RMSE for James Stein Estimator 9.961220947382957e-05\n",
            "Improvement 99.88050603285868\n"
          ],
          "name": "stdout"
        }
      ]
    },
    {
      "cell_type": "markdown",
      "metadata": {
        "id": "5WtCd2Mbukap"
      },
      "source": [
        "Analysis of Big-data and Low-data regime"
      ]
    },
    {
      "cell_type": "code",
      "metadata": {
        "id": "1znesWOPtbR3"
      },
      "source": [
        "def analysis(Ns,ds):\n",
        "  \n",
        "  scores = np.zeros((len(ds),len(Ns)))\n",
        "  for i,d in tqdm(enumerate(ds)):\n",
        "    for j,N in tqdm(enumerate(Ns)):\n",
        "      data,mean,sigma = generate_data(N,d)\n",
        "      mle,jse = mle_and_jse(data)\n",
        "      mle_rmse = mean_squared_error(mle,mean,squared=False)\n",
        "      jse_rmse = mean_squared_error(jse,mean,squared=False)\n",
        "      scores[i,j] = mle_rmse/jse_rmse\n",
        "\n",
        "  return scores\n",
        "  \n"
      ],
      "execution_count": null,
      "outputs": []
    },
    {
      "cell_type": "code",
      "metadata": {
        "colab": {
          "base_uri": "https://localhost:8080/",
          "height": 281,
          "referenced_widgets": [
            "7895e14e14b74ec5be1b7b464958e420",
            "e48bacc2fff945d8bbda09d6d9dff07f",
            "5b8c09ce69d240739e650efa0251651f",
            "b1f303d28b824f7bb8ae5acc82a9b804",
            "1dff757445b940b1b4deb065c4e83a83",
            "05be58c19c3543fc92c56137f22c96d7",
            "0184de96e6fb461cafabaa487dc20c5a",
            "62cefc8400ba4d0dbcde4ed977edac38",
            "2be460e87ce6411782b26a7d248323ec",
            "7dc8d8b252dc4170bccf3d49f3021859",
            "42ad77a225084de29da142e10b2d75a3",
            "2890e37aeca545c2b280c22614986612",
            "b8d0ef94ea6840e9a4281794fecabf0d",
            "0b789698c78d4453b5b9b0c8cef23d51",
            "93d51411841049c486214bc08550557c",
            "ded4ac4f141d4589a03f7e976ad14779",
            "bca178d82479415db247b8edca31ce00",
            "155bb4a4a1aa4af3ac7d8241440fdfe0",
            "524d3655e4ef4bf2bf05270b70e13b3c",
            "001daa4b6a6649dfb15631ad2f62cda4",
            "dec9bf9b12684bb1b44033a48da0f2ca",
            "a5dcf7cef6d846519c5483ebd54f5689",
            "4b15237aba1b4982ab55d55aaf1f6fcb",
            "996d9df1dda940b5b8cb06f4621c70f4",
            "5f6e37dea0f24e6aa03651c1acaea315",
            "efa52b1828aa4e71acad7e0c8bf63b90",
            "15d3619d564e4b97a660a40faffb8247",
            "e4e2b02208624a36bf138cdda9719dd9",
            "dfa54383f7f64534b03dda3ee2d5702e",
            "fbc81fee309748069a566d353bbfb00d",
            "0d36d3f495d04c449e06c3473ae0009f",
            "9cdfd893c1f24215955c25f3d8cbb340",
            "6e1fe34385164e1483cd6d97edbc90c3",
            "2974742ce0544dd58d844ec3ea2e5dc9",
            "64bfd89feae445dcaac64c46427aaa5c",
            "aade1746ce7345dd9ad8bd18142240a5",
            "0c5605551bee42c78b8b82014f79f21f",
            "3f447ff62fb248379063bded91a7fe94",
            "1e001728c1c149388ff7ac9c26d69a3e",
            "44939b347e4d4004a3c375edd2aa065f"
          ]
        },
        "id": "2PDOG0tJ0Z92",
        "outputId": "8efe7353-cb74-4df2-82ee-6b5f61dd23c6"
      },
      "source": [
        "# Ns = np.arange(10,50000*2,400)\n",
        "# print(len(Ns))\n",
        "# ds = [1000,100,10,5]\n",
        "# scores = analysis(Ns,ds)"
      ],
      "execution_count": null,
      "outputs": [
        {
          "output_type": "stream",
          "text": [
            "250\n"
          ],
          "name": "stdout"
        },
        {
          "output_type": "display_data",
          "data": {
            "application/vnd.jupyter.widget-view+json": {
              "model_id": "7895e14e14b74ec5be1b7b464958e420",
              "version_major": 2,
              "version_minor": 0
            },
            "text/plain": [
              "HBox(children=(FloatProgress(value=1.0, bar_style='info', max=1.0), HTML(value='')))"
            ]
          },
          "metadata": {
            "tags": []
          }
        },
        {
          "output_type": "display_data",
          "data": {
            "application/vnd.jupyter.widget-view+json": {
              "model_id": "2be460e87ce6411782b26a7d248323ec",
              "version_major": 2,
              "version_minor": 0
            },
            "text/plain": [
              "HBox(children=(FloatProgress(value=1.0, bar_style='info', max=1.0), HTML(value='')))"
            ]
          },
          "metadata": {
            "tags": []
          }
        },
        {
          "output_type": "stream",
          "text": [
            "\n"
          ],
          "name": "stdout"
        },
        {
          "output_type": "display_data",
          "data": {
            "application/vnd.jupyter.widget-view+json": {
              "model_id": "bca178d82479415db247b8edca31ce00",
              "version_major": 2,
              "version_minor": 0
            },
            "text/plain": [
              "HBox(children=(FloatProgress(value=1.0, bar_style='info', max=1.0), HTML(value='')))"
            ]
          },
          "metadata": {
            "tags": []
          }
        },
        {
          "output_type": "stream",
          "text": [
            "\n"
          ],
          "name": "stdout"
        },
        {
          "output_type": "display_data",
          "data": {
            "application/vnd.jupyter.widget-view+json": {
              "model_id": "5f6e37dea0f24e6aa03651c1acaea315",
              "version_major": 2,
              "version_minor": 0
            },
            "text/plain": [
              "HBox(children=(FloatProgress(value=1.0, bar_style='info', max=1.0), HTML(value='')))"
            ]
          },
          "metadata": {
            "tags": []
          }
        },
        {
          "output_type": "stream",
          "text": [
            "\n"
          ],
          "name": "stdout"
        },
        {
          "output_type": "display_data",
          "data": {
            "application/vnd.jupyter.widget-view+json": {
              "model_id": "6e1fe34385164e1483cd6d97edbc90c3",
              "version_major": 2,
              "version_minor": 0
            },
            "text/plain": [
              "HBox(children=(FloatProgress(value=1.0, bar_style='info', max=1.0), HTML(value='')))"
            ]
          },
          "metadata": {
            "tags": []
          }
        },
        {
          "output_type": "stream",
          "text": [
            "\n",
            "\n"
          ],
          "name": "stdout"
        }
      ]
    },
    {
      "cell_type": "markdown",
      "metadata": {
        "id": "3rNwvlcxRQp-"
      },
      "source": [
        "Following plots show that Improvement of James Stein Estimator (Improvement = $\\frac{\\text{RMSE of MLE estimator}}{\\text{RMSE of JS estimator}}$ ) for Dimensions $(d=5,10,100,100)$ and varying $N$ from $10$ to $1000,000$ in steps of $400$"
      ]
    },
    {
      "cell_type": "markdown",
      "metadata": {
        "id": "ld6s_vUsQ9mU"
      },
      "source": [
        "![download (3).png](data:image/png;base64,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)\n",
        "\n",
        "![download (2).png](data:image/png;base64,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)\n",
        "![download (1).png](data:image/png;base64,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)\n",
        "![download (4).png](data:image/png;base64,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)"
      ]
    },
    {
      "cell_type": "markdown",
      "metadata": {
        "id": "PhlAey4xTHqH"
      },
      "source": [
        "##**Illustration of Shrinkage Estimator in $\\text{Sym}_{+}^{n}$** \n"
      ]
    },
    {
      "cell_type": "code",
      "metadata": {
        "id": "SV2E5JnCjIHJ"
      },
      "source": [
        "def logm(spd_mats):\n",
        "  \"\"\"\n",
        "  could be two_dim,three_dim,four_dim\n",
        "  spd_matrix : [n,n] , [p,n,n] , [p,N,n,n]\n",
        "\n",
        "  Returns:\n",
        "  ------------\n",
        "  return logm_m\n",
        "  \"\"\"\n",
        "\n",
        "  n = spd_mats.shape[-1]\n",
        "  SPDmanifold = spd.SPDMatrices(n)\n",
        "  if spd_mats.ndim == 2 or spd_mats.ndim == 3 :\n",
        "    log_m = SPDmanifold.logm(spd_mats)\n",
        "  elif spd_mats.ndim == 4:\n",
        "    p,N = spd_mats.shape[0] , spd_mats.shape[1]\n",
        "    log_m = (SPDmanifold.logm(spd_mats.reshape(-1,n,n))).reshape(p,N,n,n) \n",
        "  else :\n",
        "    print(\"error exception!!!\")  \n",
        "    log_m = None\n",
        "  \n",
        "  return log_m"
      ],
      "execution_count": null,
      "outputs": []
    },
    {
      "cell_type": "code",
      "metadata": {
        "id": "NmdfkRlNl95P"
      },
      "source": [
        "\n",
        "def expm(spd_mats):\n",
        "  \"\"\"\n",
        "  could be two_dim,three_dim,four_dim\n",
        "  spd_matrix : [n,n] , [p,n,n] , [p,N,n,n]\n",
        "\n",
        "  Returns:\n",
        "  ------------\n",
        "  return exp_m\n",
        "  \"\"\"\n",
        "\n",
        "  n = spd_mats.shape[-1]\n",
        "  SPDmanifold = spd.SPDMatrices(n)\n",
        "  if spd_mats.ndim == 2 or spd_mats.ndim == 3 :\n",
        "    exp_m = SPDmanifold.expm(spd_mats)\n",
        "  elif spd_mats.ndim == 4:\n",
        "    p,N = spd_mats.shape[0] , spd_mats.shape[1]\n",
        "    exp_m = (SPDmanifold.expm(spd_mats.reshape(-1,n,n))).reshape(p,N,n,n) \n",
        "  else :\n",
        "    print(\"error exception!!!\")  \n",
        "    exp_m = None\n",
        "  \n",
        "  return exp_m"
      ],
      "execution_count": null,
      "outputs": []
    },
    {
      "cell_type": "code",
      "metadata": {
        "id": "8aFTlDCCJNCe"
      },
      "source": [
        "#isometric embedding of SPD(n) matrix in R^{n(n+1)/2}\n",
        "\n",
        "def SPD_to_Euclidean(spd_matrix):\n",
        "  \"\"\"\n",
        "    spd_matrix : Symmetric positive definite matrix\n",
        "\n",
        "    Returns: numpy array of dimension (n(n+1)/2,)\n",
        "    Isometric Embedding of n x n Symmetric positive definite matrix in R^{n(n+1)/2} \n",
        "  \"\"\" \n",
        "  n = spd_matrix.shape[0]\n",
        "  sym_matrix = logm(spd_matrix)\n",
        "  diag = np.diag(sym_matrix)\n",
        "  uppTri = np.sqrt(2)*sym_matrix[np.triu_indices_from(sym_matrix, k=1)]\n",
        "  vecd =  np.hstack((diag,uppTri))\n",
        "  return vecd\n"
      ],
      "execution_count": null,
      "outputs": []
    },
    {
      "cell_type": "code",
      "metadata": {
        "id": "HRY5LfALTC9W"
      },
      "source": [
        "#isometric embedding of R^{n(n+1)/2} matrix in SPD(n)\n",
        "\n",
        "def Euclidean_to_SPD(euclidean_vec):\n",
        "  \"\"\"\n",
        "    eucliden_vec : Euclidean column vector\n",
        "\n",
        "    Returns: [n,n]\n",
        "    Isometric Embedding of R^{n(n+1)/2} into n x n symmetric definite matrix\n",
        "  \"\"\"\n",
        "  q = euclidean_vec.shape[0]\n",
        "  n = (int)((- 1 + np.sqrt(1+8*q))/2)\n",
        "  diag = euclidean_vec[:n]\n",
        "  off_diag = euclidean_vec[n:]/(np.sqrt(2))\n",
        "  sym_matrix = np.diag(diag)\n",
        "  i,j = np.triu_indices_from(sym_matrix, k=1)\n",
        "  sym_matrix[i,j] = off_diag\n",
        "  sym_matrix[j,i] = off_diag\n",
        "  spd_matrix = expm(sym_matrix)\n",
        "  return spd_matrix\n"
      ],
      "execution_count": null,
      "outputs": []
    },
    {
      "cell_type": "code",
      "metadata": {
        "id": "J1OQCgqth9x_"
      },
      "source": [
        "#samples SPD matrices according to log-normal distribution with mean 'mean' and covariance 'cov'\n",
        "\n",
        "def log_normal_sampling(mean,cov,sample_size=1):\n",
        "  \"\"\"\n",
        "    mean : SPD matrix n x n\n",
        "    cov  : SPD matrix n(n+1)/2 x n(n+1)/2 \n",
        "\n",
        "    Returns:\n",
        "    list of SPD matrices of size 'sample_size' \n",
        "\n",
        "    TODO\n",
        "    vectorize conversion part\n",
        "  \"\"\"\n",
        " \n",
        "  mean_euclidean = SPD_to_Euclidean(mean)\n",
        "  samples_spd = []\n",
        "  manifold = spd.SPDMatrices(mean.shape[0])\n",
        "  samples_euclidean = np.random.multivariate_normal(mean_euclidean, cov, sample_size)\n",
        "  for i in range(sample_size):\n",
        "    sample_spd = Euclidean_to_SPD(samples_euclidean[i])\n",
        "    samples_spd.append(sample_spd)\n",
        "    \n",
        "  samples_spd = np.array(samples_spd) \n",
        "  return samples_spd if (gs.all(manifold.belongs(samples_spd))) else None"
      ],
      "execution_count": null,
      "outputs": []
    },
    {
      "cell_type": "code",
      "metadata": {
        "colab": {
          "base_uri": "https://localhost:8080/"
        },
        "id": "52iq7wnoHI3a",
        "outputId": "56101cae-e8cb-4ac0-fa9a-8cbf5f7fec1f"
      },
      "source": [
        "# testing the embeddings between SPD and euclidean\n",
        "\n",
        "mat = 4*np.array([[2,-1,0],[-1,2,-1],[0,-1,2]])\n",
        "euclidean = SPD_to_Euclidean(mat) \n",
        "spd_mat = Euclidean_to_SPD(euclidean)\n",
        "print(\"Original matrix\\n\" , mat)\n",
        "print(\"Embedding of the Matrix\\n\", euclidean.shape)\n",
        "print(\"Back to SPD space\\n\" , spd_mat)"
      ],
      "execution_count": null,
      "outputs": [
        {
          "output_type": "stream",
          "text": [
            "Original matrix\n",
            " [[ 8 -4  0]\n",
            " [-4  8 -4]\n",
            " [ 0 -4  8]]\n",
            "Embedding of the Matrix\n",
            " (6,)\n",
            "Back to SPD space\n",
            " [[ 8.00000000e+00 -4.00000000e+00  7.73346434e-15]\n",
            " [-4.00000000e+00  8.00000000e+00 -4.00000000e+00]\n",
            " [ 7.60339362e-15 -4.00000000e+00  8.00000000e+00]]\n"
          ],
          "name": "stdout"
        }
      ]
    },
    {
      "cell_type": "code",
      "metadata": {
        "colab": {
          "base_uri": "https://localhost:8080/"
        },
        "id": "HYQhsoWqUny6",
        "outputId": "4114c546-2231-4e09-daed-290ec63d67a1"
      },
      "source": [
        "#sampling from log_normal distribution\n",
        "sample_size = 5*2000\n",
        "mean = 4*np.array([[2,-1,0],[-1,2,-1],[0,-1,2]])\n",
        "q    = (int)((mean.shape[0] * (mean.shape[0] + 1))/2)\n",
        "cov  = np.eye(q)\n",
        "samples = log_normal_sampling(mean,cov,sample_size)\n",
        "print(samples.shape)\n",
        "if samples is not None :\n",
        "  print(samples)\n",
        "else:\n",
        "  print(\"some error has occured!\")  \n"
      ],
      "execution_count": null,
      "outputs": [
        {
          "output_type": "stream",
          "text": [
            "(10000, 3, 3)\n",
            "[[[ 47.51797072 -19.12293874 -23.24550297]\n",
            "  [-19.12293874   9.29655927   9.49378361]\n",
            "  [-23.24550297   9.49378361  27.05790949]]\n",
            "\n",
            " [[  5.79301035   0.29872223  -4.78683185]\n",
            "  [  0.29872223   8.18120528  -6.37497042]\n",
            "  [ -4.78683185  -6.37497042  10.08040447]]\n",
            "\n",
            " [[  3.22543155  -1.4207885   -0.65984121]\n",
            "  [ -1.4207885    1.76255434  -1.20010722]\n",
            "  [ -0.65984121  -1.20010722   4.80327306]]\n",
            "\n",
            " ...\n",
            "\n",
            " [[  9.5695908  -15.28653007  -1.48120116]\n",
            "  [-15.28653007 108.04446934 -12.61856526]\n",
            "  [ -1.48120116 -12.61856526   3.8081477 ]]\n",
            "\n",
            " [[ 23.24133276   5.46154775 -13.39580329]\n",
            "  [  5.46154775  12.06013335 -16.03495265]\n",
            "  [-13.39580329 -16.03495265  25.77976077]]\n",
            "\n",
            " [[ 13.90956547   3.78551998  10.11430097]\n",
            "  [  3.78551998  15.45059523  -6.35096124]\n",
            "  [ 10.11430097  -6.35096124  20.47834469]]]\n"
          ],
          "name": "stdout"
        }
      ]
    },
    {
      "cell_type": "code",
      "metadata": {
        "id": "6D5K-rLpR9FU"
      },
      "source": [
        "#given N SPD matrices, computes frechet mean using Log Euclidean Metric using closed form\n",
        "\n",
        "def frechet_mean_LE(spd_matrices):\n",
        "  \"\"\"\n",
        "  Parameters:\n",
        "  ------------\n",
        "  spd_matrices : array of spd_matrices\n",
        "\n",
        "  Returns\n",
        "  ------------\n",
        "  mean  : array\n",
        "  \"\"\"\n",
        "  n = spd_matrices.shape[1]\n",
        "  log_samples = logm(spd_matrices)\n",
        "  log_mean = log_samples.mean(axis=0)\n",
        "  mean = expm(log_mean)\n",
        "  return mean\n",
        "\n",
        "\n"
      ],
      "execution_count": null,
      "outputs": []
    },
    {
      "cell_type": "code",
      "metadata": {
        "id": "fTgCuG5hyfJE"
      },
      "source": [
        "def batch_frechet_mean_LE(spd_mats):\n",
        "  \"\"\"\n",
        "    spd_mats : [p,N,n,n]\n",
        "    \n",
        "    Returns\n",
        "    ---------\n",
        "    fms : frechet means shape [p,n,n]\n",
        "  \"\"\"\n",
        "\n",
        "  p,N,n = spd_mats.shape[0],spd_mats.shape[1],spd_mats.shape[2]\n",
        "  logs  = logm(spd_mats)\n",
        "  mean  = logs.mean(axis=1)  #[p,n,n]\n",
        "  fms   = expm(mean)    #[p,n,n]\n",
        "  return fms"
      ],
      "execution_count": null,
      "outputs": []
    },
    {
      "cell_type": "code",
      "metadata": {
        "id": "03A_I-Fr9OI2"
      },
      "source": [
        "def emp_cov(spd_matrices):\n",
        "  \"\"\"\n",
        "    spd_matrices : array of spd_matrices\n",
        "    Returns: [N,n,n]\n",
        "    --------\n",
        "    Emperical Covariance of euclidean embeddings of spd_matrices\n",
        "  \"\"\"\n",
        "\n",
        "  N = spd_matrices.shape[0]\n",
        "  euclidean_embeddings = [] \n",
        "  fm = frechet_mean_LE(spd_matrices)\n",
        "  euclidean_fm = SPD_to_Euclidean(fm)\n",
        "  for spd_mat in spd_matrices:\n",
        "    euclidean_embedding = SPD_to_Euclidean(spd_mat)\n",
        "    euclidean_embeddings.append(euclidean_embedding)\n",
        "\n",
        "  euclidean_embeddings = np.array(euclidean_embeddings)  #(N,m)\n",
        "  centered_embeddings  = euclidean_embeddings-euclidean_fm #(N,)\n",
        "  emp_cov = np.einsum('ij,ik->jk',centered_embeddings,centered_embeddings)\n",
        "  normalized_cov = emp_cov/N + (1e-9)*np.eye(emp_cov.shape[-1])\n",
        "\n",
        "  manifold = spd.SPDMatrices(emp_cov.shape[0])\n",
        "  return normalized_cov if gs.all(manifold.belongs(emp_cov)) else None"
      ],
      "execution_count": null,
      "outputs": []
    },
    {
      "cell_type": "code",
      "metadata": {
        "colab": {
          "base_uri": "https://localhost:8080/"
        },
        "id": "9Gt1FIRw_dw2",
        "outputId": "402df1b9-8821-4eb9-f193-c923cd60b176"
      },
      "source": [
        "fm = batch_frechet_mean_LE(samples[None])\n",
        "print(fm)"
      ],
      "execution_count": null,
      "outputs": [
        {
          "output_type": "stream",
          "text": [
            "[[[ 8.05013502 -4.05960302 -0.0458929 ]\n",
            "  [-4.05960302  8.06839404 -3.9946581 ]\n",
            "  [-0.0458929  -3.9946581   8.06360656]]]\n"
          ],
          "name": "stdout"
        }
      ]
    },
    {
      "cell_type": "code",
      "metadata": {
        "colab": {
          "base_uri": "https://localhost:8080/"
        },
        "id": "QETpjAukjcJJ",
        "outputId": "e0d4645e-d2da-4565-9e18-b607a452a577"
      },
      "source": [
        "fm = frechet_mean_LE(samples)\n",
        "print(fm)"
      ],
      "execution_count": null,
      "outputs": [
        {
          "output_type": "stream",
          "text": [
            "[[ 8.05013502 -4.05960302 -0.0458929 ]\n",
            " [-4.05960302  8.06839404 -3.9946581 ]\n",
            " [-0.0458929  -3.9946581   8.06360656]]\n"
          ],
          "name": "stdout"
        }
      ]
    },
    {
      "cell_type": "code",
      "metadata": {
        "colab": {
          "base_uri": "https://localhost:8080/"
        },
        "id": "PP8dLDfw4nF1",
        "outputId": "823b4f24-fe8e-4184-b262-43ba489cb996"
      },
      "source": [
        "ec = emp_cov(samples)\n",
        "if ec is not None:\n",
        "  print(ec.shape)\n",
        "  print(ec)\n",
        "else :\n",
        "  print(\"Not Positive Definite! Error\")  "
      ],
      "execution_count": null,
      "outputs": [
        {
          "output_type": "stream",
          "text": [
            "(6, 6)\n",
            "[[ 1.00969489e+00 -1.64540478e-02  8.56520583e-04 -5.78645694e-03\n",
            "   1.34100294e-02  4.96436284e-03]\n",
            " [-1.64540478e-02  1.01736144e+00  7.71105676e-03  7.72131953e-03\n",
            "  -2.83596934e-03  1.70607003e-02]\n",
            " [ 8.56520583e-04  7.71105676e-03  9.81065311e-01  6.91907426e-03\n",
            "  -2.36388233e-02 -8.74618949e-03]\n",
            " [-5.78645694e-03  7.72131953e-03  6.91907426e-03  9.95143776e-01\n",
            "  -1.70689166e-03  7.66627804e-03]\n",
            " [ 1.34100294e-02 -2.83596934e-03 -2.36388233e-02 -1.70689166e-03\n",
            "   1.01010976e+00 -1.33832841e-04]\n",
            " [ 4.96436284e-03  1.70607003e-02 -8.74618949e-03  7.66627804e-03\n",
            "  -1.33832841e-04  9.91253380e-01]]\n"
          ],
          "name": "stdout"
        }
      ]
    },
    {
      "cell_type": "markdown",
      "metadata": {
        "id": "kA79Btr84rdp"
      },
      "source": [
        "##**Generative Model for Synthetic Data**\n",
        "\n",
        "$\\Sigma_i \\sim \\text{Inv-Wishart}(\\Psi,\\nu) \\,\\,i = 1,\\dots,p$ \n",
        "\n",
        "$M_{i}|\\Sigma_i \\sim \\text{LN}(\\boldsymbol{\\mu},\\lambda^{-1}\\Sigma_i) , i=1,\\dots,p$\n",
        "\n",
        "$X_{ij}|(\\text{M}_{i},\\Sigma_i) \\sim \\text{LN}(\\text{M}_{i} , \\Sigma_i) , i=1,\\dots,p  \\text{ and } j=1,\\dots,n$\n",
        "\n",
        "\n",
        "where $\\Psi ,\\boldsymbol{\\mu},M_{i},X_{ij}\\in P_{N} $ and $ \\nu > N-1$ and $\\lambda>0$ "
      ]
    },
    {
      "cell_type": "code",
      "metadata": {
        "id": "txhN69U0NqjT"
      },
      "source": [
        "def Synthetic_Data(mu,psi,nu,L,p,N):\n",
        "  \"\"\"\n",
        "    mu: PSD matrix (n,n) psi : PSD matrix (n*(n+1))/2 x (n*(n+1))/2\n",
        "    p: real number , N : real number , nu: real number\n",
        "\n",
        "    Returns\n",
        "    --------\n",
        "    X : numpy array shape : (p,N,n,n)\n",
        "  \"\"\"\n",
        "\n",
        "  # if not check_constraints(mu,psi,p,N,nu,L): \n",
        "  #   print(\"Parameters are not valid! Error!\")\n",
        "  #   return None\n",
        "\n",
        "  #generate covariance matrix required\n",
        "  sigmas = invwishart.rvs(df=nu,scale=psi,size=p)\n",
        "  if sigmas.ndim == 2:\n",
        "    sigmas = sigmas[None]\n",
        "\n",
        "  scaled_sigmas = sigmas/L\n",
        "  Ms = []\n",
        "  for i in range(p):\n",
        "    M_i = log_normal_sampling(mu,scaled_sigmas[i],sample_size=1)\n",
        "    Ms.append(M_i)\n",
        "  Ms = np.vstack(Ms) \n",
        "  X = []\n",
        "  for i in range(p):\n",
        "    X_i = log_normal_sampling(Ms[i],sigmas[i],sample_size=N)\n",
        "    X.append(X_i)\n",
        "  X = np.array(X) #[p,N,n,n]\n",
        "  return X,Ms\n"
      ],
      "execution_count": null,
      "outputs": []
    },
    {
      "cell_type": "code",
      "metadata": {
        "id": "2zre2sLxk9nj"
      },
      "source": [
        "def LE_error(est,true):\n",
        "  \"\"\"\n",
        "  est  : [p,n,n]\n",
        "  true : [p,n,n]\n",
        "\n",
        "  Returns\n",
        "  -------------\n",
        "  returns Average LogEculidean Error between two matrices\n",
        "  \"\"\"\n",
        "\n",
        "  diff  = logm(est) - logm(true)\n",
        "  mean_error = np.trace(np.matmul(diff,diff),axis1=1,axis2=2).mean()\n",
        "  return mean_error"
      ],
      "execution_count": null,
      "outputs": []
    },
    {
      "cell_type": "code",
      "metadata": {
        "id": "5H92sM3HTFkl"
      },
      "source": [
        "def get_MLE_Error(data,true):\n",
        "  \"\"\"\n",
        "  data : [p,N,n,n]\n",
        "  -----------\n",
        "  Returns : Computers MLE and returns the error \n",
        "  \"\"\"\n",
        "  n = data.shape[2]\n",
        "  fms = batch_frechet_mean_LE(data) #[p,n,n]\n",
        "  return LE_error(fms,true)"
      ],
      "execution_count": null,
      "outputs": []
    },
    {
      "cell_type": "code",
      "metadata": {
        "colab": {
          "base_uri": "https://localhost:8080/"
        },
        "id": "UckWpVKylOEl",
        "outputId": "cddd9ffc-3ae0-47f8-f3aa-13faf72238b0"
      },
      "source": [
        "mu = np.eye(3)\n",
        "psi = np.eye(6)\n",
        "nu = 15\n",
        "L = 50\n",
        "p = 500\n",
        "N = 7\n",
        "\n",
        "data,Ms = Synthetic_Data(mu,psi,nu,L,p,N)\n",
        "print(\"Means shape\",Ms.shape)\n",
        "print(\"Data shape\",data.shape)  "
      ],
      "execution_count": null,
      "outputs": [
        {
          "output_type": "stream",
          "text": [
            "Means shape (500, 3, 3)\n",
            "Data shape (500, 7, 3, 3)\n",
            "FM LE 0.10621373284342181\n"
          ],
          "name": "stdout"
        }
      ]
    },
    {
      "cell_type": "code",
      "metadata": {
        "id": "qKhJL6CXosq8"
      },
      "source": [
        "def sum_dist(X,mu):\n",
        "  \"\"\"\n",
        "  X : (p,n,n)\n",
        "  mu : (n,n)\n",
        "  \"\"\"\n",
        "  p,n= X.shape[0],X.shape[1]\n",
        "  log_X   = logm(X)\n",
        "  log_mu  = logm(mu)\n",
        "  diff    = log_X - log_mu[None]\n",
        "  sum_LE  = np.trace(np.matmul(diff,diff),axis1=1,axis2=2).sum()\n",
        "  return sum_LE"
      ],
      "execution_count": null,
      "outputs": []
    },
    {
      "cell_type": "code",
      "metadata": {
        "id": "Li803FgaZzOX"
      },
      "source": [
        "def intialization(data,covs):\n",
        "  \"\"\"\n",
        "  data : [p,N,n,n]\n",
        "  covs : [p,n,n]\n",
        "  Returns:\n",
        "  --------\n",
        "  x : numpy array with all parameters in single vector\n",
        "  \"\"\"\n",
        "\n",
        "  #useful_terms \n",
        "  p,N,n = data.shape[0],data.shape[1],data.shape[2]\n",
        "  q = (n*(n+1))/2\n",
        "  sum_cov = covs.sum(axis=0) #[n,n]\n",
        "\n",
        "\n",
        "  #mu_0 is frecht mean of frechet means\n",
        "  fms = batch_frechet_mean_LE(data) #[p,n,n]\n",
        "  mu_0 = frechet_mean_LE(fms)  #[n,n]\n",
        "\n",
        "\n",
        "  #L_0 \n",
        "  num_coeff = N/p\n",
        "  _sum_dist = sum_dist(fms,mu_0)\n",
        "  num = num_coeff * _sum_dist\n",
        "  term1 = (N/((N-1)*(p))) * np.trace(covs, axis1=1, axis2=2).sum()\n",
        "  term2 =   _sum_dist/p\n",
        "  denom = term1 - term2\n",
        "  L_0 = num/denom\n",
        "  \n",
        "\n",
        "  #nu_0\n",
        "  sum_inv_cov = np.linalg.inv(covs).sum(axis=0)\n",
        "  trace_terms = np.einsum(\"ij,ji\", sum_cov, sum_inv_cov) # tr(A,B)\n",
        "  trace_coeff = (N-q-2)/(p**2 * q * (N-1))\n",
        "  num = q+1\n",
        "  denom = (trace_terms)*(trace_coeff) - 1\n",
        "  term1 = num/denom\n",
        "  term2 = q+1\n",
        "  nu_0 = term1 + term2\n",
        "\n",
        "\n",
        "  #psi_0\n",
        "  coeff = (nu_0-q-1)/(p*(N-1))\n",
        "  psi_0 = coeff * sum_cov\n",
        "\n",
        "  theta = np.hstack((  L_0 , psi_0.ravel(), nu_0 , mu_0.ravel()  ) )\n",
        "\n",
        "  # print(\"mean\" , mu_0)\n",
        "  # print(\"L_0\" , L_0)\n",
        "  # print(\"nu_0\" , nu_0)\n",
        "  # print(\"psi_0\", psi_0)\n",
        "  #print(\"theta\" , theta)\n",
        "  return theta\n"
      ],
      "execution_count": null,
      "outputs": []
    },
    {
      "cell_type": "markdown",
      "metadata": {
        "id": "QKuE8O66R1mm"
      },
      "source": [
        " **parameters of optimization**\n",
        "\n",
        "$\\lambda : $ scalar $\\hspace{2.8cm}$ constraint : $\\lambda >0$ $\\hspace{1.9cm}$ $\\lambda = x[:1]$\n",
        "\n",
        "$\\Psi : \\frac{n(n+1)}{2} \\times \\frac{n(n+1)}{2}  \\hspace{0.6cm} $ constraint : SPD matrix $\\hspace{1cm}$ $\\Psi = x[1:q]$\n",
        "\n",
        "$\\nu : $ scalar  $\\hspace{2.8cm}$ constriant $ :\\nu \\geq q$ $\\hspace{1.9cm}$ $\\nu = x[q+1:q+2]$\n",
        "\n",
        "$\\mu : n \\times n \\hspace{2.8cm}$  constraint : SPD matrix $\\hspace{1cm}$ $\\mu = x[q+2:]$\n",
        "\n",
        "\n",
        "**parameter vector x**\n",
        "\n",
        "number of parameters $ = \\frac{8+4n^2+n^2(n+1)^2}{4}$\n",
        "\n",
        "\n"
      ]
    },
    {
      "cell_type": "code",
      "metadata": {
        "id": "O_tDNlVCEFqY"
      },
      "source": [
        "def theta_to_normal(theta,q,n):\n",
        "  \"\"\"\n",
        "  theta : np array\n",
        "  q     : scalar\n",
        "  n     : scalar\n",
        "  Returns:\n",
        "  ------------\n",
        "  L\n",
        "  psi\n",
        "  nu\n",
        "  mu\n",
        "  \"\"\"\n",
        "  \n",
        "  q_s = (int)(q**2)\n",
        "  L = theta[:1]\n",
        "  psi = theta[1:q_s+1].reshape(q,q)\n",
        "  nu = theta[q_s+1:q_s+2]\n",
        "  mu = theta[q_s+2:].reshape(n,n)\n",
        "\n",
        "  return L,psi,nu,mu\n",
        "\n",
        "\n"
      ],
      "execution_count": null,
      "outputs": []
    },
    {
      "cell_type": "code",
      "metadata": {
        "id": "ym1BZyH2_DmJ"
      },
      "source": [
        "def SURE(theta,fms,covs,N):\n",
        "  \"\"\"\n",
        "    theta optimization parameter\n",
        "    fms: \\bar{X_i} i [p,n,n]\n",
        "    covs: S_i [p,q,q]\n",
        "    N: real\n",
        "    ----------------\n",
        "    Returns\n",
        "    loss scalar\n",
        "\n",
        "  \"\"\"\n",
        "  n   = fms.shape[1]\n",
        "  p,q = covs.shape[0] , covs.shape[1]\n",
        "  q_s = (int)(q**2)\n",
        "  L,psi,nu,mu = theta_to_normal(theta,q,n)\n",
        "\n",
        "  #constants \n",
        "  term_1 = (L+N)**-2\n",
        "  term_2 = (N- (L**2)/N)/(N-1)\n",
        "  term_3 = (nu + N - q - 2)**-2\n",
        "  term_4 = (N-3 + (nu-q-1)**2)/((N+1)*(N-2))\n",
        "  term_5 = ((N-1)**2 - (nu- q -1)**2)/((N+1)*(N-2)*(N-1))\n",
        "  term_6 = -2 * (nu-q-1)/(N-1)\n",
        "\n",
        "  #trace  \n",
        "  trace_1 = np.trace(covs, axis1=1, axis2=2) #[p,]\n",
        "  trace_2 = np.trace(np.matmul(covs,covs), axis1=1, axis2=2) #[p,]\n",
        "  trace_3 = trace_1 ** 2 #[p,]\n",
        "  trace_4 = np.trace(np.matmul(psi,covs), axis1=1, axis2=2) #[p,]\n",
        "  trace_5 = np.einsum(\"ij,ji\", psi, psi) #[1,]\n",
        "\n",
        "\n",
        "  #dist\n",
        "  log_X       = logm(fms)\n",
        "  log_mu      = logm(mu)\n",
        "  sum_LE      = np.sum((log_X-log_mu[None])**2 , axis=(1,2)) #[p,]\n",
        "\n",
        "  #total loss\n",
        "  loss_1  = term_1*(term_2 * trace_1 + L**2 * sum_LE) #[p,]\n",
        "  loss_21 = term_4*trace_2 + term_5 * trace_3\n",
        "  loss_22 = term_6*trace_4 + trace_5\n",
        "  loss_2  = term_3*(loss_21+loss_22)\n",
        "  loss    = (loss_1+loss_2).mean()\n",
        "  #print(\"loss\" , loss)\n",
        "  # print(\"L\" , L)\n",
        "  # print(\"nu\" , nu)\n",
        "  return loss\n",
        "\n",
        "\n"
      ],
      "execution_count": null,
      "outputs": []
    },
    {
      "cell_type": "code",
      "metadata": {
        "id": "dmeC-RnfKinD"
      },
      "source": [
        "def get_bounds(q,n):\n",
        "  q_s = (int)(q**2)\n",
        "  n_s = (int)(n**2)\n",
        "  bounds = [(1e-3,None)]\n",
        "  for i in range(q_s):\n",
        "    bounds.append((None,None))\n",
        "  bounds.append((q,None))\n",
        "  for i in range(n_s):\n",
        "    bounds.append((None,None))\n",
        "  return tuple(bounds)  "
      ],
      "execution_count": null,
      "outputs": []
    },
    {
      "cell_type": "code",
      "metadata": {
        "id": "APmy4-UXGAqS"
      },
      "source": [
        "def fit_shrinkage_estimator(data):\n",
        "  \"\"\"\n",
        "    data:numpy array\n",
        "\n",
        "    Returns :\n",
        "    -----------\n",
        "  \"\"\"\n",
        "  p,N,n = data.shape[0] , data.shape[1] , data.shape[2]\n",
        "  fms = batch_frechet_mean_LE(data)\n",
        "  covs = []\n",
        "  for i in range(data.shape[0]):\n",
        "    if emp_cov(data[i]) is not None:\n",
        "      covs.append(emp_cov(data[i]))\n",
        "    else:\n",
        "      print(\"not working\") \n",
        "  covs = np.array(covs)  \n",
        "  q = covs.shape[1]\n",
        "  theta  = intialization(data,covs)\n",
        "  bounds = get_bounds(q,n) \n",
        "  res    = optimize.minimize(SURE, theta, args=(fms,covs,N),bounds=bounds, method='L-BFGS-B')\n",
        "  if res.success is True :\n",
        "\n",
        "    print(\"converged......\")\n",
        "    print(\"computing shrinkage estimator....\")\n",
        "    theta        = res.x\n",
        "    L,psi,nu,mu = theta_to_normal(theta,q,n)\n",
        "    log_X       = logm(fms)\n",
        "    log_mu      = logm(mu)\n",
        "    temp        = ((N * log_X) + (L * log_mu[None]))/(N+L)\n",
        "    M           = expm(temp)\n",
        "\n",
        "    num   = psi[None] + covs\n",
        "    denom = nu+N-q-2\n",
        "    sigmas = num/denom\n",
        "    return M,sigmas\n",
        "\n",
        "  else :\n",
        "    print(\"ERROR! didn't converge\") \n",
        "    return None,None"
      ],
      "execution_count": null,
      "outputs": []
    },
    {
      "cell_type": "code",
      "metadata": {
        "id": "YfkEP4pHLTB8"
      },
      "source": [
        "def get_MLE(data):\n",
        "   fms = batch_frechet_mean_LE(data)\n",
        "   return fms\n"
      ],
      "execution_count": null,
      "outputs": []
    },
    {
      "cell_type": "code",
      "metadata": {
        "id": "-FJf_j6RLdoD"
      },
      "source": [
        "MLE_M = get_MLE(data)"
      ],
      "execution_count": null,
      "outputs": []
    },
    {
      "cell_type": "code",
      "metadata": {
        "colab": {
          "base_uri": "https://localhost:8080/"
        },
        "id": "y7jGwPltC8ho",
        "outputId": "63805f95-7ad3-4f5f-b143-89bf862ddfbe"
      },
      "source": [
        "shrink_M,shrink_sigmas = fit_shrinkage_estimator(data)\n",
        "SPDmanifold = spd.SPDMatrices(shrink_M.shape[1])\n",
        "print(SPDmanifold.belongs(shrink_M))"
      ],
      "execution_count": null,
      "outputs": [
        {
          "output_type": "stream",
          "text": [
            "converged......\n",
            "computing shrinkage estimator....\n",
            "[ True  True  True  True  True  True  True  True  True  True  True  True\n",
            "  True  True  True  True  True  True  True  True  True  True  True  True\n",
            "  True  True  True  True  True  True  True  True  True  True  True  True\n",
            "  True  True  True  True  True  True  True  True  True  True  True  True\n",
            "  True  True  True  True  True  True  True  True  True  True  True  True\n",
            "  True  True  True  True  True  True  True  True  True  True  True  True\n",
            "  True  True  True  True  True  True  True  True  True  True  True  True\n",
            "  True  True  True  True  True  True  True  True  True  True  True  True\n",
            "  True  True  True  True  True  True  True  True  True  True  True  True\n",
            "  True  True  True  True  True  True  True  True  True  True  True  True\n",
            "  True  True  True  True  True  True  True  True  True  True  True  True\n",
            "  True  True  True  True  True  True  True  True  True  True  True  True\n",
            "  True  True  True  True  True  True  True  True  True  True  True  True\n",
            "  True  True  True  True  True  True  True  True  True  True  True  True\n",
            "  True  True  True  True  True  True  True  True  True  True  True  True\n",
            "  True  True  True  True  True  True  True  True  True  True  True  True\n",
            "  True  True  True  True  True  True  True  True  True  True  True  True\n",
            "  True  True  True  True  True  True  True  True  True  True  True  True\n",
            "  True  True  True  True  True  True  True  True  True  True  True  True\n",
            "  True  True  True  True  True  True  True  True  True  True  True  True\n",
            "  True  True  True  True  True  True  True  True  True  True  True  True\n",
            "  True  True  True  True  True  True  True  True  True  True  True  True\n",
            "  True  True  True  True  True  True  True  True  True  True  True  True\n",
            "  True  True  True  True  True  True  True  True  True  True  True  True\n",
            "  True  True  True  True  True  True  True  True  True  True  True  True\n",
            "  True  True  True  True  True  True  True  True  True  True  True  True\n",
            "  True  True  True  True  True  True  True  True  True  True  True  True\n",
            "  True  True  True  True  True  True  True  True  True  True  True  True\n",
            "  True  True  True  True  True  True  True  True  True  True  True  True\n",
            "  True  True  True  True  True  True  True  True  True  True  True  True\n",
            "  True  True  True  True  True  True  True  True  True  True  True  True\n",
            "  True  True  True  True  True  True  True  True  True  True  True  True\n",
            "  True  True  True  True  True  True  True  True  True  True  True  True\n",
            "  True  True  True  True  True  True  True  True  True  True  True  True\n",
            "  True  True  True  True  True  True  True  True  True  True  True  True\n",
            "  True  True  True  True  True  True  True  True  True  True  True  True\n",
            "  True  True  True  True  True  True  True  True  True  True  True  True\n",
            "  True  True  True  True  True  True  True  True  True  True  True  True\n",
            "  True  True  True  True  True  True  True  True  True  True  True  True\n",
            "  True  True  True  True  True  True  True  True  True  True  True  True\n",
            "  True  True  True  True  True  True  True  True  True  True  True  True\n",
            "  True  True  True  True  True  True  True  True]\n"
          ],
          "name": "stdout"
        }
      ]
    },
    {
      "cell_type": "code",
      "metadata": {
        "colab": {
          "base_uri": "https://localhost:8080/"
        },
        "id": "QmVtsgfwEHaK",
        "outputId": "cd3a701e-9a94-41bc-918c-76913168b69d"
      },
      "source": [
        "mle_le_error = LE_error(MLE_M,Ms)\n",
        "jse_le_error  = LE_error(shrink_M,Ms)\n",
        "print(\"distance between true and mle\" , mle_le_error)\n",
        "print(\"distance between true and shrinkage\" , jse_le_error)\n",
        "print(\"Improvement \",mle_le_error/jse_le_error)"
      ],
      "execution_count": null,
      "outputs": [
        {
          "output_type": "stream",
          "text": [
            "distance between true and mle 0.10621373284342181\n",
            "distance between true and shrinkage 0.08198056729191733\n",
            "Improvement  1.295596460868766\n"
          ],
          "name": "stdout"
        }
      ]
    },
    {
      "cell_type": "markdown",
      "metadata": {
        "id": "om8fdr_ZRuEz"
      },
      "source": [
        "## **Ablation Study**\n",
        "\n",
        "1) first we show decreasing error by increasing $N$ to test the correctness of estimator\n"
      ]
    },
    {
      "cell_type": "code",
      "metadata": {
        "id": "Prm2D8n3pxjA"
      },
      "source": [
        "def decreasing_error():\n",
        "  mu = np.eye(3)\n",
        "  psi = np.eye(6)\n",
        "  nu = 30 \n",
        "  L  = 50\n",
        "  p  = 200\n",
        "  Ns = np.arange(10,100)\n",
        "  scores = []\n",
        "  for N in tqdm(Ns):\n",
        "    data,Ms = Synthetic_Data(mu,psi,nu,L,p,N)\n",
        "    shrink_M,shrink_sigmas = fit_shrinkage_estimator(data)\n",
        "    jse_le_error  = LE_error(shrink_M,Ms)\n",
        "    scores.append(jse_le_error)\n",
        "  return scores "
      ],
      "execution_count": null,
      "outputs": []
    },
    {
      "cell_type": "code",
      "metadata": {
        "id": "MRyw-93DxP0x"
      },
      "source": [
        "#scores = decreasing_error()\n",
        "# Ns = np.arange(10,100)\n",
        "# plt.plot(Ns,scores)\n",
        "# plt.xlabel(\"Varying N\")\n",
        "# plt.ylabel(\"Log Euclidean Error\")"
      ],
      "execution_count": null,
      "outputs": []
    },
    {
      "cell_type": "markdown",
      "metadata": {
        "id": "8MaY6ut0-Tvx"
      },
      "source": [
        "Following Image shows the correctness of the implementation of the estimator\n",
        "\n",
        "![download (5).png](data:image/png;base64,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)"
      ]
    },
    {
      "cell_type": "markdown",
      "metadata": {
        "id": "DcxJzxOUyBKl"
      },
      "source": [
        "### **References**\n",
        "\n",
        "(1) [W. James and C. M. Stein, “Estimation with Quadratic Loss,” in Proc.\n",
        "Fourth Berkeley Symp. Math. Stat. Probab., pp. 361–380, 1961. ](http://www.stat.yale.edu/~hz68/619/Stein-1961.pdf) \n",
        "\n",
        "(2) [Efron, B. & Morris, C. (1973b), ‘Stein’s estimation rule and its competitors: An empirical\n",
        "Bayes approach’, Journal of the American Statistical Association 68(341), 117–130](https://www.jstor.org/stable/2284155?seq=1) \n",
        "\n",
        "(3) [Schwartzman, A. (2016), ‘Lognormal distributions and geometric averages of symmetric\n",
        "positive definite matrices’](https://www.ncbi.nlm.nih.gov/pmc/articles/PMC5222531/#:~:text=Analogously%2C%20a%20random%20symmetric%20positive,%2Dmatrix%2Dvariate%20lognormal%20distribution.)\n",
        "\n",
        "(4) [Yang, Chun-Hao, Hani Doss, and B.C. Vemuri.(2020),An Empirical Bayes Approach to Shrinkage\n",
        "Estimation on the Manifold of Symmetric\n",
        "Positive-Definite Matrices ](https://arxiv.org/pdf/2007.02153.pdf)"
      ]
    },
    {
      "cell_type": "code",
      "metadata": {
        "id": "C-Tcmo6tx-cF"
      },
      "source": [
        ""
      ],
      "execution_count": null,
      "outputs": []
    }
  ]
}