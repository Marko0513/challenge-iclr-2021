{
  "nbformat": 4,
  "nbformat_minor": 0,
  "metadata": {
    "colab": {
      "name": "Recursive Karcher Expectation Estimator.ipynb",
      "provenance": [],
      "collapsed_sections": []
    },
    "kernelspec": {
      "display_name": "Python 3",
      "name": "python3"
    },
    "language_info": {
      "name": "python"
    },
    "widgets": {
      "application/vnd.jupyter.widget-state+json": {
        "1e1eb795f92d4f05a131b5f3f36c5be5": {
          "model_module": "@jupyter-widgets/controls",
          "model_name": "HBoxModel",
          "state": {
            "_dom_classes": [],
            "_model_module": "@jupyter-widgets/controls",
            "_model_module_version": "1.5.0",
            "_model_name": "HBoxModel",
            "_view_count": null,
            "_view_module": "@jupyter-widgets/controls",
            "_view_module_version": "1.5.0",
            "_view_name": "HBoxView",
            "box_style": "",
            "children": [
              "IPY_MODEL_3bb6fc65083d4d84b92ccdf8d21fe1fd",
              "IPY_MODEL_1a1e4cd1634d477480cfa508e53b102f"
            ],
            "layout": "IPY_MODEL_f16d74b22c2b4b67a3b2924b6f0bf822"
          }
        },
        "3bb6fc65083d4d84b92ccdf8d21fe1fd": {
          "model_module": "@jupyter-widgets/controls",
          "model_name": "FloatProgressModel",
          "state": {
            "_dom_classes": [],
            "_model_module": "@jupyter-widgets/controls",
            "_model_module_version": "1.5.0",
            "_model_name": "FloatProgressModel",
            "_view_count": null,
            "_view_module": "@jupyter-widgets/controls",
            "_view_module_version": "1.5.0",
            "_view_name": "ProgressView",
            "bar_style": "success",
            "description": "100%",
            "description_tooltip": null,
            "layout": "IPY_MODEL_990b849a9be44132bed22d28e472feaf",
            "max": 1000,
            "min": 0,
            "orientation": "horizontal",
            "style": "IPY_MODEL_7bd6b08c6a744c8eb0253e4be00431ba",
            "value": 1000
          }
        },
        "1a1e4cd1634d477480cfa508e53b102f": {
          "model_module": "@jupyter-widgets/controls",
          "model_name": "HTMLModel",
          "state": {
            "_dom_classes": [],
            "_model_module": "@jupyter-widgets/controls",
            "_model_module_version": "1.5.0",
            "_model_name": "HTMLModel",
            "_view_count": null,
            "_view_module": "@jupyter-widgets/controls",
            "_view_module_version": "1.5.0",
            "_view_name": "HTMLView",
            "description": "",
            "description_tooltip": null,
            "layout": "IPY_MODEL_f54c5ce6e9f8430d994293d8cb5a91d3",
            "placeholder": "​",
            "style": "IPY_MODEL_effc52f14792417aab18cbfdb919ae41",
            "value": " 1000/1000 [00:00&lt;00:00, 2399.10it/s]"
          }
        },
        "f16d74b22c2b4b67a3b2924b6f0bf822": {
          "model_module": "@jupyter-widgets/base",
          "model_name": "LayoutModel",
          "state": {
            "_model_module": "@jupyter-widgets/base",
            "_model_module_version": "1.2.0",
            "_model_name": "LayoutModel",
            "_view_count": null,
            "_view_module": "@jupyter-widgets/base",
            "_view_module_version": "1.2.0",
            "_view_name": "LayoutView",
            "align_content": null,
            "align_items": null,
            "align_self": null,
            "border": null,
            "bottom": null,
            "display": null,
            "flex": null,
            "flex_flow": null,
            "grid_area": null,
            "grid_auto_columns": null,
            "grid_auto_flow": null,
            "grid_auto_rows": null,
            "grid_column": null,
            "grid_gap": null,
            "grid_row": null,
            "grid_template_areas": null,
            "grid_template_columns": null,
            "grid_template_rows": null,
            "height": null,
            "justify_content": null,
            "justify_items": null,
            "left": null,
            "margin": null,
            "max_height": null,
            "max_width": null,
            "min_height": null,
            "min_width": null,
            "object_fit": null,
            "object_position": null,
            "order": null,
            "overflow": null,
            "overflow_x": null,
            "overflow_y": null,
            "padding": null,
            "right": null,
            "top": null,
            "visibility": null,
            "width": null
          }
        },
        "990b849a9be44132bed22d28e472feaf": {
          "model_module": "@jupyter-widgets/base",
          "model_name": "LayoutModel",
          "state": {
            "_model_module": "@jupyter-widgets/base",
            "_model_module_version": "1.2.0",
            "_model_name": "LayoutModel",
            "_view_count": null,
            "_view_module": "@jupyter-widgets/base",
            "_view_module_version": "1.2.0",
            "_view_name": "LayoutView",
            "align_content": null,
            "align_items": null,
            "align_self": null,
            "border": null,
            "bottom": null,
            "display": null,
            "flex": null,
            "flex_flow": null,
            "grid_area": null,
            "grid_auto_columns": null,
            "grid_auto_flow": null,
            "grid_auto_rows": null,
            "grid_column": null,
            "grid_gap": null,
            "grid_row": null,
            "grid_template_areas": null,
            "grid_template_columns": null,
            "grid_template_rows": null,
            "height": null,
            "justify_content": null,
            "justify_items": null,
            "left": null,
            "margin": null,
            "max_height": null,
            "max_width": null,
            "min_height": null,
            "min_width": null,
            "object_fit": null,
            "object_position": null,
            "order": null,
            "overflow": null,
            "overflow_x": null,
            "overflow_y": null,
            "padding": null,
            "right": null,
            "top": null,
            "visibility": null,
            "width": null
          }
        },
        "7bd6b08c6a744c8eb0253e4be00431ba": {
          "model_module": "@jupyter-widgets/controls",
          "model_name": "ProgressStyleModel",
          "state": {
            "_model_module": "@jupyter-widgets/controls",
            "_model_module_version": "1.5.0",
            "_model_name": "ProgressStyleModel",
            "_view_count": null,
            "_view_module": "@jupyter-widgets/base",
            "_view_module_version": "1.2.0",
            "_view_name": "StyleView",
            "bar_color": null,
            "description_width": "initial"
          }
        },
        "f54c5ce6e9f8430d994293d8cb5a91d3": {
          "model_module": "@jupyter-widgets/base",
          "model_name": "LayoutModel",
          "state": {
            "_model_module": "@jupyter-widgets/base",
            "_model_module_version": "1.2.0",
            "_model_name": "LayoutModel",
            "_view_count": null,
            "_view_module": "@jupyter-widgets/base",
            "_view_module_version": "1.2.0",
            "_view_name": "LayoutView",
            "align_content": null,
            "align_items": null,
            "align_self": null,
            "border": null,
            "bottom": null,
            "display": null,
            "flex": null,
            "flex_flow": null,
            "grid_area": null,
            "grid_auto_columns": null,
            "grid_auto_flow": null,
            "grid_auto_rows": null,
            "grid_column": null,
            "grid_gap": null,
            "grid_row": null,
            "grid_template_areas": null,
            "grid_template_columns": null,
            "grid_template_rows": null,
            "height": null,
            "justify_content": null,
            "justify_items": null,
            "left": null,
            "margin": null,
            "max_height": null,
            "max_width": null,
            "min_height": null,
            "min_width": null,
            "object_fit": null,
            "object_position": null,
            "order": null,
            "overflow": null,
            "overflow_x": null,
            "overflow_y": null,
            "padding": null,
            "right": null,
            "top": null,
            "visibility": null,
            "width": null
          }
        },
        "effc52f14792417aab18cbfdb919ae41": {
          "model_module": "@jupyter-widgets/controls",
          "model_name": "DescriptionStyleModel",
          "state": {
            "_model_module": "@jupyter-widgets/controls",
            "_model_module_version": "1.5.0",
            "_model_name": "DescriptionStyleModel",
            "_view_count": null,
            "_view_module": "@jupyter-widgets/base",
            "_view_module_version": "1.2.0",
            "_view_name": "StyleView",
            "description_width": ""
          }
        },
        "a2c09c8bc41042a1aa0863c91082dc50": {
          "model_module": "@jupyter-widgets/controls",
          "model_name": "HBoxModel",
          "state": {
            "_dom_classes": [],
            "_model_module": "@jupyter-widgets/controls",
            "_model_module_version": "1.5.0",
            "_model_name": "HBoxModel",
            "_view_count": null,
            "_view_module": "@jupyter-widgets/controls",
            "_view_module_version": "1.5.0",
            "_view_name": "HBoxView",
            "box_style": "",
            "children": [
              "IPY_MODEL_7a7ec549112b49b8b4e2a3f3ba984f46",
              "IPY_MODEL_f7ae0e39adef4a33a185ffc7dc122e6b"
            ],
            "layout": "IPY_MODEL_893f427a52e94031bb8fdd24b31b55fa"
          }
        },
        "7a7ec549112b49b8b4e2a3f3ba984f46": {
          "model_module": "@jupyter-widgets/controls",
          "model_name": "FloatProgressModel",
          "state": {
            "_dom_classes": [],
            "_model_module": "@jupyter-widgets/controls",
            "_model_module_version": "1.5.0",
            "_model_name": "FloatProgressModel",
            "_view_count": null,
            "_view_module": "@jupyter-widgets/controls",
            "_view_module_version": "1.5.0",
            "_view_name": "ProgressView",
            "bar_style": "success",
            "description": "100%",
            "description_tooltip": null,
            "layout": "IPY_MODEL_9b80831141b9449693f2b81a5dfe9e40",
            "max": 999,
            "min": 0,
            "orientation": "horizontal",
            "style": "IPY_MODEL_5b8fbf2fa0ab4c9c8b6038c6010d07a3",
            "value": 999
          }
        },
        "f7ae0e39adef4a33a185ffc7dc122e6b": {
          "model_module": "@jupyter-widgets/controls",
          "model_name": "HTMLModel",
          "state": {
            "_dom_classes": [],
            "_model_module": "@jupyter-widgets/controls",
            "_model_module_version": "1.5.0",
            "_model_name": "HTMLModel",
            "_view_count": null,
            "_view_module": "@jupyter-widgets/controls",
            "_view_module_version": "1.5.0",
            "_view_name": "HTMLView",
            "description": "",
            "description_tooltip": null,
            "layout": "IPY_MODEL_c79bd4de398f4fde8676c9aa00b39f20",
            "placeholder": "​",
            "style": "IPY_MODEL_6b8dd69808a34b3f921d6cb114de3ba0",
            "value": " 999/999 [00:12&lt;00:00, 81.16it/s]"
          }
        },
        "893f427a52e94031bb8fdd24b31b55fa": {
          "model_module": "@jupyter-widgets/base",
          "model_name": "LayoutModel",
          "state": {
            "_model_module": "@jupyter-widgets/base",
            "_model_module_version": "1.2.0",
            "_model_name": "LayoutModel",
            "_view_count": null,
            "_view_module": "@jupyter-widgets/base",
            "_view_module_version": "1.2.0",
            "_view_name": "LayoutView",
            "align_content": null,
            "align_items": null,
            "align_self": null,
            "border": null,
            "bottom": null,
            "display": null,
            "flex": null,
            "flex_flow": null,
            "grid_area": null,
            "grid_auto_columns": null,
            "grid_auto_flow": null,
            "grid_auto_rows": null,
            "grid_column": null,
            "grid_gap": null,
            "grid_row": null,
            "grid_template_areas": null,
            "grid_template_columns": null,
            "grid_template_rows": null,
            "height": null,
            "justify_content": null,
            "justify_items": null,
            "left": null,
            "margin": null,
            "max_height": null,
            "max_width": null,
            "min_height": null,
            "min_width": null,
            "object_fit": null,
            "object_position": null,
            "order": null,
            "overflow": null,
            "overflow_x": null,
            "overflow_y": null,
            "padding": null,
            "right": null,
            "top": null,
            "visibility": null,
            "width": null
          }
        },
        "9b80831141b9449693f2b81a5dfe9e40": {
          "model_module": "@jupyter-widgets/base",
          "model_name": "LayoutModel",
          "state": {
            "_model_module": "@jupyter-widgets/base",
            "_model_module_version": "1.2.0",
            "_model_name": "LayoutModel",
            "_view_count": null,
            "_view_module": "@jupyter-widgets/base",
            "_view_module_version": "1.2.0",
            "_view_name": "LayoutView",
            "align_content": null,
            "align_items": null,
            "align_self": null,
            "border": null,
            "bottom": null,
            "display": null,
            "flex": null,
            "flex_flow": null,
            "grid_area": null,
            "grid_auto_columns": null,
            "grid_auto_flow": null,
            "grid_auto_rows": null,
            "grid_column": null,
            "grid_gap": null,
            "grid_row": null,
            "grid_template_areas": null,
            "grid_template_columns": null,
            "grid_template_rows": null,
            "height": null,
            "justify_content": null,
            "justify_items": null,
            "left": null,
            "margin": null,
            "max_height": null,
            "max_width": null,
            "min_height": null,
            "min_width": null,
            "object_fit": null,
            "object_position": null,
            "order": null,
            "overflow": null,
            "overflow_x": null,
            "overflow_y": null,
            "padding": null,
            "right": null,
            "top": null,
            "visibility": null,
            "width": null
          }
        },
        "5b8fbf2fa0ab4c9c8b6038c6010d07a3": {
          "model_module": "@jupyter-widgets/controls",
          "model_name": "ProgressStyleModel",
          "state": {
            "_model_module": "@jupyter-widgets/controls",
            "_model_module_version": "1.5.0",
            "_model_name": "ProgressStyleModel",
            "_view_count": null,
            "_view_module": "@jupyter-widgets/base",
            "_view_module_version": "1.2.0",
            "_view_name": "StyleView",
            "bar_color": null,
            "description_width": "initial"
          }
        },
        "c79bd4de398f4fde8676c9aa00b39f20": {
          "model_module": "@jupyter-widgets/base",
          "model_name": "LayoutModel",
          "state": {
            "_model_module": "@jupyter-widgets/base",
            "_model_module_version": "1.2.0",
            "_model_name": "LayoutModel",
            "_view_count": null,
            "_view_module": "@jupyter-widgets/base",
            "_view_module_version": "1.2.0",
            "_view_name": "LayoutView",
            "align_content": null,
            "align_items": null,
            "align_self": null,
            "border": null,
            "bottom": null,
            "display": null,
            "flex": null,
            "flex_flow": null,
            "grid_area": null,
            "grid_auto_columns": null,
            "grid_auto_flow": null,
            "grid_auto_rows": null,
            "grid_column": null,
            "grid_gap": null,
            "grid_row": null,
            "grid_template_areas": null,
            "grid_template_columns": null,
            "grid_template_rows": null,
            "height": null,
            "justify_content": null,
            "justify_items": null,
            "left": null,
            "margin": null,
            "max_height": null,
            "max_width": null,
            "min_height": null,
            "min_width": null,
            "object_fit": null,
            "object_position": null,
            "order": null,
            "overflow": null,
            "overflow_x": null,
            "overflow_y": null,
            "padding": null,
            "right": null,
            "top": null,
            "visibility": null,
            "width": null
          }
        },
        "6b8dd69808a34b3f921d6cb114de3ba0": {
          "model_module": "@jupyter-widgets/controls",
          "model_name": "DescriptionStyleModel",
          "state": {
            "_model_module": "@jupyter-widgets/controls",
            "_model_module_version": "1.5.0",
            "_model_name": "DescriptionStyleModel",
            "_view_count": null,
            "_view_module": "@jupyter-widgets/base",
            "_view_module_version": "1.2.0",
            "_view_name": "StyleView",
            "description_width": ""
          }
        },
        "f668cbe7e9a4473995ef7e73d51b83b4": {
          "model_module": "@jupyter-widgets/controls",
          "model_name": "HBoxModel",
          "state": {
            "_dom_classes": [],
            "_model_module": "@jupyter-widgets/controls",
            "_model_module_version": "1.5.0",
            "_model_name": "HBoxModel",
            "_view_count": null,
            "_view_module": "@jupyter-widgets/controls",
            "_view_module_version": "1.5.0",
            "_view_name": "HBoxView",
            "box_style": "",
            "children": [
              "IPY_MODEL_5c36641c60de4c96b608e4e243224f32",
              "IPY_MODEL_28d06544ad66413cabce03f50a948e98"
            ],
            "layout": "IPY_MODEL_6338a1cdf5244090a362824c3e8b75d4"
          }
        },
        "5c36641c60de4c96b608e4e243224f32": {
          "model_module": "@jupyter-widgets/controls",
          "model_name": "FloatProgressModel",
          "state": {
            "_dom_classes": [],
            "_model_module": "@jupyter-widgets/controls",
            "_model_module_version": "1.5.0",
            "_model_name": "FloatProgressModel",
            "_view_count": null,
            "_view_module": "@jupyter-widgets/controls",
            "_view_module_version": "1.5.0",
            "_view_name": "ProgressView",
            "bar_style": "success",
            "description": "100%",
            "description_tooltip": null,
            "layout": "IPY_MODEL_fa4f77ae9ef0458ea8f33e7479bb7279",
            "max": 999,
            "min": 0,
            "orientation": "horizontal",
            "style": "IPY_MODEL_2d33af32ca0047148cf7ef02cc9a5d02",
            "value": 999
          }
        },
        "28d06544ad66413cabce03f50a948e98": {
          "model_module": "@jupyter-widgets/controls",
          "model_name": "HTMLModel",
          "state": {
            "_dom_classes": [],
            "_model_module": "@jupyter-widgets/controls",
            "_model_module_version": "1.5.0",
            "_model_name": "HTMLModel",
            "_view_count": null,
            "_view_module": "@jupyter-widgets/controls",
            "_view_module_version": "1.5.0",
            "_view_name": "HTMLView",
            "description": "",
            "description_tooltip": null,
            "layout": "IPY_MODEL_c47dd74ac98840279e34ea98a5a8ec90",
            "placeholder": "​",
            "style": "IPY_MODEL_acf37b8b6f7c4c8492fbce64119b7901",
            "value": " 999/999 [01:03&lt;00:00, 15.82it/s]"
          }
        },
        "6338a1cdf5244090a362824c3e8b75d4": {
          "model_module": "@jupyter-widgets/base",
          "model_name": "LayoutModel",
          "state": {
            "_model_module": "@jupyter-widgets/base",
            "_model_module_version": "1.2.0",
            "_model_name": "LayoutModel",
            "_view_count": null,
            "_view_module": "@jupyter-widgets/base",
            "_view_module_version": "1.2.0",
            "_view_name": "LayoutView",
            "align_content": null,
            "align_items": null,
            "align_self": null,
            "border": null,
            "bottom": null,
            "display": null,
            "flex": null,
            "flex_flow": null,
            "grid_area": null,
            "grid_auto_columns": null,
            "grid_auto_flow": null,
            "grid_auto_rows": null,
            "grid_column": null,
            "grid_gap": null,
            "grid_row": null,
            "grid_template_areas": null,
            "grid_template_columns": null,
            "grid_template_rows": null,
            "height": null,
            "justify_content": null,
            "justify_items": null,
            "left": null,
            "margin": null,
            "max_height": null,
            "max_width": null,
            "min_height": null,
            "min_width": null,
            "object_fit": null,
            "object_position": null,
            "order": null,
            "overflow": null,
            "overflow_x": null,
            "overflow_y": null,
            "padding": null,
            "right": null,
            "top": null,
            "visibility": null,
            "width": null
          }
        },
        "fa4f77ae9ef0458ea8f33e7479bb7279": {
          "model_module": "@jupyter-widgets/base",
          "model_name": "LayoutModel",
          "state": {
            "_model_module": "@jupyter-widgets/base",
            "_model_module_version": "1.2.0",
            "_model_name": "LayoutModel",
            "_view_count": null,
            "_view_module": "@jupyter-widgets/base",
            "_view_module_version": "1.2.0",
            "_view_name": "LayoutView",
            "align_content": null,
            "align_items": null,
            "align_self": null,
            "border": null,
            "bottom": null,
            "display": null,
            "flex": null,
            "flex_flow": null,
            "grid_area": null,
            "grid_auto_columns": null,
            "grid_auto_flow": null,
            "grid_auto_rows": null,
            "grid_column": null,
            "grid_gap": null,
            "grid_row": null,
            "grid_template_areas": null,
            "grid_template_columns": null,
            "grid_template_rows": null,
            "height": null,
            "justify_content": null,
            "justify_items": null,
            "left": null,
            "margin": null,
            "max_height": null,
            "max_width": null,
            "min_height": null,
            "min_width": null,
            "object_fit": null,
            "object_position": null,
            "order": null,
            "overflow": null,
            "overflow_x": null,
            "overflow_y": null,
            "padding": null,
            "right": null,
            "top": null,
            "visibility": null,
            "width": null
          }
        },
        "2d33af32ca0047148cf7ef02cc9a5d02": {
          "model_module": "@jupyter-widgets/controls",
          "model_name": "ProgressStyleModel",
          "state": {
            "_model_module": "@jupyter-widgets/controls",
            "_model_module_version": "1.5.0",
            "_model_name": "ProgressStyleModel",
            "_view_count": null,
            "_view_module": "@jupyter-widgets/base",
            "_view_module_version": "1.2.0",
            "_view_name": "StyleView",
            "bar_color": null,
            "description_width": "initial"
          }
        },
        "c47dd74ac98840279e34ea98a5a8ec90": {
          "model_module": "@jupyter-widgets/base",
          "model_name": "LayoutModel",
          "state": {
            "_model_module": "@jupyter-widgets/base",
            "_model_module_version": "1.2.0",
            "_model_name": "LayoutModel",
            "_view_count": null,
            "_view_module": "@jupyter-widgets/base",
            "_view_module_version": "1.2.0",
            "_view_name": "LayoutView",
            "align_content": null,
            "align_items": null,
            "align_self": null,
            "border": null,
            "bottom": null,
            "display": null,
            "flex": null,
            "flex_flow": null,
            "grid_area": null,
            "grid_auto_columns": null,
            "grid_auto_flow": null,
            "grid_auto_rows": null,
            "grid_column": null,
            "grid_gap": null,
            "grid_row": null,
            "grid_template_areas": null,
            "grid_template_columns": null,
            "grid_template_rows": null,
            "height": null,
            "justify_content": null,
            "justify_items": null,
            "left": null,
            "margin": null,
            "max_height": null,
            "max_width": null,
            "min_height": null,
            "min_width": null,
            "object_fit": null,
            "object_position": null,
            "order": null,
            "overflow": null,
            "overflow_x": null,
            "overflow_y": null,
            "padding": null,
            "right": null,
            "top": null,
            "visibility": null,
            "width": null
          }
        },
        "acf37b8b6f7c4c8492fbce64119b7901": {
          "model_module": "@jupyter-widgets/controls",
          "model_name": "DescriptionStyleModel",
          "state": {
            "_model_module": "@jupyter-widgets/controls",
            "_model_module_version": "1.5.0",
            "_model_name": "DescriptionStyleModel",
            "_view_count": null,
            "_view_module": "@jupyter-widgets/base",
            "_view_module_version": "1.2.0",
            "_view_name": "StyleView",
            "description_width": ""
          }
        }
      }
    }
  },
  "cells": [
    {
      "cell_type": "markdown",
      "metadata": {
        "id": "6NcOpFighczd"
      },
      "source": [
        "##**Recursive Karcher Expectation Estimator**\n",
        "\n",
        "Following Notebooks Implements Estimator for Mean of Symmetric Positive Matrices. In first section Motivation of the problem is given. In second section Naive Implementation of Estimator is given and is shown to be extremely slow by profilling. Thereafter two efficient implementations are suggested that obtains about **108X** and **140X** Improvement in Efficiency. Also,  **3X** improvement is obtained over current implementaion in `geomstats` in fundamental task of computing GL-invariant distance  between batches of SPD matrices. "
      ]
    },
    {
      "cell_type": "markdown",
      "metadata": {
        "id": "Ttt1wJePllVi"
      },
      "source": [
        "**THE PROBLEM**\n",
        "\n",
        "Consider a manifold of Symmetric Positive Definite (SPD) Matrices of dimension $n$ denoted as $\\text{Sym}_{+}^{n}$. Assume that $X : \\Omega \\rightarrow \\text{Sym}_{+}^{n} $ is SPD valued random variable then its Karcher Expectation is defined as \n",
        "\n",
        "$$\\mathbb{KE}X = \\min_{\\mu^{*} \\in \\text{Sym}_{+}^d} \\int_{\\Omega} d^{2}(\\mu^{*} ,X) d \\omega $$ We are interested in finding the sample mean given $N$ SPD matrices  under GL-invariant metric (or Rao-Fisher Metric) which is defined as \n",
        "\n",
        "$$d^{2}(X,Y) = \\text{Tr} \\left[ \\text{Log}(X^{-1}Y) \\right]$$ Under GL-invariant there is unique solution  but not in closed form so we have to resort numerical optimization. As alternative this notebook tests recursive estimator and shows how to implement efficiently. \n"
      ]
    },
    {
      "cell_type": "code",
      "metadata": {
        "id": "r9Aeu5S8suBf"
      },
      "source": [
        "!pip3 install geomstats\n",
        "!pip3 install line_profiler\n",
        "!pip3 install tqdm\n",
        "!pip3 install seaborn\n",
        "%load_ext line_profiler"
      ],
      "execution_count": null,
      "outputs": []
    },
    {
      "cell_type": "code",
      "metadata": {
        "id": "XQJuP6kHvlPr"
      },
      "source": [
        "import numpy as np\n",
        "import geomstats.geometry.spd_matrices as spd\n",
        "import geomstats.backend as gs\n",
        "from sklearn.metrics import mean_squared_error\n",
        "from scipy.linalg import fractional_matrix_power\n",
        "from geomstats.geometry.spd_matrices import SPDMetricAffine\n",
        "from tqdm.notebook import tqdm\n",
        "import matplotlib.pyplot as plt\n",
        "import seaborn as sns\n",
        "sns.set()"
      ],
      "execution_count": null,
      "outputs": []
    },
    {
      "cell_type": "code",
      "metadata": {
        "id": "fF_ldLbcvtlJ"
      },
      "source": [
        "def logm(spd_mats):\n",
        "  \"\"\"\n",
        "  could be two_dim,three_dim,four_dim\n",
        "  spd_matrix : [n,n] , [p,n,n] , [p,N,n,n]\n",
        "\n",
        "  Returns:\n",
        "  ------------\n",
        "  return logm_m\n",
        "  \"\"\"\n",
        "\n",
        "  n = spd_mats.shape[-1]\n",
        "  SPDmanifold = spd.SPDMatrices(n)\n",
        "  if spd_mats.ndim == 2 or spd_mats.ndim == 3 :\n",
        "    log_m = SPDmanifold.logm(spd_mats)\n",
        "  elif spd_mats.ndim == 4:\n",
        "    p,N = spd_mats.shape[0] , spd_mats.shape[1]\n",
        "    log_m = SPDmanifold.logm(spd_mats.reshape(-1,n,n)).reshape(p,N,n,n) \n",
        "  else :\n",
        "    print(\"error exception!!!\")  \n",
        "    log_m = None\n",
        "  \n",
        "  return log_m"
      ],
      "execution_count": null,
      "outputs": []
    },
    {
      "cell_type": "code",
      "metadata": {
        "id": "AHCZpo8O6_4g"
      },
      "source": [
        "def expm(spd_mats):\n",
        "  \"\"\"\n",
        "  could be two_dim,three_dim,four_dim\n",
        "  spd_matrix : [n,n] , [p,n,n] , [p,N,n,n]\n",
        "\n",
        "  Returns:\n",
        "  ------------\n",
        "  return exp_m\n",
        "  \"\"\"\n",
        "\n",
        "  n = spd_mats.shape[-1]\n",
        "  SPDmanifold = spd.SPDMatrices(n)\n",
        "  if spd_mats.ndim == 2 or spd_mats.ndim == 3 :\n",
        "    exp_m = SPDmanifold.expm(spd_mats)\n",
        "  elif spd_mats.ndim == 4:\n",
        "    p,N = spd_mats.shape[0] , spd_mats.shape[1]\n",
        "    exp_m = (SPDmanifold.expm(spd_mats.reshape(-1,n,n))).reshape(p,N,n,n) \n",
        "  else :\n",
        "    print(\"error exception!!!\")  \n",
        "    exp_m = None\n",
        "  \n",
        "  return exp_m"
      ],
      "execution_count": null,
      "outputs": []
    },
    {
      "cell_type": "code",
      "metadata": {
        "id": "x5bPbTYZvyMn"
      },
      "source": [
        "#isometric embedding of SPD(n) matrix in R^{n(n+1)/2}\n",
        "\n",
        "def SPD_to_Euclidean(spd_matrix):\n",
        "  \"\"\"\n",
        "    spd_matrix : Symmetric positive definite matrix\n",
        "\n",
        "    Returns: numpy array of dimension (n(n+1)/2,)\n",
        "    Isometric Embedding of n x n Symmetric positive definite matrix in R^{n(n+1)/2} \n",
        "  \"\"\" \n",
        "  n = spd_matrix.shape[0]\n",
        "  sym_matrix = logm(spd_matrix)\n",
        "  diag = np.diag(sym_matrix)\n",
        "  uppTri = np.sqrt(2)*sym_matrix[np.triu_indices_from(sym_matrix, k=1)]\n",
        "  vecd =  gs.hstack((diag,uppTri))\n",
        "  return vecd\n"
      ],
      "execution_count": null,
      "outputs": []
    },
    {
      "cell_type": "code",
      "metadata": {
        "id": "35gLcS9Hv3zn"
      },
      "source": [
        "#isometric embedding of R^{n(n+1)/2} matrix in SPD(n)\n",
        "\n",
        "def Euclidean_to_SPD(euclidean_vec):\n",
        "  \"\"\"\n",
        "    eucliden_vec : Euclidean column vector\n",
        "\n",
        "    Returns: [n,n]\n",
        "    Isometric Embedding of R^{n(n+1)/2} into n x n symmetric definite matrix\n",
        "  \"\"\"\n",
        "  q = euclidean_vec.shape[0]\n",
        "  n = (int)((- 1 + np.sqrt(1+8*q))/2)\n",
        "  diag = euclidean_vec[:n]\n",
        "  off_diag = euclidean_vec[n:]/(np.sqrt(2))\n",
        "  sym_matrix = np.diag(diag)\n",
        "  i,j = np.triu_indices_from(sym_matrix, k=1)\n",
        "  sym_matrix[i,j] = off_diag\n",
        "  sym_matrix[j,i] = off_diag\n",
        "  spd_matrix = expm(sym_matrix)\n",
        "  return spd_matrix\n"
      ],
      "execution_count": null,
      "outputs": []
    },
    {
      "cell_type": "code",
      "metadata": {
        "id": "0uV0eX5cv9IS"
      },
      "source": [
        "#samples SPD matrices according to log-normal distribution with mean 'mean' and covariance 'cov'\n",
        "\n",
        "def log_normal_sampling(mean,cov,sample_size=1):\n",
        "  \"\"\"\n",
        "    mean : SPD matrix n x n\n",
        "    cov  : SPD matrix n(n+1)/2 x n(n+1)/2 \n",
        "\n",
        "    Returns:\n",
        "    list of SPD matrices of size 'sample_size' \n",
        "\n",
        "    TODO\n",
        "    vectorize conversion part\n",
        "  \"\"\"\n",
        " \n",
        "  mean_euclidean = SPD_to_Euclidean(mean)\n",
        "  samples_spd = []\n",
        "  manifold = spd.SPDMatrices(mean.shape[0])\n",
        "  samples_euclidean = np.random.multivariate_normal(mean_euclidean, cov, sample_size)\n",
        "  for i in tqdm(range(sample_size)):\n",
        "    sample_spd = Euclidean_to_SPD(samples_euclidean[i])\n",
        "    samples_spd.append(sample_spd)\n",
        "    \n",
        "  samples_spd = np.array(samples_spd) \n",
        "  return samples_spd if (gs.all(manifold.belongs(samples_spd))) else None"
      ],
      "execution_count": null,
      "outputs": []
    },
    {
      "cell_type": "code",
      "metadata": {
        "id": "bcGhLqdNwGT9"
      },
      "source": [
        "def synthetic_data(mean,cov,sample_size):\n",
        "  \"\"\"\n",
        "  mean : [n,n]\n",
        "  cov  : [q,q]\n",
        "  sample_size : scalar\n",
        "  \"\"\"\n",
        "  data = log_normal_sampling(mean,cov,sample_size)\n",
        "  return data"
      ],
      "execution_count": null,
      "outputs": []
    },
    {
      "cell_type": "markdown",
      "metadata": {
        "id": "yPjKvc8k7iSy"
      },
      "source": [
        "**Recursive Karcher Expectation Estimator (RKEE)**\n",
        "\n",
        "RKEE is based on simple but elegant observation obtained by looking at online estimator of Euclidean Mean. Given $N$ i.i.d samples from euclidean random variable then empirical mean is $\\displaystyle S_{N} = \\frac{X_1 + \\dots + X_N}{N}$. Then equivalent way to compute is by recursive estimator \n",
        "\n",
        "\n",
        "$$ S_{k+1} = \\begin{cases} \n",
        "      X_1 & k=0 \\\\\n",
        "       \\dfrac{k}{k+1}.S_{k} + \\dfrac{1}{k+1}X_{k+1} & k \\leq N-1  &\n",
        "   \\end{cases}\n",
        "$$\n",
        "\n",
        "Mean for $k+1$ is seen as moving from current mean (with weight $\\frac{k}{k+1}$) to new point (with weight $\\frac{1}{k+1}$). But on Manifold there is no notion of addition, so we cannot move along a straight line. Instead we can move along geodesics. Under affinte Invariant Metric, Given $N,M \\in \\text{Sym}_{+}^{n}$ there is a unique geodesic joining $N,M$ given by $\\gamma(s) = \\text{M}_{k}^{\\frac{1}{2}}\\left[\\text{M}_{k}^{-\\frac{1}{2}}\\text{X}_{k+1}\\text{M}_{k}^{-\\frac{1}{2}} \\right]^{s}\\text{M}_{k}^{\\frac{1}{2}}$. This is the key observations that is used in deriving the recursive estimator\n",
        "\n",
        "$$\\begin{align*} \\text{M}_{1} &= \\text{X}_{1} \\\\\n",
        "\\text{M}_{k} &= \\text{M}_{k}^{\\frac{1}{2}}\\left[\\text{M}_{k}^{-\\frac{1}{2}}\\text{X}_{k+1}\\text{M}_{k}^{-\\frac{1}{2}} \\right]^{\\frac{1}{k+1}}\\text{M}_{k}^{\\frac{1}{2}}\n",
        " \\end{align*}$$\n"
      ]
    },
    {
      "cell_type": "code",
      "metadata": {
        "id": "27mFE1d-7D-2"
      },
      "source": [
        "def RKEE(data):\n",
        "  \"\"\"\n",
        "  data : [p,n,n]\n",
        "  Returns :\n",
        "  -------------\n",
        "  Karcher mean wrt to GL invariant metric\n",
        "  \"\"\"\n",
        "\n",
        "  M_current = data[0]\n",
        "  list_of_means = [M_current]\n",
        "  for k in range(1,data.shape[0]):\n",
        "    X_k       = data[k]\n",
        "    M_hf      = fractional_matrix_power(M_current,0.5)\n",
        "    M_nhf     = fractional_matrix_power(M_current,-0.5)\n",
        "    temp      = M_nhf @ X_k @ M_nhf\n",
        "    temp_pow  = fractional_matrix_power(temp,1/(k+1))\n",
        "    M_current = M_hf @ temp_pow @ M_hf\n",
        "    list_of_means.append(M_current)\n",
        "\n",
        "  return list_of_means,M_current\n"
      ],
      "execution_count": null,
      "outputs": []
    },
    {
      "cell_type": "code",
      "metadata": {
        "id": "Cafe14HnJpc0"
      },
      "source": [
        "def geomstats_GL_inv_distance(mat1,mat2):\n",
        "  n = mat2.shape[-1]\n",
        "  metric = SPDMetricAffine(n)\n",
        "  dist = metric.dist(mat1,mat2)\n",
        "  return dist"
      ],
      "execution_count": null,
      "outputs": []
    },
    {
      "cell_type": "code",
      "metadata": {
        "colab": {
          "base_uri": "https://localhost:8080/",
          "height": 84,
          "referenced_widgets": [
            "1e1eb795f92d4f05a131b5f3f36c5be5",
            "3bb6fc65083d4d84b92ccdf8d21fe1fd",
            "1a1e4cd1634d477480cfa508e53b102f",
            "f16d74b22c2b4b67a3b2924b6f0bf822",
            "990b849a9be44132bed22d28e472feaf",
            "7bd6b08c6a744c8eb0253e4be00431ba",
            "f54c5ce6e9f8430d994293d8cb5a91d3",
            "effc52f14792417aab18cbfdb919ae41"
          ]
        },
        "id": "cmqFDPfd6jY2",
        "outputId": "71b14c37-54e3-4f17-cd08-0b38103f18ff"
      },
      "source": [
        "mean = 3*np.eye(5)\n",
        "cov_shape = (int)((mean.shape[0] * (mean.shape[0]+1) )/2)\n",
        "print(cov_shape)\n",
        "cov  = np.eye(cov_shape)\n",
        "sample_size = 1000\n",
        "data = synthetic_data(mean,cov,sample_size)"
      ],
      "execution_count": null,
      "outputs": [
        {
          "output_type": "stream",
          "text": [
            "15\n"
          ],
          "name": "stdout"
        },
        {
          "output_type": "display_data",
          "data": {
            "application/vnd.jupyter.widget-view+json": {
              "model_id": "1e1eb795f92d4f05a131b5f3f36c5be5",
              "version_major": 2,
              "version_minor": 0
            },
            "text/plain": [
              "HBox(children=(FloatProgress(value=0.0, max=1000.0), HTML(value='')))"
            ]
          },
          "metadata": {
            "tags": []
          }
        },
        {
          "output_type": "stream",
          "text": [
            "\n"
          ],
          "name": "stdout"
        }
      ]
    },
    {
      "cell_type": "code",
      "metadata": {
        "colab": {
          "base_uri": "https://localhost:8080/"
        },
        "id": "cm-pDQBtP46u",
        "outputId": "094d860e-9329-4c97-ac4c-afccd1200000"
      },
      "source": [
        "list_of_means,M_current = RKEE(data)\n",
        "error = geomstats_GL_inv_distance(M_current,mean)\n",
        "print(M_current)\n",
        "print(\"error : \", error)"
      ],
      "execution_count": null,
      "outputs": [
        {
          "output_type": "stream",
          "text": [
            "[[ 3.16724568  0.0604566  -0.02727895 -0.08035784 -0.0174761 ]\n",
            " [ 0.0604566   3.01602837  0.03622226  0.07417846  0.05885562]\n",
            " [-0.02727895  0.03622226  3.00668642 -0.06915343 -0.06457369]\n",
            " [-0.08035784  0.07417846 -0.06915343  2.99554885  0.02678631]\n",
            " [-0.0174761   0.05885562 -0.06457369  0.02678631  2.92390224]]\n",
            "error :  0.10284419456995568\n"
          ],
          "name": "stdout"
        }
      ]
    },
    {
      "cell_type": "code",
      "metadata": {
        "id": "9t98qFz_MoOM"
      },
      "source": [
        "# #plotting of decreasing error\n",
        "# dist = geomstats_GL_inv_distance(list_of_means,mean)\n",
        "# N = np.arange(1,sample_size+1)\n",
        "# plt.figure(figsize=(8,6))\n",
        "# plt.plot(N,dist)\n",
        "# plt.xlabel(\"N\")\n",
        "# plt.ylabel(\"Error\")\n",
        "# plt.title(\"Decreasing Error of RKEE\")"
      ],
      "execution_count": null,
      "outputs": []
    },
    {
      "cell_type": "markdown",
      "metadata": {
        "id": "ErZAjiHxO5Jf"
      },
      "source": [
        "following plot shows reduction of Error as number of samples increases\n",
        "\n",
        "![download (8).png](data:image/png;base64,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)"
      ]
    },
    {
      "cell_type": "markdown",
      "metadata": {
        "id": "qe_nYj0ZUEgK"
      },
      "source": [
        "## **Profiling for checking BottleNeck**\n",
        "\n"
      ]
    },
    {
      "cell_type": "code",
      "metadata": {
        "id": "HI20uwCr4l3X"
      },
      "source": [
        "#%lprun -f RKEE RKEE(data)"
      ],
      "execution_count": null,
      "outputs": []
    },
    {
      "cell_type": "markdown",
      "metadata": {
        "id": "5XTuFJA15PlF"
      },
      "source": [
        "\n",
        "\n",
        "```\n",
        "Timer unit: 1e-06 s\n",
        "\n",
        "**Total time: 22.1974 s**\n",
        "File: <ipython-input-42-dca9a783d75b>\n",
        "Function: RKEE at line 1\n",
        "\n",
        "\n",
        "Line #      Hits         Time  Per Hit   % Time  Line Contents\n",
        "```\n",
        "\n",
        "---------------------------------------------------------------------\n",
        "\n",
        "     1                                           def RKEE(data):\n",
        "     2                                             \"\"\"\n",
        "     3                                             data : [p,n,n]\n",
        "     4                                             Returns :\n",
        "     5                                             -------------\n",
        "     6                                             Karcher mean wrt to GL invariant metric\n",
        "     7                                             \"\"\"\n",
        "     8                                           \n",
        "     9         1         62.0     62.0      0.0    M_current = data[0]\n",
        "    10         1          2.0      2.0      0.0    list_of_means = [M_current]\n",
        "    11      1000       1307.0      1.3      0.0    for k in range(1,data.shape[0]):\n",
        "    12       999       2853.0      2.9      0.0      X_k       = data[k]\n",
        "    13       999    7079544.0   7086.6     31.9      M_hf      = fractional_matrix_power(M_current,0.5)\n",
        "    14       999    7126669.0   7133.8     32.1      M_nhf     = fractional_matrix_power(M_current,-0.5)\n",
        "    15       999      15506.0     15.5      0.1      temp      = M_nhf @ X_k @ M_nhf\n",
        "    16       999    7952443.0   7960.4     35.8      temp_pow  = fractional_matrix_power(temp,1/k)\n",
        "    17       999      16745.0     16.8      0.1      M_current = M_hf @ temp_pow @ M_hf\n",
        "    18       999       2306.0      2.3      0.0      list_of_means.append(M_current)\n",
        "    19                                           \n",
        "    20         1          2.0      2.0      0.0    return list_of_means,M_current"
      ]
    },
    {
      "cell_type": "markdown",
      "metadata": {
        "id": "THWUT9S94Xfe"
      },
      "source": [
        "## **First Optimization : computatoin of powers using diagonalization**\n",
        "\n",
        "\n",
        "As can be seen most of the time is spent at computing fractional powers. To speed up,  computation of power is done by diagonlization, as SPD matrices are inddeed diagonalizable this is valid. \n",
        "\n",
        "$$\\text{X} = UDU^{T} \\implies X^{a} = UD^{a}U^{T} $$ \n"
      ]
    },
    {
      "cell_type": "code",
      "metadata": {
        "id": "dly8f6xH4Xfi"
      },
      "source": [
        "def frac_pow_egdec(mat,pow):\n",
        "  e_val , e_vec  = gs.linalg.eigh(mat)\n",
        "  e_val_pow      = e_val ** pow\n",
        "  diag           = np.diag(e_val_pow)\n",
        "  pow            =  e_vec @ diag @ e_vec.T\n",
        "  return pow"
      ],
      "execution_count": null,
      "outputs": []
    },
    {
      "cell_type": "code",
      "metadata": {
        "id": "R6K3N7Kh7zN8"
      },
      "source": [
        "def RKEE_opt1(data):\n",
        "  \"\"\"\n",
        "  data : [p,n,n]\n",
        "  Returns :\n",
        "  -------------\n",
        "  Karcher mean wrt to GL invariant metric\n",
        "  \"\"\"\n",
        "\n",
        "  M_current = data[0]\n",
        "  list_of_means = [M_current]\n",
        "  for k in tqdm(range(1,data.shape[0])):\n",
        "    X_k       = data[k]\n",
        "    M_hf      = frac_pow_egdec(M_current,0.5)\n",
        "    M_nhf     = frac_pow_egdec(M_current,-0.5)\n",
        "    temp      = M_nhf @ X_k @ M_nhf\n",
        "    temp_pow  = frac_pow_egdec(temp,1/(k+1))\n",
        "    M_current = M_hf @ temp_pow @ M_hf\n",
        "    list_of_means.append(M_current)\n",
        "\n",
        "  return list_of_means,M_current\n"
      ],
      "execution_count": null,
      "outputs": []
    },
    {
      "cell_type": "code",
      "metadata": {
        "colab": {
          "base_uri": "https://localhost:8080/",
          "height": 171,
          "referenced_widgets": [
            "a2c09c8bc41042a1aa0863c91082dc50",
            "7a7ec549112b49b8b4e2a3f3ba984f46",
            "f7ae0e39adef4a33a185ffc7dc122e6b",
            "893f427a52e94031bb8fdd24b31b55fa",
            "9b80831141b9449693f2b81a5dfe9e40",
            "5b8fbf2fa0ab4c9c8b6038c6010d07a3",
            "c79bd4de398f4fde8676c9aa00b39f20",
            "6b8dd69808a34b3f921d6cb114de3ba0"
          ]
        },
        "id": "HqRJwVt5FK6u",
        "outputId": "8b6d4772-e8a5-4f38-ac11-e2712b109584"
      },
      "source": [
        "list_of_means,M_current = RKEE_opt1(data)\n",
        "error = geomstats_GL_inv_distance(M_current,mean)\n",
        "print(M_current)\n",
        "print(\"error : \", error)"
      ],
      "execution_count": null,
      "outputs": [
        {
          "output_type": "display_data",
          "data": {
            "application/vnd.jupyter.widget-view+json": {
              "model_id": "a2c09c8bc41042a1aa0863c91082dc50",
              "version_major": 2,
              "version_minor": 0
            },
            "text/plain": [
              "HBox(children=(FloatProgress(value=0.0, max=999.0), HTML(value='')))"
            ]
          },
          "metadata": {
            "tags": []
          }
        },
        {
          "output_type": "stream",
          "text": [
            "\n",
            "[[ 3.16724568  0.0604566  -0.02727895 -0.08035784 -0.0174761 ]\n",
            " [ 0.0604566   3.01602837  0.03622226  0.07417846  0.05885562]\n",
            " [-0.02727895  0.03622226  3.00668642 -0.06915343 -0.06457369]\n",
            " [-0.08035784  0.07417846 -0.06915343  2.99554885  0.02678631]\n",
            " [-0.0174761   0.05885562 -0.06457369  0.02678631  2.92390224]]\n",
            "error :  0.1028441945699237\n"
          ],
          "name": "stdout"
        }
      ]
    },
    {
      "cell_type": "code",
      "metadata": {
        "id": "4PqP6KrW7-7E"
      },
      "source": [
        "#%lprun -f RKEE_opt1 RKEE_opt1(data)"
      ],
      "execution_count": null,
      "outputs": []
    },
    {
      "cell_type": "markdown",
      "metadata": {
        "id": "GPbCewLf8Q_3"
      },
      "source": [
        "\n",
        "\n",
        "```\n",
        "Timer unit: 1e-06 s\n",
        "\n",
        "Total time: 0.205232 s\n",
        "File: <ipython-input-113-e9df60f3c43e>\n",
        "Function: RKEE_opt1 at line 1\n",
        "\n",
        "Line #      Hits         Time  Per Hit   % Time  Line Contents\n",
        "```\n",
        "-----------------------------------------------------------------------\n",
        "     1                                           def RKEE_opt1(data):\n",
        "     2                                             \"\"\"\n",
        "     3                                             data : [p,n,n]\n",
        "     4                                             Returns :\n",
        "     5                                             -------------\n",
        "     6                                             Karcher mean wrt to GL invariant metric\n",
        "     7                                             \"\"\"\n",
        "     8                                           \n",
        "     9         1         79.0     79.0      0.0    M_current = data[0]\n",
        "    10         1          2.0      2.0      0.0    list_of_means = [M_current]\n",
        "    11      1000        697.0      0.7      0.3    for k in range(1,data.shape[0]):\n",
        "    12       999       1155.0      1.2      0.6      X_k       = data[k]\n",
        "    13       999      65571.0     65.6     31.9      M_hf      = frac_pow_egdec(M_current,0.5)\n",
        "    14       999      64162.0     64.2     31.3      M_nhf     = frac_pow_egdec(M_current,-0.5)\n",
        "    15       999       4749.0      4.8      2.3      temp      = M_nhf @ X_k @ M_nhf\n",
        "    16       999      63153.0     63.2     30.8      temp_pow  = frac_pow_egdec(temp,1/k)\n",
        "    17       999       4744.0      4.7      2.3      M_current = M_hf @ temp_pow @ M_hf\n",
        "    18       999        919.0      0.9      0.4      list_of_means.append(M_current)\n",
        "    19                                           \n",
        "    20         1          1.0      1.0      0.0    return list_of_means,M_current"
      ]
    },
    {
      "cell_type": "markdown",
      "metadata": {
        "id": "9H195NMxAn9e"
      },
      "source": [
        "# **Second optimization : Batch Computation of powers**\n",
        "\n",
        "We can improve performance further by using observation that $M^{\\frac{1}{2}}$ and $M^{-\\frac{1}{2}}$ can be computed jointly because the matrix eigendecomposition will be same and hence we can compute it only once and carryout  the rest of computation exactly same. Note that `scipy`, `numpy` or `geomstats` don't provide such  kind of function. "
      ]
    },
    {
      "cell_type": "code",
      "metadata": {
        "id": "BXdck6HL4Xfj"
      },
      "source": [
        "def batch_frac_pow_egdec(mat,pows):\n",
        "  e_val , e_vec  = gs.linalg.eigh(mat)\n",
        "  powers = []\n",
        "  for p in pows:\n",
        "    e_val_pow = e_val ** p\n",
        "    diag      = np.diag(e_val_pow)\n",
        "    power       =  e_vec @ diag @ e_vec.T\n",
        "    powers.append(power)\n",
        "  return powers  "
      ],
      "execution_count": null,
      "outputs": []
    },
    {
      "cell_type": "code",
      "metadata": {
        "id": "jiUDwbw281HO"
      },
      "source": [
        "def RKEE_opt2(data):\n",
        "  \"\"\"\n",
        "  data : [p,n,n]\n",
        "  Returns :\n",
        "  -------------\n",
        "  Karcher mean wrt to GL invariant metric\n",
        "  \"\"\"\n",
        "\n",
        "  M_current = data[0]\n",
        "  list_of_means = [M_current]\n",
        "  for k in tqdm(range(1,data.shape[0])):\n",
        "    X_k             = data[k]\n",
        "    M_hf,M_nhf      = batch_frac_pow_egdec(M_current,[0.5,-0.5])\n",
        "    temp            = M_nhf @ X_k @ M_nhf\n",
        "    temp_pow        = batch_frac_pow_egdec(temp,[1/(k+1)])[0]\n",
        "    M_current       = M_hf @ temp_pow @ M_hf\n",
        "    list_of_means.append(M_current)\n",
        "\n",
        "  return list_of_means,M_current\n"
      ],
      "execution_count": null,
      "outputs": []
    },
    {
      "cell_type": "code",
      "metadata": {
        "colab": {
          "base_uri": "https://localhost:8080/",
          "height": 171,
          "referenced_widgets": [
            "f668cbe7e9a4473995ef7e73d51b83b4",
            "5c36641c60de4c96b608e4e243224f32",
            "28d06544ad66413cabce03f50a948e98",
            "6338a1cdf5244090a362824c3e8b75d4",
            "fa4f77ae9ef0458ea8f33e7479bb7279",
            "2d33af32ca0047148cf7ef02cc9a5d02",
            "c47dd74ac98840279e34ea98a5a8ec90",
            "acf37b8b6f7c4c8492fbce64119b7901"
          ]
        },
        "id": "6M1UM4c1CsDn",
        "outputId": "dd157552-e030-44c0-ede8-f964e107e54f"
      },
      "source": [
        "list_of_means,M_current = RKEE_opt2(data)\n",
        "error = geomstats_GL_inv_distance(M_current,mean)\n",
        "print(M_current)\n",
        "print(\"error : \", error)"
      ],
      "execution_count": null,
      "outputs": [
        {
          "output_type": "display_data",
          "data": {
            "application/vnd.jupyter.widget-view+json": {
              "model_id": "f668cbe7e9a4473995ef7e73d51b83b4",
              "version_major": 2,
              "version_minor": 0
            },
            "text/plain": [
              "HBox(children=(FloatProgress(value=0.0, max=999.0), HTML(value='')))"
            ]
          },
          "metadata": {
            "tags": []
          }
        },
        {
          "output_type": "stream",
          "text": [
            "\n",
            "[[ 3.16724568  0.0604566  -0.02727895 -0.08035784 -0.0174761 ]\n",
            " [ 0.0604566   3.01602837  0.03622226  0.07417846  0.05885562]\n",
            " [-0.02727895  0.03622226  3.00668642 -0.06915343 -0.06457369]\n",
            " [-0.08035784  0.07417846 -0.06915343  2.99554885  0.02678631]\n",
            " [-0.0174761   0.05885562 -0.06457369  0.02678631  2.92390224]]\n",
            "error :  0.1028441945699237\n"
          ],
          "name": "stdout"
        }
      ]
    },
    {
      "cell_type": "code",
      "metadata": {
        "id": "qaC_T4S99PTW"
      },
      "source": [
        "#%lprun -f RKEE_opt2 RKEE_opt2(data)"
      ],
      "execution_count": null,
      "outputs": []
    },
    {
      "cell_type": "markdown",
      "metadata": {
        "id": "koHe8FKu-NaF"
      },
      "source": [
        "\n",
        "\n",
        "\n",
        "```\n",
        "\n",
        "Timer unit: 1e-06 s\n",
        "\n",
        "Total time: 0.154766 s\n",
        "File: <ipython-input-116-bc1ce2a4e206>\n",
        "Function: RKEE_opt2 at line 1\n",
        "\n",
        "Line #      Hits         Time  Per Hit   % Time  Line Contents\n",
        "```\n",
        "---------------------------------------------------------------------\n",
        "     1                                           def RKEE_opt2(data):\n",
        "     2                                             \"\"\"\n",
        "     3                                             data : [p,n,n]\n",
        "     4                                             Returns :\n",
        "     5                                             -------------\n",
        "     6                                             Karcher mean wrt to GL invariant metric\n",
        "     7                                             \"\"\"\n",
        "     8                                           \n",
        "     9         1          8.0      8.0      0.0    M_current = data[0]\n",
        "    10         1          1.0      1.0      0.0    list_of_means = [M_current]\n",
        "    11      1000        717.0      0.7      0.5    for k in range(1,data.shape[0]):\n",
        "    12       999       1096.0      1.1      0.7      X_k             = data[k]\n",
        "    13       999      76836.0     76.9     49.6      M_hf,M_nhf      = batch_frac_pow_egdec(M_current,[0.5,-0.5])\n",
        "    14       999       4844.0      4.8      3.1      temp            = M_nhf @ X_k @ M_nhf\n",
        "    15       999      65463.0     65.5     42.3      temp_pow        = frac_pow_egdec(temp,1/k)\n",
        "    16       999       4840.0      4.8      3.1      M_current       = M_hf @ temp_pow @ M_hf\n",
        "    17       999        961.0      1.0      0.6      list_of_means.append(M_current)\n",
        "    18                                           \n",
        "    19         1          0.0      0.0      0.0    return list_of_means,M_current"
      ]
    },
    {
      "cell_type": "markdown",
      "metadata": {
        "id": "4zdkapAt-rGZ"
      },
      "source": [
        "As can be seen for **n=1000**\n",
        "\n",
        "Time for RKEE      : **22.1974 s**\n",
        "\n",
        "Time for RKEE_opt1 : **0.205232 s**\n",
        "\n",
        "Time for RKEE_opt2 : **0.154766 s**\n",
        "\n",
        "Hence the Improvement achieved is **108X**  with first optimization and with second optimization **144X**.\n"
      ]
    },
    {
      "cell_type": "markdown",
      "metadata": {
        "id": "LuQZO9ycmV2C"
      },
      "source": [
        "###**Efficient GL invariant metric computation**.\n",
        "We will see how to compute GL invarint metric efficiently than the current implementation in geomstats. Using $\\log(X^{-1}Y) = -\\log(X) + \\log(Y)$ and efficient `einsum` manipulation, improvement of **3X** is obtained in the case of batch of SPD matrices."
      ]
    },
    {
      "cell_type": "code",
      "metadata": {
        "id": "7XbKSU55krm7"
      },
      "source": [
        "def efficient_GL_invariant_metric(spd_1,spd_2):\n",
        "  \"\"\"\n",
        "    spd_1 : np array\n",
        "    spd_2 : np array\n",
        "  \"\"\"\n",
        "\n",
        "  log_prod = logm(spd_2)-logm(spd_1)\n",
        "  if log_prod.ndim == 2:\n",
        "    dist     =  np.einsum('ij,ji->', log_prod, log_prod)\n",
        "  elif log_prod.ndim == 3:\n",
        "    dist     =  np.einsum('ijk,ikj->i', log_prod, log_prod) \n",
        "  return dist**0.5"
      ],
      "execution_count": null,
      "outputs": []
    },
    {
      "cell_type": "code",
      "metadata": {
        "colab": {
          "base_uri": "https://localhost:8080/",
          "height": 185
        },
        "id": "tvt5JLeeQeRU",
        "outputId": "a0cf0e0c-3e8e-42e7-d086-a5264947a386"
      },
      "source": [
        "array_of_means = np.array(list_of_means)\n",
        "error = efficient_GL_invariant_metric(array_of_means,mean)"
      ],
      "execution_count": null,
      "outputs": [
        {
          "output_type": "error",
          "ename": "NameError",
          "evalue": "ignored",
          "traceback": [
            "\u001b[0;31m---------------------------------------------------------------------------\u001b[0m",
            "\u001b[0;31mNameError\u001b[0m                                 Traceback (most recent call last)",
            "\u001b[0;32m<ipython-input-15-028525524c23>\u001b[0m in \u001b[0;36m<module>\u001b[0;34m()\u001b[0m\n\u001b[0;32m----> 1\u001b[0;31m \u001b[0marray_of_means\u001b[0m \u001b[0;34m=\u001b[0m \u001b[0mnp\u001b[0m\u001b[0;34m.\u001b[0m\u001b[0marray\u001b[0m\u001b[0;34m(\u001b[0m\u001b[0mlist_of_means\u001b[0m\u001b[0;34m)\u001b[0m\u001b[0;34m\u001b[0m\u001b[0;34m\u001b[0m\u001b[0m\n\u001b[0m\u001b[1;32m      2\u001b[0m \u001b[0merror\u001b[0m \u001b[0;34m=\u001b[0m \u001b[0mefficient_GL_invariant_metric\u001b[0m\u001b[0;34m(\u001b[0m\u001b[0marray_of_means\u001b[0m\u001b[0;34m,\u001b[0m\u001b[0mmean\u001b[0m\u001b[0;34m)\u001b[0m\u001b[0;34m\u001b[0m\u001b[0;34m\u001b[0m\u001b[0m\n",
            "\u001b[0;31mNameError\u001b[0m: name 'list_of_means' is not defined"
          ]
        }
      ]
    },
    {
      "cell_type": "code",
      "metadata": {
        "id": "ZFRCoUf7RPWT"
      },
      "source": [
        "%lprun -f geomstats_GL_inv_distance geomstats_GL_inv_distance(array_of_means,mean)"
      ],
      "execution_count": null,
      "outputs": []
    },
    {
      "cell_type": "markdown",
      "metadata": {
        "id": "AvBSoxDYpYj4"
      },
      "source": [
        "\n",
        "\n",
        "\n",
        "```\n",
        "Timer unit: 1e-06 s\n",
        "\n",
        "**Total time: 0.050442 s**\n",
        "File: <ipython-input-34-3a85b589b24d>\n",
        "Function: geomstats_GL_inv_distance at line 1\n",
        "\n",
        "Line #      Hits         Time  Per Hit   % Time  Line Contents\n",
        "\n",
        "```\n",
        "\n",
        "\n",
        "\n",
        "--------------------------------------------------------------------\n",
        "     1                                           def geomstats_GL_inv_distance(mat1,mat2):\n",
        "     2         1          8.0      8.0      0.0    n = mat2.shape[-1]\n",
        "     3         1        152.0    152.0      0.3    metric = SPDMetricAffine(n)\n",
        "     4         1      50280.0  50280.0     99.7    dist = metric.dist(mat1,mat2)\n",
        "     5         1          2.0      2.0      0.0    return dist"
      ]
    },
    {
      "cell_type": "code",
      "metadata": {
        "id": "EVrPZhUiQMxG"
      },
      "source": [
        "#%lprun -f efficient_GL_invariant_metric efficient_GL_invariant_metric(array_of_means,mean)"
      ],
      "execution_count": null,
      "outputs": []
    },
    {
      "cell_type": "markdown",
      "metadata": {
        "id": "-TWkMpCUqP0g"
      },
      "source": [
        "\n",
        "\n",
        "```\n",
        "\n",
        "Timer unit: 1e-06 s\n",
        "\n",
        "**Total time: 0.015065 s**\n",
        "File: <ipython-input-71-e6ec48a9b612>\n",
        "Function: efficient_GL_invariant_metric at line 1\n",
        "\n",
        "Line #      Hits         Time  Per Hit   % Time  Line Contents\n",
        "\n",
        "```\n",
        "\n",
        "---------------------------------------------------------------------\n",
        "     1                                           def efficient_GL_invariant_metric(spd_1,spd_2):\n",
        "     2                                             \"\"\"\n",
        "     3                                               spd_1 : np array\n",
        "     4                                               spd_2 : np array\n",
        "     5                                             \"\"\"\n",
        "     6                                           \n",
        "     7         1      14984.0  14984.0     99.5    log_prod = logm(spd_2)-logm(spd_1)\n",
        "     8         1          2.0      2.0      0.0    if log_prod.ndim == 2:\n",
        "     9                                               dist     =  np.einsum('ij,ji->', log_prod, log_prod)\n",
        "    10         1          1.0      1.0      0.0    elif log_prod.ndim == 3:\n",
        "    11         1         70.0     70.0      0.5      dist     =  np.einsum('ijk,ikj->i', log_prod, log_prod) \n",
        "    12         1          8.0      8.0      0.1    return dist**0.5"
      ]
    },
    {
      "cell_type": "markdown",
      "metadata": {
        "id": "Vho0b3Yqqhyk"
      },
      "source": [
        "Time for geomstats GL-invariant metric implementation :  0.050442 s\n",
        "\n",
        "Time for Efficient Implementation suggested : 0.015065 s\n",
        "\n",
        "Improvement : **3.3X**"
      ]
    },
    {
      "cell_type": "markdown",
      "metadata": {
        "id": "I-NQtLedMxdd"
      },
      "source": [
        "#**Mean of Million  Matrices in Minutes**\n"
      ]
    },
    {
      "cell_type": "markdown",
      "metadata": {
        "id": "NuZzhl6ThjET"
      },
      "source": [
        "Following table shows runtime for computintg mean of **MILLION** SPD matrices for different sizes and for different  code optimizations done.\n",
        "\n",
        "| SPD matrix      | RKEE_opt1 | RKEE_opt2     |\n",
        "| :---        |    :----:   |          ---: |\n",
        "| 3x3      | 3 min 22 sec       | 2 min 44 sec  |\n",
        "| 5x5      | 3 min 41 sec        | 2 min 57 sec      |\n",
        "| 10x10      | 9 min 30 sec        | 7 min 40 sec      |"
      ]
    },
    {
      "cell_type": "markdown",
      "metadata": {
        "id": "nG7WwDFII-EN"
      },
      "source": [
        "#**Experiments on MSRAction3D dataset**\n",
        "\n",
        "MSR Action3D dataset consists of 20 action types , 10 subjects performs each action 2 or 3 times. It consists of both depth maps(640x240) as well as Skeleton maps. We will be working with Skeleton maps which looks as follows \n",
        "\n",
        "![Screenshot_2021-05-03 Human Action Recognition Using a Temporal Hierarchy of Covariance Descriptors on 3D Joint Locations -[...].png](data:image/png;base64,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)\n",
        "\n",
        "An action is sequence of skeleton body(like above) peformed over T frames (see below for example). Here each action figure is represented by 20 joints and each joint is represented by 3D co-ordinates.  $\\textbf{S}_{t} = [x_{1},\\dots,x_{20},y_{1},\\dots,y_{20},z_{1},\\dots,z_{20}]$ is representation of single skeleton body at time $t$. \n",
        "\n",
        "###**Covariance Descriptor**\n",
        "one standard way to represent such action is by using covariance matrices. Let action be performed over $T$ frames, and let $\\textbf{S}_{t}$ be vectorial representation of skeleton at time $t$ as discussed above. Then covariance descriptor of action is defined as \n",
        "\n",
        "$$\\text{Cov}(\\textbf{S}) = \\frac{1}{T-1} \\sum_{t=1}^{T} (\\textbf{S}_{t} - \\overline{\\textbf{S}}_{t}) (\\textbf{S}_{t} - \\overline{\\textbf{S}}_{t})^{T}$$\n",
        "\n",
        "So each action is represented by $60\\times60$ covariance matrix, which we will be assuming to be non-degenerate and hence belong to $\\text{Sym}_{+}^{60}$\n",
        "\n"
      ]
    },
    {
      "cell_type": "code",
      "metadata": {
        "colab": {
          "base_uri": "https://localhost:8080/"
        },
        "id": "QFALu9tmaW3E",
        "outputId": "62299dba-f1d0-444b-dbc4-9341b1bf9254"
      },
      "source": [
        "#mounting the data  on drive \n",
        "\n",
        "from google.colab import drive\n",
        "drive.mount('/content/drive')\n",
        "path = '/content/drive/MyDrive/data/other/MSRAction3DSkeleton(20joints)'\n",
        "\n",
        "from os import listdir\n",
        "from os.path import join\n",
        "import numpy as np"
      ],
      "execution_count": null,
      "outputs": [
        {
          "output_type": "stream",
          "text": [
            "Drive already mounted at /content/drive; to attempt to forcibly remount, call drive.mount(\"/content/drive\", force_remount=True).\n"
          ],
          "name": "stdout"
        }
      ]
    },
    {
      "cell_type": "code",
      "metadata": {
        "id": "oEnsXV6webN7"
      },
      "source": [
        ""
      ],
      "execution_count": null,
      "outputs": []
    },
    {
      "cell_type": "code",
      "metadata": {
        "id": "4Dn0QavCRzf-"
      },
      "source": [
        "#loading daata  \n",
        "\n",
        "def full_fname2_str(data_dir, fname, sep_char):\n",
        "    fnametostr = ''.join(fname).replace(data_dir, '')\n",
        "    ind = int(fnametostr.index(sep_char))\n",
        "    label = int(fnametostr[ind + 1:ind + 3])\n",
        "    return label\n",
        "\n",
        "\n",
        "def read(data_dir):\n",
        "    print('Loading MSR 3D Data, data directory %s' % data_dir)\n",
        "    data, labels, lens, subjects = [], [], [], []\n",
        "    filenames = []\n",
        "    documents = [join(data_dir, d)\n",
        "                 for d in sorted(listdir(data_dir))]           \n",
        "    filenames.extend(documents)\n",
        "    filenames = np.array(filenames)\n",
        "    #print(\"filenames\" , filenames)\n",
        "    #return \n",
        "\n",
        "    for file in filenames:\n",
        "        action = np.loadtxt(file)[:, :3].flatten()\n",
        "        labels.append(full_fname2_str(data_dir, file, 'a'))\n",
        "        frame_size = len(action) // 60  # 20 iskeleton num x,y,z 3D points\n",
        "        lens.append(frame_size)\n",
        "        action = np.asarray(action).reshape(frame_size, 60)\n",
        "        #print(\"action shape\",action.shape)\n",
        "        \n",
        "        new_act = []\n",
        "        for frame in action:\n",
        "            new_act.append(frame)\n",
        "\n",
        "        data.append(new_act)\n",
        "        subjects.append(full_fname2_str(data_dir, file, 's'))\n",
        "        \n",
        "    data = np.asarray(data)\n",
        "    labels = np.asarray(labels) -1\n",
        "    lens = np.asarray(lens)\n",
        "    \n",
        "    subjects = np.asarray(subjects)\n",
        "    print(\"All files read!\")\n",
        "    print('initial shapes [data label len]: %s %s %s' % (data.shape, labels.shape, lens.shape))\n",
        "    return data,labels,lens"
      ],
      "execution_count": null,
      "outputs": []
    },
    {
      "cell_type": "code",
      "metadata": {
        "colab": {
          "base_uri": "https://localhost:8080/"
        },
        "id": "Gj__FKKedql1",
        "outputId": "33efbb18-6782-4386-9d56-85ec6b3ce47a"
      },
      "source": [
        "data, labels, lens = read(path)"
      ],
      "execution_count": null,
      "outputs": [
        {
          "output_type": "stream",
          "text": [
            "Loading MSR 3D Data, data directory /content/drive/MyDrive/data/other/MSRAction3DSkeleton(20joints)\n",
            "All files read!\n",
            "initial shapes [data label len]: (576,) (576,) (576,)\n"
          ],
          "name": "stdout"
        },
        {
          "output_type": "stream",
          "text": [
            "/usr/local/lib/python3.7/dist-packages/numpy/core/_asarray.py:83: VisibleDeprecationWarning: Creating an ndarray from ragged nested sequences (which is a list-or-tuple of lists-or-tuples-or ndarrays with different lengths or shapes) is deprecated. If you meant to do this, you must specify 'dtype=object' when creating the ndarray\n",
            "  return array(a, dtype, copy=False, order=order)\n"
          ],
          "name": "stderr"
        }
      ]
    },
    {
      "cell_type": "code",
      "metadata": {
        "id": "_JvW6KmcomC2"
      },
      "source": [
        "#tell them that GL_invariant metric should be computed in easiest way"
      ],
      "execution_count": null,
      "outputs": []
    },
    {
      "cell_type": "markdown",
      "metadata": {
        "id": "k-3HP55GJAHQ"
      },
      "source": [
        "Building **Efficient K-means**(for GL-invariant metric) with Recursive Karcher Expectation Estimator.\n",
        "\n",
        "With RKEE, we can efficintely update (add and remove) the mean\n",
        "\n",
        "broad idea of **Efficient-K-means:**\n",
        "\n",
        "\n",
        "*   Let there be K clusters\n",
        "*   Let there $X_i$ be points in ith iteration whose clusters have changed\n",
        "*   for $x_i \\in X_i$:\n",
        "\n",
        "$\\hspace{1cm} \\text{Let S be previous cluster of }  x_i$\n",
        "\n",
        "$\\hspace{1cm} \\text{Let T be current cluster of }   x_i$\n",
        "\n",
        "$\\hspace{1cm} \\text{new mean of S} = \\text{SUBTRACT}\\text{(current mean of S,x_i)}  $\n",
        "\n",
        "$\\hspace{1cm} \\text{new mean of T} = \\text{ADD}\\text{(current mean of T, x_i)}$\n",
        "\n",
        "\n",
        "\n",
        "\n",
        "\n",
        "\n",
        "\n",
        "\n",
        "\n"
      ]
    },
    {
      "cell_type": "code",
      "metadata": {
        "id": "xg1hGYQXATWT"
      },
      "source": [
        "def generate_data(means,samples_per_mean):\n",
        "  \"\"\"\n",
        "  means    : [N,n,n]\n",
        "  ----------------\n",
        "  Returns  :\n",
        "\n",
        "  \"\"\"\n",
        "  n = means.shape[1]\n",
        "  p = (int)((n*(n+1))/2)\n",
        "  cov = np.eye(p)/p\n",
        "  total_data = []\n",
        "  labels = []\n",
        "  for i,mean in enumerate(means):\n",
        "    data = log_normal_sampling(mean,cov,samples_per_mean)\n",
        "    total_data.append(data)\n",
        "    labels.append(np.array([i] * samples_per_mean ))\n",
        "  total_data = np.vstack(total_data)\n",
        "  labels = np.hstack(labels)\n",
        "  return total_data,labels"
      ],
      "execution_count": null,
      "outputs": []
    },
    {
      "cell_type": "code",
      "metadata": {
        "id": "Ic43lzelFUMy"
      },
      "source": [
        "def get_data(dim=5,num_clusters=7,samples_per_mean=200):\n",
        "  base = np.eye(dim)\n",
        "  mul  = np.random.uniform(0,3*num_clusters,num_clusters)\n",
        "  cluster_centers = np.array([m*base for m in mul ])\n",
        "  data,labels = generate_data(cluster_centers,samples_per_mean)\n",
        "  idx = np.random.permutation(len(data))\n",
        "  x,y = data[idx], labels[idx]\n",
        "  return x,y,cluster_centers\n"
      ],
      "execution_count": null,
      "outputs": []
    },
    {
      "cell_type": "code",
      "metadata": {
        "id": "6bXQg2apNJOI"
      },
      "source": [
        "\"\"\"K-means clustering.\"\"\"\n",
        "\n",
        "import logging\n",
        "from random import randint\n",
        "from sklearn.base import BaseEstimator, ClusterMixin\n",
        "import geomstats.backend as gs\n",
        "from geomstats.learning._template import TransformerMixin\n",
        "from geomstats.learning.frechet_mean import FrechetMean\n",
        "\n",
        "\n",
        "class EfficientKMeans(TransformerMixin, ClusterMixin, BaseEstimator):\n",
        "    \"\"\"Class for k-means clustering on manifolds.\n",
        "    K-means algorithm using Riemannian manifolds.\n",
        "    Parameters\n",
        "    ----------\n",
        "    n_clusters : int\n",
        "        Number of clusters (k value of the k-means).\n",
        "        Optional, default: 8.\n",
        "    init : str\n",
        "        How to initialize centroids at the beginning of the algorithm. The\n",
        "        choice 'random' will select training points as initial centroids\n",
        "        uniformly at random.\n",
        "        Optional, default: 'random'.\n",
        "    tol : float\n",
        "        Convergence factor. Convergence is achieved when the difference of mean\n",
        "        distance between two steps is lower than tol.\n",
        "        Optional, default: 1e-2.\n",
        "    verbose : int\n",
        "        If verbose > 0, information will be printed during learning.\n",
        "        Optional, default: 0.\n",
        "    \"\"\"\n",
        "\n",
        "    def __init__(self, metric, n_clusters=8, init='random',tol=1e-2, verbose=0):\n",
        "        self.n_clusters = n_clusters\n",
        "        self.init = init\n",
        "        self.metric = metric\n",
        "        self.tol = tol\n",
        "        self.verbose = verbose\n",
        "\n",
        "        self.centroids = None\n",
        "        self.belongs   = None\n",
        "\n",
        "    def fit(self, X, max_iter=100):\n",
        "        \"\"\"Provide clusters centroids and data labels.\n",
        "        Alternate between computing the mean of each cluster\n",
        "        and labelling data according to the new positions of the centroids.\n",
        "        Parameters\n",
        "        ----------\n",
        "        X : array-like, shape=[..., n_features]\n",
        "            Training data, where n_samples is the number of samples and\n",
        "            n_features is the number of features.\n",
        "        max_iter : int\n",
        "            Maximum number of iterations.\n",
        "            Optional, default: 100.\n",
        "        Returns\n",
        "        -------\n",
        "        self : array-like, shape=[n_clusters,]\n",
        "            Centroids.\n",
        "        \"\"\"\n",
        "        n_samples = X.shape[0]\n",
        "        self.centroids = [gs.expand_dims(X[randint(0, n_samples - 1)], 0)\n",
        "                          for i in range(self.n_clusters)]\n",
        "        self.centroids = gs.concatenate(self.centroids, axis=0)\n",
        "        index = 0\n",
        "\n",
        "        while index < max_iter:\n",
        "            \n",
        "            index += 1\n",
        "            dists = [gs.to_ndarray(\n",
        "                     self.metric.dist(self.centroids[i], X), 2, 1)\n",
        "                     for i in range(self.n_clusters)]\n",
        "            dists = gs.hstack(dists)\n",
        "            belongs = gs.argmin(dists, 1)\n",
        "            if (index > 1):\n",
        "                old_belongs  = gs.copy(self.belongs)\n",
        "                self.belongs = belongs\n",
        "            old_centroids = gs.copy(self.centroids)\n",
        "            for i in range(self.n_clusters):\n",
        "                fold = gs.squeeze(X[belongs == i])\n",
        "                if len(fold) > 0:\n",
        "\n",
        "                    if (index == 1) :\n",
        "                        self.centroids[i] = self.compute_mean(fold)\n",
        "                        self.belongs = belongs\n",
        "                        \n",
        "                    else :\n",
        "                        old = old_belongs == i\n",
        "                        new = self.belongs == i\n",
        "                        previous_total = np.sum(old)\n",
        "                        add =  X[ np.logical_and(new,np.invert(old)) ]\n",
        "                        sub =  X[ np.logical_and(old,np.invert(new)) ]\n",
        "                        \n",
        "                        if (np.sum(new) != np.sum(old)- sub.shape[0] + add.shape[0]):\n",
        "                          print(\"!!!!!!!!Error!!!!!!!\")\n",
        "                        self.centroids[i] = self.update_centroid(old_centroids[i],add,sub,previous_total)\n",
        "\n",
        "                else:\n",
        "                    self.centroids[i] = X[randint(0, n_samples - 1)]\n",
        "\n",
        "            centroids_distances = self.metric.dist(\n",
        "                old_centroids, self.centroids)\n",
        "\n",
        "            if gs.mean(centroids_distances) < self.tol:\n",
        "                if self.verbose > 0:\n",
        "                    logging.info('Convergence reached after {} '\n",
        "                                 'iterations'.format(index))\n",
        "\n",
        "                if self.n_clusters == 1:\n",
        "                    self.centroids = gs.squeeze(self.centroids, axis=0)\n",
        "\n",
        "                return gs.copy(self.centroids)\n",
        "\n",
        "        if index == max_iter:\n",
        "            logging.warning('K-means maximum number of iterations {} reached. '\n",
        "                            'The mean may be inaccurate'.format(max_iter))\n",
        "\n",
        "        if self.n_clusters == 1:\n",
        "            self.centroids = gs.squeeze(self.centroids, axis=0)\n",
        "        return gs.copy(self.centroids)\n",
        "\n",
        "    def update(self,mean,point,weight):\n",
        "        \"\"\"\n",
        "        mean    : mean of some points\n",
        "        point   : new point\n",
        "        weight  : weight \n",
        "            depending upon the weight (add or removes) point to the mean \n",
        "        \"\"\"\n",
        "\n",
        "          \n",
        "        # M_hf      = fractional_matrix_power(mean,0.5)\n",
        "        # M_nhf     = fractional_matrix_power(mean,-0.5)\n",
        "        # temp      = M_nhf @ point @ M_nhf\n",
        "        # temp_pow  = fractional_matrix_power(temp,weight)\n",
        "        # M_current = M_hf @ temp_pow @ M_hf\n",
        "\n",
        "        M_hf,M_nhf      = batch_frac_pow_egdec(mean,[0.5,-0.5])\n",
        "        temp            = M_nhf @ point @ M_nhf\n",
        "        # manifold = spd.SPDMatrices(temp.shape[-1])\n",
        "        # print(manifold.belongs(temp))\n",
        "        temp_pow        = frac_pow_egdec(temp,weight)\n",
        "        M_current       = M_hf @ temp_pow @ M_hf\n",
        "        return M_current\n",
        "\n",
        " \n",
        "    def compute_mean(self,X):\n",
        "        \"\"\"\n",
        "        X : [N,n,n]\n",
        "        Returns:\n",
        "        -------\n",
        "        mean:[n,n]\n",
        "        \"\"\"\n",
        "        M_current = X[0]\n",
        "        for k in range(1,X.shape[0]):\n",
        "          M_current = self.update(M_current,X[k],1/(k+1))\n",
        "        return M_current\n",
        "\n",
        "\n",
        "    def update_centroid(self,current_centroid,add,sub,curr_N):\n",
        "        \"\"\"\n",
        "        current_centroid : centroid [n,n]\n",
        "        add  : points to be added [a,n,n]\n",
        "        sub  : points to be subtracted [s,n,n]\n",
        "        curr_N : number of points that were used to compute current_centroid\n",
        "        \"\"\"    \n",
        "        \n",
        "        # print(\"curr_N\" , curr_N)\n",
        "        # print(\"add \" , add.shape[0])\n",
        "        # print(\"sub\" , sub.shape[0])\n",
        "        for point in add:\n",
        "            weight = 1/(curr_N+1)\n",
        "            current_centroid = self.update(current_centroid,point,weight)\n",
        "            curr_N = curr_N + 1\n",
        "\n",
        "\n",
        "        for point in sub:\n",
        "            weight = -1/(curr_N-1)\n",
        "            current_centroid = self.update(current_centroid,point,weight)\n",
        "            curr_N = curr_N - 1    \n",
        "        return current_centroid\n",
        "\n",
        "    def predict(self, X):\n",
        "        \"\"\"Predict the labels for each data point.\n",
        "        Label each data point with the cluster having the nearest\n",
        "        centroid using metric distance.\n",
        "        Parameters\n",
        "        ----------\n",
        "        X : array-like, shape=[..., n_features]\n",
        "            Input data.\n",
        "        Returns\n",
        "        -------\n",
        "        self : array-like, shape=[...,]\n",
        "            Array of predicted cluster indices for each sample.\n",
        "        \"\"\"\n",
        "        if self.centroids is None:\n",
        "            raise RuntimeError('fit needs to be called first.')\n",
        "        dists = gs.stack(\n",
        "            [self.metric.dist(centroid, X)\n",
        "             for centroid in self.centroids],\n",
        "            axis=1)\n",
        "        dists = gs.squeeze(dists)\n",
        "        belongs = gs.argmin(dists, -1)\n",
        "        return belongs"
      ],
      "execution_count": null,
      "outputs": []
    },
    {
      "cell_type": "code",
      "metadata": {
        "id": "MoNvIF6_fxxI"
      },
      "source": [
        "import logging\n",
        "from random import randint\n",
        "\n",
        "from sklearn.base import BaseEstimator, ClusterMixin\n",
        "\n",
        "import geomstats.backend as gs\n",
        "from geomstats.learning._template import TransformerMixin\n",
        "from geomstats.learning.frechet_mean import FrechetMean\n",
        "\n",
        "\n",
        "class RiemannianKMeans(TransformerMixin, ClusterMixin, BaseEstimator):\n",
        "    \"\"\"Class for k-means clustering on manifolds.\n",
        "    K-means algorithm using Riemannian manifolds.\n",
        "    Parameters\n",
        "    ----------\n",
        "    n_clusters : int\n",
        "        Number of clusters (k value of the k-means).\n",
        "        Optional, default: 8.\n",
        "    metric : object of class RiemannianMetric\n",
        "        The geomstats Riemmanian metric associate to the space used.\n",
        "    init : str\n",
        "        How to initialize centroids at the beginning of the algorithm. The\n",
        "        choice 'random' will select training points as initial centroids\n",
        "        uniformly at random.\n",
        "        Optional, default: 'random'.\n",
        "    tol : float\n",
        "        Convergence factor. Convergence is achieved when the difference of mean\n",
        "        distance between two steps is lower than tol.\n",
        "        Optional, default: 1e-2.\n",
        "    verbose : int\n",
        "        If verbose > 0, information will be printed during learning.\n",
        "        Optional, default: 0.\n",
        "    Example\n",
        "    -------\n",
        "    Available example on the Poincaré Ball and Hypersphere manifolds\n",
        "    :mod:`examples.plot_kmeans_manifolds`\n",
        "    \"\"\"\n",
        "\n",
        "    def __init__(\n",
        "            self, metric, n_clusters=8, init='random', lr=5e-3,\n",
        "            tol=1e-2, mean_method='default', verbose=0, point_type='vector'):\n",
        "        self.n_clusters = n_clusters\n",
        "        self.init = init\n",
        "        self.metric = metric\n",
        "        self.tol = tol\n",
        "        self.lr = lr\n",
        "        self.verbose = verbose\n",
        "        self.mean_method = mean_method\n",
        "        self.point_type = point_type\n",
        "\n",
        "        self.centroids = None\n",
        "\n",
        "    def fit(self, X, max_iter=100):\n",
        "        \"\"\"Provide clusters centroids and data labels.\n",
        "        Alternate between computing the mean of each cluster\n",
        "        and labelling data according to the new positions of the centroids.\n",
        "        Parameters\n",
        "        ----------\n",
        "        X : array-like, shape=[..., n_features]\n",
        "            Training data, where n_samples is the number of samples and\n",
        "            n_features is the number of features.\n",
        "        max_iter : int\n",
        "            Maximum number of iterations.\n",
        "            Optional, default: 100.\n",
        "        Returns\n",
        "        -------\n",
        "        self : array-like, shape=[n_clusters,]\n",
        "            Centroids.\n",
        "        \"\"\"\n",
        "        n_samples = X.shape[0]\n",
        "        self.centroids = [gs.expand_dims(X[randint(0, n_samples - 1)], 0)\n",
        "                          for i in range(self.n_clusters)]\n",
        "        self.centroids = gs.concatenate(self.centroids, axis=0)\n",
        "        index = 0\n",
        "        while index < max_iter:\n",
        "            index += 1\n",
        "\n",
        "            dists = [gs.to_ndarray(\n",
        "                     self.metric.dist(self.centroids[i], X), 2, 1)\n",
        "                     for i in range(self.n_clusters)]\n",
        "            dists = gs.hstack(dists)\n",
        "            belongs = gs.argmin(dists, 1)\n",
        "            old_centroids = gs.copy(self.centroids)\n",
        "            for i in range(self.n_clusters):\n",
        "                fold = gs.squeeze(X[belongs == i])\n",
        "                \n",
        "\n",
        "                if len(fold) > 0:\n",
        "\n",
        "                    mean = FrechetMean(\n",
        "                        metric=self.metric,\n",
        "                        method=self.mean_method,\n",
        "                        max_iter=150,\n",
        "                        lr=self.lr,\n",
        "                        point_type=self.point_type)\n",
        "                    mean.fit(fold)\n",
        "\n",
        "                    self.centroids[i] = mean.estimate_\n",
        "                else:\n",
        "                    self.centroids[i] = X[randint(0, n_samples - 1)]\n",
        "\n",
        "            centroids_distances = self.metric.dist(\n",
        "                old_centroids, self.centroids)\n",
        "\n",
        "            if gs.mean(centroids_distances) < self.tol:\n",
        "                if self.verbose > 0:\n",
        "                    logging.info('Convergence reached after {} '\n",
        "                                 'iterations'.format(index))\n",
        "\n",
        "                if self.n_clusters == 1:\n",
        "                    self.centroids = gs.squeeze(self.centroids, axis=0)\n",
        "\n",
        "                return gs.copy(self.centroids)\n",
        "\n",
        "        if index == max_iter:\n",
        "            logging.warning('K-means maximum number of iterations {} reached. '\n",
        "                            'The mean may be inaccurate'.format(max_iter))\n",
        "\n",
        "        if self.n_clusters == 1:\n",
        "            self.centroids = gs.squeeze(self.centroids, axis=0)\n",
        "        return gs.copy(self.centroids)\n",
        "\n",
        "    def predict(self, X):\n",
        "        \"\"\"Predict the labels for each data point.\n",
        "        Label each data point with the cluster having the nearest\n",
        "        centroid using metric distance.\n",
        "        Parameters\n",
        "        ----------\n",
        "        X : array-like, shape=[..., n_features]\n",
        "            Input data.\n",
        "        Returns\n",
        "        -------\n",
        "        self : array-like, shape=[...,]\n",
        "            Array of predicted cluster indices for each sample.\n",
        "        \"\"\"\n",
        "        if self.centroids is None:\n",
        "            raise RuntimeError('fit needs to be called first.')\n",
        "        dists = gs.stack(\n",
        "            [self.metric.dist(centroid, X)\n",
        "             for centroid in self.centroids],\n",
        "            axis=1)\n",
        "        dists = gs.squeeze(dists)\n",
        "\n",
        "        belongs = gs.argmin(dists, -1)\n",
        "\n",
        "        return belongs"
      ],
      "execution_count": null,
      "outputs": []
    },
    {
      "cell_type": "code",
      "metadata": {
        "id": "ZzNCHoR90mrT"
      },
      "source": [
        "def get_error(true,pred,metric):\n",
        "  dist = metric.dist(true,pred)\n",
        "  error = gs.mean(dist)\n",
        "  return error"
      ],
      "execution_count": null,
      "outputs": []
    },
    {
      "cell_type": "code",
      "metadata": {
        "colab": {
          "base_uri": "https://localhost:8080/"
        },
        "id": "mTB7liyxl0mO",
        "outputId": "2efb043c-8292-40a4-b26c-923c02af9273"
      },
      "source": [
        "X,y,cluster_centers = get_data(num_clusters = 8,samples_per_mean=1000)\n",
        "true_centers = cluster_centers[y]\n",
        "n = X.shape[1]\n",
        "print(\"data\" , X.shape)\n",
        "print(\"labels\" , y.shape)\n",
        "metric = SPDMetricAffine(n)"
      ],
      "execution_count": null,
      "outputs": [
        {
          "output_type": "stream",
          "text": [
            "data (8000, 5, 5)\n",
            "labels (8000,)\n"
          ],
          "name": "stdout"
        }
      ]
    },
    {
      "cell_type": "code",
      "metadata": {
        "id": "KmvZScRRbaU-"
      },
      "source": [
        "# kmeans = RiemannianKMeans(metric, 8, tol=1e-3 ,point_type='matrix' , verbose=1)\n",
        "# kmeans.fit(X)\n",
        "# pred_labels  = kmeans.predict(X)\n",
        "# centroids = kmeans.centroids\n",
        "# pred_centers = centroids[pred_labels]\n",
        "# error = get_error(true_centers,pred_centers,metric)\n",
        "# print(\"ERROR is \", error)"
      ],
      "execution_count": null,
      "outputs": []
    },
    {
      "cell_type": "code",
      "metadata": {
        "colab": {
          "base_uri": "https://localhost:8080/"
        },
        "id": "SXxru2Ey7Ub8",
        "outputId": "1f316a77-9568-47c7-de96-9723c52f082c"
      },
      "source": [
        "%lprun -f kmeans.fit kmeans.fit(X)"
      ],
      "execution_count": null,
      "outputs": [
        {
          "output_type": "stream",
          "text": [
            "UsageError: Could not find function 'kmeans.fit'.\n",
            "NameError: name 'kmeans' is not defined\n"
          ],
          "name": "stderr"
        }
      ]
    },
    {
      "cell_type": "code",
      "metadata": {
        "id": "UPc56wr7nKO4"
      },
      "source": [
        "# kmeans = EfficientKMeans(metric, 8, tol=1e-3,verbose=1)\n",
        "# kmeans.fit(X)\n",
        "# pred_labels  = kmeans.predict(X)\n",
        "# centroids = kmeans.centroids\n",
        "# pred_centers = centroids[pred_labels]\n",
        "# error = get_error(true_centers,pred_centers,metric)\n",
        "# print(\"ERROR is \", error)"
      ],
      "execution_count": null,
      "outputs": []
    },
    {
      "cell_type": "code",
      "metadata": {
        "id": "PrX4L4N46MQJ"
      },
      "source": [
        "%lprun -f kmeans.fit kmeans.fit(X)"
      ],
      "execution_count": null,
      "outputs": []
    },
    {
      "cell_type": "code",
      "metadata": {
        "id": "pMZfa5HIkOA0"
      },
      "source": [
        "def add (M, X, k):\n",
        "  M_hf      = fractional_matrix_power(M,0.5)\n",
        "  M_nhf     = fractional_matrix_power(M,-0.5)\n",
        "  temp      = M_nhf @ X @ M_nhf\n",
        "  temp_pow  = fractional_matrix_power(temp,1/(k+1))\n",
        "  M_current = M_hf @ temp_pow @ M_hf\n",
        "  return M_current"
      ],
      "execution_count": null,
      "outputs": []
    },
    {
      "cell_type": "code",
      "metadata": {
        "id": "rEK9umgCk3vE"
      },
      "source": [
        "def subtract(M, X, k):\n",
        "  M_hf      = fractional_matrix_power(M,0.5)\n",
        "  M_nhf     = fractional_matrix_power(M,-0.5)\n",
        "  temp      = M_nhf @ X @ M_nhf\n",
        "  temp_pow  = fractional_matrix_power(temp,-1/(k-1))\n",
        "  M_current = M_hf @ temp_pow @ M_hf\n",
        "  return M_current\n"
      ],
      "execution_count": null,
      "outputs": []
    },
    {
      "cell_type": "markdown",
      "metadata": {
        "id": "lvkDcfexjA4j"
      },
      "source": [
        "## **Proposed Features of Geomstats**:\n",
        "\n",
        "\n",
        "1.   4 Dimensional matrix logarithm `log` , matrix exponential  `exp` functions\n",
        "\n",
        "2.   `log-normal` distribution sampler on Space of SPD matrices\n",
        "\n",
        "3.   Efficient way for computing `GL-invariant` metric \n",
        "\n",
        "4.   `Recursive Estimator` for Mean of SPD matrices under GL-invariant metric\n",
        "\n",
        "5.   Efficient `Online K-means` Algorithm that based on RKEE\n",
        "\n",
        "6.   `Riemmanian MDM` Algorithm for classificaiton based on RKEE\n",
        "\n",
        "7.    `MSRAction3D dataset` is around 5MB in zipped version. This could be another dataset that can be natively supported in Geomstats"
      ]
    },
    {
      "cell_type": "markdown",
      "metadata": {
        "id": "7bUdXSnJmOkK"
      },
      "source": [
        "## **References**\n",
        "\n",
        "(1) [Schwartzman, A. (2016), ‘Lognormal distributions and geometric averages of symmetric\n",
        "positive definite matrices’](https://www.ncbi.nlm.nih.gov/pmc/articles/PMC5222531/#:~:text=Analogously%2C%20a%20random%20symmetric%20positive,%2Dmatrix%2Dvariate%20lognormal%20distribution.)\n",
        "\n",
        "(2) [Recursive Karcher Expectation Estimators And Geometric Law of\n",
        "Large Numbers](http://proceedings.mlr.press/v31/ho13a.pdf)\n",
        "\n",
        "(4) [Action recognition based on a bag of 3D points](https://ieeexplore.ieee.org/document/5543273)\n",
        "\n",
        "(3) [Human Action Recognition Using a Temporal Hierarchy\n",
        "of Covariance Descriptors on 3D Joint Locations](http://eng.staff.alexu.edu.eg/~mtorki/Publications/IJCAI13Hussein.pdf)\n",
        "\n",
        "\n",
        "\n"
      ]
    }
  ]
}