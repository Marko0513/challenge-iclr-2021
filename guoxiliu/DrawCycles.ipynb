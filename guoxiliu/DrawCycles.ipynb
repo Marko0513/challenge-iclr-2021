{
 "cells": [
  {
   "cell_type": "markdown",
   "metadata": {},
   "source": [
    "# Drawing Cycles with Giotto-TDA"
   ]
  },
  {
   "cell_type": "markdown",
   "metadata": {},
   "source": [
    "## 1. Introduction and Motivation"
   ]
  },
  {
   "cell_type": "markdown",
   "metadata": {},
   "source": [
    "Information captured by persistent homology is commonly represented by the persistence diagram or, equivalently, a persistence barcode. Even if mathematically sound, these representations are not well suited for exploratory data analysis. They represent effectively the lifespan of each topological feature but they loose connection with the original domain space.\n",
    "\n",
    "The main challenge that a user has to face is then \"guessing\" if the topological features captured by persistent homology correspond to the features of interest for her/his application.\n",
    "\n",
    "\n"
   ]
  },
  {
   "cell_type": "markdown",
   "metadata": {},
   "source": [
    "## 2. Anaysis"
   ]
  },
  {
   "cell_type": "markdown",
   "metadata": {},
   "source": [
    "### 2a. Dataset"
   ]
  },
  {
   "cell_type": "markdown",
   "metadata": {},
   "source": [
    "COMMENT - I will add here a short description of the dataset"
   ]
  },
  {
   "cell_type": "markdown",
   "metadata": {},
   "source": [
    "### 2b. Visualizing and comparing cycles"
   ]
  },
  {
   "cell_type": "markdown",
   "metadata": {},
   "source": [
    "COMMENT - You can focus on this part for now. "
   ]
  },
  {
   "cell_type": "markdown",
   "metadata": {},
   "source": [
    "The idea is to have and showcase\n",
    "- a function for visualizing all cycles overlaied to the original image (i think you can use the original vtk files instead of the json files which are only good for the web-interface)\n",
    "- a function for visualizing in a single plot, persistence images (from giotto-tda), persistence diagram (from my vtk file), persistence cycles on top of original image (reusing previous function)\n",
    "- a function to compare two datasets. This should create a plot calling the previous visualization on two distinct images. This function should have an input parameter were we can specify to highlight the most distinct pixels in the persistence image and the most distinct cycles."
   ]
  },
  {
   "cell_type": "markdown",
   "metadata": {},
   "source": [
    "## 3. Benchmark"
   ]
  },
  {
   "cell_type": "markdown",
   "metadata": {},
   "source": []
  },
  {
   "cell_type": "markdown",
   "metadata": {},
   "source": [
    "## 4. Limitations and Perspectives"
   ]
  },
  {
   "cell_type": "markdown",
   "metadata": {},
   "source": []
  }
 ],
 "metadata": {
  "kernelspec": {
   "display_name": "Python 3",
   "language": "python",
   "name": "python3"
  },
  "language_info": {
   "codemirror_mode": {
    "name": "ipython",
    "version": 3
   },
   "file_extension": ".py",
   "mimetype": "text/x-python",
   "name": "python",
   "nbconvert_exporter": "python",
   "pygments_lexer": "ipython3",
   "version": "3.7.6"
  }
 },
 "nbformat": 4,
 "nbformat_minor": 5
}
