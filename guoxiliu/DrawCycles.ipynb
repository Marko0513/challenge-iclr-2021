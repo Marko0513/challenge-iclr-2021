{
 "cells": [
  {
   "cell_type": "markdown",
   "id": "alert-billion",
   "metadata": {},
   "source": [
    "# Drawing Cycles with Giotto-TDA"
   ]
  },
  {
   "cell_type": "markdown",
   "id": "sixth-franklin",
   "metadata": {},
   "source": []
  },
  {
   "cell_type": "markdown",
   "id": "perceived-substitute",
   "metadata": {},
   "source": [
    "## 1. Introduction and Motivation"
   ]
  },
  {
   "cell_type": "markdown",
   "id": "completed-mother",
   "metadata": {},
   "source": []
  },
  {
   "cell_type": "markdown",
   "id": "unavailable-recording",
   "metadata": {},
   "source": [
    "## 2. Anaysis"
   ]
  },
  {
   "cell_type": "markdown",
   "id": "temporal-championship",
   "metadata": {},
   "source": []
  },
  {
   "cell_type": "markdown",
   "id": "oriental-essay",
   "metadata": {},
   "source": [
    "## 3. Benchmark"
   ]
  },
  {
   "cell_type": "markdown",
   "id": "worldwide-casting",
   "metadata": {},
   "source": []
  },
  {
   "cell_type": "markdown",
   "id": "removed-footage",
   "metadata": {},
   "source": [
    "## 4. Limitations and Perspectives"
   ]
  },
  {
   "cell_type": "markdown",
   "id": "split-cambridge",
   "metadata": {},
   "source": []
  }
 ],
 "metadata": {
  "kernelspec": {
   "display_name": "Python 3",
   "language": "python",
   "name": "python3"
  },
  "language_info": {
   "codemirror_mode": {
    "name": "ipython",
    "version": 3
   },
   "file_extension": ".py",
   "mimetype": "text/x-python",
   "name": "python",
   "nbconvert_exporter": "python",
   "pygments_lexer": "ipython3",
   "version": "3.8.8"
  }
 },
 "nbformat": 4,
 "nbformat_minor": 5
}
