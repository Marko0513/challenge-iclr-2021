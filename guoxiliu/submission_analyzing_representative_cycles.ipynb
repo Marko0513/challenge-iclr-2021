{
 "cells": [
  {
   "cell_type": "markdown",
   "id": "integrated-relay",
   "metadata": {},
   "source": [
    "# Analyzing representative cycles for persitent homology with Giotto-TDA"
   ]
  },
  {
   "cell_type": "markdown",
   "id": "operational-richmond",
   "metadata": {},
   "source": [
    "**Authors:** Guoxi Liu, Federico Iuricich \n",
    "\n",
    "**Affiliation:** Clemson University\n",
    "\n",
    "The goal of this notebook is to study the interpretation of the persistent homology with the cycle information.\n",
    "\n",
    "We investigate the cycle information of the persistent homology on a subset of MNIST dastaset, and introduce possible applications from the direct visualization of the cycle information.\n"
   ]
  },
  {
   "cell_type": "markdown",
   "id": "metric-solution",
   "metadata": {},
   "source": [
    "# 1. Introduction and Motivation"
   ]
  },
  {
   "cell_type": "markdown",
   "id": "oriental-reality",
   "metadata": {},
   "source": [
    "Information captured by persistent homology is commonly represented by a persistence diagram or, equivalently, a persistence barcode. \n",
    "\n",
    "These are elegant mathematical representations of the homology classes that appear and disappear in a filtration. However, their use for exploratory data analysis is challenging. While they effectively represent the lifespan of each homology class, they also lose connection with the original domain of data.  \n",
    "\n",
    "This brings to two main problems:\n",
    "\n",
    "1. we have no information regarding the distribution of persistence pairs in the original domain\n",
    "2. we have no information regarding the shape of each homology class appearing in the filtration.\n",
    "\n",
    "This means that interpreting the results becomes extremely difficult for a user. Experts in TDA may be able to guess this information by combaning persistence diagrams with a visualization of the original filtration. However, this is generally not an easy task, especially for newcomers. \n",
    "\n",
    "Questions like\n",
    "\n",
    "- Is the filtration I am using correct?\n",
    "- Are the homology classes appearing in my persistence diagram aligned with the features I see in the input data?\n",
    "\n",
    "are quite natural when we start computing persistent homology on a new dataset. \n",
    "\n",
    "\n",
    "To be able to answer this type of questions we need to map information from the persistence diagram back to the original domain of the filtration. In this notebook, we provide a collection of functions to simplify the interactive visualization and analysis of homology class by enriching the information contained in the persistence diagram with cycles."
   ]
  },
  {
   "cell_type": "markdown",
   "id": "pretty-convertible",
   "metadata": {},
   "source": [
    "# 2. Analysis"
   ]
  },
  {
   "cell_type": "markdown",
   "id": "owned-springfield",
   "metadata": {},
   "source": [
    "## 2.1. Dataset description"
   ]
  },
  {
   "cell_type": "markdown",
   "id": "legendary-ukraine",
   "metadata": {},
   "source": [
    "![dataset](./pictures/dataset.png)"
   ]
  },
  {
   "cell_type": "markdown",
   "id": "normal-confidentiality",
   "metadata": {},
   "source": [
    "In the remainder of this notebook, we use a sample of the original MNIST dataset downloaded from [here](http://yann.lecun.com/exdb/mnist/). The dataset provided in this submission includes 500 handwritten digits (50 images per digit) that have been size-normalized and centered in a fixed-size image.\n",
    "\n",
    "\n",
    "## 2.2. Preprocessing\n",
    "\n",
    "The first step when using persistent homology is that of defining a filtration on the input data. This already provides a degree of freedom for users that may define the most suitable filtration based on the features they want to be highlighted.\n",
    "\n",
    "For example, in the case of an MNIST digit we may want to highlight dominant cycles in the input digits. To this end, we may use different filtrations:\n",
    "- the one defined by the original grayscale image, \n",
    "- the inverse(negated) grayscale image,\n",
    "- or new image obtained by applying the distance transform to the input image\n",
    "\n",
    "to name a few. Clearly, each image will be transformed in a filtration generating different homology cycles and, consequently, different persistence diagrams. In this notebook, all filtrations are generated applying the distance transform to the input image, but any other filtration could be used instead."
   ]
  },
  {
   "cell_type": "markdown",
   "id": "analyzed-allowance",
   "metadata": {},
   "source": [
    "![filtrations](pictures/filtrations.png)\n",
    "Images generated with `./scripts/filtrations.py`"
   ]
  },
  {
   "cell_type": "markdown",
   "id": "cross-infrared",
   "metadata": {},
   "source": [
    "### External tools\n",
    "\n",
    "The computation of persistence diagrams and representative cycles has been implemented in a plain C++ [library](https://github.com/IuricichF/PersistenceCycles) integrated in the Topology Toolkit (TTK) [TTK](https://topology-tool-kit.github.io). For simplicity, we have precomputed all persitence diagrams and all representative cycles with our external library and saved them in the folder `data/vtk-*/`."
   ]
  },
  {
   "cell_type": "markdown",
   "id": "eleven-donor",
   "metadata": {},
   "source": [
    "## 2.3. Visualizying cycles\n",
    "\n",
    "We import necessary Python packages."
   ]
  },
  {
   "cell_type": "code",
   "execution_count": 1,
   "id": "identical-aaron",
   "metadata": {},
   "outputs": [
    {
     "name": "stdout",
     "output_type": "stream",
     "text": [
      "3.8.0 (default, Feb 25 2021, 22:10:10) \n",
      "[GCC 8.4.0]\n",
      "Defaulting to user installation because normal site-packages is not writeable\n",
      "Requirement already satisfied: meshio in /home/guoxil/.local/lib/python3.8/site-packages (4.3.12)\n",
      "Requirement already satisfied: numpy in /home/guoxil/.local/lib/python3.8/site-packages (from meshio) (1.20.2)\n",
      "\u001b[33mWARNING: You are using pip version 21.0.1; however, version 21.1 is available.\n",
      "You should consider upgrading via the '/usr/bin/python3.8 -m pip install --upgrade pip' command.\u001b[0m\n",
      "Defaulting to user installation because normal site-packages is not writeable\n",
      "Requirement already satisfied: giotto-tda in /home/guoxil/.local/lib/python3.8/site-packages (0.4.0)\n",
      "Requirement already satisfied: pyflagser>=0.4.3 in /home/guoxil/.local/lib/python3.8/site-packages (from giotto-tda) (0.4.4)\n",
      "Requirement already satisfied: scikit-learn>=0.23.1 in /home/guoxil/.local/lib/python3.8/site-packages (from giotto-tda) (0.24.1)\n",
      "Requirement already satisfied: plotly>=4.8.2 in /home/guoxil/.local/lib/python3.8/site-packages (from giotto-tda) (4.14.3)\n",
      "Requirement already satisfied: ipywidgets>=7.5.1 in /home/guoxil/.local/lib/python3.8/site-packages (from giotto-tda) (7.6.3)\n",
      "Requirement already satisfied: python-igraph>=0.8.2 in /home/guoxil/.local/lib/python3.8/site-packages (from giotto-tda) (0.9.1)\n",
      "Requirement already satisfied: joblib>=0.16.0 in /home/guoxil/.local/lib/python3.8/site-packages (from giotto-tda) (1.0.1)\n",
      "Requirement already satisfied: scipy>=1.5.0 in /home/guoxil/.local/lib/python3.8/site-packages (from giotto-tda) (1.6.2)\n",
      "Requirement already satisfied: numpy>=1.19.1 in /home/guoxil/.local/lib/python3.8/site-packages (from giotto-tda) (1.20.2)\n",
      "Requirement already satisfied: ipykernel>=4.5.1 in /home/guoxil/.local/lib/python3.8/site-packages (from ipywidgets>=7.5.1->giotto-tda) (5.5.3)\n",
      "Requirement already satisfied: nbformat>=4.2.0 in /home/guoxil/.local/lib/python3.8/site-packages (from ipywidgets>=7.5.1->giotto-tda) (5.1.3)\n",
      "Requirement already satisfied: ipython>=4.0.0 in /home/guoxil/.local/lib/python3.8/site-packages (from ipywidgets>=7.5.1->giotto-tda) (7.22.0)\n",
      "Requirement already satisfied: widgetsnbextension~=3.5.0 in /home/guoxil/.local/lib/python3.8/site-packages (from ipywidgets>=7.5.1->giotto-tda) (3.5.1)\n",
      "Requirement already satisfied: traitlets>=4.3.1 in /home/guoxil/.local/lib/python3.8/site-packages (from ipywidgets>=7.5.1->giotto-tda) (5.0.5)\n",
      "Requirement already satisfied: jupyterlab-widgets>=1.0.0 in /home/guoxil/.local/lib/python3.8/site-packages (from ipywidgets>=7.5.1->giotto-tda) (1.0.0)\n",
      "Requirement already satisfied: tornado>=4.2 in /home/guoxil/.local/lib/python3.8/site-packages (from ipykernel>=4.5.1->ipywidgets>=7.5.1->giotto-tda) (6.1)\n",
      "Requirement already satisfied: jupyter-client in /home/guoxil/.local/lib/python3.8/site-packages (from ipykernel>=4.5.1->ipywidgets>=7.5.1->giotto-tda) (6.1.12)\n",
      "Requirement already satisfied: pygments in /home/guoxil/.local/lib/python3.8/site-packages (from ipython>=4.0.0->ipywidgets>=7.5.1->giotto-tda) (2.8.1)\n",
      "Requirement already satisfied: prompt-toolkit!=3.0.0,!=3.0.1,<3.1.0,>=2.0.0 in /home/guoxil/.local/lib/python3.8/site-packages (from ipython>=4.0.0->ipywidgets>=7.5.1->giotto-tda) (3.0.18)\n",
      "Requirement already satisfied: jedi>=0.16 in /home/guoxil/.local/lib/python3.8/site-packages (from ipython>=4.0.0->ipywidgets>=7.5.1->giotto-tda) (0.18.0)\n",
      "Requirement already satisfied: backcall in /home/guoxil/.local/lib/python3.8/site-packages (from ipython>=4.0.0->ipywidgets>=7.5.1->giotto-tda) (0.2.0)\n",
      "Requirement already satisfied: pexpect>4.3 in /home/guoxil/.local/lib/python3.8/site-packages (from ipython>=4.0.0->ipywidgets>=7.5.1->giotto-tda) (4.8.0)\n",
      "Requirement already satisfied: decorator in /home/guoxil/.local/lib/python3.8/site-packages (from ipython>=4.0.0->ipywidgets>=7.5.1->giotto-tda) (4.4.2)\n",
      "Requirement already satisfied: pickleshare in /home/guoxil/.local/lib/python3.8/site-packages (from ipython>=4.0.0->ipywidgets>=7.5.1->giotto-tda) (0.7.5)\n",
      "Requirement already satisfied: setuptools>=18.5 in /home/guoxil/.local/lib/python3.8/site-packages (from ipython>=4.0.0->ipywidgets>=7.5.1->giotto-tda) (56.0.0)\n",
      "Requirement already satisfied: parso<0.9.0,>=0.8.0 in /home/guoxil/.local/lib/python3.8/site-packages (from jedi>=0.16->ipython>=4.0.0->ipywidgets>=7.5.1->giotto-tda) (0.8.2)\n",
      "Requirement already satisfied: ipython-genutils in /home/guoxil/.local/lib/python3.8/site-packages (from nbformat>=4.2.0->ipywidgets>=7.5.1->giotto-tda) (0.2.0)\n",
      "Requirement already satisfied: jsonschema!=2.5.0,>=2.4 in /home/guoxil/.local/lib/python3.8/site-packages (from nbformat>=4.2.0->ipywidgets>=7.5.1->giotto-tda) (3.2.0)\n",
      "Requirement already satisfied: jupyter-core in /home/guoxil/.local/lib/python3.8/site-packages (from nbformat>=4.2.0->ipywidgets>=7.5.1->giotto-tda) (4.7.1)\n",
      "Requirement already satisfied: attrs>=17.4.0 in /home/guoxil/.local/lib/python3.8/site-packages (from jsonschema!=2.5.0,>=2.4->nbformat>=4.2.0->ipywidgets>=7.5.1->giotto-tda) (20.3.0)\n",
      "Requirement already satisfied: pyrsistent>=0.14.0 in /home/guoxil/.local/lib/python3.8/site-packages (from jsonschema!=2.5.0,>=2.4->nbformat>=4.2.0->ipywidgets>=7.5.1->giotto-tda) (0.17.3)\n",
      "Requirement already satisfied: six>=1.11.0 in /home/guoxil/.local/lib/python3.8/site-packages (from jsonschema!=2.5.0,>=2.4->nbformat>=4.2.0->ipywidgets>=7.5.1->giotto-tda) (1.15.0)\n",
      "Requirement already satisfied: ptyprocess>=0.5 in /home/guoxil/.local/lib/python3.8/site-packages (from pexpect>4.3->ipython>=4.0.0->ipywidgets>=7.5.1->giotto-tda) (0.7.0)\n",
      "Requirement already satisfied: retrying>=1.3.3 in /home/guoxil/.local/lib/python3.8/site-packages (from plotly>=4.8.2->giotto-tda) (1.3.3)\n",
      "Requirement already satisfied: wcwidth in /home/guoxil/.local/lib/python3.8/site-packages (from prompt-toolkit!=3.0.0,!=3.0.1,<3.1.0,>=2.0.0->ipython>=4.0.0->ipywidgets>=7.5.1->giotto-tda) (0.2.5)\n",
      "Requirement already satisfied: texttable>=1.6.2 in /home/guoxil/.local/lib/python3.8/site-packages (from python-igraph>=0.8.2->giotto-tda) (1.6.3)\n",
      "Requirement already satisfied: threadpoolctl>=2.0.0 in /home/guoxil/.local/lib/python3.8/site-packages (from scikit-learn>=0.23.1->giotto-tda) (2.1.0)\n",
      "Requirement already satisfied: notebook>=4.4.1 in /home/guoxil/.local/lib/python3.8/site-packages (from widgetsnbextension~=3.5.0->ipywidgets>=7.5.1->giotto-tda) (6.3.0)\n",
      "Requirement already satisfied: pyzmq>=17 in /home/guoxil/.local/lib/python3.8/site-packages (from notebook>=4.4.1->widgetsnbextension~=3.5.0->ipywidgets>=7.5.1->giotto-tda) (22.0.3)\n",
      "Requirement already satisfied: Send2Trash>=1.5.0 in /home/guoxil/.local/lib/python3.8/site-packages (from notebook>=4.4.1->widgetsnbextension~=3.5.0->ipywidgets>=7.5.1->giotto-tda) (1.5.0)\n",
      "Requirement already satisfied: terminado>=0.8.3 in /home/guoxil/.local/lib/python3.8/site-packages (from notebook>=4.4.1->widgetsnbextension~=3.5.0->ipywidgets>=7.5.1->giotto-tda) (0.9.4)\n",
      "Requirement already satisfied: nbconvert in /home/guoxil/.local/lib/python3.8/site-packages (from notebook>=4.4.1->widgetsnbextension~=3.5.0->ipywidgets>=7.5.1->giotto-tda) (6.0.7)\n",
      "Requirement already satisfied: prometheus-client in /home/guoxil/.local/lib/python3.8/site-packages (from notebook>=4.4.1->widgetsnbextension~=3.5.0->ipywidgets>=7.5.1->giotto-tda) (0.10.1)\n",
      "Requirement already satisfied: argon2-cffi in /home/guoxil/.local/lib/python3.8/site-packages (from notebook>=4.4.1->widgetsnbextension~=3.5.0->ipywidgets>=7.5.1->giotto-tda) (20.1.0)\n",
      "Requirement already satisfied: jinja2 in /home/guoxil/.local/lib/python3.8/site-packages (from notebook>=4.4.1->widgetsnbextension~=3.5.0->ipywidgets>=7.5.1->giotto-tda) (2.11.3)\n",
      "Requirement already satisfied: python-dateutil>=2.1 in /home/guoxil/.local/lib/python3.8/site-packages (from jupyter-client->ipykernel>=4.5.1->ipywidgets>=7.5.1->giotto-tda) (2.8.1)\n",
      "Requirement already satisfied: cffi>=1.0.0 in /home/guoxil/.local/lib/python3.8/site-packages (from argon2-cffi->notebook>=4.4.1->widgetsnbextension~=3.5.0->ipywidgets>=7.5.1->giotto-tda) (1.14.5)\n",
      "Requirement already satisfied: pycparser in /home/guoxil/.local/lib/python3.8/site-packages (from cffi>=1.0.0->argon2-cffi->notebook>=4.4.1->widgetsnbextension~=3.5.0->ipywidgets>=7.5.1->giotto-tda) (2.20)\n",
      "Requirement already satisfied: MarkupSafe>=0.23 in /home/guoxil/.local/lib/python3.8/site-packages (from jinja2->notebook>=4.4.1->widgetsnbextension~=3.5.0->ipywidgets>=7.5.1->giotto-tda) (1.1.1)\n"
     ]
    },
    {
     "name": "stdout",
     "output_type": "stream",
     "text": [
      "Requirement already satisfied: mistune<2,>=0.8.1 in /home/guoxil/.local/lib/python3.8/site-packages (from nbconvert->notebook>=4.4.1->widgetsnbextension~=3.5.0->ipywidgets>=7.5.1->giotto-tda) (0.8.4)\n",
      "Requirement already satisfied: bleach in /home/guoxil/.local/lib/python3.8/site-packages (from nbconvert->notebook>=4.4.1->widgetsnbextension~=3.5.0->ipywidgets>=7.5.1->giotto-tda) (3.3.0)\n",
      "Requirement already satisfied: defusedxml in /home/guoxil/.local/lib/python3.8/site-packages (from nbconvert->notebook>=4.4.1->widgetsnbextension~=3.5.0->ipywidgets>=7.5.1->giotto-tda) (0.7.1)\n",
      "Requirement already satisfied: entrypoints>=0.2.2 in /home/guoxil/.local/lib/python3.8/site-packages (from nbconvert->notebook>=4.4.1->widgetsnbextension~=3.5.0->ipywidgets>=7.5.1->giotto-tda) (0.3)\n",
      "Requirement already satisfied: nbclient<0.6.0,>=0.5.0 in /home/guoxil/.local/lib/python3.8/site-packages (from nbconvert->notebook>=4.4.1->widgetsnbextension~=3.5.0->ipywidgets>=7.5.1->giotto-tda) (0.5.3)\n",
      "Requirement already satisfied: pandocfilters>=1.4.1 in /home/guoxil/.local/lib/python3.8/site-packages (from nbconvert->notebook>=4.4.1->widgetsnbextension~=3.5.0->ipywidgets>=7.5.1->giotto-tda) (1.4.3)\n",
      "Requirement already satisfied: testpath in /home/guoxil/.local/lib/python3.8/site-packages (from nbconvert->notebook>=4.4.1->widgetsnbextension~=3.5.0->ipywidgets>=7.5.1->giotto-tda) (0.4.4)\n",
      "Requirement already satisfied: jupyterlab-pygments in /home/guoxil/.local/lib/python3.8/site-packages (from nbconvert->notebook>=4.4.1->widgetsnbextension~=3.5.0->ipywidgets>=7.5.1->giotto-tda) (0.1.2)\n",
      "Requirement already satisfied: async-generator in /home/guoxil/.local/lib/python3.8/site-packages (from nbclient<0.6.0,>=0.5.0->nbconvert->notebook>=4.4.1->widgetsnbextension~=3.5.0->ipywidgets>=7.5.1->giotto-tda) (1.10)\n",
      "Requirement already satisfied: nest-asyncio in /home/guoxil/.local/lib/python3.8/site-packages (from nbclient<0.6.0,>=0.5.0->nbconvert->notebook>=4.4.1->widgetsnbextension~=3.5.0->ipywidgets>=7.5.1->giotto-tda) (1.5.1)\n",
      "Requirement already satisfied: webencodings in /home/guoxil/.local/lib/python3.8/site-packages (from bleach->nbconvert->notebook>=4.4.1->widgetsnbextension~=3.5.0->ipywidgets>=7.5.1->giotto-tda) (0.5.1)\n",
      "Requirement already satisfied: packaging in /home/guoxil/.local/lib/python3.8/site-packages (from bleach->nbconvert->notebook>=4.4.1->widgetsnbextension~=3.5.0->ipywidgets>=7.5.1->giotto-tda) (20.9)\n",
      "Requirement already satisfied: pyparsing>=2.0.2 in /home/guoxil/.local/lib/python3.8/site-packages (from packaging->bleach->nbconvert->notebook>=4.4.1->widgetsnbextension~=3.5.0->ipywidgets>=7.5.1->giotto-tda) (2.4.7)\n",
      "\u001b[33mWARNING: You are using pip version 21.0.1; however, version 21.1 is available.\n",
      "You should consider upgrading via the '/usr/bin/python3.8 -m pip install --upgrade pip' command.\u001b[0m\n",
      "Defaulting to user installation because normal site-packages is not writeable\n",
      "Requirement already satisfied: scikit-image in /home/guoxil/.local/lib/python3.8/site-packages (0.18.1)\n",
      "Requirement already satisfied: networkx>=2.0 in /home/guoxil/.local/lib/python3.8/site-packages (from scikit-image) (2.5.1)\n",
      "Requirement already satisfied: pillow!=7.1.0,!=7.1.1,>=4.3.0 in /home/guoxil/.local/lib/python3.8/site-packages (from scikit-image) (8.2.0)\n",
      "Requirement already satisfied: matplotlib!=3.0.0,>=2.0.0 in /home/guoxil/.local/lib/python3.8/site-packages (from scikit-image) (3.4.1)\n",
      "Requirement already satisfied: PyWavelets>=1.1.1 in /home/guoxil/.local/lib/python3.8/site-packages (from scikit-image) (1.1.1)\n",
      "Requirement already satisfied: numpy>=1.16.5 in /home/guoxil/.local/lib/python3.8/site-packages (from scikit-image) (1.20.2)\n",
      "Requirement already satisfied: imageio>=2.3.0 in /home/guoxil/.local/lib/python3.8/site-packages (from scikit-image) (2.9.0)\n",
      "Requirement already satisfied: tifffile>=2019.7.26 in /home/guoxil/.local/lib/python3.8/site-packages (from scikit-image) (2021.4.8)\n",
      "Requirement already satisfied: scipy>=1.0.1 in /home/guoxil/.local/lib/python3.8/site-packages (from scikit-image) (1.6.2)\n",
      "Requirement already satisfied: pyparsing>=2.2.1 in /home/guoxil/.local/lib/python3.8/site-packages (from matplotlib!=3.0.0,>=2.0.0->scikit-image) (2.4.7)\n",
      "Requirement already satisfied: kiwisolver>=1.0.1 in /home/guoxil/.local/lib/python3.8/site-packages (from matplotlib!=3.0.0,>=2.0.0->scikit-image) (1.3.1)\n",
      "Requirement already satisfied: cycler>=0.10 in /home/guoxil/.local/lib/python3.8/site-packages (from matplotlib!=3.0.0,>=2.0.0->scikit-image) (0.10.0)\n",
      "Requirement already satisfied: python-dateutil>=2.7 in /home/guoxil/.local/lib/python3.8/site-packages (from matplotlib!=3.0.0,>=2.0.0->scikit-image) (2.8.1)\n",
      "Requirement already satisfied: six in /home/guoxil/.local/lib/python3.8/site-packages (from cycler>=0.10->matplotlib!=3.0.0,>=2.0.0->scikit-image) (1.15.0)\n",
      "Requirement already satisfied: decorator<5,>=4.3 in /home/guoxil/.local/lib/python3.8/site-packages (from networkx>=2.0->scikit-image) (4.4.2)\n",
      "\u001b[33mWARNING: You are using pip version 21.0.1; however, version 21.1 is available.\n",
      "You should consider upgrading via the '/usr/bin/python3.8 -m pip install --upgrade pip' command.\u001b[0m\n",
      "Defaulting to user installation because normal site-packages is not writeable\n",
      "Requirement already satisfied: pandas in /home/guoxil/.local/lib/python3.8/site-packages (1.2.3)\n",
      "Requirement already satisfied: pytz>=2017.3 in /home/guoxil/.local/lib/python3.8/site-packages (from pandas) (2021.1)\n",
      "Requirement already satisfied: numpy>=1.16.5 in /home/guoxil/.local/lib/python3.8/site-packages (from pandas) (1.20.2)\n",
      "Requirement already satisfied: python-dateutil>=2.7.3 in /home/guoxil/.local/lib/python3.8/site-packages (from pandas) (2.8.1)\n",
      "Requirement already satisfied: six>=1.5 in /home/guoxil/.local/lib/python3.8/site-packages (from python-dateutil>=2.7.3->pandas) (1.15.0)\n",
      "\u001b[33mWARNING: You are using pip version 21.0.1; however, version 21.1 is available.\n",
      "You should consider upgrading via the '/usr/bin/python3.8 -m pip install --upgrade pip' command.\u001b[0m\n"
     ]
    }
   ],
   "source": [
    "import sys\n",
    "\n",
    "# Check Python version and make sure the version >= 3.8.0 \n",
    "print(sys.version)\n",
    "\n",
    "# Install dependencies \n",
    "!{sys.executable} -m pip install meshio\n",
    "!{sys.executable} -m pip install giotto-tda\n",
    "!{sys.executable} -m pip install scikit-image\n",
    "!{sys.executable} -m pip install pandas"
   ]
  },
  {
   "cell_type": "markdown",
   "id": "adjusted-eugene",
   "metadata": {},
   "source": [
    "The functions provided in this notebook allow for the easy visualization and comparison of homology classes by means of the representative cycles.\n",
    "\n",
    "For each pair of dimension 1 in the persistence diagram, there is a 1-cycle representing the boundary of the corresponding homology class as appeared in the filtration. Persistence pairs and cycles can be accessed by reading the VTK files with `meshio`."
   ]
  },
  {
   "cell_type": "code",
   "execution_count": 2,
   "id": "soviet-thinking",
   "metadata": {},
   "outputs": [],
   "source": [
    "import meshio\n",
    "ppairs = meshio.read(\"./data/vtk-original/0/3_pd.vtk\")"
   ]
  },
  {
   "cell_type": "markdown",
   "id": "binding-maine",
   "metadata": {},
   "source": [
    "The persistence diagram is stored as a collection of lines. \n",
    "Each line represents a persistence pair. The line end-points are geometrically located where the homology class was born/died.\n",
    "\n",
    "For each line of index `i` we can access:\n",
    "- the persistence value associated with the pair (`ppairs.cell_data[\"Persistence\"][i]`)\n",
    "- the dimension of the homology class (`ppairs.cell_data[\"Type\"][i]`)\n",
    "- the end-points of the line (`ppairs.cells[0].data[i][0]`,`ppairs.cells[0].data[i][1]`)\n",
    "\n",
    "\n",
    "For each point of index `p` we can access:\n",
    "- the dimension of the corresponding simplex (`ppairs.point_data[\"Type\"][p]`)\n",
    "- the filtration value (`ppairs.point_data[\"Filtration\"][p]`)\n",
    "- the point position in the original domain (`ppairs.points[p]`)"
   ]
  },
  {
   "cell_type": "code",
   "execution_count": 3,
   "id": "least-breast",
   "metadata": {},
   "outputs": [],
   "source": [
    "import meshio\n",
    "cycle = meshio.read(\"./data/vtk-original/0/3_cycles.vtk\")"
   ]
  },
  {
   "cell_type": "markdown",
   "id": "exciting-arthur",
   "metadata": {},
   "source": [
    "Since we are analyzing 2D images, we only have 1-dimensional cycles to represent the homology class. Then, each cycle is stored as a collection of lines. \n",
    "\n",
    "For each line of index `i` we can access:\n",
    "- the unique id of the cycle this edge belongs to (`cycle.cell_data[\"CycleId\"][i]`). Moreover, the CycleID indicates the persistence pair corresponding to the cycle (`ppair.cell_data[cycle.cell_data[\"CycleId\"][i]]`) \n",
    "- the persistence value associated to the persistence pair (`cycle.cell_data[\"Filtration][i]`)\n"
   ]
  },
  {
   "cell_type": "code",
   "execution_count": 4,
   "id": "great-grant",
   "metadata": {},
   "outputs": [
    {
     "data": {
      "text/html": [
       "        <script type=\"text/javascript\">\n",
       "        window.PlotlyConfig = {MathJaxConfig: 'local'};\n",
       "        if (window.MathJax) {MathJax.Hub.Config({SVG: {font: \"STIX-Web\"}});}\n",
       "        if (typeof require !== 'undefined') {\n",
       "        require.undef(\"plotly\");\n",
       "        requirejs.config({\n",
       "            paths: {\n",
       "                'plotly': ['https://cdn.plot.ly/plotly-latest.min']\n",
       "            }\n",
       "        });\n",
       "        require(['plotly'], function(Plotly) {\n",
       "            window._Plotly = Plotly;\n",
       "        });\n",
       "        }\n",
       "        </script>\n",
       "        "
      ]
     },
     "metadata": {},
     "output_type": "display_data"
    }
   ],
   "source": [
    "import os\n",
    "import meshio\n",
    "import numpy as np\n",
    "import pandas as pd\n",
    "import gtda.plotting as gplotting\n",
    "import gtda.diagrams as gdiagrams\n",
    "import plotly.express as px\n",
    "import plotly.graph_objs as gobj\n",
    "from plotly.offline import init_notebook_mode, iplot\n",
    "from skimage import io\n",
    "from scipy import ndimage\n",
    "\n",
    "\n",
    "DATA_DIR = os.path.join(os.getcwd(), \"data\")              # path of the data folder\n",
    "IMG_DIR = os.path.join(DATA_DIR, \"mnist_png\")             # path of the image folder\n",
    "VTK_DIR = os.path.join(DATA_DIR, \"vtk-distancetransform\") # path of the vtk files originated with the distance transform\n",
    "\n",
    "init_notebook_mode(connected=True)"
   ]
  },
  {
   "cell_type": "markdown",
   "id": "royal-edgar",
   "metadata": {},
   "source": [
    "We have defined a couple of helper functions that can be used to extract information from these files:\n",
    "- `getPersCycles()`: Extract information about the geometry of each cycle stored in a vtk file.\n",
    "- `getPersDiagram()`: Create a persistence diagram starting from the persistence pairs stoored in a vtk file."
   ]
  },
  {
   "cell_type": "code",
   "execution_count": 5,
   "id": "straight-polls",
   "metadata": {},
   "outputs": [],
   "source": [
    "def getPersCycles(cycleFile):\n",
    "    \"\"\"\n",
    "    Get persistence cycles from the vtk file storing the persistence cycles.\n",
    "    \n",
    "    Parameters\n",
    "    ----------\n",
    "    cycleFile: string\n",
    "        The path of the vtk file storing the persistence cycles.\n",
    "    \n",
    "    Returns\n",
    "    ---------\n",
    "    ordered_cycles: dict\n",
    "        The dictionary storing the cycle information.\n",
    "    \"\"\"\n",
    "    im = meshio.read(cycleFile)\n",
    "    \n",
    "    # for each cycle id, save the list of edges\n",
    "    ordered_cycles = {}\n",
    "    array_of_cycles = {}\n",
    "    for i in range(len(im.cell_data['CycleId'][0])):\n",
    "        index = str(im.cell_data['CycleId'][0][i])\n",
    "\n",
    "        if(index not in array_of_cycles):\n",
    "            array_of_cycles[index] = []\n",
    "\n",
    "\n",
    "        line = im.cells_dict['line'][i]\n",
    "        array_of_cycles[index].append([line[0].tolist(), line[1].tolist()])\n",
    "    \n",
    "    # inner function to search for the next point\n",
    "    def searchNext(all_lines, visited, point, prev):\n",
    "        for i in range(len(all_lines)):\n",
    "            if(not visited[i]):\n",
    "                line = all_lines[i]\n",
    "                if(point == line[0] and prev != line[1]):\n",
    "                    visited[i] = True\n",
    "                    return line[1]\n",
    "                elif(point == line[1] and prev != line[0]):\n",
    "                    visited[i] = True\n",
    "                    return line[0]\n",
    "        \n",
    "    # for each cycle reorder the vertices so to have them ready to be plotted with THREE.js\n",
    "    for k in array_of_cycles:\n",
    "        val = array_of_cycles[k]\n",
    "        visited = np.zeros(len(val))\n",
    "        new_array = []\n",
    "\n",
    "        first_point= val[0][0]\n",
    "        prevP = val[0][0]\n",
    "        nextP = val[0][1]\n",
    "\n",
    "        visited[0] = True\n",
    "\n",
    "        new_array.append(im.points[first_point].tolist())\n",
    "        while(nextP != first_point):\n",
    "            new_array.append(im.points[nextP].tolist())\n",
    "            newP = searchNext(val, visited, nextP, prevP)\n",
    "            prevP = nextP\n",
    "            nextP = newP\n",
    "\n",
    "        new_array.append(im.points[first_point].tolist())\n",
    "        ordered_cycles[k] = new_array\n",
    "        \n",
    "    return ordered_cycles    "
   ]
  },
  {
   "cell_type": "code",
   "execution_count": 6,
   "id": "foreign-saskatchewan",
   "metadata": {},
   "outputs": [],
   "source": [
    "def getPersDiagram(diagramFile):\n",
    "    \"\"\"\n",
    "    Get persistence diagram pairs from the vtk file storing persistence diagram.\n",
    "    \n",
    "    Parameters\n",
    "    ----------\n",
    "    diagramFile: string\n",
    "        The path of the diagram vtk file.\n",
    "        \n",
    "    Returns \n",
    "    ----------\n",
    "    pdiagram: array\n",
    "        The numpy array storing the persistence diagram in the form (birth, death, dimension).\n",
    "    \"\"\"\n",
    "    pdiagram = []\n",
    "    try: \n",
    "        ppairs = meshio.read(diagramFile)\n",
    "        k = 0\n",
    "        for line in ppairs.cells[0].data: \n",
    "            v0 = line[0]\n",
    "            v1 = line[1]\n",
    "            f0 = ppairs.point_data[\"Filtration\"][v0]    # birth\n",
    "            f1 = ppairs.point_data[\"Filtration\"][v1]    # death\n",
    "            t = ppairs.cell_data[\"Type\"][0][k]          # homology dimension\n",
    "            k += 1\n",
    "            # if t == 1: \n",
    "            pdiagram.append([f0, f1, t])\n",
    "    except:\n",
    "        print(\"No persistence pairs in the file\")\n",
    "    return np.asarray(pdiagram)"
   ]
  },
  {
   "cell_type": "markdown",
   "id": "enabling-vault",
   "metadata": {},
   "source": [
    "The plotting functions use the VTK files to produce visualization with Plotly.\n",
    "\n",
    "The first step is that of visualizing components and cycles alone. To do so, we have implemented two functions to overlay such information to the image of the digit used to generate them. The function uses the `Scatter` class form Plotly.\n",
    "\n",
    "The first function, `visualizeComponents`, simply reads the persistence pairs from the persistence diagram and plots them in the original image domain. For each point, it also indicates their lifespan"
   ]
  },
  {
   "cell_type": "code",
   "execution_count": 7,
   "id": "refined-shopping",
   "metadata": {},
   "outputs": [],
   "source": [
    "def visualizeComponents(img, diagramFile):\n",
    "    \"\"\"\n",
    "        Plot persistence cycles on the original image file.\n",
    "\n",
    "        Parameters\n",
    "        ----------\n",
    "        img: matrix\n",
    "            The matrix storing the image. \n",
    "        diagramFile: string\n",
    "            The path of the vtk file storing the persistence pairs.\n",
    "\n",
    "        Returns\n",
    "        ----------\n",
    "        fig : :class:`plotly.graph_objects.Figure` object\n",
    "            Figure showing where each component was born.\n",
    "    \"\"\"\n",
    "    \n",
    "    fig = px.imshow(img, color_continuous_scale='gray')\n",
    "\n",
    "        \n",
    "    ppairs = meshio.read(diagramFile)\n",
    "    k = 0\n",
    "    xcoords = []\n",
    "    ycoords = []\n",
    "    births = []\n",
    "    deaths = []\n",
    "    for line in ppairs.cells[0].data: \n",
    "        if(ppairs.cell_data[\"Type\"][0][k] == 0):\n",
    "            xcoords.append(ppairs.points[line[0]][1])\n",
    "            ycoords.append(ppairs.points[line[0]][0])\n",
    "            births.append(ppairs.point_data[\"Filtration\"][line[0]])\n",
    "            deaths.append(ppairs.point_data[\"Filtration\"][line[1]])\n",
    "    \n",
    "    \n",
    "    df = pd.DataFrame(data={\"x\":xcoords, \"y\":ycoords, \"birth\":births, \"death\":deaths})\n",
    "    fig.add_trace(gobj.Scatter(x=df[\"x\"], y=df[\"y\"], text=df[\"death\"]-df[\"birth\"], hoverinfo=\"text\", mode=\"markers\"))\n",
    "    \n",
    "    head_tail = os.path.split(diagramFile)\n",
    "    digit = head_tail[0][-1]\n",
    "    filename = head_tail[1]\n",
    "    fig.update_layout(height=400, width=400, title_text=\"Digit \"+digit+\" - Persistence Diagram file \"+filename)\n",
    "    fig.update_layout(coloraxis_showscale=False)\n",
    "    fig.update_xaxes(showticklabels=False)\n",
    "    fig.update_yaxes(showticklabels=False)\n",
    "        \n",
    "    \n",
    "    return fig"
   ]
  },
  {
   "cell_type": "markdown",
   "id": "sporting-aquatic",
   "metadata": {},
   "source": [
    "With `visualizeComponets` we can plot components overlayed to the original image"
   ]
  },
  {
   "cell_type": "code",
   "execution_count": 8,
   "id": "unique-command",
   "metadata": {},
   "outputs": [
    {
     "data": {
      "application/vnd.plotly.v1+json": {
       "config": {
        "plotlyServerURL": "https://plot.ly"
       },
       "data": [
        {
         "coloraxis": "coloraxis",
         "hovertemplate": "x: %{x}<br>y: %{y}<br>color: %{z}<extra></extra>",
         "name": "0",
         "type": "heatmap",
         "xaxis": "x",
         "yaxis": "y",
         "z": [
          [
           0,
           0,
           0,
           0,
           0,
           0,
           0,
           0,
           0,
           0,
           0,
           0,
           0,
           0,
           0,
           0,
           0,
           0,
           0,
           0,
           0,
           0,
           0,
           0,
           0,
           0,
           0,
           0
          ],
          [
           0,
           0,
           0,
           0,
           0,
           0,
           0,
           0,
           0,
           0,
           0,
           0,
           0,
           0,
           0,
           0,
           0,
           0,
           0,
           0,
           0,
           0,
           0,
           0,
           0,
           0,
           0,
           0
          ],
          [
           0,
           0,
           0,
           0,
           0,
           0,
           0,
           0,
           0,
           0,
           0,
           0,
           0,
           0,
           0,
           0,
           0,
           0,
           0,
           0,
           0,
           0,
           0,
           0,
           0,
           0,
           0,
           0
          ],
          [
           0,
           0,
           0,
           0,
           0,
           0,
           0,
           0,
           0,
           0,
           0,
           0,
           0,
           0,
           0,
           0,
           0,
           0,
           0,
           0,
           0,
           0,
           0,
           0,
           0,
           0,
           0,
           0
          ],
          [
           0,
           0,
           0,
           0,
           0,
           0,
           0,
           0,
           0,
           0,
           0,
           61,
           3,
           42,
           118,
           193,
           118,
           118,
           61,
           0,
           0,
           0,
           0,
           0,
           0,
           0,
           0,
           0
          ],
          [
           0,
           0,
           0,
           0,
           0,
           0,
           0,
           0,
           0,
           14,
           179,
           245,
           236,
           242,
           254,
           254,
           254,
           254,
           245,
           235,
           84,
           0,
           0,
           0,
           0,
           0,
           0,
           0
          ],
          [
           0,
           0,
           0,
           0,
           0,
           0,
           0,
           0,
           0,
           151,
           254,
           254,
           254,
           213,
           192,
           178,
           178,
           180,
           254,
           254,
           241,
           46,
           0,
           0,
           0,
           0,
           0,
           0
          ],
          [
           0,
           0,
           0,
           0,
           0,
           0,
           0,
           0,
           43,
           235,
           254,
           226,
           64,
           28,
           12,
           0,
           0,
           2,
           128,
           252,
           255,
           173,
           17,
           0,
           0,
           0,
           0,
           0
          ],
          [
           0,
           0,
           0,
           0,
           0,
           0,
           0,
           0,
           56,
           254,
           253,
           107,
           0,
           0,
           0,
           0,
           0,
           0,
           0,
           134,
           250,
           254,
           75,
           0,
           0,
           0,
           0,
           0
          ],
          [
           0,
           0,
           0,
           0,
           0,
           0,
           0,
           0,
           63,
           254,
           158,
           0,
           0,
           0,
           0,
           0,
           0,
           0,
           0,
           0,
           221,
           254,
           157,
           0,
           0,
           0,
           0,
           0
          ],
          [
           0,
           0,
           0,
           0,
           0,
           0,
           0,
           0,
           194,
           254,
           103,
           0,
           0,
           0,
           0,
           0,
           0,
           0,
           0,
           0,
           150,
           254,
           213,
           0,
           0,
           0,
           0,
           0
          ],
          [
           0,
           0,
           0,
           0,
           0,
           0,
           0,
           34,
           220,
           239,
           58,
           0,
           0,
           0,
           0,
           0,
           0,
           0,
           0,
           0,
           84,
           254,
           213,
           0,
           0,
           0,
           0,
           0
          ],
          [
           0,
           0,
           0,
           0,
           0,
           0,
           0,
           126,
           254,
           171,
           0,
           0,
           0,
           0,
           0,
           0,
           0,
           0,
           0,
           0,
           84,
           254,
           213,
           0,
           0,
           0,
           0,
           0
          ],
          [
           0,
           0,
           0,
           0,
           0,
           0,
           0,
           214,
           239,
           60,
           0,
           0,
           0,
           0,
           0,
           0,
           0,
           0,
           0,
           0,
           84,
           254,
           213,
           0,
           0,
           0,
           0,
           0
          ],
          [
           0,
           0,
           0,
           0,
           0,
           0,
           0,
           214,
           199,
           0,
           0,
           0,
           0,
           0,
           0,
           0,
           0,
           0,
           0,
           0,
           84,
           254,
           213,
           0,
           0,
           0,
           0,
           0
          ],
          [
           0,
           0,
           0,
           0,
           0,
           0,
           11,
           219,
           199,
           0,
           0,
           0,
           0,
           0,
           0,
           0,
           0,
           0,
           0,
           0,
           84,
           254,
           213,
           0,
           0,
           0,
           0,
           0
          ],
          [
           0,
           0,
           0,
           0,
           0,
           0,
           98,
           254,
           199,
           0,
           0,
           0,
           0,
           0,
           0,
           0,
           0,
           0,
           0,
           0,
           162,
           254,
           209,
           0,
           0,
           0,
           0,
           0
          ],
          [
           0,
           0,
           0,
           0,
           0,
           0,
           98,
           254,
           199,
           0,
           0,
           0,
           0,
           0,
           0,
           0,
           0,
           0,
           0,
           51,
           238,
           254,
           75,
           0,
           0,
           0,
           0,
           0
          ],
          [
           0,
           0,
           0,
           0,
           0,
           0,
           98,
           254,
           199,
           0,
           0,
           0,
           0,
           0,
           0,
           0,
           0,
           0,
           51,
           165,
           254,
           195,
           4,
           0,
           0,
           0,
           0,
           0
          ],
          [
           0,
           0,
           0,
           0,
           0,
           0,
           66,
           241,
           199,
           0,
           0,
           0,
           0,
           0,
           0,
           0,
           0,
           3,
           167,
           254,
           227,
           55,
           0,
           0,
           0,
           0,
           0,
           0
          ],
          [
           0,
           0,
           0,
           0,
           0,
           0,
           0,
           214,
           213,
           20,
           0,
           0,
           0,
           0,
           0,
           46,
           152,
           202,
           254,
           254,
           63,
           0,
           0,
           0,
           0,
           0,
           0,
           0
          ],
          [
           0,
           0,
           0,
           0,
           0,
           0,
           0,
           214,
           254,
           204,
           180,
           180,
           180,
           180,
           180,
           235,
           254,
           254,
           234,
           156,
           10,
           0,
           0,
           0,
           0,
           0,
           0,
           0
          ],
          [
           0,
           0,
           0,
           0,
           0,
           0,
           0,
           81,
           205,
           254,
           254,
           254,
           254,
           254,
           254,
           254,
           252,
           234,
           120,
           0,
           0,
           0,
           0,
           0,
           0,
           0,
           0,
           0
          ],
          [
           0,
           0,
           0,
           0,
           0,
           0,
           0,
           0,
           26,
           210,
           254,
           254,
           254,
           254,
           254,
           153,
           104,
           0,
           0,
           0,
           0,
           0,
           0,
           0,
           0,
           0,
           0,
           0
          ],
          [
           0,
           0,
           0,
           0,
           0,
           0,
           0,
           0,
           0,
           0,
           0,
           0,
           0,
           0,
           0,
           0,
           0,
           0,
           0,
           0,
           0,
           0,
           0,
           0,
           0,
           0,
           0,
           0
          ],
          [
           0,
           0,
           0,
           0,
           0,
           0,
           0,
           0,
           0,
           0,
           0,
           0,
           0,
           0,
           0,
           0,
           0,
           0,
           0,
           0,
           0,
           0,
           0,
           0,
           0,
           0,
           0,
           0
          ],
          [
           0,
           0,
           0,
           0,
           0,
           0,
           0,
           0,
           0,
           0,
           0,
           0,
           0,
           0,
           0,
           0,
           0,
           0,
           0,
           0,
           0,
           0,
           0,
           0,
           0,
           0,
           0,
           0
          ],
          [
           0,
           0,
           0,
           0,
           0,
           0,
           0,
           0,
           0,
           0,
           0,
           0,
           0,
           0,
           0,
           0,
           0,
           0,
           0,
           0,
           0,
           0,
           0,
           0,
           0,
           0,
           0,
           0
          ]
         ]
        },
        {
         "hoverinfo": "text",
         "mode": "markers",
         "text": [
          0.0797976451830417,
          0.046744378302789734,
          0.046744378302789734,
          0,
          0,
          0.046744378302789734,
          0.06558204701039623,
          0.06558204701039623,
          0,
          0.4787858710982501,
          0
         ],
         "type": "scatter",
         "x": [
          7,
          8,
          8,
          9,
          9,
          18,
          18,
          20,
          21,
          7.5,
          7.5
         ],
         "y": [
          16,
          12,
          21,
          5,
          22,
          6,
          20,
          7,
          8,
          20,
          13.5
         ]
        }
       ],
       "layout": {
        "coloraxis": {
         "colorscale": [
          [
           0,
           "rgb(0, 0, 0)"
          ],
          [
           0.09090909090909091,
           "rgb(16, 16, 16)"
          ],
          [
           0.18181818181818182,
           "rgb(38, 38, 38)"
          ],
          [
           0.2727272727272727,
           "rgb(59, 59, 59)"
          ],
          [
           0.36363636363636365,
           "rgb(81, 80, 80)"
          ],
          [
           0.45454545454545453,
           "rgb(102, 101, 101)"
          ],
          [
           0.5454545454545454,
           "rgb(124, 123, 122)"
          ],
          [
           0.6363636363636364,
           "rgb(146, 146, 145)"
          ],
          [
           0.7272727272727273,
           "rgb(171, 171, 170)"
          ],
          [
           0.8181818181818182,
           "rgb(197, 197, 195)"
          ],
          [
           0.9090909090909091,
           "rgb(224, 224, 223)"
          ],
          [
           1,
           "rgb(254, 254, 253)"
          ]
         ],
         "showscale": false
        },
        "height": 400,
        "margin": {
         "t": 60
        },
        "template": {
         "data": {
          "bar": [
           {
            "error_x": {
             "color": "#2a3f5f"
            },
            "error_y": {
             "color": "#2a3f5f"
            },
            "marker": {
             "line": {
              "color": "#E5ECF6",
              "width": 0.5
             }
            },
            "type": "bar"
           }
          ],
          "barpolar": [
           {
            "marker": {
             "line": {
              "color": "#E5ECF6",
              "width": 0.5
             }
            },
            "type": "barpolar"
           }
          ],
          "carpet": [
           {
            "aaxis": {
             "endlinecolor": "#2a3f5f",
             "gridcolor": "white",
             "linecolor": "white",
             "minorgridcolor": "white",
             "startlinecolor": "#2a3f5f"
            },
            "baxis": {
             "endlinecolor": "#2a3f5f",
             "gridcolor": "white",
             "linecolor": "white",
             "minorgridcolor": "white",
             "startlinecolor": "#2a3f5f"
            },
            "type": "carpet"
           }
          ],
          "choropleth": [
           {
            "colorbar": {
             "outlinewidth": 0,
             "ticks": ""
            },
            "type": "choropleth"
           }
          ],
          "contour": [
           {
            "colorbar": {
             "outlinewidth": 0,
             "ticks": ""
            },
            "colorscale": [
             [
              0,
              "#0d0887"
             ],
             [
              0.1111111111111111,
              "#46039f"
             ],
             [
              0.2222222222222222,
              "#7201a8"
             ],
             [
              0.3333333333333333,
              "#9c179e"
             ],
             [
              0.4444444444444444,
              "#bd3786"
             ],
             [
              0.5555555555555556,
              "#d8576b"
             ],
             [
              0.6666666666666666,
              "#ed7953"
             ],
             [
              0.7777777777777778,
              "#fb9f3a"
             ],
             [
              0.8888888888888888,
              "#fdca26"
             ],
             [
              1,
              "#f0f921"
             ]
            ],
            "type": "contour"
           }
          ],
          "contourcarpet": [
           {
            "colorbar": {
             "outlinewidth": 0,
             "ticks": ""
            },
            "type": "contourcarpet"
           }
          ],
          "heatmap": [
           {
            "colorbar": {
             "outlinewidth": 0,
             "ticks": ""
            },
            "colorscale": [
             [
              0,
              "#0d0887"
             ],
             [
              0.1111111111111111,
              "#46039f"
             ],
             [
              0.2222222222222222,
              "#7201a8"
             ],
             [
              0.3333333333333333,
              "#9c179e"
             ],
             [
              0.4444444444444444,
              "#bd3786"
             ],
             [
              0.5555555555555556,
              "#d8576b"
             ],
             [
              0.6666666666666666,
              "#ed7953"
             ],
             [
              0.7777777777777778,
              "#fb9f3a"
             ],
             [
              0.8888888888888888,
              "#fdca26"
             ],
             [
              1,
              "#f0f921"
             ]
            ],
            "type": "heatmap"
           }
          ],
          "heatmapgl": [
           {
            "colorbar": {
             "outlinewidth": 0,
             "ticks": ""
            },
            "colorscale": [
             [
              0,
              "#0d0887"
             ],
             [
              0.1111111111111111,
              "#46039f"
             ],
             [
              0.2222222222222222,
              "#7201a8"
             ],
             [
              0.3333333333333333,
              "#9c179e"
             ],
             [
              0.4444444444444444,
              "#bd3786"
             ],
             [
              0.5555555555555556,
              "#d8576b"
             ],
             [
              0.6666666666666666,
              "#ed7953"
             ],
             [
              0.7777777777777778,
              "#fb9f3a"
             ],
             [
              0.8888888888888888,
              "#fdca26"
             ],
             [
              1,
              "#f0f921"
             ]
            ],
            "type": "heatmapgl"
           }
          ],
          "histogram": [
           {
            "marker": {
             "colorbar": {
              "outlinewidth": 0,
              "ticks": ""
             }
            },
            "type": "histogram"
           }
          ],
          "histogram2d": [
           {
            "colorbar": {
             "outlinewidth": 0,
             "ticks": ""
            },
            "colorscale": [
             [
              0,
              "#0d0887"
             ],
             [
              0.1111111111111111,
              "#46039f"
             ],
             [
              0.2222222222222222,
              "#7201a8"
             ],
             [
              0.3333333333333333,
              "#9c179e"
             ],
             [
              0.4444444444444444,
              "#bd3786"
             ],
             [
              0.5555555555555556,
              "#d8576b"
             ],
             [
              0.6666666666666666,
              "#ed7953"
             ],
             [
              0.7777777777777778,
              "#fb9f3a"
             ],
             [
              0.8888888888888888,
              "#fdca26"
             ],
             [
              1,
              "#f0f921"
             ]
            ],
            "type": "histogram2d"
           }
          ],
          "histogram2dcontour": [
           {
            "colorbar": {
             "outlinewidth": 0,
             "ticks": ""
            },
            "colorscale": [
             [
              0,
              "#0d0887"
             ],
             [
              0.1111111111111111,
              "#46039f"
             ],
             [
              0.2222222222222222,
              "#7201a8"
             ],
             [
              0.3333333333333333,
              "#9c179e"
             ],
             [
              0.4444444444444444,
              "#bd3786"
             ],
             [
              0.5555555555555556,
              "#d8576b"
             ],
             [
              0.6666666666666666,
              "#ed7953"
             ],
             [
              0.7777777777777778,
              "#fb9f3a"
             ],
             [
              0.8888888888888888,
              "#fdca26"
             ],
             [
              1,
              "#f0f921"
             ]
            ],
            "type": "histogram2dcontour"
           }
          ],
          "mesh3d": [
           {
            "colorbar": {
             "outlinewidth": 0,
             "ticks": ""
            },
            "type": "mesh3d"
           }
          ],
          "parcoords": [
           {
            "line": {
             "colorbar": {
              "outlinewidth": 0,
              "ticks": ""
             }
            },
            "type": "parcoords"
           }
          ],
          "pie": [
           {
            "automargin": true,
            "type": "pie"
           }
          ],
          "scatter": [
           {
            "marker": {
             "colorbar": {
              "outlinewidth": 0,
              "ticks": ""
             }
            },
            "type": "scatter"
           }
          ],
          "scatter3d": [
           {
            "line": {
             "colorbar": {
              "outlinewidth": 0,
              "ticks": ""
             }
            },
            "marker": {
             "colorbar": {
              "outlinewidth": 0,
              "ticks": ""
             }
            },
            "type": "scatter3d"
           }
          ],
          "scattercarpet": [
           {
            "marker": {
             "colorbar": {
              "outlinewidth": 0,
              "ticks": ""
             }
            },
            "type": "scattercarpet"
           }
          ],
          "scattergeo": [
           {
            "marker": {
             "colorbar": {
              "outlinewidth": 0,
              "ticks": ""
             }
            },
            "type": "scattergeo"
           }
          ],
          "scattergl": [
           {
            "marker": {
             "colorbar": {
              "outlinewidth": 0,
              "ticks": ""
             }
            },
            "type": "scattergl"
           }
          ],
          "scattermapbox": [
           {
            "marker": {
             "colorbar": {
              "outlinewidth": 0,
              "ticks": ""
             }
            },
            "type": "scattermapbox"
           }
          ],
          "scatterpolar": [
           {
            "marker": {
             "colorbar": {
              "outlinewidth": 0,
              "ticks": ""
             }
            },
            "type": "scatterpolar"
           }
          ],
          "scatterpolargl": [
           {
            "marker": {
             "colorbar": {
              "outlinewidth": 0,
              "ticks": ""
             }
            },
            "type": "scatterpolargl"
           }
          ],
          "scatterternary": [
           {
            "marker": {
             "colorbar": {
              "outlinewidth": 0,
              "ticks": ""
             }
            },
            "type": "scatterternary"
           }
          ],
          "surface": [
           {
            "colorbar": {
             "outlinewidth": 0,
             "ticks": ""
            },
            "colorscale": [
             [
              0,
              "#0d0887"
             ],
             [
              0.1111111111111111,
              "#46039f"
             ],
             [
              0.2222222222222222,
              "#7201a8"
             ],
             [
              0.3333333333333333,
              "#9c179e"
             ],
             [
              0.4444444444444444,
              "#bd3786"
             ],
             [
              0.5555555555555556,
              "#d8576b"
             ],
             [
              0.6666666666666666,
              "#ed7953"
             ],
             [
              0.7777777777777778,
              "#fb9f3a"
             ],
             [
              0.8888888888888888,
              "#fdca26"
             ],
             [
              1,
              "#f0f921"
             ]
            ],
            "type": "surface"
           }
          ],
          "table": [
           {
            "cells": {
             "fill": {
              "color": "#EBF0F8"
             },
             "line": {
              "color": "white"
             }
            },
            "header": {
             "fill": {
              "color": "#C8D4E3"
             },
             "line": {
              "color": "white"
             }
            },
            "type": "table"
           }
          ]
         },
         "layout": {
          "annotationdefaults": {
           "arrowcolor": "#2a3f5f",
           "arrowhead": 0,
           "arrowwidth": 1
          },
          "autotypenumbers": "strict",
          "coloraxis": {
           "colorbar": {
            "outlinewidth": 0,
            "ticks": ""
           }
          },
          "colorscale": {
           "diverging": [
            [
             0,
             "#8e0152"
            ],
            [
             0.1,
             "#c51b7d"
            ],
            [
             0.2,
             "#de77ae"
            ],
            [
             0.3,
             "#f1b6da"
            ],
            [
             0.4,
             "#fde0ef"
            ],
            [
             0.5,
             "#f7f7f7"
            ],
            [
             0.6,
             "#e6f5d0"
            ],
            [
             0.7,
             "#b8e186"
            ],
            [
             0.8,
             "#7fbc41"
            ],
            [
             0.9,
             "#4d9221"
            ],
            [
             1,
             "#276419"
            ]
           ],
           "sequential": [
            [
             0,
             "#0d0887"
            ],
            [
             0.1111111111111111,
             "#46039f"
            ],
            [
             0.2222222222222222,
             "#7201a8"
            ],
            [
             0.3333333333333333,
             "#9c179e"
            ],
            [
             0.4444444444444444,
             "#bd3786"
            ],
            [
             0.5555555555555556,
             "#d8576b"
            ],
            [
             0.6666666666666666,
             "#ed7953"
            ],
            [
             0.7777777777777778,
             "#fb9f3a"
            ],
            [
             0.8888888888888888,
             "#fdca26"
            ],
            [
             1,
             "#f0f921"
            ]
           ],
           "sequentialminus": [
            [
             0,
             "#0d0887"
            ],
            [
             0.1111111111111111,
             "#46039f"
            ],
            [
             0.2222222222222222,
             "#7201a8"
            ],
            [
             0.3333333333333333,
             "#9c179e"
            ],
            [
             0.4444444444444444,
             "#bd3786"
            ],
            [
             0.5555555555555556,
             "#d8576b"
            ],
            [
             0.6666666666666666,
             "#ed7953"
            ],
            [
             0.7777777777777778,
             "#fb9f3a"
            ],
            [
             0.8888888888888888,
             "#fdca26"
            ],
            [
             1,
             "#f0f921"
            ]
           ]
          },
          "colorway": [
           "#636efa",
           "#EF553B",
           "#00cc96",
           "#ab63fa",
           "#FFA15A",
           "#19d3f3",
           "#FF6692",
           "#B6E880",
           "#FF97FF",
           "#FECB52"
          ],
          "font": {
           "color": "#2a3f5f"
          },
          "geo": {
           "bgcolor": "white",
           "lakecolor": "white",
           "landcolor": "#E5ECF6",
           "showlakes": true,
           "showland": true,
           "subunitcolor": "white"
          },
          "hoverlabel": {
           "align": "left"
          },
          "hovermode": "closest",
          "mapbox": {
           "style": "light"
          },
          "paper_bgcolor": "white",
          "plot_bgcolor": "#E5ECF6",
          "polar": {
           "angularaxis": {
            "gridcolor": "white",
            "linecolor": "white",
            "ticks": ""
           },
           "bgcolor": "#E5ECF6",
           "radialaxis": {
            "gridcolor": "white",
            "linecolor": "white",
            "ticks": ""
           }
          },
          "scene": {
           "xaxis": {
            "backgroundcolor": "#E5ECF6",
            "gridcolor": "white",
            "gridwidth": 2,
            "linecolor": "white",
            "showbackground": true,
            "ticks": "",
            "zerolinecolor": "white"
           },
           "yaxis": {
            "backgroundcolor": "#E5ECF6",
            "gridcolor": "white",
            "gridwidth": 2,
            "linecolor": "white",
            "showbackground": true,
            "ticks": "",
            "zerolinecolor": "white"
           },
           "zaxis": {
            "backgroundcolor": "#E5ECF6",
            "gridcolor": "white",
            "gridwidth": 2,
            "linecolor": "white",
            "showbackground": true,
            "ticks": "",
            "zerolinecolor": "white"
           }
          },
          "shapedefaults": {
           "line": {
            "color": "#2a3f5f"
           }
          },
          "ternary": {
           "aaxis": {
            "gridcolor": "white",
            "linecolor": "white",
            "ticks": ""
           },
           "baxis": {
            "gridcolor": "white",
            "linecolor": "white",
            "ticks": ""
           },
           "bgcolor": "#E5ECF6",
           "caxis": {
            "gridcolor": "white",
            "linecolor": "white",
            "ticks": ""
           }
          },
          "title": {
           "x": 0.05
          },
          "xaxis": {
           "automargin": true,
           "gridcolor": "white",
           "linecolor": "white",
           "ticks": "",
           "title": {
            "standoff": 15
           },
           "zerolinecolor": "white",
           "zerolinewidth": 2
          },
          "yaxis": {
           "automargin": true,
           "gridcolor": "white",
           "linecolor": "white",
           "ticks": "",
           "title": {
            "standoff": 15
           },
           "zerolinecolor": "white",
           "zerolinewidth": 2
          }
         }
        },
        "title": {
         "text": "Digit 0 - Persistence Diagram file 10_pd.vtk"
        },
        "width": 400,
        "xaxis": {
         "anchor": "y",
         "constrain": "domain",
         "domain": [
          0,
          1
         ],
         "scaleanchor": "y",
         "showticklabels": false
        },
        "yaxis": {
         "anchor": "x",
         "autorange": "reversed",
         "constrain": "domain",
         "domain": [
          0,
          1
         ],
         "showticklabels": false
        }
       }
      },
      "text/html": [
       "<div>                            <div id=\"8fc26dfc-6c66-4b27-ab87-dc85a7c3b356\" class=\"plotly-graph-div\" style=\"height:400px; width:400px;\"></div>            <script type=\"text/javascript\">                require([\"plotly\"], function(Plotly) {                    window.PLOTLYENV=window.PLOTLYENV || {};                                    if (document.getElementById(\"8fc26dfc-6c66-4b27-ab87-dc85a7c3b356\")) {                    Plotly.newPlot(                        \"8fc26dfc-6c66-4b27-ab87-dc85a7c3b356\",                        [{\"coloraxis\": \"coloraxis\", \"hovertemplate\": \"x: %{x}<br>y: %{y}<br>color: %{z}<extra></extra>\", \"name\": \"0\", \"type\": \"heatmap\", \"xaxis\": \"x\", \"yaxis\": \"y\", \"z\": [[0, 0, 0, 0, 0, 0, 0, 0, 0, 0, 0, 0, 0, 0, 0, 0, 0, 0, 0, 0, 0, 0, 0, 0, 0, 0, 0, 0], [0, 0, 0, 0, 0, 0, 0, 0, 0, 0, 0, 0, 0, 0, 0, 0, 0, 0, 0, 0, 0, 0, 0, 0, 0, 0, 0, 0], [0, 0, 0, 0, 0, 0, 0, 0, 0, 0, 0, 0, 0, 0, 0, 0, 0, 0, 0, 0, 0, 0, 0, 0, 0, 0, 0, 0], [0, 0, 0, 0, 0, 0, 0, 0, 0, 0, 0, 0, 0, 0, 0, 0, 0, 0, 0, 0, 0, 0, 0, 0, 0, 0, 0, 0], [0, 0, 0, 0, 0, 0, 0, 0, 0, 0, 0, 61, 3, 42, 118, 193, 118, 118, 61, 0, 0, 0, 0, 0, 0, 0, 0, 0], [0, 0, 0, 0, 0, 0, 0, 0, 0, 14, 179, 245, 236, 242, 254, 254, 254, 254, 245, 235, 84, 0, 0, 0, 0, 0, 0, 0], [0, 0, 0, 0, 0, 0, 0, 0, 0, 151, 254, 254, 254, 213, 192, 178, 178, 180, 254, 254, 241, 46, 0, 0, 0, 0, 0, 0], [0, 0, 0, 0, 0, 0, 0, 0, 43, 235, 254, 226, 64, 28, 12, 0, 0, 2, 128, 252, 255, 173, 17, 0, 0, 0, 0, 0], [0, 0, 0, 0, 0, 0, 0, 0, 56, 254, 253, 107, 0, 0, 0, 0, 0, 0, 0, 134, 250, 254, 75, 0, 0, 0, 0, 0], [0, 0, 0, 0, 0, 0, 0, 0, 63, 254, 158, 0, 0, 0, 0, 0, 0, 0, 0, 0, 221, 254, 157, 0, 0, 0, 0, 0], [0, 0, 0, 0, 0, 0, 0, 0, 194, 254, 103, 0, 0, 0, 0, 0, 0, 0, 0, 0, 150, 254, 213, 0, 0, 0, 0, 0], [0, 0, 0, 0, 0, 0, 0, 34, 220, 239, 58, 0, 0, 0, 0, 0, 0, 0, 0, 0, 84, 254, 213, 0, 0, 0, 0, 0], [0, 0, 0, 0, 0, 0, 0, 126, 254, 171, 0, 0, 0, 0, 0, 0, 0, 0, 0, 0, 84, 254, 213, 0, 0, 0, 0, 0], [0, 0, 0, 0, 0, 0, 0, 214, 239, 60, 0, 0, 0, 0, 0, 0, 0, 0, 0, 0, 84, 254, 213, 0, 0, 0, 0, 0], [0, 0, 0, 0, 0, 0, 0, 214, 199, 0, 0, 0, 0, 0, 0, 0, 0, 0, 0, 0, 84, 254, 213, 0, 0, 0, 0, 0], [0, 0, 0, 0, 0, 0, 11, 219, 199, 0, 0, 0, 0, 0, 0, 0, 0, 0, 0, 0, 84, 254, 213, 0, 0, 0, 0, 0], [0, 0, 0, 0, 0, 0, 98, 254, 199, 0, 0, 0, 0, 0, 0, 0, 0, 0, 0, 0, 162, 254, 209, 0, 0, 0, 0, 0], [0, 0, 0, 0, 0, 0, 98, 254, 199, 0, 0, 0, 0, 0, 0, 0, 0, 0, 0, 51, 238, 254, 75, 0, 0, 0, 0, 0], [0, 0, 0, 0, 0, 0, 98, 254, 199, 0, 0, 0, 0, 0, 0, 0, 0, 0, 51, 165, 254, 195, 4, 0, 0, 0, 0, 0], [0, 0, 0, 0, 0, 0, 66, 241, 199, 0, 0, 0, 0, 0, 0, 0, 0, 3, 167, 254, 227, 55, 0, 0, 0, 0, 0, 0], [0, 0, 0, 0, 0, 0, 0, 214, 213, 20, 0, 0, 0, 0, 0, 46, 152, 202, 254, 254, 63, 0, 0, 0, 0, 0, 0, 0], [0, 0, 0, 0, 0, 0, 0, 214, 254, 204, 180, 180, 180, 180, 180, 235, 254, 254, 234, 156, 10, 0, 0, 0, 0, 0, 0, 0], [0, 0, 0, 0, 0, 0, 0, 81, 205, 254, 254, 254, 254, 254, 254, 254, 252, 234, 120, 0, 0, 0, 0, 0, 0, 0, 0, 0], [0, 0, 0, 0, 0, 0, 0, 0, 26, 210, 254, 254, 254, 254, 254, 153, 104, 0, 0, 0, 0, 0, 0, 0, 0, 0, 0, 0], [0, 0, 0, 0, 0, 0, 0, 0, 0, 0, 0, 0, 0, 0, 0, 0, 0, 0, 0, 0, 0, 0, 0, 0, 0, 0, 0, 0], [0, 0, 0, 0, 0, 0, 0, 0, 0, 0, 0, 0, 0, 0, 0, 0, 0, 0, 0, 0, 0, 0, 0, 0, 0, 0, 0, 0], [0, 0, 0, 0, 0, 0, 0, 0, 0, 0, 0, 0, 0, 0, 0, 0, 0, 0, 0, 0, 0, 0, 0, 0, 0, 0, 0, 0], [0, 0, 0, 0, 0, 0, 0, 0, 0, 0, 0, 0, 0, 0, 0, 0, 0, 0, 0, 0, 0, 0, 0, 0, 0, 0, 0, 0]]}, {\"hoverinfo\": \"text\", \"mode\": \"markers\", \"text\": [0.0797976451830417, 0.046744378302789734, 0.046744378302789734, 0.0, 0.0, 0.046744378302789734, 0.06558204701039623, 0.06558204701039623, 0.0, 0.4787858710982501, 0.0], \"type\": \"scatter\", \"x\": [7.0, 8.0, 8.0, 9.0, 9.0, 18.0, 18.0, 20.0, 21.0, 7.5, 7.5], \"y\": [16.0, 12.0, 21.0, 5.0, 22.0, 6.0, 20.0, 7.0, 8.0, 20.0, 13.5]}],                        {\"coloraxis\": {\"colorscale\": [[0.0, \"rgb(0, 0, 0)\"], [0.09090909090909091, \"rgb(16, 16, 16)\"], [0.18181818181818182, \"rgb(38, 38, 38)\"], [0.2727272727272727, \"rgb(59, 59, 59)\"], [0.36363636363636365, \"rgb(81, 80, 80)\"], [0.45454545454545453, \"rgb(102, 101, 101)\"], [0.5454545454545454, \"rgb(124, 123, 122)\"], [0.6363636363636364, \"rgb(146, 146, 145)\"], [0.7272727272727273, \"rgb(171, 171, 170)\"], [0.8181818181818182, \"rgb(197, 197, 195)\"], [0.9090909090909091, \"rgb(224, 224, 223)\"], [1.0, \"rgb(254, 254, 253)\"]], \"showscale\": false}, \"height\": 400, \"margin\": {\"t\": 60}, \"template\": {\"data\": {\"bar\": [{\"error_x\": {\"color\": \"#2a3f5f\"}, \"error_y\": {\"color\": \"#2a3f5f\"}, \"marker\": {\"line\": {\"color\": \"#E5ECF6\", \"width\": 0.5}}, \"type\": \"bar\"}], \"barpolar\": [{\"marker\": {\"line\": {\"color\": \"#E5ECF6\", \"width\": 0.5}}, \"type\": \"barpolar\"}], \"carpet\": [{\"aaxis\": {\"endlinecolor\": \"#2a3f5f\", \"gridcolor\": \"white\", \"linecolor\": \"white\", \"minorgridcolor\": \"white\", \"startlinecolor\": \"#2a3f5f\"}, \"baxis\": {\"endlinecolor\": \"#2a3f5f\", \"gridcolor\": \"white\", \"linecolor\": \"white\", \"minorgridcolor\": \"white\", \"startlinecolor\": \"#2a3f5f\"}, \"type\": \"carpet\"}], \"choropleth\": [{\"colorbar\": {\"outlinewidth\": 0, \"ticks\": \"\"}, \"type\": \"choropleth\"}], \"contour\": [{\"colorbar\": {\"outlinewidth\": 0, \"ticks\": \"\"}, \"colorscale\": [[0.0, \"#0d0887\"], [0.1111111111111111, \"#46039f\"], [0.2222222222222222, \"#7201a8\"], [0.3333333333333333, \"#9c179e\"], [0.4444444444444444, \"#bd3786\"], [0.5555555555555556, \"#d8576b\"], [0.6666666666666666, \"#ed7953\"], [0.7777777777777778, \"#fb9f3a\"], [0.8888888888888888, \"#fdca26\"], [1.0, \"#f0f921\"]], \"type\": \"contour\"}], \"contourcarpet\": [{\"colorbar\": {\"outlinewidth\": 0, \"ticks\": \"\"}, \"type\": \"contourcarpet\"}], \"heatmap\": [{\"colorbar\": {\"outlinewidth\": 0, \"ticks\": \"\"}, \"colorscale\": [[0.0, \"#0d0887\"], [0.1111111111111111, \"#46039f\"], [0.2222222222222222, \"#7201a8\"], [0.3333333333333333, \"#9c179e\"], [0.4444444444444444, \"#bd3786\"], [0.5555555555555556, \"#d8576b\"], [0.6666666666666666, \"#ed7953\"], [0.7777777777777778, \"#fb9f3a\"], [0.8888888888888888, \"#fdca26\"], [1.0, \"#f0f921\"]], \"type\": \"heatmap\"}], \"heatmapgl\": [{\"colorbar\": {\"outlinewidth\": 0, \"ticks\": \"\"}, \"colorscale\": [[0.0, \"#0d0887\"], [0.1111111111111111, \"#46039f\"], [0.2222222222222222, \"#7201a8\"], [0.3333333333333333, \"#9c179e\"], [0.4444444444444444, \"#bd3786\"], [0.5555555555555556, \"#d8576b\"], [0.6666666666666666, \"#ed7953\"], [0.7777777777777778, \"#fb9f3a\"], [0.8888888888888888, \"#fdca26\"], [1.0, \"#f0f921\"]], \"type\": \"heatmapgl\"}], \"histogram\": [{\"marker\": {\"colorbar\": {\"outlinewidth\": 0, \"ticks\": \"\"}}, \"type\": \"histogram\"}], \"histogram2d\": [{\"colorbar\": {\"outlinewidth\": 0, \"ticks\": \"\"}, \"colorscale\": [[0.0, \"#0d0887\"], [0.1111111111111111, \"#46039f\"], [0.2222222222222222, \"#7201a8\"], [0.3333333333333333, \"#9c179e\"], [0.4444444444444444, \"#bd3786\"], [0.5555555555555556, \"#d8576b\"], [0.6666666666666666, \"#ed7953\"], [0.7777777777777778, \"#fb9f3a\"], [0.8888888888888888, \"#fdca26\"], [1.0, \"#f0f921\"]], \"type\": \"histogram2d\"}], \"histogram2dcontour\": [{\"colorbar\": {\"outlinewidth\": 0, \"ticks\": \"\"}, \"colorscale\": [[0.0, \"#0d0887\"], [0.1111111111111111, \"#46039f\"], [0.2222222222222222, \"#7201a8\"], [0.3333333333333333, \"#9c179e\"], [0.4444444444444444, \"#bd3786\"], [0.5555555555555556, \"#d8576b\"], [0.6666666666666666, \"#ed7953\"], [0.7777777777777778, \"#fb9f3a\"], [0.8888888888888888, \"#fdca26\"], [1.0, \"#f0f921\"]], \"type\": \"histogram2dcontour\"}], \"mesh3d\": [{\"colorbar\": {\"outlinewidth\": 0, \"ticks\": \"\"}, \"type\": \"mesh3d\"}], \"parcoords\": [{\"line\": {\"colorbar\": {\"outlinewidth\": 0, \"ticks\": \"\"}}, \"type\": \"parcoords\"}], \"pie\": [{\"automargin\": true, \"type\": \"pie\"}], \"scatter\": [{\"marker\": {\"colorbar\": {\"outlinewidth\": 0, \"ticks\": \"\"}}, \"type\": \"scatter\"}], \"scatter3d\": [{\"line\": {\"colorbar\": {\"outlinewidth\": 0, \"ticks\": \"\"}}, \"marker\": {\"colorbar\": {\"outlinewidth\": 0, \"ticks\": \"\"}}, \"type\": \"scatter3d\"}], \"scattercarpet\": [{\"marker\": {\"colorbar\": {\"outlinewidth\": 0, \"ticks\": \"\"}}, \"type\": \"scattercarpet\"}], \"scattergeo\": [{\"marker\": {\"colorbar\": {\"outlinewidth\": 0, \"ticks\": \"\"}}, \"type\": \"scattergeo\"}], \"scattergl\": [{\"marker\": {\"colorbar\": {\"outlinewidth\": 0, \"ticks\": \"\"}}, \"type\": \"scattergl\"}], \"scattermapbox\": [{\"marker\": {\"colorbar\": {\"outlinewidth\": 0, \"ticks\": \"\"}}, \"type\": \"scattermapbox\"}], \"scatterpolar\": [{\"marker\": {\"colorbar\": {\"outlinewidth\": 0, \"ticks\": \"\"}}, \"type\": \"scatterpolar\"}], \"scatterpolargl\": [{\"marker\": {\"colorbar\": {\"outlinewidth\": 0, \"ticks\": \"\"}}, \"type\": \"scatterpolargl\"}], \"scatterternary\": [{\"marker\": {\"colorbar\": {\"outlinewidth\": 0, \"ticks\": \"\"}}, \"type\": \"scatterternary\"}], \"surface\": [{\"colorbar\": {\"outlinewidth\": 0, \"ticks\": \"\"}, \"colorscale\": [[0.0, \"#0d0887\"], [0.1111111111111111, \"#46039f\"], [0.2222222222222222, \"#7201a8\"], [0.3333333333333333, \"#9c179e\"], [0.4444444444444444, \"#bd3786\"], [0.5555555555555556, \"#d8576b\"], [0.6666666666666666, \"#ed7953\"], [0.7777777777777778, \"#fb9f3a\"], [0.8888888888888888, \"#fdca26\"], [1.0, \"#f0f921\"]], \"type\": \"surface\"}], \"table\": [{\"cells\": {\"fill\": {\"color\": \"#EBF0F8\"}, \"line\": {\"color\": \"white\"}}, \"header\": {\"fill\": {\"color\": \"#C8D4E3\"}, \"line\": {\"color\": \"white\"}}, \"type\": \"table\"}]}, \"layout\": {\"annotationdefaults\": {\"arrowcolor\": \"#2a3f5f\", \"arrowhead\": 0, \"arrowwidth\": 1}, \"autotypenumbers\": \"strict\", \"coloraxis\": {\"colorbar\": {\"outlinewidth\": 0, \"ticks\": \"\"}}, \"colorscale\": {\"diverging\": [[0, \"#8e0152\"], [0.1, \"#c51b7d\"], [0.2, \"#de77ae\"], [0.3, \"#f1b6da\"], [0.4, \"#fde0ef\"], [0.5, \"#f7f7f7\"], [0.6, \"#e6f5d0\"], [0.7, \"#b8e186\"], [0.8, \"#7fbc41\"], [0.9, \"#4d9221\"], [1, \"#276419\"]], \"sequential\": [[0.0, \"#0d0887\"], [0.1111111111111111, \"#46039f\"], [0.2222222222222222, \"#7201a8\"], [0.3333333333333333, \"#9c179e\"], [0.4444444444444444, \"#bd3786\"], [0.5555555555555556, \"#d8576b\"], [0.6666666666666666, \"#ed7953\"], [0.7777777777777778, \"#fb9f3a\"], [0.8888888888888888, \"#fdca26\"], [1.0, \"#f0f921\"]], \"sequentialminus\": [[0.0, \"#0d0887\"], [0.1111111111111111, \"#46039f\"], [0.2222222222222222, \"#7201a8\"], [0.3333333333333333, \"#9c179e\"], [0.4444444444444444, \"#bd3786\"], [0.5555555555555556, \"#d8576b\"], [0.6666666666666666, \"#ed7953\"], [0.7777777777777778, \"#fb9f3a\"], [0.8888888888888888, \"#fdca26\"], [1.0, \"#f0f921\"]]}, \"colorway\": [\"#636efa\", \"#EF553B\", \"#00cc96\", \"#ab63fa\", \"#FFA15A\", \"#19d3f3\", \"#FF6692\", \"#B6E880\", \"#FF97FF\", \"#FECB52\"], \"font\": {\"color\": \"#2a3f5f\"}, \"geo\": {\"bgcolor\": \"white\", \"lakecolor\": \"white\", \"landcolor\": \"#E5ECF6\", \"showlakes\": true, \"showland\": true, \"subunitcolor\": \"white\"}, \"hoverlabel\": {\"align\": \"left\"}, \"hovermode\": \"closest\", \"mapbox\": {\"style\": \"light\"}, \"paper_bgcolor\": \"white\", \"plot_bgcolor\": \"#E5ECF6\", \"polar\": {\"angularaxis\": {\"gridcolor\": \"white\", \"linecolor\": \"white\", \"ticks\": \"\"}, \"bgcolor\": \"#E5ECF6\", \"radialaxis\": {\"gridcolor\": \"white\", \"linecolor\": \"white\", \"ticks\": \"\"}}, \"scene\": {\"xaxis\": {\"backgroundcolor\": \"#E5ECF6\", \"gridcolor\": \"white\", \"gridwidth\": 2, \"linecolor\": \"white\", \"showbackground\": true, \"ticks\": \"\", \"zerolinecolor\": \"white\"}, \"yaxis\": {\"backgroundcolor\": \"#E5ECF6\", \"gridcolor\": \"white\", \"gridwidth\": 2, \"linecolor\": \"white\", \"showbackground\": true, \"ticks\": \"\", \"zerolinecolor\": \"white\"}, \"zaxis\": {\"backgroundcolor\": \"#E5ECF6\", \"gridcolor\": \"white\", \"gridwidth\": 2, \"linecolor\": \"white\", \"showbackground\": true, \"ticks\": \"\", \"zerolinecolor\": \"white\"}}, \"shapedefaults\": {\"line\": {\"color\": \"#2a3f5f\"}}, \"ternary\": {\"aaxis\": {\"gridcolor\": \"white\", \"linecolor\": \"white\", \"ticks\": \"\"}, \"baxis\": {\"gridcolor\": \"white\", \"linecolor\": \"white\", \"ticks\": \"\"}, \"bgcolor\": \"#E5ECF6\", \"caxis\": {\"gridcolor\": \"white\", \"linecolor\": \"white\", \"ticks\": \"\"}}, \"title\": {\"x\": 0.05}, \"xaxis\": {\"automargin\": true, \"gridcolor\": \"white\", \"linecolor\": \"white\", \"ticks\": \"\", \"title\": {\"standoff\": 15}, \"zerolinecolor\": \"white\", \"zerolinewidth\": 2}, \"yaxis\": {\"automargin\": true, \"gridcolor\": \"white\", \"linecolor\": \"white\", \"ticks\": \"\", \"title\": {\"standoff\": 15}, \"zerolinecolor\": \"white\", \"zerolinewidth\": 2}}}, \"title\": {\"text\": \"Digit 0 - Persistence Diagram file 10_pd.vtk\"}, \"width\": 400, \"xaxis\": {\"anchor\": \"y\", \"constrain\": \"domain\", \"domain\": [0.0, 1.0], \"scaleanchor\": \"y\", \"showticklabels\": false}, \"yaxis\": {\"anchor\": \"x\", \"autorange\": \"reversed\", \"constrain\": \"domain\", \"domain\": [0.0, 1.0], \"showticklabels\": false}},                        {\"responsive\": true}                    ).then(function(){\n",
       "                            \n",
       "var gd = document.getElementById('8fc26dfc-6c66-4b27-ab87-dc85a7c3b356');\n",
       "var x = new MutationObserver(function (mutations, observer) {{\n",
       "        var display = window.getComputedStyle(gd).display;\n",
       "        if (!display || display === 'none') {{\n",
       "            console.log([gd, 'removed!']);\n",
       "            Plotly.purge(gd);\n",
       "            observer.disconnect();\n",
       "        }}\n",
       "}});\n",
       "\n",
       "// Listen for the removal of the full notebook cells\n",
       "var notebookContainer = gd.closest('#notebook-container');\n",
       "if (notebookContainer) {{\n",
       "    x.observe(notebookContainer, {childList: true});\n",
       "}}\n",
       "\n",
       "// Listen for the clearing of the current output cell\n",
       "var outputEl = gd.closest('.output');\n",
       "if (outputEl) {{\n",
       "    x.observe(outputEl, {childList: true});\n",
       "}}\n",
       "\n",
       "                        })                };                });            </script>        </div>"
      ]
     },
     "metadata": {},
     "output_type": "display_data"
    }
   ],
   "source": [
    "digitPrefix = \"0/10\"\n",
    "pngFile = os.path.join(IMG_DIR, digitPrefix+\".png\")\n",
    "img = io.imread(pngFile)\n",
    "\n",
    "diagramFile = os.path.join(VTK_DIR, digitPrefix+\"_pd.vtk\")\n",
    "\n",
    "visualizeComponents(img,diagramFile)"
   ]
  },
  {
   "cell_type": "markdown",
   "id": "congressional-jumping",
   "metadata": {},
   "source": [
    "or overlayed to filtration that originated the persistence pairs"
   ]
  },
  {
   "cell_type": "code",
   "execution_count": 9,
   "id": "wooden-fisher",
   "metadata": {},
   "outputs": [
    {
     "data": {
      "application/vnd.plotly.v1+json": {
       "config": {
        "plotlyServerURL": "https://plot.ly"
       },
       "data": [
        {
         "coloraxis": "coloraxis",
         "hovertemplate": "x: %{x}<br>y: %{y}<br>color: %{z}<extra></extra>",
         "name": "0",
         "type": "heatmap",
         "xaxis": "x",
         "yaxis": "y",
         "z": [
          [
           1,
           0.9312424381130526,
           0.8648782584822717,
           0.8016724915026554,
           0.7426875193901581,
           0.6893871950352907,
           0.6437291894579398,
           0.6081564296056121,
           0.5774211849888983,
           0.5352988772210696,
           0.507447078838931,
           0.4976235398058566,
           0.4976235398058566,
           0.4976235398058566,
           0.4976235398058566,
           0.4976235398058566,
           0.4976235398058566,
           0.4976235398058566,
           0.4976235398058566,
           0.507447078838931,
           0.5352988772210696,
           0.5774211849888983,
           0.6081564296056121,
           0.6437291894579398,
           0.6893871950352907,
           0.7426875193901581,
           0.8016724915026554,
           0.8555384314534515
          ],
          [
           0.9643486193996472,
           0.8921647953684493,
           0.8217821422466461,
           0.7538619618111675,
           0.6893871950352907,
           0.6298366073268644,
           0.5774211849888983,
           0.5352988772210696,
           0.507447078838931,
           0.4661474604424287,
           0.4307752697700655,
           0.41782589462281494,
           0.41782589462281494,
           0.41782589462281494,
           0.41782589462281494,
           0.41782589462281494,
           0.41782589462281494,
           0.41782589462281494,
           0.41782589462281494,
           0.4307752697700655,
           0.4661474604424287,
           0.507447078838931,
           0.5352988772210696,
           0.5774211849888983,
           0.6298366073268644,
           0.6893871950352907,
           0.7426875193901581,
           0.8016724915026554
          ],
          [
           0.9312424381130526,
           0.8602243383851174,
           0.7861537191699695,
           0.7137318362947594,
           0.6437291894579398,
           0.5774211849888983,
           0.5169856952635707,
           0.4661474604424287,
           0.4307752697700655,
           0.4041347832002771,
           0.3568659181473797,
           0.3380282494397732,
           0.3380282494397732,
           0.3380282494397732,
           0.3380282494397732,
           0.3380282494397732,
           0.3380282494397732,
           0.3380282494397732,
           0.3380282494397732,
           0.3568659181473797,
           0.4041347832002771,
           0.4307752697700655,
           0.4661474604424287,
           0.5169856952635707,
           0.5774211849888983,
           0.6298366073268644,
           0.6893871950352907,
           0.7426875193901581
          ],
          [
           0.8921647953684493,
           0.8217821422466461,
           0.7538619618111675,
           0.6831175804664412,
           0.6081564296056121,
           0.5352988772210696,
           0.4661474604424287,
           0.4041347832002771,
           0.3568659181473797,
           0.3380282494397732,
           0.2912838711369835,
           0.25823060425673156,
           0.25823060425673156,
           0.25823060425673156,
           0.25823060425673156,
           0.25823060425673156,
           0.25823060425673156,
           0.25823060425673156,
           0.25823060425673156,
           0.2912838711369835,
           0.3380282494397732,
           0.3568659181473797,
           0.4041347832002771,
           0.4661474604424287,
           0.5169856952635707,
           0.5774211849888983,
           0.6298366073268644,
           0.6893871950352907
          ],
          [
           0.8602243383851174,
           0.7861537191699695,
           0.7137318362947594,
           0.6437291894579398,
           0.5774211849888983,
           0.507447078838931,
           0.4307752697700655,
           0.3568659181473797,
           0.2912838711369835,
           0.25823060425673156,
           0.25823060425673156,
           0.09863531389064818,
           0.09863531389064818,
           0.09863531389064818,
           0.09863531389064818,
           0.09863531389064818,
           0.09863531389064818,
           0.09863531389064818,
           0.09863531389064818,
           0.25823060425673156,
           0.25823060425673156,
           0.2912838711369835,
           0.3568659181473797,
           0.4041347832002771,
           0.4661474604424287,
           0.5169856952635707,
           0.5774211849888983,
           0.6437291894579398
          ],
          [
           0.8364611986041722,
           0.7593685849120495,
           0.6831175804664412,
           0.6081564296056121,
           0.5352988772210696,
           0.4661474604424287,
           0.4041347832002771,
           0.3380282494397732,
           0.25823060425673156,
           0.09863531389064818,
           0.09863531389064818,
           0.06558204701039623,
           0.018837668707606496,
           0.018837668707606496,
           0.018837668707606496,
           0.018837668707606496,
           0.018837668707606496,
           0.018837668707606496,
           0.06558204701039623,
           0.09863531389064818,
           0.09863531389064818,
           0.25823060425673156,
           0.2912838711369835,
           0.3568659181473797,
           0.4041347832002771,
           0.4661474604424287,
           0.5352988772210696,
           0.6081564296056121
          ],
          [
           0.8217821422466461,
           0.7426875193901581,
           0.6638230851991279,
           0.5853227090007727,
           0.507447078838931,
           0.4307752697700655,
           0.3568659181473797,
           0.2912838711369835,
           0.25823060425673156,
           0.09863531389064818,
           0.018837668707606496,
           0,
           0.018837668707606496,
           0.018837668707606496,
           0.06558204701039623,
           0.09863531389064818,
           0.09863531389064818,
           0.06558204701039623,
           0.018837668707606496,
           0.018837668707606496,
           0.06558204701039623,
           0.09863531389064818,
           0.25823060425673156,
           0.2912838711369835,
           0.3568659181473797,
           0.4307752697700655,
           0.507447078838931,
           0.5853227090007727
          ],
          [
           0.8168141205380234,
           0.7370164753549817,
           0.6572188301719399,
           0.5774211849888983,
           0.4976235398058566,
           0.41782589462281494,
           0.3380282494397732,
           0.25823060425673156,
           0.09863531389064818,
           0.06558204701039623,
           0,
           0.06558204701039623,
           0.09863531389064818,
           0.09863531389064818,
           0.09863531389064818,
           0.25823060425673156,
           0.25823060425673156,
           0.09863531389064818,
           0.09863531389064818,
           0.06558204701039623,
           0,
           0.06558204701039623,
           0.09863531389064818,
           0.25823060425673156,
           0.3380282494397732,
           0.41782589462281494,
           0.4976235398058566,
           0.5774211849888983
          ],
          [
           0.7861537191699695,
           0.7137318362947594,
           0.6437291894579398,
           0.5774211849888983,
           0.4976235398058566,
           0.41782589462281494,
           0.3380282494397732,
           0.25823060425673156,
           0.09863531389064818,
           0.018837668707606496,
           0.06558204701039623,
           0.09863531389064818,
           0.25823060425673156,
           0.25823060425673156,
           0.25823060425673156,
           0.2912838711369835,
           0.2912838711369835,
           0.25823060425673156,
           0.25823060425673156,
           0.09863531389064818,
           0.06558204701039623,
           0.018837668707606496,
           0.09863531389064818,
           0.25823060425673156,
           0.3380282494397732,
           0.41782589462281494,
           0.4976235398058566,
           0.5774211849888983
          ],
          [
           0.7593685849120495,
           0.6831175804664412,
           0.6081564296056121,
           0.5352988772210696,
           0.4661474604424287,
           0.4041347832002771,
           0.3380282494397732,
           0.25823060425673156,
           0.09863531389064818,
           0.018837668707606496,
           0.09863531389064818,
           0.25823060425673156,
           0.2912838711369835,
           0.3380282494397732,
           0.3380282494397732,
           0.3568659181473797,
           0.3568659181473797,
           0.3380282494397732,
           0.2912838711369835,
           0.25823060425673156,
           0.09863531389064818,
           0.018837668707606496,
           0.09863531389064818,
           0.25823060425673156,
           0.3380282494397732,
           0.41782589462281494,
           0.4976235398058566,
           0.5774211849888983
          ],
          [
           0.7426875193901581,
           0.6638230851991279,
           0.5853227090007727,
           0.507447078838931,
           0.4307752697700655,
           0.3568659181473797,
           0.2912838711369835,
           0.25823060425673156,
           0.09863531389064818,
           0.018837668707606496,
           0.09863531389064818,
           0.25823060425673156,
           0.3380282494397732,
           0.4041347832002771,
           0.41782589462281494,
           0.4307752697700655,
           0.4307752697700655,
           0.4041347832002771,
           0.3380282494397732,
           0.25823060425673156,
           0.09863531389064818,
           0.018837668707606496,
           0.09863531389064818,
           0.25823060425673156,
           0.3380282494397732,
           0.41782589462281494,
           0.4976235398058566,
           0.5774211849888983
          ],
          [
           0.7370164753549817,
           0.6572188301719399,
           0.5774211849888983,
           0.4976235398058566,
           0.41782589462281494,
           0.3380282494397732,
           0.25823060425673156,
           0.09863531389064818,
           0.06558204701039623,
           0.06558204701039623,
           0.09863531389064818,
           0.25823060425673156,
           0.3380282494397732,
           0.41782589462281494,
           0.4976235398058566,
           0.507447078838931,
           0.4976235398058566,
           0.41782589462281494,
           0.3380282494397732,
           0.25823060425673156,
           0.09863531389064818,
           0.018837668707606496,
           0.09863531389064818,
           0.25823060425673156,
           0.3380282494397732,
           0.41782589462281494,
           0.4976235398058566,
           0.5774211849888983
          ],
          [
           0.7137318362947594,
           0.6437291894579398,
           0.5774211849888983,
           0.4976235398058566,
           0.41782589462281494,
           0.3380282494397732,
           0.25823060425673156,
           0.09863531389064818,
           0.018837668707606496,
           0.09863531389064818,
           0.25823060425673156,
           0.2912838711369835,
           0.3568659181473797,
           0.4307752697700655,
           0.507447078838931,
           0.5774211849888983,
           0.4976235398058566,
           0.41782589462281494,
           0.3380282494397732,
           0.25823060425673156,
           0.09863531389064818,
           0.018837668707606496,
           0.09863531389064818,
           0.25823060425673156,
           0.3380282494397732,
           0.41782589462281494,
           0.4976235398058566,
           0.5774211849888983
          ],
          [
           0.6831175804664412,
           0.6081564296056121,
           0.5352988772210696,
           0.4661474604424287,
           0.4041347832002771,
           0.3380282494397732,
           0.25823060425673156,
           0.09863531389064818,
           0.06558204701039623,
           0.09863531389064818,
           0.25823060425673156,
           0.3380282494397732,
           0.4041347832002771,
           0.4661474604424287,
           0.5352988772210696,
           0.5774211849888983,
           0.4976235398058566,
           0.41782589462281494,
           0.3380282494397732,
           0.25823060425673156,
           0.09863531389064818,
           0.018837668707606496,
           0.09863531389064818,
           0.25823060425673156,
           0.3380282494397732,
           0.41782589462281494,
           0.4976235398058566,
           0.5774211849888983
          ],
          [
           0.6638230851991279,
           0.5853227090007727,
           0.507447078838931,
           0.4307752697700655,
           0.3568659181473797,
           0.2912838711369835,
           0.25823060425673156,
           0.09863531389064818,
           0.09863531389064818,
           0.25823060425673156,
           0.2912838711369835,
           0.3568659181473797,
           0.4307752697700655,
           0.507447078838931,
           0.5774211849888983,
           0.5774211849888983,
           0.4976235398058566,
           0.41782589462281494,
           0.3380282494397732,
           0.25823060425673156,
           0.09863531389064818,
           0.018837668707606496,
           0.09863531389064818,
           0.25823060425673156,
           0.3380282494397732,
           0.41782589462281494,
           0.4976235398058566,
           0.5774211849888983
          ],
          [
           0.6572188301719399,
           0.5774211849888983,
           0.4976235398058566,
           0.41782589462281494,
           0.3380282494397732,
           0.25823060425673156,
           0.09863531389064818,
           0.06558204701039623,
           0.09863531389064818,
           0.25823060425673156,
           0.3380282494397732,
           0.4041347832002771,
           0.4661474604424287,
           0.5352988772210696,
           0.5774211849888983,
           0.5169856952635707,
           0.4661474604424287,
           0.4041347832002771,
           0.3380282494397732,
           0.25823060425673156,
           0.09863531389064818,
           0.018837668707606496,
           0.09863531389064818,
           0.25823060425673156,
           0.3380282494397732,
           0.41782589462281494,
           0.4976235398058566,
           0.5774211849888983
          ],
          [
           0.6572188301719399,
           0.5774211849888983,
           0.4976235398058566,
           0.41782589462281494,
           0.3380282494397732,
           0.25823060425673156,
           0.09863531389064818,
           0.018837668707606496,
           0.09863531389064818,
           0.25823060425673156,
           0.3380282494397732,
           0.41782589462281494,
           0.4976235398058566,
           0.5352988772210696,
           0.507447078838931,
           0.4661474604424287,
           0.4041347832002771,
           0.3568659181473797,
           0.2912838711369835,
           0.25823060425673156,
           0.09863531389064818,
           0.018837668707606496,
           0.09863531389064818,
           0.25823060425673156,
           0.3380282494397732,
           0.41782589462281494,
           0.4976235398058566,
           0.5774211849888983
          ],
          [
           0.6572188301719399,
           0.5774211849888983,
           0.4976235398058566,
           0.41782589462281494,
           0.3380282494397732,
           0.25823060425673156,
           0.09863531389064818,
           0.018837668707606496,
           0.09863531389064818,
           0.25823060425673156,
           0.3380282494397732,
           0.41782589462281494,
           0.4976235398058566,
           0.4661474604424287,
           0.4307752697700655,
           0.4041347832002771,
           0.3568659181473797,
           0.2912838711369835,
           0.25823060425673156,
           0.09863531389064818,
           0.06558204701039623,
           0.018837668707606496,
           0.09863531389064818,
           0.25823060425673156,
           0.3380282494397732,
           0.41782589462281494,
           0.4976235398058566,
           0.5774211849888983
          ],
          [
           0.6572188301719399,
           0.5774211849888983,
           0.4976235398058566,
           0.41782589462281494,
           0.3380282494397732,
           0.25823060425673156,
           0.09863531389064818,
           0.018837668707606496,
           0.09863531389064818,
           0.25823060425673156,
           0.3380282494397732,
           0.4041347832002771,
           0.41782589462281494,
           0.4041347832002771,
           0.3568659181473797,
           0.3380282494397732,
           0.2912838711369835,
           0.25823060425673156,
           0.09863531389064818,
           0.06558204701039623,
           0,
           0.06558204701039623,
           0.09863531389064818,
           0.25823060425673156,
           0.3380282494397732,
           0.41782589462281494,
           0.4976235398058566,
           0.5774211849888983
          ],
          [
           0.6572188301719399,
           0.5774211849888983,
           0.4976235398058566,
           0.41782589462281494,
           0.3380282494397732,
           0.25823060425673156,
           0.09863531389064818,
           0.06558204701039623,
           0.09863531389064818,
           0.25823060425673156,
           0.2912838711369835,
           0.3380282494397732,
           0.3380282494397732,
           0.3380282494397732,
           0.2912838711369835,
           0.25823060425673156,
           0.25823060425673156,
           0.09863531389064818,
           0.06558204701039623,
           0,
           0.06558204701039623,
           0.09863531389064818,
           0.25823060425673156,
           0.2912838711369835,
           0.3568659181473797,
           0.4307752697700655,
           0.507447078838931,
           0.5853227090007727
          ],
          [
           0.6638230851991279,
           0.5853227090007727,
           0.507447078838931,
           0.4307752697700655,
           0.3568659181473797,
           0.2912838711369835,
           0.25823060425673156,
           0.09863531389064818,
           0.06558204701039623,
           0.09863531389064818,
           0.25823060425673156,
           0.25823060425673156,
           0.25823060425673156,
           0.25823060425673156,
           0.25823060425673156,
           0.09863531389064818,
           0.09863531389064818,
           0.06558204701039623,
           0,
           0.018837668707606496,
           0.09863531389064818,
           0.25823060425673156,
           0.2912838711369835,
           0.3568659181473797,
           0.4041347832002771,
           0.4661474604424287,
           0.5352988772210696,
           0.6081564296056121
          ],
          [
           0.6831175804664412,
           0.6081564296056121,
           0.5352988772210696,
           0.4661474604424287,
           0.4041347832002771,
           0.3380282494397732,
           0.25823060425673156,
           0.09863531389064818,
           0.018837668707606496,
           0.06558204701039623,
           0.09863531389064818,
           0.09863531389064818,
           0.09863531389064818,
           0.09863531389064818,
           0.09863531389064818,
           0.06558204701039623,
           0.018837668707606496,
           0.018837668707606496,
           0.06558204701039623,
           0.09863531389064818,
           0.09863531389064818,
           0.25823060425673156,
           0.3380282494397732,
           0.4041347832002771,
           0.4661474604424287,
           0.5169856952635707,
           0.5774211849888983,
           0.6437291894579398
          ],
          [
           0.7137318362947594,
           0.6437291894579398,
           0.5774211849888983,
           0.4976235398058566,
           0.41782589462281494,
           0.3380282494397732,
           0.25823060425673156,
           0.09863531389064818,
           0.06558204701039623,
           0.018837668707606496,
           0.018837668707606496,
           0.018837668707606496,
           0.018837668707606496,
           0.018837668707606496,
           0.018837668707606496,
           0.018837668707606496,
           0.06558204701039623,
           0.09863531389064818,
           0.09863531389064818,
           0.25823060425673156,
           0.25823060425673156,
           0.2912838711369835,
           0.3568659181473797,
           0.4307752697700655,
           0.507447078838931,
           0.5774211849888983,
           0.6298366073268644,
           0.6893871950352907
          ],
          [
           0.7426875193901581,
           0.6638230851991279,
           0.5853227090007727,
           0.507447078838931,
           0.4307752697700655,
           0.3568659181473797,
           0.2912838711369835,
           0.25823060425673156,
           0.09863531389064818,
           0.09863531389064818,
           0.09863531389064818,
           0.09863531389064818,
           0.09863531389064818,
           0.09863531389064818,
           0.09863531389064818,
           0.09863531389064818,
           0.09863531389064818,
           0.25823060425673156,
           0.25823060425673156,
           0.2912838711369835,
           0.3380282494397732,
           0.3568659181473797,
           0.4041347832002771,
           0.4661474604424287,
           0.5352988772210696,
           0.6081564296056121,
           0.6831175804664412,
           0.7426875193901581
          ],
          [
           0.7593685849120495,
           0.6831175804664412,
           0.6081564296056121,
           0.5352988772210696,
           0.4661474604424287,
           0.4041347832002771,
           0.3568659181473797,
           0.2912838711369835,
           0.25823060425673156,
           0.25823060425673156,
           0.25823060425673156,
           0.25823060425673156,
           0.25823060425673156,
           0.25823060425673156,
           0.25823060425673156,
           0.25823060425673156,
           0.25823060425673156,
           0.2912838711369835,
           0.3380282494397732,
           0.3568659181473797,
           0.4041347832002771,
           0.4307752697700655,
           0.4661474604424287,
           0.5169856952635707,
           0.5774211849888983,
           0.6437291894579398,
           0.7137318362947594,
           0.7861537191699695
          ],
          [
           0.7861537191699695,
           0.7137318362947594,
           0.6437291894579398,
           0.5774211849888983,
           0.5169856952635707,
           0.4661474604424287,
           0.4041347832002771,
           0.3568659181473797,
           0.3380282494397732,
           0.3380282494397732,
           0.3380282494397732,
           0.3380282494397732,
           0.3380282494397732,
           0.3380282494397732,
           0.3380282494397732,
           0.3380282494397732,
           0.3380282494397732,
           0.3568659181473797,
           0.4041347832002771,
           0.4307752697700655,
           0.4661474604424287,
           0.507447078838931,
           0.5352988772210696,
           0.5774211849888983,
           0.6298366073268644,
           0.6893871950352907,
           0.7538619618111675,
           0.8217821422466461
          ],
          [
           0.8217821422466461,
           0.7538619618111675,
           0.6893871950352907,
           0.6298366073268644,
           0.5774211849888983,
           0.5169856952635707,
           0.4661474604424287,
           0.4307752697700655,
           0.41782589462281494,
           0.41782589462281494,
           0.41782589462281494,
           0.41782589462281494,
           0.41782589462281494,
           0.41782589462281494,
           0.41782589462281494,
           0.41782589462281494,
           0.41782589462281494,
           0.4307752697700655,
           0.4661474604424287,
           0.507447078838931,
           0.5352988772210696,
           0.5774211849888983,
           0.6081564296056121,
           0.6437291894579398,
           0.6893871950352907,
           0.7426875193901581,
           0.8016724915026554,
           0.8648782584822717
          ],
          [
           0.8648782584822717,
           0.8016724915026554,
           0.7426875193901581,
           0.6893871950352907,
           0.6298366073268644,
           0.5774211849888983,
           0.5352988772210696,
           0.507447078838931,
           0.4976235398058566,
           0.4976235398058566,
           0.4976235398058566,
           0.4976235398058566,
           0.4976235398058566,
           0.4976235398058566,
           0.4976235398058566,
           0.4976235398058566,
           0.4976235398058566,
           0.507447078838931,
           0.5352988772210696,
           0.5774211849888983,
           0.6081564296056121,
           0.6437291894579398,
           0.6831175804664412,
           0.7137318362947594,
           0.7538619618111675,
           0.8016724915026554,
           0.8555384314534515,
           0.9141308964260263
          ]
         ]
        },
        {
         "hoverinfo": "text",
         "mode": "markers",
         "text": [
          0.0797976451830417,
          0.046744378302789734,
          0.046744378302789734,
          0,
          0,
          0.046744378302789734,
          0.06558204701039623,
          0.06558204701039623,
          0,
          0.4787858710982501,
          0
         ],
         "type": "scatter",
         "x": [
          7,
          8,
          8,
          9,
          9,
          18,
          18,
          20,
          21,
          7.5,
          7.5
         ],
         "y": [
          16,
          12,
          21,
          5,
          22,
          6,
          20,
          7,
          8,
          20,
          13.5
         ]
        }
       ],
       "layout": {
        "coloraxis": {
         "colorscale": [
          [
           0,
           "rgb(0, 0, 0)"
          ],
          [
           0.09090909090909091,
           "rgb(16, 16, 16)"
          ],
          [
           0.18181818181818182,
           "rgb(38, 38, 38)"
          ],
          [
           0.2727272727272727,
           "rgb(59, 59, 59)"
          ],
          [
           0.36363636363636365,
           "rgb(81, 80, 80)"
          ],
          [
           0.45454545454545453,
           "rgb(102, 101, 101)"
          ],
          [
           0.5454545454545454,
           "rgb(124, 123, 122)"
          ],
          [
           0.6363636363636364,
           "rgb(146, 146, 145)"
          ],
          [
           0.7272727272727273,
           "rgb(171, 171, 170)"
          ],
          [
           0.8181818181818182,
           "rgb(197, 197, 195)"
          ],
          [
           0.9090909090909091,
           "rgb(224, 224, 223)"
          ],
          [
           1,
           "rgb(254, 254, 253)"
          ]
         ],
         "showscale": false
        },
        "height": 400,
        "margin": {
         "t": 60
        },
        "template": {
         "data": {
          "bar": [
           {
            "error_x": {
             "color": "#2a3f5f"
            },
            "error_y": {
             "color": "#2a3f5f"
            },
            "marker": {
             "line": {
              "color": "#E5ECF6",
              "width": 0.5
             }
            },
            "type": "bar"
           }
          ],
          "barpolar": [
           {
            "marker": {
             "line": {
              "color": "#E5ECF6",
              "width": 0.5
             }
            },
            "type": "barpolar"
           }
          ],
          "carpet": [
           {
            "aaxis": {
             "endlinecolor": "#2a3f5f",
             "gridcolor": "white",
             "linecolor": "white",
             "minorgridcolor": "white",
             "startlinecolor": "#2a3f5f"
            },
            "baxis": {
             "endlinecolor": "#2a3f5f",
             "gridcolor": "white",
             "linecolor": "white",
             "minorgridcolor": "white",
             "startlinecolor": "#2a3f5f"
            },
            "type": "carpet"
           }
          ],
          "choropleth": [
           {
            "colorbar": {
             "outlinewidth": 0,
             "ticks": ""
            },
            "type": "choropleth"
           }
          ],
          "contour": [
           {
            "colorbar": {
             "outlinewidth": 0,
             "ticks": ""
            },
            "colorscale": [
             [
              0,
              "#0d0887"
             ],
             [
              0.1111111111111111,
              "#46039f"
             ],
             [
              0.2222222222222222,
              "#7201a8"
             ],
             [
              0.3333333333333333,
              "#9c179e"
             ],
             [
              0.4444444444444444,
              "#bd3786"
             ],
             [
              0.5555555555555556,
              "#d8576b"
             ],
             [
              0.6666666666666666,
              "#ed7953"
             ],
             [
              0.7777777777777778,
              "#fb9f3a"
             ],
             [
              0.8888888888888888,
              "#fdca26"
             ],
             [
              1,
              "#f0f921"
             ]
            ],
            "type": "contour"
           }
          ],
          "contourcarpet": [
           {
            "colorbar": {
             "outlinewidth": 0,
             "ticks": ""
            },
            "type": "contourcarpet"
           }
          ],
          "heatmap": [
           {
            "colorbar": {
             "outlinewidth": 0,
             "ticks": ""
            },
            "colorscale": [
             [
              0,
              "#0d0887"
             ],
             [
              0.1111111111111111,
              "#46039f"
             ],
             [
              0.2222222222222222,
              "#7201a8"
             ],
             [
              0.3333333333333333,
              "#9c179e"
             ],
             [
              0.4444444444444444,
              "#bd3786"
             ],
             [
              0.5555555555555556,
              "#d8576b"
             ],
             [
              0.6666666666666666,
              "#ed7953"
             ],
             [
              0.7777777777777778,
              "#fb9f3a"
             ],
             [
              0.8888888888888888,
              "#fdca26"
             ],
             [
              1,
              "#f0f921"
             ]
            ],
            "type": "heatmap"
           }
          ],
          "heatmapgl": [
           {
            "colorbar": {
             "outlinewidth": 0,
             "ticks": ""
            },
            "colorscale": [
             [
              0,
              "#0d0887"
             ],
             [
              0.1111111111111111,
              "#46039f"
             ],
             [
              0.2222222222222222,
              "#7201a8"
             ],
             [
              0.3333333333333333,
              "#9c179e"
             ],
             [
              0.4444444444444444,
              "#bd3786"
             ],
             [
              0.5555555555555556,
              "#d8576b"
             ],
             [
              0.6666666666666666,
              "#ed7953"
             ],
             [
              0.7777777777777778,
              "#fb9f3a"
             ],
             [
              0.8888888888888888,
              "#fdca26"
             ],
             [
              1,
              "#f0f921"
             ]
            ],
            "type": "heatmapgl"
           }
          ],
          "histogram": [
           {
            "marker": {
             "colorbar": {
              "outlinewidth": 0,
              "ticks": ""
             }
            },
            "type": "histogram"
           }
          ],
          "histogram2d": [
           {
            "colorbar": {
             "outlinewidth": 0,
             "ticks": ""
            },
            "colorscale": [
             [
              0,
              "#0d0887"
             ],
             [
              0.1111111111111111,
              "#46039f"
             ],
             [
              0.2222222222222222,
              "#7201a8"
             ],
             [
              0.3333333333333333,
              "#9c179e"
             ],
             [
              0.4444444444444444,
              "#bd3786"
             ],
             [
              0.5555555555555556,
              "#d8576b"
             ],
             [
              0.6666666666666666,
              "#ed7953"
             ],
             [
              0.7777777777777778,
              "#fb9f3a"
             ],
             [
              0.8888888888888888,
              "#fdca26"
             ],
             [
              1,
              "#f0f921"
             ]
            ],
            "type": "histogram2d"
           }
          ],
          "histogram2dcontour": [
           {
            "colorbar": {
             "outlinewidth": 0,
             "ticks": ""
            },
            "colorscale": [
             [
              0,
              "#0d0887"
             ],
             [
              0.1111111111111111,
              "#46039f"
             ],
             [
              0.2222222222222222,
              "#7201a8"
             ],
             [
              0.3333333333333333,
              "#9c179e"
             ],
             [
              0.4444444444444444,
              "#bd3786"
             ],
             [
              0.5555555555555556,
              "#d8576b"
             ],
             [
              0.6666666666666666,
              "#ed7953"
             ],
             [
              0.7777777777777778,
              "#fb9f3a"
             ],
             [
              0.8888888888888888,
              "#fdca26"
             ],
             [
              1,
              "#f0f921"
             ]
            ],
            "type": "histogram2dcontour"
           }
          ],
          "mesh3d": [
           {
            "colorbar": {
             "outlinewidth": 0,
             "ticks": ""
            },
            "type": "mesh3d"
           }
          ],
          "parcoords": [
           {
            "line": {
             "colorbar": {
              "outlinewidth": 0,
              "ticks": ""
             }
            },
            "type": "parcoords"
           }
          ],
          "pie": [
           {
            "automargin": true,
            "type": "pie"
           }
          ],
          "scatter": [
           {
            "marker": {
             "colorbar": {
              "outlinewidth": 0,
              "ticks": ""
             }
            },
            "type": "scatter"
           }
          ],
          "scatter3d": [
           {
            "line": {
             "colorbar": {
              "outlinewidth": 0,
              "ticks": ""
             }
            },
            "marker": {
             "colorbar": {
              "outlinewidth": 0,
              "ticks": ""
             }
            },
            "type": "scatter3d"
           }
          ],
          "scattercarpet": [
           {
            "marker": {
             "colorbar": {
              "outlinewidth": 0,
              "ticks": ""
             }
            },
            "type": "scattercarpet"
           }
          ],
          "scattergeo": [
           {
            "marker": {
             "colorbar": {
              "outlinewidth": 0,
              "ticks": ""
             }
            },
            "type": "scattergeo"
           }
          ],
          "scattergl": [
           {
            "marker": {
             "colorbar": {
              "outlinewidth": 0,
              "ticks": ""
             }
            },
            "type": "scattergl"
           }
          ],
          "scattermapbox": [
           {
            "marker": {
             "colorbar": {
              "outlinewidth": 0,
              "ticks": ""
             }
            },
            "type": "scattermapbox"
           }
          ],
          "scatterpolar": [
           {
            "marker": {
             "colorbar": {
              "outlinewidth": 0,
              "ticks": ""
             }
            },
            "type": "scatterpolar"
           }
          ],
          "scatterpolargl": [
           {
            "marker": {
             "colorbar": {
              "outlinewidth": 0,
              "ticks": ""
             }
            },
            "type": "scatterpolargl"
           }
          ],
          "scatterternary": [
           {
            "marker": {
             "colorbar": {
              "outlinewidth": 0,
              "ticks": ""
             }
            },
            "type": "scatterternary"
           }
          ],
          "surface": [
           {
            "colorbar": {
             "outlinewidth": 0,
             "ticks": ""
            },
            "colorscale": [
             [
              0,
              "#0d0887"
             ],
             [
              0.1111111111111111,
              "#46039f"
             ],
             [
              0.2222222222222222,
              "#7201a8"
             ],
             [
              0.3333333333333333,
              "#9c179e"
             ],
             [
              0.4444444444444444,
              "#bd3786"
             ],
             [
              0.5555555555555556,
              "#d8576b"
             ],
             [
              0.6666666666666666,
              "#ed7953"
             ],
             [
              0.7777777777777778,
              "#fb9f3a"
             ],
             [
              0.8888888888888888,
              "#fdca26"
             ],
             [
              1,
              "#f0f921"
             ]
            ],
            "type": "surface"
           }
          ],
          "table": [
           {
            "cells": {
             "fill": {
              "color": "#EBF0F8"
             },
             "line": {
              "color": "white"
             }
            },
            "header": {
             "fill": {
              "color": "#C8D4E3"
             },
             "line": {
              "color": "white"
             }
            },
            "type": "table"
           }
          ]
         },
         "layout": {
          "annotationdefaults": {
           "arrowcolor": "#2a3f5f",
           "arrowhead": 0,
           "arrowwidth": 1
          },
          "autotypenumbers": "strict",
          "coloraxis": {
           "colorbar": {
            "outlinewidth": 0,
            "ticks": ""
           }
          },
          "colorscale": {
           "diverging": [
            [
             0,
             "#8e0152"
            ],
            [
             0.1,
             "#c51b7d"
            ],
            [
             0.2,
             "#de77ae"
            ],
            [
             0.3,
             "#f1b6da"
            ],
            [
             0.4,
             "#fde0ef"
            ],
            [
             0.5,
             "#f7f7f7"
            ],
            [
             0.6,
             "#e6f5d0"
            ],
            [
             0.7,
             "#b8e186"
            ],
            [
             0.8,
             "#7fbc41"
            ],
            [
             0.9,
             "#4d9221"
            ],
            [
             1,
             "#276419"
            ]
           ],
           "sequential": [
            [
             0,
             "#0d0887"
            ],
            [
             0.1111111111111111,
             "#46039f"
            ],
            [
             0.2222222222222222,
             "#7201a8"
            ],
            [
             0.3333333333333333,
             "#9c179e"
            ],
            [
             0.4444444444444444,
             "#bd3786"
            ],
            [
             0.5555555555555556,
             "#d8576b"
            ],
            [
             0.6666666666666666,
             "#ed7953"
            ],
            [
             0.7777777777777778,
             "#fb9f3a"
            ],
            [
             0.8888888888888888,
             "#fdca26"
            ],
            [
             1,
             "#f0f921"
            ]
           ],
           "sequentialminus": [
            [
             0,
             "#0d0887"
            ],
            [
             0.1111111111111111,
             "#46039f"
            ],
            [
             0.2222222222222222,
             "#7201a8"
            ],
            [
             0.3333333333333333,
             "#9c179e"
            ],
            [
             0.4444444444444444,
             "#bd3786"
            ],
            [
             0.5555555555555556,
             "#d8576b"
            ],
            [
             0.6666666666666666,
             "#ed7953"
            ],
            [
             0.7777777777777778,
             "#fb9f3a"
            ],
            [
             0.8888888888888888,
             "#fdca26"
            ],
            [
             1,
             "#f0f921"
            ]
           ]
          },
          "colorway": [
           "#636efa",
           "#EF553B",
           "#00cc96",
           "#ab63fa",
           "#FFA15A",
           "#19d3f3",
           "#FF6692",
           "#B6E880",
           "#FF97FF",
           "#FECB52"
          ],
          "font": {
           "color": "#2a3f5f"
          },
          "geo": {
           "bgcolor": "white",
           "lakecolor": "white",
           "landcolor": "#E5ECF6",
           "showlakes": true,
           "showland": true,
           "subunitcolor": "white"
          },
          "hoverlabel": {
           "align": "left"
          },
          "hovermode": "closest",
          "mapbox": {
           "style": "light"
          },
          "paper_bgcolor": "white",
          "plot_bgcolor": "#E5ECF6",
          "polar": {
           "angularaxis": {
            "gridcolor": "white",
            "linecolor": "white",
            "ticks": ""
           },
           "bgcolor": "#E5ECF6",
           "radialaxis": {
            "gridcolor": "white",
            "linecolor": "white",
            "ticks": ""
           }
          },
          "scene": {
           "xaxis": {
            "backgroundcolor": "#E5ECF6",
            "gridcolor": "white",
            "gridwidth": 2,
            "linecolor": "white",
            "showbackground": true,
            "ticks": "",
            "zerolinecolor": "white"
           },
           "yaxis": {
            "backgroundcolor": "#E5ECF6",
            "gridcolor": "white",
            "gridwidth": 2,
            "linecolor": "white",
            "showbackground": true,
            "ticks": "",
            "zerolinecolor": "white"
           },
           "zaxis": {
            "backgroundcolor": "#E5ECF6",
            "gridcolor": "white",
            "gridwidth": 2,
            "linecolor": "white",
            "showbackground": true,
            "ticks": "",
            "zerolinecolor": "white"
           }
          },
          "shapedefaults": {
           "line": {
            "color": "#2a3f5f"
           }
          },
          "ternary": {
           "aaxis": {
            "gridcolor": "white",
            "linecolor": "white",
            "ticks": ""
           },
           "baxis": {
            "gridcolor": "white",
            "linecolor": "white",
            "ticks": ""
           },
           "bgcolor": "#E5ECF6",
           "caxis": {
            "gridcolor": "white",
            "linecolor": "white",
            "ticks": ""
           }
          },
          "title": {
           "x": 0.05
          },
          "xaxis": {
           "automargin": true,
           "gridcolor": "white",
           "linecolor": "white",
           "ticks": "",
           "title": {
            "standoff": 15
           },
           "zerolinecolor": "white",
           "zerolinewidth": 2
          },
          "yaxis": {
           "automargin": true,
           "gridcolor": "white",
           "linecolor": "white",
           "ticks": "",
           "title": {
            "standoff": 15
           },
           "zerolinecolor": "white",
           "zerolinewidth": 2
          }
         }
        },
        "title": {
         "text": "Digit 0 - Persistence Diagram file 10_pd.vtk"
        },
        "width": 400,
        "xaxis": {
         "anchor": "y",
         "constrain": "domain",
         "domain": [
          0,
          1
         ],
         "scaleanchor": "y",
         "showticklabels": false
        },
        "yaxis": {
         "anchor": "x",
         "autorange": "reversed",
         "constrain": "domain",
         "domain": [
          0,
          1
         ],
         "showticklabels": false
        }
       }
      },
      "text/html": [
       "<div>                            <div id=\"2a39f74d-03ed-4788-b4d4-92f96b586601\" class=\"plotly-graph-div\" style=\"height:400px; width:400px;\"></div>            <script type=\"text/javascript\">                require([\"plotly\"], function(Plotly) {                    window.PLOTLYENV=window.PLOTLYENV || {};                                    if (document.getElementById(\"2a39f74d-03ed-4788-b4d4-92f96b586601\")) {                    Plotly.newPlot(                        \"2a39f74d-03ed-4788-b4d4-92f96b586601\",                        [{\"coloraxis\": \"coloraxis\", \"hovertemplate\": \"x: %{x}<br>y: %{y}<br>color: %{z}<extra></extra>\", \"name\": \"0\", \"type\": \"heatmap\", \"xaxis\": \"x\", \"yaxis\": \"y\", \"z\": [[1.0, 0.9312424381130526, 0.8648782584822717, 0.8016724915026554, 0.7426875193901581, 0.6893871950352907, 0.6437291894579398, 0.6081564296056121, 0.5774211849888983, 0.5352988772210696, 0.507447078838931, 0.4976235398058566, 0.4976235398058566, 0.4976235398058566, 0.4976235398058566, 0.4976235398058566, 0.4976235398058566, 0.4976235398058566, 0.4976235398058566, 0.507447078838931, 0.5352988772210696, 0.5774211849888983, 0.6081564296056121, 0.6437291894579398, 0.6893871950352907, 0.7426875193901581, 0.8016724915026554, 0.8555384314534515], [0.9643486193996472, 0.8921647953684493, 0.8217821422466461, 0.7538619618111675, 0.6893871950352907, 0.6298366073268644, 0.5774211849888983, 0.5352988772210696, 0.507447078838931, 0.4661474604424287, 0.4307752697700655, 0.41782589462281494, 0.41782589462281494, 0.41782589462281494, 0.41782589462281494, 0.41782589462281494, 0.41782589462281494, 0.41782589462281494, 0.41782589462281494, 0.4307752697700655, 0.4661474604424287, 0.507447078838931, 0.5352988772210696, 0.5774211849888983, 0.6298366073268644, 0.6893871950352907, 0.7426875193901581, 0.8016724915026554], [0.9312424381130526, 0.8602243383851174, 0.7861537191699695, 0.7137318362947594, 0.6437291894579398, 0.5774211849888983, 0.5169856952635707, 0.4661474604424287, 0.4307752697700655, 0.4041347832002771, 0.3568659181473797, 0.3380282494397732, 0.3380282494397732, 0.3380282494397732, 0.3380282494397732, 0.3380282494397732, 0.3380282494397732, 0.3380282494397732, 0.3380282494397732, 0.3568659181473797, 0.4041347832002771, 0.4307752697700655, 0.4661474604424287, 0.5169856952635707, 0.5774211849888983, 0.6298366073268644, 0.6893871950352907, 0.7426875193901581], [0.8921647953684493, 0.8217821422466461, 0.7538619618111675, 0.6831175804664412, 0.6081564296056121, 0.5352988772210696, 0.4661474604424287, 0.4041347832002771, 0.3568659181473797, 0.3380282494397732, 0.2912838711369835, 0.25823060425673156, 0.25823060425673156, 0.25823060425673156, 0.25823060425673156, 0.25823060425673156, 0.25823060425673156, 0.25823060425673156, 0.25823060425673156, 0.2912838711369835, 0.3380282494397732, 0.3568659181473797, 0.4041347832002771, 0.4661474604424287, 0.5169856952635707, 0.5774211849888983, 0.6298366073268644, 0.6893871950352907], [0.8602243383851174, 0.7861537191699695, 0.7137318362947594, 0.6437291894579398, 0.5774211849888983, 0.507447078838931, 0.4307752697700655, 0.3568659181473797, 0.2912838711369835, 0.25823060425673156, 0.25823060425673156, 0.09863531389064818, 0.09863531389064818, 0.09863531389064818, 0.09863531389064818, 0.09863531389064818, 0.09863531389064818, 0.09863531389064818, 0.09863531389064818, 0.25823060425673156, 0.25823060425673156, 0.2912838711369835, 0.3568659181473797, 0.4041347832002771, 0.4661474604424287, 0.5169856952635707, 0.5774211849888983, 0.6437291894579398], [0.8364611986041722, 0.7593685849120495, 0.6831175804664412, 0.6081564296056121, 0.5352988772210696, 0.4661474604424287, 0.4041347832002771, 0.3380282494397732, 0.25823060425673156, 0.09863531389064818, 0.09863531389064818, 0.06558204701039623, 0.018837668707606496, 0.018837668707606496, 0.018837668707606496, 0.018837668707606496, 0.018837668707606496, 0.018837668707606496, 0.06558204701039623, 0.09863531389064818, 0.09863531389064818, 0.25823060425673156, 0.2912838711369835, 0.3568659181473797, 0.4041347832002771, 0.4661474604424287, 0.5352988772210696, 0.6081564296056121], [0.8217821422466461, 0.7426875193901581, 0.6638230851991279, 0.5853227090007727, 0.507447078838931, 0.4307752697700655, 0.3568659181473797, 0.2912838711369835, 0.25823060425673156, 0.09863531389064818, 0.018837668707606496, 0.0, 0.018837668707606496, 0.018837668707606496, 0.06558204701039623, 0.09863531389064818, 0.09863531389064818, 0.06558204701039623, 0.018837668707606496, 0.018837668707606496, 0.06558204701039623, 0.09863531389064818, 0.25823060425673156, 0.2912838711369835, 0.3568659181473797, 0.4307752697700655, 0.507447078838931, 0.5853227090007727], [0.8168141205380234, 0.7370164753549817, 0.6572188301719399, 0.5774211849888983, 0.4976235398058566, 0.41782589462281494, 0.3380282494397732, 0.25823060425673156, 0.09863531389064818, 0.06558204701039623, 0.0, 0.06558204701039623, 0.09863531389064818, 0.09863531389064818, 0.09863531389064818, 0.25823060425673156, 0.25823060425673156, 0.09863531389064818, 0.09863531389064818, 0.06558204701039623, 0.0, 0.06558204701039623, 0.09863531389064818, 0.25823060425673156, 0.3380282494397732, 0.41782589462281494, 0.4976235398058566, 0.5774211849888983], [0.7861537191699695, 0.7137318362947594, 0.6437291894579398, 0.5774211849888983, 0.4976235398058566, 0.41782589462281494, 0.3380282494397732, 0.25823060425673156, 0.09863531389064818, 0.018837668707606496, 0.06558204701039623, 0.09863531389064818, 0.25823060425673156, 0.25823060425673156, 0.25823060425673156, 0.2912838711369835, 0.2912838711369835, 0.25823060425673156, 0.25823060425673156, 0.09863531389064818, 0.06558204701039623, 0.018837668707606496, 0.09863531389064818, 0.25823060425673156, 0.3380282494397732, 0.41782589462281494, 0.4976235398058566, 0.5774211849888983], [0.7593685849120495, 0.6831175804664412, 0.6081564296056121, 0.5352988772210696, 0.4661474604424287, 0.4041347832002771, 0.3380282494397732, 0.25823060425673156, 0.09863531389064818, 0.018837668707606496, 0.09863531389064818, 0.25823060425673156, 0.2912838711369835, 0.3380282494397732, 0.3380282494397732, 0.3568659181473797, 0.3568659181473797, 0.3380282494397732, 0.2912838711369835, 0.25823060425673156, 0.09863531389064818, 0.018837668707606496, 0.09863531389064818, 0.25823060425673156, 0.3380282494397732, 0.41782589462281494, 0.4976235398058566, 0.5774211849888983], [0.7426875193901581, 0.6638230851991279, 0.5853227090007727, 0.507447078838931, 0.4307752697700655, 0.3568659181473797, 0.2912838711369835, 0.25823060425673156, 0.09863531389064818, 0.018837668707606496, 0.09863531389064818, 0.25823060425673156, 0.3380282494397732, 0.4041347832002771, 0.41782589462281494, 0.4307752697700655, 0.4307752697700655, 0.4041347832002771, 0.3380282494397732, 0.25823060425673156, 0.09863531389064818, 0.018837668707606496, 0.09863531389064818, 0.25823060425673156, 0.3380282494397732, 0.41782589462281494, 0.4976235398058566, 0.5774211849888983], [0.7370164753549817, 0.6572188301719399, 0.5774211849888983, 0.4976235398058566, 0.41782589462281494, 0.3380282494397732, 0.25823060425673156, 0.09863531389064818, 0.06558204701039623, 0.06558204701039623, 0.09863531389064818, 0.25823060425673156, 0.3380282494397732, 0.41782589462281494, 0.4976235398058566, 0.507447078838931, 0.4976235398058566, 0.41782589462281494, 0.3380282494397732, 0.25823060425673156, 0.09863531389064818, 0.018837668707606496, 0.09863531389064818, 0.25823060425673156, 0.3380282494397732, 0.41782589462281494, 0.4976235398058566, 0.5774211849888983], [0.7137318362947594, 0.6437291894579398, 0.5774211849888983, 0.4976235398058566, 0.41782589462281494, 0.3380282494397732, 0.25823060425673156, 0.09863531389064818, 0.018837668707606496, 0.09863531389064818, 0.25823060425673156, 0.2912838711369835, 0.3568659181473797, 0.4307752697700655, 0.507447078838931, 0.5774211849888983, 0.4976235398058566, 0.41782589462281494, 0.3380282494397732, 0.25823060425673156, 0.09863531389064818, 0.018837668707606496, 0.09863531389064818, 0.25823060425673156, 0.3380282494397732, 0.41782589462281494, 0.4976235398058566, 0.5774211849888983], [0.6831175804664412, 0.6081564296056121, 0.5352988772210696, 0.4661474604424287, 0.4041347832002771, 0.3380282494397732, 0.25823060425673156, 0.09863531389064818, 0.06558204701039623, 0.09863531389064818, 0.25823060425673156, 0.3380282494397732, 0.4041347832002771, 0.4661474604424287, 0.5352988772210696, 0.5774211849888983, 0.4976235398058566, 0.41782589462281494, 0.3380282494397732, 0.25823060425673156, 0.09863531389064818, 0.018837668707606496, 0.09863531389064818, 0.25823060425673156, 0.3380282494397732, 0.41782589462281494, 0.4976235398058566, 0.5774211849888983], [0.6638230851991279, 0.5853227090007727, 0.507447078838931, 0.4307752697700655, 0.3568659181473797, 0.2912838711369835, 0.25823060425673156, 0.09863531389064818, 0.09863531389064818, 0.25823060425673156, 0.2912838711369835, 0.3568659181473797, 0.4307752697700655, 0.507447078838931, 0.5774211849888983, 0.5774211849888983, 0.4976235398058566, 0.41782589462281494, 0.3380282494397732, 0.25823060425673156, 0.09863531389064818, 0.018837668707606496, 0.09863531389064818, 0.25823060425673156, 0.3380282494397732, 0.41782589462281494, 0.4976235398058566, 0.5774211849888983], [0.6572188301719399, 0.5774211849888983, 0.4976235398058566, 0.41782589462281494, 0.3380282494397732, 0.25823060425673156, 0.09863531389064818, 0.06558204701039623, 0.09863531389064818, 0.25823060425673156, 0.3380282494397732, 0.4041347832002771, 0.4661474604424287, 0.5352988772210696, 0.5774211849888983, 0.5169856952635707, 0.4661474604424287, 0.4041347832002771, 0.3380282494397732, 0.25823060425673156, 0.09863531389064818, 0.018837668707606496, 0.09863531389064818, 0.25823060425673156, 0.3380282494397732, 0.41782589462281494, 0.4976235398058566, 0.5774211849888983], [0.6572188301719399, 0.5774211849888983, 0.4976235398058566, 0.41782589462281494, 0.3380282494397732, 0.25823060425673156, 0.09863531389064818, 0.018837668707606496, 0.09863531389064818, 0.25823060425673156, 0.3380282494397732, 0.41782589462281494, 0.4976235398058566, 0.5352988772210696, 0.507447078838931, 0.4661474604424287, 0.4041347832002771, 0.3568659181473797, 0.2912838711369835, 0.25823060425673156, 0.09863531389064818, 0.018837668707606496, 0.09863531389064818, 0.25823060425673156, 0.3380282494397732, 0.41782589462281494, 0.4976235398058566, 0.5774211849888983], [0.6572188301719399, 0.5774211849888983, 0.4976235398058566, 0.41782589462281494, 0.3380282494397732, 0.25823060425673156, 0.09863531389064818, 0.018837668707606496, 0.09863531389064818, 0.25823060425673156, 0.3380282494397732, 0.41782589462281494, 0.4976235398058566, 0.4661474604424287, 0.4307752697700655, 0.4041347832002771, 0.3568659181473797, 0.2912838711369835, 0.25823060425673156, 0.09863531389064818, 0.06558204701039623, 0.018837668707606496, 0.09863531389064818, 0.25823060425673156, 0.3380282494397732, 0.41782589462281494, 0.4976235398058566, 0.5774211849888983], [0.6572188301719399, 0.5774211849888983, 0.4976235398058566, 0.41782589462281494, 0.3380282494397732, 0.25823060425673156, 0.09863531389064818, 0.018837668707606496, 0.09863531389064818, 0.25823060425673156, 0.3380282494397732, 0.4041347832002771, 0.41782589462281494, 0.4041347832002771, 0.3568659181473797, 0.3380282494397732, 0.2912838711369835, 0.25823060425673156, 0.09863531389064818, 0.06558204701039623, 0.0, 0.06558204701039623, 0.09863531389064818, 0.25823060425673156, 0.3380282494397732, 0.41782589462281494, 0.4976235398058566, 0.5774211849888983], [0.6572188301719399, 0.5774211849888983, 0.4976235398058566, 0.41782589462281494, 0.3380282494397732, 0.25823060425673156, 0.09863531389064818, 0.06558204701039623, 0.09863531389064818, 0.25823060425673156, 0.2912838711369835, 0.3380282494397732, 0.3380282494397732, 0.3380282494397732, 0.2912838711369835, 0.25823060425673156, 0.25823060425673156, 0.09863531389064818, 0.06558204701039623, 0.0, 0.06558204701039623, 0.09863531389064818, 0.25823060425673156, 0.2912838711369835, 0.3568659181473797, 0.4307752697700655, 0.507447078838931, 0.5853227090007727], [0.6638230851991279, 0.5853227090007727, 0.507447078838931, 0.4307752697700655, 0.3568659181473797, 0.2912838711369835, 0.25823060425673156, 0.09863531389064818, 0.06558204701039623, 0.09863531389064818, 0.25823060425673156, 0.25823060425673156, 0.25823060425673156, 0.25823060425673156, 0.25823060425673156, 0.09863531389064818, 0.09863531389064818, 0.06558204701039623, 0.0, 0.018837668707606496, 0.09863531389064818, 0.25823060425673156, 0.2912838711369835, 0.3568659181473797, 0.4041347832002771, 0.4661474604424287, 0.5352988772210696, 0.6081564296056121], [0.6831175804664412, 0.6081564296056121, 0.5352988772210696, 0.4661474604424287, 0.4041347832002771, 0.3380282494397732, 0.25823060425673156, 0.09863531389064818, 0.018837668707606496, 0.06558204701039623, 0.09863531389064818, 0.09863531389064818, 0.09863531389064818, 0.09863531389064818, 0.09863531389064818, 0.06558204701039623, 0.018837668707606496, 0.018837668707606496, 0.06558204701039623, 0.09863531389064818, 0.09863531389064818, 0.25823060425673156, 0.3380282494397732, 0.4041347832002771, 0.4661474604424287, 0.5169856952635707, 0.5774211849888983, 0.6437291894579398], [0.7137318362947594, 0.6437291894579398, 0.5774211849888983, 0.4976235398058566, 0.41782589462281494, 0.3380282494397732, 0.25823060425673156, 0.09863531389064818, 0.06558204701039623, 0.018837668707606496, 0.018837668707606496, 0.018837668707606496, 0.018837668707606496, 0.018837668707606496, 0.018837668707606496, 0.018837668707606496, 0.06558204701039623, 0.09863531389064818, 0.09863531389064818, 0.25823060425673156, 0.25823060425673156, 0.2912838711369835, 0.3568659181473797, 0.4307752697700655, 0.507447078838931, 0.5774211849888983, 0.6298366073268644, 0.6893871950352907], [0.7426875193901581, 0.6638230851991279, 0.5853227090007727, 0.507447078838931, 0.4307752697700655, 0.3568659181473797, 0.2912838711369835, 0.25823060425673156, 0.09863531389064818, 0.09863531389064818, 0.09863531389064818, 0.09863531389064818, 0.09863531389064818, 0.09863531389064818, 0.09863531389064818, 0.09863531389064818, 0.09863531389064818, 0.25823060425673156, 0.25823060425673156, 0.2912838711369835, 0.3380282494397732, 0.3568659181473797, 0.4041347832002771, 0.4661474604424287, 0.5352988772210696, 0.6081564296056121, 0.6831175804664412, 0.7426875193901581], [0.7593685849120495, 0.6831175804664412, 0.6081564296056121, 0.5352988772210696, 0.4661474604424287, 0.4041347832002771, 0.3568659181473797, 0.2912838711369835, 0.25823060425673156, 0.25823060425673156, 0.25823060425673156, 0.25823060425673156, 0.25823060425673156, 0.25823060425673156, 0.25823060425673156, 0.25823060425673156, 0.25823060425673156, 0.2912838711369835, 0.3380282494397732, 0.3568659181473797, 0.4041347832002771, 0.4307752697700655, 0.4661474604424287, 0.5169856952635707, 0.5774211849888983, 0.6437291894579398, 0.7137318362947594, 0.7861537191699695], [0.7861537191699695, 0.7137318362947594, 0.6437291894579398, 0.5774211849888983, 0.5169856952635707, 0.4661474604424287, 0.4041347832002771, 0.3568659181473797, 0.3380282494397732, 0.3380282494397732, 0.3380282494397732, 0.3380282494397732, 0.3380282494397732, 0.3380282494397732, 0.3380282494397732, 0.3380282494397732, 0.3380282494397732, 0.3568659181473797, 0.4041347832002771, 0.4307752697700655, 0.4661474604424287, 0.507447078838931, 0.5352988772210696, 0.5774211849888983, 0.6298366073268644, 0.6893871950352907, 0.7538619618111675, 0.8217821422466461], [0.8217821422466461, 0.7538619618111675, 0.6893871950352907, 0.6298366073268644, 0.5774211849888983, 0.5169856952635707, 0.4661474604424287, 0.4307752697700655, 0.41782589462281494, 0.41782589462281494, 0.41782589462281494, 0.41782589462281494, 0.41782589462281494, 0.41782589462281494, 0.41782589462281494, 0.41782589462281494, 0.41782589462281494, 0.4307752697700655, 0.4661474604424287, 0.507447078838931, 0.5352988772210696, 0.5774211849888983, 0.6081564296056121, 0.6437291894579398, 0.6893871950352907, 0.7426875193901581, 0.8016724915026554, 0.8648782584822717], [0.8648782584822717, 0.8016724915026554, 0.7426875193901581, 0.6893871950352907, 0.6298366073268644, 0.5774211849888983, 0.5352988772210696, 0.507447078838931, 0.4976235398058566, 0.4976235398058566, 0.4976235398058566, 0.4976235398058566, 0.4976235398058566, 0.4976235398058566, 0.4976235398058566, 0.4976235398058566, 0.4976235398058566, 0.507447078838931, 0.5352988772210696, 0.5774211849888983, 0.6081564296056121, 0.6437291894579398, 0.6831175804664412, 0.7137318362947594, 0.7538619618111675, 0.8016724915026554, 0.8555384314534515, 0.9141308964260263]]}, {\"hoverinfo\": \"text\", \"mode\": \"markers\", \"text\": [0.0797976451830417, 0.046744378302789734, 0.046744378302789734, 0.0, 0.0, 0.046744378302789734, 0.06558204701039623, 0.06558204701039623, 0.0, 0.4787858710982501, 0.0], \"type\": \"scatter\", \"x\": [7.0, 8.0, 8.0, 9.0, 9.0, 18.0, 18.0, 20.0, 21.0, 7.5, 7.5], \"y\": [16.0, 12.0, 21.0, 5.0, 22.0, 6.0, 20.0, 7.0, 8.0, 20.0, 13.5]}],                        {\"coloraxis\": {\"colorscale\": [[0.0, \"rgb(0, 0, 0)\"], [0.09090909090909091, \"rgb(16, 16, 16)\"], [0.18181818181818182, \"rgb(38, 38, 38)\"], [0.2727272727272727, \"rgb(59, 59, 59)\"], [0.36363636363636365, \"rgb(81, 80, 80)\"], [0.45454545454545453, \"rgb(102, 101, 101)\"], [0.5454545454545454, \"rgb(124, 123, 122)\"], [0.6363636363636364, \"rgb(146, 146, 145)\"], [0.7272727272727273, \"rgb(171, 171, 170)\"], [0.8181818181818182, \"rgb(197, 197, 195)\"], [0.9090909090909091, \"rgb(224, 224, 223)\"], [1.0, \"rgb(254, 254, 253)\"]], \"showscale\": false}, \"height\": 400, \"margin\": {\"t\": 60}, \"template\": {\"data\": {\"bar\": [{\"error_x\": {\"color\": \"#2a3f5f\"}, \"error_y\": {\"color\": \"#2a3f5f\"}, \"marker\": {\"line\": {\"color\": \"#E5ECF6\", \"width\": 0.5}}, \"type\": \"bar\"}], \"barpolar\": [{\"marker\": {\"line\": {\"color\": \"#E5ECF6\", \"width\": 0.5}}, \"type\": \"barpolar\"}], \"carpet\": [{\"aaxis\": {\"endlinecolor\": \"#2a3f5f\", \"gridcolor\": \"white\", \"linecolor\": \"white\", \"minorgridcolor\": \"white\", \"startlinecolor\": \"#2a3f5f\"}, \"baxis\": {\"endlinecolor\": \"#2a3f5f\", \"gridcolor\": \"white\", \"linecolor\": \"white\", \"minorgridcolor\": \"white\", \"startlinecolor\": \"#2a3f5f\"}, \"type\": \"carpet\"}], \"choropleth\": [{\"colorbar\": {\"outlinewidth\": 0, \"ticks\": \"\"}, \"type\": \"choropleth\"}], \"contour\": [{\"colorbar\": {\"outlinewidth\": 0, \"ticks\": \"\"}, \"colorscale\": [[0.0, \"#0d0887\"], [0.1111111111111111, \"#46039f\"], [0.2222222222222222, \"#7201a8\"], [0.3333333333333333, \"#9c179e\"], [0.4444444444444444, \"#bd3786\"], [0.5555555555555556, \"#d8576b\"], [0.6666666666666666, \"#ed7953\"], [0.7777777777777778, \"#fb9f3a\"], [0.8888888888888888, \"#fdca26\"], [1.0, \"#f0f921\"]], \"type\": \"contour\"}], \"contourcarpet\": [{\"colorbar\": {\"outlinewidth\": 0, \"ticks\": \"\"}, \"type\": \"contourcarpet\"}], \"heatmap\": [{\"colorbar\": {\"outlinewidth\": 0, \"ticks\": \"\"}, \"colorscale\": [[0.0, \"#0d0887\"], [0.1111111111111111, \"#46039f\"], [0.2222222222222222, \"#7201a8\"], [0.3333333333333333, \"#9c179e\"], [0.4444444444444444, \"#bd3786\"], [0.5555555555555556, \"#d8576b\"], [0.6666666666666666, \"#ed7953\"], [0.7777777777777778, \"#fb9f3a\"], [0.8888888888888888, \"#fdca26\"], [1.0, \"#f0f921\"]], \"type\": \"heatmap\"}], \"heatmapgl\": [{\"colorbar\": {\"outlinewidth\": 0, \"ticks\": \"\"}, \"colorscale\": [[0.0, \"#0d0887\"], [0.1111111111111111, \"#46039f\"], [0.2222222222222222, \"#7201a8\"], [0.3333333333333333, \"#9c179e\"], [0.4444444444444444, \"#bd3786\"], [0.5555555555555556, \"#d8576b\"], [0.6666666666666666, \"#ed7953\"], [0.7777777777777778, \"#fb9f3a\"], [0.8888888888888888, \"#fdca26\"], [1.0, \"#f0f921\"]], \"type\": \"heatmapgl\"}], \"histogram\": [{\"marker\": {\"colorbar\": {\"outlinewidth\": 0, \"ticks\": \"\"}}, \"type\": \"histogram\"}], \"histogram2d\": [{\"colorbar\": {\"outlinewidth\": 0, \"ticks\": \"\"}, \"colorscale\": [[0.0, \"#0d0887\"], [0.1111111111111111, \"#46039f\"], [0.2222222222222222, \"#7201a8\"], [0.3333333333333333, \"#9c179e\"], [0.4444444444444444, \"#bd3786\"], [0.5555555555555556, \"#d8576b\"], [0.6666666666666666, \"#ed7953\"], [0.7777777777777778, \"#fb9f3a\"], [0.8888888888888888, \"#fdca26\"], [1.0, \"#f0f921\"]], \"type\": \"histogram2d\"}], \"histogram2dcontour\": [{\"colorbar\": {\"outlinewidth\": 0, \"ticks\": \"\"}, \"colorscale\": [[0.0, \"#0d0887\"], [0.1111111111111111, \"#46039f\"], [0.2222222222222222, \"#7201a8\"], [0.3333333333333333, \"#9c179e\"], [0.4444444444444444, \"#bd3786\"], [0.5555555555555556, \"#d8576b\"], [0.6666666666666666, \"#ed7953\"], [0.7777777777777778, \"#fb9f3a\"], [0.8888888888888888, \"#fdca26\"], [1.0, \"#f0f921\"]], \"type\": \"histogram2dcontour\"}], \"mesh3d\": [{\"colorbar\": {\"outlinewidth\": 0, \"ticks\": \"\"}, \"type\": \"mesh3d\"}], \"parcoords\": [{\"line\": {\"colorbar\": {\"outlinewidth\": 0, \"ticks\": \"\"}}, \"type\": \"parcoords\"}], \"pie\": [{\"automargin\": true, \"type\": \"pie\"}], \"scatter\": [{\"marker\": {\"colorbar\": {\"outlinewidth\": 0, \"ticks\": \"\"}}, \"type\": \"scatter\"}], \"scatter3d\": [{\"line\": {\"colorbar\": {\"outlinewidth\": 0, \"ticks\": \"\"}}, \"marker\": {\"colorbar\": {\"outlinewidth\": 0, \"ticks\": \"\"}}, \"type\": \"scatter3d\"}], \"scattercarpet\": [{\"marker\": {\"colorbar\": {\"outlinewidth\": 0, \"ticks\": \"\"}}, \"type\": \"scattercarpet\"}], \"scattergeo\": [{\"marker\": {\"colorbar\": {\"outlinewidth\": 0, \"ticks\": \"\"}}, \"type\": \"scattergeo\"}], \"scattergl\": [{\"marker\": {\"colorbar\": {\"outlinewidth\": 0, \"ticks\": \"\"}}, \"type\": \"scattergl\"}], \"scattermapbox\": [{\"marker\": {\"colorbar\": {\"outlinewidth\": 0, \"ticks\": \"\"}}, \"type\": \"scattermapbox\"}], \"scatterpolar\": [{\"marker\": {\"colorbar\": {\"outlinewidth\": 0, \"ticks\": \"\"}}, \"type\": \"scatterpolar\"}], \"scatterpolargl\": [{\"marker\": {\"colorbar\": {\"outlinewidth\": 0, \"ticks\": \"\"}}, \"type\": \"scatterpolargl\"}], \"scatterternary\": [{\"marker\": {\"colorbar\": {\"outlinewidth\": 0, \"ticks\": \"\"}}, \"type\": \"scatterternary\"}], \"surface\": [{\"colorbar\": {\"outlinewidth\": 0, \"ticks\": \"\"}, \"colorscale\": [[0.0, \"#0d0887\"], [0.1111111111111111, \"#46039f\"], [0.2222222222222222, \"#7201a8\"], [0.3333333333333333, \"#9c179e\"], [0.4444444444444444, \"#bd3786\"], [0.5555555555555556, \"#d8576b\"], [0.6666666666666666, \"#ed7953\"], [0.7777777777777778, \"#fb9f3a\"], [0.8888888888888888, \"#fdca26\"], [1.0, \"#f0f921\"]], \"type\": \"surface\"}], \"table\": [{\"cells\": {\"fill\": {\"color\": \"#EBF0F8\"}, \"line\": {\"color\": \"white\"}}, \"header\": {\"fill\": {\"color\": \"#C8D4E3\"}, \"line\": {\"color\": \"white\"}}, \"type\": \"table\"}]}, \"layout\": {\"annotationdefaults\": {\"arrowcolor\": \"#2a3f5f\", \"arrowhead\": 0, \"arrowwidth\": 1}, \"autotypenumbers\": \"strict\", \"coloraxis\": {\"colorbar\": {\"outlinewidth\": 0, \"ticks\": \"\"}}, \"colorscale\": {\"diverging\": [[0, \"#8e0152\"], [0.1, \"#c51b7d\"], [0.2, \"#de77ae\"], [0.3, \"#f1b6da\"], [0.4, \"#fde0ef\"], [0.5, \"#f7f7f7\"], [0.6, \"#e6f5d0\"], [0.7, \"#b8e186\"], [0.8, \"#7fbc41\"], [0.9, \"#4d9221\"], [1, \"#276419\"]], \"sequential\": [[0.0, \"#0d0887\"], [0.1111111111111111, \"#46039f\"], [0.2222222222222222, \"#7201a8\"], [0.3333333333333333, \"#9c179e\"], [0.4444444444444444, \"#bd3786\"], [0.5555555555555556, \"#d8576b\"], [0.6666666666666666, \"#ed7953\"], [0.7777777777777778, \"#fb9f3a\"], [0.8888888888888888, \"#fdca26\"], [1.0, \"#f0f921\"]], \"sequentialminus\": [[0.0, \"#0d0887\"], [0.1111111111111111, \"#46039f\"], [0.2222222222222222, \"#7201a8\"], [0.3333333333333333, \"#9c179e\"], [0.4444444444444444, \"#bd3786\"], [0.5555555555555556, \"#d8576b\"], [0.6666666666666666, \"#ed7953\"], [0.7777777777777778, \"#fb9f3a\"], [0.8888888888888888, \"#fdca26\"], [1.0, \"#f0f921\"]]}, \"colorway\": [\"#636efa\", \"#EF553B\", \"#00cc96\", \"#ab63fa\", \"#FFA15A\", \"#19d3f3\", \"#FF6692\", \"#B6E880\", \"#FF97FF\", \"#FECB52\"], \"font\": {\"color\": \"#2a3f5f\"}, \"geo\": {\"bgcolor\": \"white\", \"lakecolor\": \"white\", \"landcolor\": \"#E5ECF6\", \"showlakes\": true, \"showland\": true, \"subunitcolor\": \"white\"}, \"hoverlabel\": {\"align\": \"left\"}, \"hovermode\": \"closest\", \"mapbox\": {\"style\": \"light\"}, \"paper_bgcolor\": \"white\", \"plot_bgcolor\": \"#E5ECF6\", \"polar\": {\"angularaxis\": {\"gridcolor\": \"white\", \"linecolor\": \"white\", \"ticks\": \"\"}, \"bgcolor\": \"#E5ECF6\", \"radialaxis\": {\"gridcolor\": \"white\", \"linecolor\": \"white\", \"ticks\": \"\"}}, \"scene\": {\"xaxis\": {\"backgroundcolor\": \"#E5ECF6\", \"gridcolor\": \"white\", \"gridwidth\": 2, \"linecolor\": \"white\", \"showbackground\": true, \"ticks\": \"\", \"zerolinecolor\": \"white\"}, \"yaxis\": {\"backgroundcolor\": \"#E5ECF6\", \"gridcolor\": \"white\", \"gridwidth\": 2, \"linecolor\": \"white\", \"showbackground\": true, \"ticks\": \"\", \"zerolinecolor\": \"white\"}, \"zaxis\": {\"backgroundcolor\": \"#E5ECF6\", \"gridcolor\": \"white\", \"gridwidth\": 2, \"linecolor\": \"white\", \"showbackground\": true, \"ticks\": \"\", \"zerolinecolor\": \"white\"}}, \"shapedefaults\": {\"line\": {\"color\": \"#2a3f5f\"}}, \"ternary\": {\"aaxis\": {\"gridcolor\": \"white\", \"linecolor\": \"white\", \"ticks\": \"\"}, \"baxis\": {\"gridcolor\": \"white\", \"linecolor\": \"white\", \"ticks\": \"\"}, \"bgcolor\": \"#E5ECF6\", \"caxis\": {\"gridcolor\": \"white\", \"linecolor\": \"white\", \"ticks\": \"\"}}, \"title\": {\"x\": 0.05}, \"xaxis\": {\"automargin\": true, \"gridcolor\": \"white\", \"linecolor\": \"white\", \"ticks\": \"\", \"title\": {\"standoff\": 15}, \"zerolinecolor\": \"white\", \"zerolinewidth\": 2}, \"yaxis\": {\"automargin\": true, \"gridcolor\": \"white\", \"linecolor\": \"white\", \"ticks\": \"\", \"title\": {\"standoff\": 15}, \"zerolinecolor\": \"white\", \"zerolinewidth\": 2}}}, \"title\": {\"text\": \"Digit 0 - Persistence Diagram file 10_pd.vtk\"}, \"width\": 400, \"xaxis\": {\"anchor\": \"y\", \"constrain\": \"domain\", \"domain\": [0.0, 1.0], \"scaleanchor\": \"y\", \"showticklabels\": false}, \"yaxis\": {\"anchor\": \"x\", \"autorange\": \"reversed\", \"constrain\": \"domain\", \"domain\": [0.0, 1.0], \"showticklabels\": false}},                        {\"responsive\": true}                    ).then(function(){\n",
       "                            \n",
       "var gd = document.getElementById('2a39f74d-03ed-4788-b4d4-92f96b586601');\n",
       "var x = new MutationObserver(function (mutations, observer) {{\n",
       "        var display = window.getComputedStyle(gd).display;\n",
       "        if (!display || display === 'none') {{\n",
       "            console.log([gd, 'removed!']);\n",
       "            Plotly.purge(gd);\n",
       "            observer.disconnect();\n",
       "        }}\n",
       "}});\n",
       "\n",
       "// Listen for the removal of the full notebook cells\n",
       "var notebookContainer = gd.closest('#notebook-container');\n",
       "if (notebookContainer) {{\n",
       "    x.observe(notebookContainer, {childList: true});\n",
       "}}\n",
       "\n",
       "// Listen for the clearing of the current output cell\n",
       "var outputEl = gd.closest('.output');\n",
       "if (outputEl) {{\n",
       "    x.observe(outputEl, {childList: true});\n",
       "}}\n",
       "\n",
       "                        })                };                });            </script>        </div>"
      ]
     },
     "metadata": {},
     "output_type": "display_data"
    }
   ],
   "source": [
    "digitPrefix = \"0/10\"\n",
    "pngFile = os.path.join(IMG_DIR, digitPrefix+\".png\")\n",
    "im = io.imread(pngFile)\n",
    "\n",
    "inside = im > 0\n",
    "outside = im <= 0\n",
    "\n",
    "im1 = ndimage.morphology.distance_transform_edt(inside)\n",
    "im2 = ndimage.morphology.distance_transform_edt(outside)\n",
    "\n",
    "imf = im2-im1\n",
    "imf = (imf - np.min(imf))/np.ptp(imf)\n",
    "\n",
    "cycleFile = os.path.join(VTK_DIR, digitPrefix+\"_pd.vtk\")\n",
    "visualizeComponents(imf, cycleFile)"
   ]
  },
  {
   "cell_type": "markdown",
   "id": "imported-blood",
   "metadata": {},
   "source": [
    "The second function, `visualizeCycles`, uses a helper function `getPersCycles` to read the ordered sequence of vertices forming each cycle."
   ]
  },
  {
   "cell_type": "code",
   "execution_count": 10,
   "id": "magnetic-combat",
   "metadata": {},
   "outputs": [],
   "source": [
    "def visualizeCycles(img, cycleFile):\n",
    "    \"\"\"\n",
    "    Plot persistence cycles on the original image file.\n",
    "    \n",
    "    Parameters\n",
    "    ----------\n",
    "    img: matrix\n",
    "        The matrix storing the image. \n",
    "    cycleFile: string\n",
    "        The path of the vtk file storing the persistence cycles.\n",
    "    \n",
    "    Returns\n",
    "    ----------\n",
    "    fig : :class:`plotly.graph_objects.Figure` object\n",
    "        Figure showing the persistence cycles on top of the image file.\n",
    "    \"\"\"\n",
    "    \n",
    "    fig = px.imshow(img, color_continuous_scale='gray')\n",
    "    \n",
    "    try: \n",
    "        ordered_cycles = getPersCycles(cycleFile)\n",
    "        coords = list(ordered_cycles.values())\n",
    "        for cycle in coords:        \n",
    "            flat_coords = np.asarray([item for item in cycle])\n",
    "            fig.add_trace(gobj.Scatter(x=flat_coords[:,1], y=flat_coords[:,0], mode='lines'))\n",
    "        \n",
    "    except:\n",
    "        print(\"No cycles to visualize!\")\n",
    "    \n",
    "    # Adjust the properties of the figure\n",
    "    head_tail = os.path.split(cycleFile)\n",
    "    digit = head_tail[0][-1]\n",
    "    filename = head_tail[1]\n",
    "    \n",
    "    fig.update_layout(height=400, width=400, title_text=\"Digit \"+digit+\" - Cycle file \"+filename)\n",
    "    fig.update_layout(coloraxis_showscale=False)\n",
    "    fig.update_xaxes(showticklabels=False)\n",
    "    fig.update_yaxes(showticklabels=False)\n",
    "    \n",
    "    return fig\n"
   ]
  },
  {
   "cell_type": "markdown",
   "id": "electronic-swing",
   "metadata": {},
   "source": [
    "Also in this case, `visualizeCycles` accepts an image as input. This can be used to visualize cycles overlayed to the original image"
   ]
  },
  {
   "cell_type": "code",
   "execution_count": 11,
   "id": "loving-reset",
   "metadata": {},
   "outputs": [
    {
     "data": {
      "application/vnd.plotly.v1+json": {
       "config": {
        "plotlyServerURL": "https://plot.ly"
       },
       "data": [
        {
         "coloraxis": "coloraxis",
         "hovertemplate": "x: %{x}<br>y: %{y}<br>color: %{z}<extra></extra>",
         "name": "0",
         "type": "heatmap",
         "xaxis": "x",
         "yaxis": "y",
         "z": [
          [
           0,
           0,
           0,
           0,
           0,
           0,
           0,
           0,
           0,
           0,
           0,
           0,
           0,
           0,
           0,
           0,
           0,
           0,
           0,
           0,
           0,
           0,
           0,
           0,
           0,
           0,
           0,
           0
          ],
          [
           0,
           0,
           0,
           0,
           0,
           0,
           0,
           0,
           0,
           0,
           0,
           0,
           0,
           0,
           0,
           0,
           0,
           0,
           0,
           0,
           0,
           0,
           0,
           0,
           0,
           0,
           0,
           0
          ],
          [
           0,
           0,
           0,
           0,
           0,
           0,
           0,
           0,
           0,
           0,
           0,
           0,
           0,
           0,
           0,
           0,
           0,
           0,
           0,
           0,
           0,
           0,
           0,
           0,
           0,
           0,
           0,
           0
          ],
          [
           0,
           0,
           0,
           0,
           0,
           0,
           0,
           0,
           0,
           0,
           0,
           0,
           0,
           0,
           0,
           0,
           0,
           0,
           0,
           0,
           0,
           0,
           0,
           0,
           0,
           0,
           0,
           0
          ],
          [
           0,
           0,
           0,
           0,
           0,
           0,
           0,
           0,
           0,
           0,
           0,
           0,
           0,
           0,
           0,
           50,
           127,
           209,
           178,
           134,
           9,
           0,
           0,
           0,
           0,
           0,
           0,
           0
          ],
          [
           0,
           0,
           0,
           0,
           0,
           0,
           0,
           0,
           0,
           0,
           0,
           0,
           0,
           53,
           178,
           247,
           253,
           253,
           253,
           254,
           167,
           6,
           0,
           0,
           0,
           0,
           0,
           0
          ],
          [
           0,
           0,
           0,
           0,
           0,
           0,
           0,
           0,
           0,
           0,
           0,
           0,
           58,
           235,
           254,
           216,
           107,
           78,
           115,
           254,
           253,
           78,
           0,
           0,
           0,
           0,
           0,
           0
          ],
          [
           0,
           0,
           0,
           0,
           0,
           0,
           0,
           0,
           0,
           0,
           0,
           43,
           237,
           253,
           131,
           10,
           0,
           0,
           53,
           254,
           253,
           78,
           0,
           0,
           0,
           0,
           0,
           0
          ],
          [
           0,
           0,
           0,
           0,
           0,
           0,
           0,
           0,
           0,
           0,
           8,
           183,
           253,
           139,
           0,
           0,
           0,
           31,
           217,
           254,
           200,
           18,
           0,
           0,
           0,
           0,
           0,
           0
          ],
          [
           0,
           0,
           0,
           0,
           0,
           0,
           0,
           0,
           0,
           0,
           8,
           206,
           254,
           58,
           0,
           0,
           102,
           254,
           254,
           218,
           30,
           0,
           0,
           0,
           0,
           0,
           0,
           0
          ],
          [
           0,
           0,
           0,
           0,
           0,
           0,
           0,
           0,
           0,
           0,
           0,
           175,
           253,
           66,
           35,
           125,
           241,
           253,
           200,
           57,
           3,
           0,
           0,
           0,
           0,
           0,
           0,
           0
          ],
          [
           0,
           0,
           0,
           0,
           0,
           0,
           0,
           0,
           0,
           0,
           0,
           175,
           253,
           223,
           224,
           253,
           253,
           253,
           193,
           146,
           27,
           0,
           0,
           0,
           0,
           0,
           0,
           0
          ],
          [
           0,
           0,
           0,
           0,
           0,
           0,
           0,
           0,
           0,
           0,
           0,
           138,
           253,
           253,
           254,
           245,
           185,
           231,
           138,
           8,
           0,
           0,
           0,
           0,
           0,
           0,
           0,
           0
          ],
          [
           0,
           0,
           0,
           0,
           0,
           0,
           0,
           0,
           0,
           0,
           0,
           71,
           245,
           253,
           254,
           253,
           192,
           27,
           0,
           0,
           0,
           0,
           0,
           0,
           0,
           0,
           0,
           0
          ],
          [
           0,
           0,
           0,
           0,
           0,
           0,
           0,
           0,
           0,
           0,
           0,
           41,
           164,
           254,
           255,
           238,
           18,
           0,
           0,
           0,
           0,
           0,
           0,
           0,
           0,
           0,
           0,
           0
          ],
          [
           0,
           0,
           0,
           0,
           0,
           0,
           0,
           0,
           0,
           0,
           108,
           241,
           253,
           207,
           201,
           253,
           226,
           24,
           0,
           0,
           0,
           0,
           0,
           0,
           0,
           0,
           0,
           0
          ],
          [
           0,
           0,
           0,
           0,
           0,
           0,
           0,
           0,
           0,
           102,
           241,
           253,
           195,
           48,
           41,
           241,
           253,
           146,
           0,
           0,
           0,
           0,
           0,
           0,
           0,
           0,
           0,
           0
          ],
          [
           0,
           0,
           0,
           0,
           0,
           0,
           0,
           7,
           152,
           254,
           250,
           116,
           9,
           0,
           0,
           72,
           253,
           250,
           54,
           0,
           0,
           0,
           0,
           0,
           0,
           0,
           0,
           0
          ],
          [
           0,
           0,
           0,
           0,
           0,
           0,
           0,
           40,
           253,
           254,
           121,
           0,
           0,
           0,
           0,
           20,
           253,
           253,
           58,
           0,
           0,
           0,
           0,
           0,
           0,
           0,
           0,
           0
          ],
          [
           0,
           0,
           0,
           0,
           0,
           0,
           0,
           197,
           254,
           218,
           15,
           0,
           0,
           0,
           0,
           43,
           254,
           244,
           45,
           0,
           0,
           0,
           0,
           0,
           0,
           0,
           0,
           0
          ],
          [
           0,
           0,
           0,
           0,
           0,
           0,
           67,
           250,
           253,
           68,
           0,
           0,
           0,
           8,
           103,
           232,
           253,
           124,
           0,
           0,
           0,
           0,
           0,
           0,
           0,
           0,
           0,
           0
          ],
          [
           0,
           0,
           0,
           0,
           0,
           0,
           79,
           253,
           253,
           79,
           18,
           79,
           168,
           205,
           254,
           253,
           168,
           6,
           0,
           0,
           0,
           0,
           0,
           0,
           0,
           0,
           0,
           0
          ],
          [
           0,
           0,
           0,
           0,
           0,
           0,
           36,
           227,
           253,
           254,
           238,
           253,
           253,
           253,
           192,
           109,
           6,
           0,
           0,
           0,
           0,
           0,
           0,
           0,
           0,
           0,
           0,
           0
          ],
          [
           0,
           0,
           0,
           0,
           0,
           0,
           0,
           47,
           230,
           254,
           253,
           222,
           103,
           58,
           0,
           0,
           0,
           0,
           0,
           0,
           0,
           0,
           0,
           0,
           0,
           0,
           0,
           0
          ],
          [
           0,
           0,
           0,
           0,
           0,
           0,
           0,
           0,
           0,
           0,
           0,
           0,
           0,
           0,
           0,
           0,
           0,
           0,
           0,
           0,
           0,
           0,
           0,
           0,
           0,
           0,
           0,
           0
          ],
          [
           0,
           0,
           0,
           0,
           0,
           0,
           0,
           0,
           0,
           0,
           0,
           0,
           0,
           0,
           0,
           0,
           0,
           0,
           0,
           0,
           0,
           0,
           0,
           0,
           0,
           0,
           0,
           0
          ],
          [
           0,
           0,
           0,
           0,
           0,
           0,
           0,
           0,
           0,
           0,
           0,
           0,
           0,
           0,
           0,
           0,
           0,
           0,
           0,
           0,
           0,
           0,
           0,
           0,
           0,
           0,
           0,
           0
          ],
          [
           0,
           0,
           0,
           0,
           0,
           0,
           0,
           0,
           0,
           0,
           0,
           0,
           0,
           0,
           0,
           0,
           0,
           0,
           0,
           0,
           0,
           0,
           0,
           0,
           0,
           0,
           0,
           0
          ]
         ]
        },
        {
         "mode": "lines",
         "type": "scatter",
         "x": [
          12,
          12,
          12,
          13,
          13,
          14,
          15,
          16,
          17,
          18,
          19,
          19,
          19,
          19,
          18,
          17,
          16,
          15,
          14,
          13,
          12
         ],
         "y": [
          8,
          9,
          10,
          10,
          11,
          11,
          11,
          11,
          10,
          9,
          8,
          7,
          6,
          5,
          5,
          5,
          5,
          5,
          6,
          7,
          8
         ]
        },
        {
         "mode": "lines",
         "type": "scatter",
         "x": [
          8,
          8,
          9,
          9,
          10,
          11,
          12,
          13,
          14,
          15,
          16,
          16,
          16,
          16,
          16,
          15,
          15,
          14,
          13,
          12,
          11,
          10,
          9,
          9,
          8
         ],
         "y": [
          20,
          21,
          21,
          22,
          22,
          22,
          22,
          21,
          21,
          21,
          20,
          19,
          18,
          17,
          16,
          16,
          15,
          15,
          15,
          16,
          16,
          17,
          18,
          19,
          20
         ]
        },
        {
         "mode": "lines",
         "type": "scatter",
         "x": [
          13,
          13,
          14,
          15,
          15,
          14,
          13
         ],
         "y": [
          19,
          20,
          20,
          19,
          18,
          18,
          19
         ]
        }
       ],
       "layout": {
        "coloraxis": {
         "colorscale": [
          [
           0,
           "rgb(0, 0, 0)"
          ],
          [
           0.09090909090909091,
           "rgb(16, 16, 16)"
          ],
          [
           0.18181818181818182,
           "rgb(38, 38, 38)"
          ],
          [
           0.2727272727272727,
           "rgb(59, 59, 59)"
          ],
          [
           0.36363636363636365,
           "rgb(81, 80, 80)"
          ],
          [
           0.45454545454545453,
           "rgb(102, 101, 101)"
          ],
          [
           0.5454545454545454,
           "rgb(124, 123, 122)"
          ],
          [
           0.6363636363636364,
           "rgb(146, 146, 145)"
          ],
          [
           0.7272727272727273,
           "rgb(171, 171, 170)"
          ],
          [
           0.8181818181818182,
           "rgb(197, 197, 195)"
          ],
          [
           0.9090909090909091,
           "rgb(224, 224, 223)"
          ],
          [
           1,
           "rgb(254, 254, 253)"
          ]
         ],
         "showscale": false
        },
        "height": 400,
        "margin": {
         "t": 60
        },
        "template": {
         "data": {
          "bar": [
           {
            "error_x": {
             "color": "#2a3f5f"
            },
            "error_y": {
             "color": "#2a3f5f"
            },
            "marker": {
             "line": {
              "color": "#E5ECF6",
              "width": 0.5
             }
            },
            "type": "bar"
           }
          ],
          "barpolar": [
           {
            "marker": {
             "line": {
              "color": "#E5ECF6",
              "width": 0.5
             }
            },
            "type": "barpolar"
           }
          ],
          "carpet": [
           {
            "aaxis": {
             "endlinecolor": "#2a3f5f",
             "gridcolor": "white",
             "linecolor": "white",
             "minorgridcolor": "white",
             "startlinecolor": "#2a3f5f"
            },
            "baxis": {
             "endlinecolor": "#2a3f5f",
             "gridcolor": "white",
             "linecolor": "white",
             "minorgridcolor": "white",
             "startlinecolor": "#2a3f5f"
            },
            "type": "carpet"
           }
          ],
          "choropleth": [
           {
            "colorbar": {
             "outlinewidth": 0,
             "ticks": ""
            },
            "type": "choropleth"
           }
          ],
          "contour": [
           {
            "colorbar": {
             "outlinewidth": 0,
             "ticks": ""
            },
            "colorscale": [
             [
              0,
              "#0d0887"
             ],
             [
              0.1111111111111111,
              "#46039f"
             ],
             [
              0.2222222222222222,
              "#7201a8"
             ],
             [
              0.3333333333333333,
              "#9c179e"
             ],
             [
              0.4444444444444444,
              "#bd3786"
             ],
             [
              0.5555555555555556,
              "#d8576b"
             ],
             [
              0.6666666666666666,
              "#ed7953"
             ],
             [
              0.7777777777777778,
              "#fb9f3a"
             ],
             [
              0.8888888888888888,
              "#fdca26"
             ],
             [
              1,
              "#f0f921"
             ]
            ],
            "type": "contour"
           }
          ],
          "contourcarpet": [
           {
            "colorbar": {
             "outlinewidth": 0,
             "ticks": ""
            },
            "type": "contourcarpet"
           }
          ],
          "heatmap": [
           {
            "colorbar": {
             "outlinewidth": 0,
             "ticks": ""
            },
            "colorscale": [
             [
              0,
              "#0d0887"
             ],
             [
              0.1111111111111111,
              "#46039f"
             ],
             [
              0.2222222222222222,
              "#7201a8"
             ],
             [
              0.3333333333333333,
              "#9c179e"
             ],
             [
              0.4444444444444444,
              "#bd3786"
             ],
             [
              0.5555555555555556,
              "#d8576b"
             ],
             [
              0.6666666666666666,
              "#ed7953"
             ],
             [
              0.7777777777777778,
              "#fb9f3a"
             ],
             [
              0.8888888888888888,
              "#fdca26"
             ],
             [
              1,
              "#f0f921"
             ]
            ],
            "type": "heatmap"
           }
          ],
          "heatmapgl": [
           {
            "colorbar": {
             "outlinewidth": 0,
             "ticks": ""
            },
            "colorscale": [
             [
              0,
              "#0d0887"
             ],
             [
              0.1111111111111111,
              "#46039f"
             ],
             [
              0.2222222222222222,
              "#7201a8"
             ],
             [
              0.3333333333333333,
              "#9c179e"
             ],
             [
              0.4444444444444444,
              "#bd3786"
             ],
             [
              0.5555555555555556,
              "#d8576b"
             ],
             [
              0.6666666666666666,
              "#ed7953"
             ],
             [
              0.7777777777777778,
              "#fb9f3a"
             ],
             [
              0.8888888888888888,
              "#fdca26"
             ],
             [
              1,
              "#f0f921"
             ]
            ],
            "type": "heatmapgl"
           }
          ],
          "histogram": [
           {
            "marker": {
             "colorbar": {
              "outlinewidth": 0,
              "ticks": ""
             }
            },
            "type": "histogram"
           }
          ],
          "histogram2d": [
           {
            "colorbar": {
             "outlinewidth": 0,
             "ticks": ""
            },
            "colorscale": [
             [
              0,
              "#0d0887"
             ],
             [
              0.1111111111111111,
              "#46039f"
             ],
             [
              0.2222222222222222,
              "#7201a8"
             ],
             [
              0.3333333333333333,
              "#9c179e"
             ],
             [
              0.4444444444444444,
              "#bd3786"
             ],
             [
              0.5555555555555556,
              "#d8576b"
             ],
             [
              0.6666666666666666,
              "#ed7953"
             ],
             [
              0.7777777777777778,
              "#fb9f3a"
             ],
             [
              0.8888888888888888,
              "#fdca26"
             ],
             [
              1,
              "#f0f921"
             ]
            ],
            "type": "histogram2d"
           }
          ],
          "histogram2dcontour": [
           {
            "colorbar": {
             "outlinewidth": 0,
             "ticks": ""
            },
            "colorscale": [
             [
              0,
              "#0d0887"
             ],
             [
              0.1111111111111111,
              "#46039f"
             ],
             [
              0.2222222222222222,
              "#7201a8"
             ],
             [
              0.3333333333333333,
              "#9c179e"
             ],
             [
              0.4444444444444444,
              "#bd3786"
             ],
             [
              0.5555555555555556,
              "#d8576b"
             ],
             [
              0.6666666666666666,
              "#ed7953"
             ],
             [
              0.7777777777777778,
              "#fb9f3a"
             ],
             [
              0.8888888888888888,
              "#fdca26"
             ],
             [
              1,
              "#f0f921"
             ]
            ],
            "type": "histogram2dcontour"
           }
          ],
          "mesh3d": [
           {
            "colorbar": {
             "outlinewidth": 0,
             "ticks": ""
            },
            "type": "mesh3d"
           }
          ],
          "parcoords": [
           {
            "line": {
             "colorbar": {
              "outlinewidth": 0,
              "ticks": ""
             }
            },
            "type": "parcoords"
           }
          ],
          "pie": [
           {
            "automargin": true,
            "type": "pie"
           }
          ],
          "scatter": [
           {
            "marker": {
             "colorbar": {
              "outlinewidth": 0,
              "ticks": ""
             }
            },
            "type": "scatter"
           }
          ],
          "scatter3d": [
           {
            "line": {
             "colorbar": {
              "outlinewidth": 0,
              "ticks": ""
             }
            },
            "marker": {
             "colorbar": {
              "outlinewidth": 0,
              "ticks": ""
             }
            },
            "type": "scatter3d"
           }
          ],
          "scattercarpet": [
           {
            "marker": {
             "colorbar": {
              "outlinewidth": 0,
              "ticks": ""
             }
            },
            "type": "scattercarpet"
           }
          ],
          "scattergeo": [
           {
            "marker": {
             "colorbar": {
              "outlinewidth": 0,
              "ticks": ""
             }
            },
            "type": "scattergeo"
           }
          ],
          "scattergl": [
           {
            "marker": {
             "colorbar": {
              "outlinewidth": 0,
              "ticks": ""
             }
            },
            "type": "scattergl"
           }
          ],
          "scattermapbox": [
           {
            "marker": {
             "colorbar": {
              "outlinewidth": 0,
              "ticks": ""
             }
            },
            "type": "scattermapbox"
           }
          ],
          "scatterpolar": [
           {
            "marker": {
             "colorbar": {
              "outlinewidth": 0,
              "ticks": ""
             }
            },
            "type": "scatterpolar"
           }
          ],
          "scatterpolargl": [
           {
            "marker": {
             "colorbar": {
              "outlinewidth": 0,
              "ticks": ""
             }
            },
            "type": "scatterpolargl"
           }
          ],
          "scatterternary": [
           {
            "marker": {
             "colorbar": {
              "outlinewidth": 0,
              "ticks": ""
             }
            },
            "type": "scatterternary"
           }
          ],
          "surface": [
           {
            "colorbar": {
             "outlinewidth": 0,
             "ticks": ""
            },
            "colorscale": [
             [
              0,
              "#0d0887"
             ],
             [
              0.1111111111111111,
              "#46039f"
             ],
             [
              0.2222222222222222,
              "#7201a8"
             ],
             [
              0.3333333333333333,
              "#9c179e"
             ],
             [
              0.4444444444444444,
              "#bd3786"
             ],
             [
              0.5555555555555556,
              "#d8576b"
             ],
             [
              0.6666666666666666,
              "#ed7953"
             ],
             [
              0.7777777777777778,
              "#fb9f3a"
             ],
             [
              0.8888888888888888,
              "#fdca26"
             ],
             [
              1,
              "#f0f921"
             ]
            ],
            "type": "surface"
           }
          ],
          "table": [
           {
            "cells": {
             "fill": {
              "color": "#EBF0F8"
             },
             "line": {
              "color": "white"
             }
            },
            "header": {
             "fill": {
              "color": "#C8D4E3"
             },
             "line": {
              "color": "white"
             }
            },
            "type": "table"
           }
          ]
         },
         "layout": {
          "annotationdefaults": {
           "arrowcolor": "#2a3f5f",
           "arrowhead": 0,
           "arrowwidth": 1
          },
          "autotypenumbers": "strict",
          "coloraxis": {
           "colorbar": {
            "outlinewidth": 0,
            "ticks": ""
           }
          },
          "colorscale": {
           "diverging": [
            [
             0,
             "#8e0152"
            ],
            [
             0.1,
             "#c51b7d"
            ],
            [
             0.2,
             "#de77ae"
            ],
            [
             0.3,
             "#f1b6da"
            ],
            [
             0.4,
             "#fde0ef"
            ],
            [
             0.5,
             "#f7f7f7"
            ],
            [
             0.6,
             "#e6f5d0"
            ],
            [
             0.7,
             "#b8e186"
            ],
            [
             0.8,
             "#7fbc41"
            ],
            [
             0.9,
             "#4d9221"
            ],
            [
             1,
             "#276419"
            ]
           ],
           "sequential": [
            [
             0,
             "#0d0887"
            ],
            [
             0.1111111111111111,
             "#46039f"
            ],
            [
             0.2222222222222222,
             "#7201a8"
            ],
            [
             0.3333333333333333,
             "#9c179e"
            ],
            [
             0.4444444444444444,
             "#bd3786"
            ],
            [
             0.5555555555555556,
             "#d8576b"
            ],
            [
             0.6666666666666666,
             "#ed7953"
            ],
            [
             0.7777777777777778,
             "#fb9f3a"
            ],
            [
             0.8888888888888888,
             "#fdca26"
            ],
            [
             1,
             "#f0f921"
            ]
           ],
           "sequentialminus": [
            [
             0,
             "#0d0887"
            ],
            [
             0.1111111111111111,
             "#46039f"
            ],
            [
             0.2222222222222222,
             "#7201a8"
            ],
            [
             0.3333333333333333,
             "#9c179e"
            ],
            [
             0.4444444444444444,
             "#bd3786"
            ],
            [
             0.5555555555555556,
             "#d8576b"
            ],
            [
             0.6666666666666666,
             "#ed7953"
            ],
            [
             0.7777777777777778,
             "#fb9f3a"
            ],
            [
             0.8888888888888888,
             "#fdca26"
            ],
            [
             1,
             "#f0f921"
            ]
           ]
          },
          "colorway": [
           "#636efa",
           "#EF553B",
           "#00cc96",
           "#ab63fa",
           "#FFA15A",
           "#19d3f3",
           "#FF6692",
           "#B6E880",
           "#FF97FF",
           "#FECB52"
          ],
          "font": {
           "color": "#2a3f5f"
          },
          "geo": {
           "bgcolor": "white",
           "lakecolor": "white",
           "landcolor": "#E5ECF6",
           "showlakes": true,
           "showland": true,
           "subunitcolor": "white"
          },
          "hoverlabel": {
           "align": "left"
          },
          "hovermode": "closest",
          "mapbox": {
           "style": "light"
          },
          "paper_bgcolor": "white",
          "plot_bgcolor": "#E5ECF6",
          "polar": {
           "angularaxis": {
            "gridcolor": "white",
            "linecolor": "white",
            "ticks": ""
           },
           "bgcolor": "#E5ECF6",
           "radialaxis": {
            "gridcolor": "white",
            "linecolor": "white",
            "ticks": ""
           }
          },
          "scene": {
           "xaxis": {
            "backgroundcolor": "#E5ECF6",
            "gridcolor": "white",
            "gridwidth": 2,
            "linecolor": "white",
            "showbackground": true,
            "ticks": "",
            "zerolinecolor": "white"
           },
           "yaxis": {
            "backgroundcolor": "#E5ECF6",
            "gridcolor": "white",
            "gridwidth": 2,
            "linecolor": "white",
            "showbackground": true,
            "ticks": "",
            "zerolinecolor": "white"
           },
           "zaxis": {
            "backgroundcolor": "#E5ECF6",
            "gridcolor": "white",
            "gridwidth": 2,
            "linecolor": "white",
            "showbackground": true,
            "ticks": "",
            "zerolinecolor": "white"
           }
          },
          "shapedefaults": {
           "line": {
            "color": "#2a3f5f"
           }
          },
          "ternary": {
           "aaxis": {
            "gridcolor": "white",
            "linecolor": "white",
            "ticks": ""
           },
           "baxis": {
            "gridcolor": "white",
            "linecolor": "white",
            "ticks": ""
           },
           "bgcolor": "#E5ECF6",
           "caxis": {
            "gridcolor": "white",
            "linecolor": "white",
            "ticks": ""
           }
          },
          "title": {
           "x": 0.05
          },
          "xaxis": {
           "automargin": true,
           "gridcolor": "white",
           "linecolor": "white",
           "ticks": "",
           "title": {
            "standoff": 15
           },
           "zerolinecolor": "white",
           "zerolinewidth": 2
          },
          "yaxis": {
           "automargin": true,
           "gridcolor": "white",
           "linecolor": "white",
           "ticks": "",
           "title": {
            "standoff": 15
           },
           "zerolinecolor": "white",
           "zerolinewidth": 2
          }
         }
        },
        "title": {
         "text": "Digit 8 - Cycle file 110_cycles.vtk"
        },
        "width": 400,
        "xaxis": {
         "anchor": "y",
         "constrain": "domain",
         "domain": [
          0,
          1
         ],
         "scaleanchor": "y",
         "showticklabels": false
        },
        "yaxis": {
         "anchor": "x",
         "autorange": "reversed",
         "constrain": "domain",
         "domain": [
          0,
          1
         ],
         "showticklabels": false
        }
       }
      },
      "text/html": [
       "<div>                            <div id=\"417e8ea4-e85d-4d74-95f0-270ce44e4636\" class=\"plotly-graph-div\" style=\"height:400px; width:400px;\"></div>            <script type=\"text/javascript\">                require([\"plotly\"], function(Plotly) {                    window.PLOTLYENV=window.PLOTLYENV || {};                                    if (document.getElementById(\"417e8ea4-e85d-4d74-95f0-270ce44e4636\")) {                    Plotly.newPlot(                        \"417e8ea4-e85d-4d74-95f0-270ce44e4636\",                        [{\"coloraxis\": \"coloraxis\", \"hovertemplate\": \"x: %{x}<br>y: %{y}<br>color: %{z}<extra></extra>\", \"name\": \"0\", \"type\": \"heatmap\", \"xaxis\": \"x\", \"yaxis\": \"y\", \"z\": [[0, 0, 0, 0, 0, 0, 0, 0, 0, 0, 0, 0, 0, 0, 0, 0, 0, 0, 0, 0, 0, 0, 0, 0, 0, 0, 0, 0], [0, 0, 0, 0, 0, 0, 0, 0, 0, 0, 0, 0, 0, 0, 0, 0, 0, 0, 0, 0, 0, 0, 0, 0, 0, 0, 0, 0], [0, 0, 0, 0, 0, 0, 0, 0, 0, 0, 0, 0, 0, 0, 0, 0, 0, 0, 0, 0, 0, 0, 0, 0, 0, 0, 0, 0], [0, 0, 0, 0, 0, 0, 0, 0, 0, 0, 0, 0, 0, 0, 0, 0, 0, 0, 0, 0, 0, 0, 0, 0, 0, 0, 0, 0], [0, 0, 0, 0, 0, 0, 0, 0, 0, 0, 0, 0, 0, 0, 0, 50, 127, 209, 178, 134, 9, 0, 0, 0, 0, 0, 0, 0], [0, 0, 0, 0, 0, 0, 0, 0, 0, 0, 0, 0, 0, 53, 178, 247, 253, 253, 253, 254, 167, 6, 0, 0, 0, 0, 0, 0], [0, 0, 0, 0, 0, 0, 0, 0, 0, 0, 0, 0, 58, 235, 254, 216, 107, 78, 115, 254, 253, 78, 0, 0, 0, 0, 0, 0], [0, 0, 0, 0, 0, 0, 0, 0, 0, 0, 0, 43, 237, 253, 131, 10, 0, 0, 53, 254, 253, 78, 0, 0, 0, 0, 0, 0], [0, 0, 0, 0, 0, 0, 0, 0, 0, 0, 8, 183, 253, 139, 0, 0, 0, 31, 217, 254, 200, 18, 0, 0, 0, 0, 0, 0], [0, 0, 0, 0, 0, 0, 0, 0, 0, 0, 8, 206, 254, 58, 0, 0, 102, 254, 254, 218, 30, 0, 0, 0, 0, 0, 0, 0], [0, 0, 0, 0, 0, 0, 0, 0, 0, 0, 0, 175, 253, 66, 35, 125, 241, 253, 200, 57, 3, 0, 0, 0, 0, 0, 0, 0], [0, 0, 0, 0, 0, 0, 0, 0, 0, 0, 0, 175, 253, 223, 224, 253, 253, 253, 193, 146, 27, 0, 0, 0, 0, 0, 0, 0], [0, 0, 0, 0, 0, 0, 0, 0, 0, 0, 0, 138, 253, 253, 254, 245, 185, 231, 138, 8, 0, 0, 0, 0, 0, 0, 0, 0], [0, 0, 0, 0, 0, 0, 0, 0, 0, 0, 0, 71, 245, 253, 254, 253, 192, 27, 0, 0, 0, 0, 0, 0, 0, 0, 0, 0], [0, 0, 0, 0, 0, 0, 0, 0, 0, 0, 0, 41, 164, 254, 255, 238, 18, 0, 0, 0, 0, 0, 0, 0, 0, 0, 0, 0], [0, 0, 0, 0, 0, 0, 0, 0, 0, 0, 108, 241, 253, 207, 201, 253, 226, 24, 0, 0, 0, 0, 0, 0, 0, 0, 0, 0], [0, 0, 0, 0, 0, 0, 0, 0, 0, 102, 241, 253, 195, 48, 41, 241, 253, 146, 0, 0, 0, 0, 0, 0, 0, 0, 0, 0], [0, 0, 0, 0, 0, 0, 0, 7, 152, 254, 250, 116, 9, 0, 0, 72, 253, 250, 54, 0, 0, 0, 0, 0, 0, 0, 0, 0], [0, 0, 0, 0, 0, 0, 0, 40, 253, 254, 121, 0, 0, 0, 0, 20, 253, 253, 58, 0, 0, 0, 0, 0, 0, 0, 0, 0], [0, 0, 0, 0, 0, 0, 0, 197, 254, 218, 15, 0, 0, 0, 0, 43, 254, 244, 45, 0, 0, 0, 0, 0, 0, 0, 0, 0], [0, 0, 0, 0, 0, 0, 67, 250, 253, 68, 0, 0, 0, 8, 103, 232, 253, 124, 0, 0, 0, 0, 0, 0, 0, 0, 0, 0], [0, 0, 0, 0, 0, 0, 79, 253, 253, 79, 18, 79, 168, 205, 254, 253, 168, 6, 0, 0, 0, 0, 0, 0, 0, 0, 0, 0], [0, 0, 0, 0, 0, 0, 36, 227, 253, 254, 238, 253, 253, 253, 192, 109, 6, 0, 0, 0, 0, 0, 0, 0, 0, 0, 0, 0], [0, 0, 0, 0, 0, 0, 0, 47, 230, 254, 253, 222, 103, 58, 0, 0, 0, 0, 0, 0, 0, 0, 0, 0, 0, 0, 0, 0], [0, 0, 0, 0, 0, 0, 0, 0, 0, 0, 0, 0, 0, 0, 0, 0, 0, 0, 0, 0, 0, 0, 0, 0, 0, 0, 0, 0], [0, 0, 0, 0, 0, 0, 0, 0, 0, 0, 0, 0, 0, 0, 0, 0, 0, 0, 0, 0, 0, 0, 0, 0, 0, 0, 0, 0], [0, 0, 0, 0, 0, 0, 0, 0, 0, 0, 0, 0, 0, 0, 0, 0, 0, 0, 0, 0, 0, 0, 0, 0, 0, 0, 0, 0], [0, 0, 0, 0, 0, 0, 0, 0, 0, 0, 0, 0, 0, 0, 0, 0, 0, 0, 0, 0, 0, 0, 0, 0, 0, 0, 0, 0]]}, {\"mode\": \"lines\", \"type\": \"scatter\", \"x\": [12.0, 12.0, 12.0, 13.0, 13.0, 14.0, 15.0, 16.0, 17.0, 18.0, 19.0, 19.0, 19.0, 19.0, 18.0, 17.0, 16.0, 15.0, 14.0, 13.0, 12.0], \"y\": [8.0, 9.0, 10.0, 10.0, 11.0, 11.0, 11.0, 11.0, 10.0, 9.0, 8.0, 7.0, 6.0, 5.0, 5.0, 5.0, 5.0, 5.0, 6.0, 7.0, 8.0]}, {\"mode\": \"lines\", \"type\": \"scatter\", \"x\": [8.0, 8.0, 9.0, 9.0, 10.0, 11.0, 12.0, 13.0, 14.0, 15.0, 16.0, 16.0, 16.0, 16.0, 16.0, 15.0, 15.0, 14.0, 13.0, 12.0, 11.0, 10.0, 9.0, 9.0, 8.0], \"y\": [20.0, 21.0, 21.0, 22.0, 22.0, 22.0, 22.0, 21.0, 21.0, 21.0, 20.0, 19.0, 18.0, 17.0, 16.0, 16.0, 15.0, 15.0, 15.0, 16.0, 16.0, 17.0, 18.0, 19.0, 20.0]}, {\"mode\": \"lines\", \"type\": \"scatter\", \"x\": [13.0, 13.0, 14.0, 15.0, 15.0, 14.0, 13.0], \"y\": [19.0, 20.0, 20.0, 19.0, 18.0, 18.0, 19.0]}],                        {\"coloraxis\": {\"colorscale\": [[0.0, \"rgb(0, 0, 0)\"], [0.09090909090909091, \"rgb(16, 16, 16)\"], [0.18181818181818182, \"rgb(38, 38, 38)\"], [0.2727272727272727, \"rgb(59, 59, 59)\"], [0.36363636363636365, \"rgb(81, 80, 80)\"], [0.45454545454545453, \"rgb(102, 101, 101)\"], [0.5454545454545454, \"rgb(124, 123, 122)\"], [0.6363636363636364, \"rgb(146, 146, 145)\"], [0.7272727272727273, \"rgb(171, 171, 170)\"], [0.8181818181818182, \"rgb(197, 197, 195)\"], [0.9090909090909091, \"rgb(224, 224, 223)\"], [1.0, \"rgb(254, 254, 253)\"]], \"showscale\": false}, \"height\": 400, \"margin\": {\"t\": 60}, \"template\": {\"data\": {\"bar\": [{\"error_x\": {\"color\": \"#2a3f5f\"}, \"error_y\": {\"color\": \"#2a3f5f\"}, \"marker\": {\"line\": {\"color\": \"#E5ECF6\", \"width\": 0.5}}, \"type\": \"bar\"}], \"barpolar\": [{\"marker\": {\"line\": {\"color\": \"#E5ECF6\", \"width\": 0.5}}, \"type\": \"barpolar\"}], \"carpet\": [{\"aaxis\": {\"endlinecolor\": \"#2a3f5f\", \"gridcolor\": \"white\", \"linecolor\": \"white\", \"minorgridcolor\": \"white\", \"startlinecolor\": \"#2a3f5f\"}, \"baxis\": {\"endlinecolor\": \"#2a3f5f\", \"gridcolor\": \"white\", \"linecolor\": \"white\", \"minorgridcolor\": \"white\", \"startlinecolor\": \"#2a3f5f\"}, \"type\": \"carpet\"}], \"choropleth\": [{\"colorbar\": {\"outlinewidth\": 0, \"ticks\": \"\"}, \"type\": \"choropleth\"}], \"contour\": [{\"colorbar\": {\"outlinewidth\": 0, \"ticks\": \"\"}, \"colorscale\": [[0.0, \"#0d0887\"], [0.1111111111111111, \"#46039f\"], [0.2222222222222222, \"#7201a8\"], [0.3333333333333333, \"#9c179e\"], [0.4444444444444444, \"#bd3786\"], [0.5555555555555556, \"#d8576b\"], [0.6666666666666666, \"#ed7953\"], [0.7777777777777778, \"#fb9f3a\"], [0.8888888888888888, \"#fdca26\"], [1.0, \"#f0f921\"]], \"type\": \"contour\"}], \"contourcarpet\": [{\"colorbar\": {\"outlinewidth\": 0, \"ticks\": \"\"}, \"type\": \"contourcarpet\"}], \"heatmap\": [{\"colorbar\": {\"outlinewidth\": 0, \"ticks\": \"\"}, \"colorscale\": [[0.0, \"#0d0887\"], [0.1111111111111111, \"#46039f\"], [0.2222222222222222, \"#7201a8\"], [0.3333333333333333, \"#9c179e\"], [0.4444444444444444, \"#bd3786\"], [0.5555555555555556, \"#d8576b\"], [0.6666666666666666, \"#ed7953\"], [0.7777777777777778, \"#fb9f3a\"], [0.8888888888888888, \"#fdca26\"], [1.0, \"#f0f921\"]], \"type\": \"heatmap\"}], \"heatmapgl\": [{\"colorbar\": {\"outlinewidth\": 0, \"ticks\": \"\"}, \"colorscale\": [[0.0, \"#0d0887\"], [0.1111111111111111, \"#46039f\"], [0.2222222222222222, \"#7201a8\"], [0.3333333333333333, \"#9c179e\"], [0.4444444444444444, \"#bd3786\"], [0.5555555555555556, \"#d8576b\"], [0.6666666666666666, \"#ed7953\"], [0.7777777777777778, \"#fb9f3a\"], [0.8888888888888888, \"#fdca26\"], [1.0, \"#f0f921\"]], \"type\": \"heatmapgl\"}], \"histogram\": [{\"marker\": {\"colorbar\": {\"outlinewidth\": 0, \"ticks\": \"\"}}, \"type\": \"histogram\"}], \"histogram2d\": [{\"colorbar\": {\"outlinewidth\": 0, \"ticks\": \"\"}, \"colorscale\": [[0.0, \"#0d0887\"], [0.1111111111111111, \"#46039f\"], [0.2222222222222222, \"#7201a8\"], [0.3333333333333333, \"#9c179e\"], [0.4444444444444444, \"#bd3786\"], [0.5555555555555556, \"#d8576b\"], [0.6666666666666666, \"#ed7953\"], [0.7777777777777778, \"#fb9f3a\"], [0.8888888888888888, \"#fdca26\"], [1.0, \"#f0f921\"]], \"type\": \"histogram2d\"}], \"histogram2dcontour\": [{\"colorbar\": {\"outlinewidth\": 0, \"ticks\": \"\"}, \"colorscale\": [[0.0, \"#0d0887\"], [0.1111111111111111, \"#46039f\"], [0.2222222222222222, \"#7201a8\"], [0.3333333333333333, \"#9c179e\"], [0.4444444444444444, \"#bd3786\"], [0.5555555555555556, \"#d8576b\"], [0.6666666666666666, \"#ed7953\"], [0.7777777777777778, \"#fb9f3a\"], [0.8888888888888888, \"#fdca26\"], [1.0, \"#f0f921\"]], \"type\": \"histogram2dcontour\"}], \"mesh3d\": [{\"colorbar\": {\"outlinewidth\": 0, \"ticks\": \"\"}, \"type\": \"mesh3d\"}], \"parcoords\": [{\"line\": {\"colorbar\": {\"outlinewidth\": 0, \"ticks\": \"\"}}, \"type\": \"parcoords\"}], \"pie\": [{\"automargin\": true, \"type\": \"pie\"}], \"scatter\": [{\"marker\": {\"colorbar\": {\"outlinewidth\": 0, \"ticks\": \"\"}}, \"type\": \"scatter\"}], \"scatter3d\": [{\"line\": {\"colorbar\": {\"outlinewidth\": 0, \"ticks\": \"\"}}, \"marker\": {\"colorbar\": {\"outlinewidth\": 0, \"ticks\": \"\"}}, \"type\": \"scatter3d\"}], \"scattercarpet\": [{\"marker\": {\"colorbar\": {\"outlinewidth\": 0, \"ticks\": \"\"}}, \"type\": \"scattercarpet\"}], \"scattergeo\": [{\"marker\": {\"colorbar\": {\"outlinewidth\": 0, \"ticks\": \"\"}}, \"type\": \"scattergeo\"}], \"scattergl\": [{\"marker\": {\"colorbar\": {\"outlinewidth\": 0, \"ticks\": \"\"}}, \"type\": \"scattergl\"}], \"scattermapbox\": [{\"marker\": {\"colorbar\": {\"outlinewidth\": 0, \"ticks\": \"\"}}, \"type\": \"scattermapbox\"}], \"scatterpolar\": [{\"marker\": {\"colorbar\": {\"outlinewidth\": 0, \"ticks\": \"\"}}, \"type\": \"scatterpolar\"}], \"scatterpolargl\": [{\"marker\": {\"colorbar\": {\"outlinewidth\": 0, \"ticks\": \"\"}}, \"type\": \"scatterpolargl\"}], \"scatterternary\": [{\"marker\": {\"colorbar\": {\"outlinewidth\": 0, \"ticks\": \"\"}}, \"type\": \"scatterternary\"}], \"surface\": [{\"colorbar\": {\"outlinewidth\": 0, \"ticks\": \"\"}, \"colorscale\": [[0.0, \"#0d0887\"], [0.1111111111111111, \"#46039f\"], [0.2222222222222222, \"#7201a8\"], [0.3333333333333333, \"#9c179e\"], [0.4444444444444444, \"#bd3786\"], [0.5555555555555556, \"#d8576b\"], [0.6666666666666666, \"#ed7953\"], [0.7777777777777778, \"#fb9f3a\"], [0.8888888888888888, \"#fdca26\"], [1.0, \"#f0f921\"]], \"type\": \"surface\"}], \"table\": [{\"cells\": {\"fill\": {\"color\": \"#EBF0F8\"}, \"line\": {\"color\": \"white\"}}, \"header\": {\"fill\": {\"color\": \"#C8D4E3\"}, \"line\": {\"color\": \"white\"}}, \"type\": \"table\"}]}, \"layout\": {\"annotationdefaults\": {\"arrowcolor\": \"#2a3f5f\", \"arrowhead\": 0, \"arrowwidth\": 1}, \"autotypenumbers\": \"strict\", \"coloraxis\": {\"colorbar\": {\"outlinewidth\": 0, \"ticks\": \"\"}}, \"colorscale\": {\"diverging\": [[0, \"#8e0152\"], [0.1, \"#c51b7d\"], [0.2, \"#de77ae\"], [0.3, \"#f1b6da\"], [0.4, \"#fde0ef\"], [0.5, \"#f7f7f7\"], [0.6, \"#e6f5d0\"], [0.7, \"#b8e186\"], [0.8, \"#7fbc41\"], [0.9, \"#4d9221\"], [1, \"#276419\"]], \"sequential\": [[0.0, \"#0d0887\"], [0.1111111111111111, \"#46039f\"], [0.2222222222222222, \"#7201a8\"], [0.3333333333333333, \"#9c179e\"], [0.4444444444444444, \"#bd3786\"], [0.5555555555555556, \"#d8576b\"], [0.6666666666666666, \"#ed7953\"], [0.7777777777777778, \"#fb9f3a\"], [0.8888888888888888, \"#fdca26\"], [1.0, \"#f0f921\"]], \"sequentialminus\": [[0.0, \"#0d0887\"], [0.1111111111111111, \"#46039f\"], [0.2222222222222222, \"#7201a8\"], [0.3333333333333333, \"#9c179e\"], [0.4444444444444444, \"#bd3786\"], [0.5555555555555556, \"#d8576b\"], [0.6666666666666666, \"#ed7953\"], [0.7777777777777778, \"#fb9f3a\"], [0.8888888888888888, \"#fdca26\"], [1.0, \"#f0f921\"]]}, \"colorway\": [\"#636efa\", \"#EF553B\", \"#00cc96\", \"#ab63fa\", \"#FFA15A\", \"#19d3f3\", \"#FF6692\", \"#B6E880\", \"#FF97FF\", \"#FECB52\"], \"font\": {\"color\": \"#2a3f5f\"}, \"geo\": {\"bgcolor\": \"white\", \"lakecolor\": \"white\", \"landcolor\": \"#E5ECF6\", \"showlakes\": true, \"showland\": true, \"subunitcolor\": \"white\"}, \"hoverlabel\": {\"align\": \"left\"}, \"hovermode\": \"closest\", \"mapbox\": {\"style\": \"light\"}, \"paper_bgcolor\": \"white\", \"plot_bgcolor\": \"#E5ECF6\", \"polar\": {\"angularaxis\": {\"gridcolor\": \"white\", \"linecolor\": \"white\", \"ticks\": \"\"}, \"bgcolor\": \"#E5ECF6\", \"radialaxis\": {\"gridcolor\": \"white\", \"linecolor\": \"white\", \"ticks\": \"\"}}, \"scene\": {\"xaxis\": {\"backgroundcolor\": \"#E5ECF6\", \"gridcolor\": \"white\", \"gridwidth\": 2, \"linecolor\": \"white\", \"showbackground\": true, \"ticks\": \"\", \"zerolinecolor\": \"white\"}, \"yaxis\": {\"backgroundcolor\": \"#E5ECF6\", \"gridcolor\": \"white\", \"gridwidth\": 2, \"linecolor\": \"white\", \"showbackground\": true, \"ticks\": \"\", \"zerolinecolor\": \"white\"}, \"zaxis\": {\"backgroundcolor\": \"#E5ECF6\", \"gridcolor\": \"white\", \"gridwidth\": 2, \"linecolor\": \"white\", \"showbackground\": true, \"ticks\": \"\", \"zerolinecolor\": \"white\"}}, \"shapedefaults\": {\"line\": {\"color\": \"#2a3f5f\"}}, \"ternary\": {\"aaxis\": {\"gridcolor\": \"white\", \"linecolor\": \"white\", \"ticks\": \"\"}, \"baxis\": {\"gridcolor\": \"white\", \"linecolor\": \"white\", \"ticks\": \"\"}, \"bgcolor\": \"#E5ECF6\", \"caxis\": {\"gridcolor\": \"white\", \"linecolor\": \"white\", \"ticks\": \"\"}}, \"title\": {\"x\": 0.05}, \"xaxis\": {\"automargin\": true, \"gridcolor\": \"white\", \"linecolor\": \"white\", \"ticks\": \"\", \"title\": {\"standoff\": 15}, \"zerolinecolor\": \"white\", \"zerolinewidth\": 2}, \"yaxis\": {\"automargin\": true, \"gridcolor\": \"white\", \"linecolor\": \"white\", \"ticks\": \"\", \"title\": {\"standoff\": 15}, \"zerolinecolor\": \"white\", \"zerolinewidth\": 2}}}, \"title\": {\"text\": \"Digit 8 - Cycle file 110_cycles.vtk\"}, \"width\": 400, \"xaxis\": {\"anchor\": \"y\", \"constrain\": \"domain\", \"domain\": [0.0, 1.0], \"scaleanchor\": \"y\", \"showticklabels\": false}, \"yaxis\": {\"anchor\": \"x\", \"autorange\": \"reversed\", \"constrain\": \"domain\", \"domain\": [0.0, 1.0], \"showticklabels\": false}},                        {\"responsive\": true}                    ).then(function(){\n",
       "                            \n",
       "var gd = document.getElementById('417e8ea4-e85d-4d74-95f0-270ce44e4636');\n",
       "var x = new MutationObserver(function (mutations, observer) {{\n",
       "        var display = window.getComputedStyle(gd).display;\n",
       "        if (!display || display === 'none') {{\n",
       "            console.log([gd, 'removed!']);\n",
       "            Plotly.purge(gd);\n",
       "            observer.disconnect();\n",
       "        }}\n",
       "}});\n",
       "\n",
       "// Listen for the removal of the full notebook cells\n",
       "var notebookContainer = gd.closest('#notebook-container');\n",
       "if (notebookContainer) {{\n",
       "    x.observe(notebookContainer, {childList: true});\n",
       "}}\n",
       "\n",
       "// Listen for the clearing of the current output cell\n",
       "var outputEl = gd.closest('.output');\n",
       "if (outputEl) {{\n",
       "    x.observe(outputEl, {childList: true});\n",
       "}}\n",
       "\n",
       "                        })                };                });            </script>        </div>"
      ]
     },
     "metadata": {},
     "output_type": "display_data"
    }
   ],
   "source": [
    "digitPrefix = \"8/110\"\n",
    "pngFile = os.path.join(IMG_DIR, digitPrefix+\".png\")\n",
    "img = io.imread(pngFile)\n",
    "\n",
    "cycleFile = os.path.join(VTK_DIR, digitPrefix+\"_cycles.vtk\")\n",
    "visualizeCycles(img, cycleFile)"
   ]
  },
  {
   "cell_type": "markdown",
   "id": "parliamentary-application",
   "metadata": {},
   "source": [
    "or overlayed to the filtration that originated the cycles"
   ]
  },
  {
   "cell_type": "code",
   "execution_count": 12,
   "id": "characteristic-civilian",
   "metadata": {},
   "outputs": [
    {
     "data": {
      "application/vnd.plotly.v1+json": {
       "config": {
        "plotlyServerURL": "https://plot.ly"
       },
       "data": [
        {
         "coloraxis": "coloraxis",
         "hovertemplate": "x: %{x}<br>y: %{y}<br>color: %{z}<extra></extra>",
         "name": "0",
         "type": "heatmap",
         "xaxis": "x",
         "yaxis": "y",
         "z": [
          [
           1,
           0.9521149359930099,
           0.9065323898236053,
           0.8637255158222276,
           0.8179698292958438,
           0.7753891632050013,
           0.7294072687680824,
           0.6871346324193256,
           0.6408447082403211,
           0.599015952800757,
           0.5631846971326318,
           0.5352680889283989,
           0.5111478411436349,
           0.4780913122857639,
           0.456233920662365,
           0.44852465403521075,
           0.44852465403521075,
           0.44852465403521075,
           0.44852465403521075,
           0.44852465403521075,
           0.44852465403521075,
           0.456233920662365,
           0.4780913122857639,
           0.5111478411436349,
           0.5522821477125597,
           0.599015952800757,
           0.6408447082403211,
           0.6871346324193256
          ],
          [
           0.9624453218749912,
           0.9120460954256177,
           0.8637255158222276,
           0.8179698292958438,
           0.7753891632050013,
           0.7294072687680824,
           0.6871346324193256,
           0.6408447082403211,
           0.599015952800757,
           0.5522821477125597,
           0.5111478411436349,
           0.4780913122857639,
           0.456233920662365,
           0.42382301775391285,
           0.39606381120302825,
           0.38590146692678656,
           0.38590146692678656,
           0.38590146692678656,
           0.38590146692678656,
           0.38590146692678656,
           0.38590146692678656,
           0.39606381120302825,
           0.42382301775391285,
           0.4637195871847982,
           0.5111478411436349,
           0.5522821477125597,
           0.599015952800757,
           0.6496141299063115
          ],
          [
           0.9283374886637493,
           0.8754052420587104,
           0.8242637766857556,
           0.7753891632050013,
           0.7294072687680824,
           0.6871346324193256,
           0.6408447082403211,
           0.599015952800757,
           0.5522821477125597,
           0.5111478411436349,
           0.4637195871847982,
           0.42382301775391285,
           0.39606381120302825,
           0.37515702665703693,
           0.338061608943639,
           0.32327827981836244,
           0.32327827981836244,
           0.32327827981836244,
           0.32327827981836244,
           0.32327827981836244,
           0.32327827981836244,
           0.338061608943639,
           0.37515702665703693,
           0.42382301775391285,
           0.4637195871847982,
           0.5111478411436349,
           0.5631846971326318,
           0.6181210156278888
          ],
          [
           0.8981804223121386,
           0.8427770783196743,
           0.7888178712116378,
           0.7367369303670492,
           0.6871346324193256,
           0.6408447082403211,
           0.599015952800757,
           0.5522821477125597,
           0.5111478411436349,
           0.4637195871847982,
           0.42382301775391285,
           0.37515702665703693,
           0.338061608943639,
           0.32327827981836244,
           0.2865944661292755,
           0.2606550927099383,
           0.2606550927099383,
           0.2606550927099383,
           0.2606550927099383,
           0.2606550927099383,
           0.2606550927099383,
           0.2865944661292755,
           0.338061608943639,
           0.37515702665703693,
           0.42382301775391285,
           0.4780913122857639,
           0.5352680889283989,
           0.5940957168045423
          ],
          [
           0.8725042722552838,
           0.8147987705276545,
           0.7581507189700136,
           0.7029161810895566,
           0.6496141299063115,
           0.599015952800757,
           0.5522821477125597,
           0.5111478411436349,
           0.4637195871847982,
           0.42382301775391285,
           0.37515702665703693,
           0.338061608943639,
           0.2865944661292755,
           0.2606550927099383,
           0.2606550927099383,
           0.13540871849308997,
           0.13540871849308997,
           0.13540871849308997,
           0.13540871849308997,
           0.13540871849308997,
           0.13540871849308997,
           0.2606550927099383,
           0.2865944661292755,
           0.338061608943639,
           0.39606381120302825,
           0.456233920662365,
           0.5173487586707409,
           0.578953881672491
          ],
          [
           0.851837173578318,
           0.7921276224060565,
           0.7330846507996105,
           0.6749558897853342,
           0.6181210156278888,
           0.5631846971326318,
           0.5111478411436349,
           0.4637195871847982,
           0.42382301775391285,
           0.37515702665703693,
           0.338061608943639,
           0.2865944661292755,
           0.2606550927099383,
           0.13540871849308997,
           0.13540871849308997,
           0.10946934507375274,
           0.07278553138466584,
           0.07278553138466584,
           0.07278553138466584,
           0.07278553138466584,
           0.10946934507375274,
           0.13540871849308997,
           0.2606550927099383,
           0.32327827981836244,
           0.38590146692678656,
           0.44852465403521075,
           0.5111478411436349,
           0.5737710282520591
          ],
          [
           0.8366656117399678,
           0.7753891632050013,
           0.7144359357232161,
           0.6539355893678169,
           0.5940957168045423,
           0.5352680889283989,
           0.4780913122857639,
           0.42382301775391285,
           0.37515702665703693,
           0.338061608943639,
           0.2865944661292755,
           0.2606550927099383,
           0.13540871849308997,
           0.10946934507375274,
           0.07278553138466584,
           0.10946934507375274,
           0.13540871849308997,
           0.13540871849308997,
           0.10946934507375274,
           0.05800220225938924,
           0.07278553138466584,
           0.13540871849308997,
           0.2606550927099383,
           0.32327827981836244,
           0.38590146692678656,
           0.44852465403521075,
           0.5111478411436349,
           0.5737710282520591
          ],
          [
           0.8273871470393579,
           0.7651089834459368,
           0.7029161810895566,
           0.6408447082403211,
           0.578953881672491,
           0.5173487586707409,
           0.456233920662365,
           0.39606381120302825,
           0.338061608943639,
           0.2865944661292755,
           0.2606550927099383,
           0.13540871849308997,
           0.10946934507375274,
           0.10946934507375274,
           0.13540871849308997,
           0.13540871849308997,
           0.2606550927099383,
           0.2606550927099383,
           0.13540871849308997,
           0.07278553138466584,
           0.07278553138466584,
           0.13540871849308997,
           0.2606550927099383,
           0.32327827981836244,
           0.38590146692678656,
           0.44852465403521075,
           0.5111478411436349,
           0.5737710282520591
          ],
          [
           0.8242637766857556,
           0.7616405895773314,
           0.6990174024689073,
           0.6363942153604831,
           0.5737710282520591,
           0.5111478411436349,
           0.44852465403521075,
           0.38590146692678656,
           0.32327827981836244,
           0.2606550927099383,
           0.13540871849308997,
           0.10946934507375274,
           0.07278553138466584,
           0.13540871849308997,
           0.2606550927099383,
           0.2606550927099383,
           0.2606550927099383,
           0.13540871849308997,
           0.10946934507375274,
           0.05800220225938924,
           0.10946934507375274,
           0.13540871849308997,
           0.2606550927099383,
           0.32327827981836244,
           0.38590146692678656,
           0.44852465403521075,
           0.5111478411436349,
           0.5737710282520591
          ],
          [
           0.8242637766857556,
           0.7616405895773314,
           0.6990174024689073,
           0.6363942153604831,
           0.5737710282520591,
           0.5111478411436349,
           0.44852465403521075,
           0.38590146692678656,
           0.32327827981836244,
           0.2606550927099383,
           0.13540871849308997,
           0.10946934507375274,
           0.07278553138466584,
           0.13540871849308997,
           0.2606550927099383,
           0.2606550927099383,
           0.13540871849308997,
           0.10946934507375274,
           0.05800220225938924,
           0.07278553138466584,
           0.13540871849308997,
           0.2606550927099383,
           0.2865944661292755,
           0.338061608943639,
           0.39606381120302825,
           0.456233920662365,
           0.5173487586707409,
           0.578953881672491
          ],
          [
           0.8179698292958438,
           0.7651089834459368,
           0.7029161810895566,
           0.6408447082403211,
           0.578953881672491,
           0.5173487586707409,
           0.456233920662365,
           0.39606381120302825,
           0.338061608943639,
           0.2865944661292755,
           0.2606550927099383,
           0.13540871849308997,
           0.07278553138466584,
           0.10946934507375274,
           0.13540871849308997,
           0.13540871849308997,
           0.10946934507375274,
           0.05800220225938924,
           0.020906784545991337,
           0.07278553138466584,
           0.13540871849308997,
           0.2606550927099383,
           0.32327827981836244,
           0.37515702665703693,
           0.42382301775391285,
           0.4780913122857639,
           0.5352680889283989,
           0.5940957168045423
          ],
          [
           0.7753891632050013,
           0.7294072687680824,
           0.6871346324193256,
           0.6496141299063115,
           0.5940957168045423,
           0.5352680889283989,
           0.4780913122857639,
           0.42382301775391285,
           0.37515702665703693,
           0.32327827981836244,
           0.2606550927099383,
           0.13540871849308997,
           0.07278553138466584,
           0.05800220225938924,
           0.07278553138466584,
           0.07278553138466584,
           0.05800220225938924,
           0.05800220225938924,
           0.07278553138466584,
           0.10946934507375274,
           0.13540871849308997,
           0.2606550927099383,
           0.32327827981836244,
           0.38590146692678656,
           0.44852465403521075,
           0.5111478411436349,
           0.5631846971326318,
           0.6181210156278888
          ],
          [
           0.7367369303670492,
           0.6871346324193256,
           0.6408447082403211,
           0.599015952800757,
           0.5631846971326318,
           0.5352680889283989,
           0.5111478411436349,
           0.44852465403521075,
           0.38590146692678656,
           0.32327827981836244,
           0.2606550927099383,
           0.13540871849308997,
           0.07278553138466584,
           0.010162344276241698,
           0.010162344276241698,
           0.020906784545991337,
           0.05800220225938924,
           0.10946934507375274,
           0.13540871849308997,
           0.13540871849308997,
           0.2606550927099383,
           0.2865944661292755,
           0.338061608943639,
           0.39606381120302825,
           0.456233920662365,
           0.5173487586707409,
           0.578953881672491,
           0.6408447082403211
          ],
          [
           0.7029161810895566,
           0.6496141299063115,
           0.599015952800757,
           0.5522821477125597,
           0.5111478411436349,
           0.4780913122857639,
           0.456233920662365,
           0.42382301775391285,
           0.37515702665703693,
           0.32327827981836244,
           0.2606550927099383,
           0.13540871849308997,
           0.07278553138466584,
           0.010162344276241698,
           0,
           0.05800220225938924,
           0.10946934507375274,
           0.13540871849308997,
           0.2606550927099383,
           0.2606550927099383,
           0.2865944661292755,
           0.338061608943639,
           0.37515702665703693,
           0.42382301775391285,
           0.4780913122857639,
           0.5352680889283989,
           0.5940957168045423,
           0.6539355893678169
          ],
          [
           0.6749558897853342,
           0.6181210156278888,
           0.5631846971326318,
           0.5111478411436349,
           0.4637195871847982,
           0.42382301775391285,
           0.39606381120302825,
           0.37515702665703693,
           0.338061608943639,
           0.2865944661292755,
           0.2606550927099383,
           0.13540871849308997,
           0.07278553138466584,
           0.010162344276241698,
           0.010162344276241698,
           0.07278553138466584,
           0.13540871849308997,
           0.2606550927099383,
           0.2865944661292755,
           0.32327827981836244,
           0.338061608943639,
           0.37515702665703693,
           0.42382301775391285,
           0.4637195871847982,
           0.5111478411436349,
           0.5631846971326318,
           0.6181210156278888,
           0.6749558897853342
          ],
          [
           0.6539355893678169,
           0.5940957168045423,
           0.5352680889283989,
           0.4780913122857639,
           0.42382301775391285,
           0.37515702665703693,
           0.338061608943639,
           0.32327827981836244,
           0.2865944661292755,
           0.2606550927099383,
           0.13540871849308997,
           0.10946934507375274,
           0.05800220225938924,
           0.07278553138466584,
           0.07278553138466584,
           0.05800220225938924,
           0.10946934507375274,
           0.13540871849308997,
           0.2606550927099383,
           0.32327827981836244,
           0.37515702665703693,
           0.42382301775391285,
           0.4637195871847982,
           0.5111478411436349,
           0.5522821477125597,
           0.599015952800757,
           0.6496141299063115,
           0.7029161810895566
          ],
          [
           0.6408447082403211,
           0.578953881672491,
           0.5173487586707409,
           0.456233920662365,
           0.39606381120302825,
           0.338061608943639,
           0.2865944661292755,
           0.2606550927099383,
           0.2606550927099383,
           0.13540871849308997,
           0.10946934507375274,
           0.07278553138466584,
           0.10946934507375274,
           0.13540871849308997,
           0.13540871849308997,
           0.10946934507375274,
           0.07278553138466584,
           0.13540871849308997,
           0.2606550927099383,
           0.2865944661292755,
           0.338061608943639,
           0.39606381120302825,
           0.456233920662365,
           0.5173487586707409,
           0.578953881672491,
           0.6408447082403211,
           0.6871346324193256,
           0.7367369303670492
          ],
          [
           0.6181210156278888,
           0.5631846971326318,
           0.5111478411436349,
           0.44852465403521075,
           0.38590146692678656,
           0.32327827981836244,
           0.2606550927099383,
           0.13540871849308997,
           0.13540871849308997,
           0.10946934507375274,
           0.10946934507375274,
           0.13540871849308997,
           0.13540871849308997,
           0.2606550927099383,
           0.2606550927099383,
           0.13540871849308997,
           0.07278553138466584,
           0.10946934507375274,
           0.13540871849308997,
           0.2606550927099383,
           0.32327827981836244,
           0.38590146692678656,
           0.44852465403521075,
           0.5111478411436349,
           0.5737710282520591,
           0.6363942153604831,
           0.6990174024689073,
           0.7616405895773314
          ],
          [
           0.5940957168045423,
           0.5352680889283989,
           0.4780913122857639,
           0.42382301775391285,
           0.37515702665703693,
           0.32327827981836244,
           0.2606550927099383,
           0.13540871849308997,
           0.07278553138466584,
           0.07278553138466584,
           0.13540871849308997,
           0.2606550927099383,
           0.2606550927099383,
           0.2865944661292755,
           0.2606550927099383,
           0.13540871849308997,
           0.07278553138466584,
           0.07278553138466584,
           0.13540871849308997,
           0.2606550927099383,
           0.32327827981836244,
           0.38590146692678656,
           0.44852465403521075,
           0.5111478411436349,
           0.5737710282520591,
           0.6363942153604831,
           0.6990174024689073,
           0.7616405895773314
          ],
          [
           0.578953881672491,
           0.5173487586707409,
           0.456233920662365,
           0.39606381120302825,
           0.338061608943639,
           0.2865944661292755,
           0.2606550927099383,
           0.13540871849308997,
           0.07278553138466584,
           0.10946934507375274,
           0.13540871849308997,
           0.2606550927099383,
           0.2865944661292755,
           0.2606550927099383,
           0.2606550927099383,
           0.13540871849308997,
           0.07278553138466584,
           0.10946934507375274,
           0.13540871849308997,
           0.2606550927099383,
           0.32327827981836244,
           0.38590146692678656,
           0.44852465403521075,
           0.5111478411436349,
           0.5737710282520591,
           0.6363942153604831,
           0.6990174024689073,
           0.7616405895773314
          ],
          [
           0.5737710282520591,
           0.5111478411436349,
           0.44852465403521075,
           0.38590146692678656,
           0.32327827981836244,
           0.2606550927099383,
           0.13540871849308997,
           0.10946934507375274,
           0.07278553138466584,
           0.13540871849308997,
           0.2606550927099383,
           0.2606550927099383,
           0.2606550927099383,
           0.13540871849308997,
           0.13540871849308997,
           0.10946934507375274,
           0.07278553138466584,
           0.13540871849308997,
           0.2606550927099383,
           0.2865944661292755,
           0.338061608943639,
           0.39606381120302825,
           0.456233920662365,
           0.5173487586707409,
           0.578953881672491,
           0.6408447082403211,
           0.7029161810895566,
           0.7651089834459368
          ],
          [
           0.5737710282520591,
           0.5111478411436349,
           0.44852465403521075,
           0.38590146692678656,
           0.32327827981836244,
           0.2606550927099383,
           0.13540871849308997,
           0.07278553138466584,
           0.05800220225938924,
           0.10946934507375274,
           0.13540871849308997,
           0.13540871849308997,
           0.13540871849308997,
           0.10946934507375274,
           0.07278553138466584,
           0.07278553138466584,
           0.10946934507375274,
           0.13540871849308997,
           0.2606550927099383,
           0.32327827981836244,
           0.37515702665703693,
           0.42382301775391285,
           0.4780913122857639,
           0.5352680889283989,
           0.5940957168045423,
           0.6539355893678169,
           0.7144359357232161,
           0.7753891632050013
          ],
          [
           0.5737710282520591,
           0.5111478411436349,
           0.44852465403521075,
           0.38590146692678656,
           0.32327827981836244,
           0.2606550927099383,
           0.13540871849308997,
           0.10946934507375274,
           0.07278553138466584,
           0.07278553138466584,
           0.07278553138466584,
           0.07278553138466584,
           0.07278553138466584,
           0.10946934507375274,
           0.13540871849308997,
           0.13540871849308997,
           0.13540871849308997,
           0.2606550927099383,
           0.2865944661292755,
           0.338061608943639,
           0.39606381120302825,
           0.456233920662365,
           0.5111478411436349,
           0.5631846971326318,
           0.6181210156278888,
           0.6749558897853342,
           0.7330846507996105,
           0.7921276224060565
          ],
          [
           0.578953881672491,
           0.5173487586707409,
           0.456233920662365,
           0.39606381120302825,
           0.338061608943639,
           0.2865944661292755,
           0.2606550927099383,
           0.13540871849308997,
           0.13540871849308997,
           0.13540871849308997,
           0.13540871849308997,
           0.13540871849308997,
           0.13540871849308997,
           0.13540871849308997,
           0.2606550927099383,
           0.2606550927099383,
           0.2606550927099383,
           0.2865944661292755,
           0.338061608943639,
           0.37515702665703693,
           0.42382301775391285,
           0.4780913122857639,
           0.5352680889283989,
           0.5940957168045423,
           0.6496141299063115,
           0.7029161810895566,
           0.7581507189700136,
           0.8147987705276545
          ],
          [
           0.5940957168045423,
           0.5352680889283989,
           0.4780913122857639,
           0.42382301775391285,
           0.37515702665703693,
           0.338061608943639,
           0.2865944661292755,
           0.2606550927099383,
           0.2606550927099383,
           0.2606550927099383,
           0.2606550927099383,
           0.2606550927099383,
           0.2606550927099383,
           0.2606550927099383,
           0.2865944661292755,
           0.32327827981836244,
           0.32327827981836244,
           0.338061608943639,
           0.37515702665703693,
           0.42382301775391285,
           0.4637195871847982,
           0.5111478411436349,
           0.5631846971326318,
           0.6181210156278888,
           0.6749558897853342,
           0.7330846507996105,
           0.7888178712116378,
           0.8427770783196743
          ],
          [
           0.6181210156278888,
           0.5631846971326318,
           0.5111478411436349,
           0.4637195871847982,
           0.42382301775391285,
           0.37515702665703693,
           0.338061608943639,
           0.32327827981836244,
           0.32327827981836244,
           0.32327827981836244,
           0.32327827981836244,
           0.32327827981836244,
           0.32327827981836244,
           0.32327827981836244,
           0.338061608943639,
           0.37515702665703693,
           0.38590146692678656,
           0.39606381120302825,
           0.42382301775391285,
           0.4637195871847982,
           0.5111478411436349,
           0.5522821477125597,
           0.599015952800757,
           0.6496141299063115,
           0.7029161810895566,
           0.7581507189700136,
           0.8147987705276545,
           0.8725042722552838
          ],
          [
           0.6496141299063115,
           0.599015952800757,
           0.5522821477125597,
           0.5111478411436349,
           0.4637195871847982,
           0.42382301775391285,
           0.39606381120302825,
           0.38590146692678656,
           0.38590146692678656,
           0.38590146692678656,
           0.38590146692678656,
           0.38590146692678656,
           0.38590146692678656,
           0.38590146692678656,
           0.39606381120302825,
           0.42382301775391285,
           0.44852465403521075,
           0.456233920662365,
           0.4780913122857639,
           0.5111478411436349,
           0.5522821477125597,
           0.599015952800757,
           0.6408447082403211,
           0.6871346324193256,
           0.7367369303670492,
           0.7888178712116378,
           0.8427770783196743,
           0.8981804223121386
          ],
          [
           0.6871346324193256,
           0.6408447082403211,
           0.599015952800757,
           0.5522821477125597,
           0.5111478411436349,
           0.4780913122857639,
           0.456233920662365,
           0.44852465403521075,
           0.44852465403521075,
           0.44852465403521075,
           0.44852465403521075,
           0.44852465403521075,
           0.44852465403521075,
           0.44852465403521075,
           0.456233920662365,
           0.4780913122857639,
           0.5111478411436349,
           0.5173487586707409,
           0.5352680889283989,
           0.5631846971326318,
           0.599015952800757,
           0.6408447082403211,
           0.6871346324193256,
           0.7294072687680824,
           0.7753891632050013,
           0.8242637766857556,
           0.8754052420587104,
           0.9283374886637493
          ]
         ]
        },
        {
         "mode": "lines",
         "type": "scatter",
         "x": [
          12,
          12,
          12,
          13,
          13,
          14,
          15,
          16,
          17,
          18,
          19,
          19,
          19,
          19,
          18,
          17,
          16,
          15,
          14,
          13,
          12
         ],
         "y": [
          8,
          9,
          10,
          10,
          11,
          11,
          11,
          11,
          10,
          9,
          8,
          7,
          6,
          5,
          5,
          5,
          5,
          5,
          6,
          7,
          8
         ]
        },
        {
         "mode": "lines",
         "type": "scatter",
         "x": [
          8,
          8,
          9,
          9,
          10,
          11,
          12,
          13,
          14,
          15,
          16,
          16,
          16,
          16,
          16,
          15,
          15,
          14,
          13,
          12,
          11,
          10,
          9,
          9,
          8
         ],
         "y": [
          20,
          21,
          21,
          22,
          22,
          22,
          22,
          21,
          21,
          21,
          20,
          19,
          18,
          17,
          16,
          16,
          15,
          15,
          15,
          16,
          16,
          17,
          18,
          19,
          20
         ]
        },
        {
         "mode": "lines",
         "type": "scatter",
         "x": [
          13,
          13,
          14,
          15,
          15,
          14,
          13
         ],
         "y": [
          19,
          20,
          20,
          19,
          18,
          18,
          19
         ]
        }
       ],
       "layout": {
        "coloraxis": {
         "colorscale": [
          [
           0,
           "rgb(0, 0, 0)"
          ],
          [
           0.09090909090909091,
           "rgb(16, 16, 16)"
          ],
          [
           0.18181818181818182,
           "rgb(38, 38, 38)"
          ],
          [
           0.2727272727272727,
           "rgb(59, 59, 59)"
          ],
          [
           0.36363636363636365,
           "rgb(81, 80, 80)"
          ],
          [
           0.45454545454545453,
           "rgb(102, 101, 101)"
          ],
          [
           0.5454545454545454,
           "rgb(124, 123, 122)"
          ],
          [
           0.6363636363636364,
           "rgb(146, 146, 145)"
          ],
          [
           0.7272727272727273,
           "rgb(171, 171, 170)"
          ],
          [
           0.8181818181818182,
           "rgb(197, 197, 195)"
          ],
          [
           0.9090909090909091,
           "rgb(224, 224, 223)"
          ],
          [
           1,
           "rgb(254, 254, 253)"
          ]
         ],
         "showscale": false
        },
        "height": 400,
        "margin": {
         "t": 60
        },
        "template": {
         "data": {
          "bar": [
           {
            "error_x": {
             "color": "#2a3f5f"
            },
            "error_y": {
             "color": "#2a3f5f"
            },
            "marker": {
             "line": {
              "color": "#E5ECF6",
              "width": 0.5
             }
            },
            "type": "bar"
           }
          ],
          "barpolar": [
           {
            "marker": {
             "line": {
              "color": "#E5ECF6",
              "width": 0.5
             }
            },
            "type": "barpolar"
           }
          ],
          "carpet": [
           {
            "aaxis": {
             "endlinecolor": "#2a3f5f",
             "gridcolor": "white",
             "linecolor": "white",
             "minorgridcolor": "white",
             "startlinecolor": "#2a3f5f"
            },
            "baxis": {
             "endlinecolor": "#2a3f5f",
             "gridcolor": "white",
             "linecolor": "white",
             "minorgridcolor": "white",
             "startlinecolor": "#2a3f5f"
            },
            "type": "carpet"
           }
          ],
          "choropleth": [
           {
            "colorbar": {
             "outlinewidth": 0,
             "ticks": ""
            },
            "type": "choropleth"
           }
          ],
          "contour": [
           {
            "colorbar": {
             "outlinewidth": 0,
             "ticks": ""
            },
            "colorscale": [
             [
              0,
              "#0d0887"
             ],
             [
              0.1111111111111111,
              "#46039f"
             ],
             [
              0.2222222222222222,
              "#7201a8"
             ],
             [
              0.3333333333333333,
              "#9c179e"
             ],
             [
              0.4444444444444444,
              "#bd3786"
             ],
             [
              0.5555555555555556,
              "#d8576b"
             ],
             [
              0.6666666666666666,
              "#ed7953"
             ],
             [
              0.7777777777777778,
              "#fb9f3a"
             ],
             [
              0.8888888888888888,
              "#fdca26"
             ],
             [
              1,
              "#f0f921"
             ]
            ],
            "type": "contour"
           }
          ],
          "contourcarpet": [
           {
            "colorbar": {
             "outlinewidth": 0,
             "ticks": ""
            },
            "type": "contourcarpet"
           }
          ],
          "heatmap": [
           {
            "colorbar": {
             "outlinewidth": 0,
             "ticks": ""
            },
            "colorscale": [
             [
              0,
              "#0d0887"
             ],
             [
              0.1111111111111111,
              "#46039f"
             ],
             [
              0.2222222222222222,
              "#7201a8"
             ],
             [
              0.3333333333333333,
              "#9c179e"
             ],
             [
              0.4444444444444444,
              "#bd3786"
             ],
             [
              0.5555555555555556,
              "#d8576b"
             ],
             [
              0.6666666666666666,
              "#ed7953"
             ],
             [
              0.7777777777777778,
              "#fb9f3a"
             ],
             [
              0.8888888888888888,
              "#fdca26"
             ],
             [
              1,
              "#f0f921"
             ]
            ],
            "type": "heatmap"
           }
          ],
          "heatmapgl": [
           {
            "colorbar": {
             "outlinewidth": 0,
             "ticks": ""
            },
            "colorscale": [
             [
              0,
              "#0d0887"
             ],
             [
              0.1111111111111111,
              "#46039f"
             ],
             [
              0.2222222222222222,
              "#7201a8"
             ],
             [
              0.3333333333333333,
              "#9c179e"
             ],
             [
              0.4444444444444444,
              "#bd3786"
             ],
             [
              0.5555555555555556,
              "#d8576b"
             ],
             [
              0.6666666666666666,
              "#ed7953"
             ],
             [
              0.7777777777777778,
              "#fb9f3a"
             ],
             [
              0.8888888888888888,
              "#fdca26"
             ],
             [
              1,
              "#f0f921"
             ]
            ],
            "type": "heatmapgl"
           }
          ],
          "histogram": [
           {
            "marker": {
             "colorbar": {
              "outlinewidth": 0,
              "ticks": ""
             }
            },
            "type": "histogram"
           }
          ],
          "histogram2d": [
           {
            "colorbar": {
             "outlinewidth": 0,
             "ticks": ""
            },
            "colorscale": [
             [
              0,
              "#0d0887"
             ],
             [
              0.1111111111111111,
              "#46039f"
             ],
             [
              0.2222222222222222,
              "#7201a8"
             ],
             [
              0.3333333333333333,
              "#9c179e"
             ],
             [
              0.4444444444444444,
              "#bd3786"
             ],
             [
              0.5555555555555556,
              "#d8576b"
             ],
             [
              0.6666666666666666,
              "#ed7953"
             ],
             [
              0.7777777777777778,
              "#fb9f3a"
             ],
             [
              0.8888888888888888,
              "#fdca26"
             ],
             [
              1,
              "#f0f921"
             ]
            ],
            "type": "histogram2d"
           }
          ],
          "histogram2dcontour": [
           {
            "colorbar": {
             "outlinewidth": 0,
             "ticks": ""
            },
            "colorscale": [
             [
              0,
              "#0d0887"
             ],
             [
              0.1111111111111111,
              "#46039f"
             ],
             [
              0.2222222222222222,
              "#7201a8"
             ],
             [
              0.3333333333333333,
              "#9c179e"
             ],
             [
              0.4444444444444444,
              "#bd3786"
             ],
             [
              0.5555555555555556,
              "#d8576b"
             ],
             [
              0.6666666666666666,
              "#ed7953"
             ],
             [
              0.7777777777777778,
              "#fb9f3a"
             ],
             [
              0.8888888888888888,
              "#fdca26"
             ],
             [
              1,
              "#f0f921"
             ]
            ],
            "type": "histogram2dcontour"
           }
          ],
          "mesh3d": [
           {
            "colorbar": {
             "outlinewidth": 0,
             "ticks": ""
            },
            "type": "mesh3d"
           }
          ],
          "parcoords": [
           {
            "line": {
             "colorbar": {
              "outlinewidth": 0,
              "ticks": ""
             }
            },
            "type": "parcoords"
           }
          ],
          "pie": [
           {
            "automargin": true,
            "type": "pie"
           }
          ],
          "scatter": [
           {
            "marker": {
             "colorbar": {
              "outlinewidth": 0,
              "ticks": ""
             }
            },
            "type": "scatter"
           }
          ],
          "scatter3d": [
           {
            "line": {
             "colorbar": {
              "outlinewidth": 0,
              "ticks": ""
             }
            },
            "marker": {
             "colorbar": {
              "outlinewidth": 0,
              "ticks": ""
             }
            },
            "type": "scatter3d"
           }
          ],
          "scattercarpet": [
           {
            "marker": {
             "colorbar": {
              "outlinewidth": 0,
              "ticks": ""
             }
            },
            "type": "scattercarpet"
           }
          ],
          "scattergeo": [
           {
            "marker": {
             "colorbar": {
              "outlinewidth": 0,
              "ticks": ""
             }
            },
            "type": "scattergeo"
           }
          ],
          "scattergl": [
           {
            "marker": {
             "colorbar": {
              "outlinewidth": 0,
              "ticks": ""
             }
            },
            "type": "scattergl"
           }
          ],
          "scattermapbox": [
           {
            "marker": {
             "colorbar": {
              "outlinewidth": 0,
              "ticks": ""
             }
            },
            "type": "scattermapbox"
           }
          ],
          "scatterpolar": [
           {
            "marker": {
             "colorbar": {
              "outlinewidth": 0,
              "ticks": ""
             }
            },
            "type": "scatterpolar"
           }
          ],
          "scatterpolargl": [
           {
            "marker": {
             "colorbar": {
              "outlinewidth": 0,
              "ticks": ""
             }
            },
            "type": "scatterpolargl"
           }
          ],
          "scatterternary": [
           {
            "marker": {
             "colorbar": {
              "outlinewidth": 0,
              "ticks": ""
             }
            },
            "type": "scatterternary"
           }
          ],
          "surface": [
           {
            "colorbar": {
             "outlinewidth": 0,
             "ticks": ""
            },
            "colorscale": [
             [
              0,
              "#0d0887"
             ],
             [
              0.1111111111111111,
              "#46039f"
             ],
             [
              0.2222222222222222,
              "#7201a8"
             ],
             [
              0.3333333333333333,
              "#9c179e"
             ],
             [
              0.4444444444444444,
              "#bd3786"
             ],
             [
              0.5555555555555556,
              "#d8576b"
             ],
             [
              0.6666666666666666,
              "#ed7953"
             ],
             [
              0.7777777777777778,
              "#fb9f3a"
             ],
             [
              0.8888888888888888,
              "#fdca26"
             ],
             [
              1,
              "#f0f921"
             ]
            ],
            "type": "surface"
           }
          ],
          "table": [
           {
            "cells": {
             "fill": {
              "color": "#EBF0F8"
             },
             "line": {
              "color": "white"
             }
            },
            "header": {
             "fill": {
              "color": "#C8D4E3"
             },
             "line": {
              "color": "white"
             }
            },
            "type": "table"
           }
          ]
         },
         "layout": {
          "annotationdefaults": {
           "arrowcolor": "#2a3f5f",
           "arrowhead": 0,
           "arrowwidth": 1
          },
          "autotypenumbers": "strict",
          "coloraxis": {
           "colorbar": {
            "outlinewidth": 0,
            "ticks": ""
           }
          },
          "colorscale": {
           "diverging": [
            [
             0,
             "#8e0152"
            ],
            [
             0.1,
             "#c51b7d"
            ],
            [
             0.2,
             "#de77ae"
            ],
            [
             0.3,
             "#f1b6da"
            ],
            [
             0.4,
             "#fde0ef"
            ],
            [
             0.5,
             "#f7f7f7"
            ],
            [
             0.6,
             "#e6f5d0"
            ],
            [
             0.7,
             "#b8e186"
            ],
            [
             0.8,
             "#7fbc41"
            ],
            [
             0.9,
             "#4d9221"
            ],
            [
             1,
             "#276419"
            ]
           ],
           "sequential": [
            [
             0,
             "#0d0887"
            ],
            [
             0.1111111111111111,
             "#46039f"
            ],
            [
             0.2222222222222222,
             "#7201a8"
            ],
            [
             0.3333333333333333,
             "#9c179e"
            ],
            [
             0.4444444444444444,
             "#bd3786"
            ],
            [
             0.5555555555555556,
             "#d8576b"
            ],
            [
             0.6666666666666666,
             "#ed7953"
            ],
            [
             0.7777777777777778,
             "#fb9f3a"
            ],
            [
             0.8888888888888888,
             "#fdca26"
            ],
            [
             1,
             "#f0f921"
            ]
           ],
           "sequentialminus": [
            [
             0,
             "#0d0887"
            ],
            [
             0.1111111111111111,
             "#46039f"
            ],
            [
             0.2222222222222222,
             "#7201a8"
            ],
            [
             0.3333333333333333,
             "#9c179e"
            ],
            [
             0.4444444444444444,
             "#bd3786"
            ],
            [
             0.5555555555555556,
             "#d8576b"
            ],
            [
             0.6666666666666666,
             "#ed7953"
            ],
            [
             0.7777777777777778,
             "#fb9f3a"
            ],
            [
             0.8888888888888888,
             "#fdca26"
            ],
            [
             1,
             "#f0f921"
            ]
           ]
          },
          "colorway": [
           "#636efa",
           "#EF553B",
           "#00cc96",
           "#ab63fa",
           "#FFA15A",
           "#19d3f3",
           "#FF6692",
           "#B6E880",
           "#FF97FF",
           "#FECB52"
          ],
          "font": {
           "color": "#2a3f5f"
          },
          "geo": {
           "bgcolor": "white",
           "lakecolor": "white",
           "landcolor": "#E5ECF6",
           "showlakes": true,
           "showland": true,
           "subunitcolor": "white"
          },
          "hoverlabel": {
           "align": "left"
          },
          "hovermode": "closest",
          "mapbox": {
           "style": "light"
          },
          "paper_bgcolor": "white",
          "plot_bgcolor": "#E5ECF6",
          "polar": {
           "angularaxis": {
            "gridcolor": "white",
            "linecolor": "white",
            "ticks": ""
           },
           "bgcolor": "#E5ECF6",
           "radialaxis": {
            "gridcolor": "white",
            "linecolor": "white",
            "ticks": ""
           }
          },
          "scene": {
           "xaxis": {
            "backgroundcolor": "#E5ECF6",
            "gridcolor": "white",
            "gridwidth": 2,
            "linecolor": "white",
            "showbackground": true,
            "ticks": "",
            "zerolinecolor": "white"
           },
           "yaxis": {
            "backgroundcolor": "#E5ECF6",
            "gridcolor": "white",
            "gridwidth": 2,
            "linecolor": "white",
            "showbackground": true,
            "ticks": "",
            "zerolinecolor": "white"
           },
           "zaxis": {
            "backgroundcolor": "#E5ECF6",
            "gridcolor": "white",
            "gridwidth": 2,
            "linecolor": "white",
            "showbackground": true,
            "ticks": "",
            "zerolinecolor": "white"
           }
          },
          "shapedefaults": {
           "line": {
            "color": "#2a3f5f"
           }
          },
          "ternary": {
           "aaxis": {
            "gridcolor": "white",
            "linecolor": "white",
            "ticks": ""
           },
           "baxis": {
            "gridcolor": "white",
            "linecolor": "white",
            "ticks": ""
           },
           "bgcolor": "#E5ECF6",
           "caxis": {
            "gridcolor": "white",
            "linecolor": "white",
            "ticks": ""
           }
          },
          "title": {
           "x": 0.05
          },
          "xaxis": {
           "automargin": true,
           "gridcolor": "white",
           "linecolor": "white",
           "ticks": "",
           "title": {
            "standoff": 15
           },
           "zerolinecolor": "white",
           "zerolinewidth": 2
          },
          "yaxis": {
           "automargin": true,
           "gridcolor": "white",
           "linecolor": "white",
           "ticks": "",
           "title": {
            "standoff": 15
           },
           "zerolinecolor": "white",
           "zerolinewidth": 2
          }
         }
        },
        "title": {
         "text": "Digit 8 - Cycle file 110_cycles.vtk"
        },
        "width": 400,
        "xaxis": {
         "anchor": "y",
         "constrain": "domain",
         "domain": [
          0,
          1
         ],
         "scaleanchor": "y",
         "showticklabels": false
        },
        "yaxis": {
         "anchor": "x",
         "autorange": "reversed",
         "constrain": "domain",
         "domain": [
          0,
          1
         ],
         "showticklabels": false
        }
       }
      },
      "text/html": [
       "<div>                            <div id=\"0b24390b-aaf2-4ccd-bbd5-bcb2bc5a23cd\" class=\"plotly-graph-div\" style=\"height:400px; width:400px;\"></div>            <script type=\"text/javascript\">                require([\"plotly\"], function(Plotly) {                    window.PLOTLYENV=window.PLOTLYENV || {};                                    if (document.getElementById(\"0b24390b-aaf2-4ccd-bbd5-bcb2bc5a23cd\")) {                    Plotly.newPlot(                        \"0b24390b-aaf2-4ccd-bbd5-bcb2bc5a23cd\",                        [{\"coloraxis\": \"coloraxis\", \"hovertemplate\": \"x: %{x}<br>y: %{y}<br>color: %{z}<extra></extra>\", \"name\": \"0\", \"type\": \"heatmap\", \"xaxis\": \"x\", \"yaxis\": \"y\", \"z\": [[1.0, 0.9521149359930099, 0.9065323898236053, 0.8637255158222276, 0.8179698292958438, 0.7753891632050013, 0.7294072687680824, 0.6871346324193256, 0.6408447082403211, 0.599015952800757, 0.5631846971326318, 0.5352680889283989, 0.5111478411436349, 0.4780913122857639, 0.456233920662365, 0.44852465403521075, 0.44852465403521075, 0.44852465403521075, 0.44852465403521075, 0.44852465403521075, 0.44852465403521075, 0.456233920662365, 0.4780913122857639, 0.5111478411436349, 0.5522821477125597, 0.599015952800757, 0.6408447082403211, 0.6871346324193256], [0.9624453218749912, 0.9120460954256177, 0.8637255158222276, 0.8179698292958438, 0.7753891632050013, 0.7294072687680824, 0.6871346324193256, 0.6408447082403211, 0.599015952800757, 0.5522821477125597, 0.5111478411436349, 0.4780913122857639, 0.456233920662365, 0.42382301775391285, 0.39606381120302825, 0.38590146692678656, 0.38590146692678656, 0.38590146692678656, 0.38590146692678656, 0.38590146692678656, 0.38590146692678656, 0.39606381120302825, 0.42382301775391285, 0.4637195871847982, 0.5111478411436349, 0.5522821477125597, 0.599015952800757, 0.6496141299063115], [0.9283374886637493, 0.8754052420587104, 0.8242637766857556, 0.7753891632050013, 0.7294072687680824, 0.6871346324193256, 0.6408447082403211, 0.599015952800757, 0.5522821477125597, 0.5111478411436349, 0.4637195871847982, 0.42382301775391285, 0.39606381120302825, 0.37515702665703693, 0.338061608943639, 0.32327827981836244, 0.32327827981836244, 0.32327827981836244, 0.32327827981836244, 0.32327827981836244, 0.32327827981836244, 0.338061608943639, 0.37515702665703693, 0.42382301775391285, 0.4637195871847982, 0.5111478411436349, 0.5631846971326318, 0.6181210156278888], [0.8981804223121386, 0.8427770783196743, 0.7888178712116378, 0.7367369303670492, 0.6871346324193256, 0.6408447082403211, 0.599015952800757, 0.5522821477125597, 0.5111478411436349, 0.4637195871847982, 0.42382301775391285, 0.37515702665703693, 0.338061608943639, 0.32327827981836244, 0.2865944661292755, 0.2606550927099383, 0.2606550927099383, 0.2606550927099383, 0.2606550927099383, 0.2606550927099383, 0.2606550927099383, 0.2865944661292755, 0.338061608943639, 0.37515702665703693, 0.42382301775391285, 0.4780913122857639, 0.5352680889283989, 0.5940957168045423], [0.8725042722552838, 0.8147987705276545, 0.7581507189700136, 0.7029161810895566, 0.6496141299063115, 0.599015952800757, 0.5522821477125597, 0.5111478411436349, 0.4637195871847982, 0.42382301775391285, 0.37515702665703693, 0.338061608943639, 0.2865944661292755, 0.2606550927099383, 0.2606550927099383, 0.13540871849308997, 0.13540871849308997, 0.13540871849308997, 0.13540871849308997, 0.13540871849308997, 0.13540871849308997, 0.2606550927099383, 0.2865944661292755, 0.338061608943639, 0.39606381120302825, 0.456233920662365, 0.5173487586707409, 0.578953881672491], [0.851837173578318, 0.7921276224060565, 0.7330846507996105, 0.6749558897853342, 0.6181210156278888, 0.5631846971326318, 0.5111478411436349, 0.4637195871847982, 0.42382301775391285, 0.37515702665703693, 0.338061608943639, 0.2865944661292755, 0.2606550927099383, 0.13540871849308997, 0.13540871849308997, 0.10946934507375274, 0.07278553138466584, 0.07278553138466584, 0.07278553138466584, 0.07278553138466584, 0.10946934507375274, 0.13540871849308997, 0.2606550927099383, 0.32327827981836244, 0.38590146692678656, 0.44852465403521075, 0.5111478411436349, 0.5737710282520591], [0.8366656117399678, 0.7753891632050013, 0.7144359357232161, 0.6539355893678169, 0.5940957168045423, 0.5352680889283989, 0.4780913122857639, 0.42382301775391285, 0.37515702665703693, 0.338061608943639, 0.2865944661292755, 0.2606550927099383, 0.13540871849308997, 0.10946934507375274, 0.07278553138466584, 0.10946934507375274, 0.13540871849308997, 0.13540871849308997, 0.10946934507375274, 0.05800220225938924, 0.07278553138466584, 0.13540871849308997, 0.2606550927099383, 0.32327827981836244, 0.38590146692678656, 0.44852465403521075, 0.5111478411436349, 0.5737710282520591], [0.8273871470393579, 0.7651089834459368, 0.7029161810895566, 0.6408447082403211, 0.578953881672491, 0.5173487586707409, 0.456233920662365, 0.39606381120302825, 0.338061608943639, 0.2865944661292755, 0.2606550927099383, 0.13540871849308997, 0.10946934507375274, 0.10946934507375274, 0.13540871849308997, 0.13540871849308997, 0.2606550927099383, 0.2606550927099383, 0.13540871849308997, 0.07278553138466584, 0.07278553138466584, 0.13540871849308997, 0.2606550927099383, 0.32327827981836244, 0.38590146692678656, 0.44852465403521075, 0.5111478411436349, 0.5737710282520591], [0.8242637766857556, 0.7616405895773314, 0.6990174024689073, 0.6363942153604831, 0.5737710282520591, 0.5111478411436349, 0.44852465403521075, 0.38590146692678656, 0.32327827981836244, 0.2606550927099383, 0.13540871849308997, 0.10946934507375274, 0.07278553138466584, 0.13540871849308997, 0.2606550927099383, 0.2606550927099383, 0.2606550927099383, 0.13540871849308997, 0.10946934507375274, 0.05800220225938924, 0.10946934507375274, 0.13540871849308997, 0.2606550927099383, 0.32327827981836244, 0.38590146692678656, 0.44852465403521075, 0.5111478411436349, 0.5737710282520591], [0.8242637766857556, 0.7616405895773314, 0.6990174024689073, 0.6363942153604831, 0.5737710282520591, 0.5111478411436349, 0.44852465403521075, 0.38590146692678656, 0.32327827981836244, 0.2606550927099383, 0.13540871849308997, 0.10946934507375274, 0.07278553138466584, 0.13540871849308997, 0.2606550927099383, 0.2606550927099383, 0.13540871849308997, 0.10946934507375274, 0.05800220225938924, 0.07278553138466584, 0.13540871849308997, 0.2606550927099383, 0.2865944661292755, 0.338061608943639, 0.39606381120302825, 0.456233920662365, 0.5173487586707409, 0.578953881672491], [0.8179698292958438, 0.7651089834459368, 0.7029161810895566, 0.6408447082403211, 0.578953881672491, 0.5173487586707409, 0.456233920662365, 0.39606381120302825, 0.338061608943639, 0.2865944661292755, 0.2606550927099383, 0.13540871849308997, 0.07278553138466584, 0.10946934507375274, 0.13540871849308997, 0.13540871849308997, 0.10946934507375274, 0.05800220225938924, 0.020906784545991337, 0.07278553138466584, 0.13540871849308997, 0.2606550927099383, 0.32327827981836244, 0.37515702665703693, 0.42382301775391285, 0.4780913122857639, 0.5352680889283989, 0.5940957168045423], [0.7753891632050013, 0.7294072687680824, 0.6871346324193256, 0.6496141299063115, 0.5940957168045423, 0.5352680889283989, 0.4780913122857639, 0.42382301775391285, 0.37515702665703693, 0.32327827981836244, 0.2606550927099383, 0.13540871849308997, 0.07278553138466584, 0.05800220225938924, 0.07278553138466584, 0.07278553138466584, 0.05800220225938924, 0.05800220225938924, 0.07278553138466584, 0.10946934507375274, 0.13540871849308997, 0.2606550927099383, 0.32327827981836244, 0.38590146692678656, 0.44852465403521075, 0.5111478411436349, 0.5631846971326318, 0.6181210156278888], [0.7367369303670492, 0.6871346324193256, 0.6408447082403211, 0.599015952800757, 0.5631846971326318, 0.5352680889283989, 0.5111478411436349, 0.44852465403521075, 0.38590146692678656, 0.32327827981836244, 0.2606550927099383, 0.13540871849308997, 0.07278553138466584, 0.010162344276241698, 0.010162344276241698, 0.020906784545991337, 0.05800220225938924, 0.10946934507375274, 0.13540871849308997, 0.13540871849308997, 0.2606550927099383, 0.2865944661292755, 0.338061608943639, 0.39606381120302825, 0.456233920662365, 0.5173487586707409, 0.578953881672491, 0.6408447082403211], [0.7029161810895566, 0.6496141299063115, 0.599015952800757, 0.5522821477125597, 0.5111478411436349, 0.4780913122857639, 0.456233920662365, 0.42382301775391285, 0.37515702665703693, 0.32327827981836244, 0.2606550927099383, 0.13540871849308997, 0.07278553138466584, 0.010162344276241698, 0.0, 0.05800220225938924, 0.10946934507375274, 0.13540871849308997, 0.2606550927099383, 0.2606550927099383, 0.2865944661292755, 0.338061608943639, 0.37515702665703693, 0.42382301775391285, 0.4780913122857639, 0.5352680889283989, 0.5940957168045423, 0.6539355893678169], [0.6749558897853342, 0.6181210156278888, 0.5631846971326318, 0.5111478411436349, 0.4637195871847982, 0.42382301775391285, 0.39606381120302825, 0.37515702665703693, 0.338061608943639, 0.2865944661292755, 0.2606550927099383, 0.13540871849308997, 0.07278553138466584, 0.010162344276241698, 0.010162344276241698, 0.07278553138466584, 0.13540871849308997, 0.2606550927099383, 0.2865944661292755, 0.32327827981836244, 0.338061608943639, 0.37515702665703693, 0.42382301775391285, 0.4637195871847982, 0.5111478411436349, 0.5631846971326318, 0.6181210156278888, 0.6749558897853342], [0.6539355893678169, 0.5940957168045423, 0.5352680889283989, 0.4780913122857639, 0.42382301775391285, 0.37515702665703693, 0.338061608943639, 0.32327827981836244, 0.2865944661292755, 0.2606550927099383, 0.13540871849308997, 0.10946934507375274, 0.05800220225938924, 0.07278553138466584, 0.07278553138466584, 0.05800220225938924, 0.10946934507375274, 0.13540871849308997, 0.2606550927099383, 0.32327827981836244, 0.37515702665703693, 0.42382301775391285, 0.4637195871847982, 0.5111478411436349, 0.5522821477125597, 0.599015952800757, 0.6496141299063115, 0.7029161810895566], [0.6408447082403211, 0.578953881672491, 0.5173487586707409, 0.456233920662365, 0.39606381120302825, 0.338061608943639, 0.2865944661292755, 0.2606550927099383, 0.2606550927099383, 0.13540871849308997, 0.10946934507375274, 0.07278553138466584, 0.10946934507375274, 0.13540871849308997, 0.13540871849308997, 0.10946934507375274, 0.07278553138466584, 0.13540871849308997, 0.2606550927099383, 0.2865944661292755, 0.338061608943639, 0.39606381120302825, 0.456233920662365, 0.5173487586707409, 0.578953881672491, 0.6408447082403211, 0.6871346324193256, 0.7367369303670492], [0.6181210156278888, 0.5631846971326318, 0.5111478411436349, 0.44852465403521075, 0.38590146692678656, 0.32327827981836244, 0.2606550927099383, 0.13540871849308997, 0.13540871849308997, 0.10946934507375274, 0.10946934507375274, 0.13540871849308997, 0.13540871849308997, 0.2606550927099383, 0.2606550927099383, 0.13540871849308997, 0.07278553138466584, 0.10946934507375274, 0.13540871849308997, 0.2606550927099383, 0.32327827981836244, 0.38590146692678656, 0.44852465403521075, 0.5111478411436349, 0.5737710282520591, 0.6363942153604831, 0.6990174024689073, 0.7616405895773314], [0.5940957168045423, 0.5352680889283989, 0.4780913122857639, 0.42382301775391285, 0.37515702665703693, 0.32327827981836244, 0.2606550927099383, 0.13540871849308997, 0.07278553138466584, 0.07278553138466584, 0.13540871849308997, 0.2606550927099383, 0.2606550927099383, 0.2865944661292755, 0.2606550927099383, 0.13540871849308997, 0.07278553138466584, 0.07278553138466584, 0.13540871849308997, 0.2606550927099383, 0.32327827981836244, 0.38590146692678656, 0.44852465403521075, 0.5111478411436349, 0.5737710282520591, 0.6363942153604831, 0.6990174024689073, 0.7616405895773314], [0.578953881672491, 0.5173487586707409, 0.456233920662365, 0.39606381120302825, 0.338061608943639, 0.2865944661292755, 0.2606550927099383, 0.13540871849308997, 0.07278553138466584, 0.10946934507375274, 0.13540871849308997, 0.2606550927099383, 0.2865944661292755, 0.2606550927099383, 0.2606550927099383, 0.13540871849308997, 0.07278553138466584, 0.10946934507375274, 0.13540871849308997, 0.2606550927099383, 0.32327827981836244, 0.38590146692678656, 0.44852465403521075, 0.5111478411436349, 0.5737710282520591, 0.6363942153604831, 0.6990174024689073, 0.7616405895773314], [0.5737710282520591, 0.5111478411436349, 0.44852465403521075, 0.38590146692678656, 0.32327827981836244, 0.2606550927099383, 0.13540871849308997, 0.10946934507375274, 0.07278553138466584, 0.13540871849308997, 0.2606550927099383, 0.2606550927099383, 0.2606550927099383, 0.13540871849308997, 0.13540871849308997, 0.10946934507375274, 0.07278553138466584, 0.13540871849308997, 0.2606550927099383, 0.2865944661292755, 0.338061608943639, 0.39606381120302825, 0.456233920662365, 0.5173487586707409, 0.578953881672491, 0.6408447082403211, 0.7029161810895566, 0.7651089834459368], [0.5737710282520591, 0.5111478411436349, 0.44852465403521075, 0.38590146692678656, 0.32327827981836244, 0.2606550927099383, 0.13540871849308997, 0.07278553138466584, 0.05800220225938924, 0.10946934507375274, 0.13540871849308997, 0.13540871849308997, 0.13540871849308997, 0.10946934507375274, 0.07278553138466584, 0.07278553138466584, 0.10946934507375274, 0.13540871849308997, 0.2606550927099383, 0.32327827981836244, 0.37515702665703693, 0.42382301775391285, 0.4780913122857639, 0.5352680889283989, 0.5940957168045423, 0.6539355893678169, 0.7144359357232161, 0.7753891632050013], [0.5737710282520591, 0.5111478411436349, 0.44852465403521075, 0.38590146692678656, 0.32327827981836244, 0.2606550927099383, 0.13540871849308997, 0.10946934507375274, 0.07278553138466584, 0.07278553138466584, 0.07278553138466584, 0.07278553138466584, 0.07278553138466584, 0.10946934507375274, 0.13540871849308997, 0.13540871849308997, 0.13540871849308997, 0.2606550927099383, 0.2865944661292755, 0.338061608943639, 0.39606381120302825, 0.456233920662365, 0.5111478411436349, 0.5631846971326318, 0.6181210156278888, 0.6749558897853342, 0.7330846507996105, 0.7921276224060565], [0.578953881672491, 0.5173487586707409, 0.456233920662365, 0.39606381120302825, 0.338061608943639, 0.2865944661292755, 0.2606550927099383, 0.13540871849308997, 0.13540871849308997, 0.13540871849308997, 0.13540871849308997, 0.13540871849308997, 0.13540871849308997, 0.13540871849308997, 0.2606550927099383, 0.2606550927099383, 0.2606550927099383, 0.2865944661292755, 0.338061608943639, 0.37515702665703693, 0.42382301775391285, 0.4780913122857639, 0.5352680889283989, 0.5940957168045423, 0.6496141299063115, 0.7029161810895566, 0.7581507189700136, 0.8147987705276545], [0.5940957168045423, 0.5352680889283989, 0.4780913122857639, 0.42382301775391285, 0.37515702665703693, 0.338061608943639, 0.2865944661292755, 0.2606550927099383, 0.2606550927099383, 0.2606550927099383, 0.2606550927099383, 0.2606550927099383, 0.2606550927099383, 0.2606550927099383, 0.2865944661292755, 0.32327827981836244, 0.32327827981836244, 0.338061608943639, 0.37515702665703693, 0.42382301775391285, 0.4637195871847982, 0.5111478411436349, 0.5631846971326318, 0.6181210156278888, 0.6749558897853342, 0.7330846507996105, 0.7888178712116378, 0.8427770783196743], [0.6181210156278888, 0.5631846971326318, 0.5111478411436349, 0.4637195871847982, 0.42382301775391285, 0.37515702665703693, 0.338061608943639, 0.32327827981836244, 0.32327827981836244, 0.32327827981836244, 0.32327827981836244, 0.32327827981836244, 0.32327827981836244, 0.32327827981836244, 0.338061608943639, 0.37515702665703693, 0.38590146692678656, 0.39606381120302825, 0.42382301775391285, 0.4637195871847982, 0.5111478411436349, 0.5522821477125597, 0.599015952800757, 0.6496141299063115, 0.7029161810895566, 0.7581507189700136, 0.8147987705276545, 0.8725042722552838], [0.6496141299063115, 0.599015952800757, 0.5522821477125597, 0.5111478411436349, 0.4637195871847982, 0.42382301775391285, 0.39606381120302825, 0.38590146692678656, 0.38590146692678656, 0.38590146692678656, 0.38590146692678656, 0.38590146692678656, 0.38590146692678656, 0.38590146692678656, 0.39606381120302825, 0.42382301775391285, 0.44852465403521075, 0.456233920662365, 0.4780913122857639, 0.5111478411436349, 0.5522821477125597, 0.599015952800757, 0.6408447082403211, 0.6871346324193256, 0.7367369303670492, 0.7888178712116378, 0.8427770783196743, 0.8981804223121386], [0.6871346324193256, 0.6408447082403211, 0.599015952800757, 0.5522821477125597, 0.5111478411436349, 0.4780913122857639, 0.456233920662365, 0.44852465403521075, 0.44852465403521075, 0.44852465403521075, 0.44852465403521075, 0.44852465403521075, 0.44852465403521075, 0.44852465403521075, 0.456233920662365, 0.4780913122857639, 0.5111478411436349, 0.5173487586707409, 0.5352680889283989, 0.5631846971326318, 0.599015952800757, 0.6408447082403211, 0.6871346324193256, 0.7294072687680824, 0.7753891632050013, 0.8242637766857556, 0.8754052420587104, 0.9283374886637493]]}, {\"mode\": \"lines\", \"type\": \"scatter\", \"x\": [12.0, 12.0, 12.0, 13.0, 13.0, 14.0, 15.0, 16.0, 17.0, 18.0, 19.0, 19.0, 19.0, 19.0, 18.0, 17.0, 16.0, 15.0, 14.0, 13.0, 12.0], \"y\": [8.0, 9.0, 10.0, 10.0, 11.0, 11.0, 11.0, 11.0, 10.0, 9.0, 8.0, 7.0, 6.0, 5.0, 5.0, 5.0, 5.0, 5.0, 6.0, 7.0, 8.0]}, {\"mode\": \"lines\", \"type\": \"scatter\", \"x\": [8.0, 8.0, 9.0, 9.0, 10.0, 11.0, 12.0, 13.0, 14.0, 15.0, 16.0, 16.0, 16.0, 16.0, 16.0, 15.0, 15.0, 14.0, 13.0, 12.0, 11.0, 10.0, 9.0, 9.0, 8.0], \"y\": [20.0, 21.0, 21.0, 22.0, 22.0, 22.0, 22.0, 21.0, 21.0, 21.0, 20.0, 19.0, 18.0, 17.0, 16.0, 16.0, 15.0, 15.0, 15.0, 16.0, 16.0, 17.0, 18.0, 19.0, 20.0]}, {\"mode\": \"lines\", \"type\": \"scatter\", \"x\": [13.0, 13.0, 14.0, 15.0, 15.0, 14.0, 13.0], \"y\": [19.0, 20.0, 20.0, 19.0, 18.0, 18.0, 19.0]}],                        {\"coloraxis\": {\"colorscale\": [[0.0, \"rgb(0, 0, 0)\"], [0.09090909090909091, \"rgb(16, 16, 16)\"], [0.18181818181818182, \"rgb(38, 38, 38)\"], [0.2727272727272727, \"rgb(59, 59, 59)\"], [0.36363636363636365, \"rgb(81, 80, 80)\"], [0.45454545454545453, \"rgb(102, 101, 101)\"], [0.5454545454545454, \"rgb(124, 123, 122)\"], [0.6363636363636364, \"rgb(146, 146, 145)\"], [0.7272727272727273, \"rgb(171, 171, 170)\"], [0.8181818181818182, \"rgb(197, 197, 195)\"], [0.9090909090909091, \"rgb(224, 224, 223)\"], [1.0, \"rgb(254, 254, 253)\"]], \"showscale\": false}, \"height\": 400, \"margin\": {\"t\": 60}, \"template\": {\"data\": {\"bar\": [{\"error_x\": {\"color\": \"#2a3f5f\"}, \"error_y\": {\"color\": \"#2a3f5f\"}, \"marker\": {\"line\": {\"color\": \"#E5ECF6\", \"width\": 0.5}}, \"type\": \"bar\"}], \"barpolar\": [{\"marker\": {\"line\": {\"color\": \"#E5ECF6\", \"width\": 0.5}}, \"type\": \"barpolar\"}], \"carpet\": [{\"aaxis\": {\"endlinecolor\": \"#2a3f5f\", \"gridcolor\": \"white\", \"linecolor\": \"white\", \"minorgridcolor\": \"white\", \"startlinecolor\": \"#2a3f5f\"}, \"baxis\": {\"endlinecolor\": \"#2a3f5f\", \"gridcolor\": \"white\", \"linecolor\": \"white\", \"minorgridcolor\": \"white\", \"startlinecolor\": \"#2a3f5f\"}, \"type\": \"carpet\"}], \"choropleth\": [{\"colorbar\": {\"outlinewidth\": 0, \"ticks\": \"\"}, \"type\": \"choropleth\"}], \"contour\": [{\"colorbar\": {\"outlinewidth\": 0, \"ticks\": \"\"}, \"colorscale\": [[0.0, \"#0d0887\"], [0.1111111111111111, \"#46039f\"], [0.2222222222222222, \"#7201a8\"], [0.3333333333333333, \"#9c179e\"], [0.4444444444444444, \"#bd3786\"], [0.5555555555555556, \"#d8576b\"], [0.6666666666666666, \"#ed7953\"], [0.7777777777777778, \"#fb9f3a\"], [0.8888888888888888, \"#fdca26\"], [1.0, \"#f0f921\"]], \"type\": \"contour\"}], \"contourcarpet\": [{\"colorbar\": {\"outlinewidth\": 0, \"ticks\": \"\"}, \"type\": \"contourcarpet\"}], \"heatmap\": [{\"colorbar\": {\"outlinewidth\": 0, \"ticks\": \"\"}, \"colorscale\": [[0.0, \"#0d0887\"], [0.1111111111111111, \"#46039f\"], [0.2222222222222222, \"#7201a8\"], [0.3333333333333333, \"#9c179e\"], [0.4444444444444444, \"#bd3786\"], [0.5555555555555556, \"#d8576b\"], [0.6666666666666666, \"#ed7953\"], [0.7777777777777778, \"#fb9f3a\"], [0.8888888888888888, \"#fdca26\"], [1.0, \"#f0f921\"]], \"type\": \"heatmap\"}], \"heatmapgl\": [{\"colorbar\": {\"outlinewidth\": 0, \"ticks\": \"\"}, \"colorscale\": [[0.0, \"#0d0887\"], [0.1111111111111111, \"#46039f\"], [0.2222222222222222, \"#7201a8\"], [0.3333333333333333, \"#9c179e\"], [0.4444444444444444, \"#bd3786\"], [0.5555555555555556, \"#d8576b\"], [0.6666666666666666, \"#ed7953\"], [0.7777777777777778, \"#fb9f3a\"], [0.8888888888888888, \"#fdca26\"], [1.0, \"#f0f921\"]], \"type\": \"heatmapgl\"}], \"histogram\": [{\"marker\": {\"colorbar\": {\"outlinewidth\": 0, \"ticks\": \"\"}}, \"type\": \"histogram\"}], \"histogram2d\": [{\"colorbar\": {\"outlinewidth\": 0, \"ticks\": \"\"}, \"colorscale\": [[0.0, \"#0d0887\"], [0.1111111111111111, \"#46039f\"], [0.2222222222222222, \"#7201a8\"], [0.3333333333333333, \"#9c179e\"], [0.4444444444444444, \"#bd3786\"], [0.5555555555555556, \"#d8576b\"], [0.6666666666666666, \"#ed7953\"], [0.7777777777777778, \"#fb9f3a\"], [0.8888888888888888, \"#fdca26\"], [1.0, \"#f0f921\"]], \"type\": \"histogram2d\"}], \"histogram2dcontour\": [{\"colorbar\": {\"outlinewidth\": 0, \"ticks\": \"\"}, \"colorscale\": [[0.0, \"#0d0887\"], [0.1111111111111111, \"#46039f\"], [0.2222222222222222, \"#7201a8\"], [0.3333333333333333, \"#9c179e\"], [0.4444444444444444, \"#bd3786\"], [0.5555555555555556, \"#d8576b\"], [0.6666666666666666, \"#ed7953\"], [0.7777777777777778, \"#fb9f3a\"], [0.8888888888888888, \"#fdca26\"], [1.0, \"#f0f921\"]], \"type\": \"histogram2dcontour\"}], \"mesh3d\": [{\"colorbar\": {\"outlinewidth\": 0, \"ticks\": \"\"}, \"type\": \"mesh3d\"}], \"parcoords\": [{\"line\": {\"colorbar\": {\"outlinewidth\": 0, \"ticks\": \"\"}}, \"type\": \"parcoords\"}], \"pie\": [{\"automargin\": true, \"type\": \"pie\"}], \"scatter\": [{\"marker\": {\"colorbar\": {\"outlinewidth\": 0, \"ticks\": \"\"}}, \"type\": \"scatter\"}], \"scatter3d\": [{\"line\": {\"colorbar\": {\"outlinewidth\": 0, \"ticks\": \"\"}}, \"marker\": {\"colorbar\": {\"outlinewidth\": 0, \"ticks\": \"\"}}, \"type\": \"scatter3d\"}], \"scattercarpet\": [{\"marker\": {\"colorbar\": {\"outlinewidth\": 0, \"ticks\": \"\"}}, \"type\": \"scattercarpet\"}], \"scattergeo\": [{\"marker\": {\"colorbar\": {\"outlinewidth\": 0, \"ticks\": \"\"}}, \"type\": \"scattergeo\"}], \"scattergl\": [{\"marker\": {\"colorbar\": {\"outlinewidth\": 0, \"ticks\": \"\"}}, \"type\": \"scattergl\"}], \"scattermapbox\": [{\"marker\": {\"colorbar\": {\"outlinewidth\": 0, \"ticks\": \"\"}}, \"type\": \"scattermapbox\"}], \"scatterpolar\": [{\"marker\": {\"colorbar\": {\"outlinewidth\": 0, \"ticks\": \"\"}}, \"type\": \"scatterpolar\"}], \"scatterpolargl\": [{\"marker\": {\"colorbar\": {\"outlinewidth\": 0, \"ticks\": \"\"}}, \"type\": \"scatterpolargl\"}], \"scatterternary\": [{\"marker\": {\"colorbar\": {\"outlinewidth\": 0, \"ticks\": \"\"}}, \"type\": \"scatterternary\"}], \"surface\": [{\"colorbar\": {\"outlinewidth\": 0, \"ticks\": \"\"}, \"colorscale\": [[0.0, \"#0d0887\"], [0.1111111111111111, \"#46039f\"], [0.2222222222222222, \"#7201a8\"], [0.3333333333333333, \"#9c179e\"], [0.4444444444444444, \"#bd3786\"], [0.5555555555555556, \"#d8576b\"], [0.6666666666666666, \"#ed7953\"], [0.7777777777777778, \"#fb9f3a\"], [0.8888888888888888, \"#fdca26\"], [1.0, \"#f0f921\"]], \"type\": \"surface\"}], \"table\": [{\"cells\": {\"fill\": {\"color\": \"#EBF0F8\"}, \"line\": {\"color\": \"white\"}}, \"header\": {\"fill\": {\"color\": \"#C8D4E3\"}, \"line\": {\"color\": \"white\"}}, \"type\": \"table\"}]}, \"layout\": {\"annotationdefaults\": {\"arrowcolor\": \"#2a3f5f\", \"arrowhead\": 0, \"arrowwidth\": 1}, \"autotypenumbers\": \"strict\", \"coloraxis\": {\"colorbar\": {\"outlinewidth\": 0, \"ticks\": \"\"}}, \"colorscale\": {\"diverging\": [[0, \"#8e0152\"], [0.1, \"#c51b7d\"], [0.2, \"#de77ae\"], [0.3, \"#f1b6da\"], [0.4, \"#fde0ef\"], [0.5, \"#f7f7f7\"], [0.6, \"#e6f5d0\"], [0.7, \"#b8e186\"], [0.8, \"#7fbc41\"], [0.9, \"#4d9221\"], [1, \"#276419\"]], \"sequential\": [[0.0, \"#0d0887\"], [0.1111111111111111, \"#46039f\"], [0.2222222222222222, \"#7201a8\"], [0.3333333333333333, \"#9c179e\"], [0.4444444444444444, \"#bd3786\"], [0.5555555555555556, \"#d8576b\"], [0.6666666666666666, \"#ed7953\"], [0.7777777777777778, \"#fb9f3a\"], [0.8888888888888888, \"#fdca26\"], [1.0, \"#f0f921\"]], \"sequentialminus\": [[0.0, \"#0d0887\"], [0.1111111111111111, \"#46039f\"], [0.2222222222222222, \"#7201a8\"], [0.3333333333333333, \"#9c179e\"], [0.4444444444444444, \"#bd3786\"], [0.5555555555555556, \"#d8576b\"], [0.6666666666666666, \"#ed7953\"], [0.7777777777777778, \"#fb9f3a\"], [0.8888888888888888, \"#fdca26\"], [1.0, \"#f0f921\"]]}, \"colorway\": [\"#636efa\", \"#EF553B\", \"#00cc96\", \"#ab63fa\", \"#FFA15A\", \"#19d3f3\", \"#FF6692\", \"#B6E880\", \"#FF97FF\", \"#FECB52\"], \"font\": {\"color\": \"#2a3f5f\"}, \"geo\": {\"bgcolor\": \"white\", \"lakecolor\": \"white\", \"landcolor\": \"#E5ECF6\", \"showlakes\": true, \"showland\": true, \"subunitcolor\": \"white\"}, \"hoverlabel\": {\"align\": \"left\"}, \"hovermode\": \"closest\", \"mapbox\": {\"style\": \"light\"}, \"paper_bgcolor\": \"white\", \"plot_bgcolor\": \"#E5ECF6\", \"polar\": {\"angularaxis\": {\"gridcolor\": \"white\", \"linecolor\": \"white\", \"ticks\": \"\"}, \"bgcolor\": \"#E5ECF6\", \"radialaxis\": {\"gridcolor\": \"white\", \"linecolor\": \"white\", \"ticks\": \"\"}}, \"scene\": {\"xaxis\": {\"backgroundcolor\": \"#E5ECF6\", \"gridcolor\": \"white\", \"gridwidth\": 2, \"linecolor\": \"white\", \"showbackground\": true, \"ticks\": \"\", \"zerolinecolor\": \"white\"}, \"yaxis\": {\"backgroundcolor\": \"#E5ECF6\", \"gridcolor\": \"white\", \"gridwidth\": 2, \"linecolor\": \"white\", \"showbackground\": true, \"ticks\": \"\", \"zerolinecolor\": \"white\"}, \"zaxis\": {\"backgroundcolor\": \"#E5ECF6\", \"gridcolor\": \"white\", \"gridwidth\": 2, \"linecolor\": \"white\", \"showbackground\": true, \"ticks\": \"\", \"zerolinecolor\": \"white\"}}, \"shapedefaults\": {\"line\": {\"color\": \"#2a3f5f\"}}, \"ternary\": {\"aaxis\": {\"gridcolor\": \"white\", \"linecolor\": \"white\", \"ticks\": \"\"}, \"baxis\": {\"gridcolor\": \"white\", \"linecolor\": \"white\", \"ticks\": \"\"}, \"bgcolor\": \"#E5ECF6\", \"caxis\": {\"gridcolor\": \"white\", \"linecolor\": \"white\", \"ticks\": \"\"}}, \"title\": {\"x\": 0.05}, \"xaxis\": {\"automargin\": true, \"gridcolor\": \"white\", \"linecolor\": \"white\", \"ticks\": \"\", \"title\": {\"standoff\": 15}, \"zerolinecolor\": \"white\", \"zerolinewidth\": 2}, \"yaxis\": {\"automargin\": true, \"gridcolor\": \"white\", \"linecolor\": \"white\", \"ticks\": \"\", \"title\": {\"standoff\": 15}, \"zerolinecolor\": \"white\", \"zerolinewidth\": 2}}}, \"title\": {\"text\": \"Digit 8 - Cycle file 110_cycles.vtk\"}, \"width\": 400, \"xaxis\": {\"anchor\": \"y\", \"constrain\": \"domain\", \"domain\": [0.0, 1.0], \"scaleanchor\": \"y\", \"showticklabels\": false}, \"yaxis\": {\"anchor\": \"x\", \"autorange\": \"reversed\", \"constrain\": \"domain\", \"domain\": [0.0, 1.0], \"showticklabels\": false}},                        {\"responsive\": true}                    ).then(function(){\n",
       "                            \n",
       "var gd = document.getElementById('0b24390b-aaf2-4ccd-bbd5-bcb2bc5a23cd');\n",
       "var x = new MutationObserver(function (mutations, observer) {{\n",
       "        var display = window.getComputedStyle(gd).display;\n",
       "        if (!display || display === 'none') {{\n",
       "            console.log([gd, 'removed!']);\n",
       "            Plotly.purge(gd);\n",
       "            observer.disconnect();\n",
       "        }}\n",
       "}});\n",
       "\n",
       "// Listen for the removal of the full notebook cells\n",
       "var notebookContainer = gd.closest('#notebook-container');\n",
       "if (notebookContainer) {{\n",
       "    x.observe(notebookContainer, {childList: true});\n",
       "}}\n",
       "\n",
       "// Listen for the clearing of the current output cell\n",
       "var outputEl = gd.closest('.output');\n",
       "if (outputEl) {{\n",
       "    x.observe(outputEl, {childList: true});\n",
       "}}\n",
       "\n",
       "                        })                };                });            </script>        </div>"
      ]
     },
     "metadata": {},
     "output_type": "display_data"
    }
   ],
   "source": [
    "digitPrefix = \"8/110\"\n",
    "pngFile = os.path.join(IMG_DIR, digitPrefix+\".png\")\n",
    "im = io.imread(pngFile)\n",
    "\n",
    "inside = im > 0\n",
    "outside = im <= 0\n",
    "\n",
    "im1 = ndimage.morphology.distance_transform_edt(inside)\n",
    "im2 = ndimage.morphology.distance_transform_edt(outside)\n",
    "\n",
    "imf = im2-im1\n",
    "imf = (imf - np.min(imf))/np.ptp(imf)\n",
    "\n",
    "cycleFile = os.path.join(VTK_DIR, digitPrefix+\"_cycles.vtk\")\n",
    "visualizeCycles(imf, cycleFile)"
   ]
  },
  {
   "cell_type": "markdown",
   "id": "attached-advantage",
   "metadata": {},
   "source": [
    "# 3. Applications\n",
    "\n",
    "Here we provide two examples where the direct visualization of cycles can be of help.\n",
    "\n",
    "## 3.1. Definition of the most suitable filtration\n",
    "\n",
    "The first scenario where the direct visualization of cycles could be useful is when we are deciding how to create a suitable filtration for the input data. In general, we would like to use the best filtration so to highlight/capture the main features of our input as persistence pairs. Different filtration will naturally lead to different features. The direct visualization of these features can help us in our choice.\n",
    "\n",
    "For example, using the MNIST dataset, we may decide to filter each input image according to the original pixel values, or the opposite order, or to use some other transformation (e.g., distance transform).\n",
    "\n",
    "![filtrations](pictures/filtrations.png)\n",
    "Images generated with `./scripts/filtrations.py`\n",
    "\n",
    "What filtration is the most suitable for our goal? We could better decide by looking at the features created.\n",
    "In this example we pick one of the files encoding a digit `8`."
   ]
  },
  {
   "cell_type": "code",
   "execution_count": 13,
   "id": "owned-museum",
   "metadata": {},
   "outputs": [],
   "source": [
    "digitPrefix = \"8/110\""
   ]
  },
  {
   "cell_type": "markdown",
   "id": "potential-groove",
   "metadata": {},
   "source": [
    "Then select the original fitlration as defined by graylevel pixels values and we visualize the generated cycles."
   ]
  },
  {
   "cell_type": "code",
   "execution_count": 14,
   "id": "ranking-dutch",
   "metadata": {},
   "outputs": [
    {
     "data": {
      "application/vnd.plotly.v1+json": {
       "config": {
        "plotlyServerURL": "https://plot.ly"
       },
       "data": [
        {
         "coloraxis": "coloraxis",
         "hovertemplate": "x: %{x}<br>y: %{y}<br>color: %{z}<extra></extra>",
         "name": "0",
         "type": "heatmap",
         "xaxis": "x",
         "yaxis": "y",
         "z": [
          [
           0,
           0,
           0,
           0,
           0,
           0,
           0,
           0,
           0,
           0,
           0,
           0,
           0,
           0,
           0,
           0,
           0,
           0,
           0,
           0,
           0,
           0,
           0,
           0,
           0,
           0,
           0,
           0
          ],
          [
           0,
           0,
           0,
           0,
           0,
           0,
           0,
           0,
           0,
           0,
           0,
           0,
           0,
           0,
           0,
           0,
           0,
           0,
           0,
           0,
           0,
           0,
           0,
           0,
           0,
           0,
           0,
           0
          ],
          [
           0,
           0,
           0,
           0,
           0,
           0,
           0,
           0,
           0,
           0,
           0,
           0,
           0,
           0,
           0,
           0,
           0,
           0,
           0,
           0,
           0,
           0,
           0,
           0,
           0,
           0,
           0,
           0
          ],
          [
           0,
           0,
           0,
           0,
           0,
           0,
           0,
           0,
           0,
           0,
           0,
           0,
           0,
           0,
           0,
           0,
           0,
           0,
           0,
           0,
           0,
           0,
           0,
           0,
           0,
           0,
           0,
           0
          ],
          [
           0,
           0,
           0,
           0,
           0,
           0,
           0,
           0,
           0,
           0,
           0,
           0,
           0,
           0,
           0,
           50,
           127,
           209,
           178,
           134,
           9,
           0,
           0,
           0,
           0,
           0,
           0,
           0
          ],
          [
           0,
           0,
           0,
           0,
           0,
           0,
           0,
           0,
           0,
           0,
           0,
           0,
           0,
           53,
           178,
           247,
           253,
           253,
           253,
           254,
           167,
           6,
           0,
           0,
           0,
           0,
           0,
           0
          ],
          [
           0,
           0,
           0,
           0,
           0,
           0,
           0,
           0,
           0,
           0,
           0,
           0,
           58,
           235,
           254,
           216,
           107,
           78,
           115,
           254,
           253,
           78,
           0,
           0,
           0,
           0,
           0,
           0
          ],
          [
           0,
           0,
           0,
           0,
           0,
           0,
           0,
           0,
           0,
           0,
           0,
           43,
           237,
           253,
           131,
           10,
           0,
           0,
           53,
           254,
           253,
           78,
           0,
           0,
           0,
           0,
           0,
           0
          ],
          [
           0,
           0,
           0,
           0,
           0,
           0,
           0,
           0,
           0,
           0,
           8,
           183,
           253,
           139,
           0,
           0,
           0,
           31,
           217,
           254,
           200,
           18,
           0,
           0,
           0,
           0,
           0,
           0
          ],
          [
           0,
           0,
           0,
           0,
           0,
           0,
           0,
           0,
           0,
           0,
           8,
           206,
           254,
           58,
           0,
           0,
           102,
           254,
           254,
           218,
           30,
           0,
           0,
           0,
           0,
           0,
           0,
           0
          ],
          [
           0,
           0,
           0,
           0,
           0,
           0,
           0,
           0,
           0,
           0,
           0,
           175,
           253,
           66,
           35,
           125,
           241,
           253,
           200,
           57,
           3,
           0,
           0,
           0,
           0,
           0,
           0,
           0
          ],
          [
           0,
           0,
           0,
           0,
           0,
           0,
           0,
           0,
           0,
           0,
           0,
           175,
           253,
           223,
           224,
           253,
           253,
           253,
           193,
           146,
           27,
           0,
           0,
           0,
           0,
           0,
           0,
           0
          ],
          [
           0,
           0,
           0,
           0,
           0,
           0,
           0,
           0,
           0,
           0,
           0,
           138,
           253,
           253,
           254,
           245,
           185,
           231,
           138,
           8,
           0,
           0,
           0,
           0,
           0,
           0,
           0,
           0
          ],
          [
           0,
           0,
           0,
           0,
           0,
           0,
           0,
           0,
           0,
           0,
           0,
           71,
           245,
           253,
           254,
           253,
           192,
           27,
           0,
           0,
           0,
           0,
           0,
           0,
           0,
           0,
           0,
           0
          ],
          [
           0,
           0,
           0,
           0,
           0,
           0,
           0,
           0,
           0,
           0,
           0,
           41,
           164,
           254,
           255,
           238,
           18,
           0,
           0,
           0,
           0,
           0,
           0,
           0,
           0,
           0,
           0,
           0
          ],
          [
           0,
           0,
           0,
           0,
           0,
           0,
           0,
           0,
           0,
           0,
           108,
           241,
           253,
           207,
           201,
           253,
           226,
           24,
           0,
           0,
           0,
           0,
           0,
           0,
           0,
           0,
           0,
           0
          ],
          [
           0,
           0,
           0,
           0,
           0,
           0,
           0,
           0,
           0,
           102,
           241,
           253,
           195,
           48,
           41,
           241,
           253,
           146,
           0,
           0,
           0,
           0,
           0,
           0,
           0,
           0,
           0,
           0
          ],
          [
           0,
           0,
           0,
           0,
           0,
           0,
           0,
           7,
           152,
           254,
           250,
           116,
           9,
           0,
           0,
           72,
           253,
           250,
           54,
           0,
           0,
           0,
           0,
           0,
           0,
           0,
           0,
           0
          ],
          [
           0,
           0,
           0,
           0,
           0,
           0,
           0,
           40,
           253,
           254,
           121,
           0,
           0,
           0,
           0,
           20,
           253,
           253,
           58,
           0,
           0,
           0,
           0,
           0,
           0,
           0,
           0,
           0
          ],
          [
           0,
           0,
           0,
           0,
           0,
           0,
           0,
           197,
           254,
           218,
           15,
           0,
           0,
           0,
           0,
           43,
           254,
           244,
           45,
           0,
           0,
           0,
           0,
           0,
           0,
           0,
           0,
           0
          ],
          [
           0,
           0,
           0,
           0,
           0,
           0,
           67,
           250,
           253,
           68,
           0,
           0,
           0,
           8,
           103,
           232,
           253,
           124,
           0,
           0,
           0,
           0,
           0,
           0,
           0,
           0,
           0,
           0
          ],
          [
           0,
           0,
           0,
           0,
           0,
           0,
           79,
           253,
           253,
           79,
           18,
           79,
           168,
           205,
           254,
           253,
           168,
           6,
           0,
           0,
           0,
           0,
           0,
           0,
           0,
           0,
           0,
           0
          ],
          [
           0,
           0,
           0,
           0,
           0,
           0,
           36,
           227,
           253,
           254,
           238,
           253,
           253,
           253,
           192,
           109,
           6,
           0,
           0,
           0,
           0,
           0,
           0,
           0,
           0,
           0,
           0,
           0
          ],
          [
           0,
           0,
           0,
           0,
           0,
           0,
           0,
           47,
           230,
           254,
           253,
           222,
           103,
           58,
           0,
           0,
           0,
           0,
           0,
           0,
           0,
           0,
           0,
           0,
           0,
           0,
           0,
           0
          ],
          [
           0,
           0,
           0,
           0,
           0,
           0,
           0,
           0,
           0,
           0,
           0,
           0,
           0,
           0,
           0,
           0,
           0,
           0,
           0,
           0,
           0,
           0,
           0,
           0,
           0,
           0,
           0,
           0
          ],
          [
           0,
           0,
           0,
           0,
           0,
           0,
           0,
           0,
           0,
           0,
           0,
           0,
           0,
           0,
           0,
           0,
           0,
           0,
           0,
           0,
           0,
           0,
           0,
           0,
           0,
           0,
           0,
           0
          ],
          [
           0,
           0,
           0,
           0,
           0,
           0,
           0,
           0,
           0,
           0,
           0,
           0,
           0,
           0,
           0,
           0,
           0,
           0,
           0,
           0,
           0,
           0,
           0,
           0,
           0,
           0,
           0,
           0
          ],
          [
           0,
           0,
           0,
           0,
           0,
           0,
           0,
           0,
           0,
           0,
           0,
           0,
           0,
           0,
           0,
           0,
           0,
           0,
           0,
           0,
           0,
           0,
           0,
           0,
           0,
           0,
           0,
           0
          ]
         ]
        },
        {
         "mode": "lines",
         "type": "scatter",
         "x": [
          6,
          6,
          7,
          7,
          8,
          8,
          9,
          10,
          11,
          12,
          13,
          14,
          15,
          16,
          17,
          17,
          18,
          18,
          18,
          17,
          17,
          16,
          15,
          15,
          15,
          15,
          15,
          14,
          13,
          12,
          11,
          10,
          10,
          9,
          9,
          9,
          10,
          10,
          10,
          9,
          8,
          7,
          7,
          7,
          6
         ],
         "y": [
          21,
          22,
          22,
          23,
          23,
          24,
          24,
          24,
          23,
          23,
          23,
          22,
          22,
          21,
          20,
          19,
          18,
          17,
          16,
          16,
          15,
          15,
          16,
          17,
          18,
          19,
          20,
          20,
          21,
          21,
          21,
          22,
          21,
          21,
          20,
          19,
          18,
          17,
          16,
          16,
          17,
          18,
          19,
          20,
          21
         ]
        },
        {
         "mode": "lines",
         "type": "scatter",
         "x": [
          8,
          8,
          8,
          9,
          10,
          10,
          10,
          9,
          8
         ],
         "y": [
          22,
          23,
          24,
          24,
          23,
          22,
          21,
          21,
          22
         ]
        },
        {
         "mode": "lines",
         "type": "scatter",
         "x": [
          12,
          12,
          13,
          14,
          15,
          15,
          14,
          13,
          12
         ],
         "y": [
          7,
          8,
          8,
          7,
          6,
          5,
          5,
          6,
          7
         ]
        },
        {
         "mode": "lines",
         "type": "scatter",
         "x": [
          15,
          15,
          16,
          17,
          18,
          18,
          18,
          17,
          16,
          16,
          15,
          15,
          16,
          17,
          18,
          18,
          19,
          20,
          21,
          21,
          21,
          20,
          20,
          19,
          18,
          17,
          16,
          15
         ],
         "y": [
          5,
          6,
          6,
          6,
          6,
          7,
          8,
          8,
          9,
          10,
          11,
          12,
          12,
          12,
          11,
          10,
          9,
          8,
          7,
          6,
          5,
          5,
          4,
          4,
          4,
          4,
          4,
          5
         ]
        },
        {
         "mode": "lines",
         "type": "scatter",
         "x": [
          13,
          13,
          14,
          15,
          15,
          14,
          13
         ],
         "y": [
          21,
          22,
          22,
          21,
          20,
          20,
          21
         ]
        },
        {
         "mode": "lines",
         "type": "scatter",
         "x": [
          5,
          5,
          5,
          5,
          6,
          6,
          7,
          8,
          9,
          10,
          11,
          12,
          13,
          14,
          15,
          16,
          17,
          18,
          18,
          19,
          19,
          19,
          19,
          18,
          18,
          18,
          17,
          18,
          19,
          20,
          21,
          21,
          21,
          22,
          22,
          22,
          22,
          22,
          21,
          21,
          20,
          19,
          18,
          17,
          16,
          15,
          14,
          13,
          12,
          11,
          10,
          9,
          9,
          9,
          10,
          10,
          10,
          10,
          10,
          9,
          8,
          7,
          6,
          6,
          6,
          5
         ],
         "y": [
          20,
          21,
          22,
          23,
          23,
          24,
          24,
          24,
          24,
          24,
          24,
          24,
          24,
          23,
          23,
          23,
          22,
          21,
          20,
          19,
          18,
          17,
          16,
          16,
          15,
          14,
          14,
          13,
          13,
          12,
          11,
          10,
          9,
          8,
          7,
          6,
          5,
          4,
          4,
          3,
          3,
          3,
          3,
          3,
          3,
          3,
          4,
          4,
          5,
          6,
          7,
          8,
          9,
          10,
          10,
          11,
          12,
          13,
          14,
          15,
          16,
          16,
          17,
          18,
          19,
          20
         ]
        },
        {
         "mode": "lines",
         "type": "scatter",
         "x": [
          7,
          7,
          8,
          9,
          10,
          10,
          10,
          9,
          8,
          8,
          7
         ],
         "y": [
          19,
          20,
          20,
          19,
          18,
          17,
          16,
          16,
          17,
          18,
          19
         ]
        },
        {
         "mode": "lines",
         "type": "scatter",
         "x": [
          12,
          12,
          11,
          12
         ],
         "y": [
          7,
          8,
          8,
          7
         ]
        },
        {
         "mode": "lines",
         "type": "scatter",
         "x": [
          11,
          11,
          12,
          13,
          13,
          12,
          11
         ],
         "y": [
          9,
          10,
          10,
          9,
          8,
          8,
          9
         ]
        },
        {
         "mode": "lines",
         "type": "scatter",
         "x": [
          16,
          16,
          17,
          18,
          18,
          17,
          16
         ],
         "y": [
          11,
          12,
          12,
          11,
          10,
          10,
          11
         ]
        },
        {
         "mode": "lines",
         "type": "scatter",
         "x": [
          7,
          7,
          8,
          7
         ],
         "y": [
          20,
          21,
          20,
          20
         ]
        },
        {
         "mode": "lines",
         "type": "scatter",
         "x": [
          11,
          11,
          12,
          11
         ],
         "y": [
          8,
          9,
          8,
          8
         ]
        },
        {
         "mode": "lines",
         "type": "scatter",
         "x": [
          11,
          11,
          12,
          11
         ],
         "y": [
          10,
          11,
          10,
          10
         ]
        },
        {
         "mode": "lines",
         "type": "scatter",
         "x": [
          14,
          14,
          15,
          16,
          16,
          15,
          14
         ],
         "y": [
          15,
          16,
          16,
          15,
          14,
          14,
          15
         ]
        },
        {
         "mode": "lines",
         "type": "scatter",
         "x": [
          16,
          16,
          17,
          16
         ],
         "y": [
          10,
          11,
          10,
          10
         ]
        }
       ],
       "layout": {
        "coloraxis": {
         "colorscale": [
          [
           0,
           "rgb(0, 0, 0)"
          ],
          [
           0.09090909090909091,
           "rgb(16, 16, 16)"
          ],
          [
           0.18181818181818182,
           "rgb(38, 38, 38)"
          ],
          [
           0.2727272727272727,
           "rgb(59, 59, 59)"
          ],
          [
           0.36363636363636365,
           "rgb(81, 80, 80)"
          ],
          [
           0.45454545454545453,
           "rgb(102, 101, 101)"
          ],
          [
           0.5454545454545454,
           "rgb(124, 123, 122)"
          ],
          [
           0.6363636363636364,
           "rgb(146, 146, 145)"
          ],
          [
           0.7272727272727273,
           "rgb(171, 171, 170)"
          ],
          [
           0.8181818181818182,
           "rgb(197, 197, 195)"
          ],
          [
           0.9090909090909091,
           "rgb(224, 224, 223)"
          ],
          [
           1,
           "rgb(254, 254, 253)"
          ]
         ],
         "showscale": false
        },
        "height": 400,
        "margin": {
         "t": 60
        },
        "template": {
         "data": {
          "bar": [
           {
            "error_x": {
             "color": "#2a3f5f"
            },
            "error_y": {
             "color": "#2a3f5f"
            },
            "marker": {
             "line": {
              "color": "#E5ECF6",
              "width": 0.5
             }
            },
            "type": "bar"
           }
          ],
          "barpolar": [
           {
            "marker": {
             "line": {
              "color": "#E5ECF6",
              "width": 0.5
             }
            },
            "type": "barpolar"
           }
          ],
          "carpet": [
           {
            "aaxis": {
             "endlinecolor": "#2a3f5f",
             "gridcolor": "white",
             "linecolor": "white",
             "minorgridcolor": "white",
             "startlinecolor": "#2a3f5f"
            },
            "baxis": {
             "endlinecolor": "#2a3f5f",
             "gridcolor": "white",
             "linecolor": "white",
             "minorgridcolor": "white",
             "startlinecolor": "#2a3f5f"
            },
            "type": "carpet"
           }
          ],
          "choropleth": [
           {
            "colorbar": {
             "outlinewidth": 0,
             "ticks": ""
            },
            "type": "choropleth"
           }
          ],
          "contour": [
           {
            "colorbar": {
             "outlinewidth": 0,
             "ticks": ""
            },
            "colorscale": [
             [
              0,
              "#0d0887"
             ],
             [
              0.1111111111111111,
              "#46039f"
             ],
             [
              0.2222222222222222,
              "#7201a8"
             ],
             [
              0.3333333333333333,
              "#9c179e"
             ],
             [
              0.4444444444444444,
              "#bd3786"
             ],
             [
              0.5555555555555556,
              "#d8576b"
             ],
             [
              0.6666666666666666,
              "#ed7953"
             ],
             [
              0.7777777777777778,
              "#fb9f3a"
             ],
             [
              0.8888888888888888,
              "#fdca26"
             ],
             [
              1,
              "#f0f921"
             ]
            ],
            "type": "contour"
           }
          ],
          "contourcarpet": [
           {
            "colorbar": {
             "outlinewidth": 0,
             "ticks": ""
            },
            "type": "contourcarpet"
           }
          ],
          "heatmap": [
           {
            "colorbar": {
             "outlinewidth": 0,
             "ticks": ""
            },
            "colorscale": [
             [
              0,
              "#0d0887"
             ],
             [
              0.1111111111111111,
              "#46039f"
             ],
             [
              0.2222222222222222,
              "#7201a8"
             ],
             [
              0.3333333333333333,
              "#9c179e"
             ],
             [
              0.4444444444444444,
              "#bd3786"
             ],
             [
              0.5555555555555556,
              "#d8576b"
             ],
             [
              0.6666666666666666,
              "#ed7953"
             ],
             [
              0.7777777777777778,
              "#fb9f3a"
             ],
             [
              0.8888888888888888,
              "#fdca26"
             ],
             [
              1,
              "#f0f921"
             ]
            ],
            "type": "heatmap"
           }
          ],
          "heatmapgl": [
           {
            "colorbar": {
             "outlinewidth": 0,
             "ticks": ""
            },
            "colorscale": [
             [
              0,
              "#0d0887"
             ],
             [
              0.1111111111111111,
              "#46039f"
             ],
             [
              0.2222222222222222,
              "#7201a8"
             ],
             [
              0.3333333333333333,
              "#9c179e"
             ],
             [
              0.4444444444444444,
              "#bd3786"
             ],
             [
              0.5555555555555556,
              "#d8576b"
             ],
             [
              0.6666666666666666,
              "#ed7953"
             ],
             [
              0.7777777777777778,
              "#fb9f3a"
             ],
             [
              0.8888888888888888,
              "#fdca26"
             ],
             [
              1,
              "#f0f921"
             ]
            ],
            "type": "heatmapgl"
           }
          ],
          "histogram": [
           {
            "marker": {
             "colorbar": {
              "outlinewidth": 0,
              "ticks": ""
             }
            },
            "type": "histogram"
           }
          ],
          "histogram2d": [
           {
            "colorbar": {
             "outlinewidth": 0,
             "ticks": ""
            },
            "colorscale": [
             [
              0,
              "#0d0887"
             ],
             [
              0.1111111111111111,
              "#46039f"
             ],
             [
              0.2222222222222222,
              "#7201a8"
             ],
             [
              0.3333333333333333,
              "#9c179e"
             ],
             [
              0.4444444444444444,
              "#bd3786"
             ],
             [
              0.5555555555555556,
              "#d8576b"
             ],
             [
              0.6666666666666666,
              "#ed7953"
             ],
             [
              0.7777777777777778,
              "#fb9f3a"
             ],
             [
              0.8888888888888888,
              "#fdca26"
             ],
             [
              1,
              "#f0f921"
             ]
            ],
            "type": "histogram2d"
           }
          ],
          "histogram2dcontour": [
           {
            "colorbar": {
             "outlinewidth": 0,
             "ticks": ""
            },
            "colorscale": [
             [
              0,
              "#0d0887"
             ],
             [
              0.1111111111111111,
              "#46039f"
             ],
             [
              0.2222222222222222,
              "#7201a8"
             ],
             [
              0.3333333333333333,
              "#9c179e"
             ],
             [
              0.4444444444444444,
              "#bd3786"
             ],
             [
              0.5555555555555556,
              "#d8576b"
             ],
             [
              0.6666666666666666,
              "#ed7953"
             ],
             [
              0.7777777777777778,
              "#fb9f3a"
             ],
             [
              0.8888888888888888,
              "#fdca26"
             ],
             [
              1,
              "#f0f921"
             ]
            ],
            "type": "histogram2dcontour"
           }
          ],
          "mesh3d": [
           {
            "colorbar": {
             "outlinewidth": 0,
             "ticks": ""
            },
            "type": "mesh3d"
           }
          ],
          "parcoords": [
           {
            "line": {
             "colorbar": {
              "outlinewidth": 0,
              "ticks": ""
             }
            },
            "type": "parcoords"
           }
          ],
          "pie": [
           {
            "automargin": true,
            "type": "pie"
           }
          ],
          "scatter": [
           {
            "marker": {
             "colorbar": {
              "outlinewidth": 0,
              "ticks": ""
             }
            },
            "type": "scatter"
           }
          ],
          "scatter3d": [
           {
            "line": {
             "colorbar": {
              "outlinewidth": 0,
              "ticks": ""
             }
            },
            "marker": {
             "colorbar": {
              "outlinewidth": 0,
              "ticks": ""
             }
            },
            "type": "scatter3d"
           }
          ],
          "scattercarpet": [
           {
            "marker": {
             "colorbar": {
              "outlinewidth": 0,
              "ticks": ""
             }
            },
            "type": "scattercarpet"
           }
          ],
          "scattergeo": [
           {
            "marker": {
             "colorbar": {
              "outlinewidth": 0,
              "ticks": ""
             }
            },
            "type": "scattergeo"
           }
          ],
          "scattergl": [
           {
            "marker": {
             "colorbar": {
              "outlinewidth": 0,
              "ticks": ""
             }
            },
            "type": "scattergl"
           }
          ],
          "scattermapbox": [
           {
            "marker": {
             "colorbar": {
              "outlinewidth": 0,
              "ticks": ""
             }
            },
            "type": "scattermapbox"
           }
          ],
          "scatterpolar": [
           {
            "marker": {
             "colorbar": {
              "outlinewidth": 0,
              "ticks": ""
             }
            },
            "type": "scatterpolar"
           }
          ],
          "scatterpolargl": [
           {
            "marker": {
             "colorbar": {
              "outlinewidth": 0,
              "ticks": ""
             }
            },
            "type": "scatterpolargl"
           }
          ],
          "scatterternary": [
           {
            "marker": {
             "colorbar": {
              "outlinewidth": 0,
              "ticks": ""
             }
            },
            "type": "scatterternary"
           }
          ],
          "surface": [
           {
            "colorbar": {
             "outlinewidth": 0,
             "ticks": ""
            },
            "colorscale": [
             [
              0,
              "#0d0887"
             ],
             [
              0.1111111111111111,
              "#46039f"
             ],
             [
              0.2222222222222222,
              "#7201a8"
             ],
             [
              0.3333333333333333,
              "#9c179e"
             ],
             [
              0.4444444444444444,
              "#bd3786"
             ],
             [
              0.5555555555555556,
              "#d8576b"
             ],
             [
              0.6666666666666666,
              "#ed7953"
             ],
             [
              0.7777777777777778,
              "#fb9f3a"
             ],
             [
              0.8888888888888888,
              "#fdca26"
             ],
             [
              1,
              "#f0f921"
             ]
            ],
            "type": "surface"
           }
          ],
          "table": [
           {
            "cells": {
             "fill": {
              "color": "#EBF0F8"
             },
             "line": {
              "color": "white"
             }
            },
            "header": {
             "fill": {
              "color": "#C8D4E3"
             },
             "line": {
              "color": "white"
             }
            },
            "type": "table"
           }
          ]
         },
         "layout": {
          "annotationdefaults": {
           "arrowcolor": "#2a3f5f",
           "arrowhead": 0,
           "arrowwidth": 1
          },
          "autotypenumbers": "strict",
          "coloraxis": {
           "colorbar": {
            "outlinewidth": 0,
            "ticks": ""
           }
          },
          "colorscale": {
           "diverging": [
            [
             0,
             "#8e0152"
            ],
            [
             0.1,
             "#c51b7d"
            ],
            [
             0.2,
             "#de77ae"
            ],
            [
             0.3,
             "#f1b6da"
            ],
            [
             0.4,
             "#fde0ef"
            ],
            [
             0.5,
             "#f7f7f7"
            ],
            [
             0.6,
             "#e6f5d0"
            ],
            [
             0.7,
             "#b8e186"
            ],
            [
             0.8,
             "#7fbc41"
            ],
            [
             0.9,
             "#4d9221"
            ],
            [
             1,
             "#276419"
            ]
           ],
           "sequential": [
            [
             0,
             "#0d0887"
            ],
            [
             0.1111111111111111,
             "#46039f"
            ],
            [
             0.2222222222222222,
             "#7201a8"
            ],
            [
             0.3333333333333333,
             "#9c179e"
            ],
            [
             0.4444444444444444,
             "#bd3786"
            ],
            [
             0.5555555555555556,
             "#d8576b"
            ],
            [
             0.6666666666666666,
             "#ed7953"
            ],
            [
             0.7777777777777778,
             "#fb9f3a"
            ],
            [
             0.8888888888888888,
             "#fdca26"
            ],
            [
             1,
             "#f0f921"
            ]
           ],
           "sequentialminus": [
            [
             0,
             "#0d0887"
            ],
            [
             0.1111111111111111,
             "#46039f"
            ],
            [
             0.2222222222222222,
             "#7201a8"
            ],
            [
             0.3333333333333333,
             "#9c179e"
            ],
            [
             0.4444444444444444,
             "#bd3786"
            ],
            [
             0.5555555555555556,
             "#d8576b"
            ],
            [
             0.6666666666666666,
             "#ed7953"
            ],
            [
             0.7777777777777778,
             "#fb9f3a"
            ],
            [
             0.8888888888888888,
             "#fdca26"
            ],
            [
             1,
             "#f0f921"
            ]
           ]
          },
          "colorway": [
           "#636efa",
           "#EF553B",
           "#00cc96",
           "#ab63fa",
           "#FFA15A",
           "#19d3f3",
           "#FF6692",
           "#B6E880",
           "#FF97FF",
           "#FECB52"
          ],
          "font": {
           "color": "#2a3f5f"
          },
          "geo": {
           "bgcolor": "white",
           "lakecolor": "white",
           "landcolor": "#E5ECF6",
           "showlakes": true,
           "showland": true,
           "subunitcolor": "white"
          },
          "hoverlabel": {
           "align": "left"
          },
          "hovermode": "closest",
          "mapbox": {
           "style": "light"
          },
          "paper_bgcolor": "white",
          "plot_bgcolor": "#E5ECF6",
          "polar": {
           "angularaxis": {
            "gridcolor": "white",
            "linecolor": "white",
            "ticks": ""
           },
           "bgcolor": "#E5ECF6",
           "radialaxis": {
            "gridcolor": "white",
            "linecolor": "white",
            "ticks": ""
           }
          },
          "scene": {
           "xaxis": {
            "backgroundcolor": "#E5ECF6",
            "gridcolor": "white",
            "gridwidth": 2,
            "linecolor": "white",
            "showbackground": true,
            "ticks": "",
            "zerolinecolor": "white"
           },
           "yaxis": {
            "backgroundcolor": "#E5ECF6",
            "gridcolor": "white",
            "gridwidth": 2,
            "linecolor": "white",
            "showbackground": true,
            "ticks": "",
            "zerolinecolor": "white"
           },
           "zaxis": {
            "backgroundcolor": "#E5ECF6",
            "gridcolor": "white",
            "gridwidth": 2,
            "linecolor": "white",
            "showbackground": true,
            "ticks": "",
            "zerolinecolor": "white"
           }
          },
          "shapedefaults": {
           "line": {
            "color": "#2a3f5f"
           }
          },
          "ternary": {
           "aaxis": {
            "gridcolor": "white",
            "linecolor": "white",
            "ticks": ""
           },
           "baxis": {
            "gridcolor": "white",
            "linecolor": "white",
            "ticks": ""
           },
           "bgcolor": "#E5ECF6",
           "caxis": {
            "gridcolor": "white",
            "linecolor": "white",
            "ticks": ""
           }
          },
          "title": {
           "x": 0.05
          },
          "xaxis": {
           "automargin": true,
           "gridcolor": "white",
           "linecolor": "white",
           "ticks": "",
           "title": {
            "standoff": 15
           },
           "zerolinecolor": "white",
           "zerolinewidth": 2
          },
          "yaxis": {
           "automargin": true,
           "gridcolor": "white",
           "linecolor": "white",
           "ticks": "",
           "title": {
            "standoff": 15
           },
           "zerolinecolor": "white",
           "zerolinewidth": 2
          }
         }
        },
        "title": {
         "text": "Digit 8 - Cycle file 110_cycles.vtk"
        },
        "width": 400,
        "xaxis": {
         "anchor": "y",
         "constrain": "domain",
         "domain": [
          0,
          1
         ],
         "scaleanchor": "y",
         "showticklabels": false
        },
        "yaxis": {
         "anchor": "x",
         "autorange": "reversed",
         "constrain": "domain",
         "domain": [
          0,
          1
         ],
         "showticklabels": false
        }
       }
      },
      "text/html": [
       "<div>                            <div id=\"238ee6b5-6c03-49b4-990d-c94bcd617304\" class=\"plotly-graph-div\" style=\"height:400px; width:400px;\"></div>            <script type=\"text/javascript\">                require([\"plotly\"], function(Plotly) {                    window.PLOTLYENV=window.PLOTLYENV || {};                                    if (document.getElementById(\"238ee6b5-6c03-49b4-990d-c94bcd617304\")) {                    Plotly.newPlot(                        \"238ee6b5-6c03-49b4-990d-c94bcd617304\",                        [{\"coloraxis\": \"coloraxis\", \"hovertemplate\": \"x: %{x}<br>y: %{y}<br>color: %{z}<extra></extra>\", \"name\": \"0\", \"type\": \"heatmap\", \"xaxis\": \"x\", \"yaxis\": \"y\", \"z\": [[0, 0, 0, 0, 0, 0, 0, 0, 0, 0, 0, 0, 0, 0, 0, 0, 0, 0, 0, 0, 0, 0, 0, 0, 0, 0, 0, 0], [0, 0, 0, 0, 0, 0, 0, 0, 0, 0, 0, 0, 0, 0, 0, 0, 0, 0, 0, 0, 0, 0, 0, 0, 0, 0, 0, 0], [0, 0, 0, 0, 0, 0, 0, 0, 0, 0, 0, 0, 0, 0, 0, 0, 0, 0, 0, 0, 0, 0, 0, 0, 0, 0, 0, 0], [0, 0, 0, 0, 0, 0, 0, 0, 0, 0, 0, 0, 0, 0, 0, 0, 0, 0, 0, 0, 0, 0, 0, 0, 0, 0, 0, 0], [0, 0, 0, 0, 0, 0, 0, 0, 0, 0, 0, 0, 0, 0, 0, 50, 127, 209, 178, 134, 9, 0, 0, 0, 0, 0, 0, 0], [0, 0, 0, 0, 0, 0, 0, 0, 0, 0, 0, 0, 0, 53, 178, 247, 253, 253, 253, 254, 167, 6, 0, 0, 0, 0, 0, 0], [0, 0, 0, 0, 0, 0, 0, 0, 0, 0, 0, 0, 58, 235, 254, 216, 107, 78, 115, 254, 253, 78, 0, 0, 0, 0, 0, 0], [0, 0, 0, 0, 0, 0, 0, 0, 0, 0, 0, 43, 237, 253, 131, 10, 0, 0, 53, 254, 253, 78, 0, 0, 0, 0, 0, 0], [0, 0, 0, 0, 0, 0, 0, 0, 0, 0, 8, 183, 253, 139, 0, 0, 0, 31, 217, 254, 200, 18, 0, 0, 0, 0, 0, 0], [0, 0, 0, 0, 0, 0, 0, 0, 0, 0, 8, 206, 254, 58, 0, 0, 102, 254, 254, 218, 30, 0, 0, 0, 0, 0, 0, 0], [0, 0, 0, 0, 0, 0, 0, 0, 0, 0, 0, 175, 253, 66, 35, 125, 241, 253, 200, 57, 3, 0, 0, 0, 0, 0, 0, 0], [0, 0, 0, 0, 0, 0, 0, 0, 0, 0, 0, 175, 253, 223, 224, 253, 253, 253, 193, 146, 27, 0, 0, 0, 0, 0, 0, 0], [0, 0, 0, 0, 0, 0, 0, 0, 0, 0, 0, 138, 253, 253, 254, 245, 185, 231, 138, 8, 0, 0, 0, 0, 0, 0, 0, 0], [0, 0, 0, 0, 0, 0, 0, 0, 0, 0, 0, 71, 245, 253, 254, 253, 192, 27, 0, 0, 0, 0, 0, 0, 0, 0, 0, 0], [0, 0, 0, 0, 0, 0, 0, 0, 0, 0, 0, 41, 164, 254, 255, 238, 18, 0, 0, 0, 0, 0, 0, 0, 0, 0, 0, 0], [0, 0, 0, 0, 0, 0, 0, 0, 0, 0, 108, 241, 253, 207, 201, 253, 226, 24, 0, 0, 0, 0, 0, 0, 0, 0, 0, 0], [0, 0, 0, 0, 0, 0, 0, 0, 0, 102, 241, 253, 195, 48, 41, 241, 253, 146, 0, 0, 0, 0, 0, 0, 0, 0, 0, 0], [0, 0, 0, 0, 0, 0, 0, 7, 152, 254, 250, 116, 9, 0, 0, 72, 253, 250, 54, 0, 0, 0, 0, 0, 0, 0, 0, 0], [0, 0, 0, 0, 0, 0, 0, 40, 253, 254, 121, 0, 0, 0, 0, 20, 253, 253, 58, 0, 0, 0, 0, 0, 0, 0, 0, 0], [0, 0, 0, 0, 0, 0, 0, 197, 254, 218, 15, 0, 0, 0, 0, 43, 254, 244, 45, 0, 0, 0, 0, 0, 0, 0, 0, 0], [0, 0, 0, 0, 0, 0, 67, 250, 253, 68, 0, 0, 0, 8, 103, 232, 253, 124, 0, 0, 0, 0, 0, 0, 0, 0, 0, 0], [0, 0, 0, 0, 0, 0, 79, 253, 253, 79, 18, 79, 168, 205, 254, 253, 168, 6, 0, 0, 0, 0, 0, 0, 0, 0, 0, 0], [0, 0, 0, 0, 0, 0, 36, 227, 253, 254, 238, 253, 253, 253, 192, 109, 6, 0, 0, 0, 0, 0, 0, 0, 0, 0, 0, 0], [0, 0, 0, 0, 0, 0, 0, 47, 230, 254, 253, 222, 103, 58, 0, 0, 0, 0, 0, 0, 0, 0, 0, 0, 0, 0, 0, 0], [0, 0, 0, 0, 0, 0, 0, 0, 0, 0, 0, 0, 0, 0, 0, 0, 0, 0, 0, 0, 0, 0, 0, 0, 0, 0, 0, 0], [0, 0, 0, 0, 0, 0, 0, 0, 0, 0, 0, 0, 0, 0, 0, 0, 0, 0, 0, 0, 0, 0, 0, 0, 0, 0, 0, 0], [0, 0, 0, 0, 0, 0, 0, 0, 0, 0, 0, 0, 0, 0, 0, 0, 0, 0, 0, 0, 0, 0, 0, 0, 0, 0, 0, 0], [0, 0, 0, 0, 0, 0, 0, 0, 0, 0, 0, 0, 0, 0, 0, 0, 0, 0, 0, 0, 0, 0, 0, 0, 0, 0, 0, 0]]}, {\"mode\": \"lines\", \"type\": \"scatter\", \"x\": [6.0, 6.0, 7.0, 7.0, 8.0, 8.0, 9.0, 10.0, 11.0, 12.0, 13.0, 14.0, 15.0, 16.0, 17.0, 17.0, 18.0, 18.0, 18.0, 17.0, 17.0, 16.0, 15.0, 15.0, 15.0, 15.0, 15.0, 14.0, 13.0, 12.0, 11.0, 10.0, 10.0, 9.0, 9.0, 9.0, 10.0, 10.0, 10.0, 9.0, 8.0, 7.0, 7.0, 7.0, 6.0], \"y\": [21.0, 22.0, 22.0, 23.0, 23.0, 24.0, 24.0, 24.0, 23.0, 23.0, 23.0, 22.0, 22.0, 21.0, 20.0, 19.0, 18.0, 17.0, 16.0, 16.0, 15.0, 15.0, 16.0, 17.0, 18.0, 19.0, 20.0, 20.0, 21.0, 21.0, 21.0, 22.0, 21.0, 21.0, 20.0, 19.0, 18.0, 17.0, 16.0, 16.0, 17.0, 18.0, 19.0, 20.0, 21.0]}, {\"mode\": \"lines\", \"type\": \"scatter\", \"x\": [8.0, 8.0, 8.0, 9.0, 10.0, 10.0, 10.0, 9.0, 8.0], \"y\": [22.0, 23.0, 24.0, 24.0, 23.0, 22.0, 21.0, 21.0, 22.0]}, {\"mode\": \"lines\", \"type\": \"scatter\", \"x\": [12.0, 12.0, 13.0, 14.0, 15.0, 15.0, 14.0, 13.0, 12.0], \"y\": [7.0, 8.0, 8.0, 7.0, 6.0, 5.0, 5.0, 6.0, 7.0]}, {\"mode\": \"lines\", \"type\": \"scatter\", \"x\": [15.0, 15.0, 16.0, 17.0, 18.0, 18.0, 18.0, 17.0, 16.0, 16.0, 15.0, 15.0, 16.0, 17.0, 18.0, 18.0, 19.0, 20.0, 21.0, 21.0, 21.0, 20.0, 20.0, 19.0, 18.0, 17.0, 16.0, 15.0], \"y\": [5.0, 6.0, 6.0, 6.0, 6.0, 7.0, 8.0, 8.0, 9.0, 10.0, 11.0, 12.0, 12.0, 12.0, 11.0, 10.0, 9.0, 8.0, 7.0, 6.0, 5.0, 5.0, 4.0, 4.0, 4.0, 4.0, 4.0, 5.0]}, {\"mode\": \"lines\", \"type\": \"scatter\", \"x\": [13.0, 13.0, 14.0, 15.0, 15.0, 14.0, 13.0], \"y\": [21.0, 22.0, 22.0, 21.0, 20.0, 20.0, 21.0]}, {\"mode\": \"lines\", \"type\": \"scatter\", \"x\": [5.0, 5.0, 5.0, 5.0, 6.0, 6.0, 7.0, 8.0, 9.0, 10.0, 11.0, 12.0, 13.0, 14.0, 15.0, 16.0, 17.0, 18.0, 18.0, 19.0, 19.0, 19.0, 19.0, 18.0, 18.0, 18.0, 17.0, 18.0, 19.0, 20.0, 21.0, 21.0, 21.0, 22.0, 22.0, 22.0, 22.0, 22.0, 21.0, 21.0, 20.0, 19.0, 18.0, 17.0, 16.0, 15.0, 14.0, 13.0, 12.0, 11.0, 10.0, 9.0, 9.0, 9.0, 10.0, 10.0, 10.0, 10.0, 10.0, 9.0, 8.0, 7.0, 6.0, 6.0, 6.0, 5.0], \"y\": [20.0, 21.0, 22.0, 23.0, 23.0, 24.0, 24.0, 24.0, 24.0, 24.0, 24.0, 24.0, 24.0, 23.0, 23.0, 23.0, 22.0, 21.0, 20.0, 19.0, 18.0, 17.0, 16.0, 16.0, 15.0, 14.0, 14.0, 13.0, 13.0, 12.0, 11.0, 10.0, 9.0, 8.0, 7.0, 6.0, 5.0, 4.0, 4.0, 3.0, 3.0, 3.0, 3.0, 3.0, 3.0, 3.0, 4.0, 4.0, 5.0, 6.0, 7.0, 8.0, 9.0, 10.0, 10.0, 11.0, 12.0, 13.0, 14.0, 15.0, 16.0, 16.0, 17.0, 18.0, 19.0, 20.0]}, {\"mode\": \"lines\", \"type\": \"scatter\", \"x\": [7.0, 7.0, 8.0, 9.0, 10.0, 10.0, 10.0, 9.0, 8.0, 8.0, 7.0], \"y\": [19.0, 20.0, 20.0, 19.0, 18.0, 17.0, 16.0, 16.0, 17.0, 18.0, 19.0]}, {\"mode\": \"lines\", \"type\": \"scatter\", \"x\": [12.0, 12.0, 11.0, 12.0], \"y\": [7.0, 8.0, 8.0, 7.0]}, {\"mode\": \"lines\", \"type\": \"scatter\", \"x\": [11.0, 11.0, 12.0, 13.0, 13.0, 12.0, 11.0], \"y\": [9.0, 10.0, 10.0, 9.0, 8.0, 8.0, 9.0]}, {\"mode\": \"lines\", \"type\": \"scatter\", \"x\": [16.0, 16.0, 17.0, 18.0, 18.0, 17.0, 16.0], \"y\": [11.0, 12.0, 12.0, 11.0, 10.0, 10.0, 11.0]}, {\"mode\": \"lines\", \"type\": \"scatter\", \"x\": [7.0, 7.0, 8.0, 7.0], \"y\": [20.0, 21.0, 20.0, 20.0]}, {\"mode\": \"lines\", \"type\": \"scatter\", \"x\": [11.0, 11.0, 12.0, 11.0], \"y\": [8.0, 9.0, 8.0, 8.0]}, {\"mode\": \"lines\", \"type\": \"scatter\", \"x\": [11.0, 11.0, 12.0, 11.0], \"y\": [10.0, 11.0, 10.0, 10.0]}, {\"mode\": \"lines\", \"type\": \"scatter\", \"x\": [14.0, 14.0, 15.0, 16.0, 16.0, 15.0, 14.0], \"y\": [15.0, 16.0, 16.0, 15.0, 14.0, 14.0, 15.0]}, {\"mode\": \"lines\", \"type\": \"scatter\", \"x\": [16.0, 16.0, 17.0, 16.0], \"y\": [10.0, 11.0, 10.0, 10.0]}],                        {\"coloraxis\": {\"colorscale\": [[0.0, \"rgb(0, 0, 0)\"], [0.09090909090909091, \"rgb(16, 16, 16)\"], [0.18181818181818182, \"rgb(38, 38, 38)\"], [0.2727272727272727, \"rgb(59, 59, 59)\"], [0.36363636363636365, \"rgb(81, 80, 80)\"], [0.45454545454545453, \"rgb(102, 101, 101)\"], [0.5454545454545454, \"rgb(124, 123, 122)\"], [0.6363636363636364, \"rgb(146, 146, 145)\"], [0.7272727272727273, \"rgb(171, 171, 170)\"], [0.8181818181818182, \"rgb(197, 197, 195)\"], [0.9090909090909091, \"rgb(224, 224, 223)\"], [1.0, \"rgb(254, 254, 253)\"]], \"showscale\": false}, \"height\": 400, \"margin\": {\"t\": 60}, \"template\": {\"data\": {\"bar\": [{\"error_x\": {\"color\": \"#2a3f5f\"}, \"error_y\": {\"color\": \"#2a3f5f\"}, \"marker\": {\"line\": {\"color\": \"#E5ECF6\", \"width\": 0.5}}, \"type\": \"bar\"}], \"barpolar\": [{\"marker\": {\"line\": {\"color\": \"#E5ECF6\", \"width\": 0.5}}, \"type\": \"barpolar\"}], \"carpet\": [{\"aaxis\": {\"endlinecolor\": \"#2a3f5f\", \"gridcolor\": \"white\", \"linecolor\": \"white\", \"minorgridcolor\": \"white\", \"startlinecolor\": \"#2a3f5f\"}, \"baxis\": {\"endlinecolor\": \"#2a3f5f\", \"gridcolor\": \"white\", \"linecolor\": \"white\", \"minorgridcolor\": \"white\", \"startlinecolor\": \"#2a3f5f\"}, \"type\": \"carpet\"}], \"choropleth\": [{\"colorbar\": {\"outlinewidth\": 0, \"ticks\": \"\"}, \"type\": \"choropleth\"}], \"contour\": [{\"colorbar\": {\"outlinewidth\": 0, \"ticks\": \"\"}, \"colorscale\": [[0.0, \"#0d0887\"], [0.1111111111111111, \"#46039f\"], [0.2222222222222222, \"#7201a8\"], [0.3333333333333333, \"#9c179e\"], [0.4444444444444444, \"#bd3786\"], [0.5555555555555556, \"#d8576b\"], [0.6666666666666666, \"#ed7953\"], [0.7777777777777778, \"#fb9f3a\"], [0.8888888888888888, \"#fdca26\"], [1.0, \"#f0f921\"]], \"type\": \"contour\"}], \"contourcarpet\": [{\"colorbar\": {\"outlinewidth\": 0, \"ticks\": \"\"}, \"type\": \"contourcarpet\"}], \"heatmap\": [{\"colorbar\": {\"outlinewidth\": 0, \"ticks\": \"\"}, \"colorscale\": [[0.0, \"#0d0887\"], [0.1111111111111111, \"#46039f\"], [0.2222222222222222, \"#7201a8\"], [0.3333333333333333, \"#9c179e\"], [0.4444444444444444, \"#bd3786\"], [0.5555555555555556, \"#d8576b\"], [0.6666666666666666, \"#ed7953\"], [0.7777777777777778, \"#fb9f3a\"], [0.8888888888888888, \"#fdca26\"], [1.0, \"#f0f921\"]], \"type\": \"heatmap\"}], \"heatmapgl\": [{\"colorbar\": {\"outlinewidth\": 0, \"ticks\": \"\"}, \"colorscale\": [[0.0, \"#0d0887\"], [0.1111111111111111, \"#46039f\"], [0.2222222222222222, \"#7201a8\"], [0.3333333333333333, \"#9c179e\"], [0.4444444444444444, \"#bd3786\"], [0.5555555555555556, \"#d8576b\"], [0.6666666666666666, \"#ed7953\"], [0.7777777777777778, \"#fb9f3a\"], [0.8888888888888888, \"#fdca26\"], [1.0, \"#f0f921\"]], \"type\": \"heatmapgl\"}], \"histogram\": [{\"marker\": {\"colorbar\": {\"outlinewidth\": 0, \"ticks\": \"\"}}, \"type\": \"histogram\"}], \"histogram2d\": [{\"colorbar\": {\"outlinewidth\": 0, \"ticks\": \"\"}, \"colorscale\": [[0.0, \"#0d0887\"], [0.1111111111111111, \"#46039f\"], [0.2222222222222222, \"#7201a8\"], [0.3333333333333333, \"#9c179e\"], [0.4444444444444444, \"#bd3786\"], [0.5555555555555556, \"#d8576b\"], [0.6666666666666666, \"#ed7953\"], [0.7777777777777778, \"#fb9f3a\"], [0.8888888888888888, \"#fdca26\"], [1.0, \"#f0f921\"]], \"type\": \"histogram2d\"}], \"histogram2dcontour\": [{\"colorbar\": {\"outlinewidth\": 0, \"ticks\": \"\"}, \"colorscale\": [[0.0, \"#0d0887\"], [0.1111111111111111, \"#46039f\"], [0.2222222222222222, \"#7201a8\"], [0.3333333333333333, \"#9c179e\"], [0.4444444444444444, \"#bd3786\"], [0.5555555555555556, \"#d8576b\"], [0.6666666666666666, \"#ed7953\"], [0.7777777777777778, \"#fb9f3a\"], [0.8888888888888888, \"#fdca26\"], [1.0, \"#f0f921\"]], \"type\": \"histogram2dcontour\"}], \"mesh3d\": [{\"colorbar\": {\"outlinewidth\": 0, \"ticks\": \"\"}, \"type\": \"mesh3d\"}], \"parcoords\": [{\"line\": {\"colorbar\": {\"outlinewidth\": 0, \"ticks\": \"\"}}, \"type\": \"parcoords\"}], \"pie\": [{\"automargin\": true, \"type\": \"pie\"}], \"scatter\": [{\"marker\": {\"colorbar\": {\"outlinewidth\": 0, \"ticks\": \"\"}}, \"type\": \"scatter\"}], \"scatter3d\": [{\"line\": {\"colorbar\": {\"outlinewidth\": 0, \"ticks\": \"\"}}, \"marker\": {\"colorbar\": {\"outlinewidth\": 0, \"ticks\": \"\"}}, \"type\": \"scatter3d\"}], \"scattercarpet\": [{\"marker\": {\"colorbar\": {\"outlinewidth\": 0, \"ticks\": \"\"}}, \"type\": \"scattercarpet\"}], \"scattergeo\": [{\"marker\": {\"colorbar\": {\"outlinewidth\": 0, \"ticks\": \"\"}}, \"type\": \"scattergeo\"}], \"scattergl\": [{\"marker\": {\"colorbar\": {\"outlinewidth\": 0, \"ticks\": \"\"}}, \"type\": \"scattergl\"}], \"scattermapbox\": [{\"marker\": {\"colorbar\": {\"outlinewidth\": 0, \"ticks\": \"\"}}, \"type\": \"scattermapbox\"}], \"scatterpolar\": [{\"marker\": {\"colorbar\": {\"outlinewidth\": 0, \"ticks\": \"\"}}, \"type\": \"scatterpolar\"}], \"scatterpolargl\": [{\"marker\": {\"colorbar\": {\"outlinewidth\": 0, \"ticks\": \"\"}}, \"type\": \"scatterpolargl\"}], \"scatterternary\": [{\"marker\": {\"colorbar\": {\"outlinewidth\": 0, \"ticks\": \"\"}}, \"type\": \"scatterternary\"}], \"surface\": [{\"colorbar\": {\"outlinewidth\": 0, \"ticks\": \"\"}, \"colorscale\": [[0.0, \"#0d0887\"], [0.1111111111111111, \"#46039f\"], [0.2222222222222222, \"#7201a8\"], [0.3333333333333333, \"#9c179e\"], [0.4444444444444444, \"#bd3786\"], [0.5555555555555556, \"#d8576b\"], [0.6666666666666666, \"#ed7953\"], [0.7777777777777778, \"#fb9f3a\"], [0.8888888888888888, \"#fdca26\"], [1.0, \"#f0f921\"]], \"type\": \"surface\"}], \"table\": [{\"cells\": {\"fill\": {\"color\": \"#EBF0F8\"}, \"line\": {\"color\": \"white\"}}, \"header\": {\"fill\": {\"color\": \"#C8D4E3\"}, \"line\": {\"color\": \"white\"}}, \"type\": \"table\"}]}, \"layout\": {\"annotationdefaults\": {\"arrowcolor\": \"#2a3f5f\", \"arrowhead\": 0, \"arrowwidth\": 1}, \"autotypenumbers\": \"strict\", \"coloraxis\": {\"colorbar\": {\"outlinewidth\": 0, \"ticks\": \"\"}}, \"colorscale\": {\"diverging\": [[0, \"#8e0152\"], [0.1, \"#c51b7d\"], [0.2, \"#de77ae\"], [0.3, \"#f1b6da\"], [0.4, \"#fde0ef\"], [0.5, \"#f7f7f7\"], [0.6, \"#e6f5d0\"], [0.7, \"#b8e186\"], [0.8, \"#7fbc41\"], [0.9, \"#4d9221\"], [1, \"#276419\"]], \"sequential\": [[0.0, \"#0d0887\"], [0.1111111111111111, \"#46039f\"], [0.2222222222222222, \"#7201a8\"], [0.3333333333333333, \"#9c179e\"], [0.4444444444444444, \"#bd3786\"], [0.5555555555555556, \"#d8576b\"], [0.6666666666666666, \"#ed7953\"], [0.7777777777777778, \"#fb9f3a\"], [0.8888888888888888, \"#fdca26\"], [1.0, \"#f0f921\"]], \"sequentialminus\": [[0.0, \"#0d0887\"], [0.1111111111111111, \"#46039f\"], [0.2222222222222222, \"#7201a8\"], [0.3333333333333333, \"#9c179e\"], [0.4444444444444444, \"#bd3786\"], [0.5555555555555556, \"#d8576b\"], [0.6666666666666666, \"#ed7953\"], [0.7777777777777778, \"#fb9f3a\"], [0.8888888888888888, \"#fdca26\"], [1.0, \"#f0f921\"]]}, \"colorway\": [\"#636efa\", \"#EF553B\", \"#00cc96\", \"#ab63fa\", \"#FFA15A\", \"#19d3f3\", \"#FF6692\", \"#B6E880\", \"#FF97FF\", \"#FECB52\"], \"font\": {\"color\": \"#2a3f5f\"}, \"geo\": {\"bgcolor\": \"white\", \"lakecolor\": \"white\", \"landcolor\": \"#E5ECF6\", \"showlakes\": true, \"showland\": true, \"subunitcolor\": \"white\"}, \"hoverlabel\": {\"align\": \"left\"}, \"hovermode\": \"closest\", \"mapbox\": {\"style\": \"light\"}, \"paper_bgcolor\": \"white\", \"plot_bgcolor\": \"#E5ECF6\", \"polar\": {\"angularaxis\": {\"gridcolor\": \"white\", \"linecolor\": \"white\", \"ticks\": \"\"}, \"bgcolor\": \"#E5ECF6\", \"radialaxis\": {\"gridcolor\": \"white\", \"linecolor\": \"white\", \"ticks\": \"\"}}, \"scene\": {\"xaxis\": {\"backgroundcolor\": \"#E5ECF6\", \"gridcolor\": \"white\", \"gridwidth\": 2, \"linecolor\": \"white\", \"showbackground\": true, \"ticks\": \"\", \"zerolinecolor\": \"white\"}, \"yaxis\": {\"backgroundcolor\": \"#E5ECF6\", \"gridcolor\": \"white\", \"gridwidth\": 2, \"linecolor\": \"white\", \"showbackground\": true, \"ticks\": \"\", \"zerolinecolor\": \"white\"}, \"zaxis\": {\"backgroundcolor\": \"#E5ECF6\", \"gridcolor\": \"white\", \"gridwidth\": 2, \"linecolor\": \"white\", \"showbackground\": true, \"ticks\": \"\", \"zerolinecolor\": \"white\"}}, \"shapedefaults\": {\"line\": {\"color\": \"#2a3f5f\"}}, \"ternary\": {\"aaxis\": {\"gridcolor\": \"white\", \"linecolor\": \"white\", \"ticks\": \"\"}, \"baxis\": {\"gridcolor\": \"white\", \"linecolor\": \"white\", \"ticks\": \"\"}, \"bgcolor\": \"#E5ECF6\", \"caxis\": {\"gridcolor\": \"white\", \"linecolor\": \"white\", \"ticks\": \"\"}}, \"title\": {\"x\": 0.05}, \"xaxis\": {\"automargin\": true, \"gridcolor\": \"white\", \"linecolor\": \"white\", \"ticks\": \"\", \"title\": {\"standoff\": 15}, \"zerolinecolor\": \"white\", \"zerolinewidth\": 2}, \"yaxis\": {\"automargin\": true, \"gridcolor\": \"white\", \"linecolor\": \"white\", \"ticks\": \"\", \"title\": {\"standoff\": 15}, \"zerolinecolor\": \"white\", \"zerolinewidth\": 2}}}, \"title\": {\"text\": \"Digit 8 - Cycle file 110_cycles.vtk\"}, \"width\": 400, \"xaxis\": {\"anchor\": \"y\", \"constrain\": \"domain\", \"domain\": [0.0, 1.0], \"scaleanchor\": \"y\", \"showticklabels\": false}, \"yaxis\": {\"anchor\": \"x\", \"autorange\": \"reversed\", \"constrain\": \"domain\", \"domain\": [0.0, 1.0], \"showticklabels\": false}},                        {\"responsive\": true}                    ).then(function(){\n",
       "                            \n",
       "var gd = document.getElementById('238ee6b5-6c03-49b4-990d-c94bcd617304');\n",
       "var x = new MutationObserver(function (mutations, observer) {{\n",
       "        var display = window.getComputedStyle(gd).display;\n",
       "        if (!display || display === 'none') {{\n",
       "            console.log([gd, 'removed!']);\n",
       "            Plotly.purge(gd);\n",
       "            observer.disconnect();\n",
       "        }}\n",
       "}});\n",
       "\n",
       "// Listen for the removal of the full notebook cells\n",
       "var notebookContainer = gd.closest('#notebook-container');\n",
       "if (notebookContainer) {{\n",
       "    x.observe(notebookContainer, {childList: true});\n",
       "}}\n",
       "\n",
       "// Listen for the clearing of the current output cell\n",
       "var outputEl = gd.closest('.output');\n",
       "if (outputEl) {{\n",
       "    x.observe(outputEl, {childList: true});\n",
       "}}\n",
       "\n",
       "                        })                };                });            </script>        </div>"
      ]
     },
     "metadata": {},
     "output_type": "display_data"
    }
   ],
   "source": [
    "\n",
    "VTK_DIR_ORIG = os.path.join(DATA_DIR, \"vtk-original\") \n",
    "\n",
    "pngFile = os.path.join(IMG_DIR, digitPrefix+\".png\")\n",
    "img = io.imread(pngFile)\n",
    "cycleFile = os.path.join(VTK_DIR_ORIG, digitPrefix+\"_cycles.vtk\")\n",
    "\n",
    "visualizeCycles(img, cycleFile)"
   ]
  },
  {
   "cell_type": "markdown",
   "id": "dressed-rebate",
   "metadata": {},
   "source": [
    "The same process is repeated negating the graylevel values of the input image"
   ]
  },
  {
   "cell_type": "code",
   "execution_count": 15,
   "id": "known-consideration",
   "metadata": {},
   "outputs": [
    {
     "data": {
      "application/vnd.plotly.v1+json": {
       "config": {
        "plotlyServerURL": "https://plot.ly"
       },
       "data": [
        {
         "coloraxis": "coloraxis",
         "hovertemplate": "x: %{x}<br>y: %{y}<br>color: %{z}<extra></extra>",
         "name": "0",
         "type": "heatmap",
         "xaxis": "x",
         "yaxis": "y",
         "z": [
          [
           0,
           0,
           0,
           0,
           0,
           0,
           0,
           0,
           0,
           0,
           0,
           0,
           0,
           0,
           0,
           0,
           0,
           0,
           0,
           0,
           0,
           0,
           0,
           0,
           0,
           0,
           0,
           0
          ],
          [
           0,
           0,
           0,
           0,
           0,
           0,
           0,
           0,
           0,
           0,
           0,
           0,
           0,
           0,
           0,
           0,
           0,
           0,
           0,
           0,
           0,
           0,
           0,
           0,
           0,
           0,
           0,
           0
          ],
          [
           0,
           0,
           0,
           0,
           0,
           0,
           0,
           0,
           0,
           0,
           0,
           0,
           0,
           0,
           0,
           0,
           0,
           0,
           0,
           0,
           0,
           0,
           0,
           0,
           0,
           0,
           0,
           0
          ],
          [
           0,
           0,
           0,
           0,
           0,
           0,
           0,
           0,
           0,
           0,
           0,
           0,
           0,
           0,
           0,
           0,
           0,
           0,
           0,
           0,
           0,
           0,
           0,
           0,
           0,
           0,
           0,
           0
          ],
          [
           0,
           0,
           0,
           0,
           0,
           0,
           0,
           0,
           0,
           0,
           0,
           0,
           0,
           0,
           0,
           50,
           127,
           209,
           178,
           134,
           9,
           0,
           0,
           0,
           0,
           0,
           0,
           0
          ],
          [
           0,
           0,
           0,
           0,
           0,
           0,
           0,
           0,
           0,
           0,
           0,
           0,
           0,
           53,
           178,
           247,
           253,
           253,
           253,
           254,
           167,
           6,
           0,
           0,
           0,
           0,
           0,
           0
          ],
          [
           0,
           0,
           0,
           0,
           0,
           0,
           0,
           0,
           0,
           0,
           0,
           0,
           58,
           235,
           254,
           216,
           107,
           78,
           115,
           254,
           253,
           78,
           0,
           0,
           0,
           0,
           0,
           0
          ],
          [
           0,
           0,
           0,
           0,
           0,
           0,
           0,
           0,
           0,
           0,
           0,
           43,
           237,
           253,
           131,
           10,
           0,
           0,
           53,
           254,
           253,
           78,
           0,
           0,
           0,
           0,
           0,
           0
          ],
          [
           0,
           0,
           0,
           0,
           0,
           0,
           0,
           0,
           0,
           0,
           8,
           183,
           253,
           139,
           0,
           0,
           0,
           31,
           217,
           254,
           200,
           18,
           0,
           0,
           0,
           0,
           0,
           0
          ],
          [
           0,
           0,
           0,
           0,
           0,
           0,
           0,
           0,
           0,
           0,
           8,
           206,
           254,
           58,
           0,
           0,
           102,
           254,
           254,
           218,
           30,
           0,
           0,
           0,
           0,
           0,
           0,
           0
          ],
          [
           0,
           0,
           0,
           0,
           0,
           0,
           0,
           0,
           0,
           0,
           0,
           175,
           253,
           66,
           35,
           125,
           241,
           253,
           200,
           57,
           3,
           0,
           0,
           0,
           0,
           0,
           0,
           0
          ],
          [
           0,
           0,
           0,
           0,
           0,
           0,
           0,
           0,
           0,
           0,
           0,
           175,
           253,
           223,
           224,
           253,
           253,
           253,
           193,
           146,
           27,
           0,
           0,
           0,
           0,
           0,
           0,
           0
          ],
          [
           0,
           0,
           0,
           0,
           0,
           0,
           0,
           0,
           0,
           0,
           0,
           138,
           253,
           253,
           254,
           245,
           185,
           231,
           138,
           8,
           0,
           0,
           0,
           0,
           0,
           0,
           0,
           0
          ],
          [
           0,
           0,
           0,
           0,
           0,
           0,
           0,
           0,
           0,
           0,
           0,
           71,
           245,
           253,
           254,
           253,
           192,
           27,
           0,
           0,
           0,
           0,
           0,
           0,
           0,
           0,
           0,
           0
          ],
          [
           0,
           0,
           0,
           0,
           0,
           0,
           0,
           0,
           0,
           0,
           0,
           41,
           164,
           254,
           255,
           238,
           18,
           0,
           0,
           0,
           0,
           0,
           0,
           0,
           0,
           0,
           0,
           0
          ],
          [
           0,
           0,
           0,
           0,
           0,
           0,
           0,
           0,
           0,
           0,
           108,
           241,
           253,
           207,
           201,
           253,
           226,
           24,
           0,
           0,
           0,
           0,
           0,
           0,
           0,
           0,
           0,
           0
          ],
          [
           0,
           0,
           0,
           0,
           0,
           0,
           0,
           0,
           0,
           102,
           241,
           253,
           195,
           48,
           41,
           241,
           253,
           146,
           0,
           0,
           0,
           0,
           0,
           0,
           0,
           0,
           0,
           0
          ],
          [
           0,
           0,
           0,
           0,
           0,
           0,
           0,
           7,
           152,
           254,
           250,
           116,
           9,
           0,
           0,
           72,
           253,
           250,
           54,
           0,
           0,
           0,
           0,
           0,
           0,
           0,
           0,
           0
          ],
          [
           0,
           0,
           0,
           0,
           0,
           0,
           0,
           40,
           253,
           254,
           121,
           0,
           0,
           0,
           0,
           20,
           253,
           253,
           58,
           0,
           0,
           0,
           0,
           0,
           0,
           0,
           0,
           0
          ],
          [
           0,
           0,
           0,
           0,
           0,
           0,
           0,
           197,
           254,
           218,
           15,
           0,
           0,
           0,
           0,
           43,
           254,
           244,
           45,
           0,
           0,
           0,
           0,
           0,
           0,
           0,
           0,
           0
          ],
          [
           0,
           0,
           0,
           0,
           0,
           0,
           67,
           250,
           253,
           68,
           0,
           0,
           0,
           8,
           103,
           232,
           253,
           124,
           0,
           0,
           0,
           0,
           0,
           0,
           0,
           0,
           0,
           0
          ],
          [
           0,
           0,
           0,
           0,
           0,
           0,
           79,
           253,
           253,
           79,
           18,
           79,
           168,
           205,
           254,
           253,
           168,
           6,
           0,
           0,
           0,
           0,
           0,
           0,
           0,
           0,
           0,
           0
          ],
          [
           0,
           0,
           0,
           0,
           0,
           0,
           36,
           227,
           253,
           254,
           238,
           253,
           253,
           253,
           192,
           109,
           6,
           0,
           0,
           0,
           0,
           0,
           0,
           0,
           0,
           0,
           0,
           0
          ],
          [
           0,
           0,
           0,
           0,
           0,
           0,
           0,
           47,
           230,
           254,
           253,
           222,
           103,
           58,
           0,
           0,
           0,
           0,
           0,
           0,
           0,
           0,
           0,
           0,
           0,
           0,
           0,
           0
          ],
          [
           0,
           0,
           0,
           0,
           0,
           0,
           0,
           0,
           0,
           0,
           0,
           0,
           0,
           0,
           0,
           0,
           0,
           0,
           0,
           0,
           0,
           0,
           0,
           0,
           0,
           0,
           0,
           0
          ],
          [
           0,
           0,
           0,
           0,
           0,
           0,
           0,
           0,
           0,
           0,
           0,
           0,
           0,
           0,
           0,
           0,
           0,
           0,
           0,
           0,
           0,
           0,
           0,
           0,
           0,
           0,
           0,
           0
          ],
          [
           0,
           0,
           0,
           0,
           0,
           0,
           0,
           0,
           0,
           0,
           0,
           0,
           0,
           0,
           0,
           0,
           0,
           0,
           0,
           0,
           0,
           0,
           0,
           0,
           0,
           0,
           0,
           0
          ],
          [
           0,
           0,
           0,
           0,
           0,
           0,
           0,
           0,
           0,
           0,
           0,
           0,
           0,
           0,
           0,
           0,
           0,
           0,
           0,
           0,
           0,
           0,
           0,
           0,
           0,
           0,
           0,
           0
          ]
         ]
        },
        {
         "mode": "lines",
         "type": "scatter",
         "x": [
          5,
          5,
          5,
          6,
          7,
          7,
          7,
          6,
          5
         ],
         "y": [
          18,
          19,
          20,
          20,
          19,
          18,
          17,
          17,
          18
         ]
        },
        {
         "mode": "lines",
         "type": "scatter",
         "x": [
          8,
          8,
          8,
          8,
          8,
          8,
          8,
          8,
          9,
          10,
          11,
          11,
          11,
          11,
          11,
          11,
          10,
          10,
          9,
          8
         ],
         "y": [
          9,
          10,
          11,
          12,
          13,
          14,
          15,
          16,
          16,
          15,
          14,
          13,
          12,
          11,
          10,
          9,
          9,
          8,
          8,
          9
         ]
        },
        {
         "mode": "lines",
         "type": "scatter",
         "x": [
          8,
          8,
          8,
          8,
          9,
          10,
          11,
          12,
          13,
          14,
          15,
          16,
          16,
          16,
          16,
          16,
          15,
          15,
          15,
          14,
          13,
          12,
          11,
          10,
          9,
          8
         ],
         "y": [
          19,
          20,
          21,
          22,
          22,
          22,
          22,
          22,
          22,
          21,
          21,
          20,
          19,
          18,
          17,
          16,
          16,
          15,
          14,
          14,
          14,
          15,
          16,
          17,
          18,
          19
         ]
        },
        {
         "mode": "lines",
         "type": "scatter",
         "x": [
          5,
          5,
          4,
          5
         ],
         "y": [
          19,
          20,
          20,
          19
         ]
        },
        {
         "mode": "lines",
         "type": "scatter",
         "x": [
          6,
          6,
          5,
          6
         ],
         "y": [
          16,
          17,
          17,
          16
         ]
        },
        {
         "mode": "lines",
         "type": "scatter",
         "x": [
          9,
          9,
          8,
          9
         ],
         "y": [
          7,
          8,
          8,
          7
         ]
        },
        {
         "mode": "lines",
         "type": "scatter",
         "x": [
          12,
          12,
          12,
          12,
          12,
          13,
          14,
          15,
          16,
          17,
          17,
          18,
          19,
          19,
          19,
          19,
          18,
          17,
          16,
          15,
          14,
          13,
          12
         ],
         "y": [
          8,
          9,
          10,
          11,
          12,
          12,
          12,
          11,
          11,
          10,
          9,
          9,
          8,
          7,
          6,
          5,
          5,
          5,
          5,
          5,
          6,
          7,
          8
         ]
        },
        {
         "mode": "lines",
         "type": "scatter",
         "x": [
          4,
          4,
          5,
          4
         ],
         "y": [
          20,
          21,
          20,
          20
         ]
        },
        {
         "mode": "lines",
         "type": "scatter",
         "x": [
          5,
          5,
          6,
          5
         ],
         "y": [
          17,
          18,
          17,
          17
         ]
        },
        {
         "mode": "lines",
         "type": "scatter",
         "x": [
          8,
          8,
          9,
          8
         ],
         "y": [
          8,
          9,
          8,
          8
         ]
        },
        {
         "mode": "lines",
         "type": "scatter",
         "x": [
          15,
          15,
          16,
          17,
          17,
          16,
          15
         ],
         "y": [
          12,
          13,
          13,
          12,
          11,
          11,
          12
         ]
        }
       ],
       "layout": {
        "coloraxis": {
         "colorscale": [
          [
           0,
           "rgb(0, 0, 0)"
          ],
          [
           0.09090909090909091,
           "rgb(16, 16, 16)"
          ],
          [
           0.18181818181818182,
           "rgb(38, 38, 38)"
          ],
          [
           0.2727272727272727,
           "rgb(59, 59, 59)"
          ],
          [
           0.36363636363636365,
           "rgb(81, 80, 80)"
          ],
          [
           0.45454545454545453,
           "rgb(102, 101, 101)"
          ],
          [
           0.5454545454545454,
           "rgb(124, 123, 122)"
          ],
          [
           0.6363636363636364,
           "rgb(146, 146, 145)"
          ],
          [
           0.7272727272727273,
           "rgb(171, 171, 170)"
          ],
          [
           0.8181818181818182,
           "rgb(197, 197, 195)"
          ],
          [
           0.9090909090909091,
           "rgb(224, 224, 223)"
          ],
          [
           1,
           "rgb(254, 254, 253)"
          ]
         ],
         "showscale": false
        },
        "height": 400,
        "margin": {
         "t": 60
        },
        "template": {
         "data": {
          "bar": [
           {
            "error_x": {
             "color": "#2a3f5f"
            },
            "error_y": {
             "color": "#2a3f5f"
            },
            "marker": {
             "line": {
              "color": "#E5ECF6",
              "width": 0.5
             }
            },
            "type": "bar"
           }
          ],
          "barpolar": [
           {
            "marker": {
             "line": {
              "color": "#E5ECF6",
              "width": 0.5
             }
            },
            "type": "barpolar"
           }
          ],
          "carpet": [
           {
            "aaxis": {
             "endlinecolor": "#2a3f5f",
             "gridcolor": "white",
             "linecolor": "white",
             "minorgridcolor": "white",
             "startlinecolor": "#2a3f5f"
            },
            "baxis": {
             "endlinecolor": "#2a3f5f",
             "gridcolor": "white",
             "linecolor": "white",
             "minorgridcolor": "white",
             "startlinecolor": "#2a3f5f"
            },
            "type": "carpet"
           }
          ],
          "choropleth": [
           {
            "colorbar": {
             "outlinewidth": 0,
             "ticks": ""
            },
            "type": "choropleth"
           }
          ],
          "contour": [
           {
            "colorbar": {
             "outlinewidth": 0,
             "ticks": ""
            },
            "colorscale": [
             [
              0,
              "#0d0887"
             ],
             [
              0.1111111111111111,
              "#46039f"
             ],
             [
              0.2222222222222222,
              "#7201a8"
             ],
             [
              0.3333333333333333,
              "#9c179e"
             ],
             [
              0.4444444444444444,
              "#bd3786"
             ],
             [
              0.5555555555555556,
              "#d8576b"
             ],
             [
              0.6666666666666666,
              "#ed7953"
             ],
             [
              0.7777777777777778,
              "#fb9f3a"
             ],
             [
              0.8888888888888888,
              "#fdca26"
             ],
             [
              1,
              "#f0f921"
             ]
            ],
            "type": "contour"
           }
          ],
          "contourcarpet": [
           {
            "colorbar": {
             "outlinewidth": 0,
             "ticks": ""
            },
            "type": "contourcarpet"
           }
          ],
          "heatmap": [
           {
            "colorbar": {
             "outlinewidth": 0,
             "ticks": ""
            },
            "colorscale": [
             [
              0,
              "#0d0887"
             ],
             [
              0.1111111111111111,
              "#46039f"
             ],
             [
              0.2222222222222222,
              "#7201a8"
             ],
             [
              0.3333333333333333,
              "#9c179e"
             ],
             [
              0.4444444444444444,
              "#bd3786"
             ],
             [
              0.5555555555555556,
              "#d8576b"
             ],
             [
              0.6666666666666666,
              "#ed7953"
             ],
             [
              0.7777777777777778,
              "#fb9f3a"
             ],
             [
              0.8888888888888888,
              "#fdca26"
             ],
             [
              1,
              "#f0f921"
             ]
            ],
            "type": "heatmap"
           }
          ],
          "heatmapgl": [
           {
            "colorbar": {
             "outlinewidth": 0,
             "ticks": ""
            },
            "colorscale": [
             [
              0,
              "#0d0887"
             ],
             [
              0.1111111111111111,
              "#46039f"
             ],
             [
              0.2222222222222222,
              "#7201a8"
             ],
             [
              0.3333333333333333,
              "#9c179e"
             ],
             [
              0.4444444444444444,
              "#bd3786"
             ],
             [
              0.5555555555555556,
              "#d8576b"
             ],
             [
              0.6666666666666666,
              "#ed7953"
             ],
             [
              0.7777777777777778,
              "#fb9f3a"
             ],
             [
              0.8888888888888888,
              "#fdca26"
             ],
             [
              1,
              "#f0f921"
             ]
            ],
            "type": "heatmapgl"
           }
          ],
          "histogram": [
           {
            "marker": {
             "colorbar": {
              "outlinewidth": 0,
              "ticks": ""
             }
            },
            "type": "histogram"
           }
          ],
          "histogram2d": [
           {
            "colorbar": {
             "outlinewidth": 0,
             "ticks": ""
            },
            "colorscale": [
             [
              0,
              "#0d0887"
             ],
             [
              0.1111111111111111,
              "#46039f"
             ],
             [
              0.2222222222222222,
              "#7201a8"
             ],
             [
              0.3333333333333333,
              "#9c179e"
             ],
             [
              0.4444444444444444,
              "#bd3786"
             ],
             [
              0.5555555555555556,
              "#d8576b"
             ],
             [
              0.6666666666666666,
              "#ed7953"
             ],
             [
              0.7777777777777778,
              "#fb9f3a"
             ],
             [
              0.8888888888888888,
              "#fdca26"
             ],
             [
              1,
              "#f0f921"
             ]
            ],
            "type": "histogram2d"
           }
          ],
          "histogram2dcontour": [
           {
            "colorbar": {
             "outlinewidth": 0,
             "ticks": ""
            },
            "colorscale": [
             [
              0,
              "#0d0887"
             ],
             [
              0.1111111111111111,
              "#46039f"
             ],
             [
              0.2222222222222222,
              "#7201a8"
             ],
             [
              0.3333333333333333,
              "#9c179e"
             ],
             [
              0.4444444444444444,
              "#bd3786"
             ],
             [
              0.5555555555555556,
              "#d8576b"
             ],
             [
              0.6666666666666666,
              "#ed7953"
             ],
             [
              0.7777777777777778,
              "#fb9f3a"
             ],
             [
              0.8888888888888888,
              "#fdca26"
             ],
             [
              1,
              "#f0f921"
             ]
            ],
            "type": "histogram2dcontour"
           }
          ],
          "mesh3d": [
           {
            "colorbar": {
             "outlinewidth": 0,
             "ticks": ""
            },
            "type": "mesh3d"
           }
          ],
          "parcoords": [
           {
            "line": {
             "colorbar": {
              "outlinewidth": 0,
              "ticks": ""
             }
            },
            "type": "parcoords"
           }
          ],
          "pie": [
           {
            "automargin": true,
            "type": "pie"
           }
          ],
          "scatter": [
           {
            "marker": {
             "colorbar": {
              "outlinewidth": 0,
              "ticks": ""
             }
            },
            "type": "scatter"
           }
          ],
          "scatter3d": [
           {
            "line": {
             "colorbar": {
              "outlinewidth": 0,
              "ticks": ""
             }
            },
            "marker": {
             "colorbar": {
              "outlinewidth": 0,
              "ticks": ""
             }
            },
            "type": "scatter3d"
           }
          ],
          "scattercarpet": [
           {
            "marker": {
             "colorbar": {
              "outlinewidth": 0,
              "ticks": ""
             }
            },
            "type": "scattercarpet"
           }
          ],
          "scattergeo": [
           {
            "marker": {
             "colorbar": {
              "outlinewidth": 0,
              "ticks": ""
             }
            },
            "type": "scattergeo"
           }
          ],
          "scattergl": [
           {
            "marker": {
             "colorbar": {
              "outlinewidth": 0,
              "ticks": ""
             }
            },
            "type": "scattergl"
           }
          ],
          "scattermapbox": [
           {
            "marker": {
             "colorbar": {
              "outlinewidth": 0,
              "ticks": ""
             }
            },
            "type": "scattermapbox"
           }
          ],
          "scatterpolar": [
           {
            "marker": {
             "colorbar": {
              "outlinewidth": 0,
              "ticks": ""
             }
            },
            "type": "scatterpolar"
           }
          ],
          "scatterpolargl": [
           {
            "marker": {
             "colorbar": {
              "outlinewidth": 0,
              "ticks": ""
             }
            },
            "type": "scatterpolargl"
           }
          ],
          "scatterternary": [
           {
            "marker": {
             "colorbar": {
              "outlinewidth": 0,
              "ticks": ""
             }
            },
            "type": "scatterternary"
           }
          ],
          "surface": [
           {
            "colorbar": {
             "outlinewidth": 0,
             "ticks": ""
            },
            "colorscale": [
             [
              0,
              "#0d0887"
             ],
             [
              0.1111111111111111,
              "#46039f"
             ],
             [
              0.2222222222222222,
              "#7201a8"
             ],
             [
              0.3333333333333333,
              "#9c179e"
             ],
             [
              0.4444444444444444,
              "#bd3786"
             ],
             [
              0.5555555555555556,
              "#d8576b"
             ],
             [
              0.6666666666666666,
              "#ed7953"
             ],
             [
              0.7777777777777778,
              "#fb9f3a"
             ],
             [
              0.8888888888888888,
              "#fdca26"
             ],
             [
              1,
              "#f0f921"
             ]
            ],
            "type": "surface"
           }
          ],
          "table": [
           {
            "cells": {
             "fill": {
              "color": "#EBF0F8"
             },
             "line": {
              "color": "white"
             }
            },
            "header": {
             "fill": {
              "color": "#C8D4E3"
             },
             "line": {
              "color": "white"
             }
            },
            "type": "table"
           }
          ]
         },
         "layout": {
          "annotationdefaults": {
           "arrowcolor": "#2a3f5f",
           "arrowhead": 0,
           "arrowwidth": 1
          },
          "autotypenumbers": "strict",
          "coloraxis": {
           "colorbar": {
            "outlinewidth": 0,
            "ticks": ""
           }
          },
          "colorscale": {
           "diverging": [
            [
             0,
             "#8e0152"
            ],
            [
             0.1,
             "#c51b7d"
            ],
            [
             0.2,
             "#de77ae"
            ],
            [
             0.3,
             "#f1b6da"
            ],
            [
             0.4,
             "#fde0ef"
            ],
            [
             0.5,
             "#f7f7f7"
            ],
            [
             0.6,
             "#e6f5d0"
            ],
            [
             0.7,
             "#b8e186"
            ],
            [
             0.8,
             "#7fbc41"
            ],
            [
             0.9,
             "#4d9221"
            ],
            [
             1,
             "#276419"
            ]
           ],
           "sequential": [
            [
             0,
             "#0d0887"
            ],
            [
             0.1111111111111111,
             "#46039f"
            ],
            [
             0.2222222222222222,
             "#7201a8"
            ],
            [
             0.3333333333333333,
             "#9c179e"
            ],
            [
             0.4444444444444444,
             "#bd3786"
            ],
            [
             0.5555555555555556,
             "#d8576b"
            ],
            [
             0.6666666666666666,
             "#ed7953"
            ],
            [
             0.7777777777777778,
             "#fb9f3a"
            ],
            [
             0.8888888888888888,
             "#fdca26"
            ],
            [
             1,
             "#f0f921"
            ]
           ],
           "sequentialminus": [
            [
             0,
             "#0d0887"
            ],
            [
             0.1111111111111111,
             "#46039f"
            ],
            [
             0.2222222222222222,
             "#7201a8"
            ],
            [
             0.3333333333333333,
             "#9c179e"
            ],
            [
             0.4444444444444444,
             "#bd3786"
            ],
            [
             0.5555555555555556,
             "#d8576b"
            ],
            [
             0.6666666666666666,
             "#ed7953"
            ],
            [
             0.7777777777777778,
             "#fb9f3a"
            ],
            [
             0.8888888888888888,
             "#fdca26"
            ],
            [
             1,
             "#f0f921"
            ]
           ]
          },
          "colorway": [
           "#636efa",
           "#EF553B",
           "#00cc96",
           "#ab63fa",
           "#FFA15A",
           "#19d3f3",
           "#FF6692",
           "#B6E880",
           "#FF97FF",
           "#FECB52"
          ],
          "font": {
           "color": "#2a3f5f"
          },
          "geo": {
           "bgcolor": "white",
           "lakecolor": "white",
           "landcolor": "#E5ECF6",
           "showlakes": true,
           "showland": true,
           "subunitcolor": "white"
          },
          "hoverlabel": {
           "align": "left"
          },
          "hovermode": "closest",
          "mapbox": {
           "style": "light"
          },
          "paper_bgcolor": "white",
          "plot_bgcolor": "#E5ECF6",
          "polar": {
           "angularaxis": {
            "gridcolor": "white",
            "linecolor": "white",
            "ticks": ""
           },
           "bgcolor": "#E5ECF6",
           "radialaxis": {
            "gridcolor": "white",
            "linecolor": "white",
            "ticks": ""
           }
          },
          "scene": {
           "xaxis": {
            "backgroundcolor": "#E5ECF6",
            "gridcolor": "white",
            "gridwidth": 2,
            "linecolor": "white",
            "showbackground": true,
            "ticks": "",
            "zerolinecolor": "white"
           },
           "yaxis": {
            "backgroundcolor": "#E5ECF6",
            "gridcolor": "white",
            "gridwidth": 2,
            "linecolor": "white",
            "showbackground": true,
            "ticks": "",
            "zerolinecolor": "white"
           },
           "zaxis": {
            "backgroundcolor": "#E5ECF6",
            "gridcolor": "white",
            "gridwidth": 2,
            "linecolor": "white",
            "showbackground": true,
            "ticks": "",
            "zerolinecolor": "white"
           }
          },
          "shapedefaults": {
           "line": {
            "color": "#2a3f5f"
           }
          },
          "ternary": {
           "aaxis": {
            "gridcolor": "white",
            "linecolor": "white",
            "ticks": ""
           },
           "baxis": {
            "gridcolor": "white",
            "linecolor": "white",
            "ticks": ""
           },
           "bgcolor": "#E5ECF6",
           "caxis": {
            "gridcolor": "white",
            "linecolor": "white",
            "ticks": ""
           }
          },
          "title": {
           "x": 0.05
          },
          "xaxis": {
           "automargin": true,
           "gridcolor": "white",
           "linecolor": "white",
           "ticks": "",
           "title": {
            "standoff": 15
           },
           "zerolinecolor": "white",
           "zerolinewidth": 2
          },
          "yaxis": {
           "automargin": true,
           "gridcolor": "white",
           "linecolor": "white",
           "ticks": "",
           "title": {
            "standoff": 15
           },
           "zerolinecolor": "white",
           "zerolinewidth": 2
          }
         }
        },
        "title": {
         "text": "Digit 8 - Cycle file 110_cycles.vtk"
        },
        "width": 400,
        "xaxis": {
         "anchor": "y",
         "constrain": "domain",
         "domain": [
          0,
          1
         ],
         "scaleanchor": "y",
         "showticklabels": false
        },
        "yaxis": {
         "anchor": "x",
         "autorange": "reversed",
         "constrain": "domain",
         "domain": [
          0,
          1
         ],
         "showticklabels": false
        }
       }
      },
      "text/html": [
       "<div>                            <div id=\"c534fbc3-372a-45d0-bd7c-fc4a0cb21386\" class=\"plotly-graph-div\" style=\"height:400px; width:400px;\"></div>            <script type=\"text/javascript\">                require([\"plotly\"], function(Plotly) {                    window.PLOTLYENV=window.PLOTLYENV || {};                                    if (document.getElementById(\"c534fbc3-372a-45d0-bd7c-fc4a0cb21386\")) {                    Plotly.newPlot(                        \"c534fbc3-372a-45d0-bd7c-fc4a0cb21386\",                        [{\"coloraxis\": \"coloraxis\", \"hovertemplate\": \"x: %{x}<br>y: %{y}<br>color: %{z}<extra></extra>\", \"name\": \"0\", \"type\": \"heatmap\", \"xaxis\": \"x\", \"yaxis\": \"y\", \"z\": [[0, 0, 0, 0, 0, 0, 0, 0, 0, 0, 0, 0, 0, 0, 0, 0, 0, 0, 0, 0, 0, 0, 0, 0, 0, 0, 0, 0], [0, 0, 0, 0, 0, 0, 0, 0, 0, 0, 0, 0, 0, 0, 0, 0, 0, 0, 0, 0, 0, 0, 0, 0, 0, 0, 0, 0], [0, 0, 0, 0, 0, 0, 0, 0, 0, 0, 0, 0, 0, 0, 0, 0, 0, 0, 0, 0, 0, 0, 0, 0, 0, 0, 0, 0], [0, 0, 0, 0, 0, 0, 0, 0, 0, 0, 0, 0, 0, 0, 0, 0, 0, 0, 0, 0, 0, 0, 0, 0, 0, 0, 0, 0], [0, 0, 0, 0, 0, 0, 0, 0, 0, 0, 0, 0, 0, 0, 0, 50, 127, 209, 178, 134, 9, 0, 0, 0, 0, 0, 0, 0], [0, 0, 0, 0, 0, 0, 0, 0, 0, 0, 0, 0, 0, 53, 178, 247, 253, 253, 253, 254, 167, 6, 0, 0, 0, 0, 0, 0], [0, 0, 0, 0, 0, 0, 0, 0, 0, 0, 0, 0, 58, 235, 254, 216, 107, 78, 115, 254, 253, 78, 0, 0, 0, 0, 0, 0], [0, 0, 0, 0, 0, 0, 0, 0, 0, 0, 0, 43, 237, 253, 131, 10, 0, 0, 53, 254, 253, 78, 0, 0, 0, 0, 0, 0], [0, 0, 0, 0, 0, 0, 0, 0, 0, 0, 8, 183, 253, 139, 0, 0, 0, 31, 217, 254, 200, 18, 0, 0, 0, 0, 0, 0], [0, 0, 0, 0, 0, 0, 0, 0, 0, 0, 8, 206, 254, 58, 0, 0, 102, 254, 254, 218, 30, 0, 0, 0, 0, 0, 0, 0], [0, 0, 0, 0, 0, 0, 0, 0, 0, 0, 0, 175, 253, 66, 35, 125, 241, 253, 200, 57, 3, 0, 0, 0, 0, 0, 0, 0], [0, 0, 0, 0, 0, 0, 0, 0, 0, 0, 0, 175, 253, 223, 224, 253, 253, 253, 193, 146, 27, 0, 0, 0, 0, 0, 0, 0], [0, 0, 0, 0, 0, 0, 0, 0, 0, 0, 0, 138, 253, 253, 254, 245, 185, 231, 138, 8, 0, 0, 0, 0, 0, 0, 0, 0], [0, 0, 0, 0, 0, 0, 0, 0, 0, 0, 0, 71, 245, 253, 254, 253, 192, 27, 0, 0, 0, 0, 0, 0, 0, 0, 0, 0], [0, 0, 0, 0, 0, 0, 0, 0, 0, 0, 0, 41, 164, 254, 255, 238, 18, 0, 0, 0, 0, 0, 0, 0, 0, 0, 0, 0], [0, 0, 0, 0, 0, 0, 0, 0, 0, 0, 108, 241, 253, 207, 201, 253, 226, 24, 0, 0, 0, 0, 0, 0, 0, 0, 0, 0], [0, 0, 0, 0, 0, 0, 0, 0, 0, 102, 241, 253, 195, 48, 41, 241, 253, 146, 0, 0, 0, 0, 0, 0, 0, 0, 0, 0], [0, 0, 0, 0, 0, 0, 0, 7, 152, 254, 250, 116, 9, 0, 0, 72, 253, 250, 54, 0, 0, 0, 0, 0, 0, 0, 0, 0], [0, 0, 0, 0, 0, 0, 0, 40, 253, 254, 121, 0, 0, 0, 0, 20, 253, 253, 58, 0, 0, 0, 0, 0, 0, 0, 0, 0], [0, 0, 0, 0, 0, 0, 0, 197, 254, 218, 15, 0, 0, 0, 0, 43, 254, 244, 45, 0, 0, 0, 0, 0, 0, 0, 0, 0], [0, 0, 0, 0, 0, 0, 67, 250, 253, 68, 0, 0, 0, 8, 103, 232, 253, 124, 0, 0, 0, 0, 0, 0, 0, 0, 0, 0], [0, 0, 0, 0, 0, 0, 79, 253, 253, 79, 18, 79, 168, 205, 254, 253, 168, 6, 0, 0, 0, 0, 0, 0, 0, 0, 0, 0], [0, 0, 0, 0, 0, 0, 36, 227, 253, 254, 238, 253, 253, 253, 192, 109, 6, 0, 0, 0, 0, 0, 0, 0, 0, 0, 0, 0], [0, 0, 0, 0, 0, 0, 0, 47, 230, 254, 253, 222, 103, 58, 0, 0, 0, 0, 0, 0, 0, 0, 0, 0, 0, 0, 0, 0], [0, 0, 0, 0, 0, 0, 0, 0, 0, 0, 0, 0, 0, 0, 0, 0, 0, 0, 0, 0, 0, 0, 0, 0, 0, 0, 0, 0], [0, 0, 0, 0, 0, 0, 0, 0, 0, 0, 0, 0, 0, 0, 0, 0, 0, 0, 0, 0, 0, 0, 0, 0, 0, 0, 0, 0], [0, 0, 0, 0, 0, 0, 0, 0, 0, 0, 0, 0, 0, 0, 0, 0, 0, 0, 0, 0, 0, 0, 0, 0, 0, 0, 0, 0], [0, 0, 0, 0, 0, 0, 0, 0, 0, 0, 0, 0, 0, 0, 0, 0, 0, 0, 0, 0, 0, 0, 0, 0, 0, 0, 0, 0]]}, {\"mode\": \"lines\", \"type\": \"scatter\", \"x\": [5.0, 5.0, 5.0, 6.0, 7.0, 7.0, 7.0, 6.0, 5.0], \"y\": [18.0, 19.0, 20.0, 20.0, 19.0, 18.0, 17.0, 17.0, 18.0]}, {\"mode\": \"lines\", \"type\": \"scatter\", \"x\": [8.0, 8.0, 8.0, 8.0, 8.0, 8.0, 8.0, 8.0, 9.0, 10.0, 11.0, 11.0, 11.0, 11.0, 11.0, 11.0, 10.0, 10.0, 9.0, 8.0], \"y\": [9.0, 10.0, 11.0, 12.0, 13.0, 14.0, 15.0, 16.0, 16.0, 15.0, 14.0, 13.0, 12.0, 11.0, 10.0, 9.0, 9.0, 8.0, 8.0, 9.0]}, {\"mode\": \"lines\", \"type\": \"scatter\", \"x\": [8.0, 8.0, 8.0, 8.0, 9.0, 10.0, 11.0, 12.0, 13.0, 14.0, 15.0, 16.0, 16.0, 16.0, 16.0, 16.0, 15.0, 15.0, 15.0, 14.0, 13.0, 12.0, 11.0, 10.0, 9.0, 8.0], \"y\": [19.0, 20.0, 21.0, 22.0, 22.0, 22.0, 22.0, 22.0, 22.0, 21.0, 21.0, 20.0, 19.0, 18.0, 17.0, 16.0, 16.0, 15.0, 14.0, 14.0, 14.0, 15.0, 16.0, 17.0, 18.0, 19.0]}, {\"mode\": \"lines\", \"type\": \"scatter\", \"x\": [5.0, 5.0, 4.0, 5.0], \"y\": [19.0, 20.0, 20.0, 19.0]}, {\"mode\": \"lines\", \"type\": \"scatter\", \"x\": [6.0, 6.0, 5.0, 6.0], \"y\": [16.0, 17.0, 17.0, 16.0]}, {\"mode\": \"lines\", \"type\": \"scatter\", \"x\": [9.0, 9.0, 8.0, 9.0], \"y\": [7.0, 8.0, 8.0, 7.0]}, {\"mode\": \"lines\", \"type\": \"scatter\", \"x\": [12.0, 12.0, 12.0, 12.0, 12.0, 13.0, 14.0, 15.0, 16.0, 17.0, 17.0, 18.0, 19.0, 19.0, 19.0, 19.0, 18.0, 17.0, 16.0, 15.0, 14.0, 13.0, 12.0], \"y\": [8.0, 9.0, 10.0, 11.0, 12.0, 12.0, 12.0, 11.0, 11.0, 10.0, 9.0, 9.0, 8.0, 7.0, 6.0, 5.0, 5.0, 5.0, 5.0, 5.0, 6.0, 7.0, 8.0]}, {\"mode\": \"lines\", \"type\": \"scatter\", \"x\": [4.0, 4.0, 5.0, 4.0], \"y\": [20.0, 21.0, 20.0, 20.0]}, {\"mode\": \"lines\", \"type\": \"scatter\", \"x\": [5.0, 5.0, 6.0, 5.0], \"y\": [17.0, 18.0, 17.0, 17.0]}, {\"mode\": \"lines\", \"type\": \"scatter\", \"x\": [8.0, 8.0, 9.0, 8.0], \"y\": [8.0, 9.0, 8.0, 8.0]}, {\"mode\": \"lines\", \"type\": \"scatter\", \"x\": [15.0, 15.0, 16.0, 17.0, 17.0, 16.0, 15.0], \"y\": [12.0, 13.0, 13.0, 12.0, 11.0, 11.0, 12.0]}],                        {\"coloraxis\": {\"colorscale\": [[0.0, \"rgb(0, 0, 0)\"], [0.09090909090909091, \"rgb(16, 16, 16)\"], [0.18181818181818182, \"rgb(38, 38, 38)\"], [0.2727272727272727, \"rgb(59, 59, 59)\"], [0.36363636363636365, \"rgb(81, 80, 80)\"], [0.45454545454545453, \"rgb(102, 101, 101)\"], [0.5454545454545454, \"rgb(124, 123, 122)\"], [0.6363636363636364, \"rgb(146, 146, 145)\"], [0.7272727272727273, \"rgb(171, 171, 170)\"], [0.8181818181818182, \"rgb(197, 197, 195)\"], [0.9090909090909091, \"rgb(224, 224, 223)\"], [1.0, \"rgb(254, 254, 253)\"]], \"showscale\": false}, \"height\": 400, \"margin\": {\"t\": 60}, \"template\": {\"data\": {\"bar\": [{\"error_x\": {\"color\": \"#2a3f5f\"}, \"error_y\": {\"color\": \"#2a3f5f\"}, \"marker\": {\"line\": {\"color\": \"#E5ECF6\", \"width\": 0.5}}, \"type\": \"bar\"}], \"barpolar\": [{\"marker\": {\"line\": {\"color\": \"#E5ECF6\", \"width\": 0.5}}, \"type\": \"barpolar\"}], \"carpet\": [{\"aaxis\": {\"endlinecolor\": \"#2a3f5f\", \"gridcolor\": \"white\", \"linecolor\": \"white\", \"minorgridcolor\": \"white\", \"startlinecolor\": \"#2a3f5f\"}, \"baxis\": {\"endlinecolor\": \"#2a3f5f\", \"gridcolor\": \"white\", \"linecolor\": \"white\", \"minorgridcolor\": \"white\", \"startlinecolor\": \"#2a3f5f\"}, \"type\": \"carpet\"}], \"choropleth\": [{\"colorbar\": {\"outlinewidth\": 0, \"ticks\": \"\"}, \"type\": \"choropleth\"}], \"contour\": [{\"colorbar\": {\"outlinewidth\": 0, \"ticks\": \"\"}, \"colorscale\": [[0.0, \"#0d0887\"], [0.1111111111111111, \"#46039f\"], [0.2222222222222222, \"#7201a8\"], [0.3333333333333333, \"#9c179e\"], [0.4444444444444444, \"#bd3786\"], [0.5555555555555556, \"#d8576b\"], [0.6666666666666666, \"#ed7953\"], [0.7777777777777778, \"#fb9f3a\"], [0.8888888888888888, \"#fdca26\"], [1.0, \"#f0f921\"]], \"type\": \"contour\"}], \"contourcarpet\": [{\"colorbar\": {\"outlinewidth\": 0, \"ticks\": \"\"}, \"type\": \"contourcarpet\"}], \"heatmap\": [{\"colorbar\": {\"outlinewidth\": 0, \"ticks\": \"\"}, \"colorscale\": [[0.0, \"#0d0887\"], [0.1111111111111111, \"#46039f\"], [0.2222222222222222, \"#7201a8\"], [0.3333333333333333, \"#9c179e\"], [0.4444444444444444, \"#bd3786\"], [0.5555555555555556, \"#d8576b\"], [0.6666666666666666, \"#ed7953\"], [0.7777777777777778, \"#fb9f3a\"], [0.8888888888888888, \"#fdca26\"], [1.0, \"#f0f921\"]], \"type\": \"heatmap\"}], \"heatmapgl\": [{\"colorbar\": {\"outlinewidth\": 0, \"ticks\": \"\"}, \"colorscale\": [[0.0, \"#0d0887\"], [0.1111111111111111, \"#46039f\"], [0.2222222222222222, \"#7201a8\"], [0.3333333333333333, \"#9c179e\"], [0.4444444444444444, \"#bd3786\"], [0.5555555555555556, \"#d8576b\"], [0.6666666666666666, \"#ed7953\"], [0.7777777777777778, \"#fb9f3a\"], [0.8888888888888888, \"#fdca26\"], [1.0, \"#f0f921\"]], \"type\": \"heatmapgl\"}], \"histogram\": [{\"marker\": {\"colorbar\": {\"outlinewidth\": 0, \"ticks\": \"\"}}, \"type\": \"histogram\"}], \"histogram2d\": [{\"colorbar\": {\"outlinewidth\": 0, \"ticks\": \"\"}, \"colorscale\": [[0.0, \"#0d0887\"], [0.1111111111111111, \"#46039f\"], [0.2222222222222222, \"#7201a8\"], [0.3333333333333333, \"#9c179e\"], [0.4444444444444444, \"#bd3786\"], [0.5555555555555556, \"#d8576b\"], [0.6666666666666666, \"#ed7953\"], [0.7777777777777778, \"#fb9f3a\"], [0.8888888888888888, \"#fdca26\"], [1.0, \"#f0f921\"]], \"type\": \"histogram2d\"}], \"histogram2dcontour\": [{\"colorbar\": {\"outlinewidth\": 0, \"ticks\": \"\"}, \"colorscale\": [[0.0, \"#0d0887\"], [0.1111111111111111, \"#46039f\"], [0.2222222222222222, \"#7201a8\"], [0.3333333333333333, \"#9c179e\"], [0.4444444444444444, \"#bd3786\"], [0.5555555555555556, \"#d8576b\"], [0.6666666666666666, \"#ed7953\"], [0.7777777777777778, \"#fb9f3a\"], [0.8888888888888888, \"#fdca26\"], [1.0, \"#f0f921\"]], \"type\": \"histogram2dcontour\"}], \"mesh3d\": [{\"colorbar\": {\"outlinewidth\": 0, \"ticks\": \"\"}, \"type\": \"mesh3d\"}], \"parcoords\": [{\"line\": {\"colorbar\": {\"outlinewidth\": 0, \"ticks\": \"\"}}, \"type\": \"parcoords\"}], \"pie\": [{\"automargin\": true, \"type\": \"pie\"}], \"scatter\": [{\"marker\": {\"colorbar\": {\"outlinewidth\": 0, \"ticks\": \"\"}}, \"type\": \"scatter\"}], \"scatter3d\": [{\"line\": {\"colorbar\": {\"outlinewidth\": 0, \"ticks\": \"\"}}, \"marker\": {\"colorbar\": {\"outlinewidth\": 0, \"ticks\": \"\"}}, \"type\": \"scatter3d\"}], \"scattercarpet\": [{\"marker\": {\"colorbar\": {\"outlinewidth\": 0, \"ticks\": \"\"}}, \"type\": \"scattercarpet\"}], \"scattergeo\": [{\"marker\": {\"colorbar\": {\"outlinewidth\": 0, \"ticks\": \"\"}}, \"type\": \"scattergeo\"}], \"scattergl\": [{\"marker\": {\"colorbar\": {\"outlinewidth\": 0, \"ticks\": \"\"}}, \"type\": \"scattergl\"}], \"scattermapbox\": [{\"marker\": {\"colorbar\": {\"outlinewidth\": 0, \"ticks\": \"\"}}, \"type\": \"scattermapbox\"}], \"scatterpolar\": [{\"marker\": {\"colorbar\": {\"outlinewidth\": 0, \"ticks\": \"\"}}, \"type\": \"scatterpolar\"}], \"scatterpolargl\": [{\"marker\": {\"colorbar\": {\"outlinewidth\": 0, \"ticks\": \"\"}}, \"type\": \"scatterpolargl\"}], \"scatterternary\": [{\"marker\": {\"colorbar\": {\"outlinewidth\": 0, \"ticks\": \"\"}}, \"type\": \"scatterternary\"}], \"surface\": [{\"colorbar\": {\"outlinewidth\": 0, \"ticks\": \"\"}, \"colorscale\": [[0.0, \"#0d0887\"], [0.1111111111111111, \"#46039f\"], [0.2222222222222222, \"#7201a8\"], [0.3333333333333333, \"#9c179e\"], [0.4444444444444444, \"#bd3786\"], [0.5555555555555556, \"#d8576b\"], [0.6666666666666666, \"#ed7953\"], [0.7777777777777778, \"#fb9f3a\"], [0.8888888888888888, \"#fdca26\"], [1.0, \"#f0f921\"]], \"type\": \"surface\"}], \"table\": [{\"cells\": {\"fill\": {\"color\": \"#EBF0F8\"}, \"line\": {\"color\": \"white\"}}, \"header\": {\"fill\": {\"color\": \"#C8D4E3\"}, \"line\": {\"color\": \"white\"}}, \"type\": \"table\"}]}, \"layout\": {\"annotationdefaults\": {\"arrowcolor\": \"#2a3f5f\", \"arrowhead\": 0, \"arrowwidth\": 1}, \"autotypenumbers\": \"strict\", \"coloraxis\": {\"colorbar\": {\"outlinewidth\": 0, \"ticks\": \"\"}}, \"colorscale\": {\"diverging\": [[0, \"#8e0152\"], [0.1, \"#c51b7d\"], [0.2, \"#de77ae\"], [0.3, \"#f1b6da\"], [0.4, \"#fde0ef\"], [0.5, \"#f7f7f7\"], [0.6, \"#e6f5d0\"], [0.7, \"#b8e186\"], [0.8, \"#7fbc41\"], [0.9, \"#4d9221\"], [1, \"#276419\"]], \"sequential\": [[0.0, \"#0d0887\"], [0.1111111111111111, \"#46039f\"], [0.2222222222222222, \"#7201a8\"], [0.3333333333333333, \"#9c179e\"], [0.4444444444444444, \"#bd3786\"], [0.5555555555555556, \"#d8576b\"], [0.6666666666666666, \"#ed7953\"], [0.7777777777777778, \"#fb9f3a\"], [0.8888888888888888, \"#fdca26\"], [1.0, \"#f0f921\"]], \"sequentialminus\": [[0.0, \"#0d0887\"], [0.1111111111111111, \"#46039f\"], [0.2222222222222222, \"#7201a8\"], [0.3333333333333333, \"#9c179e\"], [0.4444444444444444, \"#bd3786\"], [0.5555555555555556, \"#d8576b\"], [0.6666666666666666, \"#ed7953\"], [0.7777777777777778, \"#fb9f3a\"], [0.8888888888888888, \"#fdca26\"], [1.0, \"#f0f921\"]]}, \"colorway\": [\"#636efa\", \"#EF553B\", \"#00cc96\", \"#ab63fa\", \"#FFA15A\", \"#19d3f3\", \"#FF6692\", \"#B6E880\", \"#FF97FF\", \"#FECB52\"], \"font\": {\"color\": \"#2a3f5f\"}, \"geo\": {\"bgcolor\": \"white\", \"lakecolor\": \"white\", \"landcolor\": \"#E5ECF6\", \"showlakes\": true, \"showland\": true, \"subunitcolor\": \"white\"}, \"hoverlabel\": {\"align\": \"left\"}, \"hovermode\": \"closest\", \"mapbox\": {\"style\": \"light\"}, \"paper_bgcolor\": \"white\", \"plot_bgcolor\": \"#E5ECF6\", \"polar\": {\"angularaxis\": {\"gridcolor\": \"white\", \"linecolor\": \"white\", \"ticks\": \"\"}, \"bgcolor\": \"#E5ECF6\", \"radialaxis\": {\"gridcolor\": \"white\", \"linecolor\": \"white\", \"ticks\": \"\"}}, \"scene\": {\"xaxis\": {\"backgroundcolor\": \"#E5ECF6\", \"gridcolor\": \"white\", \"gridwidth\": 2, \"linecolor\": \"white\", \"showbackground\": true, \"ticks\": \"\", \"zerolinecolor\": \"white\"}, \"yaxis\": {\"backgroundcolor\": \"#E5ECF6\", \"gridcolor\": \"white\", \"gridwidth\": 2, \"linecolor\": \"white\", \"showbackground\": true, \"ticks\": \"\", \"zerolinecolor\": \"white\"}, \"zaxis\": {\"backgroundcolor\": \"#E5ECF6\", \"gridcolor\": \"white\", \"gridwidth\": 2, \"linecolor\": \"white\", \"showbackground\": true, \"ticks\": \"\", \"zerolinecolor\": \"white\"}}, \"shapedefaults\": {\"line\": {\"color\": \"#2a3f5f\"}}, \"ternary\": {\"aaxis\": {\"gridcolor\": \"white\", \"linecolor\": \"white\", \"ticks\": \"\"}, \"baxis\": {\"gridcolor\": \"white\", \"linecolor\": \"white\", \"ticks\": \"\"}, \"bgcolor\": \"#E5ECF6\", \"caxis\": {\"gridcolor\": \"white\", \"linecolor\": \"white\", \"ticks\": \"\"}}, \"title\": {\"x\": 0.05}, \"xaxis\": {\"automargin\": true, \"gridcolor\": \"white\", \"linecolor\": \"white\", \"ticks\": \"\", \"title\": {\"standoff\": 15}, \"zerolinecolor\": \"white\", \"zerolinewidth\": 2}, \"yaxis\": {\"automargin\": true, \"gridcolor\": \"white\", \"linecolor\": \"white\", \"ticks\": \"\", \"title\": {\"standoff\": 15}, \"zerolinecolor\": \"white\", \"zerolinewidth\": 2}}}, \"title\": {\"text\": \"Digit 8 - Cycle file 110_cycles.vtk\"}, \"width\": 400, \"xaxis\": {\"anchor\": \"y\", \"constrain\": \"domain\", \"domain\": [0.0, 1.0], \"scaleanchor\": \"y\", \"showticklabels\": false}, \"yaxis\": {\"anchor\": \"x\", \"autorange\": \"reversed\", \"constrain\": \"domain\", \"domain\": [0.0, 1.0], \"showticklabels\": false}},                        {\"responsive\": true}                    ).then(function(){\n",
       "                            \n",
       "var gd = document.getElementById('c534fbc3-372a-45d0-bd7c-fc4a0cb21386');\n",
       "var x = new MutationObserver(function (mutations, observer) {{\n",
       "        var display = window.getComputedStyle(gd).display;\n",
       "        if (!display || display === 'none') {{\n",
       "            console.log([gd, 'removed!']);\n",
       "            Plotly.purge(gd);\n",
       "            observer.disconnect();\n",
       "        }}\n",
       "}});\n",
       "\n",
       "// Listen for the removal of the full notebook cells\n",
       "var notebookContainer = gd.closest('#notebook-container');\n",
       "if (notebookContainer) {{\n",
       "    x.observe(notebookContainer, {childList: true});\n",
       "}}\n",
       "\n",
       "// Listen for the clearing of the current output cell\n",
       "var outputEl = gd.closest('.output');\n",
       "if (outputEl) {{\n",
       "    x.observe(outputEl, {childList: true});\n",
       "}}\n",
       "\n",
       "                        })                };                });            </script>        </div>"
      ]
     },
     "metadata": {},
     "output_type": "display_data"
    }
   ],
   "source": [
    "VTK_DIR_INV = os.path.join(DATA_DIR, \"vtk-inverse\")\n",
    "\n",
    "pngFile = os.path.join(IMG_DIR, digitPrefix+\".png\")\n",
    "img = io.imread(pngFile)\n",
    "cycleFile = os.path.join(VTK_DIR_INV, digitPrefix+\"_cycles.vtk\")\n",
    "\n",
    "visualizeCycles(img, cycleFile)"
   ]
  },
  {
   "cell_type": "markdown",
   "id": "proved-scanning",
   "metadata": {},
   "source": [
    "And finally using the distance transform."
   ]
  },
  {
   "cell_type": "code",
   "execution_count": 16,
   "id": "objective-solid",
   "metadata": {},
   "outputs": [
    {
     "data": {
      "application/vnd.plotly.v1+json": {
       "config": {
        "plotlyServerURL": "https://plot.ly"
       },
       "data": [
        {
         "coloraxis": "coloraxis",
         "hovertemplate": "x: %{x}<br>y: %{y}<br>color: %{z}<extra></extra>",
         "name": "0",
         "type": "heatmap",
         "xaxis": "x",
         "yaxis": "y",
         "z": [
          [
           0,
           0,
           0,
           0,
           0,
           0,
           0,
           0,
           0,
           0,
           0,
           0,
           0,
           0,
           0,
           0,
           0,
           0,
           0,
           0,
           0,
           0,
           0,
           0,
           0,
           0,
           0,
           0
          ],
          [
           0,
           0,
           0,
           0,
           0,
           0,
           0,
           0,
           0,
           0,
           0,
           0,
           0,
           0,
           0,
           0,
           0,
           0,
           0,
           0,
           0,
           0,
           0,
           0,
           0,
           0,
           0,
           0
          ],
          [
           0,
           0,
           0,
           0,
           0,
           0,
           0,
           0,
           0,
           0,
           0,
           0,
           0,
           0,
           0,
           0,
           0,
           0,
           0,
           0,
           0,
           0,
           0,
           0,
           0,
           0,
           0,
           0
          ],
          [
           0,
           0,
           0,
           0,
           0,
           0,
           0,
           0,
           0,
           0,
           0,
           0,
           0,
           0,
           0,
           0,
           0,
           0,
           0,
           0,
           0,
           0,
           0,
           0,
           0,
           0,
           0,
           0
          ],
          [
           0,
           0,
           0,
           0,
           0,
           0,
           0,
           0,
           0,
           0,
           0,
           0,
           0,
           0,
           0,
           50,
           127,
           209,
           178,
           134,
           9,
           0,
           0,
           0,
           0,
           0,
           0,
           0
          ],
          [
           0,
           0,
           0,
           0,
           0,
           0,
           0,
           0,
           0,
           0,
           0,
           0,
           0,
           53,
           178,
           247,
           253,
           253,
           253,
           254,
           167,
           6,
           0,
           0,
           0,
           0,
           0,
           0
          ],
          [
           0,
           0,
           0,
           0,
           0,
           0,
           0,
           0,
           0,
           0,
           0,
           0,
           58,
           235,
           254,
           216,
           107,
           78,
           115,
           254,
           253,
           78,
           0,
           0,
           0,
           0,
           0,
           0
          ],
          [
           0,
           0,
           0,
           0,
           0,
           0,
           0,
           0,
           0,
           0,
           0,
           43,
           237,
           253,
           131,
           10,
           0,
           0,
           53,
           254,
           253,
           78,
           0,
           0,
           0,
           0,
           0,
           0
          ],
          [
           0,
           0,
           0,
           0,
           0,
           0,
           0,
           0,
           0,
           0,
           8,
           183,
           253,
           139,
           0,
           0,
           0,
           31,
           217,
           254,
           200,
           18,
           0,
           0,
           0,
           0,
           0,
           0
          ],
          [
           0,
           0,
           0,
           0,
           0,
           0,
           0,
           0,
           0,
           0,
           8,
           206,
           254,
           58,
           0,
           0,
           102,
           254,
           254,
           218,
           30,
           0,
           0,
           0,
           0,
           0,
           0,
           0
          ],
          [
           0,
           0,
           0,
           0,
           0,
           0,
           0,
           0,
           0,
           0,
           0,
           175,
           253,
           66,
           35,
           125,
           241,
           253,
           200,
           57,
           3,
           0,
           0,
           0,
           0,
           0,
           0,
           0
          ],
          [
           0,
           0,
           0,
           0,
           0,
           0,
           0,
           0,
           0,
           0,
           0,
           175,
           253,
           223,
           224,
           253,
           253,
           253,
           193,
           146,
           27,
           0,
           0,
           0,
           0,
           0,
           0,
           0
          ],
          [
           0,
           0,
           0,
           0,
           0,
           0,
           0,
           0,
           0,
           0,
           0,
           138,
           253,
           253,
           254,
           245,
           185,
           231,
           138,
           8,
           0,
           0,
           0,
           0,
           0,
           0,
           0,
           0
          ],
          [
           0,
           0,
           0,
           0,
           0,
           0,
           0,
           0,
           0,
           0,
           0,
           71,
           245,
           253,
           254,
           253,
           192,
           27,
           0,
           0,
           0,
           0,
           0,
           0,
           0,
           0,
           0,
           0
          ],
          [
           0,
           0,
           0,
           0,
           0,
           0,
           0,
           0,
           0,
           0,
           0,
           41,
           164,
           254,
           255,
           238,
           18,
           0,
           0,
           0,
           0,
           0,
           0,
           0,
           0,
           0,
           0,
           0
          ],
          [
           0,
           0,
           0,
           0,
           0,
           0,
           0,
           0,
           0,
           0,
           108,
           241,
           253,
           207,
           201,
           253,
           226,
           24,
           0,
           0,
           0,
           0,
           0,
           0,
           0,
           0,
           0,
           0
          ],
          [
           0,
           0,
           0,
           0,
           0,
           0,
           0,
           0,
           0,
           102,
           241,
           253,
           195,
           48,
           41,
           241,
           253,
           146,
           0,
           0,
           0,
           0,
           0,
           0,
           0,
           0,
           0,
           0
          ],
          [
           0,
           0,
           0,
           0,
           0,
           0,
           0,
           7,
           152,
           254,
           250,
           116,
           9,
           0,
           0,
           72,
           253,
           250,
           54,
           0,
           0,
           0,
           0,
           0,
           0,
           0,
           0,
           0
          ],
          [
           0,
           0,
           0,
           0,
           0,
           0,
           0,
           40,
           253,
           254,
           121,
           0,
           0,
           0,
           0,
           20,
           253,
           253,
           58,
           0,
           0,
           0,
           0,
           0,
           0,
           0,
           0,
           0
          ],
          [
           0,
           0,
           0,
           0,
           0,
           0,
           0,
           197,
           254,
           218,
           15,
           0,
           0,
           0,
           0,
           43,
           254,
           244,
           45,
           0,
           0,
           0,
           0,
           0,
           0,
           0,
           0,
           0
          ],
          [
           0,
           0,
           0,
           0,
           0,
           0,
           67,
           250,
           253,
           68,
           0,
           0,
           0,
           8,
           103,
           232,
           253,
           124,
           0,
           0,
           0,
           0,
           0,
           0,
           0,
           0,
           0,
           0
          ],
          [
           0,
           0,
           0,
           0,
           0,
           0,
           79,
           253,
           253,
           79,
           18,
           79,
           168,
           205,
           254,
           253,
           168,
           6,
           0,
           0,
           0,
           0,
           0,
           0,
           0,
           0,
           0,
           0
          ],
          [
           0,
           0,
           0,
           0,
           0,
           0,
           36,
           227,
           253,
           254,
           238,
           253,
           253,
           253,
           192,
           109,
           6,
           0,
           0,
           0,
           0,
           0,
           0,
           0,
           0,
           0,
           0,
           0
          ],
          [
           0,
           0,
           0,
           0,
           0,
           0,
           0,
           47,
           230,
           254,
           253,
           222,
           103,
           58,
           0,
           0,
           0,
           0,
           0,
           0,
           0,
           0,
           0,
           0,
           0,
           0,
           0,
           0
          ],
          [
           0,
           0,
           0,
           0,
           0,
           0,
           0,
           0,
           0,
           0,
           0,
           0,
           0,
           0,
           0,
           0,
           0,
           0,
           0,
           0,
           0,
           0,
           0,
           0,
           0,
           0,
           0,
           0
          ],
          [
           0,
           0,
           0,
           0,
           0,
           0,
           0,
           0,
           0,
           0,
           0,
           0,
           0,
           0,
           0,
           0,
           0,
           0,
           0,
           0,
           0,
           0,
           0,
           0,
           0,
           0,
           0,
           0
          ],
          [
           0,
           0,
           0,
           0,
           0,
           0,
           0,
           0,
           0,
           0,
           0,
           0,
           0,
           0,
           0,
           0,
           0,
           0,
           0,
           0,
           0,
           0,
           0,
           0,
           0,
           0,
           0,
           0
          ],
          [
           0,
           0,
           0,
           0,
           0,
           0,
           0,
           0,
           0,
           0,
           0,
           0,
           0,
           0,
           0,
           0,
           0,
           0,
           0,
           0,
           0,
           0,
           0,
           0,
           0,
           0,
           0,
           0
          ]
         ]
        },
        {
         "mode": "lines",
         "type": "scatter",
         "x": [
          12,
          12,
          12,
          13,
          13,
          14,
          15,
          16,
          17,
          18,
          19,
          19,
          19,
          19,
          18,
          17,
          16,
          15,
          14,
          13,
          12
         ],
         "y": [
          8,
          9,
          10,
          10,
          11,
          11,
          11,
          11,
          10,
          9,
          8,
          7,
          6,
          5,
          5,
          5,
          5,
          5,
          6,
          7,
          8
         ]
        },
        {
         "mode": "lines",
         "type": "scatter",
         "x": [
          8,
          8,
          9,
          9,
          10,
          11,
          12,
          13,
          14,
          15,
          16,
          16,
          16,
          16,
          16,
          15,
          15,
          14,
          13,
          12,
          11,
          10,
          9,
          9,
          8
         ],
         "y": [
          20,
          21,
          21,
          22,
          22,
          22,
          22,
          21,
          21,
          21,
          20,
          19,
          18,
          17,
          16,
          16,
          15,
          15,
          15,
          16,
          16,
          17,
          18,
          19,
          20
         ]
        },
        {
         "mode": "lines",
         "type": "scatter",
         "x": [
          13,
          13,
          14,
          15,
          15,
          14,
          13
         ],
         "y": [
          19,
          20,
          20,
          19,
          18,
          18,
          19
         ]
        }
       ],
       "layout": {
        "coloraxis": {
         "colorscale": [
          [
           0,
           "rgb(0, 0, 0)"
          ],
          [
           0.09090909090909091,
           "rgb(16, 16, 16)"
          ],
          [
           0.18181818181818182,
           "rgb(38, 38, 38)"
          ],
          [
           0.2727272727272727,
           "rgb(59, 59, 59)"
          ],
          [
           0.36363636363636365,
           "rgb(81, 80, 80)"
          ],
          [
           0.45454545454545453,
           "rgb(102, 101, 101)"
          ],
          [
           0.5454545454545454,
           "rgb(124, 123, 122)"
          ],
          [
           0.6363636363636364,
           "rgb(146, 146, 145)"
          ],
          [
           0.7272727272727273,
           "rgb(171, 171, 170)"
          ],
          [
           0.8181818181818182,
           "rgb(197, 197, 195)"
          ],
          [
           0.9090909090909091,
           "rgb(224, 224, 223)"
          ],
          [
           1,
           "rgb(254, 254, 253)"
          ]
         ],
         "showscale": false
        },
        "height": 400,
        "margin": {
         "t": 60
        },
        "template": {
         "data": {
          "bar": [
           {
            "error_x": {
             "color": "#2a3f5f"
            },
            "error_y": {
             "color": "#2a3f5f"
            },
            "marker": {
             "line": {
              "color": "#E5ECF6",
              "width": 0.5
             }
            },
            "type": "bar"
           }
          ],
          "barpolar": [
           {
            "marker": {
             "line": {
              "color": "#E5ECF6",
              "width": 0.5
             }
            },
            "type": "barpolar"
           }
          ],
          "carpet": [
           {
            "aaxis": {
             "endlinecolor": "#2a3f5f",
             "gridcolor": "white",
             "linecolor": "white",
             "minorgridcolor": "white",
             "startlinecolor": "#2a3f5f"
            },
            "baxis": {
             "endlinecolor": "#2a3f5f",
             "gridcolor": "white",
             "linecolor": "white",
             "minorgridcolor": "white",
             "startlinecolor": "#2a3f5f"
            },
            "type": "carpet"
           }
          ],
          "choropleth": [
           {
            "colorbar": {
             "outlinewidth": 0,
             "ticks": ""
            },
            "type": "choropleth"
           }
          ],
          "contour": [
           {
            "colorbar": {
             "outlinewidth": 0,
             "ticks": ""
            },
            "colorscale": [
             [
              0,
              "#0d0887"
             ],
             [
              0.1111111111111111,
              "#46039f"
             ],
             [
              0.2222222222222222,
              "#7201a8"
             ],
             [
              0.3333333333333333,
              "#9c179e"
             ],
             [
              0.4444444444444444,
              "#bd3786"
             ],
             [
              0.5555555555555556,
              "#d8576b"
             ],
             [
              0.6666666666666666,
              "#ed7953"
             ],
             [
              0.7777777777777778,
              "#fb9f3a"
             ],
             [
              0.8888888888888888,
              "#fdca26"
             ],
             [
              1,
              "#f0f921"
             ]
            ],
            "type": "contour"
           }
          ],
          "contourcarpet": [
           {
            "colorbar": {
             "outlinewidth": 0,
             "ticks": ""
            },
            "type": "contourcarpet"
           }
          ],
          "heatmap": [
           {
            "colorbar": {
             "outlinewidth": 0,
             "ticks": ""
            },
            "colorscale": [
             [
              0,
              "#0d0887"
             ],
             [
              0.1111111111111111,
              "#46039f"
             ],
             [
              0.2222222222222222,
              "#7201a8"
             ],
             [
              0.3333333333333333,
              "#9c179e"
             ],
             [
              0.4444444444444444,
              "#bd3786"
             ],
             [
              0.5555555555555556,
              "#d8576b"
             ],
             [
              0.6666666666666666,
              "#ed7953"
             ],
             [
              0.7777777777777778,
              "#fb9f3a"
             ],
             [
              0.8888888888888888,
              "#fdca26"
             ],
             [
              1,
              "#f0f921"
             ]
            ],
            "type": "heatmap"
           }
          ],
          "heatmapgl": [
           {
            "colorbar": {
             "outlinewidth": 0,
             "ticks": ""
            },
            "colorscale": [
             [
              0,
              "#0d0887"
             ],
             [
              0.1111111111111111,
              "#46039f"
             ],
             [
              0.2222222222222222,
              "#7201a8"
             ],
             [
              0.3333333333333333,
              "#9c179e"
             ],
             [
              0.4444444444444444,
              "#bd3786"
             ],
             [
              0.5555555555555556,
              "#d8576b"
             ],
             [
              0.6666666666666666,
              "#ed7953"
             ],
             [
              0.7777777777777778,
              "#fb9f3a"
             ],
             [
              0.8888888888888888,
              "#fdca26"
             ],
             [
              1,
              "#f0f921"
             ]
            ],
            "type": "heatmapgl"
           }
          ],
          "histogram": [
           {
            "marker": {
             "colorbar": {
              "outlinewidth": 0,
              "ticks": ""
             }
            },
            "type": "histogram"
           }
          ],
          "histogram2d": [
           {
            "colorbar": {
             "outlinewidth": 0,
             "ticks": ""
            },
            "colorscale": [
             [
              0,
              "#0d0887"
             ],
             [
              0.1111111111111111,
              "#46039f"
             ],
             [
              0.2222222222222222,
              "#7201a8"
             ],
             [
              0.3333333333333333,
              "#9c179e"
             ],
             [
              0.4444444444444444,
              "#bd3786"
             ],
             [
              0.5555555555555556,
              "#d8576b"
             ],
             [
              0.6666666666666666,
              "#ed7953"
             ],
             [
              0.7777777777777778,
              "#fb9f3a"
             ],
             [
              0.8888888888888888,
              "#fdca26"
             ],
             [
              1,
              "#f0f921"
             ]
            ],
            "type": "histogram2d"
           }
          ],
          "histogram2dcontour": [
           {
            "colorbar": {
             "outlinewidth": 0,
             "ticks": ""
            },
            "colorscale": [
             [
              0,
              "#0d0887"
             ],
             [
              0.1111111111111111,
              "#46039f"
             ],
             [
              0.2222222222222222,
              "#7201a8"
             ],
             [
              0.3333333333333333,
              "#9c179e"
             ],
             [
              0.4444444444444444,
              "#bd3786"
             ],
             [
              0.5555555555555556,
              "#d8576b"
             ],
             [
              0.6666666666666666,
              "#ed7953"
             ],
             [
              0.7777777777777778,
              "#fb9f3a"
             ],
             [
              0.8888888888888888,
              "#fdca26"
             ],
             [
              1,
              "#f0f921"
             ]
            ],
            "type": "histogram2dcontour"
           }
          ],
          "mesh3d": [
           {
            "colorbar": {
             "outlinewidth": 0,
             "ticks": ""
            },
            "type": "mesh3d"
           }
          ],
          "parcoords": [
           {
            "line": {
             "colorbar": {
              "outlinewidth": 0,
              "ticks": ""
             }
            },
            "type": "parcoords"
           }
          ],
          "pie": [
           {
            "automargin": true,
            "type": "pie"
           }
          ],
          "scatter": [
           {
            "marker": {
             "colorbar": {
              "outlinewidth": 0,
              "ticks": ""
             }
            },
            "type": "scatter"
           }
          ],
          "scatter3d": [
           {
            "line": {
             "colorbar": {
              "outlinewidth": 0,
              "ticks": ""
             }
            },
            "marker": {
             "colorbar": {
              "outlinewidth": 0,
              "ticks": ""
             }
            },
            "type": "scatter3d"
           }
          ],
          "scattercarpet": [
           {
            "marker": {
             "colorbar": {
              "outlinewidth": 0,
              "ticks": ""
             }
            },
            "type": "scattercarpet"
           }
          ],
          "scattergeo": [
           {
            "marker": {
             "colorbar": {
              "outlinewidth": 0,
              "ticks": ""
             }
            },
            "type": "scattergeo"
           }
          ],
          "scattergl": [
           {
            "marker": {
             "colorbar": {
              "outlinewidth": 0,
              "ticks": ""
             }
            },
            "type": "scattergl"
           }
          ],
          "scattermapbox": [
           {
            "marker": {
             "colorbar": {
              "outlinewidth": 0,
              "ticks": ""
             }
            },
            "type": "scattermapbox"
           }
          ],
          "scatterpolar": [
           {
            "marker": {
             "colorbar": {
              "outlinewidth": 0,
              "ticks": ""
             }
            },
            "type": "scatterpolar"
           }
          ],
          "scatterpolargl": [
           {
            "marker": {
             "colorbar": {
              "outlinewidth": 0,
              "ticks": ""
             }
            },
            "type": "scatterpolargl"
           }
          ],
          "scatterternary": [
           {
            "marker": {
             "colorbar": {
              "outlinewidth": 0,
              "ticks": ""
             }
            },
            "type": "scatterternary"
           }
          ],
          "surface": [
           {
            "colorbar": {
             "outlinewidth": 0,
             "ticks": ""
            },
            "colorscale": [
             [
              0,
              "#0d0887"
             ],
             [
              0.1111111111111111,
              "#46039f"
             ],
             [
              0.2222222222222222,
              "#7201a8"
             ],
             [
              0.3333333333333333,
              "#9c179e"
             ],
             [
              0.4444444444444444,
              "#bd3786"
             ],
             [
              0.5555555555555556,
              "#d8576b"
             ],
             [
              0.6666666666666666,
              "#ed7953"
             ],
             [
              0.7777777777777778,
              "#fb9f3a"
             ],
             [
              0.8888888888888888,
              "#fdca26"
             ],
             [
              1,
              "#f0f921"
             ]
            ],
            "type": "surface"
           }
          ],
          "table": [
           {
            "cells": {
             "fill": {
              "color": "#EBF0F8"
             },
             "line": {
              "color": "white"
             }
            },
            "header": {
             "fill": {
              "color": "#C8D4E3"
             },
             "line": {
              "color": "white"
             }
            },
            "type": "table"
           }
          ]
         },
         "layout": {
          "annotationdefaults": {
           "arrowcolor": "#2a3f5f",
           "arrowhead": 0,
           "arrowwidth": 1
          },
          "autotypenumbers": "strict",
          "coloraxis": {
           "colorbar": {
            "outlinewidth": 0,
            "ticks": ""
           }
          },
          "colorscale": {
           "diverging": [
            [
             0,
             "#8e0152"
            ],
            [
             0.1,
             "#c51b7d"
            ],
            [
             0.2,
             "#de77ae"
            ],
            [
             0.3,
             "#f1b6da"
            ],
            [
             0.4,
             "#fde0ef"
            ],
            [
             0.5,
             "#f7f7f7"
            ],
            [
             0.6,
             "#e6f5d0"
            ],
            [
             0.7,
             "#b8e186"
            ],
            [
             0.8,
             "#7fbc41"
            ],
            [
             0.9,
             "#4d9221"
            ],
            [
             1,
             "#276419"
            ]
           ],
           "sequential": [
            [
             0,
             "#0d0887"
            ],
            [
             0.1111111111111111,
             "#46039f"
            ],
            [
             0.2222222222222222,
             "#7201a8"
            ],
            [
             0.3333333333333333,
             "#9c179e"
            ],
            [
             0.4444444444444444,
             "#bd3786"
            ],
            [
             0.5555555555555556,
             "#d8576b"
            ],
            [
             0.6666666666666666,
             "#ed7953"
            ],
            [
             0.7777777777777778,
             "#fb9f3a"
            ],
            [
             0.8888888888888888,
             "#fdca26"
            ],
            [
             1,
             "#f0f921"
            ]
           ],
           "sequentialminus": [
            [
             0,
             "#0d0887"
            ],
            [
             0.1111111111111111,
             "#46039f"
            ],
            [
             0.2222222222222222,
             "#7201a8"
            ],
            [
             0.3333333333333333,
             "#9c179e"
            ],
            [
             0.4444444444444444,
             "#bd3786"
            ],
            [
             0.5555555555555556,
             "#d8576b"
            ],
            [
             0.6666666666666666,
             "#ed7953"
            ],
            [
             0.7777777777777778,
             "#fb9f3a"
            ],
            [
             0.8888888888888888,
             "#fdca26"
            ],
            [
             1,
             "#f0f921"
            ]
           ]
          },
          "colorway": [
           "#636efa",
           "#EF553B",
           "#00cc96",
           "#ab63fa",
           "#FFA15A",
           "#19d3f3",
           "#FF6692",
           "#B6E880",
           "#FF97FF",
           "#FECB52"
          ],
          "font": {
           "color": "#2a3f5f"
          },
          "geo": {
           "bgcolor": "white",
           "lakecolor": "white",
           "landcolor": "#E5ECF6",
           "showlakes": true,
           "showland": true,
           "subunitcolor": "white"
          },
          "hoverlabel": {
           "align": "left"
          },
          "hovermode": "closest",
          "mapbox": {
           "style": "light"
          },
          "paper_bgcolor": "white",
          "plot_bgcolor": "#E5ECF6",
          "polar": {
           "angularaxis": {
            "gridcolor": "white",
            "linecolor": "white",
            "ticks": ""
           },
           "bgcolor": "#E5ECF6",
           "radialaxis": {
            "gridcolor": "white",
            "linecolor": "white",
            "ticks": ""
           }
          },
          "scene": {
           "xaxis": {
            "backgroundcolor": "#E5ECF6",
            "gridcolor": "white",
            "gridwidth": 2,
            "linecolor": "white",
            "showbackground": true,
            "ticks": "",
            "zerolinecolor": "white"
           },
           "yaxis": {
            "backgroundcolor": "#E5ECF6",
            "gridcolor": "white",
            "gridwidth": 2,
            "linecolor": "white",
            "showbackground": true,
            "ticks": "",
            "zerolinecolor": "white"
           },
           "zaxis": {
            "backgroundcolor": "#E5ECF6",
            "gridcolor": "white",
            "gridwidth": 2,
            "linecolor": "white",
            "showbackground": true,
            "ticks": "",
            "zerolinecolor": "white"
           }
          },
          "shapedefaults": {
           "line": {
            "color": "#2a3f5f"
           }
          },
          "ternary": {
           "aaxis": {
            "gridcolor": "white",
            "linecolor": "white",
            "ticks": ""
           },
           "baxis": {
            "gridcolor": "white",
            "linecolor": "white",
            "ticks": ""
           },
           "bgcolor": "#E5ECF6",
           "caxis": {
            "gridcolor": "white",
            "linecolor": "white",
            "ticks": ""
           }
          },
          "title": {
           "x": 0.05
          },
          "xaxis": {
           "automargin": true,
           "gridcolor": "white",
           "linecolor": "white",
           "ticks": "",
           "title": {
            "standoff": 15
           },
           "zerolinecolor": "white",
           "zerolinewidth": 2
          },
          "yaxis": {
           "automargin": true,
           "gridcolor": "white",
           "linecolor": "white",
           "ticks": "",
           "title": {
            "standoff": 15
           },
           "zerolinecolor": "white",
           "zerolinewidth": 2
          }
         }
        },
        "title": {
         "text": "Digit 8 - Cycle file 110_cycles.vtk"
        },
        "width": 400,
        "xaxis": {
         "anchor": "y",
         "constrain": "domain",
         "domain": [
          0,
          1
         ],
         "scaleanchor": "y",
         "showticklabels": false
        },
        "yaxis": {
         "anchor": "x",
         "autorange": "reversed",
         "constrain": "domain",
         "domain": [
          0,
          1
         ],
         "showticklabels": false
        }
       }
      },
      "text/html": [
       "<div>                            <div id=\"091ae25c-51b6-4759-ada1-e90d0fb83b5a\" class=\"plotly-graph-div\" style=\"height:400px; width:400px;\"></div>            <script type=\"text/javascript\">                require([\"plotly\"], function(Plotly) {                    window.PLOTLYENV=window.PLOTLYENV || {};                                    if (document.getElementById(\"091ae25c-51b6-4759-ada1-e90d0fb83b5a\")) {                    Plotly.newPlot(                        \"091ae25c-51b6-4759-ada1-e90d0fb83b5a\",                        [{\"coloraxis\": \"coloraxis\", \"hovertemplate\": \"x: %{x}<br>y: %{y}<br>color: %{z}<extra></extra>\", \"name\": \"0\", \"type\": \"heatmap\", \"xaxis\": \"x\", \"yaxis\": \"y\", \"z\": [[0, 0, 0, 0, 0, 0, 0, 0, 0, 0, 0, 0, 0, 0, 0, 0, 0, 0, 0, 0, 0, 0, 0, 0, 0, 0, 0, 0], [0, 0, 0, 0, 0, 0, 0, 0, 0, 0, 0, 0, 0, 0, 0, 0, 0, 0, 0, 0, 0, 0, 0, 0, 0, 0, 0, 0], [0, 0, 0, 0, 0, 0, 0, 0, 0, 0, 0, 0, 0, 0, 0, 0, 0, 0, 0, 0, 0, 0, 0, 0, 0, 0, 0, 0], [0, 0, 0, 0, 0, 0, 0, 0, 0, 0, 0, 0, 0, 0, 0, 0, 0, 0, 0, 0, 0, 0, 0, 0, 0, 0, 0, 0], [0, 0, 0, 0, 0, 0, 0, 0, 0, 0, 0, 0, 0, 0, 0, 50, 127, 209, 178, 134, 9, 0, 0, 0, 0, 0, 0, 0], [0, 0, 0, 0, 0, 0, 0, 0, 0, 0, 0, 0, 0, 53, 178, 247, 253, 253, 253, 254, 167, 6, 0, 0, 0, 0, 0, 0], [0, 0, 0, 0, 0, 0, 0, 0, 0, 0, 0, 0, 58, 235, 254, 216, 107, 78, 115, 254, 253, 78, 0, 0, 0, 0, 0, 0], [0, 0, 0, 0, 0, 0, 0, 0, 0, 0, 0, 43, 237, 253, 131, 10, 0, 0, 53, 254, 253, 78, 0, 0, 0, 0, 0, 0], [0, 0, 0, 0, 0, 0, 0, 0, 0, 0, 8, 183, 253, 139, 0, 0, 0, 31, 217, 254, 200, 18, 0, 0, 0, 0, 0, 0], [0, 0, 0, 0, 0, 0, 0, 0, 0, 0, 8, 206, 254, 58, 0, 0, 102, 254, 254, 218, 30, 0, 0, 0, 0, 0, 0, 0], [0, 0, 0, 0, 0, 0, 0, 0, 0, 0, 0, 175, 253, 66, 35, 125, 241, 253, 200, 57, 3, 0, 0, 0, 0, 0, 0, 0], [0, 0, 0, 0, 0, 0, 0, 0, 0, 0, 0, 175, 253, 223, 224, 253, 253, 253, 193, 146, 27, 0, 0, 0, 0, 0, 0, 0], [0, 0, 0, 0, 0, 0, 0, 0, 0, 0, 0, 138, 253, 253, 254, 245, 185, 231, 138, 8, 0, 0, 0, 0, 0, 0, 0, 0], [0, 0, 0, 0, 0, 0, 0, 0, 0, 0, 0, 71, 245, 253, 254, 253, 192, 27, 0, 0, 0, 0, 0, 0, 0, 0, 0, 0], [0, 0, 0, 0, 0, 0, 0, 0, 0, 0, 0, 41, 164, 254, 255, 238, 18, 0, 0, 0, 0, 0, 0, 0, 0, 0, 0, 0], [0, 0, 0, 0, 0, 0, 0, 0, 0, 0, 108, 241, 253, 207, 201, 253, 226, 24, 0, 0, 0, 0, 0, 0, 0, 0, 0, 0], [0, 0, 0, 0, 0, 0, 0, 0, 0, 102, 241, 253, 195, 48, 41, 241, 253, 146, 0, 0, 0, 0, 0, 0, 0, 0, 0, 0], [0, 0, 0, 0, 0, 0, 0, 7, 152, 254, 250, 116, 9, 0, 0, 72, 253, 250, 54, 0, 0, 0, 0, 0, 0, 0, 0, 0], [0, 0, 0, 0, 0, 0, 0, 40, 253, 254, 121, 0, 0, 0, 0, 20, 253, 253, 58, 0, 0, 0, 0, 0, 0, 0, 0, 0], [0, 0, 0, 0, 0, 0, 0, 197, 254, 218, 15, 0, 0, 0, 0, 43, 254, 244, 45, 0, 0, 0, 0, 0, 0, 0, 0, 0], [0, 0, 0, 0, 0, 0, 67, 250, 253, 68, 0, 0, 0, 8, 103, 232, 253, 124, 0, 0, 0, 0, 0, 0, 0, 0, 0, 0], [0, 0, 0, 0, 0, 0, 79, 253, 253, 79, 18, 79, 168, 205, 254, 253, 168, 6, 0, 0, 0, 0, 0, 0, 0, 0, 0, 0], [0, 0, 0, 0, 0, 0, 36, 227, 253, 254, 238, 253, 253, 253, 192, 109, 6, 0, 0, 0, 0, 0, 0, 0, 0, 0, 0, 0], [0, 0, 0, 0, 0, 0, 0, 47, 230, 254, 253, 222, 103, 58, 0, 0, 0, 0, 0, 0, 0, 0, 0, 0, 0, 0, 0, 0], [0, 0, 0, 0, 0, 0, 0, 0, 0, 0, 0, 0, 0, 0, 0, 0, 0, 0, 0, 0, 0, 0, 0, 0, 0, 0, 0, 0], [0, 0, 0, 0, 0, 0, 0, 0, 0, 0, 0, 0, 0, 0, 0, 0, 0, 0, 0, 0, 0, 0, 0, 0, 0, 0, 0, 0], [0, 0, 0, 0, 0, 0, 0, 0, 0, 0, 0, 0, 0, 0, 0, 0, 0, 0, 0, 0, 0, 0, 0, 0, 0, 0, 0, 0], [0, 0, 0, 0, 0, 0, 0, 0, 0, 0, 0, 0, 0, 0, 0, 0, 0, 0, 0, 0, 0, 0, 0, 0, 0, 0, 0, 0]]}, {\"mode\": \"lines\", \"type\": \"scatter\", \"x\": [12.0, 12.0, 12.0, 13.0, 13.0, 14.0, 15.0, 16.0, 17.0, 18.0, 19.0, 19.0, 19.0, 19.0, 18.0, 17.0, 16.0, 15.0, 14.0, 13.0, 12.0], \"y\": [8.0, 9.0, 10.0, 10.0, 11.0, 11.0, 11.0, 11.0, 10.0, 9.0, 8.0, 7.0, 6.0, 5.0, 5.0, 5.0, 5.0, 5.0, 6.0, 7.0, 8.0]}, {\"mode\": \"lines\", \"type\": \"scatter\", \"x\": [8.0, 8.0, 9.0, 9.0, 10.0, 11.0, 12.0, 13.0, 14.0, 15.0, 16.0, 16.0, 16.0, 16.0, 16.0, 15.0, 15.0, 14.0, 13.0, 12.0, 11.0, 10.0, 9.0, 9.0, 8.0], \"y\": [20.0, 21.0, 21.0, 22.0, 22.0, 22.0, 22.0, 21.0, 21.0, 21.0, 20.0, 19.0, 18.0, 17.0, 16.0, 16.0, 15.0, 15.0, 15.0, 16.0, 16.0, 17.0, 18.0, 19.0, 20.0]}, {\"mode\": \"lines\", \"type\": \"scatter\", \"x\": [13.0, 13.0, 14.0, 15.0, 15.0, 14.0, 13.0], \"y\": [19.0, 20.0, 20.0, 19.0, 18.0, 18.0, 19.0]}],                        {\"coloraxis\": {\"colorscale\": [[0.0, \"rgb(0, 0, 0)\"], [0.09090909090909091, \"rgb(16, 16, 16)\"], [0.18181818181818182, \"rgb(38, 38, 38)\"], [0.2727272727272727, \"rgb(59, 59, 59)\"], [0.36363636363636365, \"rgb(81, 80, 80)\"], [0.45454545454545453, \"rgb(102, 101, 101)\"], [0.5454545454545454, \"rgb(124, 123, 122)\"], [0.6363636363636364, \"rgb(146, 146, 145)\"], [0.7272727272727273, \"rgb(171, 171, 170)\"], [0.8181818181818182, \"rgb(197, 197, 195)\"], [0.9090909090909091, \"rgb(224, 224, 223)\"], [1.0, \"rgb(254, 254, 253)\"]], \"showscale\": false}, \"height\": 400, \"margin\": {\"t\": 60}, \"template\": {\"data\": {\"bar\": [{\"error_x\": {\"color\": \"#2a3f5f\"}, \"error_y\": {\"color\": \"#2a3f5f\"}, \"marker\": {\"line\": {\"color\": \"#E5ECF6\", \"width\": 0.5}}, \"type\": \"bar\"}], \"barpolar\": [{\"marker\": {\"line\": {\"color\": \"#E5ECF6\", \"width\": 0.5}}, \"type\": \"barpolar\"}], \"carpet\": [{\"aaxis\": {\"endlinecolor\": \"#2a3f5f\", \"gridcolor\": \"white\", \"linecolor\": \"white\", \"minorgridcolor\": \"white\", \"startlinecolor\": \"#2a3f5f\"}, \"baxis\": {\"endlinecolor\": \"#2a3f5f\", \"gridcolor\": \"white\", \"linecolor\": \"white\", \"minorgridcolor\": \"white\", \"startlinecolor\": \"#2a3f5f\"}, \"type\": \"carpet\"}], \"choropleth\": [{\"colorbar\": {\"outlinewidth\": 0, \"ticks\": \"\"}, \"type\": \"choropleth\"}], \"contour\": [{\"colorbar\": {\"outlinewidth\": 0, \"ticks\": \"\"}, \"colorscale\": [[0.0, \"#0d0887\"], [0.1111111111111111, \"#46039f\"], [0.2222222222222222, \"#7201a8\"], [0.3333333333333333, \"#9c179e\"], [0.4444444444444444, \"#bd3786\"], [0.5555555555555556, \"#d8576b\"], [0.6666666666666666, \"#ed7953\"], [0.7777777777777778, \"#fb9f3a\"], [0.8888888888888888, \"#fdca26\"], [1.0, \"#f0f921\"]], \"type\": \"contour\"}], \"contourcarpet\": [{\"colorbar\": {\"outlinewidth\": 0, \"ticks\": \"\"}, \"type\": \"contourcarpet\"}], \"heatmap\": [{\"colorbar\": {\"outlinewidth\": 0, \"ticks\": \"\"}, \"colorscale\": [[0.0, \"#0d0887\"], [0.1111111111111111, \"#46039f\"], [0.2222222222222222, \"#7201a8\"], [0.3333333333333333, \"#9c179e\"], [0.4444444444444444, \"#bd3786\"], [0.5555555555555556, \"#d8576b\"], [0.6666666666666666, \"#ed7953\"], [0.7777777777777778, \"#fb9f3a\"], [0.8888888888888888, \"#fdca26\"], [1.0, \"#f0f921\"]], \"type\": \"heatmap\"}], \"heatmapgl\": [{\"colorbar\": {\"outlinewidth\": 0, \"ticks\": \"\"}, \"colorscale\": [[0.0, \"#0d0887\"], [0.1111111111111111, \"#46039f\"], [0.2222222222222222, \"#7201a8\"], [0.3333333333333333, \"#9c179e\"], [0.4444444444444444, \"#bd3786\"], [0.5555555555555556, \"#d8576b\"], [0.6666666666666666, \"#ed7953\"], [0.7777777777777778, \"#fb9f3a\"], [0.8888888888888888, \"#fdca26\"], [1.0, \"#f0f921\"]], \"type\": \"heatmapgl\"}], \"histogram\": [{\"marker\": {\"colorbar\": {\"outlinewidth\": 0, \"ticks\": \"\"}}, \"type\": \"histogram\"}], \"histogram2d\": [{\"colorbar\": {\"outlinewidth\": 0, \"ticks\": \"\"}, \"colorscale\": [[0.0, \"#0d0887\"], [0.1111111111111111, \"#46039f\"], [0.2222222222222222, \"#7201a8\"], [0.3333333333333333, \"#9c179e\"], [0.4444444444444444, \"#bd3786\"], [0.5555555555555556, \"#d8576b\"], [0.6666666666666666, \"#ed7953\"], [0.7777777777777778, \"#fb9f3a\"], [0.8888888888888888, \"#fdca26\"], [1.0, \"#f0f921\"]], \"type\": \"histogram2d\"}], \"histogram2dcontour\": [{\"colorbar\": {\"outlinewidth\": 0, \"ticks\": \"\"}, \"colorscale\": [[0.0, \"#0d0887\"], [0.1111111111111111, \"#46039f\"], [0.2222222222222222, \"#7201a8\"], [0.3333333333333333, \"#9c179e\"], [0.4444444444444444, \"#bd3786\"], [0.5555555555555556, \"#d8576b\"], [0.6666666666666666, \"#ed7953\"], [0.7777777777777778, \"#fb9f3a\"], [0.8888888888888888, \"#fdca26\"], [1.0, \"#f0f921\"]], \"type\": \"histogram2dcontour\"}], \"mesh3d\": [{\"colorbar\": {\"outlinewidth\": 0, \"ticks\": \"\"}, \"type\": \"mesh3d\"}], \"parcoords\": [{\"line\": {\"colorbar\": {\"outlinewidth\": 0, \"ticks\": \"\"}}, \"type\": \"parcoords\"}], \"pie\": [{\"automargin\": true, \"type\": \"pie\"}], \"scatter\": [{\"marker\": {\"colorbar\": {\"outlinewidth\": 0, \"ticks\": \"\"}}, \"type\": \"scatter\"}], \"scatter3d\": [{\"line\": {\"colorbar\": {\"outlinewidth\": 0, \"ticks\": \"\"}}, \"marker\": {\"colorbar\": {\"outlinewidth\": 0, \"ticks\": \"\"}}, \"type\": \"scatter3d\"}], \"scattercarpet\": [{\"marker\": {\"colorbar\": {\"outlinewidth\": 0, \"ticks\": \"\"}}, \"type\": \"scattercarpet\"}], \"scattergeo\": [{\"marker\": {\"colorbar\": {\"outlinewidth\": 0, \"ticks\": \"\"}}, \"type\": \"scattergeo\"}], \"scattergl\": [{\"marker\": {\"colorbar\": {\"outlinewidth\": 0, \"ticks\": \"\"}}, \"type\": \"scattergl\"}], \"scattermapbox\": [{\"marker\": {\"colorbar\": {\"outlinewidth\": 0, \"ticks\": \"\"}}, \"type\": \"scattermapbox\"}], \"scatterpolar\": [{\"marker\": {\"colorbar\": {\"outlinewidth\": 0, \"ticks\": \"\"}}, \"type\": \"scatterpolar\"}], \"scatterpolargl\": [{\"marker\": {\"colorbar\": {\"outlinewidth\": 0, \"ticks\": \"\"}}, \"type\": \"scatterpolargl\"}], \"scatterternary\": [{\"marker\": {\"colorbar\": {\"outlinewidth\": 0, \"ticks\": \"\"}}, \"type\": \"scatterternary\"}], \"surface\": [{\"colorbar\": {\"outlinewidth\": 0, \"ticks\": \"\"}, \"colorscale\": [[0.0, \"#0d0887\"], [0.1111111111111111, \"#46039f\"], [0.2222222222222222, \"#7201a8\"], [0.3333333333333333, \"#9c179e\"], [0.4444444444444444, \"#bd3786\"], [0.5555555555555556, \"#d8576b\"], [0.6666666666666666, \"#ed7953\"], [0.7777777777777778, \"#fb9f3a\"], [0.8888888888888888, \"#fdca26\"], [1.0, \"#f0f921\"]], \"type\": \"surface\"}], \"table\": [{\"cells\": {\"fill\": {\"color\": \"#EBF0F8\"}, \"line\": {\"color\": \"white\"}}, \"header\": {\"fill\": {\"color\": \"#C8D4E3\"}, \"line\": {\"color\": \"white\"}}, \"type\": \"table\"}]}, \"layout\": {\"annotationdefaults\": {\"arrowcolor\": \"#2a3f5f\", \"arrowhead\": 0, \"arrowwidth\": 1}, \"autotypenumbers\": \"strict\", \"coloraxis\": {\"colorbar\": {\"outlinewidth\": 0, \"ticks\": \"\"}}, \"colorscale\": {\"diverging\": [[0, \"#8e0152\"], [0.1, \"#c51b7d\"], [0.2, \"#de77ae\"], [0.3, \"#f1b6da\"], [0.4, \"#fde0ef\"], [0.5, \"#f7f7f7\"], [0.6, \"#e6f5d0\"], [0.7, \"#b8e186\"], [0.8, \"#7fbc41\"], [0.9, \"#4d9221\"], [1, \"#276419\"]], \"sequential\": [[0.0, \"#0d0887\"], [0.1111111111111111, \"#46039f\"], [0.2222222222222222, \"#7201a8\"], [0.3333333333333333, \"#9c179e\"], [0.4444444444444444, \"#bd3786\"], [0.5555555555555556, \"#d8576b\"], [0.6666666666666666, \"#ed7953\"], [0.7777777777777778, \"#fb9f3a\"], [0.8888888888888888, \"#fdca26\"], [1.0, \"#f0f921\"]], \"sequentialminus\": [[0.0, \"#0d0887\"], [0.1111111111111111, \"#46039f\"], [0.2222222222222222, \"#7201a8\"], [0.3333333333333333, \"#9c179e\"], [0.4444444444444444, \"#bd3786\"], [0.5555555555555556, \"#d8576b\"], [0.6666666666666666, \"#ed7953\"], [0.7777777777777778, \"#fb9f3a\"], [0.8888888888888888, \"#fdca26\"], [1.0, \"#f0f921\"]]}, \"colorway\": [\"#636efa\", \"#EF553B\", \"#00cc96\", \"#ab63fa\", \"#FFA15A\", \"#19d3f3\", \"#FF6692\", \"#B6E880\", \"#FF97FF\", \"#FECB52\"], \"font\": {\"color\": \"#2a3f5f\"}, \"geo\": {\"bgcolor\": \"white\", \"lakecolor\": \"white\", \"landcolor\": \"#E5ECF6\", \"showlakes\": true, \"showland\": true, \"subunitcolor\": \"white\"}, \"hoverlabel\": {\"align\": \"left\"}, \"hovermode\": \"closest\", \"mapbox\": {\"style\": \"light\"}, \"paper_bgcolor\": \"white\", \"plot_bgcolor\": \"#E5ECF6\", \"polar\": {\"angularaxis\": {\"gridcolor\": \"white\", \"linecolor\": \"white\", \"ticks\": \"\"}, \"bgcolor\": \"#E5ECF6\", \"radialaxis\": {\"gridcolor\": \"white\", \"linecolor\": \"white\", \"ticks\": \"\"}}, \"scene\": {\"xaxis\": {\"backgroundcolor\": \"#E5ECF6\", \"gridcolor\": \"white\", \"gridwidth\": 2, \"linecolor\": \"white\", \"showbackground\": true, \"ticks\": \"\", \"zerolinecolor\": \"white\"}, \"yaxis\": {\"backgroundcolor\": \"#E5ECF6\", \"gridcolor\": \"white\", \"gridwidth\": 2, \"linecolor\": \"white\", \"showbackground\": true, \"ticks\": \"\", \"zerolinecolor\": \"white\"}, \"zaxis\": {\"backgroundcolor\": \"#E5ECF6\", \"gridcolor\": \"white\", \"gridwidth\": 2, \"linecolor\": \"white\", \"showbackground\": true, \"ticks\": \"\", \"zerolinecolor\": \"white\"}}, \"shapedefaults\": {\"line\": {\"color\": \"#2a3f5f\"}}, \"ternary\": {\"aaxis\": {\"gridcolor\": \"white\", \"linecolor\": \"white\", \"ticks\": \"\"}, \"baxis\": {\"gridcolor\": \"white\", \"linecolor\": \"white\", \"ticks\": \"\"}, \"bgcolor\": \"#E5ECF6\", \"caxis\": {\"gridcolor\": \"white\", \"linecolor\": \"white\", \"ticks\": \"\"}}, \"title\": {\"x\": 0.05}, \"xaxis\": {\"automargin\": true, \"gridcolor\": \"white\", \"linecolor\": \"white\", \"ticks\": \"\", \"title\": {\"standoff\": 15}, \"zerolinecolor\": \"white\", \"zerolinewidth\": 2}, \"yaxis\": {\"automargin\": true, \"gridcolor\": \"white\", \"linecolor\": \"white\", \"ticks\": \"\", \"title\": {\"standoff\": 15}, \"zerolinecolor\": \"white\", \"zerolinewidth\": 2}}}, \"title\": {\"text\": \"Digit 8 - Cycle file 110_cycles.vtk\"}, \"width\": 400, \"xaxis\": {\"anchor\": \"y\", \"constrain\": \"domain\", \"domain\": [0.0, 1.0], \"scaleanchor\": \"y\", \"showticklabels\": false}, \"yaxis\": {\"anchor\": \"x\", \"autorange\": \"reversed\", \"constrain\": \"domain\", \"domain\": [0.0, 1.0], \"showticklabels\": false}},                        {\"responsive\": true}                    ).then(function(){\n",
       "                            \n",
       "var gd = document.getElementById('091ae25c-51b6-4759-ada1-e90d0fb83b5a');\n",
       "var x = new MutationObserver(function (mutations, observer) {{\n",
       "        var display = window.getComputedStyle(gd).display;\n",
       "        if (!display || display === 'none') {{\n",
       "            console.log([gd, 'removed!']);\n",
       "            Plotly.purge(gd);\n",
       "            observer.disconnect();\n",
       "        }}\n",
       "}});\n",
       "\n",
       "// Listen for the removal of the full notebook cells\n",
       "var notebookContainer = gd.closest('#notebook-container');\n",
       "if (notebookContainer) {{\n",
       "    x.observe(notebookContainer, {childList: true});\n",
       "}}\n",
       "\n",
       "// Listen for the clearing of the current output cell\n",
       "var outputEl = gd.closest('.output');\n",
       "if (outputEl) {{\n",
       "    x.observe(outputEl, {childList: true});\n",
       "}}\n",
       "\n",
       "                        })                };                });            </script>        </div>"
      ]
     },
     "metadata": {},
     "output_type": "display_data"
    }
   ],
   "source": [
    "pngFile = os.path.join(IMG_DIR, digitPrefix+\".png\")\n",
    "img = io.imread(pngFile)\n",
    "cycleFile = os.path.join(VTK_DIR, digitPrefix+\"_cycles.vtk\")\n",
    "\n",
    "visualizeCycles(img, cycleFile)"
   ]
  },
  {
   "cell_type": "markdown",
   "id": "anonymous-institute",
   "metadata": {},
   "source": [
    "As we can notice, the filtration based on the origina graylevel values is not necesseraly the one better highlighting the features of the input digit. In this case the filtration starts from the dark pixels thus creating a large cycle `trace 6` which is later broken in smaller parts as soon as the lighter pixels are introduced.\n",
    "\n",
    "The filtration based on the inverse of the of the graylevel values does a better job at localyzing the two loops in the `8` digit but many other cycles are created due to noise in the input image.\n",
    "\n",
    "The filtration based on the distance transform is similar to the previous but less noisy, and thus generates fewer cycles.\n",
    "\n",
    "\n",
    "Regardless of our final choice, the direct visualization of the cycles can help us deciding which one is the best filtration for the features we would like to recognize in our input data."
   ]
  },
  {
   "cell_type": "markdown",
   "id": "honest-support",
   "metadata": {},
   "source": [
    "## 3.2. Unsupervised analysis with topological features"
   ]
  },
  {
   "cell_type": "markdown",
   "id": "hearing-desperate",
   "metadata": {},
   "source": [
    "As an example where visualizing cycles could be of help, we consider the unsupervised analysis of data by means of TDA descriptors. "
   ]
  },
  {
   "cell_type": "markdown",
   "id": "found-dinner",
   "metadata": {},
   "source": [
    "For each input image in the MNIST dataset we compute a descriptor by means of `PersistenceImages`. Persistence Images are computed using the function provided by [Giotto-TDA](https://giotto-ai.github.io/gtda-docs/0.2.1/modules/generated/diagrams/representations/gtda.diagrams.PersistenceImage.html). \n"
   ]
  },
  {
   "cell_type": "markdown",
   "id": "bd642c06",
   "metadata": {},
   "source": [
    "Here we experienced some issue with getting the correct persistence image when there is only 1 persistence pair in the diagram. Based on the filtration we used in the previous step, we adapt the `_bin()` function from `gtda.diagrams._utils` by manually setting the minimum and maximum value. Since the function is called in `fit()` function of `PersistenceImage` class, we also create a variation of `fit()` function."
   ]
  },
  {
   "cell_type": "code",
   "execution_count": 17,
   "id": "rural-butter",
   "metadata": {},
   "outputs": [],
   "source": [
    "from gtda.diagrams._utils import _subdiagrams, _sample_image, _homology_dimensions_to_sorted_ints\n",
    "\n",
    "def bins(X, metric, n_bins=100, homology_dimensions=None, **kw_args):\n",
    "    if homology_dimensions is None:\n",
    "        homology_dimensions = sorted(np.unique(X[0, :, 2]))\n",
    "    # For some vectorizations, we force the values to be the same + widest\n",
    "    sub_diags = {dim: _subdiagrams(X, [dim], remove_dim=True)\n",
    "                 for dim in homology_dimensions}\n",
    "    # For persistence images, move into birth-persistence\n",
    "    if metric == 'persistence_image':\n",
    "        for dim in homology_dimensions:\n",
    "            sub_diags[dim][:, :, [1]] = sub_diags[dim][:, :, [1]] \\\n",
    "                - sub_diags[dim][:, :, [0]]\n",
    "    \n",
    "    min_vals = {dim: np.asarray([0, 0])\n",
    "                for dim in homology_dimensions}\n",
    "#     max_vals = {dim: np.asarray([1, 1])\n",
    "#                 for dim in homology_dimensions}\n",
    "    max_vals = {dim: np.max(sub_diags[dim], axis=(0, 1))\n",
    "                for dim in homology_dimensions}\n",
    "    \n",
    "    if metric in ['landscape', 'betti', 'heat', 'silhouette']:\n",
    "        #  Taking the min(resp. max) of a tuple `m` amounts to extracting\n",
    "        #  the birth (resp. death) value\n",
    "        min_vals = {d: np.array(2*[np.min(m)]) for d, m in min_vals.items()}\n",
    "        max_vals = {d: np.array(2*[np.max(m)]) for d, m in max_vals.items()}\n",
    "\n",
    "    # Scales between axes should be kept the same, but not between dimension\n",
    "    all_max_values = np.stack(list(max_vals.values()))\n",
    "    if len(homology_dimensions) == 1:\n",
    "        all_max_values = all_max_values.reshape(1, -1)\n",
    "    global_max_val = np.max(all_max_values, axis=0)\n",
    "    max_vals = {dim: np.array([max_vals[dim][k] if\n",
    "                               (max_vals[dim][k] != min_vals[dim][k])\n",
    "                               else global_max_val[k] for k in range(2)])\n",
    "                for dim in homology_dimensions}\n",
    "    \n",
    "    samplings = {}\n",
    "    step_sizes = {}\n",
    "    for dim in homology_dimensions:\n",
    "        samplings[dim], step_sizes[dim] = np.linspace(\n",
    "            min_vals[dim], max_vals[dim], retstep=True, num=n_bins)\n",
    "    if metric in ['landscape', 'betti', 'heat', 'silhouette']:\n",
    "        for dim in homology_dimensions:\n",
    "            samplings[dim] = samplings[dim][:, [0], None]\n",
    "            step_sizes[dim] = step_sizes[dim][0]\n",
    "    return samplings, step_sizes\n",
    "\n",
    "\n",
    "def fit(pimgObj, X):\n",
    "    if pimgObj.weight_function is None:\n",
    "        pimgObj.effective_weight_function_ = np.ones_like\n",
    "    else:\n",
    "        pimgObj.effective_weight_function_ = pimgObj.weight_function\n",
    "\n",
    "    # Find the unique homology dimensions in the 3D array X passed to `fit`\n",
    "    # assuming that they can all be found in its zero-th entry\n",
    "    homology_dimensions_fit = np.unique(X[0, :, 2])\n",
    "    pimgObj.homology_dimensions_ = \\\n",
    "        _homology_dimensions_to_sorted_ints(homology_dimensions_fit)\n",
    "    pimgObj._n_dimensions = len(pimgObj.homology_dimensions_)\n",
    "\n",
    "    pimgObj._samplings, pimgObj._step_size = bins(\n",
    "        X, \"persistence_image\",  n_bins=pimgObj.n_bins,\n",
    "        homology_dimensions=pimgObj.homology_dimensions_\n",
    "        )\n",
    "    pimgObj.weights_ = {\n",
    "        dim: pimgObj.effective_weight_function_(samplings_dim[:, 1])\n",
    "        for dim, samplings_dim in pimgObj._samplings.items()\n",
    "        }\n",
    "    pimgObj.samplings_ = {dim: s.T for dim, s in pimgObj._samplings.items()}"
   ]
  },
  {
   "cell_type": "markdown",
   "id": "aa8ea1e4",
   "metadata": {},
   "source": [
    "We now use the new functions to compute the persistence images for the dataset."
   ]
  },
  {
   "cell_type": "code",
   "execution_count": 18,
   "id": "e488c80f",
   "metadata": {},
   "outputs": [
    {
     "name": "stdout",
     "output_type": "stream",
     "text": [
      "No persistence pairs in the file\n",
      "No persistence pairs in the file\n"
     ]
    }
   ],
   "source": [
    "def getPersImage(diagramFile, dimension=None, plot=False):\n",
    "    \"\"\"\n",
    "    Get persistence image from the vtk file storing persistence diagram.\n",
    "    \n",
    "    Parameters\n",
    "    ----------\n",
    "    diagramFile: string\n",
    "        The path of the diagram vtk file.\n",
    "    dimensions: int\n",
    "        The homology dimension.\n",
    "    plot: bool\n",
    "        If True, plot the computed persistence image.\n",
    "        \n",
    "    Returns \n",
    "    ----------\n",
    "    persImage: array\n",
    "        The numpy array storing the persistence image.\n",
    "    \"\"\"\n",
    "    num_pixels = 10\n",
    "    pdiagram = getPersDiagram(diagramFile)\n",
    "    if pdiagram.size == 0:\n",
    "        return np.zeros((num_pixels, num_pixels))\n",
    "    pdiagram3D = pdiagram.reshape(1, -1, 3)\n",
    "    \n",
    "    pimgr = gdiagrams.PersistenceImage(sigma=0.1, n_bins=num_pixels)\n",
    "    fit(pimgr, pdiagram3D)\n",
    "    persImage = pimgr.transform(pdiagram3D)\n",
    "    \n",
    "    if dimension is None: \n",
    "        if plot:\n",
    "            pimgr.plot(persImage)\n",
    "        return persImage[0]\n",
    "    \n",
    "    if dimension >= persImage.shape[1]:\n",
    "        return np.zeros((num_pixels, num_pixels))\n",
    "    \n",
    "    if plot:\n",
    "        fig = pimgr.plot(persImage, homology_dimension_idx=dimension)\n",
    "        fig.show()\n",
    "    return persImage[0][dimension]\n",
    "    \n",
    "\n",
    "persImages = []\n",
    "fileLabels = []\n",
    "for i in range(10):\n",
    "    pdiagDir = os.path.join(VTK_DIR, str(i))\n",
    "    if os.path.exists(pdiagDir):\n",
    "        files = [f for f in os.listdir(pdiagDir) if \"_pd.vtk\" in f]\n",
    "        files.sort()\n",
    "        for file in files:\n",
    "            filePath = os.path.join(pdiagDir, file)\n",
    "            persImages.append(getPersImage(filePath, 1))\n",
    "            fileLabels.append(str(i) + '/' + file)\n"
   ]
  },
  {
   "cell_type": "markdown",
   "id": "surprising-birth",
   "metadata": {},
   "source": [
    "Each persistence image is then vectorized and used as a high-dimensional descriptor of the input datum. To explore similarity and differences among these descriptors we use t-SNE to generate a lower dimensional embedding for such descriptors"
   ]
  },
  {
   "cell_type": "code",
   "execution_count": 19,
   "id": "meaningful-while",
   "metadata": {},
   "outputs": [
    {
     "data": {
      "application/vnd.plotly.v1+json": {
       "config": {
        "linkText": "Export to plot.ly",
        "plotlyServerURL": "https://plot.ly",
        "showLink": false
       },
       "data": [
        {
         "customdata": [
          [
           "0/101_pd.vtk"
          ],
          [
           "0/10_pd.vtk"
          ],
          [
           "0/126_pd.vtk"
          ],
          [
           "0/136_pd.vtk"
          ],
          [
           "0/13_pd.vtk"
          ],
          [
           "0/148_pd.vtk"
          ],
          [
           "0/157_pd.vtk"
          ],
          [
           "0/183_pd.vtk"
          ],
          [
           "0/188_pd.vtk"
          ],
          [
           "0/192_pd.vtk"
          ],
          [
           "0/194_pd.vtk"
          ],
          [
           "0/215_pd.vtk"
          ],
          [
           "0/246_pd.vtk"
          ],
          [
           "0/25_pd.vtk"
          ],
          [
           "0/269_pd.vtk"
          ],
          [
           "0/271_pd.vtk"
          ],
          [
           "0/28_pd.vtk"
          ],
          [
           "0/294_pd.vtk"
          ],
          [
           "0/296_pd.vtk"
          ],
          [
           "0/297_pd.vtk"
          ],
          [
           "0/305_pd.vtk"
          ],
          [
           "0/311_pd.vtk"
          ],
          [
           "0/312_pd.vtk"
          ],
          [
           "0/324_pd.vtk"
          ],
          [
           "0/327_pd.vtk"
          ],
          [
           "0/346_pd.vtk"
          ],
          [
           "0/365_pd.vtk"
          ],
          [
           "0/372_pd.vtk"
          ],
          [
           "0/380_pd.vtk"
          ],
          [
           "0/3_pd.vtk"
          ],
          [
           "0/407_pd.vtk"
          ],
          [
           "0/424_pd.vtk"
          ],
          [
           "0/440_pd.vtk"
          ],
          [
           "0/441_pd.vtk"
          ],
          [
           "0/443_pd.vtk"
          ],
          [
           "0/459_pd.vtk"
          ],
          [
           "0/485_pd.vtk"
          ],
          [
           "0/490_pd.vtk"
          ],
          [
           "0/498_pd.vtk"
          ],
          [
           "0/525_pd.vtk"
          ],
          [
           "0/545_pd.vtk"
          ],
          [
           "0/546_pd.vtk"
          ],
          [
           "0/552_pd.vtk"
          ],
          [
           "0/55_pd.vtk"
          ],
          [
           "0/561_pd.vtk"
          ],
          [
           "0/564_pd.vtk"
          ],
          [
           "0/567_pd.vtk"
          ],
          [
           "0/581_pd.vtk"
          ],
          [
           "0/69_pd.vtk"
          ],
          [
           "0/71_pd.vtk"
          ]
         ],
         "hovertemplate": "digit=0<br>x=%{x}<br>y=%{y}<br>file=%{customdata[0]}<extra></extra>",
         "legendgroup": "0",
         "marker": {
          "color": "#636efa",
          "symbol": "circle"
         },
         "mode": "markers",
         "name": "0",
         "orientation": "v",
         "showlegend": true,
         "type": "scatter",
         "x": [
          8.320812225341797,
          10.378479957580566,
          5.822856903076172,
          14.25085735321045,
          10.955633163452148,
          14.344619750976562,
          6.333184242248535,
          10.537657737731934,
          9.167241096496582,
          8.691197395324707,
          10.767099380493164,
          14.905882835388184,
          5.145257472991943,
          17.531841278076172,
          8.864459037780762,
          11.449580192565918,
          6.611665725708008,
          10.402009010314941,
          8.082498550415039,
          9.893982887268066,
          5.100647926330566,
          6.140908241271973,
          13.880019187927246,
          22.704343795776367,
          14.927783966064453,
          21.751882553100586,
          16.443561553955078,
          10.140176773071289,
          9.152156829833984,
          9.178349494934082,
          8.559609413146973,
          9.947441101074219,
          10.29165267944336,
          14.924189567565918,
          12.816112518310547,
          5.659688949584961,
          11.940070152282715,
          21.6925106048584,
          18.199766159057617,
          8.390291213989258,
          14.000934600830078,
          12.89399242401123,
          11.172184944152832,
          15.03468132019043,
          5.491365432739258,
          11.320601463317871,
          13.576313972473145,
          10.157486915588379,
          13.244114875793457,
          10.910048484802246
         ],
         "xaxis": "x",
         "y": [
          -17.715517044067383,
          -13.926173210144043,
          -19.33365821838379,
          -0.9837498068809509,
          -13.115923881530762,
          -13.60017204284668,
          -19.555503845214844,
          -14.024153709411621,
          -18.016183853149414,
          -20.328784942626953,
          -13.382433891296387,
          -1.6110279560089111,
          -19.28867530822754,
          -23.38372230529785,
          -17.4172306060791,
          -13.380678176879883,
          -19.007919311523438,
          -12.69315242767334,
          -18.239727020263672,
          -13.879683494567871,
          -19.288129806518555,
          -19.098342895507812,
          -1.2918567657470703,
          29.89427375793457,
          -1.2128987312316895,
          -4.421701908111572,
          -1.9853801727294922,
          -14.296562194824219,
          -10.584467887878418,
          -19.201383590698242,
          -17.564037322998047,
          -13.795845031738281,
          -14.587386131286621,
          -17.813554763793945,
          -19.58519172668457,
          -19.27669906616211,
          -13.69902229309082,
          20.497417449951172,
          -2.8131449222564697,
          -17.21617889404297,
          -1.2965478897094727,
          -0.9716699719429016,
          -20.416696548461914,
          -1.3361051082611084,
          -19.279916763305664,
          -13.903085708618164,
          -1.1804285049438477,
          -13.567411422729492,
          -1.0604708194732666,
          -14.404900550842285
         ],
         "yaxis": "y"
        },
        {
         "customdata": [
          [
           "1/107_pd.vtk"
          ],
          [
           "1/135_pd.vtk"
          ],
          [
           "1/137_pd.vtk"
          ],
          [
           "1/143_pd.vtk"
          ],
          [
           "1/145_pd.vtk"
          ],
          [
           "1/14_pd.vtk"
          ],
          [
           "1/154_pd.vtk"
          ],
          [
           "1/168_pd.vtk"
          ],
          [
           "1/176_pd.vtk"
          ],
          [
           "1/178_pd.vtk"
          ],
          [
           "1/180_pd.vtk"
          ],
          [
           "1/189_pd.vtk"
          ],
          [
           "1/190_pd.vtk"
          ],
          [
           "1/191_pd.vtk"
          ],
          [
           "1/196_pd.vtk"
          ],
          [
           "1/202_pd.vtk"
          ],
          [
           "1/203_pd.vtk"
          ],
          [
           "1/204_pd.vtk"
          ],
          [
           "1/224_pd.vtk"
          ],
          [
           "1/228_pd.vtk"
          ],
          [
           "1/239_pd.vtk"
          ],
          [
           "1/251_pd.vtk"
          ],
          [
           "1/265_pd.vtk"
          ],
          [
           "1/267_pd.vtk"
          ],
          [
           "1/272_pd.vtk"
          ],
          [
           "1/276_pd.vtk"
          ],
          [
           "1/279_pd.vtk"
          ],
          [
           "1/288_pd.vtk"
          ],
          [
           "1/29_pd.vtk"
          ],
          [
           "1/2_pd.vtk"
          ],
          [
           "1/302_pd.vtk"
          ],
          [
           "1/314_pd.vtk"
          ],
          [
           "1/31_pd.vtk"
          ],
          [
           "1/329_pd.vtk"
          ],
          [
           "1/330_pd.vtk"
          ],
          [
           "1/332_pd.vtk"
          ],
          [
           "1/342_pd.vtk"
          ],
          [
           "1/345_pd.vtk"
          ],
          [
           "1/348_pd.vtk"
          ],
          [
           "1/350_pd.vtk"
          ],
          [
           "1/37_pd.vtk"
          ],
          [
           "1/39_pd.vtk"
          ],
          [
           "1/40_pd.vtk"
          ],
          [
           "1/46_pd.vtk"
          ],
          [
           "1/57_pd.vtk"
          ],
          [
           "1/5_pd.vtk"
          ],
          [
           "1/74_pd.vtk"
          ],
          [
           "1/89_pd.vtk"
          ],
          [
           "1/94_pd.vtk"
          ],
          [
           "1/96_pd.vtk"
          ]
         ],
         "hovertemplate": "digit=1<br>x=%{x}<br>y=%{y}<br>file=%{customdata[0]}<extra></extra>",
         "legendgroup": "1",
         "marker": {
          "color": "#EF553B",
          "symbol": "circle"
         },
         "mode": "markers",
         "name": "1",
         "orientation": "v",
         "showlegend": true,
         "type": "scatter",
         "x": [
          -56.05132293701172,
          -56.05132293701172,
          -56.05132293701172,
          -62.215572357177734,
          -62.215572357177734,
          -56.05132293701172,
          -62.215572357177734,
          -62.215572357177734,
          -62.215572357177734,
          -62.215572357177734,
          -62.215572357177734,
          -52.65384292602539,
          -52.65384292602539,
          -62.215572357177734,
          -62.215572357177734,
          -62.215572357177734,
          -56.05132293701172,
          -62.215572357177734,
          -62.215572357177734,
          -62.215572357177734,
          -62.215572357177734,
          -62.215572357177734,
          -62.215572357177734,
          -62.215572357177734,
          -62.215572357177734,
          -62.215572357177734,
          -62.215572357177734,
          -62.215572357177734,
          -62.215572357177734,
          -62.215572357177734,
          -62.215572357177734,
          -62.215572357177734,
          -62.215572357177734,
          -62.215572357177734,
          -62.215572357177734,
          -62.215572357177734,
          -62.215572357177734,
          -62.215572357177734,
          -62.215572357177734,
          -62.215572357177734,
          -62.215572357177734,
          -62.215572357177734,
          -62.215572357177734,
          -62.215572357177734,
          -62.215572357177734,
          -62.215572357177734,
          -62.215572357177734,
          -62.215572357177734,
          -62.215572357177734,
          -62.215572357177734
         ],
         "xaxis": "x",
         "y": [
          8.299989700317383,
          8.299989700317383,
          8.299989700317383,
          4.82654333114624,
          4.82654333114624,
          8.299989700317383,
          4.82654333114624,
          4.82654333114624,
          4.82654333114624,
          4.82654333114624,
          4.82654333114624,
          1.5040795803070068,
          1.5040795803070068,
          4.82654333114624,
          4.82654333114624,
          4.82654333114624,
          8.299989700317383,
          4.82654333114624,
          4.82654333114624,
          4.82654333114624,
          4.82654333114624,
          4.82654333114624,
          4.82654333114624,
          4.82654333114624,
          4.82654333114624,
          4.82654333114624,
          4.82654333114624,
          4.82654333114624,
          4.82654333114624,
          4.82654333114624,
          4.82654333114624,
          4.82654333114624,
          4.82654333114624,
          4.82654333114624,
          4.82654333114624,
          4.82654333114624,
          4.82654333114624,
          4.82654333114624,
          4.82654333114624,
          4.82654333114624,
          4.82654333114624,
          4.82654333114624,
          4.82654333114624,
          4.82654333114624,
          4.82654333114624,
          4.82654333114624,
          4.82654333114624,
          4.82654333114624,
          4.82654333114624,
          4.82654333114624
         ],
         "yaxis": "y"
        },
        {
         "customdata": [
          [
           "2/106_pd.vtk"
          ],
          [
           "2/119_pd.vtk"
          ],
          [
           "2/147_pd.vtk"
          ],
          [
           "2/149_pd.vtk"
          ],
          [
           "2/172_pd.vtk"
          ],
          [
           "2/174_pd.vtk"
          ],
          [
           "2/186_pd.vtk"
          ],
          [
           "2/199_pd.vtk"
          ],
          [
           "2/1_pd.vtk"
          ],
          [
           "2/208_pd.vtk"
          ],
          [
           "2/221_pd.vtk"
          ],
          [
           "2/222_pd.vtk"
          ],
          [
           "2/225_pd.vtk"
          ],
          [
           "2/236_pd.vtk"
          ],
          [
           "2/237_pd.vtk"
          ],
          [
           "2/244_pd.vtk"
          ],
          [
           "2/249_pd.vtk"
          ],
          [
           "2/256_pd.vtk"
          ],
          [
           "2/258_pd.vtk"
          ],
          [
           "2/278_pd.vtk"
          ],
          [
           "2/280_pd.vtk"
          ],
          [
           "2/285_pd.vtk"
          ],
          [
           "2/291_pd.vtk"
          ],
          [
           "2/293_pd.vtk"
          ],
          [
           "2/298_pd.vtk"
          ],
          [
           "2/303_pd.vtk"
          ],
          [
           "2/306_pd.vtk"
          ],
          [
           "2/318_pd.vtk"
          ],
          [
           "2/321_pd.vtk"
          ],
          [
           "2/326_pd.vtk"
          ],
          [
           "2/331_pd.vtk"
          ],
          [
           "2/35_pd.vtk"
          ],
          [
           "2/362_pd.vtk"
          ],
          [
           "2/363_pd.vtk"
          ],
          [
           "2/371_pd.vtk"
          ],
          [
           "2/387_pd.vtk"
          ],
          [
           "2/38_pd.vtk"
          ],
          [
           "2/390_pd.vtk"
          ],
          [
           "2/396_pd.vtk"
          ],
          [
           "2/400_pd.vtk"
          ],
          [
           "2/404_pd.vtk"
          ],
          [
           "2/418_pd.vtk"
          ],
          [
           "2/421_pd.vtk"
          ],
          [
           "2/423_pd.vtk"
          ],
          [
           "2/43_pd.vtk"
          ],
          [
           "2/444_pd.vtk"
          ],
          [
           "2/47_pd.vtk"
          ],
          [
           "2/72_pd.vtk"
          ],
          [
           "2/77_pd.vtk"
          ],
          [
           "2/82_pd.vtk"
          ]
         ],
         "hovertemplate": "digit=2<br>x=%{x}<br>y=%{y}<br>file=%{customdata[0]}<extra></extra>",
         "legendgroup": "2",
         "marker": {
          "color": "#00cc96",
          "symbol": "circle"
         },
         "mode": "markers",
         "name": "2",
         "orientation": "v",
         "showlegend": true,
         "type": "scatter",
         "x": [
          15.421246528625488,
          20.80960464477539,
          21.283937454223633,
          11.27234172821045,
          -62.215572357177734,
          9.461588859558105,
          -62.215572357177734,
          -62.215572357177734,
          -62.215572357177734,
          -62.215572357177734,
          78.54080200195312,
          21.564523696899414,
          26.47865104675293,
          -52.81703186035156,
          -52.81703186035156,
          16.084041595458984,
          -52.81703186035156,
          -52.81703186035156,
          -59.157920837402344,
          19.528648376464844,
          -52.81703186035156,
          7.250365257263184,
          -55.10308837890625,
          -59.2360725402832,
          84.92630767822266,
          18.596364974975586,
          -55.10308837890625,
          14.404160499572754,
          -59.616973876953125,
          -59.20360565185547,
          -59.616973876953125,
          20.43805694580078,
          -57.334224700927734,
          -59.45785903930664,
          -59.933837890625,
          20.815898895263672,
          -55.88679504394531,
          82.11914825439453,
          -55.88679504394531,
          18.582111358642578,
          -56.89701461791992,
          15.14077377319336,
          81.14220428466797,
          -57.896629333496094,
          -57.896629333496094,
          24.495203018188477,
          7.199216842651367,
          14.908849716186523,
          21.716476440429688,
          -57.896629333496094
         ],
         "xaxis": "x",
         "y": [
          -3.195483684539795,
          29.566007614135742,
          -9.783060073852539,
          -22.419322967529297,
          4.82654333114624,
          -21.79554557800293,
          4.82654333114624,
          4.82654333114624,
          4.82654333114624,
          4.82654333114624,
          -55.595890045166016,
          20.453269958496094,
          20.322153091430664,
          4.05457878112793,
          4.05457878112793,
          -22.753385543823242,
          4.05457878112793,
          4.05457878112793,
          1.1945310831069946,
          -10.334467887878418,
          4.05457878112793,
          -21.05503273010254,
          3.4908578395843506,
          2.4073290824890137,
          53.878013610839844,
          -3.858522653579712,
          3.4908578395843506,
          -1.5726014375686646,
          3.595179557800293,
          6.40305233001709,
          3.595179557800293,
          30.438478469848633,
          -0.10917787253856659,
          -0.3347133696079254,
          1.376701831817627,
          30.140544891357422,
          2.763274908065796,
          54.45504379272461,
          2.763274908065796,
          -3.922516107559204,
          2.6039211750030518,
          -2.47754168510437,
          51.612022399902344,
          1.6396055221557617,
          1.6396055221557617,
          22.368284225463867,
          -20.975772857666016,
          -3.2180871963500977,
          28.4132137298584,
          1.6396055221557617
         ],
         "yaxis": "y"
        },
        {
         "customdata": [
          [
           "3/112_pd.vtk"
          ],
          [
           "3/142_pd.vtk"
          ],
          [
           "3/158_pd.vtk"
          ],
          [
           "3/173_pd.vtk"
          ],
          [
           "3/18_pd.vtk"
          ],
          [
           "3/195_pd.vtk"
          ],
          [
           "3/200_pd.vtk"
          ],
          [
           "3/205_pd.vtk"
          ],
          [
           "3/213_pd.vtk"
          ],
          [
           "3/216_pd.vtk"
          ],
          [
           "3/230_pd.vtk"
          ],
          [
           "3/231_pd.vtk"
          ],
          [
           "3/245_pd.vtk"
          ],
          [
           "3/270_pd.vtk"
          ],
          [
           "3/309_pd.vtk"
          ],
          [
           "3/30_pd.vtk"
          ],
          [
           "3/310_pd.vtk"
          ],
          [
           "3/313_pd.vtk"
          ],
          [
           "3/323_pd.vtk"
          ],
          [
           "3/32_pd.vtk"
          ],
          [
           "3/334_pd.vtk"
          ],
          [
           "3/335_pd.vtk"
          ],
          [
           "3/343_pd.vtk"
          ],
          [
           "3/349_pd.vtk"
          ],
          [
           "3/369_pd.vtk"
          ],
          [
           "3/381_pd.vtk"
          ],
          [
           "3/382_pd.vtk"
          ],
          [
           "3/402_pd.vtk"
          ],
          [
           "3/408_pd.vtk"
          ],
          [
           "3/437_pd.vtk"
          ],
          [
           "3/442_pd.vtk"
          ],
          [
           "3/449_pd.vtk"
          ],
          [
           "3/44_pd.vtk"
          ],
          [
           "3/450_pd.vtk"
          ],
          [
           "3/451_pd.vtk"
          ],
          [
           "3/453_pd.vtk"
          ],
          [
           "3/464_pd.vtk"
          ],
          [
           "3/493_pd.vtk"
          ],
          [
           "3/500_pd.vtk"
          ],
          [
           "3/505_pd.vtk"
          ],
          [
           "3/507_pd.vtk"
          ],
          [
           "3/515_pd.vtk"
          ],
          [
           "3/51_pd.vtk"
          ],
          [
           "3/524_pd.vtk"
          ],
          [
           "3/63_pd.vtk"
          ],
          [
           "3/68_pd.vtk"
          ],
          [
           "3/76_pd.vtk"
          ],
          [
           "3/87_pd.vtk"
          ],
          [
           "3/90_pd.vtk"
          ],
          [
           "3/93_pd.vtk"
          ]
         ],
         "hovertemplate": "digit=3<br>x=%{x}<br>y=%{y}<br>file=%{customdata[0]}<extra></extra>",
         "legendgroup": "3",
         "marker": {
          "color": "#ab63fa",
          "symbol": "circle"
         },
         "mode": "markers",
         "name": "3",
         "orientation": "v",
         "showlegend": true,
         "type": "scatter",
         "x": [
          -57.896629333496094,
          24.055198669433594,
          81.66363525390625,
          18.56256103515625,
          75.34351348876953,
          -57.896629333496094,
          18.801803588867188,
          24.73295021057129,
          -57.896629333496094,
          24.558940887451172,
          -58.21345138549805,
          85.66095733642578,
          84.86793518066406,
          20.78639793395996,
          25.126827239990234,
          -58.36103057861328,
          21.340221405029297,
          83.17546844482422,
          -56.5159797668457,
          -61.3640251159668,
          83.72985076904297,
          84.35912322998047,
          9.50507926940918,
          82.02780151367188,
          84.90057373046875,
          -60.2373161315918,
          83.68514251708984,
          85.99391174316406,
          24.06656265258789,
          -56.5159797668457,
          -58.413108825683594,
          20.50629997253418,
          -56.69451141357422,
          -56.185302734375,
          25.10625648498535,
          86.7890396118164,
          -56.14158630371094,
          24.071937561035156,
          -56.3582878112793,
          22.91486358642578,
          -59.2360725402832,
          23.683006286621094,
          22.41901969909668,
          85.33602142333984,
          18.50678825378418,
          21.108121871948242,
          21.112316131591797,
          20.241857528686523,
          23.05870246887207,
          -59.225982666015625
         ],
         "xaxis": "x",
         "y": [
          1.6396055221557617,
          2.428241491317749,
          52.24799728393555,
          -6.6163554191589355,
          -54.51771926879883,
          1.6396055221557617,
          -2.565568447113037,
          21.942583084106445,
          1.6396055221557617,
          22.55221176147461,
          0.409183531999588,
          52.35658264160156,
          54.86371612548828,
          31.080440521240234,
          23.623924255371094,
          6.553985118865967,
          26.578819274902344,
          53.24994659423828,
          4.7767534255981445,
          1.885046124458313,
          55.08045959472656,
          54.590415954589844,
          -10.747832298278809,
          52.9564208984375,
          54.994510650634766,
          -0.6516150236129761,
          53.76005935668945,
          51.799842834472656,
          2.4353866577148438,
          4.7767534255981445,
          4.477142333984375,
          29.032442092895508,
          3.725275754928589,
          5.700196743011475,
          22.193979263305664,
          53.168701171875,
          3.578310489654541,
          2.4695281982421875,
          0.11812816560268402,
          26.753923416137695,
          2.4073290824890137,
          24.11516571044922,
          21.74051284790039,
          55.62629318237305,
          -7.303671360015869,
          27.428491592407227,
          29.225465774536133,
          28.573335647583008,
          22.430349349975586,
          5.025155544281006
         ],
         "yaxis": "y"
        },
        {
         "customdata": [
          [
           "4/103_pd.vtk"
          ],
          [
           "4/109_pd.vtk"
          ],
          [
           "4/115_pd.vtk"
          ],
          [
           "4/116_pd.vtk"
          ],
          [
           "4/117_pd.vtk"
          ],
          [
           "4/121_pd.vtk"
          ],
          [
           "4/139_pd.vtk"
          ],
          [
           "4/159_pd.vtk"
          ],
          [
           "4/160_pd.vtk"
          ],
          [
           "4/163_pd.vtk"
          ],
          [
           "4/166_pd.vtk"
          ],
          [
           "4/169_pd.vtk"
          ],
          [
           "4/170_pd.vtk"
          ],
          [
           "4/198_pd.vtk"
          ],
          [
           "4/19_pd.vtk"
          ],
          [
           "4/210_pd.vtk"
          ],
          [
           "4/227_pd.vtk"
          ],
          [
           "4/238_pd.vtk"
          ],
          [
           "4/247_pd.vtk"
          ],
          [
           "4/248_pd.vtk"
          ],
          [
           "4/24_pd.vtk"
          ],
          [
           "4/250_pd.vtk"
          ],
          [
           "4/275_pd.vtk"
          ],
          [
           "4/27_pd.vtk"
          ],
          [
           "4/287_pd.vtk"
          ],
          [
           "4/295_pd.vtk"
          ],
          [
           "4/300_pd.vtk"
          ],
          [
           "4/304_pd.vtk"
          ],
          [
           "4/308_pd.vtk"
          ],
          [
           "4/325_pd.vtk"
          ],
          [
           "4/33_pd.vtk"
          ],
          [
           "4/360_pd.vtk"
          ],
          [
           "4/376_pd.vtk"
          ],
          [
           "4/379_pd.vtk"
          ],
          [
           "4/398_pd.vtk"
          ],
          [
           "4/399_pd.vtk"
          ],
          [
           "4/405_pd.vtk"
          ],
          [
           "4/420_pd.vtk"
          ],
          [
           "4/425_pd.vtk"
          ],
          [
           "4/428_pd.vtk"
          ],
          [
           "4/42_pd.vtk"
          ],
          [
           "4/48_pd.vtk"
          ],
          [
           "4/49_pd.vtk"
          ],
          [
           "4/4_pd.vtk"
          ],
          [
           "4/56_pd.vtk"
          ],
          [
           "4/65_pd.vtk"
          ],
          [
           "4/67_pd.vtk"
          ],
          [
           "4/6_pd.vtk"
          ],
          [
           "4/85_pd.vtk"
          ],
          [
           "4/95_pd.vtk"
          ]
         ],
         "hovertemplate": "digit=4<br>x=%{x}<br>y=%{y}<br>file=%{customdata[0]}<extra></extra>",
         "legendgroup": "4",
         "marker": {
          "color": "#FFA15A",
          "symbol": "circle"
         },
         "mode": "markers",
         "name": "4",
         "orientation": "v",
         "showlegend": true,
         "type": "scatter",
         "x": [
          -53.038028717041016,
          83.2979507446289,
          23.184274673461914,
          -57.12019348144531,
          -61.14726638793945,
          24.719240188598633,
          22.50152587890625,
          21.663185119628906,
          -58.93867492675781,
          19.98003578186035,
          83.57732391357422,
          -56.7739372253418,
          -62.87692642211914,
          25.380939483642578,
          -64.58560180664062,
          -62.87692642211914,
          84.3310546875,
          -62.75482177734375,
          21.702409744262695,
          21.120893478393555,
          23.411605834960938,
          18.512004852294922,
          82.21735382080078,
          22.27897834777832,
          -55.28041458129883,
          -53.9699821472168,
          16.81675910949707,
          -53.9699821472168,
          -51.73948669433594,
          -56.89701461791992,
          25.34050750732422,
          19.880334854125977,
          -58.270477294921875,
          -58.28794860839844,
          -57.54640579223633,
          -60.989341735839844,
          21.44949722290039,
          25.158023834228516,
          24.342742919921875,
          24.054767608642578,
          -60.91963577270508,
          22.14747428894043,
          -58.86650848388672,
          24.86431121826172,
          20.445293426513672,
          -60.752174377441406,
          19.865713119506836,
          -59.210147857666016,
          -60.09012222290039,
          18.4729061126709
         ],
         "xaxis": "x",
         "y": [
          8.358477592468262,
          52.841766357421875,
          24.07945442199707,
          -4.489120960235596,
          -2.373924493789673,
          21.463584899902344,
          25.852842330932617,
          -10.67296314239502,
          0.3485780358314514,
          30.07524871826172,
          53.01239013671875,
          3.2534987926483154,
          -1.3770188093185425,
          20.717838287353516,
          -0.25003689527511597,
          -1.3770188093185425,
          53.33576202392578,
          -3.467444658279419,
          -11.851725578308105,
          28.61172103881836,
          23.704137802124023,
          -7.909952640533447,
          52.68510818481445,
          25.88602066040039,
          -4.508630752563477,
          -2.7112770080566406,
          -22.475536346435547,
          -2.7112770080566406,
          -1.6598354578018188,
          2.6039211750030518,
          24.01703453063965,
          31.184667587280273,
          -0.3274930417537689,
          5.760145664215088,
          6.285599231719971,
          -0.04318118840456009,
          29.80816650390625,
          19.960386276245117,
          23.158435821533203,
          21.445131301879883,
          1.2871910333633423,
          27.179943084716797,
          4.193917274475098,
          23.12792205810547,
          29.574758529663086,
          2.149937868118286,
          29.554107666015625,
          5.6790337562561035,
          0.12941314280033112,
          -7.791229248046875
         ],
         "yaxis": "y"
        },
        {
         "customdata": [
          [
           "5/102_pd.vtk"
          ],
          [
           "5/120_pd.vtk"
          ],
          [
           "5/127_pd.vtk"
          ],
          [
           "5/129_pd.vtk"
          ],
          [
           "5/132_pd.vtk"
          ],
          [
           "5/152_pd.vtk"
          ],
          [
           "5/153_pd.vtk"
          ],
          [
           "5/155_pd.vtk"
          ],
          [
           "5/15_pd.vtk"
          ],
          [
           "5/162_pd.vtk"
          ],
          [
           "5/165_pd.vtk"
          ],
          [
           "5/167_pd.vtk"
          ],
          [
           "5/182_pd.vtk"
          ],
          [
           "5/187_pd.vtk"
          ],
          [
           "5/207_pd.vtk"
          ],
          [
           "5/211_pd.vtk"
          ],
          [
           "5/218_pd.vtk"
          ],
          [
           "5/219_pd.vtk"
          ],
          [
           "5/23_pd.vtk"
          ],
          [
           "5/240_pd.vtk"
          ],
          [
           "5/253_pd.vtk"
          ],
          [
           "5/261_pd.vtk"
          ],
          [
           "5/283_pd.vtk"
          ],
          [
           "5/289_pd.vtk"
          ],
          [
           "5/317_pd.vtk"
          ],
          [
           "5/319_pd.vtk"
          ],
          [
           "5/333_pd.vtk"
          ],
          [
           "5/340_pd.vtk"
          ],
          [
           "5/347_pd.vtk"
          ],
          [
           "5/351_pd.vtk"
          ],
          [
           "5/352_pd.vtk"
          ],
          [
           "5/356_pd.vtk"
          ],
          [
           "5/364_pd.vtk"
          ],
          [
           "5/367_pd.vtk"
          ],
          [
           "5/375_pd.vtk"
          ],
          [
           "5/395_pd.vtk"
          ],
          [
           "5/397_pd.vtk"
          ],
          [
           "5/406_pd.vtk"
          ],
          [
           "5/412_pd.vtk"
          ],
          [
           "5/433_pd.vtk"
          ],
          [
           "5/45_pd.vtk"
          ],
          [
           "5/460_pd.vtk"
          ],
          [
           "5/469_pd.vtk"
          ],
          [
           "5/478_pd.vtk"
          ],
          [
           "5/483_pd.vtk"
          ],
          [
           "5/491_pd.vtk"
          ],
          [
           "5/52_pd.vtk"
          ],
          [
           "5/53_pd.vtk"
          ],
          [
           "5/59_pd.vtk"
          ],
          [
           "5/8_pd.vtk"
          ]
         ],
         "hovertemplate": "digit=5<br>x=%{x}<br>y=%{y}<br>file=%{customdata[0]}<extra></extra>",
         "legendgroup": "5",
         "marker": {
          "color": "#19d3f3",
          "symbol": "circle"
         },
         "mode": "markers",
         "name": "5",
         "orientation": "v",
         "showlegend": true,
         "type": "scatter",
         "x": [
          21.650165557861328,
          24.421588897705078,
          21.243118286132812,
          20.514690399169922,
          82.78089904785156,
          22.56756019592285,
          82.31940460205078,
          21.890178680419922,
          21.508811950683594,
          21.58775520324707,
          21.534912109375,
          86.0531997680664,
          -60.458377838134766,
          83.47732543945312,
          27.16293716430664,
          25.052169799804688,
          -56.807010650634766,
          21.912160873413086,
          81.74248504638672,
          83.56598663330078,
          20.80622673034668,
          83.69620513916016,
          22.12135124206543,
          82.63594818115234,
          -58.01061248779297,
          81.36795806884766,
          20.039140701293945,
          82.96027374267578,
          85.22835540771484,
          22.1120662689209,
          9.674636840820312,
          23.699941635131836,
          -54.74605941772461,
          86.59527587890625,
          83.93515014648438,
          82.9462890625,
          23.895465850830078,
          9.566079139709473,
          19.83423614501953,
          21.66053581237793,
          17.371381759643555,
          -60.925506591796875,
          83.30323791503906,
          20.81818389892578,
          -60.589439392089844,
          -58.52742385864258,
          82.49830627441406,
          21.217416763305664,
          -55.20939254760742,
          -55.25474548339844
         ],
         "xaxis": "x",
         "y": [
          -2.3260176181793213,
          22.837697982788086,
          28.16278648376465,
          28.614261627197266,
          53.62637710571289,
          24.67992401123047,
          51.964576721191406,
          28.050458908081055,
          31.530315399169922,
          29.187793731689453,
          30.174638748168945,
          52.09619140625,
          2.5092973709106445,
          53.93309783935547,
          20.4688720703125,
          22.03217315673828,
          -0.5735828280448914,
          20.50454330444336,
          52.2929573059082,
          54.89242935180664,
          26.47241973876953,
          55.681278228759766,
          27.508766174316406,
          52.579410552978516,
          4.463388919830322,
          51.745086669921875,
          31.592967987060547,
          53.70737075805664,
          52.936954498291016,
          24.710100173950195,
          -11.218545913696289,
          22.362916946411133,
          2.6087160110473633,
          53.00353240966797,
          53.25251388549805,
          52.469078063964844,
          22.551551818847656,
          -11.075345039367676,
          30.489152908325195,
          27.565587997436523,
          -2.3810906410217285,
          -4.338844299316406,
          55.09263229370117,
          28.09451675415039,
          0.7373228669166565,
          5.155527591705322,
          53.04865264892578,
          30.78510856628418,
          4.48945951461792,
          1.2981500625610352
         ],
         "yaxis": "y"
        },
        {
         "customdata": [
          [
           "6/100_pd.vtk"
          ],
          [
           "6/11_pd.vtk"
          ],
          [
           "6/123_pd.vtk"
          ],
          [
           "6/130_pd.vtk"
          ],
          [
           "6/131_pd.vtk"
          ],
          [
           "6/138_pd.vtk"
          ],
          [
           "6/140_pd.vtk"
          ],
          [
           "6/156_pd.vtk"
          ],
          [
           "6/161_pd.vtk"
          ],
          [
           "6/164_pd.vtk"
          ],
          [
           "6/197_pd.vtk"
          ],
          [
           "6/201_pd.vtk"
          ],
          [
           "6/217_pd.vtk"
          ],
          [
           "6/21_pd.vtk"
          ],
          [
           "6/22_pd.vtk"
          ],
          [
           "6/259_pd.vtk"
          ],
          [
           "6/286_pd.vtk"
          ],
          [
           "6/316_pd.vtk"
          ],
          [
           "6/339_pd.vtk"
          ],
          [
           "6/341_pd.vtk"
          ],
          [
           "6/353_pd.vtk"
          ],
          [
           "6/361_pd.vtk"
          ],
          [
           "6/366_pd.vtk"
          ],
          [
           "6/368_pd.vtk"
          ],
          [
           "6/384_pd.vtk"
          ],
          [
           "6/386_pd.vtk"
          ],
          [
           "6/392_pd.vtk"
          ],
          [
           "6/439_pd.vtk"
          ],
          [
           "6/445_pd.vtk"
          ],
          [
           "6/446_pd.vtk"
          ],
          [
           "6/457_pd.vtk"
          ],
          [
           "6/461_pd.vtk"
          ],
          [
           "6/462_pd.vtk"
          ],
          [
           "6/463_pd.vtk"
          ],
          [
           "6/472_pd.vtk"
          ],
          [
           "6/499_pd.vtk"
          ],
          [
           "6/508_pd.vtk"
          ],
          [
           "6/50_pd.vtk"
          ],
          [
           "6/514_pd.vtk"
          ],
          [
           "6/517_pd.vtk"
          ],
          [
           "6/534_pd.vtk"
          ],
          [
           "6/54_pd.vtk"
          ],
          [
           "6/559_pd.vtk"
          ],
          [
           "6/566_pd.vtk"
          ],
          [
           "6/568_pd.vtk"
          ],
          [
           "6/66_pd.vtk"
          ],
          [
           "6/81_pd.vtk"
          ],
          [
           "6/88_pd.vtk"
          ],
          [
           "6/91_pd.vtk"
          ],
          [
           "6/98_pd.vtk"
          ]
         ],
         "hovertemplate": "digit=6<br>x=%{x}<br>y=%{y}<br>file=%{customdata[0]}<extra></extra>",
         "legendgroup": "6",
         "marker": {
          "color": "#FF6692",
          "symbol": "circle"
         },
         "mode": "markers",
         "name": "6",
         "orientation": "v",
         "showlegend": true,
         "type": "scatter",
         "x": [
          10.104243278503418,
          11.96442985534668,
          77.00409698486328,
          -55.9035758972168,
          -57.54936599731445,
          24.120195388793945,
          15.823052406311035,
          11.357207298278809,
          21.488481521606445,
          11.920722961425781,
          20.886682510375977,
          22.771608352661133,
          15.477452278137207,
          16.24089813232422,
          9.734053611755371,
          8.648510932922363,
          11.898311614990234,
          15.529739379882812,
          14.778347969055176,
          22.34805679321289,
          -56.88711166381836,
          18.83491325378418,
          76.25979614257812,
          13.062297821044922,
          12.15845012664795,
          13.628602981567383,
          20.078386306762695,
          17.897729873657227,
          22.49117660522461,
          17.203157424926758,
          18.097349166870117,
          12.757926940917969,
          17.02196502685547,
          17.4661808013916,
          76.40486907958984,
          20.704423904418945,
          15.451180458068848,
          24.762779235839844,
          22.069692611694336,
          19.554950714111328,
          11.369989395141602,
          8.277200698852539,
          -55.41660690307617,
          -59.157920837402344,
          14.478543281555176,
          22.90068817138672,
          18.847126007080078,
          10.84447193145752,
          20.107620239257812,
          21.065290451049805
         ],
         "xaxis": "x",
         "y": [
          -20.883222579956055,
          -19.74884033203125,
          -57.149845123291016,
          4.141961097717285,
          -0.9350763559341431,
          -2.244767427444458,
          -22.334260940551758,
          -22.78151512145996,
          -11.55911922454834,
          -23.151409149169922,
          -12.587753295898438,
          -2.07897686958313,
          -22.811721801757812,
          -13.061140060424805,
          -21.51051902770996,
          -17.85568618774414,
          -21.94648551940918,
          -3.050330638885498,
          -3.0011045932769775,
          -5.456921577453613,
          5.912093162536621,
          -11.550188064575195,
          -54.41913986206055,
          -20.9306583404541,
          -21.144515991210938,
          -19.072650909423828,
          -11.990830421447754,
          -12.275186538696289,
          21.639846801757812,
          -2.1495883464813232,
          -13.360600471496582,
          -20.723384857177734,
          -2.808753728866577,
          -13.352773666381836,
          -57.54861068725586,
          -10.730496406555176,
          -22.206411361694336,
          20.1801700592041,
          -2.2549633979797363,
          -13.63338851928711,
          -21.671648025512695,
          -19.422332763671875,
          0.6014660000801086,
          1.1945310831069946,
          -19.981124877929688,
          -2.083505868911743,
          -3.2599260807037354,
          -22.450973510742188,
          -11.40029239654541,
          -12.972440719604492
         ],
         "yaxis": "y"
        },
        {
         "customdata": [
          [
           "7/0_pd.vtk"
          ],
          [
           "7/111_pd.vtk"
          ],
          [
           "7/114_pd.vtk"
          ],
          [
           "7/122_pd.vtk"
          ],
          [
           "7/124_pd.vtk"
          ],
          [
           "7/133_pd.vtk"
          ],
          [
           "7/141_pd.vtk"
          ],
          [
           "7/144_pd.vtk"
          ],
          [
           "7/171_pd.vtk"
          ],
          [
           "7/175_pd.vtk"
          ],
          [
           "7/17_pd.vtk"
          ],
          [
           "7/220_pd.vtk"
          ],
          [
           "7/223_pd.vtk"
          ],
          [
           "7/229_pd.vtk"
          ],
          [
           "7/234_pd.vtk"
          ],
          [
           "7/243_pd.vtk"
          ],
          [
           "7/254_pd.vtk"
          ],
          [
           "7/255_pd.vtk"
          ],
          [
           "7/262_pd.vtk"
          ],
          [
           "7/263_pd.vtk"
          ],
          [
           "7/26_pd.vtk"
          ],
          [
           "7/282_pd.vtk"
          ],
          [
           "7/301_pd.vtk"
          ],
          [
           "7/307_pd.vtk"
          ],
          [
           "7/328_pd.vtk"
          ],
          [
           "7/337_pd.vtk"
          ],
          [
           "7/34_pd.vtk"
          ],
          [
           "7/358_pd.vtk"
          ],
          [
           "7/36_pd.vtk"
          ],
          [
           "7/370_pd.vtk"
          ],
          [
           "7/383_pd.vtk"
          ],
          [
           "7/410_pd.vtk"
          ],
          [
           "7/411_pd.vtk"
          ],
          [
           "7/413_pd.vtk"
          ],
          [
           "7/415_pd.vtk"
          ],
          [
           "7/41_pd.vtk"
          ],
          [
           "7/438_pd.vtk"
          ],
          [
           "7/468_pd.vtk"
          ],
          [
           "7/482_pd.vtk"
          ],
          [
           "7/494_pd.vtk"
          ],
          [
           "7/510_pd.vtk"
          ],
          [
           "7/60_pd.vtk"
          ],
          [
           "7/64_pd.vtk"
          ],
          [
           "7/70_pd.vtk"
          ],
          [
           "7/75_pd.vtk"
          ],
          [
           "7/79_pd.vtk"
          ],
          [
           "7/80_pd.vtk"
          ],
          [
           "7/83_pd.vtk"
          ],
          [
           "7/86_pd.vtk"
          ],
          [
           "7/97_pd.vtk"
          ]
         ],
         "hovertemplate": "digit=7<br>x=%{x}<br>y=%{y}<br>file=%{customdata[0]}<extra></extra>",
         "legendgroup": "7",
         "marker": {
          "color": "#B6E880",
          "symbol": "circle"
         },
         "mode": "markers",
         "name": "7",
         "orientation": "v",
         "showlegend": true,
         "type": "scatter",
         "x": [
          -59.2360725402832,
          -59.2360725402832,
          -55.988609313964844,
          -59.2360725402832,
          -59.15973663330078,
          -55.602333068847656,
          -53.905662536621094,
          -53.905662536621094,
          -50.56870651245117,
          -58.901336669921875,
          -58.76322555541992,
          -57.66204071044922,
          -51.44234085083008,
          -51.02536392211914,
          -56.018924713134766,
          -56.018924713134766,
          -57.896629333496094,
          -53.669715881347656,
          -53.669715881347656,
          -53.669715881347656,
          -55.74909210205078,
          -57.523746490478516,
          -59.02181625366211,
          -56.88443374633789,
          -57.523746490478516,
          -56.88443374633789,
          -57.27151107788086,
          -57.27151107788086,
          -58.008365631103516,
          -58.008365631103516,
          -58.008365631103516,
          -58.008365631103516,
          -58.008365631103516,
          -58.008365631103516,
          -56.40647888183594,
          20.011417388916016,
          -56.40647888183594,
          14.932260513305664,
          -56.40647888183594,
          -54.72615051269531,
          -60.244266510009766,
          -58.380706787109375,
          -55.430992126464844,
          -57.7010612487793,
          -59.825477600097656,
          -61.961265563964844,
          -60.14681625366211,
          -59.394039154052734,
          -58.93867492675781,
          -61.56430435180664
         ],
         "xaxis": "x",
         "y": [
          2.4073290824890137,
          2.4073290824890137,
          0.8769704103469849,
          2.4073290824890137,
          -0.9321714639663696,
          5.144742012023926,
          6.484910011291504,
          6.484910011291504,
          2.7016777992248535,
          -4.970566272735596,
          9.370585441589355,
          -2.9469985961914062,
          6.255552291870117,
          0.3873504400253296,
          -2.403043031692505,
          -2.403043031692505,
          1.6396055221557617,
          -0.4509584307670593,
          -0.4509584307670593,
          -0.4509584307670593,
          -0.40655040740966797,
          5.210007667541504,
          3.6512160301208496,
          0.742927610874176,
          5.210007667541504,
          0.742927610874176,
          4.209567070007324,
          4.209567070007324,
          3.1957926750183105,
          3.1957926750183105,
          3.1957926750183105,
          3.1957926750183105,
          3.1957926750183105,
          3.1957926750183105,
          1.7550140619277954,
          29.274728775024414,
          1.7550140619277954,
          -23.2283935546875,
          1.7550140619277954,
          1.7865797281265259,
          1.7188546657562256,
          -0.9986717104911804,
          2.0732686519622803,
          0.30784568190574646,
          0.7099160552024841,
          1.371588110923767,
          2.9866089820861816,
          4.46600341796875,
          0.3485780358314514,
          0.624058187007904
         ],
         "yaxis": "y"
        },
        {
         "customdata": [
          [
           "8/110_pd.vtk"
          ],
          [
           "8/128_pd.vtk"
          ],
          [
           "8/134_pd.vtk"
          ],
          [
           "8/146_pd.vtk"
          ],
          [
           "8/177_pd.vtk"
          ],
          [
           "8/179_pd.vtk"
          ],
          [
           "8/181_pd.vtk"
          ],
          [
           "8/184_pd.vtk"
          ],
          [
           "8/226_pd.vtk"
          ],
          [
           "8/232_pd.vtk"
          ],
          [
           "8/233_pd.vtk"
          ],
          [
           "8/242_pd.vtk"
          ],
          [
           "8/257_pd.vtk"
          ],
          [
           "8/260_pd.vtk"
          ],
          [
           "8/266_pd.vtk"
          ],
          [
           "8/268_pd.vtk"
          ],
          [
           "8/277_pd.vtk"
          ],
          [
           "8/290_pd.vtk"
          ],
          [
           "8/299_pd.vtk"
          ],
          [
           "8/338_pd.vtk"
          ],
          [
           "8/344_pd.vtk"
          ],
          [
           "8/355_pd.vtk"
          ],
          [
           "8/373_pd.vtk"
          ],
          [
           "8/374_pd.vtk"
          ],
          [
           "8/391_pd.vtk"
          ],
          [
           "8/401_pd.vtk"
          ],
          [
           "8/403_pd.vtk"
          ],
          [
           "8/429_pd.vtk"
          ],
          [
           "8/431_pd.vtk"
          ],
          [
           "8/435_pd.vtk"
          ],
          [
           "8/436_pd.vtk"
          ],
          [
           "8/458_pd.vtk"
          ],
          [
           "8/465_pd.vtk"
          ],
          [
           "8/466_pd.vtk"
          ],
          [
           "8/470_pd.vtk"
          ],
          [
           "8/474_pd.vtk"
          ],
          [
           "8/486_pd.vtk"
          ],
          [
           "8/495_pd.vtk"
          ],
          [
           "8/520_pd.vtk"
          ],
          [
           "8/527_pd.vtk"
          ],
          [
           "8/538_pd.vtk"
          ],
          [
           "8/542_pd.vtk"
          ],
          [
           "8/543_pd.vtk"
          ],
          [
           "8/553_pd.vtk"
          ],
          [
           "8/563_pd.vtk"
          ],
          [
           "8/572_pd.vtk"
          ],
          [
           "8/580_pd.vtk"
          ],
          [
           "8/582_pd.vtk"
          ],
          [
           "8/61_pd.vtk"
          ],
          [
           "8/84_pd.vtk"
          ]
         ],
         "hovertemplate": "digit=8<br>x=%{x}<br>y=%{y}<br>file=%{customdata[0]}<extra></extra>",
         "legendgroup": "8",
         "marker": {
          "color": "#FF97FF",
          "symbol": "circle"
         },
         "mode": "markers",
         "name": "8",
         "orientation": "v",
         "showlegend": true,
         "type": "scatter",
         "x": [
          76.18704223632812,
          73.65868377685547,
          75.66704559326172,
          75.80549621582031,
          75.51860809326172,
          81.4178466796875,
          75.9653091430664,
          9.736228942871094,
          17.080141067504883,
          16.964920043945312,
          77.99787139892578,
          20.639141082763672,
          79.8099136352539,
          78.481201171875,
          74.941650390625,
          23.059799194335938,
          17.894371032714844,
          21.939355850219727,
          80.15594482421875,
          16.363183975219727,
          74.7225112915039,
          75.1766586303711,
          75.55968475341797,
          74.18423461914062,
          22.035812377929688,
          81.4366455078125,
          74.82608795166016,
          79.8447494506836,
          74.91197967529297,
          20.675851821899414,
          21.466018676757812,
          76.30332946777344,
          85.73351287841797,
          74.11255645751953,
          75.64915466308594,
          74.75253295898438,
          12.307740211486816,
          80.33587646484375,
          14.448453903198242,
          77.09101104736328,
          79.67330932617188,
          84.5775375366211,
          78.29873657226562,
          16.328279495239258,
          74.6142807006836,
          75.6512222290039,
          18.322450637817383,
          24.455982208251953,
          13.71707820892334,
          21.29361343383789
         ],
         "xaxis": "x",
         "y": [
          -56.10601806640625,
          -56.34645462036133,
          -55.301658630371094,
          -56.09589767456055,
          -56.32453918457031,
          -53.71242141723633,
          -55.326080322265625,
          -21.352924346923828,
          -12.838425636291504,
          -2.699868679046631,
          -55.86521911621094,
          -12.06697940826416,
          -53.29644012451172,
          -54.046836853027344,
          -54.97016525268555,
          -3.5429024696350098,
          -13.970168113708496,
          -4.509880065917969,
          -53.691749572753906,
          -19.858259201049805,
          -56.71430969238281,
          -56.972618103027344,
          -55.29747009277344,
          -55.201751708984375,
          -4.973428249359131,
          -53.71026611328125,
          -56.631221771240234,
          -53.91646194458008,
          -57.740631103515625,
          -13.88314151763916,
          -3.661405086517334,
          -54.29116439819336,
          55.95302200317383,
          -55.74775695800781,
          -54.6450080871582,
          -55.90200424194336,
          -20.121967315673828,
          -53.900421142578125,
          -19.80872344970703,
          -56.00714111328125,
          -53.58999252319336,
          54.52114486694336,
          -51.758583068847656,
          -3.0335187911987305,
          -55.56592559814453,
          -56.04893112182617,
          -13.730866432189941,
          20.347551345825195,
          -19.426332473754883,
          -4.035439968109131
         ],
         "yaxis": "y"
        },
        {
         "customdata": [
          [
           "9/104_pd.vtk"
          ],
          [
           "9/105_pd.vtk"
          ],
          [
           "9/108_pd.vtk"
          ],
          [
           "9/113_pd.vtk"
          ],
          [
           "9/118_pd.vtk"
          ],
          [
           "9/125_pd.vtk"
          ],
          [
           "9/12_pd.vtk"
          ],
          [
           "9/150_pd.vtk"
          ],
          [
           "9/151_pd.vtk"
          ],
          [
           "9/16_pd.vtk"
          ],
          [
           "9/185_pd.vtk"
          ],
          [
           "9/193_pd.vtk"
          ],
          [
           "9/206_pd.vtk"
          ],
          [
           "9/209_pd.vtk"
          ],
          [
           "9/20_pd.vtk"
          ],
          [
           "9/212_pd.vtk"
          ],
          [
           "9/214_pd.vtk"
          ],
          [
           "9/235_pd.vtk"
          ],
          [
           "9/241_pd.vtk"
          ],
          [
           "9/252_pd.vtk"
          ],
          [
           "9/264_pd.vtk"
          ],
          [
           "9/273_pd.vtk"
          ],
          [
           "9/274_pd.vtk"
          ],
          [
           "9/281_pd.vtk"
          ],
          [
           "9/284_pd.vtk"
          ],
          [
           "9/292_pd.vtk"
          ],
          [
           "9/315_pd.vtk"
          ],
          [
           "9/320_pd.vtk"
          ],
          [
           "9/322_pd.vtk"
          ],
          [
           "9/336_pd.vtk"
          ],
          [
           "9/359_pd.vtk"
          ],
          [
           "9/389_pd.vtk"
          ],
          [
           "9/394_pd.vtk"
          ],
          [
           "9/414_pd.vtk"
          ],
          [
           "9/417_pd.vtk"
          ],
          [
           "9/422_pd.vtk"
          ],
          [
           "9/426_pd.vtk"
          ],
          [
           "9/434_pd.vtk"
          ],
          [
           "9/448_pd.vtk"
          ],
          [
           "9/454_pd.vtk"
          ],
          [
           "9/471_pd.vtk"
          ],
          [
           "9/479_pd.vtk"
          ],
          [
           "9/58_pd.vtk"
          ],
          [
           "9/62_pd.vtk"
          ],
          [
           "9/73_pd.vtk"
          ],
          [
           "9/78_pd.vtk"
          ],
          [
           "9/7_pd.vtk"
          ],
          [
           "9/92_pd.vtk"
          ],
          [
           "9/99_pd.vtk"
          ],
          [
           "9/9_pd.vtk"
          ]
         ],
         "hovertemplate": "digit=9<br>x=%{x}<br>y=%{y}<br>file=%{customdata[0]}<extra></extra>",
         "legendgroup": "9",
         "marker": {
          "color": "#FECB52",
          "symbol": "circle"
         },
         "mode": "markers",
         "name": "9",
         "orientation": "v",
         "showlegend": true,
         "type": "scatter",
         "x": [
          22.20965003967285,
          15.687992095947266,
          15.677018165588379,
          14.975648880004883,
          13.291729927062988,
          17.900278091430664,
          13.812936782836914,
          13.650091171264648,
          19.57034683227539,
          15.389272689819336,
          22.916635513305664,
          15.238633155822754,
          79.61103057861328,
          -59.39703369140625,
          -59.39703369140625,
          20.648414611816406,
          19.093448638916016,
          15.312518119812012,
          17.889802932739258,
          14.313633918762207,
          21.290912628173828,
          18.746824264526367,
          13.052136421203613,
          20.186553955078125,
          15.52421760559082,
          16.05181312561035,
          10.481569290161133,
          19.54602813720703,
          20.655832290649414,
          11.292842864990234,
          77.27837371826172,
          20.232494354248047,
          25.019737243652344,
          14.639386177062988,
          20.107633590698242,
          13.533546447753906,
          15.960837364196777,
          14.639386177062988,
          23.753381729125977,
          15.518896102905273,
          13.98820972442627,
          16.505998611450195,
          20.2598819732666,
          22.877647399902344,
          19.207433700561523,
          77.62317657470703,
          20.64559555053711,
          15.043234825134277,
          15.160823822021484,
          13.094578742980957
         ],
         "xaxis": "x",
         "y": [
          26.113893508911133,
          -13.692458152770996,
          -22.6710147857666,
          -20.42477798461914,
          -20.66378402709961,
          -13.446128845214844,
          -21.585891723632812,
          -19.078378677368164,
          -1.5765122175216675,
          -14.14565658569336,
          25.506732940673828,
          -20.68830108642578,
          -53.19384002685547,
          -2.928361654281616,
          -2.928361654281616,
          -11.605134010314941,
          -11.284727096557617,
          -13.275206565856934,
          -1.9667127132415771,
          -22.469804763793945,
          -10.772099494934082,
          -2.689889430999756,
          -18.970922470092773,
          -12.511214256286621,
          -13.421027183532715,
          -13.090062141418457,
          -19.948347091674805,
          -10.961548805236816,
          -13.324885368347168,
          -20.393651962280273,
          -54.35403060913086,
          -11.888296127319336,
          19.557697296142578,
          -20.054162979125977,
          -11.400330543518066,
          -20.823511123657227,
          -21.566770553588867,
          -20.054162979125977,
          -2.290334463119507,
          -13.41368579864502,
          -20.824085235595703,
          -1.8796197175979614,
          -3.724173069000244,
          25.11559295654297,
          -11.489566802978516,
          -55.24789047241211,
          -11.045618057250977,
          -21.549367904663086,
          -13.809212684631348,
          -21.759695053100586
         ],
         "yaxis": "y"
        }
       ],
       "layout": {
        "legend": {
         "title": {
          "text": "digit"
         },
         "tracegroupgap": 0
        },
        "margin": {
         "t": 60
        },
        "template": {
         "data": {
          "bar": [
           {
            "error_x": {
             "color": "#2a3f5f"
            },
            "error_y": {
             "color": "#2a3f5f"
            },
            "marker": {
             "line": {
              "color": "#E5ECF6",
              "width": 0.5
             }
            },
            "type": "bar"
           }
          ],
          "barpolar": [
           {
            "marker": {
             "line": {
              "color": "#E5ECF6",
              "width": 0.5
             }
            },
            "type": "barpolar"
           }
          ],
          "carpet": [
           {
            "aaxis": {
             "endlinecolor": "#2a3f5f",
             "gridcolor": "white",
             "linecolor": "white",
             "minorgridcolor": "white",
             "startlinecolor": "#2a3f5f"
            },
            "baxis": {
             "endlinecolor": "#2a3f5f",
             "gridcolor": "white",
             "linecolor": "white",
             "minorgridcolor": "white",
             "startlinecolor": "#2a3f5f"
            },
            "type": "carpet"
           }
          ],
          "choropleth": [
           {
            "colorbar": {
             "outlinewidth": 0,
             "ticks": ""
            },
            "type": "choropleth"
           }
          ],
          "contour": [
           {
            "colorbar": {
             "outlinewidth": 0,
             "ticks": ""
            },
            "colorscale": [
             [
              0,
              "#0d0887"
             ],
             [
              0.1111111111111111,
              "#46039f"
             ],
             [
              0.2222222222222222,
              "#7201a8"
             ],
             [
              0.3333333333333333,
              "#9c179e"
             ],
             [
              0.4444444444444444,
              "#bd3786"
             ],
             [
              0.5555555555555556,
              "#d8576b"
             ],
             [
              0.6666666666666666,
              "#ed7953"
             ],
             [
              0.7777777777777778,
              "#fb9f3a"
             ],
             [
              0.8888888888888888,
              "#fdca26"
             ],
             [
              1,
              "#f0f921"
             ]
            ],
            "type": "contour"
           }
          ],
          "contourcarpet": [
           {
            "colorbar": {
             "outlinewidth": 0,
             "ticks": ""
            },
            "type": "contourcarpet"
           }
          ],
          "heatmap": [
           {
            "colorbar": {
             "outlinewidth": 0,
             "ticks": ""
            },
            "colorscale": [
             [
              0,
              "#0d0887"
             ],
             [
              0.1111111111111111,
              "#46039f"
             ],
             [
              0.2222222222222222,
              "#7201a8"
             ],
             [
              0.3333333333333333,
              "#9c179e"
             ],
             [
              0.4444444444444444,
              "#bd3786"
             ],
             [
              0.5555555555555556,
              "#d8576b"
             ],
             [
              0.6666666666666666,
              "#ed7953"
             ],
             [
              0.7777777777777778,
              "#fb9f3a"
             ],
             [
              0.8888888888888888,
              "#fdca26"
             ],
             [
              1,
              "#f0f921"
             ]
            ],
            "type": "heatmap"
           }
          ],
          "heatmapgl": [
           {
            "colorbar": {
             "outlinewidth": 0,
             "ticks": ""
            },
            "colorscale": [
             [
              0,
              "#0d0887"
             ],
             [
              0.1111111111111111,
              "#46039f"
             ],
             [
              0.2222222222222222,
              "#7201a8"
             ],
             [
              0.3333333333333333,
              "#9c179e"
             ],
             [
              0.4444444444444444,
              "#bd3786"
             ],
             [
              0.5555555555555556,
              "#d8576b"
             ],
             [
              0.6666666666666666,
              "#ed7953"
             ],
             [
              0.7777777777777778,
              "#fb9f3a"
             ],
             [
              0.8888888888888888,
              "#fdca26"
             ],
             [
              1,
              "#f0f921"
             ]
            ],
            "type": "heatmapgl"
           }
          ],
          "histogram": [
           {
            "marker": {
             "colorbar": {
              "outlinewidth": 0,
              "ticks": ""
             }
            },
            "type": "histogram"
           }
          ],
          "histogram2d": [
           {
            "colorbar": {
             "outlinewidth": 0,
             "ticks": ""
            },
            "colorscale": [
             [
              0,
              "#0d0887"
             ],
             [
              0.1111111111111111,
              "#46039f"
             ],
             [
              0.2222222222222222,
              "#7201a8"
             ],
             [
              0.3333333333333333,
              "#9c179e"
             ],
             [
              0.4444444444444444,
              "#bd3786"
             ],
             [
              0.5555555555555556,
              "#d8576b"
             ],
             [
              0.6666666666666666,
              "#ed7953"
             ],
             [
              0.7777777777777778,
              "#fb9f3a"
             ],
             [
              0.8888888888888888,
              "#fdca26"
             ],
             [
              1,
              "#f0f921"
             ]
            ],
            "type": "histogram2d"
           }
          ],
          "histogram2dcontour": [
           {
            "colorbar": {
             "outlinewidth": 0,
             "ticks": ""
            },
            "colorscale": [
             [
              0,
              "#0d0887"
             ],
             [
              0.1111111111111111,
              "#46039f"
             ],
             [
              0.2222222222222222,
              "#7201a8"
             ],
             [
              0.3333333333333333,
              "#9c179e"
             ],
             [
              0.4444444444444444,
              "#bd3786"
             ],
             [
              0.5555555555555556,
              "#d8576b"
             ],
             [
              0.6666666666666666,
              "#ed7953"
             ],
             [
              0.7777777777777778,
              "#fb9f3a"
             ],
             [
              0.8888888888888888,
              "#fdca26"
             ],
             [
              1,
              "#f0f921"
             ]
            ],
            "type": "histogram2dcontour"
           }
          ],
          "mesh3d": [
           {
            "colorbar": {
             "outlinewidth": 0,
             "ticks": ""
            },
            "type": "mesh3d"
           }
          ],
          "parcoords": [
           {
            "line": {
             "colorbar": {
              "outlinewidth": 0,
              "ticks": ""
             }
            },
            "type": "parcoords"
           }
          ],
          "pie": [
           {
            "automargin": true,
            "type": "pie"
           }
          ],
          "scatter": [
           {
            "marker": {
             "colorbar": {
              "outlinewidth": 0,
              "ticks": ""
             }
            },
            "type": "scatter"
           }
          ],
          "scatter3d": [
           {
            "line": {
             "colorbar": {
              "outlinewidth": 0,
              "ticks": ""
             }
            },
            "marker": {
             "colorbar": {
              "outlinewidth": 0,
              "ticks": ""
             }
            },
            "type": "scatter3d"
           }
          ],
          "scattercarpet": [
           {
            "marker": {
             "colorbar": {
              "outlinewidth": 0,
              "ticks": ""
             }
            },
            "type": "scattercarpet"
           }
          ],
          "scattergeo": [
           {
            "marker": {
             "colorbar": {
              "outlinewidth": 0,
              "ticks": ""
             }
            },
            "type": "scattergeo"
           }
          ],
          "scattergl": [
           {
            "marker": {
             "colorbar": {
              "outlinewidth": 0,
              "ticks": ""
             }
            },
            "type": "scattergl"
           }
          ],
          "scattermapbox": [
           {
            "marker": {
             "colorbar": {
              "outlinewidth": 0,
              "ticks": ""
             }
            },
            "type": "scattermapbox"
           }
          ],
          "scatterpolar": [
           {
            "marker": {
             "colorbar": {
              "outlinewidth": 0,
              "ticks": ""
             }
            },
            "type": "scatterpolar"
           }
          ],
          "scatterpolargl": [
           {
            "marker": {
             "colorbar": {
              "outlinewidth": 0,
              "ticks": ""
             }
            },
            "type": "scatterpolargl"
           }
          ],
          "scatterternary": [
           {
            "marker": {
             "colorbar": {
              "outlinewidth": 0,
              "ticks": ""
             }
            },
            "type": "scatterternary"
           }
          ],
          "surface": [
           {
            "colorbar": {
             "outlinewidth": 0,
             "ticks": ""
            },
            "colorscale": [
             [
              0,
              "#0d0887"
             ],
             [
              0.1111111111111111,
              "#46039f"
             ],
             [
              0.2222222222222222,
              "#7201a8"
             ],
             [
              0.3333333333333333,
              "#9c179e"
             ],
             [
              0.4444444444444444,
              "#bd3786"
             ],
             [
              0.5555555555555556,
              "#d8576b"
             ],
             [
              0.6666666666666666,
              "#ed7953"
             ],
             [
              0.7777777777777778,
              "#fb9f3a"
             ],
             [
              0.8888888888888888,
              "#fdca26"
             ],
             [
              1,
              "#f0f921"
             ]
            ],
            "type": "surface"
           }
          ],
          "table": [
           {
            "cells": {
             "fill": {
              "color": "#EBF0F8"
             },
             "line": {
              "color": "white"
             }
            },
            "header": {
             "fill": {
              "color": "#C8D4E3"
             },
             "line": {
              "color": "white"
             }
            },
            "type": "table"
           }
          ]
         },
         "layout": {
          "annotationdefaults": {
           "arrowcolor": "#2a3f5f",
           "arrowhead": 0,
           "arrowwidth": 1
          },
          "autotypenumbers": "strict",
          "coloraxis": {
           "colorbar": {
            "outlinewidth": 0,
            "ticks": ""
           }
          },
          "colorscale": {
           "diverging": [
            [
             0,
             "#8e0152"
            ],
            [
             0.1,
             "#c51b7d"
            ],
            [
             0.2,
             "#de77ae"
            ],
            [
             0.3,
             "#f1b6da"
            ],
            [
             0.4,
             "#fde0ef"
            ],
            [
             0.5,
             "#f7f7f7"
            ],
            [
             0.6,
             "#e6f5d0"
            ],
            [
             0.7,
             "#b8e186"
            ],
            [
             0.8,
             "#7fbc41"
            ],
            [
             0.9,
             "#4d9221"
            ],
            [
             1,
             "#276419"
            ]
           ],
           "sequential": [
            [
             0,
             "#0d0887"
            ],
            [
             0.1111111111111111,
             "#46039f"
            ],
            [
             0.2222222222222222,
             "#7201a8"
            ],
            [
             0.3333333333333333,
             "#9c179e"
            ],
            [
             0.4444444444444444,
             "#bd3786"
            ],
            [
             0.5555555555555556,
             "#d8576b"
            ],
            [
             0.6666666666666666,
             "#ed7953"
            ],
            [
             0.7777777777777778,
             "#fb9f3a"
            ],
            [
             0.8888888888888888,
             "#fdca26"
            ],
            [
             1,
             "#f0f921"
            ]
           ],
           "sequentialminus": [
            [
             0,
             "#0d0887"
            ],
            [
             0.1111111111111111,
             "#46039f"
            ],
            [
             0.2222222222222222,
             "#7201a8"
            ],
            [
             0.3333333333333333,
             "#9c179e"
            ],
            [
             0.4444444444444444,
             "#bd3786"
            ],
            [
             0.5555555555555556,
             "#d8576b"
            ],
            [
             0.6666666666666666,
             "#ed7953"
            ],
            [
             0.7777777777777778,
             "#fb9f3a"
            ],
            [
             0.8888888888888888,
             "#fdca26"
            ],
            [
             1,
             "#f0f921"
            ]
           ]
          },
          "colorway": [
           "#636efa",
           "#EF553B",
           "#00cc96",
           "#ab63fa",
           "#FFA15A",
           "#19d3f3",
           "#FF6692",
           "#B6E880",
           "#FF97FF",
           "#FECB52"
          ],
          "font": {
           "color": "#2a3f5f"
          },
          "geo": {
           "bgcolor": "white",
           "lakecolor": "white",
           "landcolor": "#E5ECF6",
           "showlakes": true,
           "showland": true,
           "subunitcolor": "white"
          },
          "hoverlabel": {
           "align": "left"
          },
          "hovermode": "closest",
          "mapbox": {
           "style": "light"
          },
          "paper_bgcolor": "white",
          "plot_bgcolor": "#E5ECF6",
          "polar": {
           "angularaxis": {
            "gridcolor": "white",
            "linecolor": "white",
            "ticks": ""
           },
           "bgcolor": "#E5ECF6",
           "radialaxis": {
            "gridcolor": "white",
            "linecolor": "white",
            "ticks": ""
           }
          },
          "scene": {
           "xaxis": {
            "backgroundcolor": "#E5ECF6",
            "gridcolor": "white",
            "gridwidth": 2,
            "linecolor": "white",
            "showbackground": true,
            "ticks": "",
            "zerolinecolor": "white"
           },
           "yaxis": {
            "backgroundcolor": "#E5ECF6",
            "gridcolor": "white",
            "gridwidth": 2,
            "linecolor": "white",
            "showbackground": true,
            "ticks": "",
            "zerolinecolor": "white"
           },
           "zaxis": {
            "backgroundcolor": "#E5ECF6",
            "gridcolor": "white",
            "gridwidth": 2,
            "linecolor": "white",
            "showbackground": true,
            "ticks": "",
            "zerolinecolor": "white"
           }
          },
          "shapedefaults": {
           "line": {
            "color": "#2a3f5f"
           }
          },
          "ternary": {
           "aaxis": {
            "gridcolor": "white",
            "linecolor": "white",
            "ticks": ""
           },
           "baxis": {
            "gridcolor": "white",
            "linecolor": "white",
            "ticks": ""
           },
           "bgcolor": "#E5ECF6",
           "caxis": {
            "gridcolor": "white",
            "linecolor": "white",
            "ticks": ""
           }
          },
          "title": {
           "x": 0.05
          },
          "xaxis": {
           "automargin": true,
           "gridcolor": "white",
           "linecolor": "white",
           "ticks": "",
           "title": {
            "standoff": 15
           },
           "zerolinecolor": "white",
           "zerolinewidth": 2
          },
          "yaxis": {
           "automargin": true,
           "gridcolor": "white",
           "linecolor": "white",
           "ticks": "",
           "title": {
            "standoff": 15
           },
           "zerolinecolor": "white",
           "zerolinewidth": 2
          }
         }
        },
        "xaxis": {
         "anchor": "y",
         "domain": [
          0,
          1
         ],
         "title": {
          "text": "x"
         }
        },
        "yaxis": {
         "anchor": "x",
         "domain": [
          0,
          1
         ],
         "title": {
          "text": "y"
         }
        }
       }
      },
      "text/html": [
       "<div>                            <div id=\"ab70f82e-929a-4bd7-a9bc-6a7075dd7a3c\" class=\"plotly-graph-div\" style=\"height:525px; width:100%;\"></div>            <script type=\"text/javascript\">                require([\"plotly\"], function(Plotly) {                    window.PLOTLYENV=window.PLOTLYENV || {};                                    if (document.getElementById(\"ab70f82e-929a-4bd7-a9bc-6a7075dd7a3c\")) {                    Plotly.newPlot(                        \"ab70f82e-929a-4bd7-a9bc-6a7075dd7a3c\",                        [{\"customdata\": [[\"0/101_pd.vtk\"], [\"0/10_pd.vtk\"], [\"0/126_pd.vtk\"], [\"0/136_pd.vtk\"], [\"0/13_pd.vtk\"], [\"0/148_pd.vtk\"], [\"0/157_pd.vtk\"], [\"0/183_pd.vtk\"], [\"0/188_pd.vtk\"], [\"0/192_pd.vtk\"], [\"0/194_pd.vtk\"], [\"0/215_pd.vtk\"], [\"0/246_pd.vtk\"], [\"0/25_pd.vtk\"], [\"0/269_pd.vtk\"], [\"0/271_pd.vtk\"], [\"0/28_pd.vtk\"], [\"0/294_pd.vtk\"], [\"0/296_pd.vtk\"], [\"0/297_pd.vtk\"], [\"0/305_pd.vtk\"], [\"0/311_pd.vtk\"], [\"0/312_pd.vtk\"], [\"0/324_pd.vtk\"], [\"0/327_pd.vtk\"], [\"0/346_pd.vtk\"], [\"0/365_pd.vtk\"], [\"0/372_pd.vtk\"], [\"0/380_pd.vtk\"], [\"0/3_pd.vtk\"], [\"0/407_pd.vtk\"], [\"0/424_pd.vtk\"], [\"0/440_pd.vtk\"], [\"0/441_pd.vtk\"], [\"0/443_pd.vtk\"], [\"0/459_pd.vtk\"], [\"0/485_pd.vtk\"], [\"0/490_pd.vtk\"], [\"0/498_pd.vtk\"], [\"0/525_pd.vtk\"], [\"0/545_pd.vtk\"], [\"0/546_pd.vtk\"], [\"0/552_pd.vtk\"], [\"0/55_pd.vtk\"], [\"0/561_pd.vtk\"], [\"0/564_pd.vtk\"], [\"0/567_pd.vtk\"], [\"0/581_pd.vtk\"], [\"0/69_pd.vtk\"], [\"0/71_pd.vtk\"]], \"hovertemplate\": \"digit=0<br>x=%{x}<br>y=%{y}<br>file=%{customdata[0]}<extra></extra>\", \"legendgroup\": \"0\", \"marker\": {\"color\": \"#636efa\", \"symbol\": \"circle\"}, \"mode\": \"markers\", \"name\": \"0\", \"orientation\": \"v\", \"showlegend\": true, \"type\": \"scatter\", \"x\": [8.320812225341797, 10.378479957580566, 5.822856903076172, 14.25085735321045, 10.955633163452148, 14.344619750976562, 6.333184242248535, 10.537657737731934, 9.167241096496582, 8.691197395324707, 10.767099380493164, 14.905882835388184, 5.145257472991943, 17.531841278076172, 8.864459037780762, 11.449580192565918, 6.611665725708008, 10.402009010314941, 8.082498550415039, 9.893982887268066, 5.100647926330566, 6.140908241271973, 13.880019187927246, 22.704343795776367, 14.927783966064453, 21.751882553100586, 16.443561553955078, 10.140176773071289, 9.152156829833984, 9.178349494934082, 8.559609413146973, 9.947441101074219, 10.29165267944336, 14.924189567565918, 12.816112518310547, 5.659688949584961, 11.940070152282715, 21.6925106048584, 18.199766159057617, 8.390291213989258, 14.000934600830078, 12.89399242401123, 11.172184944152832, 15.03468132019043, 5.491365432739258, 11.320601463317871, 13.576313972473145, 10.157486915588379, 13.244114875793457, 10.910048484802246], \"xaxis\": \"x\", \"y\": [-17.715517044067383, -13.926173210144043, -19.33365821838379, -0.9837498068809509, -13.115923881530762, -13.60017204284668, -19.555503845214844, -14.024153709411621, -18.016183853149414, -20.328784942626953, -13.382433891296387, -1.6110279560089111, -19.28867530822754, -23.38372230529785, -17.4172306060791, -13.380678176879883, -19.007919311523438, -12.69315242767334, -18.239727020263672, -13.879683494567871, -19.288129806518555, -19.098342895507812, -1.2918567657470703, 29.89427375793457, -1.2128987312316895, -4.421701908111572, -1.9853801727294922, -14.296562194824219, -10.584467887878418, -19.201383590698242, -17.564037322998047, -13.795845031738281, -14.587386131286621, -17.813554763793945, -19.58519172668457, -19.27669906616211, -13.69902229309082, 20.497417449951172, -2.8131449222564697, -17.21617889404297, -1.2965478897094727, -0.9716699719429016, -20.416696548461914, -1.3361051082611084, -19.279916763305664, -13.903085708618164, -1.1804285049438477, -13.567411422729492, -1.0604708194732666, -14.404900550842285], \"yaxis\": \"y\"}, {\"customdata\": [[\"1/107_pd.vtk\"], [\"1/135_pd.vtk\"], [\"1/137_pd.vtk\"], [\"1/143_pd.vtk\"], [\"1/145_pd.vtk\"], [\"1/14_pd.vtk\"], [\"1/154_pd.vtk\"], [\"1/168_pd.vtk\"], [\"1/176_pd.vtk\"], [\"1/178_pd.vtk\"], [\"1/180_pd.vtk\"], [\"1/189_pd.vtk\"], [\"1/190_pd.vtk\"], [\"1/191_pd.vtk\"], [\"1/196_pd.vtk\"], [\"1/202_pd.vtk\"], [\"1/203_pd.vtk\"], [\"1/204_pd.vtk\"], [\"1/224_pd.vtk\"], [\"1/228_pd.vtk\"], [\"1/239_pd.vtk\"], [\"1/251_pd.vtk\"], [\"1/265_pd.vtk\"], [\"1/267_pd.vtk\"], [\"1/272_pd.vtk\"], [\"1/276_pd.vtk\"], [\"1/279_pd.vtk\"], [\"1/288_pd.vtk\"], [\"1/29_pd.vtk\"], [\"1/2_pd.vtk\"], [\"1/302_pd.vtk\"], [\"1/314_pd.vtk\"], [\"1/31_pd.vtk\"], [\"1/329_pd.vtk\"], [\"1/330_pd.vtk\"], [\"1/332_pd.vtk\"], [\"1/342_pd.vtk\"], [\"1/345_pd.vtk\"], [\"1/348_pd.vtk\"], [\"1/350_pd.vtk\"], [\"1/37_pd.vtk\"], [\"1/39_pd.vtk\"], [\"1/40_pd.vtk\"], [\"1/46_pd.vtk\"], [\"1/57_pd.vtk\"], [\"1/5_pd.vtk\"], [\"1/74_pd.vtk\"], [\"1/89_pd.vtk\"], [\"1/94_pd.vtk\"], [\"1/96_pd.vtk\"]], \"hovertemplate\": \"digit=1<br>x=%{x}<br>y=%{y}<br>file=%{customdata[0]}<extra></extra>\", \"legendgroup\": \"1\", \"marker\": {\"color\": \"#EF553B\", \"symbol\": \"circle\"}, \"mode\": \"markers\", \"name\": \"1\", \"orientation\": \"v\", \"showlegend\": true, \"type\": \"scatter\", \"x\": [-56.05132293701172, -56.05132293701172, -56.05132293701172, -62.215572357177734, -62.215572357177734, -56.05132293701172, -62.215572357177734, -62.215572357177734, -62.215572357177734, -62.215572357177734, -62.215572357177734, -52.65384292602539, -52.65384292602539, -62.215572357177734, -62.215572357177734, -62.215572357177734, -56.05132293701172, -62.215572357177734, -62.215572357177734, -62.215572357177734, -62.215572357177734, -62.215572357177734, -62.215572357177734, -62.215572357177734, -62.215572357177734, -62.215572357177734, -62.215572357177734, -62.215572357177734, -62.215572357177734, -62.215572357177734, -62.215572357177734, -62.215572357177734, -62.215572357177734, -62.215572357177734, -62.215572357177734, -62.215572357177734, -62.215572357177734, -62.215572357177734, -62.215572357177734, -62.215572357177734, -62.215572357177734, -62.215572357177734, -62.215572357177734, -62.215572357177734, -62.215572357177734, -62.215572357177734, -62.215572357177734, -62.215572357177734, -62.215572357177734, -62.215572357177734], \"xaxis\": \"x\", \"y\": [8.299989700317383, 8.299989700317383, 8.299989700317383, 4.82654333114624, 4.82654333114624, 8.299989700317383, 4.82654333114624, 4.82654333114624, 4.82654333114624, 4.82654333114624, 4.82654333114624, 1.5040795803070068, 1.5040795803070068, 4.82654333114624, 4.82654333114624, 4.82654333114624, 8.299989700317383, 4.82654333114624, 4.82654333114624, 4.82654333114624, 4.82654333114624, 4.82654333114624, 4.82654333114624, 4.82654333114624, 4.82654333114624, 4.82654333114624, 4.82654333114624, 4.82654333114624, 4.82654333114624, 4.82654333114624, 4.82654333114624, 4.82654333114624, 4.82654333114624, 4.82654333114624, 4.82654333114624, 4.82654333114624, 4.82654333114624, 4.82654333114624, 4.82654333114624, 4.82654333114624, 4.82654333114624, 4.82654333114624, 4.82654333114624, 4.82654333114624, 4.82654333114624, 4.82654333114624, 4.82654333114624, 4.82654333114624, 4.82654333114624, 4.82654333114624], \"yaxis\": \"y\"}, {\"customdata\": [[\"2/106_pd.vtk\"], [\"2/119_pd.vtk\"], [\"2/147_pd.vtk\"], [\"2/149_pd.vtk\"], [\"2/172_pd.vtk\"], [\"2/174_pd.vtk\"], [\"2/186_pd.vtk\"], [\"2/199_pd.vtk\"], [\"2/1_pd.vtk\"], [\"2/208_pd.vtk\"], [\"2/221_pd.vtk\"], [\"2/222_pd.vtk\"], [\"2/225_pd.vtk\"], [\"2/236_pd.vtk\"], [\"2/237_pd.vtk\"], [\"2/244_pd.vtk\"], [\"2/249_pd.vtk\"], [\"2/256_pd.vtk\"], [\"2/258_pd.vtk\"], [\"2/278_pd.vtk\"], [\"2/280_pd.vtk\"], [\"2/285_pd.vtk\"], [\"2/291_pd.vtk\"], [\"2/293_pd.vtk\"], [\"2/298_pd.vtk\"], [\"2/303_pd.vtk\"], [\"2/306_pd.vtk\"], [\"2/318_pd.vtk\"], [\"2/321_pd.vtk\"], [\"2/326_pd.vtk\"], [\"2/331_pd.vtk\"], [\"2/35_pd.vtk\"], [\"2/362_pd.vtk\"], [\"2/363_pd.vtk\"], [\"2/371_pd.vtk\"], [\"2/387_pd.vtk\"], [\"2/38_pd.vtk\"], [\"2/390_pd.vtk\"], [\"2/396_pd.vtk\"], [\"2/400_pd.vtk\"], [\"2/404_pd.vtk\"], [\"2/418_pd.vtk\"], [\"2/421_pd.vtk\"], [\"2/423_pd.vtk\"], [\"2/43_pd.vtk\"], [\"2/444_pd.vtk\"], [\"2/47_pd.vtk\"], [\"2/72_pd.vtk\"], [\"2/77_pd.vtk\"], [\"2/82_pd.vtk\"]], \"hovertemplate\": \"digit=2<br>x=%{x}<br>y=%{y}<br>file=%{customdata[0]}<extra></extra>\", \"legendgroup\": \"2\", \"marker\": {\"color\": \"#00cc96\", \"symbol\": \"circle\"}, \"mode\": \"markers\", \"name\": \"2\", \"orientation\": \"v\", \"showlegend\": true, \"type\": \"scatter\", \"x\": [15.421246528625488, 20.80960464477539, 21.283937454223633, 11.27234172821045, -62.215572357177734, 9.461588859558105, -62.215572357177734, -62.215572357177734, -62.215572357177734, -62.215572357177734, 78.54080200195312, 21.564523696899414, 26.47865104675293, -52.81703186035156, -52.81703186035156, 16.084041595458984, -52.81703186035156, -52.81703186035156, -59.157920837402344, 19.528648376464844, -52.81703186035156, 7.250365257263184, -55.10308837890625, -59.2360725402832, 84.92630767822266, 18.596364974975586, -55.10308837890625, 14.404160499572754, -59.616973876953125, -59.20360565185547, -59.616973876953125, 20.43805694580078, -57.334224700927734, -59.45785903930664, -59.933837890625, 20.815898895263672, -55.88679504394531, 82.11914825439453, -55.88679504394531, 18.582111358642578, -56.89701461791992, 15.14077377319336, 81.14220428466797, -57.896629333496094, -57.896629333496094, 24.495203018188477, 7.199216842651367, 14.908849716186523, 21.716476440429688, -57.896629333496094], \"xaxis\": \"x\", \"y\": [-3.195483684539795, 29.566007614135742, -9.783060073852539, -22.419322967529297, 4.82654333114624, -21.79554557800293, 4.82654333114624, 4.82654333114624, 4.82654333114624, 4.82654333114624, -55.595890045166016, 20.453269958496094, 20.322153091430664, 4.05457878112793, 4.05457878112793, -22.753385543823242, 4.05457878112793, 4.05457878112793, 1.1945310831069946, -10.334467887878418, 4.05457878112793, -21.05503273010254, 3.4908578395843506, 2.4073290824890137, 53.878013610839844, -3.858522653579712, 3.4908578395843506, -1.5726014375686646, 3.595179557800293, 6.40305233001709, 3.595179557800293, 30.438478469848633, -0.10917787253856659, -0.3347133696079254, 1.376701831817627, 30.140544891357422, 2.763274908065796, 54.45504379272461, 2.763274908065796, -3.922516107559204, 2.6039211750030518, -2.47754168510437, 51.612022399902344, 1.6396055221557617, 1.6396055221557617, 22.368284225463867, -20.975772857666016, -3.2180871963500977, 28.4132137298584, 1.6396055221557617], \"yaxis\": \"y\"}, {\"customdata\": [[\"3/112_pd.vtk\"], [\"3/142_pd.vtk\"], [\"3/158_pd.vtk\"], [\"3/173_pd.vtk\"], [\"3/18_pd.vtk\"], [\"3/195_pd.vtk\"], [\"3/200_pd.vtk\"], [\"3/205_pd.vtk\"], [\"3/213_pd.vtk\"], [\"3/216_pd.vtk\"], [\"3/230_pd.vtk\"], [\"3/231_pd.vtk\"], [\"3/245_pd.vtk\"], [\"3/270_pd.vtk\"], [\"3/309_pd.vtk\"], [\"3/30_pd.vtk\"], [\"3/310_pd.vtk\"], [\"3/313_pd.vtk\"], [\"3/323_pd.vtk\"], [\"3/32_pd.vtk\"], [\"3/334_pd.vtk\"], [\"3/335_pd.vtk\"], [\"3/343_pd.vtk\"], [\"3/349_pd.vtk\"], [\"3/369_pd.vtk\"], [\"3/381_pd.vtk\"], [\"3/382_pd.vtk\"], [\"3/402_pd.vtk\"], [\"3/408_pd.vtk\"], [\"3/437_pd.vtk\"], [\"3/442_pd.vtk\"], [\"3/449_pd.vtk\"], [\"3/44_pd.vtk\"], [\"3/450_pd.vtk\"], [\"3/451_pd.vtk\"], [\"3/453_pd.vtk\"], [\"3/464_pd.vtk\"], [\"3/493_pd.vtk\"], [\"3/500_pd.vtk\"], [\"3/505_pd.vtk\"], [\"3/507_pd.vtk\"], [\"3/515_pd.vtk\"], [\"3/51_pd.vtk\"], [\"3/524_pd.vtk\"], [\"3/63_pd.vtk\"], [\"3/68_pd.vtk\"], [\"3/76_pd.vtk\"], [\"3/87_pd.vtk\"], [\"3/90_pd.vtk\"], [\"3/93_pd.vtk\"]], \"hovertemplate\": \"digit=3<br>x=%{x}<br>y=%{y}<br>file=%{customdata[0]}<extra></extra>\", \"legendgroup\": \"3\", \"marker\": {\"color\": \"#ab63fa\", \"symbol\": \"circle\"}, \"mode\": \"markers\", \"name\": \"3\", \"orientation\": \"v\", \"showlegend\": true, \"type\": \"scatter\", \"x\": [-57.896629333496094, 24.055198669433594, 81.66363525390625, 18.56256103515625, 75.34351348876953, -57.896629333496094, 18.801803588867188, 24.73295021057129, -57.896629333496094, 24.558940887451172, -58.21345138549805, 85.66095733642578, 84.86793518066406, 20.78639793395996, 25.126827239990234, -58.36103057861328, 21.340221405029297, 83.17546844482422, -56.5159797668457, -61.3640251159668, 83.72985076904297, 84.35912322998047, 9.50507926940918, 82.02780151367188, 84.90057373046875, -60.2373161315918, 83.68514251708984, 85.99391174316406, 24.06656265258789, -56.5159797668457, -58.413108825683594, 20.50629997253418, -56.69451141357422, -56.185302734375, 25.10625648498535, 86.7890396118164, -56.14158630371094, 24.071937561035156, -56.3582878112793, 22.91486358642578, -59.2360725402832, 23.683006286621094, 22.41901969909668, 85.33602142333984, 18.50678825378418, 21.108121871948242, 21.112316131591797, 20.241857528686523, 23.05870246887207, -59.225982666015625], \"xaxis\": \"x\", \"y\": [1.6396055221557617, 2.428241491317749, 52.24799728393555, -6.6163554191589355, -54.51771926879883, 1.6396055221557617, -2.565568447113037, 21.942583084106445, 1.6396055221557617, 22.55221176147461, 0.409183531999588, 52.35658264160156, 54.86371612548828, 31.080440521240234, 23.623924255371094, 6.553985118865967, 26.578819274902344, 53.24994659423828, 4.7767534255981445, 1.885046124458313, 55.08045959472656, 54.590415954589844, -10.747832298278809, 52.9564208984375, 54.994510650634766, -0.6516150236129761, 53.76005935668945, 51.799842834472656, 2.4353866577148438, 4.7767534255981445, 4.477142333984375, 29.032442092895508, 3.725275754928589, 5.700196743011475, 22.193979263305664, 53.168701171875, 3.578310489654541, 2.4695281982421875, 0.11812816560268402, 26.753923416137695, 2.4073290824890137, 24.11516571044922, 21.74051284790039, 55.62629318237305, -7.303671360015869, 27.428491592407227, 29.225465774536133, 28.573335647583008, 22.430349349975586, 5.025155544281006], \"yaxis\": \"y\"}, {\"customdata\": [[\"4/103_pd.vtk\"], [\"4/109_pd.vtk\"], [\"4/115_pd.vtk\"], [\"4/116_pd.vtk\"], [\"4/117_pd.vtk\"], [\"4/121_pd.vtk\"], [\"4/139_pd.vtk\"], [\"4/159_pd.vtk\"], [\"4/160_pd.vtk\"], [\"4/163_pd.vtk\"], [\"4/166_pd.vtk\"], [\"4/169_pd.vtk\"], [\"4/170_pd.vtk\"], [\"4/198_pd.vtk\"], [\"4/19_pd.vtk\"], [\"4/210_pd.vtk\"], [\"4/227_pd.vtk\"], [\"4/238_pd.vtk\"], [\"4/247_pd.vtk\"], [\"4/248_pd.vtk\"], [\"4/24_pd.vtk\"], [\"4/250_pd.vtk\"], [\"4/275_pd.vtk\"], [\"4/27_pd.vtk\"], [\"4/287_pd.vtk\"], [\"4/295_pd.vtk\"], [\"4/300_pd.vtk\"], [\"4/304_pd.vtk\"], [\"4/308_pd.vtk\"], [\"4/325_pd.vtk\"], [\"4/33_pd.vtk\"], [\"4/360_pd.vtk\"], [\"4/376_pd.vtk\"], [\"4/379_pd.vtk\"], [\"4/398_pd.vtk\"], [\"4/399_pd.vtk\"], [\"4/405_pd.vtk\"], [\"4/420_pd.vtk\"], [\"4/425_pd.vtk\"], [\"4/428_pd.vtk\"], [\"4/42_pd.vtk\"], [\"4/48_pd.vtk\"], [\"4/49_pd.vtk\"], [\"4/4_pd.vtk\"], [\"4/56_pd.vtk\"], [\"4/65_pd.vtk\"], [\"4/67_pd.vtk\"], [\"4/6_pd.vtk\"], [\"4/85_pd.vtk\"], [\"4/95_pd.vtk\"]], \"hovertemplate\": \"digit=4<br>x=%{x}<br>y=%{y}<br>file=%{customdata[0]}<extra></extra>\", \"legendgroup\": \"4\", \"marker\": {\"color\": \"#FFA15A\", \"symbol\": \"circle\"}, \"mode\": \"markers\", \"name\": \"4\", \"orientation\": \"v\", \"showlegend\": true, \"type\": \"scatter\", \"x\": [-53.038028717041016, 83.2979507446289, 23.184274673461914, -57.12019348144531, -61.14726638793945, 24.719240188598633, 22.50152587890625, 21.663185119628906, -58.93867492675781, 19.98003578186035, 83.57732391357422, -56.7739372253418, -62.87692642211914, 25.380939483642578, -64.58560180664062, -62.87692642211914, 84.3310546875, -62.75482177734375, 21.702409744262695, 21.120893478393555, 23.411605834960938, 18.512004852294922, 82.21735382080078, 22.27897834777832, -55.28041458129883, -53.9699821472168, 16.81675910949707, -53.9699821472168, -51.73948669433594, -56.89701461791992, 25.34050750732422, 19.880334854125977, -58.270477294921875, -58.28794860839844, -57.54640579223633, -60.989341735839844, 21.44949722290039, 25.158023834228516, 24.342742919921875, 24.054767608642578, -60.91963577270508, 22.14747428894043, -58.86650848388672, 24.86431121826172, 20.445293426513672, -60.752174377441406, 19.865713119506836, -59.210147857666016, -60.09012222290039, 18.4729061126709], \"xaxis\": \"x\", \"y\": [8.358477592468262, 52.841766357421875, 24.07945442199707, -4.489120960235596, -2.373924493789673, 21.463584899902344, 25.852842330932617, -10.67296314239502, 0.3485780358314514, 30.07524871826172, 53.01239013671875, 3.2534987926483154, -1.3770188093185425, 20.717838287353516, -0.25003689527511597, -1.3770188093185425, 53.33576202392578, -3.467444658279419, -11.851725578308105, 28.61172103881836, 23.704137802124023, -7.909952640533447, 52.68510818481445, 25.88602066040039, -4.508630752563477, -2.7112770080566406, -22.475536346435547, -2.7112770080566406, -1.6598354578018188, 2.6039211750030518, 24.01703453063965, 31.184667587280273, -0.3274930417537689, 5.760145664215088, 6.285599231719971, -0.04318118840456009, 29.80816650390625, 19.960386276245117, 23.158435821533203, 21.445131301879883, 1.2871910333633423, 27.179943084716797, 4.193917274475098, 23.12792205810547, 29.574758529663086, 2.149937868118286, 29.554107666015625, 5.6790337562561035, 0.12941314280033112, -7.791229248046875], \"yaxis\": \"y\"}, {\"customdata\": [[\"5/102_pd.vtk\"], [\"5/120_pd.vtk\"], [\"5/127_pd.vtk\"], [\"5/129_pd.vtk\"], [\"5/132_pd.vtk\"], [\"5/152_pd.vtk\"], [\"5/153_pd.vtk\"], [\"5/155_pd.vtk\"], [\"5/15_pd.vtk\"], [\"5/162_pd.vtk\"], [\"5/165_pd.vtk\"], [\"5/167_pd.vtk\"], [\"5/182_pd.vtk\"], [\"5/187_pd.vtk\"], [\"5/207_pd.vtk\"], [\"5/211_pd.vtk\"], [\"5/218_pd.vtk\"], [\"5/219_pd.vtk\"], [\"5/23_pd.vtk\"], [\"5/240_pd.vtk\"], [\"5/253_pd.vtk\"], [\"5/261_pd.vtk\"], [\"5/283_pd.vtk\"], [\"5/289_pd.vtk\"], [\"5/317_pd.vtk\"], [\"5/319_pd.vtk\"], [\"5/333_pd.vtk\"], [\"5/340_pd.vtk\"], [\"5/347_pd.vtk\"], [\"5/351_pd.vtk\"], [\"5/352_pd.vtk\"], [\"5/356_pd.vtk\"], [\"5/364_pd.vtk\"], [\"5/367_pd.vtk\"], [\"5/375_pd.vtk\"], [\"5/395_pd.vtk\"], [\"5/397_pd.vtk\"], [\"5/406_pd.vtk\"], [\"5/412_pd.vtk\"], [\"5/433_pd.vtk\"], [\"5/45_pd.vtk\"], [\"5/460_pd.vtk\"], [\"5/469_pd.vtk\"], [\"5/478_pd.vtk\"], [\"5/483_pd.vtk\"], [\"5/491_pd.vtk\"], [\"5/52_pd.vtk\"], [\"5/53_pd.vtk\"], [\"5/59_pd.vtk\"], [\"5/8_pd.vtk\"]], \"hovertemplate\": \"digit=5<br>x=%{x}<br>y=%{y}<br>file=%{customdata[0]}<extra></extra>\", \"legendgroup\": \"5\", \"marker\": {\"color\": \"#19d3f3\", \"symbol\": \"circle\"}, \"mode\": \"markers\", \"name\": \"5\", \"orientation\": \"v\", \"showlegend\": true, \"type\": \"scatter\", \"x\": [21.650165557861328, 24.421588897705078, 21.243118286132812, 20.514690399169922, 82.78089904785156, 22.56756019592285, 82.31940460205078, 21.890178680419922, 21.508811950683594, 21.58775520324707, 21.534912109375, 86.0531997680664, -60.458377838134766, 83.47732543945312, 27.16293716430664, 25.052169799804688, -56.807010650634766, 21.912160873413086, 81.74248504638672, 83.56598663330078, 20.80622673034668, 83.69620513916016, 22.12135124206543, 82.63594818115234, -58.01061248779297, 81.36795806884766, 20.039140701293945, 82.96027374267578, 85.22835540771484, 22.1120662689209, 9.674636840820312, 23.699941635131836, -54.74605941772461, 86.59527587890625, 83.93515014648438, 82.9462890625, 23.895465850830078, 9.566079139709473, 19.83423614501953, 21.66053581237793, 17.371381759643555, -60.925506591796875, 83.30323791503906, 20.81818389892578, -60.589439392089844, -58.52742385864258, 82.49830627441406, 21.217416763305664, -55.20939254760742, -55.25474548339844], \"xaxis\": \"x\", \"y\": [-2.3260176181793213, 22.837697982788086, 28.16278648376465, 28.614261627197266, 53.62637710571289, 24.67992401123047, 51.964576721191406, 28.050458908081055, 31.530315399169922, 29.187793731689453, 30.174638748168945, 52.09619140625, 2.5092973709106445, 53.93309783935547, 20.4688720703125, 22.03217315673828, -0.5735828280448914, 20.50454330444336, 52.2929573059082, 54.89242935180664, 26.47241973876953, 55.681278228759766, 27.508766174316406, 52.579410552978516, 4.463388919830322, 51.745086669921875, 31.592967987060547, 53.70737075805664, 52.936954498291016, 24.710100173950195, -11.218545913696289, 22.362916946411133, 2.6087160110473633, 53.00353240966797, 53.25251388549805, 52.469078063964844, 22.551551818847656, -11.075345039367676, 30.489152908325195, 27.565587997436523, -2.3810906410217285, -4.338844299316406, 55.09263229370117, 28.09451675415039, 0.7373228669166565, 5.155527591705322, 53.04865264892578, 30.78510856628418, 4.48945951461792, 1.2981500625610352], \"yaxis\": \"y\"}, {\"customdata\": [[\"6/100_pd.vtk\"], [\"6/11_pd.vtk\"], [\"6/123_pd.vtk\"], [\"6/130_pd.vtk\"], [\"6/131_pd.vtk\"], [\"6/138_pd.vtk\"], [\"6/140_pd.vtk\"], [\"6/156_pd.vtk\"], [\"6/161_pd.vtk\"], [\"6/164_pd.vtk\"], [\"6/197_pd.vtk\"], [\"6/201_pd.vtk\"], [\"6/217_pd.vtk\"], [\"6/21_pd.vtk\"], [\"6/22_pd.vtk\"], [\"6/259_pd.vtk\"], [\"6/286_pd.vtk\"], [\"6/316_pd.vtk\"], [\"6/339_pd.vtk\"], [\"6/341_pd.vtk\"], [\"6/353_pd.vtk\"], [\"6/361_pd.vtk\"], [\"6/366_pd.vtk\"], [\"6/368_pd.vtk\"], [\"6/384_pd.vtk\"], [\"6/386_pd.vtk\"], [\"6/392_pd.vtk\"], [\"6/439_pd.vtk\"], [\"6/445_pd.vtk\"], [\"6/446_pd.vtk\"], [\"6/457_pd.vtk\"], [\"6/461_pd.vtk\"], [\"6/462_pd.vtk\"], [\"6/463_pd.vtk\"], [\"6/472_pd.vtk\"], [\"6/499_pd.vtk\"], [\"6/508_pd.vtk\"], [\"6/50_pd.vtk\"], [\"6/514_pd.vtk\"], [\"6/517_pd.vtk\"], [\"6/534_pd.vtk\"], [\"6/54_pd.vtk\"], [\"6/559_pd.vtk\"], [\"6/566_pd.vtk\"], [\"6/568_pd.vtk\"], [\"6/66_pd.vtk\"], [\"6/81_pd.vtk\"], [\"6/88_pd.vtk\"], [\"6/91_pd.vtk\"], [\"6/98_pd.vtk\"]], \"hovertemplate\": \"digit=6<br>x=%{x}<br>y=%{y}<br>file=%{customdata[0]}<extra></extra>\", \"legendgroup\": \"6\", \"marker\": {\"color\": \"#FF6692\", \"symbol\": \"circle\"}, \"mode\": \"markers\", \"name\": \"6\", \"orientation\": \"v\", \"showlegend\": true, \"type\": \"scatter\", \"x\": [10.104243278503418, 11.96442985534668, 77.00409698486328, -55.9035758972168, -57.54936599731445, 24.120195388793945, 15.823052406311035, 11.357207298278809, 21.488481521606445, 11.920722961425781, 20.886682510375977, 22.771608352661133, 15.477452278137207, 16.24089813232422, 9.734053611755371, 8.648510932922363, 11.898311614990234, 15.529739379882812, 14.778347969055176, 22.34805679321289, -56.88711166381836, 18.83491325378418, 76.25979614257812, 13.062297821044922, 12.15845012664795, 13.628602981567383, 20.078386306762695, 17.897729873657227, 22.49117660522461, 17.203157424926758, 18.097349166870117, 12.757926940917969, 17.02196502685547, 17.4661808013916, 76.40486907958984, 20.704423904418945, 15.451180458068848, 24.762779235839844, 22.069692611694336, 19.554950714111328, 11.369989395141602, 8.277200698852539, -55.41660690307617, -59.157920837402344, 14.478543281555176, 22.90068817138672, 18.847126007080078, 10.84447193145752, 20.107620239257812, 21.065290451049805], \"xaxis\": \"x\", \"y\": [-20.883222579956055, -19.74884033203125, -57.149845123291016, 4.141961097717285, -0.9350763559341431, -2.244767427444458, -22.334260940551758, -22.78151512145996, -11.55911922454834, -23.151409149169922, -12.587753295898438, -2.07897686958313, -22.811721801757812, -13.061140060424805, -21.51051902770996, -17.85568618774414, -21.94648551940918, -3.050330638885498, -3.0011045932769775, -5.456921577453613, 5.912093162536621, -11.550188064575195, -54.41913986206055, -20.9306583404541, -21.144515991210938, -19.072650909423828, -11.990830421447754, -12.275186538696289, 21.639846801757812, -2.1495883464813232, -13.360600471496582, -20.723384857177734, -2.808753728866577, -13.352773666381836, -57.54861068725586, -10.730496406555176, -22.206411361694336, 20.1801700592041, -2.2549633979797363, -13.63338851928711, -21.671648025512695, -19.422332763671875, 0.6014660000801086, 1.1945310831069946, -19.981124877929688, -2.083505868911743, -3.2599260807037354, -22.450973510742188, -11.40029239654541, -12.972440719604492], \"yaxis\": \"y\"}, {\"customdata\": [[\"7/0_pd.vtk\"], [\"7/111_pd.vtk\"], [\"7/114_pd.vtk\"], [\"7/122_pd.vtk\"], [\"7/124_pd.vtk\"], [\"7/133_pd.vtk\"], [\"7/141_pd.vtk\"], [\"7/144_pd.vtk\"], [\"7/171_pd.vtk\"], [\"7/175_pd.vtk\"], [\"7/17_pd.vtk\"], [\"7/220_pd.vtk\"], [\"7/223_pd.vtk\"], [\"7/229_pd.vtk\"], [\"7/234_pd.vtk\"], [\"7/243_pd.vtk\"], [\"7/254_pd.vtk\"], [\"7/255_pd.vtk\"], [\"7/262_pd.vtk\"], [\"7/263_pd.vtk\"], [\"7/26_pd.vtk\"], [\"7/282_pd.vtk\"], [\"7/301_pd.vtk\"], [\"7/307_pd.vtk\"], [\"7/328_pd.vtk\"], [\"7/337_pd.vtk\"], [\"7/34_pd.vtk\"], [\"7/358_pd.vtk\"], [\"7/36_pd.vtk\"], [\"7/370_pd.vtk\"], [\"7/383_pd.vtk\"], [\"7/410_pd.vtk\"], [\"7/411_pd.vtk\"], [\"7/413_pd.vtk\"], [\"7/415_pd.vtk\"], [\"7/41_pd.vtk\"], [\"7/438_pd.vtk\"], [\"7/468_pd.vtk\"], [\"7/482_pd.vtk\"], [\"7/494_pd.vtk\"], [\"7/510_pd.vtk\"], [\"7/60_pd.vtk\"], [\"7/64_pd.vtk\"], [\"7/70_pd.vtk\"], [\"7/75_pd.vtk\"], [\"7/79_pd.vtk\"], [\"7/80_pd.vtk\"], [\"7/83_pd.vtk\"], [\"7/86_pd.vtk\"], [\"7/97_pd.vtk\"]], \"hovertemplate\": \"digit=7<br>x=%{x}<br>y=%{y}<br>file=%{customdata[0]}<extra></extra>\", \"legendgroup\": \"7\", \"marker\": {\"color\": \"#B6E880\", \"symbol\": \"circle\"}, \"mode\": \"markers\", \"name\": \"7\", \"orientation\": \"v\", \"showlegend\": true, \"type\": \"scatter\", \"x\": [-59.2360725402832, -59.2360725402832, -55.988609313964844, -59.2360725402832, -59.15973663330078, -55.602333068847656, -53.905662536621094, -53.905662536621094, -50.56870651245117, -58.901336669921875, -58.76322555541992, -57.66204071044922, -51.44234085083008, -51.02536392211914, -56.018924713134766, -56.018924713134766, -57.896629333496094, -53.669715881347656, -53.669715881347656, -53.669715881347656, -55.74909210205078, -57.523746490478516, -59.02181625366211, -56.88443374633789, -57.523746490478516, -56.88443374633789, -57.27151107788086, -57.27151107788086, -58.008365631103516, -58.008365631103516, -58.008365631103516, -58.008365631103516, -58.008365631103516, -58.008365631103516, -56.40647888183594, 20.011417388916016, -56.40647888183594, 14.932260513305664, -56.40647888183594, -54.72615051269531, -60.244266510009766, -58.380706787109375, -55.430992126464844, -57.7010612487793, -59.825477600097656, -61.961265563964844, -60.14681625366211, -59.394039154052734, -58.93867492675781, -61.56430435180664], \"xaxis\": \"x\", \"y\": [2.4073290824890137, 2.4073290824890137, 0.8769704103469849, 2.4073290824890137, -0.9321714639663696, 5.144742012023926, 6.484910011291504, 6.484910011291504, 2.7016777992248535, -4.970566272735596, 9.370585441589355, -2.9469985961914062, 6.255552291870117, 0.3873504400253296, -2.403043031692505, -2.403043031692505, 1.6396055221557617, -0.4509584307670593, -0.4509584307670593, -0.4509584307670593, -0.40655040740966797, 5.210007667541504, 3.6512160301208496, 0.742927610874176, 5.210007667541504, 0.742927610874176, 4.209567070007324, 4.209567070007324, 3.1957926750183105, 3.1957926750183105, 3.1957926750183105, 3.1957926750183105, 3.1957926750183105, 3.1957926750183105, 1.7550140619277954, 29.274728775024414, 1.7550140619277954, -23.2283935546875, 1.7550140619277954, 1.7865797281265259, 1.7188546657562256, -0.9986717104911804, 2.0732686519622803, 0.30784568190574646, 0.7099160552024841, 1.371588110923767, 2.9866089820861816, 4.46600341796875, 0.3485780358314514, 0.624058187007904], \"yaxis\": \"y\"}, {\"customdata\": [[\"8/110_pd.vtk\"], [\"8/128_pd.vtk\"], [\"8/134_pd.vtk\"], [\"8/146_pd.vtk\"], [\"8/177_pd.vtk\"], [\"8/179_pd.vtk\"], [\"8/181_pd.vtk\"], [\"8/184_pd.vtk\"], [\"8/226_pd.vtk\"], [\"8/232_pd.vtk\"], [\"8/233_pd.vtk\"], [\"8/242_pd.vtk\"], [\"8/257_pd.vtk\"], [\"8/260_pd.vtk\"], [\"8/266_pd.vtk\"], [\"8/268_pd.vtk\"], [\"8/277_pd.vtk\"], [\"8/290_pd.vtk\"], [\"8/299_pd.vtk\"], [\"8/338_pd.vtk\"], [\"8/344_pd.vtk\"], [\"8/355_pd.vtk\"], [\"8/373_pd.vtk\"], [\"8/374_pd.vtk\"], [\"8/391_pd.vtk\"], [\"8/401_pd.vtk\"], [\"8/403_pd.vtk\"], [\"8/429_pd.vtk\"], [\"8/431_pd.vtk\"], [\"8/435_pd.vtk\"], [\"8/436_pd.vtk\"], [\"8/458_pd.vtk\"], [\"8/465_pd.vtk\"], [\"8/466_pd.vtk\"], [\"8/470_pd.vtk\"], [\"8/474_pd.vtk\"], [\"8/486_pd.vtk\"], [\"8/495_pd.vtk\"], [\"8/520_pd.vtk\"], [\"8/527_pd.vtk\"], [\"8/538_pd.vtk\"], [\"8/542_pd.vtk\"], [\"8/543_pd.vtk\"], [\"8/553_pd.vtk\"], [\"8/563_pd.vtk\"], [\"8/572_pd.vtk\"], [\"8/580_pd.vtk\"], [\"8/582_pd.vtk\"], [\"8/61_pd.vtk\"], [\"8/84_pd.vtk\"]], \"hovertemplate\": \"digit=8<br>x=%{x}<br>y=%{y}<br>file=%{customdata[0]}<extra></extra>\", \"legendgroup\": \"8\", \"marker\": {\"color\": \"#FF97FF\", \"symbol\": \"circle\"}, \"mode\": \"markers\", \"name\": \"8\", \"orientation\": \"v\", \"showlegend\": true, \"type\": \"scatter\", \"x\": [76.18704223632812, 73.65868377685547, 75.66704559326172, 75.80549621582031, 75.51860809326172, 81.4178466796875, 75.9653091430664, 9.736228942871094, 17.080141067504883, 16.964920043945312, 77.99787139892578, 20.639141082763672, 79.8099136352539, 78.481201171875, 74.941650390625, 23.059799194335938, 17.894371032714844, 21.939355850219727, 80.15594482421875, 16.363183975219727, 74.7225112915039, 75.1766586303711, 75.55968475341797, 74.18423461914062, 22.035812377929688, 81.4366455078125, 74.82608795166016, 79.8447494506836, 74.91197967529297, 20.675851821899414, 21.466018676757812, 76.30332946777344, 85.73351287841797, 74.11255645751953, 75.64915466308594, 74.75253295898438, 12.307740211486816, 80.33587646484375, 14.448453903198242, 77.09101104736328, 79.67330932617188, 84.5775375366211, 78.29873657226562, 16.328279495239258, 74.6142807006836, 75.6512222290039, 18.322450637817383, 24.455982208251953, 13.71707820892334, 21.29361343383789], \"xaxis\": \"x\", \"y\": [-56.10601806640625, -56.34645462036133, -55.301658630371094, -56.09589767456055, -56.32453918457031, -53.71242141723633, -55.326080322265625, -21.352924346923828, -12.838425636291504, -2.699868679046631, -55.86521911621094, -12.06697940826416, -53.29644012451172, -54.046836853027344, -54.97016525268555, -3.5429024696350098, -13.970168113708496, -4.509880065917969, -53.691749572753906, -19.858259201049805, -56.71430969238281, -56.972618103027344, -55.29747009277344, -55.201751708984375, -4.973428249359131, -53.71026611328125, -56.631221771240234, -53.91646194458008, -57.740631103515625, -13.88314151763916, -3.661405086517334, -54.29116439819336, 55.95302200317383, -55.74775695800781, -54.6450080871582, -55.90200424194336, -20.121967315673828, -53.900421142578125, -19.80872344970703, -56.00714111328125, -53.58999252319336, 54.52114486694336, -51.758583068847656, -3.0335187911987305, -55.56592559814453, -56.04893112182617, -13.730866432189941, 20.347551345825195, -19.426332473754883, -4.035439968109131], \"yaxis\": \"y\"}, {\"customdata\": [[\"9/104_pd.vtk\"], [\"9/105_pd.vtk\"], [\"9/108_pd.vtk\"], [\"9/113_pd.vtk\"], [\"9/118_pd.vtk\"], [\"9/125_pd.vtk\"], [\"9/12_pd.vtk\"], [\"9/150_pd.vtk\"], [\"9/151_pd.vtk\"], [\"9/16_pd.vtk\"], [\"9/185_pd.vtk\"], [\"9/193_pd.vtk\"], [\"9/206_pd.vtk\"], [\"9/209_pd.vtk\"], [\"9/20_pd.vtk\"], [\"9/212_pd.vtk\"], [\"9/214_pd.vtk\"], [\"9/235_pd.vtk\"], [\"9/241_pd.vtk\"], [\"9/252_pd.vtk\"], [\"9/264_pd.vtk\"], [\"9/273_pd.vtk\"], [\"9/274_pd.vtk\"], [\"9/281_pd.vtk\"], [\"9/284_pd.vtk\"], [\"9/292_pd.vtk\"], [\"9/315_pd.vtk\"], [\"9/320_pd.vtk\"], [\"9/322_pd.vtk\"], [\"9/336_pd.vtk\"], [\"9/359_pd.vtk\"], [\"9/389_pd.vtk\"], [\"9/394_pd.vtk\"], [\"9/414_pd.vtk\"], [\"9/417_pd.vtk\"], [\"9/422_pd.vtk\"], [\"9/426_pd.vtk\"], [\"9/434_pd.vtk\"], [\"9/448_pd.vtk\"], [\"9/454_pd.vtk\"], [\"9/471_pd.vtk\"], [\"9/479_pd.vtk\"], [\"9/58_pd.vtk\"], [\"9/62_pd.vtk\"], [\"9/73_pd.vtk\"], [\"9/78_pd.vtk\"], [\"9/7_pd.vtk\"], [\"9/92_pd.vtk\"], [\"9/99_pd.vtk\"], [\"9/9_pd.vtk\"]], \"hovertemplate\": \"digit=9<br>x=%{x}<br>y=%{y}<br>file=%{customdata[0]}<extra></extra>\", \"legendgroup\": \"9\", \"marker\": {\"color\": \"#FECB52\", \"symbol\": \"circle\"}, \"mode\": \"markers\", \"name\": \"9\", \"orientation\": \"v\", \"showlegend\": true, \"type\": \"scatter\", \"x\": [22.20965003967285, 15.687992095947266, 15.677018165588379, 14.975648880004883, 13.291729927062988, 17.900278091430664, 13.812936782836914, 13.650091171264648, 19.57034683227539, 15.389272689819336, 22.916635513305664, 15.238633155822754, 79.61103057861328, -59.39703369140625, -59.39703369140625, 20.648414611816406, 19.093448638916016, 15.312518119812012, 17.889802932739258, 14.313633918762207, 21.290912628173828, 18.746824264526367, 13.052136421203613, 20.186553955078125, 15.52421760559082, 16.05181312561035, 10.481569290161133, 19.54602813720703, 20.655832290649414, 11.292842864990234, 77.27837371826172, 20.232494354248047, 25.019737243652344, 14.639386177062988, 20.107633590698242, 13.533546447753906, 15.960837364196777, 14.639386177062988, 23.753381729125977, 15.518896102905273, 13.98820972442627, 16.505998611450195, 20.2598819732666, 22.877647399902344, 19.207433700561523, 77.62317657470703, 20.64559555053711, 15.043234825134277, 15.160823822021484, 13.094578742980957], \"xaxis\": \"x\", \"y\": [26.113893508911133, -13.692458152770996, -22.6710147857666, -20.42477798461914, -20.66378402709961, -13.446128845214844, -21.585891723632812, -19.078378677368164, -1.5765122175216675, -14.14565658569336, 25.506732940673828, -20.68830108642578, -53.19384002685547, -2.928361654281616, -2.928361654281616, -11.605134010314941, -11.284727096557617, -13.275206565856934, -1.9667127132415771, -22.469804763793945, -10.772099494934082, -2.689889430999756, -18.970922470092773, -12.511214256286621, -13.421027183532715, -13.090062141418457, -19.948347091674805, -10.961548805236816, -13.324885368347168, -20.393651962280273, -54.35403060913086, -11.888296127319336, 19.557697296142578, -20.054162979125977, -11.400330543518066, -20.823511123657227, -21.566770553588867, -20.054162979125977, -2.290334463119507, -13.41368579864502, -20.824085235595703, -1.8796197175979614, -3.724173069000244, 25.11559295654297, -11.489566802978516, -55.24789047241211, -11.045618057250977, -21.549367904663086, -13.809212684631348, -21.759695053100586], \"yaxis\": \"y\"}],                        {\"legend\": {\"title\": {\"text\": \"digit\"}, \"tracegroupgap\": 0}, \"margin\": {\"t\": 60}, \"template\": {\"data\": {\"bar\": [{\"error_x\": {\"color\": \"#2a3f5f\"}, \"error_y\": {\"color\": \"#2a3f5f\"}, \"marker\": {\"line\": {\"color\": \"#E5ECF6\", \"width\": 0.5}}, \"type\": \"bar\"}], \"barpolar\": [{\"marker\": {\"line\": {\"color\": \"#E5ECF6\", \"width\": 0.5}}, \"type\": \"barpolar\"}], \"carpet\": [{\"aaxis\": {\"endlinecolor\": \"#2a3f5f\", \"gridcolor\": \"white\", \"linecolor\": \"white\", \"minorgridcolor\": \"white\", \"startlinecolor\": \"#2a3f5f\"}, \"baxis\": {\"endlinecolor\": \"#2a3f5f\", \"gridcolor\": \"white\", \"linecolor\": \"white\", \"minorgridcolor\": \"white\", \"startlinecolor\": \"#2a3f5f\"}, \"type\": \"carpet\"}], \"choropleth\": [{\"colorbar\": {\"outlinewidth\": 0, \"ticks\": \"\"}, \"type\": \"choropleth\"}], \"contour\": [{\"colorbar\": {\"outlinewidth\": 0, \"ticks\": \"\"}, \"colorscale\": [[0.0, \"#0d0887\"], [0.1111111111111111, \"#46039f\"], [0.2222222222222222, \"#7201a8\"], [0.3333333333333333, \"#9c179e\"], [0.4444444444444444, \"#bd3786\"], [0.5555555555555556, \"#d8576b\"], [0.6666666666666666, \"#ed7953\"], [0.7777777777777778, \"#fb9f3a\"], [0.8888888888888888, \"#fdca26\"], [1.0, \"#f0f921\"]], \"type\": \"contour\"}], \"contourcarpet\": [{\"colorbar\": {\"outlinewidth\": 0, \"ticks\": \"\"}, \"type\": \"contourcarpet\"}], \"heatmap\": [{\"colorbar\": {\"outlinewidth\": 0, \"ticks\": \"\"}, \"colorscale\": [[0.0, \"#0d0887\"], [0.1111111111111111, \"#46039f\"], [0.2222222222222222, \"#7201a8\"], [0.3333333333333333, \"#9c179e\"], [0.4444444444444444, \"#bd3786\"], [0.5555555555555556, \"#d8576b\"], [0.6666666666666666, \"#ed7953\"], [0.7777777777777778, \"#fb9f3a\"], [0.8888888888888888, \"#fdca26\"], [1.0, \"#f0f921\"]], \"type\": \"heatmap\"}], \"heatmapgl\": [{\"colorbar\": {\"outlinewidth\": 0, \"ticks\": \"\"}, \"colorscale\": [[0.0, \"#0d0887\"], [0.1111111111111111, \"#46039f\"], [0.2222222222222222, \"#7201a8\"], [0.3333333333333333, \"#9c179e\"], [0.4444444444444444, \"#bd3786\"], [0.5555555555555556, \"#d8576b\"], [0.6666666666666666, \"#ed7953\"], [0.7777777777777778, \"#fb9f3a\"], [0.8888888888888888, \"#fdca26\"], [1.0, \"#f0f921\"]], \"type\": \"heatmapgl\"}], \"histogram\": [{\"marker\": {\"colorbar\": {\"outlinewidth\": 0, \"ticks\": \"\"}}, \"type\": \"histogram\"}], \"histogram2d\": [{\"colorbar\": {\"outlinewidth\": 0, \"ticks\": \"\"}, \"colorscale\": [[0.0, \"#0d0887\"], [0.1111111111111111, \"#46039f\"], [0.2222222222222222, \"#7201a8\"], [0.3333333333333333, \"#9c179e\"], [0.4444444444444444, \"#bd3786\"], [0.5555555555555556, \"#d8576b\"], [0.6666666666666666, \"#ed7953\"], [0.7777777777777778, \"#fb9f3a\"], [0.8888888888888888, \"#fdca26\"], [1.0, \"#f0f921\"]], \"type\": \"histogram2d\"}], \"histogram2dcontour\": [{\"colorbar\": {\"outlinewidth\": 0, \"ticks\": \"\"}, \"colorscale\": [[0.0, \"#0d0887\"], [0.1111111111111111, \"#46039f\"], [0.2222222222222222, \"#7201a8\"], [0.3333333333333333, \"#9c179e\"], [0.4444444444444444, \"#bd3786\"], [0.5555555555555556, \"#d8576b\"], [0.6666666666666666, \"#ed7953\"], [0.7777777777777778, \"#fb9f3a\"], [0.8888888888888888, \"#fdca26\"], [1.0, \"#f0f921\"]], \"type\": \"histogram2dcontour\"}], \"mesh3d\": [{\"colorbar\": {\"outlinewidth\": 0, \"ticks\": \"\"}, \"type\": \"mesh3d\"}], \"parcoords\": [{\"line\": {\"colorbar\": {\"outlinewidth\": 0, \"ticks\": \"\"}}, \"type\": \"parcoords\"}], \"pie\": [{\"automargin\": true, \"type\": \"pie\"}], \"scatter\": [{\"marker\": {\"colorbar\": {\"outlinewidth\": 0, \"ticks\": \"\"}}, \"type\": \"scatter\"}], \"scatter3d\": [{\"line\": {\"colorbar\": {\"outlinewidth\": 0, \"ticks\": \"\"}}, \"marker\": {\"colorbar\": {\"outlinewidth\": 0, \"ticks\": \"\"}}, \"type\": \"scatter3d\"}], \"scattercarpet\": [{\"marker\": {\"colorbar\": {\"outlinewidth\": 0, \"ticks\": \"\"}}, \"type\": \"scattercarpet\"}], \"scattergeo\": [{\"marker\": {\"colorbar\": {\"outlinewidth\": 0, \"ticks\": \"\"}}, \"type\": \"scattergeo\"}], \"scattergl\": [{\"marker\": {\"colorbar\": {\"outlinewidth\": 0, \"ticks\": \"\"}}, \"type\": \"scattergl\"}], \"scattermapbox\": [{\"marker\": {\"colorbar\": {\"outlinewidth\": 0, \"ticks\": \"\"}}, \"type\": \"scattermapbox\"}], \"scatterpolar\": [{\"marker\": {\"colorbar\": {\"outlinewidth\": 0, \"ticks\": \"\"}}, \"type\": \"scatterpolar\"}], \"scatterpolargl\": [{\"marker\": {\"colorbar\": {\"outlinewidth\": 0, \"ticks\": \"\"}}, \"type\": \"scatterpolargl\"}], \"scatterternary\": [{\"marker\": {\"colorbar\": {\"outlinewidth\": 0, \"ticks\": \"\"}}, \"type\": \"scatterternary\"}], \"surface\": [{\"colorbar\": {\"outlinewidth\": 0, \"ticks\": \"\"}, \"colorscale\": [[0.0, \"#0d0887\"], [0.1111111111111111, \"#46039f\"], [0.2222222222222222, \"#7201a8\"], [0.3333333333333333, \"#9c179e\"], [0.4444444444444444, \"#bd3786\"], [0.5555555555555556, \"#d8576b\"], [0.6666666666666666, \"#ed7953\"], [0.7777777777777778, \"#fb9f3a\"], [0.8888888888888888, \"#fdca26\"], [1.0, \"#f0f921\"]], \"type\": \"surface\"}], \"table\": [{\"cells\": {\"fill\": {\"color\": \"#EBF0F8\"}, \"line\": {\"color\": \"white\"}}, \"header\": {\"fill\": {\"color\": \"#C8D4E3\"}, \"line\": {\"color\": \"white\"}}, \"type\": \"table\"}]}, \"layout\": {\"annotationdefaults\": {\"arrowcolor\": \"#2a3f5f\", \"arrowhead\": 0, \"arrowwidth\": 1}, \"autotypenumbers\": \"strict\", \"coloraxis\": {\"colorbar\": {\"outlinewidth\": 0, \"ticks\": \"\"}}, \"colorscale\": {\"diverging\": [[0, \"#8e0152\"], [0.1, \"#c51b7d\"], [0.2, \"#de77ae\"], [0.3, \"#f1b6da\"], [0.4, \"#fde0ef\"], [0.5, \"#f7f7f7\"], [0.6, \"#e6f5d0\"], [0.7, \"#b8e186\"], [0.8, \"#7fbc41\"], [0.9, \"#4d9221\"], [1, \"#276419\"]], \"sequential\": [[0.0, \"#0d0887\"], [0.1111111111111111, \"#46039f\"], [0.2222222222222222, \"#7201a8\"], [0.3333333333333333, \"#9c179e\"], [0.4444444444444444, \"#bd3786\"], [0.5555555555555556, \"#d8576b\"], [0.6666666666666666, \"#ed7953\"], [0.7777777777777778, \"#fb9f3a\"], [0.8888888888888888, \"#fdca26\"], [1.0, \"#f0f921\"]], \"sequentialminus\": [[0.0, \"#0d0887\"], [0.1111111111111111, \"#46039f\"], [0.2222222222222222, \"#7201a8\"], [0.3333333333333333, \"#9c179e\"], [0.4444444444444444, \"#bd3786\"], [0.5555555555555556, \"#d8576b\"], [0.6666666666666666, \"#ed7953\"], [0.7777777777777778, \"#fb9f3a\"], [0.8888888888888888, \"#fdca26\"], [1.0, \"#f0f921\"]]}, \"colorway\": [\"#636efa\", \"#EF553B\", \"#00cc96\", \"#ab63fa\", \"#FFA15A\", \"#19d3f3\", \"#FF6692\", \"#B6E880\", \"#FF97FF\", \"#FECB52\"], \"font\": {\"color\": \"#2a3f5f\"}, \"geo\": {\"bgcolor\": \"white\", \"lakecolor\": \"white\", \"landcolor\": \"#E5ECF6\", \"showlakes\": true, \"showland\": true, \"subunitcolor\": \"white\"}, \"hoverlabel\": {\"align\": \"left\"}, \"hovermode\": \"closest\", \"mapbox\": {\"style\": \"light\"}, \"paper_bgcolor\": \"white\", \"plot_bgcolor\": \"#E5ECF6\", \"polar\": {\"angularaxis\": {\"gridcolor\": \"white\", \"linecolor\": \"white\", \"ticks\": \"\"}, \"bgcolor\": \"#E5ECF6\", \"radialaxis\": {\"gridcolor\": \"white\", \"linecolor\": \"white\", \"ticks\": \"\"}}, \"scene\": {\"xaxis\": {\"backgroundcolor\": \"#E5ECF6\", \"gridcolor\": \"white\", \"gridwidth\": 2, \"linecolor\": \"white\", \"showbackground\": true, \"ticks\": \"\", \"zerolinecolor\": \"white\"}, \"yaxis\": {\"backgroundcolor\": \"#E5ECF6\", \"gridcolor\": \"white\", \"gridwidth\": 2, \"linecolor\": \"white\", \"showbackground\": true, \"ticks\": \"\", \"zerolinecolor\": \"white\"}, \"zaxis\": {\"backgroundcolor\": \"#E5ECF6\", \"gridcolor\": \"white\", \"gridwidth\": 2, \"linecolor\": \"white\", \"showbackground\": true, \"ticks\": \"\", \"zerolinecolor\": \"white\"}}, \"shapedefaults\": {\"line\": {\"color\": \"#2a3f5f\"}}, \"ternary\": {\"aaxis\": {\"gridcolor\": \"white\", \"linecolor\": \"white\", \"ticks\": \"\"}, \"baxis\": {\"gridcolor\": \"white\", \"linecolor\": \"white\", \"ticks\": \"\"}, \"bgcolor\": \"#E5ECF6\", \"caxis\": {\"gridcolor\": \"white\", \"linecolor\": \"white\", \"ticks\": \"\"}}, \"title\": {\"x\": 0.05}, \"xaxis\": {\"automargin\": true, \"gridcolor\": \"white\", \"linecolor\": \"white\", \"ticks\": \"\", \"title\": {\"standoff\": 15}, \"zerolinecolor\": \"white\", \"zerolinewidth\": 2}, \"yaxis\": {\"automargin\": true, \"gridcolor\": \"white\", \"linecolor\": \"white\", \"ticks\": \"\", \"title\": {\"standoff\": 15}, \"zerolinecolor\": \"white\", \"zerolinewidth\": 2}}}, \"xaxis\": {\"anchor\": \"y\", \"domain\": [0.0, 1.0], \"title\": {\"text\": \"x\"}}, \"yaxis\": {\"anchor\": \"x\", \"domain\": [0.0, 1.0], \"title\": {\"text\": \"y\"}}},                        {\"responsive\": true}                    ).then(function(){\n",
       "                            \n",
       "var gd = document.getElementById('ab70f82e-929a-4bd7-a9bc-6a7075dd7a3c');\n",
       "var x = new MutationObserver(function (mutations, observer) {{\n",
       "        var display = window.getComputedStyle(gd).display;\n",
       "        if (!display || display === 'none') {{\n",
       "            console.log([gd, 'removed!']);\n",
       "            Plotly.purge(gd);\n",
       "            observer.disconnect();\n",
       "        }}\n",
       "}});\n",
       "\n",
       "// Listen for the removal of the full notebook cells\n",
       "var notebookContainer = gd.closest('#notebook-container');\n",
       "if (notebookContainer) {{\n",
       "    x.observe(notebookContainer, {childList: true});\n",
       "}}\n",
       "\n",
       "// Listen for the clearing of the current output cell\n",
       "var outputEl = gd.closest('.output');\n",
       "if (outputEl) {{\n",
       "    x.observe(outputEl, {childList: true});\n",
       "}}\n",
       "\n",
       "                        })                };                });            </script>        </div>"
      ]
     },
     "metadata": {},
     "output_type": "display_data"
    }
   ],
   "source": [
    "import scipy.spatial.distance as ssdist\n",
    "from sklearn import manifold\n",
    "from sklearn.metrics import pairwise_distances\n",
    "\n",
    "def getEmbeddings(persImages):\n",
    "    \"\"\"\n",
    "    Get the embeddings from the distance matrix using different methods.\n",
    "\n",
    "    Parameters\n",
    "    ----------\n",
    "    persImage: array_like\n",
    "        The array storing persistence images of same size.\n",
    "    \n",
    "    Returns\n",
    "    ----------\n",
    "    embeddings: ndarray \n",
    "        The array containing embeddings computed with t-SNE.\n",
    "    \"\"\"\n",
    "    pers_images = np.asarray(persImages)\n",
    "    if pers_images.ndim != 3:\n",
    "        print(\"The dimension of the input array should be 3!\\n\")\n",
    "        return -1\n",
    "    \n",
    "    pers_images = pers_images.reshape(len(pers_images), -1)\n",
    "    tSNEMethod = manifold.TSNE(n_components=2, init=\"pca\", random_state=0)\n",
    "    embeddings = tSNEMethod.fit_transform(pers_images)\n",
    "    \n",
    "    return embeddings\n",
    "\n",
    "digitLabels = [f[0] for f in fileLabels]\n",
    "Y = getEmbeddings(persImages)\n",
    "# plot the scattering \n",
    "df = pd.DataFrame(data={\"x\":Y[:,0], \"y\":Y[:,1], \"digit\": digitLabels, \"file\": fileLabels})\n",
    "embeddingPlot = px.scatter(df, x=\"x\", y=\"y\", color=\"digit\", hover_data=[\"x\", \"y\", \"file\"])\n",
    "iplot(embeddingPlot)"
   ]
  },
  {
   "cell_type": "markdown",
   "id": "common-respect",
   "metadata": {},
   "source": [
    "The lower dimensional embedding provides information regarding possible groups created by using the input descriptors. In this case, since we are using descriptors based on 1-cycles only, the main difference captured by t-SNE relates to the number of cycles found in each filtration.\n",
    "\n",
    "At this point, natural questions may arise like: \"why two points are close/far away in the 2D plot\" or \"how similar the original descriptors are?\". Cycles can help answering these questions by providing an explicit representation of the homology classes that contributed to each persistence image.\n"
   ]
  },
  {
   "cell_type": "markdown",
   "id": "80b51587",
   "metadata": {},
   "source": [
    "### Cluster with 2 major cycles"
   ]
  },
  {
   "cell_type": "markdown",
   "id": "experimental-wagon",
   "metadata": {},
   "source": [
    "![scaled plot 1](./pictures/plot_example_1.png)"
   ]
  },
  {
   "cell_type": "markdown",
   "id": "adjustable-floor",
   "metadata": {},
   "source": [
    "The figure above shows the scaled view of the bottom right part of the embedding plot, where most digits are 8 with two cycles. To understand why some digits with 1 cycle appear in the cluster, we picked three example points from the figure. The first one is in purple which is associated with the file `3/18_pd.vtk`; the second one is in coral pink which is associated with the file `6/366_pd.vtk`; the last one is in pink which is associated with the file `8/401_pd.vtk`. We can then visualize the cycle information from the corresponding cycle vtk files. "
   ]
  },
  {
   "cell_type": "code",
   "execution_count": 20,
   "id": "developmental-creek",
   "metadata": {},
   "outputs": [
    {
     "data": {
      "application/vnd.plotly.v1+json": {
       "config": {
        "linkText": "Export to plot.ly",
        "plotlyServerURL": "https://plot.ly",
        "showLink": false
       },
       "data": [
        {
         "coloraxis": "coloraxis",
         "hovertemplate": "x: %{x}<br>y: %{y}<br>color: %{z}<extra></extra>",
         "name": "0",
         "type": "heatmap",
         "xaxis": "x",
         "yaxis": "y",
         "z": [
          [
           0,
           0,
           0,
           0,
           0,
           0,
           0,
           0,
           0,
           0,
           0,
           0,
           0,
           0,
           0,
           0,
           0,
           0,
           0,
           0,
           0,
           0,
           0,
           0,
           0,
           0,
           0,
           0
          ],
          [
           0,
           0,
           0,
           0,
           0,
           0,
           0,
           0,
           0,
           0,
           0,
           0,
           0,
           0,
           0,
           0,
           0,
           0,
           0,
           0,
           0,
           0,
           0,
           0,
           0,
           0,
           0,
           0
          ],
          [
           0,
           0,
           0,
           0,
           0,
           0,
           0,
           0,
           0,
           0,
           0,
           0,
           0,
           0,
           0,
           0,
           0,
           0,
           0,
           0,
           0,
           0,
           0,
           0,
           0,
           0,
           0,
           0
          ],
          [
           0,
           0,
           0,
           0,
           0,
           0,
           0,
           0,
           0,
           0,
           0,
           0,
           0,
           0,
           0,
           0,
           0,
           0,
           0,
           0,
           0,
           0,
           0,
           0,
           0,
           0,
           0,
           0
          ],
          [
           0,
           0,
           0,
           0,
           0,
           0,
           0,
           0,
           0,
           0,
           0,
           0,
           0,
           0,
           0,
           0,
           0,
           0,
           0,
           0,
           0,
           0,
           0,
           0,
           0,
           0,
           0,
           0
          ],
          [
           0,
           0,
           0,
           0,
           0,
           0,
           0,
           0,
           0,
           0,
           0,
           0,
           0,
           0,
           43,
           148,
           245,
           253,
           104,
           0,
           0,
           0,
           0,
           0,
           0,
           0,
           0,
           0
          ],
          [
           0,
           0,
           0,
           0,
           0,
           0,
           0,
           0,
           116,
           116,
           0,
           0,
           0,
           116,
           227,
           252,
           252,
           252,
           226,
           0,
           0,
           0,
           0,
           0,
           0,
           0,
           0,
           0
          ],
          [
           0,
           0,
           0,
           0,
           0,
           0,
           0,
           0,
           158,
           250,
           197,
           30,
           162,
           240,
           214,
           126,
           126,
           210,
           244,
           0,
           0,
           0,
           0,
           0,
           0,
           0,
           0,
           0
          ],
          [
           0,
           0,
           0,
           0,
           0,
           0,
           0,
           0,
           35,
           227,
           252,
           252,
           139,
           49,
           0,
           0,
           6,
           190,
           147,
           0,
           0,
           0,
           0,
           0,
           0,
           0,
           0,
           0
          ],
          [
           0,
           0,
           0,
           0,
           0,
           0,
           0,
           0,
           0,
           42,
           226,
           252,
           128,
           0,
           0,
           0,
           153,
           252,
           147,
           0,
           0,
           0,
           0,
           0,
           0,
           0,
           0,
           0
          ],
          [
           0,
           0,
           0,
           0,
           0,
           0,
           0,
           0,
           0,
           0,
           36,
           224,
           253,
           104,
           0,
           15,
           237,
           199,
           18,
           0,
           0,
           0,
           0,
           0,
           0,
           0,
           0,
           0
          ],
          [
           0,
           0,
           0,
           0,
           0,
           0,
           0,
           0,
           0,
           0,
           0,
           41,
           224,
           226,
           85,
           185,
           252,
           84,
           0,
           0,
           0,
           0,
           0,
           0,
           0,
           0,
           0,
           0
          ],
          [
           0,
           0,
           0,
           0,
           0,
           0,
           0,
           0,
           0,
           0,
           0,
           0,
           111,
           249,
           253,
           252,
           224,
           7,
           0,
           0,
           0,
           0,
           0,
           0,
           0,
           0,
           0,
           0
          ],
          [
           0,
           0,
           0,
           0,
           0,
           0,
           0,
           0,
           0,
           0,
           0,
           0,
           0,
           211,
           253,
           252,
           56,
           0,
           0,
           0,
           0,
           0,
           0,
           0,
           0,
           0,
           0,
           0
          ],
          [
           0,
           0,
           0,
           0,
           0,
           0,
           0,
           0,
           0,
           0,
           0,
           0,
           98,
           246,
           253,
           252,
           152,
           0,
           0,
           0,
           0,
           0,
           0,
           0,
           0,
           0,
           0,
           0
          ],
          [
           0,
           0,
           0,
           0,
           0,
           0,
           0,
           0,
           0,
           0,
           0,
           101,
           253,
           236,
           150,
           199,
           253,
           84,
           0,
           0,
           0,
           0,
           0,
           0,
           0,
           0,
           0,
           0
          ],
          [
           0,
           0,
           0,
           0,
           0,
           0,
           0,
           0,
           0,
           0,
           29,
           239,
           252,
           112,
           0,
           21,
           237,
           163,
           0,
           0,
           0,
           0,
           0,
           0,
           0,
           0,
           0,
           0
          ],
          [
           0,
           0,
           0,
           0,
           0,
           0,
           0,
           0,
           0,
           22,
           213,
           252,
           141,
           4,
           0,
           0,
           127,
           247,
           92,
           0,
           0,
           0,
           0,
           0,
           0,
           0,
           0,
           0
          ],
          [
           0,
           0,
           0,
           0,
           0,
           0,
           0,
           0,
           0,
           69,
           252,
           141,
           28,
           0,
           0,
           0,
           7,
           196,
           173,
           0,
           0,
           0,
           0,
           0,
           0,
           0,
           0,
           0
          ],
          [
           0,
           0,
           0,
           0,
           0,
           0,
           0,
           0,
           0,
           192,
           252,
           21,
           0,
           0,
           0,
           0,
           0,
           126,
           252,
           0,
           0,
           0,
           0,
           0,
           0,
           0,
           0,
           0
          ],
          [
           0,
           0,
           0,
           0,
           0,
           0,
           0,
           0,
           0,
           255,
           151,
           0,
           0,
           0,
           0,
           0,
           0,
           82,
           253,
           89,
           0,
           0,
           0,
           0,
           0,
           0,
           0,
           0
          ],
          [
           0,
           0,
           0,
           0,
           0,
           0,
           0,
           0,
           0,
           253,
           98,
           0,
           0,
           0,
           0,
           0,
           8,
           197,
           217,
           0,
           0,
           0,
           0,
           0,
           0,
           0,
           0,
           0
          ],
          [
           0,
           0,
           0,
           0,
           0,
           0,
           0,
           0,
           0,
           147,
           210,
           28,
           0,
           0,
           13,
           57,
           181,
           252,
           138,
           0,
           0,
           0,
           0,
           0,
           0,
           0,
           0,
           0
          ],
          [
           0,
           0,
           0,
           0,
           0,
           0,
           0,
           0,
           0,
           14,
           163,
           240,
           169,
           169,
           218,
           252,
           221,
           119,
           14,
           0,
           0,
           0,
           0,
           0,
           0,
           0,
           0,
           0
          ],
          [
           0,
           0,
           0,
           0,
           0,
           0,
           0,
           0,
           0,
           0,
           0,
           92,
           147,
           191,
           147,
           68,
           21,
           0,
           0,
           0,
           0,
           0,
           0,
           0,
           0,
           0,
           0,
           0
          ],
          [
           0,
           0,
           0,
           0,
           0,
           0,
           0,
           0,
           0,
           0,
           0,
           0,
           0,
           0,
           0,
           0,
           0,
           0,
           0,
           0,
           0,
           0,
           0,
           0,
           0,
           0,
           0,
           0
          ],
          [
           0,
           0,
           0,
           0,
           0,
           0,
           0,
           0,
           0,
           0,
           0,
           0,
           0,
           0,
           0,
           0,
           0,
           0,
           0,
           0,
           0,
           0,
           0,
           0,
           0,
           0,
           0,
           0
          ],
          [
           0,
           0,
           0,
           0,
           0,
           0,
           0,
           0,
           0,
           0,
           0,
           0,
           0,
           0,
           0,
           0,
           0,
           0,
           0,
           0,
           0,
           0,
           0,
           0,
           0,
           0,
           0,
           0
          ]
         ]
        },
        {
         "mode": "lines",
         "type": "scatter",
         "x": [
          10,
          10,
          10,
          11,
          11,
          12,
          13,
          14,
          15,
          16,
          17,
          17,
          17,
          16,
          16,
          16,
          15,
          15,
          14,
          13,
          13,
          12,
          11,
          10
         ],
         "y": [
          20,
          21,
          22,
          22,
          23,
          23,
          23,
          22,
          22,
          21,
          20,
          19,
          18,
          18,
          17,
          16,
          16,
          15,
          15,
          16,
          17,
          18,
          19,
          20
         ]
        },
        {
         "mode": "lines",
         "type": "scatter",
         "x": [
          12,
          12,
          13,
          12
         ],
         "y": [
          23,
          24,
          23,
          23
         ]
        },
        {
         "mode": "lines",
         "type": "scatter",
         "x": [
          11,
          11,
          12,
          12,
          13,
          13,
          14,
          15,
          16,
          17,
          17,
          17,
          16,
          16,
          15,
          14,
          13,
          12,
          11
         ],
         "y": [
          9,
          10,
          10,
          11,
          11,
          12,
          12,
          11,
          10,
          9,
          8,
          7,
          7,
          6,
          6,
          6,
          7,
          8,
          9
         ]
        }
       ],
       "layout": {
        "coloraxis": {
         "colorscale": [
          [
           0,
           "rgb(0, 0, 0)"
          ],
          [
           0.09090909090909091,
           "rgb(16, 16, 16)"
          ],
          [
           0.18181818181818182,
           "rgb(38, 38, 38)"
          ],
          [
           0.2727272727272727,
           "rgb(59, 59, 59)"
          ],
          [
           0.36363636363636365,
           "rgb(81, 80, 80)"
          ],
          [
           0.45454545454545453,
           "rgb(102, 101, 101)"
          ],
          [
           0.5454545454545454,
           "rgb(124, 123, 122)"
          ],
          [
           0.6363636363636364,
           "rgb(146, 146, 145)"
          ],
          [
           0.7272727272727273,
           "rgb(171, 171, 170)"
          ],
          [
           0.8181818181818182,
           "rgb(197, 197, 195)"
          ],
          [
           0.9090909090909091,
           "rgb(224, 224, 223)"
          ],
          [
           1,
           "rgb(254, 254, 253)"
          ]
         ],
         "showscale": false
        },
        "height": 400,
        "margin": {
         "t": 60
        },
        "template": {
         "data": {
          "bar": [
           {
            "error_x": {
             "color": "#2a3f5f"
            },
            "error_y": {
             "color": "#2a3f5f"
            },
            "marker": {
             "line": {
              "color": "#E5ECF6",
              "width": 0.5
             }
            },
            "type": "bar"
           }
          ],
          "barpolar": [
           {
            "marker": {
             "line": {
              "color": "#E5ECF6",
              "width": 0.5
             }
            },
            "type": "barpolar"
           }
          ],
          "carpet": [
           {
            "aaxis": {
             "endlinecolor": "#2a3f5f",
             "gridcolor": "white",
             "linecolor": "white",
             "minorgridcolor": "white",
             "startlinecolor": "#2a3f5f"
            },
            "baxis": {
             "endlinecolor": "#2a3f5f",
             "gridcolor": "white",
             "linecolor": "white",
             "minorgridcolor": "white",
             "startlinecolor": "#2a3f5f"
            },
            "type": "carpet"
           }
          ],
          "choropleth": [
           {
            "colorbar": {
             "outlinewidth": 0,
             "ticks": ""
            },
            "type": "choropleth"
           }
          ],
          "contour": [
           {
            "colorbar": {
             "outlinewidth": 0,
             "ticks": ""
            },
            "colorscale": [
             [
              0,
              "#0d0887"
             ],
             [
              0.1111111111111111,
              "#46039f"
             ],
             [
              0.2222222222222222,
              "#7201a8"
             ],
             [
              0.3333333333333333,
              "#9c179e"
             ],
             [
              0.4444444444444444,
              "#bd3786"
             ],
             [
              0.5555555555555556,
              "#d8576b"
             ],
             [
              0.6666666666666666,
              "#ed7953"
             ],
             [
              0.7777777777777778,
              "#fb9f3a"
             ],
             [
              0.8888888888888888,
              "#fdca26"
             ],
             [
              1,
              "#f0f921"
             ]
            ],
            "type": "contour"
           }
          ],
          "contourcarpet": [
           {
            "colorbar": {
             "outlinewidth": 0,
             "ticks": ""
            },
            "type": "contourcarpet"
           }
          ],
          "heatmap": [
           {
            "colorbar": {
             "outlinewidth": 0,
             "ticks": ""
            },
            "colorscale": [
             [
              0,
              "#0d0887"
             ],
             [
              0.1111111111111111,
              "#46039f"
             ],
             [
              0.2222222222222222,
              "#7201a8"
             ],
             [
              0.3333333333333333,
              "#9c179e"
             ],
             [
              0.4444444444444444,
              "#bd3786"
             ],
             [
              0.5555555555555556,
              "#d8576b"
             ],
             [
              0.6666666666666666,
              "#ed7953"
             ],
             [
              0.7777777777777778,
              "#fb9f3a"
             ],
             [
              0.8888888888888888,
              "#fdca26"
             ],
             [
              1,
              "#f0f921"
             ]
            ],
            "type": "heatmap"
           }
          ],
          "heatmapgl": [
           {
            "colorbar": {
             "outlinewidth": 0,
             "ticks": ""
            },
            "colorscale": [
             [
              0,
              "#0d0887"
             ],
             [
              0.1111111111111111,
              "#46039f"
             ],
             [
              0.2222222222222222,
              "#7201a8"
             ],
             [
              0.3333333333333333,
              "#9c179e"
             ],
             [
              0.4444444444444444,
              "#bd3786"
             ],
             [
              0.5555555555555556,
              "#d8576b"
             ],
             [
              0.6666666666666666,
              "#ed7953"
             ],
             [
              0.7777777777777778,
              "#fb9f3a"
             ],
             [
              0.8888888888888888,
              "#fdca26"
             ],
             [
              1,
              "#f0f921"
             ]
            ],
            "type": "heatmapgl"
           }
          ],
          "histogram": [
           {
            "marker": {
             "colorbar": {
              "outlinewidth": 0,
              "ticks": ""
             }
            },
            "type": "histogram"
           }
          ],
          "histogram2d": [
           {
            "colorbar": {
             "outlinewidth": 0,
             "ticks": ""
            },
            "colorscale": [
             [
              0,
              "#0d0887"
             ],
             [
              0.1111111111111111,
              "#46039f"
             ],
             [
              0.2222222222222222,
              "#7201a8"
             ],
             [
              0.3333333333333333,
              "#9c179e"
             ],
             [
              0.4444444444444444,
              "#bd3786"
             ],
             [
              0.5555555555555556,
              "#d8576b"
             ],
             [
              0.6666666666666666,
              "#ed7953"
             ],
             [
              0.7777777777777778,
              "#fb9f3a"
             ],
             [
              0.8888888888888888,
              "#fdca26"
             ],
             [
              1,
              "#f0f921"
             ]
            ],
            "type": "histogram2d"
           }
          ],
          "histogram2dcontour": [
           {
            "colorbar": {
             "outlinewidth": 0,
             "ticks": ""
            },
            "colorscale": [
             [
              0,
              "#0d0887"
             ],
             [
              0.1111111111111111,
              "#46039f"
             ],
             [
              0.2222222222222222,
              "#7201a8"
             ],
             [
              0.3333333333333333,
              "#9c179e"
             ],
             [
              0.4444444444444444,
              "#bd3786"
             ],
             [
              0.5555555555555556,
              "#d8576b"
             ],
             [
              0.6666666666666666,
              "#ed7953"
             ],
             [
              0.7777777777777778,
              "#fb9f3a"
             ],
             [
              0.8888888888888888,
              "#fdca26"
             ],
             [
              1,
              "#f0f921"
             ]
            ],
            "type": "histogram2dcontour"
           }
          ],
          "mesh3d": [
           {
            "colorbar": {
             "outlinewidth": 0,
             "ticks": ""
            },
            "type": "mesh3d"
           }
          ],
          "parcoords": [
           {
            "line": {
             "colorbar": {
              "outlinewidth": 0,
              "ticks": ""
             }
            },
            "type": "parcoords"
           }
          ],
          "pie": [
           {
            "automargin": true,
            "type": "pie"
           }
          ],
          "scatter": [
           {
            "marker": {
             "colorbar": {
              "outlinewidth": 0,
              "ticks": ""
             }
            },
            "type": "scatter"
           }
          ],
          "scatter3d": [
           {
            "line": {
             "colorbar": {
              "outlinewidth": 0,
              "ticks": ""
             }
            },
            "marker": {
             "colorbar": {
              "outlinewidth": 0,
              "ticks": ""
             }
            },
            "type": "scatter3d"
           }
          ],
          "scattercarpet": [
           {
            "marker": {
             "colorbar": {
              "outlinewidth": 0,
              "ticks": ""
             }
            },
            "type": "scattercarpet"
           }
          ],
          "scattergeo": [
           {
            "marker": {
             "colorbar": {
              "outlinewidth": 0,
              "ticks": ""
             }
            },
            "type": "scattergeo"
           }
          ],
          "scattergl": [
           {
            "marker": {
             "colorbar": {
              "outlinewidth": 0,
              "ticks": ""
             }
            },
            "type": "scattergl"
           }
          ],
          "scattermapbox": [
           {
            "marker": {
             "colorbar": {
              "outlinewidth": 0,
              "ticks": ""
             }
            },
            "type": "scattermapbox"
           }
          ],
          "scatterpolar": [
           {
            "marker": {
             "colorbar": {
              "outlinewidth": 0,
              "ticks": ""
             }
            },
            "type": "scatterpolar"
           }
          ],
          "scatterpolargl": [
           {
            "marker": {
             "colorbar": {
              "outlinewidth": 0,
              "ticks": ""
             }
            },
            "type": "scatterpolargl"
           }
          ],
          "scatterternary": [
           {
            "marker": {
             "colorbar": {
              "outlinewidth": 0,
              "ticks": ""
             }
            },
            "type": "scatterternary"
           }
          ],
          "surface": [
           {
            "colorbar": {
             "outlinewidth": 0,
             "ticks": ""
            },
            "colorscale": [
             [
              0,
              "#0d0887"
             ],
             [
              0.1111111111111111,
              "#46039f"
             ],
             [
              0.2222222222222222,
              "#7201a8"
             ],
             [
              0.3333333333333333,
              "#9c179e"
             ],
             [
              0.4444444444444444,
              "#bd3786"
             ],
             [
              0.5555555555555556,
              "#d8576b"
             ],
             [
              0.6666666666666666,
              "#ed7953"
             ],
             [
              0.7777777777777778,
              "#fb9f3a"
             ],
             [
              0.8888888888888888,
              "#fdca26"
             ],
             [
              1,
              "#f0f921"
             ]
            ],
            "type": "surface"
           }
          ],
          "table": [
           {
            "cells": {
             "fill": {
              "color": "#EBF0F8"
             },
             "line": {
              "color": "white"
             }
            },
            "header": {
             "fill": {
              "color": "#C8D4E3"
             },
             "line": {
              "color": "white"
             }
            },
            "type": "table"
           }
          ]
         },
         "layout": {
          "annotationdefaults": {
           "arrowcolor": "#2a3f5f",
           "arrowhead": 0,
           "arrowwidth": 1
          },
          "autotypenumbers": "strict",
          "coloraxis": {
           "colorbar": {
            "outlinewidth": 0,
            "ticks": ""
           }
          },
          "colorscale": {
           "diverging": [
            [
             0,
             "#8e0152"
            ],
            [
             0.1,
             "#c51b7d"
            ],
            [
             0.2,
             "#de77ae"
            ],
            [
             0.3,
             "#f1b6da"
            ],
            [
             0.4,
             "#fde0ef"
            ],
            [
             0.5,
             "#f7f7f7"
            ],
            [
             0.6,
             "#e6f5d0"
            ],
            [
             0.7,
             "#b8e186"
            ],
            [
             0.8,
             "#7fbc41"
            ],
            [
             0.9,
             "#4d9221"
            ],
            [
             1,
             "#276419"
            ]
           ],
           "sequential": [
            [
             0,
             "#0d0887"
            ],
            [
             0.1111111111111111,
             "#46039f"
            ],
            [
             0.2222222222222222,
             "#7201a8"
            ],
            [
             0.3333333333333333,
             "#9c179e"
            ],
            [
             0.4444444444444444,
             "#bd3786"
            ],
            [
             0.5555555555555556,
             "#d8576b"
            ],
            [
             0.6666666666666666,
             "#ed7953"
            ],
            [
             0.7777777777777778,
             "#fb9f3a"
            ],
            [
             0.8888888888888888,
             "#fdca26"
            ],
            [
             1,
             "#f0f921"
            ]
           ],
           "sequentialminus": [
            [
             0,
             "#0d0887"
            ],
            [
             0.1111111111111111,
             "#46039f"
            ],
            [
             0.2222222222222222,
             "#7201a8"
            ],
            [
             0.3333333333333333,
             "#9c179e"
            ],
            [
             0.4444444444444444,
             "#bd3786"
            ],
            [
             0.5555555555555556,
             "#d8576b"
            ],
            [
             0.6666666666666666,
             "#ed7953"
            ],
            [
             0.7777777777777778,
             "#fb9f3a"
            ],
            [
             0.8888888888888888,
             "#fdca26"
            ],
            [
             1,
             "#f0f921"
            ]
           ]
          },
          "colorway": [
           "#636efa",
           "#EF553B",
           "#00cc96",
           "#ab63fa",
           "#FFA15A",
           "#19d3f3",
           "#FF6692",
           "#B6E880",
           "#FF97FF",
           "#FECB52"
          ],
          "font": {
           "color": "#2a3f5f"
          },
          "geo": {
           "bgcolor": "white",
           "lakecolor": "white",
           "landcolor": "#E5ECF6",
           "showlakes": true,
           "showland": true,
           "subunitcolor": "white"
          },
          "hoverlabel": {
           "align": "left"
          },
          "hovermode": "closest",
          "mapbox": {
           "style": "light"
          },
          "paper_bgcolor": "white",
          "plot_bgcolor": "#E5ECF6",
          "polar": {
           "angularaxis": {
            "gridcolor": "white",
            "linecolor": "white",
            "ticks": ""
           },
           "bgcolor": "#E5ECF6",
           "radialaxis": {
            "gridcolor": "white",
            "linecolor": "white",
            "ticks": ""
           }
          },
          "scene": {
           "xaxis": {
            "backgroundcolor": "#E5ECF6",
            "gridcolor": "white",
            "gridwidth": 2,
            "linecolor": "white",
            "showbackground": true,
            "ticks": "",
            "zerolinecolor": "white"
           },
           "yaxis": {
            "backgroundcolor": "#E5ECF6",
            "gridcolor": "white",
            "gridwidth": 2,
            "linecolor": "white",
            "showbackground": true,
            "ticks": "",
            "zerolinecolor": "white"
           },
           "zaxis": {
            "backgroundcolor": "#E5ECF6",
            "gridcolor": "white",
            "gridwidth": 2,
            "linecolor": "white",
            "showbackground": true,
            "ticks": "",
            "zerolinecolor": "white"
           }
          },
          "shapedefaults": {
           "line": {
            "color": "#2a3f5f"
           }
          },
          "ternary": {
           "aaxis": {
            "gridcolor": "white",
            "linecolor": "white",
            "ticks": ""
           },
           "baxis": {
            "gridcolor": "white",
            "linecolor": "white",
            "ticks": ""
           },
           "bgcolor": "#E5ECF6",
           "caxis": {
            "gridcolor": "white",
            "linecolor": "white",
            "ticks": ""
           }
          },
          "title": {
           "x": 0.05
          },
          "xaxis": {
           "automargin": true,
           "gridcolor": "white",
           "linecolor": "white",
           "ticks": "",
           "title": {
            "standoff": 15
           },
           "zerolinecolor": "white",
           "zerolinewidth": 2
          },
          "yaxis": {
           "automargin": true,
           "gridcolor": "white",
           "linecolor": "white",
           "ticks": "",
           "title": {
            "standoff": 15
           },
           "zerolinecolor": "white",
           "zerolinewidth": 2
          }
         }
        },
        "title": {
         "text": "Digit 8 - Cycle file 401_cycles.vtk"
        },
        "width": 400,
        "xaxis": {
         "anchor": "y",
         "constrain": "domain",
         "domain": [
          0,
          1
         ],
         "scaleanchor": "y",
         "showticklabels": false
        },
        "yaxis": {
         "anchor": "x",
         "autorange": "reversed",
         "constrain": "domain",
         "domain": [
          0,
          1
         ],
         "showticklabels": false
        }
       }
      },
      "text/html": [
       "<div>                            <div id=\"466dc78a-b8f9-4d03-aa4f-f32200f67ffe\" class=\"plotly-graph-div\" style=\"height:400px; width:400px;\"></div>            <script type=\"text/javascript\">                require([\"plotly\"], function(Plotly) {                    window.PLOTLYENV=window.PLOTLYENV || {};                                    if (document.getElementById(\"466dc78a-b8f9-4d03-aa4f-f32200f67ffe\")) {                    Plotly.newPlot(                        \"466dc78a-b8f9-4d03-aa4f-f32200f67ffe\",                        [{\"coloraxis\": \"coloraxis\", \"hovertemplate\": \"x: %{x}<br>y: %{y}<br>color: %{z}<extra></extra>\", \"name\": \"0\", \"type\": \"heatmap\", \"xaxis\": \"x\", \"yaxis\": \"y\", \"z\": [[0, 0, 0, 0, 0, 0, 0, 0, 0, 0, 0, 0, 0, 0, 0, 0, 0, 0, 0, 0, 0, 0, 0, 0, 0, 0, 0, 0], [0, 0, 0, 0, 0, 0, 0, 0, 0, 0, 0, 0, 0, 0, 0, 0, 0, 0, 0, 0, 0, 0, 0, 0, 0, 0, 0, 0], [0, 0, 0, 0, 0, 0, 0, 0, 0, 0, 0, 0, 0, 0, 0, 0, 0, 0, 0, 0, 0, 0, 0, 0, 0, 0, 0, 0], [0, 0, 0, 0, 0, 0, 0, 0, 0, 0, 0, 0, 0, 0, 0, 0, 0, 0, 0, 0, 0, 0, 0, 0, 0, 0, 0, 0], [0, 0, 0, 0, 0, 0, 0, 0, 0, 0, 0, 0, 0, 0, 0, 0, 0, 0, 0, 0, 0, 0, 0, 0, 0, 0, 0, 0], [0, 0, 0, 0, 0, 0, 0, 0, 0, 0, 0, 0, 0, 0, 43, 148, 245, 253, 104, 0, 0, 0, 0, 0, 0, 0, 0, 0], [0, 0, 0, 0, 0, 0, 0, 0, 116, 116, 0, 0, 0, 116, 227, 252, 252, 252, 226, 0, 0, 0, 0, 0, 0, 0, 0, 0], [0, 0, 0, 0, 0, 0, 0, 0, 158, 250, 197, 30, 162, 240, 214, 126, 126, 210, 244, 0, 0, 0, 0, 0, 0, 0, 0, 0], [0, 0, 0, 0, 0, 0, 0, 0, 35, 227, 252, 252, 139, 49, 0, 0, 6, 190, 147, 0, 0, 0, 0, 0, 0, 0, 0, 0], [0, 0, 0, 0, 0, 0, 0, 0, 0, 42, 226, 252, 128, 0, 0, 0, 153, 252, 147, 0, 0, 0, 0, 0, 0, 0, 0, 0], [0, 0, 0, 0, 0, 0, 0, 0, 0, 0, 36, 224, 253, 104, 0, 15, 237, 199, 18, 0, 0, 0, 0, 0, 0, 0, 0, 0], [0, 0, 0, 0, 0, 0, 0, 0, 0, 0, 0, 41, 224, 226, 85, 185, 252, 84, 0, 0, 0, 0, 0, 0, 0, 0, 0, 0], [0, 0, 0, 0, 0, 0, 0, 0, 0, 0, 0, 0, 111, 249, 253, 252, 224, 7, 0, 0, 0, 0, 0, 0, 0, 0, 0, 0], [0, 0, 0, 0, 0, 0, 0, 0, 0, 0, 0, 0, 0, 211, 253, 252, 56, 0, 0, 0, 0, 0, 0, 0, 0, 0, 0, 0], [0, 0, 0, 0, 0, 0, 0, 0, 0, 0, 0, 0, 98, 246, 253, 252, 152, 0, 0, 0, 0, 0, 0, 0, 0, 0, 0, 0], [0, 0, 0, 0, 0, 0, 0, 0, 0, 0, 0, 101, 253, 236, 150, 199, 253, 84, 0, 0, 0, 0, 0, 0, 0, 0, 0, 0], [0, 0, 0, 0, 0, 0, 0, 0, 0, 0, 29, 239, 252, 112, 0, 21, 237, 163, 0, 0, 0, 0, 0, 0, 0, 0, 0, 0], [0, 0, 0, 0, 0, 0, 0, 0, 0, 22, 213, 252, 141, 4, 0, 0, 127, 247, 92, 0, 0, 0, 0, 0, 0, 0, 0, 0], [0, 0, 0, 0, 0, 0, 0, 0, 0, 69, 252, 141, 28, 0, 0, 0, 7, 196, 173, 0, 0, 0, 0, 0, 0, 0, 0, 0], [0, 0, 0, 0, 0, 0, 0, 0, 0, 192, 252, 21, 0, 0, 0, 0, 0, 126, 252, 0, 0, 0, 0, 0, 0, 0, 0, 0], [0, 0, 0, 0, 0, 0, 0, 0, 0, 255, 151, 0, 0, 0, 0, 0, 0, 82, 253, 89, 0, 0, 0, 0, 0, 0, 0, 0], [0, 0, 0, 0, 0, 0, 0, 0, 0, 253, 98, 0, 0, 0, 0, 0, 8, 197, 217, 0, 0, 0, 0, 0, 0, 0, 0, 0], [0, 0, 0, 0, 0, 0, 0, 0, 0, 147, 210, 28, 0, 0, 13, 57, 181, 252, 138, 0, 0, 0, 0, 0, 0, 0, 0, 0], [0, 0, 0, 0, 0, 0, 0, 0, 0, 14, 163, 240, 169, 169, 218, 252, 221, 119, 14, 0, 0, 0, 0, 0, 0, 0, 0, 0], [0, 0, 0, 0, 0, 0, 0, 0, 0, 0, 0, 92, 147, 191, 147, 68, 21, 0, 0, 0, 0, 0, 0, 0, 0, 0, 0, 0], [0, 0, 0, 0, 0, 0, 0, 0, 0, 0, 0, 0, 0, 0, 0, 0, 0, 0, 0, 0, 0, 0, 0, 0, 0, 0, 0, 0], [0, 0, 0, 0, 0, 0, 0, 0, 0, 0, 0, 0, 0, 0, 0, 0, 0, 0, 0, 0, 0, 0, 0, 0, 0, 0, 0, 0], [0, 0, 0, 0, 0, 0, 0, 0, 0, 0, 0, 0, 0, 0, 0, 0, 0, 0, 0, 0, 0, 0, 0, 0, 0, 0, 0, 0]]}, {\"mode\": \"lines\", \"type\": \"scatter\", \"x\": [10.0, 10.0, 10.0, 11.0, 11.0, 12.0, 13.0, 14.0, 15.0, 16.0, 17.0, 17.0, 17.0, 16.0, 16.0, 16.0, 15.0, 15.0, 14.0, 13.0, 13.0, 12.0, 11.0, 10.0], \"y\": [20.0, 21.0, 22.0, 22.0, 23.0, 23.0, 23.0, 22.0, 22.0, 21.0, 20.0, 19.0, 18.0, 18.0, 17.0, 16.0, 16.0, 15.0, 15.0, 16.0, 17.0, 18.0, 19.0, 20.0]}, {\"mode\": \"lines\", \"type\": \"scatter\", \"x\": [12.0, 12.0, 13.0, 12.0], \"y\": [23.0, 24.0, 23.0, 23.0]}, {\"mode\": \"lines\", \"type\": \"scatter\", \"x\": [11.0, 11.0, 12.0, 12.0, 13.0, 13.0, 14.0, 15.0, 16.0, 17.0, 17.0, 17.0, 16.0, 16.0, 15.0, 14.0, 13.0, 12.0, 11.0], \"y\": [9.0, 10.0, 10.0, 11.0, 11.0, 12.0, 12.0, 11.0, 10.0, 9.0, 8.0, 7.0, 7.0, 6.0, 6.0, 6.0, 7.0, 8.0, 9.0]}],                        {\"coloraxis\": {\"colorscale\": [[0.0, \"rgb(0, 0, 0)\"], [0.09090909090909091, \"rgb(16, 16, 16)\"], [0.18181818181818182, \"rgb(38, 38, 38)\"], [0.2727272727272727, \"rgb(59, 59, 59)\"], [0.36363636363636365, \"rgb(81, 80, 80)\"], [0.45454545454545453, \"rgb(102, 101, 101)\"], [0.5454545454545454, \"rgb(124, 123, 122)\"], [0.6363636363636364, \"rgb(146, 146, 145)\"], [0.7272727272727273, \"rgb(171, 171, 170)\"], [0.8181818181818182, \"rgb(197, 197, 195)\"], [0.9090909090909091, \"rgb(224, 224, 223)\"], [1.0, \"rgb(254, 254, 253)\"]], \"showscale\": false}, \"height\": 400, \"margin\": {\"t\": 60}, \"template\": {\"data\": {\"bar\": [{\"error_x\": {\"color\": \"#2a3f5f\"}, \"error_y\": {\"color\": \"#2a3f5f\"}, \"marker\": {\"line\": {\"color\": \"#E5ECF6\", \"width\": 0.5}}, \"type\": \"bar\"}], \"barpolar\": [{\"marker\": {\"line\": {\"color\": \"#E5ECF6\", \"width\": 0.5}}, \"type\": \"barpolar\"}], \"carpet\": [{\"aaxis\": {\"endlinecolor\": \"#2a3f5f\", \"gridcolor\": \"white\", \"linecolor\": \"white\", \"minorgridcolor\": \"white\", \"startlinecolor\": \"#2a3f5f\"}, \"baxis\": {\"endlinecolor\": \"#2a3f5f\", \"gridcolor\": \"white\", \"linecolor\": \"white\", \"minorgridcolor\": \"white\", \"startlinecolor\": \"#2a3f5f\"}, \"type\": \"carpet\"}], \"choropleth\": [{\"colorbar\": {\"outlinewidth\": 0, \"ticks\": \"\"}, \"type\": \"choropleth\"}], \"contour\": [{\"colorbar\": {\"outlinewidth\": 0, \"ticks\": \"\"}, \"colorscale\": [[0.0, \"#0d0887\"], [0.1111111111111111, \"#46039f\"], [0.2222222222222222, \"#7201a8\"], [0.3333333333333333, \"#9c179e\"], [0.4444444444444444, \"#bd3786\"], [0.5555555555555556, \"#d8576b\"], [0.6666666666666666, \"#ed7953\"], [0.7777777777777778, \"#fb9f3a\"], [0.8888888888888888, \"#fdca26\"], [1.0, \"#f0f921\"]], \"type\": \"contour\"}], \"contourcarpet\": [{\"colorbar\": {\"outlinewidth\": 0, \"ticks\": \"\"}, \"type\": \"contourcarpet\"}], \"heatmap\": [{\"colorbar\": {\"outlinewidth\": 0, \"ticks\": \"\"}, \"colorscale\": [[0.0, \"#0d0887\"], [0.1111111111111111, \"#46039f\"], [0.2222222222222222, \"#7201a8\"], [0.3333333333333333, \"#9c179e\"], [0.4444444444444444, \"#bd3786\"], [0.5555555555555556, \"#d8576b\"], [0.6666666666666666, \"#ed7953\"], [0.7777777777777778, \"#fb9f3a\"], [0.8888888888888888, \"#fdca26\"], [1.0, \"#f0f921\"]], \"type\": \"heatmap\"}], \"heatmapgl\": [{\"colorbar\": {\"outlinewidth\": 0, \"ticks\": \"\"}, \"colorscale\": [[0.0, \"#0d0887\"], [0.1111111111111111, \"#46039f\"], [0.2222222222222222, \"#7201a8\"], [0.3333333333333333, \"#9c179e\"], [0.4444444444444444, \"#bd3786\"], [0.5555555555555556, \"#d8576b\"], [0.6666666666666666, \"#ed7953\"], [0.7777777777777778, \"#fb9f3a\"], [0.8888888888888888, \"#fdca26\"], [1.0, \"#f0f921\"]], \"type\": \"heatmapgl\"}], \"histogram\": [{\"marker\": {\"colorbar\": {\"outlinewidth\": 0, \"ticks\": \"\"}}, \"type\": \"histogram\"}], \"histogram2d\": [{\"colorbar\": {\"outlinewidth\": 0, \"ticks\": \"\"}, \"colorscale\": [[0.0, \"#0d0887\"], [0.1111111111111111, \"#46039f\"], [0.2222222222222222, \"#7201a8\"], [0.3333333333333333, \"#9c179e\"], [0.4444444444444444, \"#bd3786\"], [0.5555555555555556, \"#d8576b\"], [0.6666666666666666, \"#ed7953\"], [0.7777777777777778, \"#fb9f3a\"], [0.8888888888888888, \"#fdca26\"], [1.0, \"#f0f921\"]], \"type\": \"histogram2d\"}], \"histogram2dcontour\": [{\"colorbar\": {\"outlinewidth\": 0, \"ticks\": \"\"}, \"colorscale\": [[0.0, \"#0d0887\"], [0.1111111111111111, \"#46039f\"], [0.2222222222222222, \"#7201a8\"], [0.3333333333333333, \"#9c179e\"], [0.4444444444444444, \"#bd3786\"], [0.5555555555555556, \"#d8576b\"], [0.6666666666666666, \"#ed7953\"], [0.7777777777777778, \"#fb9f3a\"], [0.8888888888888888, \"#fdca26\"], [1.0, \"#f0f921\"]], \"type\": \"histogram2dcontour\"}], \"mesh3d\": [{\"colorbar\": {\"outlinewidth\": 0, \"ticks\": \"\"}, \"type\": \"mesh3d\"}], \"parcoords\": [{\"line\": {\"colorbar\": {\"outlinewidth\": 0, \"ticks\": \"\"}}, \"type\": \"parcoords\"}], \"pie\": [{\"automargin\": true, \"type\": \"pie\"}], \"scatter\": [{\"marker\": {\"colorbar\": {\"outlinewidth\": 0, \"ticks\": \"\"}}, \"type\": \"scatter\"}], \"scatter3d\": [{\"line\": {\"colorbar\": {\"outlinewidth\": 0, \"ticks\": \"\"}}, \"marker\": {\"colorbar\": {\"outlinewidth\": 0, \"ticks\": \"\"}}, \"type\": \"scatter3d\"}], \"scattercarpet\": [{\"marker\": {\"colorbar\": {\"outlinewidth\": 0, \"ticks\": \"\"}}, \"type\": \"scattercarpet\"}], \"scattergeo\": [{\"marker\": {\"colorbar\": {\"outlinewidth\": 0, \"ticks\": \"\"}}, \"type\": \"scattergeo\"}], \"scattergl\": [{\"marker\": {\"colorbar\": {\"outlinewidth\": 0, \"ticks\": \"\"}}, \"type\": \"scattergl\"}], \"scattermapbox\": [{\"marker\": {\"colorbar\": {\"outlinewidth\": 0, \"ticks\": \"\"}}, \"type\": \"scattermapbox\"}], \"scatterpolar\": [{\"marker\": {\"colorbar\": {\"outlinewidth\": 0, \"ticks\": \"\"}}, \"type\": \"scatterpolar\"}], \"scatterpolargl\": [{\"marker\": {\"colorbar\": {\"outlinewidth\": 0, \"ticks\": \"\"}}, \"type\": \"scatterpolargl\"}], \"scatterternary\": [{\"marker\": {\"colorbar\": {\"outlinewidth\": 0, \"ticks\": \"\"}}, \"type\": \"scatterternary\"}], \"surface\": [{\"colorbar\": {\"outlinewidth\": 0, \"ticks\": \"\"}, \"colorscale\": [[0.0, \"#0d0887\"], [0.1111111111111111, \"#46039f\"], [0.2222222222222222, \"#7201a8\"], [0.3333333333333333, \"#9c179e\"], [0.4444444444444444, \"#bd3786\"], [0.5555555555555556, \"#d8576b\"], [0.6666666666666666, \"#ed7953\"], [0.7777777777777778, \"#fb9f3a\"], [0.8888888888888888, \"#fdca26\"], [1.0, \"#f0f921\"]], \"type\": \"surface\"}], \"table\": [{\"cells\": {\"fill\": {\"color\": \"#EBF0F8\"}, \"line\": {\"color\": \"white\"}}, \"header\": {\"fill\": {\"color\": \"#C8D4E3\"}, \"line\": {\"color\": \"white\"}}, \"type\": \"table\"}]}, \"layout\": {\"annotationdefaults\": {\"arrowcolor\": \"#2a3f5f\", \"arrowhead\": 0, \"arrowwidth\": 1}, \"autotypenumbers\": \"strict\", \"coloraxis\": {\"colorbar\": {\"outlinewidth\": 0, \"ticks\": \"\"}}, \"colorscale\": {\"diverging\": [[0, \"#8e0152\"], [0.1, \"#c51b7d\"], [0.2, \"#de77ae\"], [0.3, \"#f1b6da\"], [0.4, \"#fde0ef\"], [0.5, \"#f7f7f7\"], [0.6, \"#e6f5d0\"], [0.7, \"#b8e186\"], [0.8, \"#7fbc41\"], [0.9, \"#4d9221\"], [1, \"#276419\"]], \"sequential\": [[0.0, \"#0d0887\"], [0.1111111111111111, \"#46039f\"], [0.2222222222222222, \"#7201a8\"], [0.3333333333333333, \"#9c179e\"], [0.4444444444444444, \"#bd3786\"], [0.5555555555555556, \"#d8576b\"], [0.6666666666666666, \"#ed7953\"], [0.7777777777777778, \"#fb9f3a\"], [0.8888888888888888, \"#fdca26\"], [1.0, \"#f0f921\"]], \"sequentialminus\": [[0.0, \"#0d0887\"], [0.1111111111111111, \"#46039f\"], [0.2222222222222222, \"#7201a8\"], [0.3333333333333333, \"#9c179e\"], [0.4444444444444444, \"#bd3786\"], [0.5555555555555556, \"#d8576b\"], [0.6666666666666666, \"#ed7953\"], [0.7777777777777778, \"#fb9f3a\"], [0.8888888888888888, \"#fdca26\"], [1.0, \"#f0f921\"]]}, \"colorway\": [\"#636efa\", \"#EF553B\", \"#00cc96\", \"#ab63fa\", \"#FFA15A\", \"#19d3f3\", \"#FF6692\", \"#B6E880\", \"#FF97FF\", \"#FECB52\"], \"font\": {\"color\": \"#2a3f5f\"}, \"geo\": {\"bgcolor\": \"white\", \"lakecolor\": \"white\", \"landcolor\": \"#E5ECF6\", \"showlakes\": true, \"showland\": true, \"subunitcolor\": \"white\"}, \"hoverlabel\": {\"align\": \"left\"}, \"hovermode\": \"closest\", \"mapbox\": {\"style\": \"light\"}, \"paper_bgcolor\": \"white\", \"plot_bgcolor\": \"#E5ECF6\", \"polar\": {\"angularaxis\": {\"gridcolor\": \"white\", \"linecolor\": \"white\", \"ticks\": \"\"}, \"bgcolor\": \"#E5ECF6\", \"radialaxis\": {\"gridcolor\": \"white\", \"linecolor\": \"white\", \"ticks\": \"\"}}, \"scene\": {\"xaxis\": {\"backgroundcolor\": \"#E5ECF6\", \"gridcolor\": \"white\", \"gridwidth\": 2, \"linecolor\": \"white\", \"showbackground\": true, \"ticks\": \"\", \"zerolinecolor\": \"white\"}, \"yaxis\": {\"backgroundcolor\": \"#E5ECF6\", \"gridcolor\": \"white\", \"gridwidth\": 2, \"linecolor\": \"white\", \"showbackground\": true, \"ticks\": \"\", \"zerolinecolor\": \"white\"}, \"zaxis\": {\"backgroundcolor\": \"#E5ECF6\", \"gridcolor\": \"white\", \"gridwidth\": 2, \"linecolor\": \"white\", \"showbackground\": true, \"ticks\": \"\", \"zerolinecolor\": \"white\"}}, \"shapedefaults\": {\"line\": {\"color\": \"#2a3f5f\"}}, \"ternary\": {\"aaxis\": {\"gridcolor\": \"white\", \"linecolor\": \"white\", \"ticks\": \"\"}, \"baxis\": {\"gridcolor\": \"white\", \"linecolor\": \"white\", \"ticks\": \"\"}, \"bgcolor\": \"#E5ECF6\", \"caxis\": {\"gridcolor\": \"white\", \"linecolor\": \"white\", \"ticks\": \"\"}}, \"title\": {\"x\": 0.05}, \"xaxis\": {\"automargin\": true, \"gridcolor\": \"white\", \"linecolor\": \"white\", \"ticks\": \"\", \"title\": {\"standoff\": 15}, \"zerolinecolor\": \"white\", \"zerolinewidth\": 2}, \"yaxis\": {\"automargin\": true, \"gridcolor\": \"white\", \"linecolor\": \"white\", \"ticks\": \"\", \"title\": {\"standoff\": 15}, \"zerolinecolor\": \"white\", \"zerolinewidth\": 2}}}, \"title\": {\"text\": \"Digit 8 - Cycle file 401_cycles.vtk\"}, \"width\": 400, \"xaxis\": {\"anchor\": \"y\", \"constrain\": \"domain\", \"domain\": [0.0, 1.0], \"scaleanchor\": \"y\", \"showticklabels\": false}, \"yaxis\": {\"anchor\": \"x\", \"autorange\": \"reversed\", \"constrain\": \"domain\", \"domain\": [0.0, 1.0], \"showticklabels\": false}},                        {\"responsive\": true}                    ).then(function(){\n",
       "                            \n",
       "var gd = document.getElementById('466dc78a-b8f9-4d03-aa4f-f32200f67ffe');\n",
       "var x = new MutationObserver(function (mutations, observer) {{\n",
       "        var display = window.getComputedStyle(gd).display;\n",
       "        if (!display || display === 'none') {{\n",
       "            console.log([gd, 'removed!']);\n",
       "            Plotly.purge(gd);\n",
       "            observer.disconnect();\n",
       "        }}\n",
       "}});\n",
       "\n",
       "// Listen for the removal of the full notebook cells\n",
       "var notebookContainer = gd.closest('#notebook-container');\n",
       "if (notebookContainer) {{\n",
       "    x.observe(notebookContainer, {childList: true});\n",
       "}}\n",
       "\n",
       "// Listen for the clearing of the current output cell\n",
       "var outputEl = gd.closest('.output');\n",
       "if (outputEl) {{\n",
       "    x.observe(outputEl, {childList: true});\n",
       "}}\n",
       "\n",
       "                        })                };                });            </script>        </div>"
      ]
     },
     "metadata": {},
     "output_type": "display_data"
    },
    {
     "data": {
      "application/vnd.plotly.v1+json": {
       "config": {
        "linkText": "Export to plot.ly",
        "plotlyServerURL": "https://plot.ly",
        "showLink": false
       },
       "data": [
        {
         "coloraxis": "coloraxis",
         "hovertemplate": "x: %{x}<br>y: %{y}<br>color: %{z}<extra></extra>",
         "name": "0",
         "type": "heatmap",
         "xaxis": "x",
         "yaxis": "y",
         "z": [
          [
           0,
           0,
           0,
           0,
           0,
           0,
           0,
           0,
           0,
           0,
           0,
           0,
           0,
           0,
           0,
           0,
           0,
           0,
           0,
           0,
           0,
           0,
           0,
           0,
           0,
           0,
           0,
           0
          ],
          [
           0,
           0,
           0,
           0,
           0,
           0,
           0,
           0,
           0,
           0,
           0,
           0,
           0,
           0,
           0,
           0,
           0,
           0,
           0,
           0,
           0,
           0,
           0,
           0,
           0,
           0,
           0,
           0
          ],
          [
           0,
           0,
           0,
           0,
           0,
           0,
           0,
           0,
           0,
           0,
           0,
           0,
           0,
           0,
           0,
           0,
           0,
           0,
           0,
           0,
           0,
           0,
           0,
           0,
           0,
           0,
           0,
           0
          ],
          [
           0,
           0,
           0,
           0,
           0,
           0,
           0,
           0,
           0,
           0,
           0,
           0,
           0,
           0,
           0,
           0,
           0,
           0,
           0,
           0,
           0,
           0,
           0,
           0,
           0,
           0,
           0,
           0
          ],
          [
           0,
           0,
           0,
           0,
           0,
           0,
           12,
           41,
           146,
           146,
           48,
           0,
           0,
           0,
           0,
           0,
           0,
           0,
           0,
           0,
           0,
           0,
           0,
           0,
           0,
           0,
           0,
           0
          ],
          [
           0,
           0,
           0,
           0,
           0,
           12,
           129,
           253,
           253,
           253,
           250,
           163,
           18,
           0,
           0,
           0,
           0,
           0,
           0,
           0,
           0,
           0,
           0,
           0,
           0,
           0,
           0,
           0
          ],
          [
           0,
           0,
           0,
           0,
           0,
           133,
           253,
           253,
           253,
           253,
           253,
           253,
           229,
           70,
           0,
           0,
           0,
           0,
           0,
           0,
           0,
           0,
           0,
           0,
           0,
           0,
           0,
           0
          ],
          [
           0,
           0,
           0,
           0,
           0,
           101,
           253,
           252,
           145,
           102,
           107,
           237,
           253,
           247,
           128,
           10,
           0,
           0,
           0,
           0,
           0,
           0,
           0,
           0,
           0,
           0,
           0,
           0
          ],
          [
           0,
           0,
           0,
           0,
           0,
           181,
           253,
           167,
           0,
           0,
           0,
           61,
           235,
           253,
           253,
           163,
           5,
           0,
           0,
           0,
           0,
           0,
           0,
           0,
           0,
           0,
           0,
           0
          ],
          [
           0,
           0,
           0,
           0,
           0,
           255,
           253,
           43,
           0,
           0,
           0,
           0,
           58,
           193,
           253,
           253,
           164,
           4,
           0,
           0,
           0,
           0,
           0,
           0,
           0,
           0,
           0,
           0
          ],
          [
           0,
           0,
           0,
           0,
           0,
           187,
           253,
           32,
           0,
           0,
           0,
           0,
           0,
           55,
           236,
           253,
           253,
           86,
           0,
           0,
           0,
           0,
           0,
           0,
           0,
           0,
           0,
           0
          ],
          [
           0,
           0,
           0,
           0,
           0,
           146,
           253,
           32,
           0,
           100,
           190,
           87,
           87,
           87,
           147,
           253,
           253,
           123,
           0,
           0,
           0,
           0,
           0,
           0,
           0,
           0,
           0,
           0
          ],
          [
           0,
           0,
           0,
           0,
           0,
           94,
           253,
           78,
           40,
           248,
           253,
           253,
           253,
           253,
           253,
           253,
           253,
           223,
           84,
           15,
           0,
           0,
           0,
           0,
           0,
           0,
           0,
           0
          ],
          [
           0,
           0,
           0,
           0,
           0,
           14,
           92,
           12,
           35,
           240,
           253,
           253,
           253,
           253,
           253,
           253,
           253,
           253,
           253,
           244,
           89,
           10,
           0,
           0,
           0,
           0,
           0,
           0
          ],
          [
           0,
           0,
           0,
           0,
           0,
           0,
           0,
           0,
           0,
           75,
           161,
           179,
           253,
           253,
           253,
           253,
           253,
           253,
           253,
           253,
           253,
           209,
           43,
           0,
           0,
           0,
           0,
           0
          ],
          [
           0,
           0,
           0,
           0,
           0,
           0,
           0,
           0,
           0,
           0,
           0,
           3,
           16,
           16,
           39,
           38,
           16,
           16,
           145,
           243,
           253,
           253,
           185,
           48,
           0,
           0,
           0,
           0
          ],
          [
           0,
           0,
           0,
           0,
           0,
           0,
           0,
           0,
           0,
           20,
           58,
           0,
           0,
           0,
           0,
           0,
           0,
           0,
           0,
           58,
           209,
           253,
           253,
           183,
           0,
           0,
           0,
           0
          ],
          [
           0,
           0,
           0,
           0,
           0,
           0,
           0,
           0,
           77,
           221,
           247,
           79,
           0,
           0,
           0,
           0,
           0,
           0,
           0,
           0,
           13,
           219,
           253,
           240,
           72,
           0,
           0,
           0
          ],
          [
           0,
           0,
           0,
           0,
           0,
           0,
           0,
           0,
           90,
           247,
           253,
           252,
           57,
           0,
           0,
           0,
           0,
           0,
           0,
           0,
           0,
           53,
           251,
           253,
           191,
           0,
           0,
           0
          ],
          [
           0,
           0,
           0,
           0,
           0,
           0,
           0,
           0,
           0,
           116,
           253,
           253,
           59,
           0,
           0,
           0,
           0,
           0,
           0,
           0,
           0,
           99,
           252,
           253,
           145,
           0,
           0,
           0
          ],
          [
           0,
           0,
           0,
           0,
           0,
           0,
           0,
           0,
           0,
           14,
           188,
           253,
           221,
           158,
           38,
           0,
           0,
           0,
           0,
           111,
           211,
           246,
           253,
           253,
           145,
           0,
           0,
           0
          ],
          [
           0,
           0,
           0,
           0,
           0,
           0,
           0,
           0,
           0,
           0,
           12,
           221,
           246,
           253,
           251,
           249,
           249,
           249,
           249,
           253,
           253,
           253,
           253,
           200,
           19,
           0,
           0,
           0
          ],
          [
           0,
           0,
           0,
           0,
           0,
           0,
           0,
           0,
           0,
           0,
           0,
           0,
           95,
           183,
           228,
           253,
           253,
           253,
           253,
           253,
           253,
           195,
           124,
           23,
           0,
           0,
           0,
           0
          ],
          [
           0,
           0,
           0,
           0,
           0,
           0,
           0,
           0,
           0,
           0,
           0,
           0,
           0,
           0,
           24,
           37,
           138,
           74,
           126,
           88,
           37,
           7,
           0,
           0,
           0,
           0,
           0,
           0
          ],
          [
           0,
           0,
           0,
           0,
           0,
           0,
           0,
           0,
           0,
           0,
           0,
           0,
           0,
           0,
           0,
           0,
           0,
           0,
           0,
           0,
           0,
           0,
           0,
           0,
           0,
           0,
           0,
           0
          ],
          [
           0,
           0,
           0,
           0,
           0,
           0,
           0,
           0,
           0,
           0,
           0,
           0,
           0,
           0,
           0,
           0,
           0,
           0,
           0,
           0,
           0,
           0,
           0,
           0,
           0,
           0,
           0,
           0
          ],
          [
           0,
           0,
           0,
           0,
           0,
           0,
           0,
           0,
           0,
           0,
           0,
           0,
           0,
           0,
           0,
           0,
           0,
           0,
           0,
           0,
           0,
           0,
           0,
           0,
           0,
           0,
           0,
           0
          ],
          [
           0,
           0,
           0,
           0,
           0,
           0,
           0,
           0,
           0,
           0,
           0,
           0,
           0,
           0,
           0,
           0,
           0,
           0,
           0,
           0,
           0,
           0,
           0,
           0,
           0,
           0,
           0,
           0
          ]
         ]
        },
        {
         "mode": "lines",
         "type": "scatter",
         "x": [
          9,
          9,
          10,
          11,
          11,
          10,
          9
         ],
         "y": [
          15,
          16,
          16,
          15,
          14,
          14,
          15
         ]
        },
        {
         "mode": "lines",
         "type": "scatter",
         "x": [
          7,
          7,
          7,
          7,
          7,
          8,
          9,
          10,
          11,
          12,
          13,
          14,
          14,
          13,
          13,
          12,
          12,
          11,
          11,
          10,
          9,
          8,
          7
         ],
         "y": [
          8,
          9,
          10,
          11,
          12,
          12,
          12,
          12,
          12,
          12,
          11,
          10,
          9,
          9,
          8,
          8,
          7,
          7,
          6,
          6,
          6,
          7,
          8
         ]
        },
        {
         "mode": "lines",
         "type": "scatter",
         "x": [
          18,
          18,
          17,
          18
         ],
         "y": [
          13,
          14,
          14,
          13
         ]
        },
        {
         "mode": "lines",
         "type": "scatter",
         "x": [
          9,
          9,
          8,
          9
         ],
         "y": [
          15,
          16,
          16,
          15
         ]
        },
        {
         "mode": "lines",
         "type": "scatter",
         "x": [
          10,
          10,
          11,
          12,
          13,
          13,
          12,
          11,
          10
         ],
         "y": [
          10,
          11,
          11,
          11,
          10,
          9,
          9,
          9,
          10
         ]
        },
        {
         "mode": "lines",
         "type": "scatter",
         "x": [
          10,
          10,
          10,
          11,
          11,
          11,
          12,
          12,
          13,
          14,
          14,
          15,
          16,
          17,
          18,
          19,
          20,
          21,
          22,
          22,
          22,
          21,
          21,
          20,
          20,
          19,
          19,
          18,
          17,
          16,
          15,
          14,
          13,
          12,
          11,
          10
         ],
         "y": [
          16,
          17,
          18,
          18,
          19,
          20,
          20,
          21,
          21,
          21,
          22,
          22,
          22,
          22,
          22,
          21,
          21,
          20,
          19,
          18,
          17,
          17,
          16,
          16,
          15,
          15,
          14,
          14,
          14,
          14,
          14,
          14,
          14,
          14,
          15,
          16
         ]
        },
        {
         "mode": "lines",
         "type": "scatter",
         "x": [
          19,
          19,
          20,
          21,
          21,
          20,
          19
         ],
         "y": [
          19,
          20,
          20,
          19,
          18,
          18,
          19
         ]
        }
       ],
       "layout": {
        "coloraxis": {
         "colorscale": [
          [
           0,
           "rgb(0, 0, 0)"
          ],
          [
           0.09090909090909091,
           "rgb(16, 16, 16)"
          ],
          [
           0.18181818181818182,
           "rgb(38, 38, 38)"
          ],
          [
           0.2727272727272727,
           "rgb(59, 59, 59)"
          ],
          [
           0.36363636363636365,
           "rgb(81, 80, 80)"
          ],
          [
           0.45454545454545453,
           "rgb(102, 101, 101)"
          ],
          [
           0.5454545454545454,
           "rgb(124, 123, 122)"
          ],
          [
           0.6363636363636364,
           "rgb(146, 146, 145)"
          ],
          [
           0.7272727272727273,
           "rgb(171, 171, 170)"
          ],
          [
           0.8181818181818182,
           "rgb(197, 197, 195)"
          ],
          [
           0.9090909090909091,
           "rgb(224, 224, 223)"
          ],
          [
           1,
           "rgb(254, 254, 253)"
          ]
         ],
         "showscale": false
        },
        "height": 400,
        "margin": {
         "t": 60
        },
        "template": {
         "data": {
          "bar": [
           {
            "error_x": {
             "color": "#2a3f5f"
            },
            "error_y": {
             "color": "#2a3f5f"
            },
            "marker": {
             "line": {
              "color": "#E5ECF6",
              "width": 0.5
             }
            },
            "type": "bar"
           }
          ],
          "barpolar": [
           {
            "marker": {
             "line": {
              "color": "#E5ECF6",
              "width": 0.5
             }
            },
            "type": "barpolar"
           }
          ],
          "carpet": [
           {
            "aaxis": {
             "endlinecolor": "#2a3f5f",
             "gridcolor": "white",
             "linecolor": "white",
             "minorgridcolor": "white",
             "startlinecolor": "#2a3f5f"
            },
            "baxis": {
             "endlinecolor": "#2a3f5f",
             "gridcolor": "white",
             "linecolor": "white",
             "minorgridcolor": "white",
             "startlinecolor": "#2a3f5f"
            },
            "type": "carpet"
           }
          ],
          "choropleth": [
           {
            "colorbar": {
             "outlinewidth": 0,
             "ticks": ""
            },
            "type": "choropleth"
           }
          ],
          "contour": [
           {
            "colorbar": {
             "outlinewidth": 0,
             "ticks": ""
            },
            "colorscale": [
             [
              0,
              "#0d0887"
             ],
             [
              0.1111111111111111,
              "#46039f"
             ],
             [
              0.2222222222222222,
              "#7201a8"
             ],
             [
              0.3333333333333333,
              "#9c179e"
             ],
             [
              0.4444444444444444,
              "#bd3786"
             ],
             [
              0.5555555555555556,
              "#d8576b"
             ],
             [
              0.6666666666666666,
              "#ed7953"
             ],
             [
              0.7777777777777778,
              "#fb9f3a"
             ],
             [
              0.8888888888888888,
              "#fdca26"
             ],
             [
              1,
              "#f0f921"
             ]
            ],
            "type": "contour"
           }
          ],
          "contourcarpet": [
           {
            "colorbar": {
             "outlinewidth": 0,
             "ticks": ""
            },
            "type": "contourcarpet"
           }
          ],
          "heatmap": [
           {
            "colorbar": {
             "outlinewidth": 0,
             "ticks": ""
            },
            "colorscale": [
             [
              0,
              "#0d0887"
             ],
             [
              0.1111111111111111,
              "#46039f"
             ],
             [
              0.2222222222222222,
              "#7201a8"
             ],
             [
              0.3333333333333333,
              "#9c179e"
             ],
             [
              0.4444444444444444,
              "#bd3786"
             ],
             [
              0.5555555555555556,
              "#d8576b"
             ],
             [
              0.6666666666666666,
              "#ed7953"
             ],
             [
              0.7777777777777778,
              "#fb9f3a"
             ],
             [
              0.8888888888888888,
              "#fdca26"
             ],
             [
              1,
              "#f0f921"
             ]
            ],
            "type": "heatmap"
           }
          ],
          "heatmapgl": [
           {
            "colorbar": {
             "outlinewidth": 0,
             "ticks": ""
            },
            "colorscale": [
             [
              0,
              "#0d0887"
             ],
             [
              0.1111111111111111,
              "#46039f"
             ],
             [
              0.2222222222222222,
              "#7201a8"
             ],
             [
              0.3333333333333333,
              "#9c179e"
             ],
             [
              0.4444444444444444,
              "#bd3786"
             ],
             [
              0.5555555555555556,
              "#d8576b"
             ],
             [
              0.6666666666666666,
              "#ed7953"
             ],
             [
              0.7777777777777778,
              "#fb9f3a"
             ],
             [
              0.8888888888888888,
              "#fdca26"
             ],
             [
              1,
              "#f0f921"
             ]
            ],
            "type": "heatmapgl"
           }
          ],
          "histogram": [
           {
            "marker": {
             "colorbar": {
              "outlinewidth": 0,
              "ticks": ""
             }
            },
            "type": "histogram"
           }
          ],
          "histogram2d": [
           {
            "colorbar": {
             "outlinewidth": 0,
             "ticks": ""
            },
            "colorscale": [
             [
              0,
              "#0d0887"
             ],
             [
              0.1111111111111111,
              "#46039f"
             ],
             [
              0.2222222222222222,
              "#7201a8"
             ],
             [
              0.3333333333333333,
              "#9c179e"
             ],
             [
              0.4444444444444444,
              "#bd3786"
             ],
             [
              0.5555555555555556,
              "#d8576b"
             ],
             [
              0.6666666666666666,
              "#ed7953"
             ],
             [
              0.7777777777777778,
              "#fb9f3a"
             ],
             [
              0.8888888888888888,
              "#fdca26"
             ],
             [
              1,
              "#f0f921"
             ]
            ],
            "type": "histogram2d"
           }
          ],
          "histogram2dcontour": [
           {
            "colorbar": {
             "outlinewidth": 0,
             "ticks": ""
            },
            "colorscale": [
             [
              0,
              "#0d0887"
             ],
             [
              0.1111111111111111,
              "#46039f"
             ],
             [
              0.2222222222222222,
              "#7201a8"
             ],
             [
              0.3333333333333333,
              "#9c179e"
             ],
             [
              0.4444444444444444,
              "#bd3786"
             ],
             [
              0.5555555555555556,
              "#d8576b"
             ],
             [
              0.6666666666666666,
              "#ed7953"
             ],
             [
              0.7777777777777778,
              "#fb9f3a"
             ],
             [
              0.8888888888888888,
              "#fdca26"
             ],
             [
              1,
              "#f0f921"
             ]
            ],
            "type": "histogram2dcontour"
           }
          ],
          "mesh3d": [
           {
            "colorbar": {
             "outlinewidth": 0,
             "ticks": ""
            },
            "type": "mesh3d"
           }
          ],
          "parcoords": [
           {
            "line": {
             "colorbar": {
              "outlinewidth": 0,
              "ticks": ""
             }
            },
            "type": "parcoords"
           }
          ],
          "pie": [
           {
            "automargin": true,
            "type": "pie"
           }
          ],
          "scatter": [
           {
            "marker": {
             "colorbar": {
              "outlinewidth": 0,
              "ticks": ""
             }
            },
            "type": "scatter"
           }
          ],
          "scatter3d": [
           {
            "line": {
             "colorbar": {
              "outlinewidth": 0,
              "ticks": ""
             }
            },
            "marker": {
             "colorbar": {
              "outlinewidth": 0,
              "ticks": ""
             }
            },
            "type": "scatter3d"
           }
          ],
          "scattercarpet": [
           {
            "marker": {
             "colorbar": {
              "outlinewidth": 0,
              "ticks": ""
             }
            },
            "type": "scattercarpet"
           }
          ],
          "scattergeo": [
           {
            "marker": {
             "colorbar": {
              "outlinewidth": 0,
              "ticks": ""
             }
            },
            "type": "scattergeo"
           }
          ],
          "scattergl": [
           {
            "marker": {
             "colorbar": {
              "outlinewidth": 0,
              "ticks": ""
             }
            },
            "type": "scattergl"
           }
          ],
          "scattermapbox": [
           {
            "marker": {
             "colorbar": {
              "outlinewidth": 0,
              "ticks": ""
             }
            },
            "type": "scattermapbox"
           }
          ],
          "scatterpolar": [
           {
            "marker": {
             "colorbar": {
              "outlinewidth": 0,
              "ticks": ""
             }
            },
            "type": "scatterpolar"
           }
          ],
          "scatterpolargl": [
           {
            "marker": {
             "colorbar": {
              "outlinewidth": 0,
              "ticks": ""
             }
            },
            "type": "scatterpolargl"
           }
          ],
          "scatterternary": [
           {
            "marker": {
             "colorbar": {
              "outlinewidth": 0,
              "ticks": ""
             }
            },
            "type": "scatterternary"
           }
          ],
          "surface": [
           {
            "colorbar": {
             "outlinewidth": 0,
             "ticks": ""
            },
            "colorscale": [
             [
              0,
              "#0d0887"
             ],
             [
              0.1111111111111111,
              "#46039f"
             ],
             [
              0.2222222222222222,
              "#7201a8"
             ],
             [
              0.3333333333333333,
              "#9c179e"
             ],
             [
              0.4444444444444444,
              "#bd3786"
             ],
             [
              0.5555555555555556,
              "#d8576b"
             ],
             [
              0.6666666666666666,
              "#ed7953"
             ],
             [
              0.7777777777777778,
              "#fb9f3a"
             ],
             [
              0.8888888888888888,
              "#fdca26"
             ],
             [
              1,
              "#f0f921"
             ]
            ],
            "type": "surface"
           }
          ],
          "table": [
           {
            "cells": {
             "fill": {
              "color": "#EBF0F8"
             },
             "line": {
              "color": "white"
             }
            },
            "header": {
             "fill": {
              "color": "#C8D4E3"
             },
             "line": {
              "color": "white"
             }
            },
            "type": "table"
           }
          ]
         },
         "layout": {
          "annotationdefaults": {
           "arrowcolor": "#2a3f5f",
           "arrowhead": 0,
           "arrowwidth": 1
          },
          "autotypenumbers": "strict",
          "coloraxis": {
           "colorbar": {
            "outlinewidth": 0,
            "ticks": ""
           }
          },
          "colorscale": {
           "diverging": [
            [
             0,
             "#8e0152"
            ],
            [
             0.1,
             "#c51b7d"
            ],
            [
             0.2,
             "#de77ae"
            ],
            [
             0.3,
             "#f1b6da"
            ],
            [
             0.4,
             "#fde0ef"
            ],
            [
             0.5,
             "#f7f7f7"
            ],
            [
             0.6,
             "#e6f5d0"
            ],
            [
             0.7,
             "#b8e186"
            ],
            [
             0.8,
             "#7fbc41"
            ],
            [
             0.9,
             "#4d9221"
            ],
            [
             1,
             "#276419"
            ]
           ],
           "sequential": [
            [
             0,
             "#0d0887"
            ],
            [
             0.1111111111111111,
             "#46039f"
            ],
            [
             0.2222222222222222,
             "#7201a8"
            ],
            [
             0.3333333333333333,
             "#9c179e"
            ],
            [
             0.4444444444444444,
             "#bd3786"
            ],
            [
             0.5555555555555556,
             "#d8576b"
            ],
            [
             0.6666666666666666,
             "#ed7953"
            ],
            [
             0.7777777777777778,
             "#fb9f3a"
            ],
            [
             0.8888888888888888,
             "#fdca26"
            ],
            [
             1,
             "#f0f921"
            ]
           ],
           "sequentialminus": [
            [
             0,
             "#0d0887"
            ],
            [
             0.1111111111111111,
             "#46039f"
            ],
            [
             0.2222222222222222,
             "#7201a8"
            ],
            [
             0.3333333333333333,
             "#9c179e"
            ],
            [
             0.4444444444444444,
             "#bd3786"
            ],
            [
             0.5555555555555556,
             "#d8576b"
            ],
            [
             0.6666666666666666,
             "#ed7953"
            ],
            [
             0.7777777777777778,
             "#fb9f3a"
            ],
            [
             0.8888888888888888,
             "#fdca26"
            ],
            [
             1,
             "#f0f921"
            ]
           ]
          },
          "colorway": [
           "#636efa",
           "#EF553B",
           "#00cc96",
           "#ab63fa",
           "#FFA15A",
           "#19d3f3",
           "#FF6692",
           "#B6E880",
           "#FF97FF",
           "#FECB52"
          ],
          "font": {
           "color": "#2a3f5f"
          },
          "geo": {
           "bgcolor": "white",
           "lakecolor": "white",
           "landcolor": "#E5ECF6",
           "showlakes": true,
           "showland": true,
           "subunitcolor": "white"
          },
          "hoverlabel": {
           "align": "left"
          },
          "hovermode": "closest",
          "mapbox": {
           "style": "light"
          },
          "paper_bgcolor": "white",
          "plot_bgcolor": "#E5ECF6",
          "polar": {
           "angularaxis": {
            "gridcolor": "white",
            "linecolor": "white",
            "ticks": ""
           },
           "bgcolor": "#E5ECF6",
           "radialaxis": {
            "gridcolor": "white",
            "linecolor": "white",
            "ticks": ""
           }
          },
          "scene": {
           "xaxis": {
            "backgroundcolor": "#E5ECF6",
            "gridcolor": "white",
            "gridwidth": 2,
            "linecolor": "white",
            "showbackground": true,
            "ticks": "",
            "zerolinecolor": "white"
           },
           "yaxis": {
            "backgroundcolor": "#E5ECF6",
            "gridcolor": "white",
            "gridwidth": 2,
            "linecolor": "white",
            "showbackground": true,
            "ticks": "",
            "zerolinecolor": "white"
           },
           "zaxis": {
            "backgroundcolor": "#E5ECF6",
            "gridcolor": "white",
            "gridwidth": 2,
            "linecolor": "white",
            "showbackground": true,
            "ticks": "",
            "zerolinecolor": "white"
           }
          },
          "shapedefaults": {
           "line": {
            "color": "#2a3f5f"
           }
          },
          "ternary": {
           "aaxis": {
            "gridcolor": "white",
            "linecolor": "white",
            "ticks": ""
           },
           "baxis": {
            "gridcolor": "white",
            "linecolor": "white",
            "ticks": ""
           },
           "bgcolor": "#E5ECF6",
           "caxis": {
            "gridcolor": "white",
            "linecolor": "white",
            "ticks": ""
           }
          },
          "title": {
           "x": 0.05
          },
          "xaxis": {
           "automargin": true,
           "gridcolor": "white",
           "linecolor": "white",
           "ticks": "",
           "title": {
            "standoff": 15
           },
           "zerolinecolor": "white",
           "zerolinewidth": 2
          },
          "yaxis": {
           "automargin": true,
           "gridcolor": "white",
           "linecolor": "white",
           "ticks": "",
           "title": {
            "standoff": 15
           },
           "zerolinecolor": "white",
           "zerolinewidth": 2
          }
         }
        },
        "title": {
         "text": "Digit 3 - Cycle file 18_cycles.vtk"
        },
        "width": 400,
        "xaxis": {
         "anchor": "y",
         "constrain": "domain",
         "domain": [
          0,
          1
         ],
         "scaleanchor": "y",
         "showticklabels": false
        },
        "yaxis": {
         "anchor": "x",
         "autorange": "reversed",
         "constrain": "domain",
         "domain": [
          0,
          1
         ],
         "showticklabels": false
        }
       }
      },
      "text/html": [
       "<div>                            <div id=\"a2c90e9e-5f44-4650-844a-8de2a3ea40f8\" class=\"plotly-graph-div\" style=\"height:400px; width:400px;\"></div>            <script type=\"text/javascript\">                require([\"plotly\"], function(Plotly) {                    window.PLOTLYENV=window.PLOTLYENV || {};                                    if (document.getElementById(\"a2c90e9e-5f44-4650-844a-8de2a3ea40f8\")) {                    Plotly.newPlot(                        \"a2c90e9e-5f44-4650-844a-8de2a3ea40f8\",                        [{\"coloraxis\": \"coloraxis\", \"hovertemplate\": \"x: %{x}<br>y: %{y}<br>color: %{z}<extra></extra>\", \"name\": \"0\", \"type\": \"heatmap\", \"xaxis\": \"x\", \"yaxis\": \"y\", \"z\": [[0, 0, 0, 0, 0, 0, 0, 0, 0, 0, 0, 0, 0, 0, 0, 0, 0, 0, 0, 0, 0, 0, 0, 0, 0, 0, 0, 0], [0, 0, 0, 0, 0, 0, 0, 0, 0, 0, 0, 0, 0, 0, 0, 0, 0, 0, 0, 0, 0, 0, 0, 0, 0, 0, 0, 0], [0, 0, 0, 0, 0, 0, 0, 0, 0, 0, 0, 0, 0, 0, 0, 0, 0, 0, 0, 0, 0, 0, 0, 0, 0, 0, 0, 0], [0, 0, 0, 0, 0, 0, 0, 0, 0, 0, 0, 0, 0, 0, 0, 0, 0, 0, 0, 0, 0, 0, 0, 0, 0, 0, 0, 0], [0, 0, 0, 0, 0, 0, 12, 41, 146, 146, 48, 0, 0, 0, 0, 0, 0, 0, 0, 0, 0, 0, 0, 0, 0, 0, 0, 0], [0, 0, 0, 0, 0, 12, 129, 253, 253, 253, 250, 163, 18, 0, 0, 0, 0, 0, 0, 0, 0, 0, 0, 0, 0, 0, 0, 0], [0, 0, 0, 0, 0, 133, 253, 253, 253, 253, 253, 253, 229, 70, 0, 0, 0, 0, 0, 0, 0, 0, 0, 0, 0, 0, 0, 0], [0, 0, 0, 0, 0, 101, 253, 252, 145, 102, 107, 237, 253, 247, 128, 10, 0, 0, 0, 0, 0, 0, 0, 0, 0, 0, 0, 0], [0, 0, 0, 0, 0, 181, 253, 167, 0, 0, 0, 61, 235, 253, 253, 163, 5, 0, 0, 0, 0, 0, 0, 0, 0, 0, 0, 0], [0, 0, 0, 0, 0, 255, 253, 43, 0, 0, 0, 0, 58, 193, 253, 253, 164, 4, 0, 0, 0, 0, 0, 0, 0, 0, 0, 0], [0, 0, 0, 0, 0, 187, 253, 32, 0, 0, 0, 0, 0, 55, 236, 253, 253, 86, 0, 0, 0, 0, 0, 0, 0, 0, 0, 0], [0, 0, 0, 0, 0, 146, 253, 32, 0, 100, 190, 87, 87, 87, 147, 253, 253, 123, 0, 0, 0, 0, 0, 0, 0, 0, 0, 0], [0, 0, 0, 0, 0, 94, 253, 78, 40, 248, 253, 253, 253, 253, 253, 253, 253, 223, 84, 15, 0, 0, 0, 0, 0, 0, 0, 0], [0, 0, 0, 0, 0, 14, 92, 12, 35, 240, 253, 253, 253, 253, 253, 253, 253, 253, 253, 244, 89, 10, 0, 0, 0, 0, 0, 0], [0, 0, 0, 0, 0, 0, 0, 0, 0, 75, 161, 179, 253, 253, 253, 253, 253, 253, 253, 253, 253, 209, 43, 0, 0, 0, 0, 0], [0, 0, 0, 0, 0, 0, 0, 0, 0, 0, 0, 3, 16, 16, 39, 38, 16, 16, 145, 243, 253, 253, 185, 48, 0, 0, 0, 0], [0, 0, 0, 0, 0, 0, 0, 0, 0, 20, 58, 0, 0, 0, 0, 0, 0, 0, 0, 58, 209, 253, 253, 183, 0, 0, 0, 0], [0, 0, 0, 0, 0, 0, 0, 0, 77, 221, 247, 79, 0, 0, 0, 0, 0, 0, 0, 0, 13, 219, 253, 240, 72, 0, 0, 0], [0, 0, 0, 0, 0, 0, 0, 0, 90, 247, 253, 252, 57, 0, 0, 0, 0, 0, 0, 0, 0, 53, 251, 253, 191, 0, 0, 0], [0, 0, 0, 0, 0, 0, 0, 0, 0, 116, 253, 253, 59, 0, 0, 0, 0, 0, 0, 0, 0, 99, 252, 253, 145, 0, 0, 0], [0, 0, 0, 0, 0, 0, 0, 0, 0, 14, 188, 253, 221, 158, 38, 0, 0, 0, 0, 111, 211, 246, 253, 253, 145, 0, 0, 0], [0, 0, 0, 0, 0, 0, 0, 0, 0, 0, 12, 221, 246, 253, 251, 249, 249, 249, 249, 253, 253, 253, 253, 200, 19, 0, 0, 0], [0, 0, 0, 0, 0, 0, 0, 0, 0, 0, 0, 0, 95, 183, 228, 253, 253, 253, 253, 253, 253, 195, 124, 23, 0, 0, 0, 0], [0, 0, 0, 0, 0, 0, 0, 0, 0, 0, 0, 0, 0, 0, 24, 37, 138, 74, 126, 88, 37, 7, 0, 0, 0, 0, 0, 0], [0, 0, 0, 0, 0, 0, 0, 0, 0, 0, 0, 0, 0, 0, 0, 0, 0, 0, 0, 0, 0, 0, 0, 0, 0, 0, 0, 0], [0, 0, 0, 0, 0, 0, 0, 0, 0, 0, 0, 0, 0, 0, 0, 0, 0, 0, 0, 0, 0, 0, 0, 0, 0, 0, 0, 0], [0, 0, 0, 0, 0, 0, 0, 0, 0, 0, 0, 0, 0, 0, 0, 0, 0, 0, 0, 0, 0, 0, 0, 0, 0, 0, 0, 0], [0, 0, 0, 0, 0, 0, 0, 0, 0, 0, 0, 0, 0, 0, 0, 0, 0, 0, 0, 0, 0, 0, 0, 0, 0, 0, 0, 0]]}, {\"mode\": \"lines\", \"type\": \"scatter\", \"x\": [9.0, 9.0, 10.0, 11.0, 11.0, 10.0, 9.0], \"y\": [15.0, 16.0, 16.0, 15.0, 14.0, 14.0, 15.0]}, {\"mode\": \"lines\", \"type\": \"scatter\", \"x\": [7.0, 7.0, 7.0, 7.0, 7.0, 8.0, 9.0, 10.0, 11.0, 12.0, 13.0, 14.0, 14.0, 13.0, 13.0, 12.0, 12.0, 11.0, 11.0, 10.0, 9.0, 8.0, 7.0], \"y\": [8.0, 9.0, 10.0, 11.0, 12.0, 12.0, 12.0, 12.0, 12.0, 12.0, 11.0, 10.0, 9.0, 9.0, 8.0, 8.0, 7.0, 7.0, 6.0, 6.0, 6.0, 7.0, 8.0]}, {\"mode\": \"lines\", \"type\": \"scatter\", \"x\": [18.0, 18.0, 17.0, 18.0], \"y\": [13.0, 14.0, 14.0, 13.0]}, {\"mode\": \"lines\", \"type\": \"scatter\", \"x\": [9.0, 9.0, 8.0, 9.0], \"y\": [15.0, 16.0, 16.0, 15.0]}, {\"mode\": \"lines\", \"type\": \"scatter\", \"x\": [10.0, 10.0, 11.0, 12.0, 13.0, 13.0, 12.0, 11.0, 10.0], \"y\": [10.0, 11.0, 11.0, 11.0, 10.0, 9.0, 9.0, 9.0, 10.0]}, {\"mode\": \"lines\", \"type\": \"scatter\", \"x\": [10.0, 10.0, 10.0, 11.0, 11.0, 11.0, 12.0, 12.0, 13.0, 14.0, 14.0, 15.0, 16.0, 17.0, 18.0, 19.0, 20.0, 21.0, 22.0, 22.0, 22.0, 21.0, 21.0, 20.0, 20.0, 19.0, 19.0, 18.0, 17.0, 16.0, 15.0, 14.0, 13.0, 12.0, 11.0, 10.0], \"y\": [16.0, 17.0, 18.0, 18.0, 19.0, 20.0, 20.0, 21.0, 21.0, 21.0, 22.0, 22.0, 22.0, 22.0, 22.0, 21.0, 21.0, 20.0, 19.0, 18.0, 17.0, 17.0, 16.0, 16.0, 15.0, 15.0, 14.0, 14.0, 14.0, 14.0, 14.0, 14.0, 14.0, 14.0, 15.0, 16.0]}, {\"mode\": \"lines\", \"type\": \"scatter\", \"x\": [19.0, 19.0, 20.0, 21.0, 21.0, 20.0, 19.0], \"y\": [19.0, 20.0, 20.0, 19.0, 18.0, 18.0, 19.0]}],                        {\"coloraxis\": {\"colorscale\": [[0.0, \"rgb(0, 0, 0)\"], [0.09090909090909091, \"rgb(16, 16, 16)\"], [0.18181818181818182, \"rgb(38, 38, 38)\"], [0.2727272727272727, \"rgb(59, 59, 59)\"], [0.36363636363636365, \"rgb(81, 80, 80)\"], [0.45454545454545453, \"rgb(102, 101, 101)\"], [0.5454545454545454, \"rgb(124, 123, 122)\"], [0.6363636363636364, \"rgb(146, 146, 145)\"], [0.7272727272727273, \"rgb(171, 171, 170)\"], [0.8181818181818182, \"rgb(197, 197, 195)\"], [0.9090909090909091, \"rgb(224, 224, 223)\"], [1.0, \"rgb(254, 254, 253)\"]], \"showscale\": false}, \"height\": 400, \"margin\": {\"t\": 60}, \"template\": {\"data\": {\"bar\": [{\"error_x\": {\"color\": \"#2a3f5f\"}, \"error_y\": {\"color\": \"#2a3f5f\"}, \"marker\": {\"line\": {\"color\": \"#E5ECF6\", \"width\": 0.5}}, \"type\": \"bar\"}], \"barpolar\": [{\"marker\": {\"line\": {\"color\": \"#E5ECF6\", \"width\": 0.5}}, \"type\": \"barpolar\"}], \"carpet\": [{\"aaxis\": {\"endlinecolor\": \"#2a3f5f\", \"gridcolor\": \"white\", \"linecolor\": \"white\", \"minorgridcolor\": \"white\", \"startlinecolor\": \"#2a3f5f\"}, \"baxis\": {\"endlinecolor\": \"#2a3f5f\", \"gridcolor\": \"white\", \"linecolor\": \"white\", \"minorgridcolor\": \"white\", \"startlinecolor\": \"#2a3f5f\"}, \"type\": \"carpet\"}], \"choropleth\": [{\"colorbar\": {\"outlinewidth\": 0, \"ticks\": \"\"}, \"type\": \"choropleth\"}], \"contour\": [{\"colorbar\": {\"outlinewidth\": 0, \"ticks\": \"\"}, \"colorscale\": [[0.0, \"#0d0887\"], [0.1111111111111111, \"#46039f\"], [0.2222222222222222, \"#7201a8\"], [0.3333333333333333, \"#9c179e\"], [0.4444444444444444, \"#bd3786\"], [0.5555555555555556, \"#d8576b\"], [0.6666666666666666, \"#ed7953\"], [0.7777777777777778, \"#fb9f3a\"], [0.8888888888888888, \"#fdca26\"], [1.0, \"#f0f921\"]], \"type\": \"contour\"}], \"contourcarpet\": [{\"colorbar\": {\"outlinewidth\": 0, \"ticks\": \"\"}, \"type\": \"contourcarpet\"}], \"heatmap\": [{\"colorbar\": {\"outlinewidth\": 0, \"ticks\": \"\"}, \"colorscale\": [[0.0, \"#0d0887\"], [0.1111111111111111, \"#46039f\"], [0.2222222222222222, \"#7201a8\"], [0.3333333333333333, \"#9c179e\"], [0.4444444444444444, \"#bd3786\"], [0.5555555555555556, \"#d8576b\"], [0.6666666666666666, \"#ed7953\"], [0.7777777777777778, \"#fb9f3a\"], [0.8888888888888888, \"#fdca26\"], [1.0, \"#f0f921\"]], \"type\": \"heatmap\"}], \"heatmapgl\": [{\"colorbar\": {\"outlinewidth\": 0, \"ticks\": \"\"}, \"colorscale\": [[0.0, \"#0d0887\"], [0.1111111111111111, \"#46039f\"], [0.2222222222222222, \"#7201a8\"], [0.3333333333333333, \"#9c179e\"], [0.4444444444444444, \"#bd3786\"], [0.5555555555555556, \"#d8576b\"], [0.6666666666666666, \"#ed7953\"], [0.7777777777777778, \"#fb9f3a\"], [0.8888888888888888, \"#fdca26\"], [1.0, \"#f0f921\"]], \"type\": \"heatmapgl\"}], \"histogram\": [{\"marker\": {\"colorbar\": {\"outlinewidth\": 0, \"ticks\": \"\"}}, \"type\": \"histogram\"}], \"histogram2d\": [{\"colorbar\": {\"outlinewidth\": 0, \"ticks\": \"\"}, \"colorscale\": [[0.0, \"#0d0887\"], [0.1111111111111111, \"#46039f\"], [0.2222222222222222, \"#7201a8\"], [0.3333333333333333, \"#9c179e\"], [0.4444444444444444, \"#bd3786\"], [0.5555555555555556, \"#d8576b\"], [0.6666666666666666, \"#ed7953\"], [0.7777777777777778, \"#fb9f3a\"], [0.8888888888888888, \"#fdca26\"], [1.0, \"#f0f921\"]], \"type\": \"histogram2d\"}], \"histogram2dcontour\": [{\"colorbar\": {\"outlinewidth\": 0, \"ticks\": \"\"}, \"colorscale\": [[0.0, \"#0d0887\"], [0.1111111111111111, \"#46039f\"], [0.2222222222222222, \"#7201a8\"], [0.3333333333333333, \"#9c179e\"], [0.4444444444444444, \"#bd3786\"], [0.5555555555555556, \"#d8576b\"], [0.6666666666666666, \"#ed7953\"], [0.7777777777777778, \"#fb9f3a\"], [0.8888888888888888, \"#fdca26\"], [1.0, \"#f0f921\"]], \"type\": \"histogram2dcontour\"}], \"mesh3d\": [{\"colorbar\": {\"outlinewidth\": 0, \"ticks\": \"\"}, \"type\": \"mesh3d\"}], \"parcoords\": [{\"line\": {\"colorbar\": {\"outlinewidth\": 0, \"ticks\": \"\"}}, \"type\": \"parcoords\"}], \"pie\": [{\"automargin\": true, \"type\": \"pie\"}], \"scatter\": [{\"marker\": {\"colorbar\": {\"outlinewidth\": 0, \"ticks\": \"\"}}, \"type\": \"scatter\"}], \"scatter3d\": [{\"line\": {\"colorbar\": {\"outlinewidth\": 0, \"ticks\": \"\"}}, \"marker\": {\"colorbar\": {\"outlinewidth\": 0, \"ticks\": \"\"}}, \"type\": \"scatter3d\"}], \"scattercarpet\": [{\"marker\": {\"colorbar\": {\"outlinewidth\": 0, \"ticks\": \"\"}}, \"type\": \"scattercarpet\"}], \"scattergeo\": [{\"marker\": {\"colorbar\": {\"outlinewidth\": 0, \"ticks\": \"\"}}, \"type\": \"scattergeo\"}], \"scattergl\": [{\"marker\": {\"colorbar\": {\"outlinewidth\": 0, \"ticks\": \"\"}}, \"type\": \"scattergl\"}], \"scattermapbox\": [{\"marker\": {\"colorbar\": {\"outlinewidth\": 0, \"ticks\": \"\"}}, \"type\": \"scattermapbox\"}], \"scatterpolar\": [{\"marker\": {\"colorbar\": {\"outlinewidth\": 0, \"ticks\": \"\"}}, \"type\": \"scatterpolar\"}], \"scatterpolargl\": [{\"marker\": {\"colorbar\": {\"outlinewidth\": 0, \"ticks\": \"\"}}, \"type\": \"scatterpolargl\"}], \"scatterternary\": [{\"marker\": {\"colorbar\": {\"outlinewidth\": 0, \"ticks\": \"\"}}, \"type\": \"scatterternary\"}], \"surface\": [{\"colorbar\": {\"outlinewidth\": 0, \"ticks\": \"\"}, \"colorscale\": [[0.0, \"#0d0887\"], [0.1111111111111111, \"#46039f\"], [0.2222222222222222, \"#7201a8\"], [0.3333333333333333, \"#9c179e\"], [0.4444444444444444, \"#bd3786\"], [0.5555555555555556, \"#d8576b\"], [0.6666666666666666, \"#ed7953\"], [0.7777777777777778, \"#fb9f3a\"], [0.8888888888888888, \"#fdca26\"], [1.0, \"#f0f921\"]], \"type\": \"surface\"}], \"table\": [{\"cells\": {\"fill\": {\"color\": \"#EBF0F8\"}, \"line\": {\"color\": \"white\"}}, \"header\": {\"fill\": {\"color\": \"#C8D4E3\"}, \"line\": {\"color\": \"white\"}}, \"type\": \"table\"}]}, \"layout\": {\"annotationdefaults\": {\"arrowcolor\": \"#2a3f5f\", \"arrowhead\": 0, \"arrowwidth\": 1}, \"autotypenumbers\": \"strict\", \"coloraxis\": {\"colorbar\": {\"outlinewidth\": 0, \"ticks\": \"\"}}, \"colorscale\": {\"diverging\": [[0, \"#8e0152\"], [0.1, \"#c51b7d\"], [0.2, \"#de77ae\"], [0.3, \"#f1b6da\"], [0.4, \"#fde0ef\"], [0.5, \"#f7f7f7\"], [0.6, \"#e6f5d0\"], [0.7, \"#b8e186\"], [0.8, \"#7fbc41\"], [0.9, \"#4d9221\"], [1, \"#276419\"]], \"sequential\": [[0.0, \"#0d0887\"], [0.1111111111111111, \"#46039f\"], [0.2222222222222222, \"#7201a8\"], [0.3333333333333333, \"#9c179e\"], [0.4444444444444444, \"#bd3786\"], [0.5555555555555556, \"#d8576b\"], [0.6666666666666666, \"#ed7953\"], [0.7777777777777778, \"#fb9f3a\"], [0.8888888888888888, \"#fdca26\"], [1.0, \"#f0f921\"]], \"sequentialminus\": [[0.0, \"#0d0887\"], [0.1111111111111111, \"#46039f\"], [0.2222222222222222, \"#7201a8\"], [0.3333333333333333, \"#9c179e\"], [0.4444444444444444, \"#bd3786\"], [0.5555555555555556, \"#d8576b\"], [0.6666666666666666, \"#ed7953\"], [0.7777777777777778, \"#fb9f3a\"], [0.8888888888888888, \"#fdca26\"], [1.0, \"#f0f921\"]]}, \"colorway\": [\"#636efa\", \"#EF553B\", \"#00cc96\", \"#ab63fa\", \"#FFA15A\", \"#19d3f3\", \"#FF6692\", \"#B6E880\", \"#FF97FF\", \"#FECB52\"], \"font\": {\"color\": \"#2a3f5f\"}, \"geo\": {\"bgcolor\": \"white\", \"lakecolor\": \"white\", \"landcolor\": \"#E5ECF6\", \"showlakes\": true, \"showland\": true, \"subunitcolor\": \"white\"}, \"hoverlabel\": {\"align\": \"left\"}, \"hovermode\": \"closest\", \"mapbox\": {\"style\": \"light\"}, \"paper_bgcolor\": \"white\", \"plot_bgcolor\": \"#E5ECF6\", \"polar\": {\"angularaxis\": {\"gridcolor\": \"white\", \"linecolor\": \"white\", \"ticks\": \"\"}, \"bgcolor\": \"#E5ECF6\", \"radialaxis\": {\"gridcolor\": \"white\", \"linecolor\": \"white\", \"ticks\": \"\"}}, \"scene\": {\"xaxis\": {\"backgroundcolor\": \"#E5ECF6\", \"gridcolor\": \"white\", \"gridwidth\": 2, \"linecolor\": \"white\", \"showbackground\": true, \"ticks\": \"\", \"zerolinecolor\": \"white\"}, \"yaxis\": {\"backgroundcolor\": \"#E5ECF6\", \"gridcolor\": \"white\", \"gridwidth\": 2, \"linecolor\": \"white\", \"showbackground\": true, \"ticks\": \"\", \"zerolinecolor\": \"white\"}, \"zaxis\": {\"backgroundcolor\": \"#E5ECF6\", \"gridcolor\": \"white\", \"gridwidth\": 2, \"linecolor\": \"white\", \"showbackground\": true, \"ticks\": \"\", \"zerolinecolor\": \"white\"}}, \"shapedefaults\": {\"line\": {\"color\": \"#2a3f5f\"}}, \"ternary\": {\"aaxis\": {\"gridcolor\": \"white\", \"linecolor\": \"white\", \"ticks\": \"\"}, \"baxis\": {\"gridcolor\": \"white\", \"linecolor\": \"white\", \"ticks\": \"\"}, \"bgcolor\": \"#E5ECF6\", \"caxis\": {\"gridcolor\": \"white\", \"linecolor\": \"white\", \"ticks\": \"\"}}, \"title\": {\"x\": 0.05}, \"xaxis\": {\"automargin\": true, \"gridcolor\": \"white\", \"linecolor\": \"white\", \"ticks\": \"\", \"title\": {\"standoff\": 15}, \"zerolinecolor\": \"white\", \"zerolinewidth\": 2}, \"yaxis\": {\"automargin\": true, \"gridcolor\": \"white\", \"linecolor\": \"white\", \"ticks\": \"\", \"title\": {\"standoff\": 15}, \"zerolinecolor\": \"white\", \"zerolinewidth\": 2}}}, \"title\": {\"text\": \"Digit 3 - Cycle file 18_cycles.vtk\"}, \"width\": 400, \"xaxis\": {\"anchor\": \"y\", \"constrain\": \"domain\", \"domain\": [0.0, 1.0], \"scaleanchor\": \"y\", \"showticklabels\": false}, \"yaxis\": {\"anchor\": \"x\", \"autorange\": \"reversed\", \"constrain\": \"domain\", \"domain\": [0.0, 1.0], \"showticklabels\": false}},                        {\"responsive\": true}                    ).then(function(){\n",
       "                            \n",
       "var gd = document.getElementById('a2c90e9e-5f44-4650-844a-8de2a3ea40f8');\n",
       "var x = new MutationObserver(function (mutations, observer) {{\n",
       "        var display = window.getComputedStyle(gd).display;\n",
       "        if (!display || display === 'none') {{\n",
       "            console.log([gd, 'removed!']);\n",
       "            Plotly.purge(gd);\n",
       "            observer.disconnect();\n",
       "        }}\n",
       "}});\n",
       "\n",
       "// Listen for the removal of the full notebook cells\n",
       "var notebookContainer = gd.closest('#notebook-container');\n",
       "if (notebookContainer) {{\n",
       "    x.observe(notebookContainer, {childList: true});\n",
       "}}\n",
       "\n",
       "// Listen for the clearing of the current output cell\n",
       "var outputEl = gd.closest('.output');\n",
       "if (outputEl) {{\n",
       "    x.observe(outputEl, {childList: true});\n",
       "}}\n",
       "\n",
       "                        })                };                });            </script>        </div>"
      ]
     },
     "metadata": {},
     "output_type": "display_data"
    },
    {
     "data": {
      "application/vnd.plotly.v1+json": {
       "config": {
        "linkText": "Export to plot.ly",
        "plotlyServerURL": "https://plot.ly",
        "showLink": false
       },
       "data": [
        {
         "coloraxis": "coloraxis",
         "hovertemplate": "x: %{x}<br>y: %{y}<br>color: %{z}<extra></extra>",
         "name": "0",
         "type": "heatmap",
         "xaxis": "x",
         "yaxis": "y",
         "z": [
          [
           0,
           0,
           0,
           0,
           0,
           0,
           0,
           0,
           0,
           0,
           0,
           0,
           0,
           0,
           0,
           0,
           0,
           0,
           0,
           0,
           0,
           0,
           0,
           0,
           0,
           0,
           0,
           0
          ],
          [
           0,
           0,
           0,
           0,
           0,
           0,
           0,
           0,
           0,
           0,
           0,
           0,
           0,
           0,
           0,
           0,
           0,
           0,
           0,
           0,
           0,
           0,
           0,
           0,
           0,
           0,
           0,
           0
          ],
          [
           0,
           0,
           0,
           0,
           0,
           0,
           0,
           0,
           0,
           0,
           0,
           55,
           232,
           27,
           0,
           0,
           0,
           0,
           0,
           0,
           0,
           0,
           0,
           0,
           0,
           0,
           0,
           0
          ],
          [
           0,
           0,
           0,
           0,
           0,
           0,
           0,
           0,
           0,
           0,
           0,
           87,
           228,
           22,
           0,
           0,
           0,
           0,
           0,
           0,
           0,
           0,
           0,
           0,
           0,
           0,
           0,
           0
          ],
          [
           0,
           0,
           0,
           0,
           0,
           0,
           0,
           0,
           0,
           0,
           0,
           87,
           201,
           0,
           0,
           0,
           0,
           0,
           0,
           0,
           0,
           0,
           0,
           0,
           0,
           0,
           0,
           0
          ],
          [
           0,
           0,
           0,
           0,
           0,
           0,
           0,
           0,
           0,
           0,
           15,
           225,
           201,
           0,
           0,
           0,
           0,
           0,
           0,
           0,
           0,
           0,
           0,
           0,
           0,
           0,
           0,
           0
          ],
          [
           0,
           0,
           0,
           0,
           0,
           0,
           0,
           0,
           0,
           0,
           25,
           254,
           192,
           0,
           0,
           0,
           0,
           0,
           0,
           0,
           0,
           0,
           0,
           0,
           0,
           0,
           0,
           0
          ],
          [
           0,
           0,
           0,
           0,
           0,
           0,
           0,
           0,
           0,
           0,
           94,
           254,
           73,
           0,
           0,
           0,
           0,
           0,
           48,
           51,
           0,
           0,
           0,
           0,
           0,
           0,
           0,
           0
          ],
          [
           0,
           0,
           0,
           0,
           0,
           0,
           0,
           0,
           0,
           0,
           121,
           222,
           6,
           0,
           0,
           11,
           127,
           184,
           251,
           247,
           123,
           5,
           0,
           0,
           0,
           0,
           0,
           0
          ],
          [
           0,
           0,
           0,
           0,
           0,
           0,
           0,
           0,
           0,
           0,
           201,
           248,
           9,
           0,
           0,
           172,
           239,
           241,
           220,
           179,
           248,
           184,
           0,
           0,
           0,
           0,
           0,
           0
          ],
          [
           0,
           0,
           0,
           0,
           0,
           0,
           0,
           0,
           0,
           0,
           217,
           168,
           0,
           0,
           58,
           250,
           157,
           85,
           6,
           0,
           137,
           216,
           0,
           0,
           0,
           0,
           0,
           0
          ],
          [
           0,
           0,
           0,
           0,
           0,
           0,
           0,
           0,
           0,
           128,
           253,
           168,
           0,
           30,
           180,
           254,
           101,
           67,
           0,
           0,
           18,
           235,
           73,
           0,
           0,
           0,
           0,
           0
          ],
          [
           0,
           0,
           0,
           0,
           0,
           0,
           0,
           0,
           0,
           136,
           254,
           168,
           0,
           122,
           254,
           168,
           153,
           0,
           0,
           0,
           46,
           246,
           153,
           0,
           0,
           0,
           0,
           0
          ],
          [
           0,
           0,
           0,
           0,
           0,
           0,
           0,
           0,
           0,
           220,
           254,
           103,
           37,
           241,
           254,
           145,
           0,
           0,
           0,
           0,
           73,
           254,
           153,
           0,
           0,
           0,
           0,
           0
          ],
          [
           0,
           0,
           0,
           0,
           0,
           0,
           0,
           0,
           0,
           198,
           232,
           6,
           70,
           254,
           254,
           28,
           0,
           0,
           0,
           0,
           89,
           233,
           33,
           0,
           0,
           0,
           0,
           0
          ],
          [
           0,
           0,
           0,
           0,
           0,
           0,
           0,
           0,
           0,
           227,
           230,
           0,
           77,
           254,
           189,
           3,
           0,
           0,
           0,
           85,
           237,
           212,
           0,
           0,
           0,
           0,
           0,
           0
          ],
          [
           0,
           0,
           0,
           0,
           0,
           0,
           0,
           0,
           0,
           181,
           230,
           0,
           149,
           254,
           172,
           0,
           0,
           0,
           93,
           204,
           254,
           128,
           0,
           0,
           0,
           0,
           0,
           0
          ],
          [
           0,
           0,
           0,
           0,
           0,
           0,
           0,
           0,
           0,
           236,
           230,
           0,
           149,
           255,
           185,
           10,
           45,
           164,
           244,
           253,
           176,
           3,
           0,
           0,
           0,
           0,
           0,
           0
          ],
          [
           0,
           0,
           0,
           0,
           0,
           0,
           0,
           0,
           0,
           154,
           249,
           58,
           115,
           254,
           254,
           211,
           254,
           254,
           237,
           149,
           22,
           0,
           0,
           0,
           0,
           0,
           0,
           0
          ],
          [
           0,
           0,
           0,
           0,
           0,
           0,
           0,
           0,
           0,
           93,
           254,
           224,
           251,
           254,
           254,
           254,
           254,
           208,
           155,
           35,
           0,
           0,
           0,
           0,
           0,
           0,
           0,
           0
          ],
          [
           0,
           0,
           0,
           0,
           0,
           0,
           0,
           0,
           0,
           7,
           172,
           254,
           255,
           242,
           255,
           114,
           65,
           9,
           0,
           0,
           0,
           0,
           0,
           0,
           0,
           0,
           0,
           0
          ],
          [
           0,
           0,
           0,
           0,
           0,
           0,
           0,
           0,
           0,
           0,
           30,
           200,
           178,
           46,
           158,
           9,
           0,
           0,
           0,
           0,
           0,
           0,
           0,
           0,
           0,
           0,
           0,
           0
          ],
          [
           0,
           0,
           0,
           0,
           0,
           0,
           0,
           0,
           0,
           0,
           0,
           0,
           0,
           0,
           0,
           0,
           0,
           0,
           0,
           0,
           0,
           0,
           0,
           0,
           0,
           0,
           0,
           0
          ],
          [
           0,
           0,
           0,
           0,
           0,
           0,
           0,
           0,
           0,
           0,
           0,
           0,
           0,
           0,
           0,
           0,
           0,
           0,
           0,
           0,
           0,
           0,
           0,
           0,
           0,
           0,
           0,
           0
          ],
          [
           0,
           0,
           0,
           0,
           0,
           0,
           0,
           0,
           0,
           0,
           0,
           0,
           0,
           0,
           0,
           0,
           0,
           0,
           0,
           0,
           0,
           0,
           0,
           0,
           0,
           0,
           0,
           0
          ],
          [
           0,
           0,
           0,
           0,
           0,
           0,
           0,
           0,
           0,
           0,
           0,
           0,
           0,
           0,
           0,
           0,
           0,
           0,
           0,
           0,
           0,
           0,
           0,
           0,
           0,
           0,
           0,
           0
          ],
          [
           0,
           0,
           0,
           0,
           0,
           0,
           0,
           0,
           0,
           0,
           0,
           0,
           0,
           0,
           0,
           0,
           0,
           0,
           0,
           0,
           0,
           0,
           0,
           0,
           0,
           0,
           0,
           0
          ],
          [
           0,
           0,
           0,
           0,
           0,
           0,
           0,
           0,
           0,
           0,
           0,
           0,
           0,
           0,
           0,
           0,
           0,
           0,
           0,
           0,
           0,
           0,
           0,
           0,
           0,
           0,
           0,
           0
          ]
         ]
        },
        {
         "mode": "lines",
         "type": "scatter",
         "x": [
          14,
          14,
          15,
          16,
          17,
          18,
          19,
          20,
          21,
          21,
          21,
          21,
          20,
          20,
          20,
          19,
          18,
          17,
          16,
          15,
          15,
          15,
          14
         ],
         "y": [
          16,
          17,
          17,
          17,
          17,
          16,
          15,
          15,
          14,
          13,
          12,
          11,
          11,
          10,
          9,
          9,
          10,
          11,
          12,
          13,
          14,
          15,
          16
         ]
        },
        {
         "mode": "lines",
         "type": "scatter",
         "x": [
          10,
          10,
          10,
          10,
          10,
          11,
          12,
          13,
          13,
          13,
          13,
          12,
          11,
          10
         ],
         "y": [
          15,
          16,
          17,
          18,
          19,
          19,
          18,
          17,
          16,
          15,
          14,
          14,
          14,
          15
         ]
        },
        {
         "mode": "lines",
         "type": "scatter",
         "x": [
          11,
          11,
          12,
          13,
          13,
          12,
          11
         ],
         "y": [
          12,
          13,
          13,
          12,
          11,
          11,
          12
         ]
        },
        {
         "mode": "lines",
         "type": "scatter",
         "x": [
          13,
          13,
          14,
          15,
          15,
          14,
          13
         ],
         "y": [
          9,
          10,
          10,
          9,
          8,
          8,
          9
         ]
        },
        {
         "mode": "lines",
         "type": "scatter",
         "x": [
          10,
          10,
          11,
          10
         ],
         "y": [
          9,
          10,
          9,
          9
         ]
        },
        {
         "mode": "lines",
         "type": "scatter",
         "x": [
          11,
          11,
          12,
          11
         ],
         "y": [
          3,
          4,
          3,
          3
         ]
        },
        {
         "mode": "lines",
         "type": "scatter",
         "x": [
          13,
          13,
          14,
          13
         ],
         "y": [
          8,
          9,
          8,
          8
         ]
        }
       ],
       "layout": {
        "coloraxis": {
         "colorscale": [
          [
           0,
           "rgb(0, 0, 0)"
          ],
          [
           0.09090909090909091,
           "rgb(16, 16, 16)"
          ],
          [
           0.18181818181818182,
           "rgb(38, 38, 38)"
          ],
          [
           0.2727272727272727,
           "rgb(59, 59, 59)"
          ],
          [
           0.36363636363636365,
           "rgb(81, 80, 80)"
          ],
          [
           0.45454545454545453,
           "rgb(102, 101, 101)"
          ],
          [
           0.5454545454545454,
           "rgb(124, 123, 122)"
          ],
          [
           0.6363636363636364,
           "rgb(146, 146, 145)"
          ],
          [
           0.7272727272727273,
           "rgb(171, 171, 170)"
          ],
          [
           0.8181818181818182,
           "rgb(197, 197, 195)"
          ],
          [
           0.9090909090909091,
           "rgb(224, 224, 223)"
          ],
          [
           1,
           "rgb(254, 254, 253)"
          ]
         ],
         "showscale": false
        },
        "height": 400,
        "margin": {
         "t": 60
        },
        "template": {
         "data": {
          "bar": [
           {
            "error_x": {
             "color": "#2a3f5f"
            },
            "error_y": {
             "color": "#2a3f5f"
            },
            "marker": {
             "line": {
              "color": "#E5ECF6",
              "width": 0.5
             }
            },
            "type": "bar"
           }
          ],
          "barpolar": [
           {
            "marker": {
             "line": {
              "color": "#E5ECF6",
              "width": 0.5
             }
            },
            "type": "barpolar"
           }
          ],
          "carpet": [
           {
            "aaxis": {
             "endlinecolor": "#2a3f5f",
             "gridcolor": "white",
             "linecolor": "white",
             "minorgridcolor": "white",
             "startlinecolor": "#2a3f5f"
            },
            "baxis": {
             "endlinecolor": "#2a3f5f",
             "gridcolor": "white",
             "linecolor": "white",
             "minorgridcolor": "white",
             "startlinecolor": "#2a3f5f"
            },
            "type": "carpet"
           }
          ],
          "choropleth": [
           {
            "colorbar": {
             "outlinewidth": 0,
             "ticks": ""
            },
            "type": "choropleth"
           }
          ],
          "contour": [
           {
            "colorbar": {
             "outlinewidth": 0,
             "ticks": ""
            },
            "colorscale": [
             [
              0,
              "#0d0887"
             ],
             [
              0.1111111111111111,
              "#46039f"
             ],
             [
              0.2222222222222222,
              "#7201a8"
             ],
             [
              0.3333333333333333,
              "#9c179e"
             ],
             [
              0.4444444444444444,
              "#bd3786"
             ],
             [
              0.5555555555555556,
              "#d8576b"
             ],
             [
              0.6666666666666666,
              "#ed7953"
             ],
             [
              0.7777777777777778,
              "#fb9f3a"
             ],
             [
              0.8888888888888888,
              "#fdca26"
             ],
             [
              1,
              "#f0f921"
             ]
            ],
            "type": "contour"
           }
          ],
          "contourcarpet": [
           {
            "colorbar": {
             "outlinewidth": 0,
             "ticks": ""
            },
            "type": "contourcarpet"
           }
          ],
          "heatmap": [
           {
            "colorbar": {
             "outlinewidth": 0,
             "ticks": ""
            },
            "colorscale": [
             [
              0,
              "#0d0887"
             ],
             [
              0.1111111111111111,
              "#46039f"
             ],
             [
              0.2222222222222222,
              "#7201a8"
             ],
             [
              0.3333333333333333,
              "#9c179e"
             ],
             [
              0.4444444444444444,
              "#bd3786"
             ],
             [
              0.5555555555555556,
              "#d8576b"
             ],
             [
              0.6666666666666666,
              "#ed7953"
             ],
             [
              0.7777777777777778,
              "#fb9f3a"
             ],
             [
              0.8888888888888888,
              "#fdca26"
             ],
             [
              1,
              "#f0f921"
             ]
            ],
            "type": "heatmap"
           }
          ],
          "heatmapgl": [
           {
            "colorbar": {
             "outlinewidth": 0,
             "ticks": ""
            },
            "colorscale": [
             [
              0,
              "#0d0887"
             ],
             [
              0.1111111111111111,
              "#46039f"
             ],
             [
              0.2222222222222222,
              "#7201a8"
             ],
             [
              0.3333333333333333,
              "#9c179e"
             ],
             [
              0.4444444444444444,
              "#bd3786"
             ],
             [
              0.5555555555555556,
              "#d8576b"
             ],
             [
              0.6666666666666666,
              "#ed7953"
             ],
             [
              0.7777777777777778,
              "#fb9f3a"
             ],
             [
              0.8888888888888888,
              "#fdca26"
             ],
             [
              1,
              "#f0f921"
             ]
            ],
            "type": "heatmapgl"
           }
          ],
          "histogram": [
           {
            "marker": {
             "colorbar": {
              "outlinewidth": 0,
              "ticks": ""
             }
            },
            "type": "histogram"
           }
          ],
          "histogram2d": [
           {
            "colorbar": {
             "outlinewidth": 0,
             "ticks": ""
            },
            "colorscale": [
             [
              0,
              "#0d0887"
             ],
             [
              0.1111111111111111,
              "#46039f"
             ],
             [
              0.2222222222222222,
              "#7201a8"
             ],
             [
              0.3333333333333333,
              "#9c179e"
             ],
             [
              0.4444444444444444,
              "#bd3786"
             ],
             [
              0.5555555555555556,
              "#d8576b"
             ],
             [
              0.6666666666666666,
              "#ed7953"
             ],
             [
              0.7777777777777778,
              "#fb9f3a"
             ],
             [
              0.8888888888888888,
              "#fdca26"
             ],
             [
              1,
              "#f0f921"
             ]
            ],
            "type": "histogram2d"
           }
          ],
          "histogram2dcontour": [
           {
            "colorbar": {
             "outlinewidth": 0,
             "ticks": ""
            },
            "colorscale": [
             [
              0,
              "#0d0887"
             ],
             [
              0.1111111111111111,
              "#46039f"
             ],
             [
              0.2222222222222222,
              "#7201a8"
             ],
             [
              0.3333333333333333,
              "#9c179e"
             ],
             [
              0.4444444444444444,
              "#bd3786"
             ],
             [
              0.5555555555555556,
              "#d8576b"
             ],
             [
              0.6666666666666666,
              "#ed7953"
             ],
             [
              0.7777777777777778,
              "#fb9f3a"
             ],
             [
              0.8888888888888888,
              "#fdca26"
             ],
             [
              1,
              "#f0f921"
             ]
            ],
            "type": "histogram2dcontour"
           }
          ],
          "mesh3d": [
           {
            "colorbar": {
             "outlinewidth": 0,
             "ticks": ""
            },
            "type": "mesh3d"
           }
          ],
          "parcoords": [
           {
            "line": {
             "colorbar": {
              "outlinewidth": 0,
              "ticks": ""
             }
            },
            "type": "parcoords"
           }
          ],
          "pie": [
           {
            "automargin": true,
            "type": "pie"
           }
          ],
          "scatter": [
           {
            "marker": {
             "colorbar": {
              "outlinewidth": 0,
              "ticks": ""
             }
            },
            "type": "scatter"
           }
          ],
          "scatter3d": [
           {
            "line": {
             "colorbar": {
              "outlinewidth": 0,
              "ticks": ""
             }
            },
            "marker": {
             "colorbar": {
              "outlinewidth": 0,
              "ticks": ""
             }
            },
            "type": "scatter3d"
           }
          ],
          "scattercarpet": [
           {
            "marker": {
             "colorbar": {
              "outlinewidth": 0,
              "ticks": ""
             }
            },
            "type": "scattercarpet"
           }
          ],
          "scattergeo": [
           {
            "marker": {
             "colorbar": {
              "outlinewidth": 0,
              "ticks": ""
             }
            },
            "type": "scattergeo"
           }
          ],
          "scattergl": [
           {
            "marker": {
             "colorbar": {
              "outlinewidth": 0,
              "ticks": ""
             }
            },
            "type": "scattergl"
           }
          ],
          "scattermapbox": [
           {
            "marker": {
             "colorbar": {
              "outlinewidth": 0,
              "ticks": ""
             }
            },
            "type": "scattermapbox"
           }
          ],
          "scatterpolar": [
           {
            "marker": {
             "colorbar": {
              "outlinewidth": 0,
              "ticks": ""
             }
            },
            "type": "scatterpolar"
           }
          ],
          "scatterpolargl": [
           {
            "marker": {
             "colorbar": {
              "outlinewidth": 0,
              "ticks": ""
             }
            },
            "type": "scatterpolargl"
           }
          ],
          "scatterternary": [
           {
            "marker": {
             "colorbar": {
              "outlinewidth": 0,
              "ticks": ""
             }
            },
            "type": "scatterternary"
           }
          ],
          "surface": [
           {
            "colorbar": {
             "outlinewidth": 0,
             "ticks": ""
            },
            "colorscale": [
             [
              0,
              "#0d0887"
             ],
             [
              0.1111111111111111,
              "#46039f"
             ],
             [
              0.2222222222222222,
              "#7201a8"
             ],
             [
              0.3333333333333333,
              "#9c179e"
             ],
             [
              0.4444444444444444,
              "#bd3786"
             ],
             [
              0.5555555555555556,
              "#d8576b"
             ],
             [
              0.6666666666666666,
              "#ed7953"
             ],
             [
              0.7777777777777778,
              "#fb9f3a"
             ],
             [
              0.8888888888888888,
              "#fdca26"
             ],
             [
              1,
              "#f0f921"
             ]
            ],
            "type": "surface"
           }
          ],
          "table": [
           {
            "cells": {
             "fill": {
              "color": "#EBF0F8"
             },
             "line": {
              "color": "white"
             }
            },
            "header": {
             "fill": {
              "color": "#C8D4E3"
             },
             "line": {
              "color": "white"
             }
            },
            "type": "table"
           }
          ]
         },
         "layout": {
          "annotationdefaults": {
           "arrowcolor": "#2a3f5f",
           "arrowhead": 0,
           "arrowwidth": 1
          },
          "autotypenumbers": "strict",
          "coloraxis": {
           "colorbar": {
            "outlinewidth": 0,
            "ticks": ""
           }
          },
          "colorscale": {
           "diverging": [
            [
             0,
             "#8e0152"
            ],
            [
             0.1,
             "#c51b7d"
            ],
            [
             0.2,
             "#de77ae"
            ],
            [
             0.3,
             "#f1b6da"
            ],
            [
             0.4,
             "#fde0ef"
            ],
            [
             0.5,
             "#f7f7f7"
            ],
            [
             0.6,
             "#e6f5d0"
            ],
            [
             0.7,
             "#b8e186"
            ],
            [
             0.8,
             "#7fbc41"
            ],
            [
             0.9,
             "#4d9221"
            ],
            [
             1,
             "#276419"
            ]
           ],
           "sequential": [
            [
             0,
             "#0d0887"
            ],
            [
             0.1111111111111111,
             "#46039f"
            ],
            [
             0.2222222222222222,
             "#7201a8"
            ],
            [
             0.3333333333333333,
             "#9c179e"
            ],
            [
             0.4444444444444444,
             "#bd3786"
            ],
            [
             0.5555555555555556,
             "#d8576b"
            ],
            [
             0.6666666666666666,
             "#ed7953"
            ],
            [
             0.7777777777777778,
             "#fb9f3a"
            ],
            [
             0.8888888888888888,
             "#fdca26"
            ],
            [
             1,
             "#f0f921"
            ]
           ],
           "sequentialminus": [
            [
             0,
             "#0d0887"
            ],
            [
             0.1111111111111111,
             "#46039f"
            ],
            [
             0.2222222222222222,
             "#7201a8"
            ],
            [
             0.3333333333333333,
             "#9c179e"
            ],
            [
             0.4444444444444444,
             "#bd3786"
            ],
            [
             0.5555555555555556,
             "#d8576b"
            ],
            [
             0.6666666666666666,
             "#ed7953"
            ],
            [
             0.7777777777777778,
             "#fb9f3a"
            ],
            [
             0.8888888888888888,
             "#fdca26"
            ],
            [
             1,
             "#f0f921"
            ]
           ]
          },
          "colorway": [
           "#636efa",
           "#EF553B",
           "#00cc96",
           "#ab63fa",
           "#FFA15A",
           "#19d3f3",
           "#FF6692",
           "#B6E880",
           "#FF97FF",
           "#FECB52"
          ],
          "font": {
           "color": "#2a3f5f"
          },
          "geo": {
           "bgcolor": "white",
           "lakecolor": "white",
           "landcolor": "#E5ECF6",
           "showlakes": true,
           "showland": true,
           "subunitcolor": "white"
          },
          "hoverlabel": {
           "align": "left"
          },
          "hovermode": "closest",
          "mapbox": {
           "style": "light"
          },
          "paper_bgcolor": "white",
          "plot_bgcolor": "#E5ECF6",
          "polar": {
           "angularaxis": {
            "gridcolor": "white",
            "linecolor": "white",
            "ticks": ""
           },
           "bgcolor": "#E5ECF6",
           "radialaxis": {
            "gridcolor": "white",
            "linecolor": "white",
            "ticks": ""
           }
          },
          "scene": {
           "xaxis": {
            "backgroundcolor": "#E5ECF6",
            "gridcolor": "white",
            "gridwidth": 2,
            "linecolor": "white",
            "showbackground": true,
            "ticks": "",
            "zerolinecolor": "white"
           },
           "yaxis": {
            "backgroundcolor": "#E5ECF6",
            "gridcolor": "white",
            "gridwidth": 2,
            "linecolor": "white",
            "showbackground": true,
            "ticks": "",
            "zerolinecolor": "white"
           },
           "zaxis": {
            "backgroundcolor": "#E5ECF6",
            "gridcolor": "white",
            "gridwidth": 2,
            "linecolor": "white",
            "showbackground": true,
            "ticks": "",
            "zerolinecolor": "white"
           }
          },
          "shapedefaults": {
           "line": {
            "color": "#2a3f5f"
           }
          },
          "ternary": {
           "aaxis": {
            "gridcolor": "white",
            "linecolor": "white",
            "ticks": ""
           },
           "baxis": {
            "gridcolor": "white",
            "linecolor": "white",
            "ticks": ""
           },
           "bgcolor": "#E5ECF6",
           "caxis": {
            "gridcolor": "white",
            "linecolor": "white",
            "ticks": ""
           }
          },
          "title": {
           "x": 0.05
          },
          "xaxis": {
           "automargin": true,
           "gridcolor": "white",
           "linecolor": "white",
           "ticks": "",
           "title": {
            "standoff": 15
           },
           "zerolinecolor": "white",
           "zerolinewidth": 2
          },
          "yaxis": {
           "automargin": true,
           "gridcolor": "white",
           "linecolor": "white",
           "ticks": "",
           "title": {
            "standoff": 15
           },
           "zerolinecolor": "white",
           "zerolinewidth": 2
          }
         }
        },
        "title": {
         "text": "Digit 6 - Cycle file 366_cycles.vtk"
        },
        "width": 400,
        "xaxis": {
         "anchor": "y",
         "constrain": "domain",
         "domain": [
          0,
          1
         ],
         "scaleanchor": "y",
         "showticklabels": false
        },
        "yaxis": {
         "anchor": "x",
         "autorange": "reversed",
         "constrain": "domain",
         "domain": [
          0,
          1
         ],
         "showticklabels": false
        }
       }
      },
      "text/html": [
       "<div>                            <div id=\"265513cc-a82e-4aea-bff3-bb56cc8057ed\" class=\"plotly-graph-div\" style=\"height:400px; width:400px;\"></div>            <script type=\"text/javascript\">                require([\"plotly\"], function(Plotly) {                    window.PLOTLYENV=window.PLOTLYENV || {};                                    if (document.getElementById(\"265513cc-a82e-4aea-bff3-bb56cc8057ed\")) {                    Plotly.newPlot(                        \"265513cc-a82e-4aea-bff3-bb56cc8057ed\",                        [{\"coloraxis\": \"coloraxis\", \"hovertemplate\": \"x: %{x}<br>y: %{y}<br>color: %{z}<extra></extra>\", \"name\": \"0\", \"type\": \"heatmap\", \"xaxis\": \"x\", \"yaxis\": \"y\", \"z\": [[0, 0, 0, 0, 0, 0, 0, 0, 0, 0, 0, 0, 0, 0, 0, 0, 0, 0, 0, 0, 0, 0, 0, 0, 0, 0, 0, 0], [0, 0, 0, 0, 0, 0, 0, 0, 0, 0, 0, 0, 0, 0, 0, 0, 0, 0, 0, 0, 0, 0, 0, 0, 0, 0, 0, 0], [0, 0, 0, 0, 0, 0, 0, 0, 0, 0, 0, 55, 232, 27, 0, 0, 0, 0, 0, 0, 0, 0, 0, 0, 0, 0, 0, 0], [0, 0, 0, 0, 0, 0, 0, 0, 0, 0, 0, 87, 228, 22, 0, 0, 0, 0, 0, 0, 0, 0, 0, 0, 0, 0, 0, 0], [0, 0, 0, 0, 0, 0, 0, 0, 0, 0, 0, 87, 201, 0, 0, 0, 0, 0, 0, 0, 0, 0, 0, 0, 0, 0, 0, 0], [0, 0, 0, 0, 0, 0, 0, 0, 0, 0, 15, 225, 201, 0, 0, 0, 0, 0, 0, 0, 0, 0, 0, 0, 0, 0, 0, 0], [0, 0, 0, 0, 0, 0, 0, 0, 0, 0, 25, 254, 192, 0, 0, 0, 0, 0, 0, 0, 0, 0, 0, 0, 0, 0, 0, 0], [0, 0, 0, 0, 0, 0, 0, 0, 0, 0, 94, 254, 73, 0, 0, 0, 0, 0, 48, 51, 0, 0, 0, 0, 0, 0, 0, 0], [0, 0, 0, 0, 0, 0, 0, 0, 0, 0, 121, 222, 6, 0, 0, 11, 127, 184, 251, 247, 123, 5, 0, 0, 0, 0, 0, 0], [0, 0, 0, 0, 0, 0, 0, 0, 0, 0, 201, 248, 9, 0, 0, 172, 239, 241, 220, 179, 248, 184, 0, 0, 0, 0, 0, 0], [0, 0, 0, 0, 0, 0, 0, 0, 0, 0, 217, 168, 0, 0, 58, 250, 157, 85, 6, 0, 137, 216, 0, 0, 0, 0, 0, 0], [0, 0, 0, 0, 0, 0, 0, 0, 0, 128, 253, 168, 0, 30, 180, 254, 101, 67, 0, 0, 18, 235, 73, 0, 0, 0, 0, 0], [0, 0, 0, 0, 0, 0, 0, 0, 0, 136, 254, 168, 0, 122, 254, 168, 153, 0, 0, 0, 46, 246, 153, 0, 0, 0, 0, 0], [0, 0, 0, 0, 0, 0, 0, 0, 0, 220, 254, 103, 37, 241, 254, 145, 0, 0, 0, 0, 73, 254, 153, 0, 0, 0, 0, 0], [0, 0, 0, 0, 0, 0, 0, 0, 0, 198, 232, 6, 70, 254, 254, 28, 0, 0, 0, 0, 89, 233, 33, 0, 0, 0, 0, 0], [0, 0, 0, 0, 0, 0, 0, 0, 0, 227, 230, 0, 77, 254, 189, 3, 0, 0, 0, 85, 237, 212, 0, 0, 0, 0, 0, 0], [0, 0, 0, 0, 0, 0, 0, 0, 0, 181, 230, 0, 149, 254, 172, 0, 0, 0, 93, 204, 254, 128, 0, 0, 0, 0, 0, 0], [0, 0, 0, 0, 0, 0, 0, 0, 0, 236, 230, 0, 149, 255, 185, 10, 45, 164, 244, 253, 176, 3, 0, 0, 0, 0, 0, 0], [0, 0, 0, 0, 0, 0, 0, 0, 0, 154, 249, 58, 115, 254, 254, 211, 254, 254, 237, 149, 22, 0, 0, 0, 0, 0, 0, 0], [0, 0, 0, 0, 0, 0, 0, 0, 0, 93, 254, 224, 251, 254, 254, 254, 254, 208, 155, 35, 0, 0, 0, 0, 0, 0, 0, 0], [0, 0, 0, 0, 0, 0, 0, 0, 0, 7, 172, 254, 255, 242, 255, 114, 65, 9, 0, 0, 0, 0, 0, 0, 0, 0, 0, 0], [0, 0, 0, 0, 0, 0, 0, 0, 0, 0, 30, 200, 178, 46, 158, 9, 0, 0, 0, 0, 0, 0, 0, 0, 0, 0, 0, 0], [0, 0, 0, 0, 0, 0, 0, 0, 0, 0, 0, 0, 0, 0, 0, 0, 0, 0, 0, 0, 0, 0, 0, 0, 0, 0, 0, 0], [0, 0, 0, 0, 0, 0, 0, 0, 0, 0, 0, 0, 0, 0, 0, 0, 0, 0, 0, 0, 0, 0, 0, 0, 0, 0, 0, 0], [0, 0, 0, 0, 0, 0, 0, 0, 0, 0, 0, 0, 0, 0, 0, 0, 0, 0, 0, 0, 0, 0, 0, 0, 0, 0, 0, 0], [0, 0, 0, 0, 0, 0, 0, 0, 0, 0, 0, 0, 0, 0, 0, 0, 0, 0, 0, 0, 0, 0, 0, 0, 0, 0, 0, 0], [0, 0, 0, 0, 0, 0, 0, 0, 0, 0, 0, 0, 0, 0, 0, 0, 0, 0, 0, 0, 0, 0, 0, 0, 0, 0, 0, 0], [0, 0, 0, 0, 0, 0, 0, 0, 0, 0, 0, 0, 0, 0, 0, 0, 0, 0, 0, 0, 0, 0, 0, 0, 0, 0, 0, 0]]}, {\"mode\": \"lines\", \"type\": \"scatter\", \"x\": [14.0, 14.0, 15.0, 16.0, 17.0, 18.0, 19.0, 20.0, 21.0, 21.0, 21.0, 21.0, 20.0, 20.0, 20.0, 19.0, 18.0, 17.0, 16.0, 15.0, 15.0, 15.0, 14.0], \"y\": [16.0, 17.0, 17.0, 17.0, 17.0, 16.0, 15.0, 15.0, 14.0, 13.0, 12.0, 11.0, 11.0, 10.0, 9.0, 9.0, 10.0, 11.0, 12.0, 13.0, 14.0, 15.0, 16.0]}, {\"mode\": \"lines\", \"type\": \"scatter\", \"x\": [10.0, 10.0, 10.0, 10.0, 10.0, 11.0, 12.0, 13.0, 13.0, 13.0, 13.0, 12.0, 11.0, 10.0], \"y\": [15.0, 16.0, 17.0, 18.0, 19.0, 19.0, 18.0, 17.0, 16.0, 15.0, 14.0, 14.0, 14.0, 15.0]}, {\"mode\": \"lines\", \"type\": \"scatter\", \"x\": [11.0, 11.0, 12.0, 13.0, 13.0, 12.0, 11.0], \"y\": [12.0, 13.0, 13.0, 12.0, 11.0, 11.0, 12.0]}, {\"mode\": \"lines\", \"type\": \"scatter\", \"x\": [13.0, 13.0, 14.0, 15.0, 15.0, 14.0, 13.0], \"y\": [9.0, 10.0, 10.0, 9.0, 8.0, 8.0, 9.0]}, {\"mode\": \"lines\", \"type\": \"scatter\", \"x\": [10.0, 10.0, 11.0, 10.0], \"y\": [9.0, 10.0, 9.0, 9.0]}, {\"mode\": \"lines\", \"type\": \"scatter\", \"x\": [11.0, 11.0, 12.0, 11.0], \"y\": [3.0, 4.0, 3.0, 3.0]}, {\"mode\": \"lines\", \"type\": \"scatter\", \"x\": [13.0, 13.0, 14.0, 13.0], \"y\": [8.0, 9.0, 8.0, 8.0]}],                        {\"coloraxis\": {\"colorscale\": [[0.0, \"rgb(0, 0, 0)\"], [0.09090909090909091, \"rgb(16, 16, 16)\"], [0.18181818181818182, \"rgb(38, 38, 38)\"], [0.2727272727272727, \"rgb(59, 59, 59)\"], [0.36363636363636365, \"rgb(81, 80, 80)\"], [0.45454545454545453, \"rgb(102, 101, 101)\"], [0.5454545454545454, \"rgb(124, 123, 122)\"], [0.6363636363636364, \"rgb(146, 146, 145)\"], [0.7272727272727273, \"rgb(171, 171, 170)\"], [0.8181818181818182, \"rgb(197, 197, 195)\"], [0.9090909090909091, \"rgb(224, 224, 223)\"], [1.0, \"rgb(254, 254, 253)\"]], \"showscale\": false}, \"height\": 400, \"margin\": {\"t\": 60}, \"template\": {\"data\": {\"bar\": [{\"error_x\": {\"color\": \"#2a3f5f\"}, \"error_y\": {\"color\": \"#2a3f5f\"}, \"marker\": {\"line\": {\"color\": \"#E5ECF6\", \"width\": 0.5}}, \"type\": \"bar\"}], \"barpolar\": [{\"marker\": {\"line\": {\"color\": \"#E5ECF6\", \"width\": 0.5}}, \"type\": \"barpolar\"}], \"carpet\": [{\"aaxis\": {\"endlinecolor\": \"#2a3f5f\", \"gridcolor\": \"white\", \"linecolor\": \"white\", \"minorgridcolor\": \"white\", \"startlinecolor\": \"#2a3f5f\"}, \"baxis\": {\"endlinecolor\": \"#2a3f5f\", \"gridcolor\": \"white\", \"linecolor\": \"white\", \"minorgridcolor\": \"white\", \"startlinecolor\": \"#2a3f5f\"}, \"type\": \"carpet\"}], \"choropleth\": [{\"colorbar\": {\"outlinewidth\": 0, \"ticks\": \"\"}, \"type\": \"choropleth\"}], \"contour\": [{\"colorbar\": {\"outlinewidth\": 0, \"ticks\": \"\"}, \"colorscale\": [[0.0, \"#0d0887\"], [0.1111111111111111, \"#46039f\"], [0.2222222222222222, \"#7201a8\"], [0.3333333333333333, \"#9c179e\"], [0.4444444444444444, \"#bd3786\"], [0.5555555555555556, \"#d8576b\"], [0.6666666666666666, \"#ed7953\"], [0.7777777777777778, \"#fb9f3a\"], [0.8888888888888888, \"#fdca26\"], [1.0, \"#f0f921\"]], \"type\": \"contour\"}], \"contourcarpet\": [{\"colorbar\": {\"outlinewidth\": 0, \"ticks\": \"\"}, \"type\": \"contourcarpet\"}], \"heatmap\": [{\"colorbar\": {\"outlinewidth\": 0, \"ticks\": \"\"}, \"colorscale\": [[0.0, \"#0d0887\"], [0.1111111111111111, \"#46039f\"], [0.2222222222222222, \"#7201a8\"], [0.3333333333333333, \"#9c179e\"], [0.4444444444444444, \"#bd3786\"], [0.5555555555555556, \"#d8576b\"], [0.6666666666666666, \"#ed7953\"], [0.7777777777777778, \"#fb9f3a\"], [0.8888888888888888, \"#fdca26\"], [1.0, \"#f0f921\"]], \"type\": \"heatmap\"}], \"heatmapgl\": [{\"colorbar\": {\"outlinewidth\": 0, \"ticks\": \"\"}, \"colorscale\": [[0.0, \"#0d0887\"], [0.1111111111111111, \"#46039f\"], [0.2222222222222222, \"#7201a8\"], [0.3333333333333333, \"#9c179e\"], [0.4444444444444444, \"#bd3786\"], [0.5555555555555556, \"#d8576b\"], [0.6666666666666666, \"#ed7953\"], [0.7777777777777778, \"#fb9f3a\"], [0.8888888888888888, \"#fdca26\"], [1.0, \"#f0f921\"]], \"type\": \"heatmapgl\"}], \"histogram\": [{\"marker\": {\"colorbar\": {\"outlinewidth\": 0, \"ticks\": \"\"}}, \"type\": \"histogram\"}], \"histogram2d\": [{\"colorbar\": {\"outlinewidth\": 0, \"ticks\": \"\"}, \"colorscale\": [[0.0, \"#0d0887\"], [0.1111111111111111, \"#46039f\"], [0.2222222222222222, \"#7201a8\"], [0.3333333333333333, \"#9c179e\"], [0.4444444444444444, \"#bd3786\"], [0.5555555555555556, \"#d8576b\"], [0.6666666666666666, \"#ed7953\"], [0.7777777777777778, \"#fb9f3a\"], [0.8888888888888888, \"#fdca26\"], [1.0, \"#f0f921\"]], \"type\": \"histogram2d\"}], \"histogram2dcontour\": [{\"colorbar\": {\"outlinewidth\": 0, \"ticks\": \"\"}, \"colorscale\": [[0.0, \"#0d0887\"], [0.1111111111111111, \"#46039f\"], [0.2222222222222222, \"#7201a8\"], [0.3333333333333333, \"#9c179e\"], [0.4444444444444444, \"#bd3786\"], [0.5555555555555556, \"#d8576b\"], [0.6666666666666666, \"#ed7953\"], [0.7777777777777778, \"#fb9f3a\"], [0.8888888888888888, \"#fdca26\"], [1.0, \"#f0f921\"]], \"type\": \"histogram2dcontour\"}], \"mesh3d\": [{\"colorbar\": {\"outlinewidth\": 0, \"ticks\": \"\"}, \"type\": \"mesh3d\"}], \"parcoords\": [{\"line\": {\"colorbar\": {\"outlinewidth\": 0, \"ticks\": \"\"}}, \"type\": \"parcoords\"}], \"pie\": [{\"automargin\": true, \"type\": \"pie\"}], \"scatter\": [{\"marker\": {\"colorbar\": {\"outlinewidth\": 0, \"ticks\": \"\"}}, \"type\": \"scatter\"}], \"scatter3d\": [{\"line\": {\"colorbar\": {\"outlinewidth\": 0, \"ticks\": \"\"}}, \"marker\": {\"colorbar\": {\"outlinewidth\": 0, \"ticks\": \"\"}}, \"type\": \"scatter3d\"}], \"scattercarpet\": [{\"marker\": {\"colorbar\": {\"outlinewidth\": 0, \"ticks\": \"\"}}, \"type\": \"scattercarpet\"}], \"scattergeo\": [{\"marker\": {\"colorbar\": {\"outlinewidth\": 0, \"ticks\": \"\"}}, \"type\": \"scattergeo\"}], \"scattergl\": [{\"marker\": {\"colorbar\": {\"outlinewidth\": 0, \"ticks\": \"\"}}, \"type\": \"scattergl\"}], \"scattermapbox\": [{\"marker\": {\"colorbar\": {\"outlinewidth\": 0, \"ticks\": \"\"}}, \"type\": \"scattermapbox\"}], \"scatterpolar\": [{\"marker\": {\"colorbar\": {\"outlinewidth\": 0, \"ticks\": \"\"}}, \"type\": \"scatterpolar\"}], \"scatterpolargl\": [{\"marker\": {\"colorbar\": {\"outlinewidth\": 0, \"ticks\": \"\"}}, \"type\": \"scatterpolargl\"}], \"scatterternary\": [{\"marker\": {\"colorbar\": {\"outlinewidth\": 0, \"ticks\": \"\"}}, \"type\": \"scatterternary\"}], \"surface\": [{\"colorbar\": {\"outlinewidth\": 0, \"ticks\": \"\"}, \"colorscale\": [[0.0, \"#0d0887\"], [0.1111111111111111, \"#46039f\"], [0.2222222222222222, \"#7201a8\"], [0.3333333333333333, \"#9c179e\"], [0.4444444444444444, \"#bd3786\"], [0.5555555555555556, \"#d8576b\"], [0.6666666666666666, \"#ed7953\"], [0.7777777777777778, \"#fb9f3a\"], [0.8888888888888888, \"#fdca26\"], [1.0, \"#f0f921\"]], \"type\": \"surface\"}], \"table\": [{\"cells\": {\"fill\": {\"color\": \"#EBF0F8\"}, \"line\": {\"color\": \"white\"}}, \"header\": {\"fill\": {\"color\": \"#C8D4E3\"}, \"line\": {\"color\": \"white\"}}, \"type\": \"table\"}]}, \"layout\": {\"annotationdefaults\": {\"arrowcolor\": \"#2a3f5f\", \"arrowhead\": 0, \"arrowwidth\": 1}, \"autotypenumbers\": \"strict\", \"coloraxis\": {\"colorbar\": {\"outlinewidth\": 0, \"ticks\": \"\"}}, \"colorscale\": {\"diverging\": [[0, \"#8e0152\"], [0.1, \"#c51b7d\"], [0.2, \"#de77ae\"], [0.3, \"#f1b6da\"], [0.4, \"#fde0ef\"], [0.5, \"#f7f7f7\"], [0.6, \"#e6f5d0\"], [0.7, \"#b8e186\"], [0.8, \"#7fbc41\"], [0.9, \"#4d9221\"], [1, \"#276419\"]], \"sequential\": [[0.0, \"#0d0887\"], [0.1111111111111111, \"#46039f\"], [0.2222222222222222, \"#7201a8\"], [0.3333333333333333, \"#9c179e\"], [0.4444444444444444, \"#bd3786\"], [0.5555555555555556, \"#d8576b\"], [0.6666666666666666, \"#ed7953\"], [0.7777777777777778, \"#fb9f3a\"], [0.8888888888888888, \"#fdca26\"], [1.0, \"#f0f921\"]], \"sequentialminus\": [[0.0, \"#0d0887\"], [0.1111111111111111, \"#46039f\"], [0.2222222222222222, \"#7201a8\"], [0.3333333333333333, \"#9c179e\"], [0.4444444444444444, \"#bd3786\"], [0.5555555555555556, \"#d8576b\"], [0.6666666666666666, \"#ed7953\"], [0.7777777777777778, \"#fb9f3a\"], [0.8888888888888888, \"#fdca26\"], [1.0, \"#f0f921\"]]}, \"colorway\": [\"#636efa\", \"#EF553B\", \"#00cc96\", \"#ab63fa\", \"#FFA15A\", \"#19d3f3\", \"#FF6692\", \"#B6E880\", \"#FF97FF\", \"#FECB52\"], \"font\": {\"color\": \"#2a3f5f\"}, \"geo\": {\"bgcolor\": \"white\", \"lakecolor\": \"white\", \"landcolor\": \"#E5ECF6\", \"showlakes\": true, \"showland\": true, \"subunitcolor\": \"white\"}, \"hoverlabel\": {\"align\": \"left\"}, \"hovermode\": \"closest\", \"mapbox\": {\"style\": \"light\"}, \"paper_bgcolor\": \"white\", \"plot_bgcolor\": \"#E5ECF6\", \"polar\": {\"angularaxis\": {\"gridcolor\": \"white\", \"linecolor\": \"white\", \"ticks\": \"\"}, \"bgcolor\": \"#E5ECF6\", \"radialaxis\": {\"gridcolor\": \"white\", \"linecolor\": \"white\", \"ticks\": \"\"}}, \"scene\": {\"xaxis\": {\"backgroundcolor\": \"#E5ECF6\", \"gridcolor\": \"white\", \"gridwidth\": 2, \"linecolor\": \"white\", \"showbackground\": true, \"ticks\": \"\", \"zerolinecolor\": \"white\"}, \"yaxis\": {\"backgroundcolor\": \"#E5ECF6\", \"gridcolor\": \"white\", \"gridwidth\": 2, \"linecolor\": \"white\", \"showbackground\": true, \"ticks\": \"\", \"zerolinecolor\": \"white\"}, \"zaxis\": {\"backgroundcolor\": \"#E5ECF6\", \"gridcolor\": \"white\", \"gridwidth\": 2, \"linecolor\": \"white\", \"showbackground\": true, \"ticks\": \"\", \"zerolinecolor\": \"white\"}}, \"shapedefaults\": {\"line\": {\"color\": \"#2a3f5f\"}}, \"ternary\": {\"aaxis\": {\"gridcolor\": \"white\", \"linecolor\": \"white\", \"ticks\": \"\"}, \"baxis\": {\"gridcolor\": \"white\", \"linecolor\": \"white\", \"ticks\": \"\"}, \"bgcolor\": \"#E5ECF6\", \"caxis\": {\"gridcolor\": \"white\", \"linecolor\": \"white\", \"ticks\": \"\"}}, \"title\": {\"x\": 0.05}, \"xaxis\": {\"automargin\": true, \"gridcolor\": \"white\", \"linecolor\": \"white\", \"ticks\": \"\", \"title\": {\"standoff\": 15}, \"zerolinecolor\": \"white\", \"zerolinewidth\": 2}, \"yaxis\": {\"automargin\": true, \"gridcolor\": \"white\", \"linecolor\": \"white\", \"ticks\": \"\", \"title\": {\"standoff\": 15}, \"zerolinecolor\": \"white\", \"zerolinewidth\": 2}}}, \"title\": {\"text\": \"Digit 6 - Cycle file 366_cycles.vtk\"}, \"width\": 400, \"xaxis\": {\"anchor\": \"y\", \"constrain\": \"domain\", \"domain\": [0.0, 1.0], \"scaleanchor\": \"y\", \"showticklabels\": false}, \"yaxis\": {\"anchor\": \"x\", \"autorange\": \"reversed\", \"constrain\": \"domain\", \"domain\": [0.0, 1.0], \"showticklabels\": false}},                        {\"responsive\": true}                    ).then(function(){\n",
       "                            \n",
       "var gd = document.getElementById('265513cc-a82e-4aea-bff3-bb56cc8057ed');\n",
       "var x = new MutationObserver(function (mutations, observer) {{\n",
       "        var display = window.getComputedStyle(gd).display;\n",
       "        if (!display || display === 'none') {{\n",
       "            console.log([gd, 'removed!']);\n",
       "            Plotly.purge(gd);\n",
       "            observer.disconnect();\n",
       "        }}\n",
       "}});\n",
       "\n",
       "// Listen for the removal of the full notebook cells\n",
       "var notebookContainer = gd.closest('#notebook-container');\n",
       "if (notebookContainer) {{\n",
       "    x.observe(notebookContainer, {childList: true});\n",
       "}}\n",
       "\n",
       "// Listen for the clearing of the current output cell\n",
       "var outputEl = gd.closest('.output');\n",
       "if (outputEl) {{\n",
       "    x.observe(outputEl, {childList: true});\n",
       "}}\n",
       "\n",
       "                        })                };                });            </script>        </div>"
      ]
     },
     "metadata": {},
     "output_type": "display_data"
    }
   ],
   "source": [
    "digitList = [\"8/401\", \"3/18\", \"6/366\"]\n",
    "\n",
    "for digitPrefix in digitList:\n",
    "    pngFile = os.path.join(IMG_DIR, digitPrefix+\".png\")\n",
    "    img = io.imread(pngFile)\n",
    "\n",
    "    cycleFile = os.path.join(VTK_DIR, digitPrefix+\"_cycles.vtk\")\n",
    "    iplot(visualizeCycles(img, cycleFile))"
   ]
  },
  {
   "cell_type": "markdown",
   "id": "enabling-juvenile",
   "metadata": {},
   "source": [
    "From the images above, we can see that the digit 3 and 6 have two major cycles, which makes them accidently clustered with digit 8. We can find the similar cause for other points in the figure too."
   ]
  },
  {
   "cell_type": "markdown",
   "id": "37b5a37d",
   "metadata": {},
   "source": [
    "### Cluster without any major cycles"
   ]
  },
  {
   "cell_type": "markdown",
   "id": "0a28b0c7",
   "metadata": {},
   "source": [
    "![scaled plot 2](./pictures/plot_example_2.png)"
   ]
  },
  {
   "cell_type": "markdown",
   "id": "bdddaaa6",
   "metadata": {},
   "source": [
    "The figure above shows the scaled view of the leftmost part of the embedding plot, where most digits are without any cycles. To understand why some digits with 1 cycle appear in the cluster, we picked three example points. The first one is in green which is associated with the file `2/208_pd.vtk`; the second one is in coral pink, which is associated with the file `6/559_pd.vtk`; the last one is in yellow which is associated with the file `9/20_pd.vtk`. We can then visualize the cycle information from the corresponding cycle vtk files. "
   ]
  },
  {
   "cell_type": "code",
   "execution_count": 21,
   "id": "25275f3a",
   "metadata": {},
   "outputs": [
    {
     "data": {
      "application/vnd.plotly.v1+json": {
       "config": {
        "linkText": "Export to plot.ly",
        "plotlyServerURL": "https://plot.ly",
        "showLink": false
       },
       "data": [
        {
         "coloraxis": "coloraxis",
         "hovertemplate": "x: %{x}<br>y: %{y}<br>color: %{z}<extra></extra>",
         "name": "0",
         "type": "heatmap",
         "xaxis": "x",
         "yaxis": "y",
         "z": [
          [
           0,
           0,
           0,
           0,
           0,
           0,
           0,
           0,
           0,
           0,
           0,
           0,
           0,
           0,
           0,
           0,
           0,
           0,
           0,
           0,
           0,
           0,
           0,
           0,
           0,
           0,
           0,
           0
          ],
          [
           0,
           0,
           0,
           0,
           0,
           0,
           0,
           0,
           0,
           0,
           0,
           0,
           0,
           0,
           0,
           0,
           0,
           0,
           0,
           0,
           0,
           0,
           0,
           0,
           0,
           0,
           0,
           0
          ],
          [
           0,
           0,
           0,
           0,
           0,
           0,
           0,
           0,
           0,
           0,
           0,
           0,
           0,
           0,
           0,
           0,
           0,
           0,
           0,
           0,
           0,
           0,
           0,
           0,
           0,
           0,
           0,
           0
          ],
          [
           0,
           0,
           0,
           0,
           0,
           0,
           0,
           0,
           0,
           0,
           0,
           0,
           0,
           0,
           0,
           0,
           0,
           0,
           0,
           0,
           0,
           0,
           0,
           0,
           0,
           0,
           0,
           0
          ],
          [
           0,
           0,
           0,
           0,
           0,
           0,
           0,
           0,
           0,
           0,
           0,
           23,
           108,
           122,
           163,
           178,
           171,
           184,
           11,
           0,
           0,
           0,
           0,
           0,
           0,
           0,
           0,
           0
          ],
          [
           0,
           0,
           0,
           0,
           0,
           0,
           0,
           0,
           0,
           0,
           25,
           198,
           253,
           253,
           253,
           253,
           255,
           253,
           181,
           15,
           0,
           0,
           0,
           0,
           0,
           0,
           0,
           0
          ],
          [
           0,
           0,
           0,
           0,
           0,
           0,
           0,
           0,
           0,
           0,
           68,
           253,
           253,
           245,
           96,
           39,
           40,
           200,
           253,
           39,
           0,
           0,
           0,
           0,
           0,
           0,
           0,
           0
          ],
          [
           0,
           0,
           0,
           0,
           0,
           0,
           0,
           0,
           0,
           0,
           50,
           158,
           124,
           47,
           0,
           0,
           0,
           23,
           233,
           145,
           0,
           0,
           0,
           0,
           0,
           0,
           0,
           0
          ],
          [
           0,
           0,
           0,
           0,
           0,
           0,
           0,
           0,
           0,
           0,
           0,
           0,
           0,
           0,
           0,
           0,
           0,
           0,
           228,
           173,
           0,
           0,
           0,
           0,
           0,
           0,
           0,
           0
          ],
          [
           0,
           0,
           0,
           0,
           0,
           0,
           0,
           0,
           0,
           0,
           0,
           0,
           0,
           0,
           0,
           0,
           0,
           0,
           228,
           173,
           0,
           0,
           0,
           0,
           0,
           0,
           0,
           0
          ],
          [
           0,
           0,
           0,
           0,
           0,
           0,
           0,
           0,
           0,
           0,
           0,
           0,
           0,
           0,
           0,
           0,
           0,
           69,
           244,
           88,
           0,
           0,
           0,
           0,
           0,
           0,
           0,
           0
          ],
          [
           0,
           0,
           0,
           0,
           0,
           0,
           0,
           0,
           0,
           0,
           0,
           0,
           0,
           0,
           0,
           0,
           0,
           185,
           248,
           37,
           0,
           0,
           0,
           0,
           0,
           0,
           0,
           0
          ],
          [
           0,
           0,
           0,
           0,
           0,
           0,
           0,
           0,
           0,
           0,
           0,
           0,
           0,
           0,
           0,
           0,
           0,
           241,
           159,
           0,
           0,
           0,
           0,
           0,
           0,
           0,
           0,
           0
          ],
          [
           0,
           0,
           0,
           0,
           0,
           0,
           0,
           0,
           0,
           0,
           0,
           0,
           0,
           0,
           0,
           0,
           58,
           248,
           97,
           0,
           0,
           0,
           0,
           0,
           0,
           0,
           0,
           0
          ],
          [
           0,
           0,
           0,
           0,
           0,
           0,
           0,
           0,
           0,
           0,
           0,
           0,
           0,
           0,
           0,
           0,
           177,
           208,
           15,
           0,
           0,
           0,
           0,
           0,
           0,
           0,
           0,
           0
          ],
          [
           0,
           0,
           0,
           0,
           0,
           0,
           0,
           0,
           0,
           0,
           50,
           70,
           94,
           94,
           94,
           164,
           254,
           146,
           0,
           0,
           0,
           0,
           0,
           0,
           0,
           0,
           0,
           0
          ],
          [
           0,
           0,
           0,
           0,
           0,
           0,
           0,
           0,
           30,
           194,
           235,
           243,
           253,
           253,
           253,
           253,
           254,
           237,
           165,
           81,
           17,
           0,
           0,
           0,
           0,
           0,
           0,
           0
          ],
          [
           0,
           0,
           0,
           0,
           0,
           0,
           0,
           86,
           220,
           253,
           253,
           253,
           253,
           253,
           253,
           253,
           254,
           253,
           253,
           253,
           212,
           158,
           11,
           25,
           40,
           68,
           0,
           0
          ],
          [
           0,
           0,
           0,
           0,
           0,
           0,
           0,
           135,
           253,
           253,
           253,
           253,
           253,
           253,
           222,
           199,
           201,
           199,
           199,
           199,
           242,
           239,
           198,
           211,
           223,
           128,
           0,
           0
          ],
          [
           0,
           0,
           0,
           0,
           0,
           0,
           84,
           249,
           253,
           140,
           225,
           253,
           253,
           213,
           34,
           0,
           0,
           0,
           0,
           0,
           63,
           80,
           80,
           80,
           75,
           0,
           0,
           0
          ],
          [
           0,
           0,
           0,
           0,
           0,
           0,
           191,
           253,
           253,
           253,
           253,
           247,
           205,
           34,
           0,
           0,
           0,
           0,
           0,
           0,
           0,
           0,
           0,
           0,
           0,
           0,
           0,
           0
          ],
          [
           0,
           0,
           0,
           0,
           0,
           0,
           51,
           233,
           240,
           240,
           204,
           84,
           0,
           0,
           0,
           0,
           0,
           0,
           0,
           0,
           0,
           0,
           0,
           0,
           0,
           0,
           0,
           0
          ],
          [
           0,
           0,
           0,
           0,
           0,
           0,
           0,
           0,
           0,
           0,
           0,
           0,
           0,
           0,
           0,
           0,
           0,
           0,
           0,
           0,
           0,
           0,
           0,
           0,
           0,
           0,
           0,
           0
          ],
          [
           0,
           0,
           0,
           0,
           0,
           0,
           0,
           0,
           0,
           0,
           0,
           0,
           0,
           0,
           0,
           0,
           0,
           0,
           0,
           0,
           0,
           0,
           0,
           0,
           0,
           0,
           0,
           0
          ],
          [
           0,
           0,
           0,
           0,
           0,
           0,
           0,
           0,
           0,
           0,
           0,
           0,
           0,
           0,
           0,
           0,
           0,
           0,
           0,
           0,
           0,
           0,
           0,
           0,
           0,
           0,
           0,
           0
          ],
          [
           0,
           0,
           0,
           0,
           0,
           0,
           0,
           0,
           0,
           0,
           0,
           0,
           0,
           0,
           0,
           0,
           0,
           0,
           0,
           0,
           0,
           0,
           0,
           0,
           0,
           0,
           0,
           0
          ],
          [
           0,
           0,
           0,
           0,
           0,
           0,
           0,
           0,
           0,
           0,
           0,
           0,
           0,
           0,
           0,
           0,
           0,
           0,
           0,
           0,
           0,
           0,
           0,
           0,
           0,
           0,
           0,
           0
          ],
          [
           0,
           0,
           0,
           0,
           0,
           0,
           0,
           0,
           0,
           0,
           0,
           0,
           0,
           0,
           0,
           0,
           0,
           0,
           0,
           0,
           0,
           0,
           0,
           0,
           0,
           0,
           0,
           0
          ]
         ]
        },
        {
         "mode": "lines",
         "type": "scatter",
         "x": [
          10,
          10,
          11,
          12,
          13,
          13,
          12,
          11,
          10
         ],
         "y": [
          11,
          12,
          12,
          12,
          11,
          10,
          10,
          10,
          11
         ]
        },
        {
         "mode": "lines",
         "type": "scatter",
         "x": [
          10,
          10,
          9,
          10
         ],
         "y": [
          11,
          12,
          12,
          11
         ]
        },
        {
         "mode": "lines",
         "type": "scatter",
         "x": [
          14,
          14,
          15,
          16,
          16,
          15,
          14
         ],
         "y": [
          14,
          15,
          15,
          14,
          13,
          13,
          14
         ]
        },
        {
         "mode": "lines",
         "type": "scatter",
         "x": [
          17,
          17,
          18,
          17
         ],
         "y": [
          11,
          12,
          11,
          11
         ]
        }
       ],
       "layout": {
        "coloraxis": {
         "colorscale": [
          [
           0,
           "rgb(0, 0, 0)"
          ],
          [
           0.09090909090909091,
           "rgb(16, 16, 16)"
          ],
          [
           0.18181818181818182,
           "rgb(38, 38, 38)"
          ],
          [
           0.2727272727272727,
           "rgb(59, 59, 59)"
          ],
          [
           0.36363636363636365,
           "rgb(81, 80, 80)"
          ],
          [
           0.45454545454545453,
           "rgb(102, 101, 101)"
          ],
          [
           0.5454545454545454,
           "rgb(124, 123, 122)"
          ],
          [
           0.6363636363636364,
           "rgb(146, 146, 145)"
          ],
          [
           0.7272727272727273,
           "rgb(171, 171, 170)"
          ],
          [
           0.8181818181818182,
           "rgb(197, 197, 195)"
          ],
          [
           0.9090909090909091,
           "rgb(224, 224, 223)"
          ],
          [
           1,
           "rgb(254, 254, 253)"
          ]
         ],
         "showscale": false
        },
        "height": 400,
        "margin": {
         "t": 60
        },
        "template": {
         "data": {
          "bar": [
           {
            "error_x": {
             "color": "#2a3f5f"
            },
            "error_y": {
             "color": "#2a3f5f"
            },
            "marker": {
             "line": {
              "color": "#E5ECF6",
              "width": 0.5
             }
            },
            "type": "bar"
           }
          ],
          "barpolar": [
           {
            "marker": {
             "line": {
              "color": "#E5ECF6",
              "width": 0.5
             }
            },
            "type": "barpolar"
           }
          ],
          "carpet": [
           {
            "aaxis": {
             "endlinecolor": "#2a3f5f",
             "gridcolor": "white",
             "linecolor": "white",
             "minorgridcolor": "white",
             "startlinecolor": "#2a3f5f"
            },
            "baxis": {
             "endlinecolor": "#2a3f5f",
             "gridcolor": "white",
             "linecolor": "white",
             "minorgridcolor": "white",
             "startlinecolor": "#2a3f5f"
            },
            "type": "carpet"
           }
          ],
          "choropleth": [
           {
            "colorbar": {
             "outlinewidth": 0,
             "ticks": ""
            },
            "type": "choropleth"
           }
          ],
          "contour": [
           {
            "colorbar": {
             "outlinewidth": 0,
             "ticks": ""
            },
            "colorscale": [
             [
              0,
              "#0d0887"
             ],
             [
              0.1111111111111111,
              "#46039f"
             ],
             [
              0.2222222222222222,
              "#7201a8"
             ],
             [
              0.3333333333333333,
              "#9c179e"
             ],
             [
              0.4444444444444444,
              "#bd3786"
             ],
             [
              0.5555555555555556,
              "#d8576b"
             ],
             [
              0.6666666666666666,
              "#ed7953"
             ],
             [
              0.7777777777777778,
              "#fb9f3a"
             ],
             [
              0.8888888888888888,
              "#fdca26"
             ],
             [
              1,
              "#f0f921"
             ]
            ],
            "type": "contour"
           }
          ],
          "contourcarpet": [
           {
            "colorbar": {
             "outlinewidth": 0,
             "ticks": ""
            },
            "type": "contourcarpet"
           }
          ],
          "heatmap": [
           {
            "colorbar": {
             "outlinewidth": 0,
             "ticks": ""
            },
            "colorscale": [
             [
              0,
              "#0d0887"
             ],
             [
              0.1111111111111111,
              "#46039f"
             ],
             [
              0.2222222222222222,
              "#7201a8"
             ],
             [
              0.3333333333333333,
              "#9c179e"
             ],
             [
              0.4444444444444444,
              "#bd3786"
             ],
             [
              0.5555555555555556,
              "#d8576b"
             ],
             [
              0.6666666666666666,
              "#ed7953"
             ],
             [
              0.7777777777777778,
              "#fb9f3a"
             ],
             [
              0.8888888888888888,
              "#fdca26"
             ],
             [
              1,
              "#f0f921"
             ]
            ],
            "type": "heatmap"
           }
          ],
          "heatmapgl": [
           {
            "colorbar": {
             "outlinewidth": 0,
             "ticks": ""
            },
            "colorscale": [
             [
              0,
              "#0d0887"
             ],
             [
              0.1111111111111111,
              "#46039f"
             ],
             [
              0.2222222222222222,
              "#7201a8"
             ],
             [
              0.3333333333333333,
              "#9c179e"
             ],
             [
              0.4444444444444444,
              "#bd3786"
             ],
             [
              0.5555555555555556,
              "#d8576b"
             ],
             [
              0.6666666666666666,
              "#ed7953"
             ],
             [
              0.7777777777777778,
              "#fb9f3a"
             ],
             [
              0.8888888888888888,
              "#fdca26"
             ],
             [
              1,
              "#f0f921"
             ]
            ],
            "type": "heatmapgl"
           }
          ],
          "histogram": [
           {
            "marker": {
             "colorbar": {
              "outlinewidth": 0,
              "ticks": ""
             }
            },
            "type": "histogram"
           }
          ],
          "histogram2d": [
           {
            "colorbar": {
             "outlinewidth": 0,
             "ticks": ""
            },
            "colorscale": [
             [
              0,
              "#0d0887"
             ],
             [
              0.1111111111111111,
              "#46039f"
             ],
             [
              0.2222222222222222,
              "#7201a8"
             ],
             [
              0.3333333333333333,
              "#9c179e"
             ],
             [
              0.4444444444444444,
              "#bd3786"
             ],
             [
              0.5555555555555556,
              "#d8576b"
             ],
             [
              0.6666666666666666,
              "#ed7953"
             ],
             [
              0.7777777777777778,
              "#fb9f3a"
             ],
             [
              0.8888888888888888,
              "#fdca26"
             ],
             [
              1,
              "#f0f921"
             ]
            ],
            "type": "histogram2d"
           }
          ],
          "histogram2dcontour": [
           {
            "colorbar": {
             "outlinewidth": 0,
             "ticks": ""
            },
            "colorscale": [
             [
              0,
              "#0d0887"
             ],
             [
              0.1111111111111111,
              "#46039f"
             ],
             [
              0.2222222222222222,
              "#7201a8"
             ],
             [
              0.3333333333333333,
              "#9c179e"
             ],
             [
              0.4444444444444444,
              "#bd3786"
             ],
             [
              0.5555555555555556,
              "#d8576b"
             ],
             [
              0.6666666666666666,
              "#ed7953"
             ],
             [
              0.7777777777777778,
              "#fb9f3a"
             ],
             [
              0.8888888888888888,
              "#fdca26"
             ],
             [
              1,
              "#f0f921"
             ]
            ],
            "type": "histogram2dcontour"
           }
          ],
          "mesh3d": [
           {
            "colorbar": {
             "outlinewidth": 0,
             "ticks": ""
            },
            "type": "mesh3d"
           }
          ],
          "parcoords": [
           {
            "line": {
             "colorbar": {
              "outlinewidth": 0,
              "ticks": ""
             }
            },
            "type": "parcoords"
           }
          ],
          "pie": [
           {
            "automargin": true,
            "type": "pie"
           }
          ],
          "scatter": [
           {
            "marker": {
             "colorbar": {
              "outlinewidth": 0,
              "ticks": ""
             }
            },
            "type": "scatter"
           }
          ],
          "scatter3d": [
           {
            "line": {
             "colorbar": {
              "outlinewidth": 0,
              "ticks": ""
             }
            },
            "marker": {
             "colorbar": {
              "outlinewidth": 0,
              "ticks": ""
             }
            },
            "type": "scatter3d"
           }
          ],
          "scattercarpet": [
           {
            "marker": {
             "colorbar": {
              "outlinewidth": 0,
              "ticks": ""
             }
            },
            "type": "scattercarpet"
           }
          ],
          "scattergeo": [
           {
            "marker": {
             "colorbar": {
              "outlinewidth": 0,
              "ticks": ""
             }
            },
            "type": "scattergeo"
           }
          ],
          "scattergl": [
           {
            "marker": {
             "colorbar": {
              "outlinewidth": 0,
              "ticks": ""
             }
            },
            "type": "scattergl"
           }
          ],
          "scattermapbox": [
           {
            "marker": {
             "colorbar": {
              "outlinewidth": 0,
              "ticks": ""
             }
            },
            "type": "scattermapbox"
           }
          ],
          "scatterpolar": [
           {
            "marker": {
             "colorbar": {
              "outlinewidth": 0,
              "ticks": ""
             }
            },
            "type": "scatterpolar"
           }
          ],
          "scatterpolargl": [
           {
            "marker": {
             "colorbar": {
              "outlinewidth": 0,
              "ticks": ""
             }
            },
            "type": "scatterpolargl"
           }
          ],
          "scatterternary": [
           {
            "marker": {
             "colorbar": {
              "outlinewidth": 0,
              "ticks": ""
             }
            },
            "type": "scatterternary"
           }
          ],
          "surface": [
           {
            "colorbar": {
             "outlinewidth": 0,
             "ticks": ""
            },
            "colorscale": [
             [
              0,
              "#0d0887"
             ],
             [
              0.1111111111111111,
              "#46039f"
             ],
             [
              0.2222222222222222,
              "#7201a8"
             ],
             [
              0.3333333333333333,
              "#9c179e"
             ],
             [
              0.4444444444444444,
              "#bd3786"
             ],
             [
              0.5555555555555556,
              "#d8576b"
             ],
             [
              0.6666666666666666,
              "#ed7953"
             ],
             [
              0.7777777777777778,
              "#fb9f3a"
             ],
             [
              0.8888888888888888,
              "#fdca26"
             ],
             [
              1,
              "#f0f921"
             ]
            ],
            "type": "surface"
           }
          ],
          "table": [
           {
            "cells": {
             "fill": {
              "color": "#EBF0F8"
             },
             "line": {
              "color": "white"
             }
            },
            "header": {
             "fill": {
              "color": "#C8D4E3"
             },
             "line": {
              "color": "white"
             }
            },
            "type": "table"
           }
          ]
         },
         "layout": {
          "annotationdefaults": {
           "arrowcolor": "#2a3f5f",
           "arrowhead": 0,
           "arrowwidth": 1
          },
          "autotypenumbers": "strict",
          "coloraxis": {
           "colorbar": {
            "outlinewidth": 0,
            "ticks": ""
           }
          },
          "colorscale": {
           "diverging": [
            [
             0,
             "#8e0152"
            ],
            [
             0.1,
             "#c51b7d"
            ],
            [
             0.2,
             "#de77ae"
            ],
            [
             0.3,
             "#f1b6da"
            ],
            [
             0.4,
             "#fde0ef"
            ],
            [
             0.5,
             "#f7f7f7"
            ],
            [
             0.6,
             "#e6f5d0"
            ],
            [
             0.7,
             "#b8e186"
            ],
            [
             0.8,
             "#7fbc41"
            ],
            [
             0.9,
             "#4d9221"
            ],
            [
             1,
             "#276419"
            ]
           ],
           "sequential": [
            [
             0,
             "#0d0887"
            ],
            [
             0.1111111111111111,
             "#46039f"
            ],
            [
             0.2222222222222222,
             "#7201a8"
            ],
            [
             0.3333333333333333,
             "#9c179e"
            ],
            [
             0.4444444444444444,
             "#bd3786"
            ],
            [
             0.5555555555555556,
             "#d8576b"
            ],
            [
             0.6666666666666666,
             "#ed7953"
            ],
            [
             0.7777777777777778,
             "#fb9f3a"
            ],
            [
             0.8888888888888888,
             "#fdca26"
            ],
            [
             1,
             "#f0f921"
            ]
           ],
           "sequentialminus": [
            [
             0,
             "#0d0887"
            ],
            [
             0.1111111111111111,
             "#46039f"
            ],
            [
             0.2222222222222222,
             "#7201a8"
            ],
            [
             0.3333333333333333,
             "#9c179e"
            ],
            [
             0.4444444444444444,
             "#bd3786"
            ],
            [
             0.5555555555555556,
             "#d8576b"
            ],
            [
             0.6666666666666666,
             "#ed7953"
            ],
            [
             0.7777777777777778,
             "#fb9f3a"
            ],
            [
             0.8888888888888888,
             "#fdca26"
            ],
            [
             1,
             "#f0f921"
            ]
           ]
          },
          "colorway": [
           "#636efa",
           "#EF553B",
           "#00cc96",
           "#ab63fa",
           "#FFA15A",
           "#19d3f3",
           "#FF6692",
           "#B6E880",
           "#FF97FF",
           "#FECB52"
          ],
          "font": {
           "color": "#2a3f5f"
          },
          "geo": {
           "bgcolor": "white",
           "lakecolor": "white",
           "landcolor": "#E5ECF6",
           "showlakes": true,
           "showland": true,
           "subunitcolor": "white"
          },
          "hoverlabel": {
           "align": "left"
          },
          "hovermode": "closest",
          "mapbox": {
           "style": "light"
          },
          "paper_bgcolor": "white",
          "plot_bgcolor": "#E5ECF6",
          "polar": {
           "angularaxis": {
            "gridcolor": "white",
            "linecolor": "white",
            "ticks": ""
           },
           "bgcolor": "#E5ECF6",
           "radialaxis": {
            "gridcolor": "white",
            "linecolor": "white",
            "ticks": ""
           }
          },
          "scene": {
           "xaxis": {
            "backgroundcolor": "#E5ECF6",
            "gridcolor": "white",
            "gridwidth": 2,
            "linecolor": "white",
            "showbackground": true,
            "ticks": "",
            "zerolinecolor": "white"
           },
           "yaxis": {
            "backgroundcolor": "#E5ECF6",
            "gridcolor": "white",
            "gridwidth": 2,
            "linecolor": "white",
            "showbackground": true,
            "ticks": "",
            "zerolinecolor": "white"
           },
           "zaxis": {
            "backgroundcolor": "#E5ECF6",
            "gridcolor": "white",
            "gridwidth": 2,
            "linecolor": "white",
            "showbackground": true,
            "ticks": "",
            "zerolinecolor": "white"
           }
          },
          "shapedefaults": {
           "line": {
            "color": "#2a3f5f"
           }
          },
          "ternary": {
           "aaxis": {
            "gridcolor": "white",
            "linecolor": "white",
            "ticks": ""
           },
           "baxis": {
            "gridcolor": "white",
            "linecolor": "white",
            "ticks": ""
           },
           "bgcolor": "#E5ECF6",
           "caxis": {
            "gridcolor": "white",
            "linecolor": "white",
            "ticks": ""
           }
          },
          "title": {
           "x": 0.05
          },
          "xaxis": {
           "automargin": true,
           "gridcolor": "white",
           "linecolor": "white",
           "ticks": "",
           "title": {
            "standoff": 15
           },
           "zerolinecolor": "white",
           "zerolinewidth": 2
          },
          "yaxis": {
           "automargin": true,
           "gridcolor": "white",
           "linecolor": "white",
           "ticks": "",
           "title": {
            "standoff": 15
           },
           "zerolinecolor": "white",
           "zerolinewidth": 2
          }
         }
        },
        "title": {
         "text": "Digit 2 - Cycle file 208_cycles.vtk"
        },
        "width": 400,
        "xaxis": {
         "anchor": "y",
         "constrain": "domain",
         "domain": [
          0,
          1
         ],
         "scaleanchor": "y",
         "showticklabels": false
        },
        "yaxis": {
         "anchor": "x",
         "autorange": "reversed",
         "constrain": "domain",
         "domain": [
          0,
          1
         ],
         "showticklabels": false
        }
       }
      },
      "text/html": [
       "<div>                            <div id=\"0588d665-1a50-4333-8db8-0c0c6352f400\" class=\"plotly-graph-div\" style=\"height:400px; width:400px;\"></div>            <script type=\"text/javascript\">                require([\"plotly\"], function(Plotly) {                    window.PLOTLYENV=window.PLOTLYENV || {};                                    if (document.getElementById(\"0588d665-1a50-4333-8db8-0c0c6352f400\")) {                    Plotly.newPlot(                        \"0588d665-1a50-4333-8db8-0c0c6352f400\",                        [{\"coloraxis\": \"coloraxis\", \"hovertemplate\": \"x: %{x}<br>y: %{y}<br>color: %{z}<extra></extra>\", \"name\": \"0\", \"type\": \"heatmap\", \"xaxis\": \"x\", \"yaxis\": \"y\", \"z\": [[0, 0, 0, 0, 0, 0, 0, 0, 0, 0, 0, 0, 0, 0, 0, 0, 0, 0, 0, 0, 0, 0, 0, 0, 0, 0, 0, 0], [0, 0, 0, 0, 0, 0, 0, 0, 0, 0, 0, 0, 0, 0, 0, 0, 0, 0, 0, 0, 0, 0, 0, 0, 0, 0, 0, 0], [0, 0, 0, 0, 0, 0, 0, 0, 0, 0, 0, 0, 0, 0, 0, 0, 0, 0, 0, 0, 0, 0, 0, 0, 0, 0, 0, 0], [0, 0, 0, 0, 0, 0, 0, 0, 0, 0, 0, 0, 0, 0, 0, 0, 0, 0, 0, 0, 0, 0, 0, 0, 0, 0, 0, 0], [0, 0, 0, 0, 0, 0, 0, 0, 0, 0, 0, 23, 108, 122, 163, 178, 171, 184, 11, 0, 0, 0, 0, 0, 0, 0, 0, 0], [0, 0, 0, 0, 0, 0, 0, 0, 0, 0, 25, 198, 253, 253, 253, 253, 255, 253, 181, 15, 0, 0, 0, 0, 0, 0, 0, 0], [0, 0, 0, 0, 0, 0, 0, 0, 0, 0, 68, 253, 253, 245, 96, 39, 40, 200, 253, 39, 0, 0, 0, 0, 0, 0, 0, 0], [0, 0, 0, 0, 0, 0, 0, 0, 0, 0, 50, 158, 124, 47, 0, 0, 0, 23, 233, 145, 0, 0, 0, 0, 0, 0, 0, 0], [0, 0, 0, 0, 0, 0, 0, 0, 0, 0, 0, 0, 0, 0, 0, 0, 0, 0, 228, 173, 0, 0, 0, 0, 0, 0, 0, 0], [0, 0, 0, 0, 0, 0, 0, 0, 0, 0, 0, 0, 0, 0, 0, 0, 0, 0, 228, 173, 0, 0, 0, 0, 0, 0, 0, 0], [0, 0, 0, 0, 0, 0, 0, 0, 0, 0, 0, 0, 0, 0, 0, 0, 0, 69, 244, 88, 0, 0, 0, 0, 0, 0, 0, 0], [0, 0, 0, 0, 0, 0, 0, 0, 0, 0, 0, 0, 0, 0, 0, 0, 0, 185, 248, 37, 0, 0, 0, 0, 0, 0, 0, 0], [0, 0, 0, 0, 0, 0, 0, 0, 0, 0, 0, 0, 0, 0, 0, 0, 0, 241, 159, 0, 0, 0, 0, 0, 0, 0, 0, 0], [0, 0, 0, 0, 0, 0, 0, 0, 0, 0, 0, 0, 0, 0, 0, 0, 58, 248, 97, 0, 0, 0, 0, 0, 0, 0, 0, 0], [0, 0, 0, 0, 0, 0, 0, 0, 0, 0, 0, 0, 0, 0, 0, 0, 177, 208, 15, 0, 0, 0, 0, 0, 0, 0, 0, 0], [0, 0, 0, 0, 0, 0, 0, 0, 0, 0, 50, 70, 94, 94, 94, 164, 254, 146, 0, 0, 0, 0, 0, 0, 0, 0, 0, 0], [0, 0, 0, 0, 0, 0, 0, 0, 30, 194, 235, 243, 253, 253, 253, 253, 254, 237, 165, 81, 17, 0, 0, 0, 0, 0, 0, 0], [0, 0, 0, 0, 0, 0, 0, 86, 220, 253, 253, 253, 253, 253, 253, 253, 254, 253, 253, 253, 212, 158, 11, 25, 40, 68, 0, 0], [0, 0, 0, 0, 0, 0, 0, 135, 253, 253, 253, 253, 253, 253, 222, 199, 201, 199, 199, 199, 242, 239, 198, 211, 223, 128, 0, 0], [0, 0, 0, 0, 0, 0, 84, 249, 253, 140, 225, 253, 253, 213, 34, 0, 0, 0, 0, 0, 63, 80, 80, 80, 75, 0, 0, 0], [0, 0, 0, 0, 0, 0, 191, 253, 253, 253, 253, 247, 205, 34, 0, 0, 0, 0, 0, 0, 0, 0, 0, 0, 0, 0, 0, 0], [0, 0, 0, 0, 0, 0, 51, 233, 240, 240, 204, 84, 0, 0, 0, 0, 0, 0, 0, 0, 0, 0, 0, 0, 0, 0, 0, 0], [0, 0, 0, 0, 0, 0, 0, 0, 0, 0, 0, 0, 0, 0, 0, 0, 0, 0, 0, 0, 0, 0, 0, 0, 0, 0, 0, 0], [0, 0, 0, 0, 0, 0, 0, 0, 0, 0, 0, 0, 0, 0, 0, 0, 0, 0, 0, 0, 0, 0, 0, 0, 0, 0, 0, 0], [0, 0, 0, 0, 0, 0, 0, 0, 0, 0, 0, 0, 0, 0, 0, 0, 0, 0, 0, 0, 0, 0, 0, 0, 0, 0, 0, 0], [0, 0, 0, 0, 0, 0, 0, 0, 0, 0, 0, 0, 0, 0, 0, 0, 0, 0, 0, 0, 0, 0, 0, 0, 0, 0, 0, 0], [0, 0, 0, 0, 0, 0, 0, 0, 0, 0, 0, 0, 0, 0, 0, 0, 0, 0, 0, 0, 0, 0, 0, 0, 0, 0, 0, 0], [0, 0, 0, 0, 0, 0, 0, 0, 0, 0, 0, 0, 0, 0, 0, 0, 0, 0, 0, 0, 0, 0, 0, 0, 0, 0, 0, 0]]}, {\"mode\": \"lines\", \"type\": \"scatter\", \"x\": [10.0, 10.0, 11.0, 12.0, 13.0, 13.0, 12.0, 11.0, 10.0], \"y\": [11.0, 12.0, 12.0, 12.0, 11.0, 10.0, 10.0, 10.0, 11.0]}, {\"mode\": \"lines\", \"type\": \"scatter\", \"x\": [10.0, 10.0, 9.0, 10.0], \"y\": [11.0, 12.0, 12.0, 11.0]}, {\"mode\": \"lines\", \"type\": \"scatter\", \"x\": [14.0, 14.0, 15.0, 16.0, 16.0, 15.0, 14.0], \"y\": [14.0, 15.0, 15.0, 14.0, 13.0, 13.0, 14.0]}, {\"mode\": \"lines\", \"type\": \"scatter\", \"x\": [17.0, 17.0, 18.0, 17.0], \"y\": [11.0, 12.0, 11.0, 11.0]}],                        {\"coloraxis\": {\"colorscale\": [[0.0, \"rgb(0, 0, 0)\"], [0.09090909090909091, \"rgb(16, 16, 16)\"], [0.18181818181818182, \"rgb(38, 38, 38)\"], [0.2727272727272727, \"rgb(59, 59, 59)\"], [0.36363636363636365, \"rgb(81, 80, 80)\"], [0.45454545454545453, \"rgb(102, 101, 101)\"], [0.5454545454545454, \"rgb(124, 123, 122)\"], [0.6363636363636364, \"rgb(146, 146, 145)\"], [0.7272727272727273, \"rgb(171, 171, 170)\"], [0.8181818181818182, \"rgb(197, 197, 195)\"], [0.9090909090909091, \"rgb(224, 224, 223)\"], [1.0, \"rgb(254, 254, 253)\"]], \"showscale\": false}, \"height\": 400, \"margin\": {\"t\": 60}, \"template\": {\"data\": {\"bar\": [{\"error_x\": {\"color\": \"#2a3f5f\"}, \"error_y\": {\"color\": \"#2a3f5f\"}, \"marker\": {\"line\": {\"color\": \"#E5ECF6\", \"width\": 0.5}}, \"type\": \"bar\"}], \"barpolar\": [{\"marker\": {\"line\": {\"color\": \"#E5ECF6\", \"width\": 0.5}}, \"type\": \"barpolar\"}], \"carpet\": [{\"aaxis\": {\"endlinecolor\": \"#2a3f5f\", \"gridcolor\": \"white\", \"linecolor\": \"white\", \"minorgridcolor\": \"white\", \"startlinecolor\": \"#2a3f5f\"}, \"baxis\": {\"endlinecolor\": \"#2a3f5f\", \"gridcolor\": \"white\", \"linecolor\": \"white\", \"minorgridcolor\": \"white\", \"startlinecolor\": \"#2a3f5f\"}, \"type\": \"carpet\"}], \"choropleth\": [{\"colorbar\": {\"outlinewidth\": 0, \"ticks\": \"\"}, \"type\": \"choropleth\"}], \"contour\": [{\"colorbar\": {\"outlinewidth\": 0, \"ticks\": \"\"}, \"colorscale\": [[0.0, \"#0d0887\"], [0.1111111111111111, \"#46039f\"], [0.2222222222222222, \"#7201a8\"], [0.3333333333333333, \"#9c179e\"], [0.4444444444444444, \"#bd3786\"], [0.5555555555555556, \"#d8576b\"], [0.6666666666666666, \"#ed7953\"], [0.7777777777777778, \"#fb9f3a\"], [0.8888888888888888, \"#fdca26\"], [1.0, \"#f0f921\"]], \"type\": \"contour\"}], \"contourcarpet\": [{\"colorbar\": {\"outlinewidth\": 0, \"ticks\": \"\"}, \"type\": \"contourcarpet\"}], \"heatmap\": [{\"colorbar\": {\"outlinewidth\": 0, \"ticks\": \"\"}, \"colorscale\": [[0.0, \"#0d0887\"], [0.1111111111111111, \"#46039f\"], [0.2222222222222222, \"#7201a8\"], [0.3333333333333333, \"#9c179e\"], [0.4444444444444444, \"#bd3786\"], [0.5555555555555556, \"#d8576b\"], [0.6666666666666666, \"#ed7953\"], [0.7777777777777778, \"#fb9f3a\"], [0.8888888888888888, \"#fdca26\"], [1.0, \"#f0f921\"]], \"type\": \"heatmap\"}], \"heatmapgl\": [{\"colorbar\": {\"outlinewidth\": 0, \"ticks\": \"\"}, \"colorscale\": [[0.0, \"#0d0887\"], [0.1111111111111111, \"#46039f\"], [0.2222222222222222, \"#7201a8\"], [0.3333333333333333, \"#9c179e\"], [0.4444444444444444, \"#bd3786\"], [0.5555555555555556, \"#d8576b\"], [0.6666666666666666, \"#ed7953\"], [0.7777777777777778, \"#fb9f3a\"], [0.8888888888888888, \"#fdca26\"], [1.0, \"#f0f921\"]], \"type\": \"heatmapgl\"}], \"histogram\": [{\"marker\": {\"colorbar\": {\"outlinewidth\": 0, \"ticks\": \"\"}}, \"type\": \"histogram\"}], \"histogram2d\": [{\"colorbar\": {\"outlinewidth\": 0, \"ticks\": \"\"}, \"colorscale\": [[0.0, \"#0d0887\"], [0.1111111111111111, \"#46039f\"], [0.2222222222222222, \"#7201a8\"], [0.3333333333333333, \"#9c179e\"], [0.4444444444444444, \"#bd3786\"], [0.5555555555555556, \"#d8576b\"], [0.6666666666666666, \"#ed7953\"], [0.7777777777777778, \"#fb9f3a\"], [0.8888888888888888, \"#fdca26\"], [1.0, \"#f0f921\"]], \"type\": \"histogram2d\"}], \"histogram2dcontour\": [{\"colorbar\": {\"outlinewidth\": 0, \"ticks\": \"\"}, \"colorscale\": [[0.0, \"#0d0887\"], [0.1111111111111111, \"#46039f\"], [0.2222222222222222, \"#7201a8\"], [0.3333333333333333, \"#9c179e\"], [0.4444444444444444, \"#bd3786\"], [0.5555555555555556, \"#d8576b\"], [0.6666666666666666, \"#ed7953\"], [0.7777777777777778, \"#fb9f3a\"], [0.8888888888888888, \"#fdca26\"], [1.0, \"#f0f921\"]], \"type\": \"histogram2dcontour\"}], \"mesh3d\": [{\"colorbar\": {\"outlinewidth\": 0, \"ticks\": \"\"}, \"type\": \"mesh3d\"}], \"parcoords\": [{\"line\": {\"colorbar\": {\"outlinewidth\": 0, \"ticks\": \"\"}}, \"type\": \"parcoords\"}], \"pie\": [{\"automargin\": true, \"type\": \"pie\"}], \"scatter\": [{\"marker\": {\"colorbar\": {\"outlinewidth\": 0, \"ticks\": \"\"}}, \"type\": \"scatter\"}], \"scatter3d\": [{\"line\": {\"colorbar\": {\"outlinewidth\": 0, \"ticks\": \"\"}}, \"marker\": {\"colorbar\": {\"outlinewidth\": 0, \"ticks\": \"\"}}, \"type\": \"scatter3d\"}], \"scattercarpet\": [{\"marker\": {\"colorbar\": {\"outlinewidth\": 0, \"ticks\": \"\"}}, \"type\": \"scattercarpet\"}], \"scattergeo\": [{\"marker\": {\"colorbar\": {\"outlinewidth\": 0, \"ticks\": \"\"}}, \"type\": \"scattergeo\"}], \"scattergl\": [{\"marker\": {\"colorbar\": {\"outlinewidth\": 0, \"ticks\": \"\"}}, \"type\": \"scattergl\"}], \"scattermapbox\": [{\"marker\": {\"colorbar\": {\"outlinewidth\": 0, \"ticks\": \"\"}}, \"type\": \"scattermapbox\"}], \"scatterpolar\": [{\"marker\": {\"colorbar\": {\"outlinewidth\": 0, \"ticks\": \"\"}}, \"type\": \"scatterpolar\"}], \"scatterpolargl\": [{\"marker\": {\"colorbar\": {\"outlinewidth\": 0, \"ticks\": \"\"}}, \"type\": \"scatterpolargl\"}], \"scatterternary\": [{\"marker\": {\"colorbar\": {\"outlinewidth\": 0, \"ticks\": \"\"}}, \"type\": \"scatterternary\"}], \"surface\": [{\"colorbar\": {\"outlinewidth\": 0, \"ticks\": \"\"}, \"colorscale\": [[0.0, \"#0d0887\"], [0.1111111111111111, \"#46039f\"], [0.2222222222222222, \"#7201a8\"], [0.3333333333333333, \"#9c179e\"], [0.4444444444444444, \"#bd3786\"], [0.5555555555555556, \"#d8576b\"], [0.6666666666666666, \"#ed7953\"], [0.7777777777777778, \"#fb9f3a\"], [0.8888888888888888, \"#fdca26\"], [1.0, \"#f0f921\"]], \"type\": \"surface\"}], \"table\": [{\"cells\": {\"fill\": {\"color\": \"#EBF0F8\"}, \"line\": {\"color\": \"white\"}}, \"header\": {\"fill\": {\"color\": \"#C8D4E3\"}, \"line\": {\"color\": \"white\"}}, \"type\": \"table\"}]}, \"layout\": {\"annotationdefaults\": {\"arrowcolor\": \"#2a3f5f\", \"arrowhead\": 0, \"arrowwidth\": 1}, \"autotypenumbers\": \"strict\", \"coloraxis\": {\"colorbar\": {\"outlinewidth\": 0, \"ticks\": \"\"}}, \"colorscale\": {\"diverging\": [[0, \"#8e0152\"], [0.1, \"#c51b7d\"], [0.2, \"#de77ae\"], [0.3, \"#f1b6da\"], [0.4, \"#fde0ef\"], [0.5, \"#f7f7f7\"], [0.6, \"#e6f5d0\"], [0.7, \"#b8e186\"], [0.8, \"#7fbc41\"], [0.9, \"#4d9221\"], [1, \"#276419\"]], \"sequential\": [[0.0, \"#0d0887\"], [0.1111111111111111, \"#46039f\"], [0.2222222222222222, \"#7201a8\"], [0.3333333333333333, \"#9c179e\"], [0.4444444444444444, \"#bd3786\"], [0.5555555555555556, \"#d8576b\"], [0.6666666666666666, \"#ed7953\"], [0.7777777777777778, \"#fb9f3a\"], [0.8888888888888888, \"#fdca26\"], [1.0, \"#f0f921\"]], \"sequentialminus\": [[0.0, \"#0d0887\"], [0.1111111111111111, \"#46039f\"], [0.2222222222222222, \"#7201a8\"], [0.3333333333333333, \"#9c179e\"], [0.4444444444444444, \"#bd3786\"], [0.5555555555555556, \"#d8576b\"], [0.6666666666666666, \"#ed7953\"], [0.7777777777777778, \"#fb9f3a\"], [0.8888888888888888, \"#fdca26\"], [1.0, \"#f0f921\"]]}, \"colorway\": [\"#636efa\", \"#EF553B\", \"#00cc96\", \"#ab63fa\", \"#FFA15A\", \"#19d3f3\", \"#FF6692\", \"#B6E880\", \"#FF97FF\", \"#FECB52\"], \"font\": {\"color\": \"#2a3f5f\"}, \"geo\": {\"bgcolor\": \"white\", \"lakecolor\": \"white\", \"landcolor\": \"#E5ECF6\", \"showlakes\": true, \"showland\": true, \"subunitcolor\": \"white\"}, \"hoverlabel\": {\"align\": \"left\"}, \"hovermode\": \"closest\", \"mapbox\": {\"style\": \"light\"}, \"paper_bgcolor\": \"white\", \"plot_bgcolor\": \"#E5ECF6\", \"polar\": {\"angularaxis\": {\"gridcolor\": \"white\", \"linecolor\": \"white\", \"ticks\": \"\"}, \"bgcolor\": \"#E5ECF6\", \"radialaxis\": {\"gridcolor\": \"white\", \"linecolor\": \"white\", \"ticks\": \"\"}}, \"scene\": {\"xaxis\": {\"backgroundcolor\": \"#E5ECF6\", \"gridcolor\": \"white\", \"gridwidth\": 2, \"linecolor\": \"white\", \"showbackground\": true, \"ticks\": \"\", \"zerolinecolor\": \"white\"}, \"yaxis\": {\"backgroundcolor\": \"#E5ECF6\", \"gridcolor\": \"white\", \"gridwidth\": 2, \"linecolor\": \"white\", \"showbackground\": true, \"ticks\": \"\", \"zerolinecolor\": \"white\"}, \"zaxis\": {\"backgroundcolor\": \"#E5ECF6\", \"gridcolor\": \"white\", \"gridwidth\": 2, \"linecolor\": \"white\", \"showbackground\": true, \"ticks\": \"\", \"zerolinecolor\": \"white\"}}, \"shapedefaults\": {\"line\": {\"color\": \"#2a3f5f\"}}, \"ternary\": {\"aaxis\": {\"gridcolor\": \"white\", \"linecolor\": \"white\", \"ticks\": \"\"}, \"baxis\": {\"gridcolor\": \"white\", \"linecolor\": \"white\", \"ticks\": \"\"}, \"bgcolor\": \"#E5ECF6\", \"caxis\": {\"gridcolor\": \"white\", \"linecolor\": \"white\", \"ticks\": \"\"}}, \"title\": {\"x\": 0.05}, \"xaxis\": {\"automargin\": true, \"gridcolor\": \"white\", \"linecolor\": \"white\", \"ticks\": \"\", \"title\": {\"standoff\": 15}, \"zerolinecolor\": \"white\", \"zerolinewidth\": 2}, \"yaxis\": {\"automargin\": true, \"gridcolor\": \"white\", \"linecolor\": \"white\", \"ticks\": \"\", \"title\": {\"standoff\": 15}, \"zerolinecolor\": \"white\", \"zerolinewidth\": 2}}}, \"title\": {\"text\": \"Digit 2 - Cycle file 208_cycles.vtk\"}, \"width\": 400, \"xaxis\": {\"anchor\": \"y\", \"constrain\": \"domain\", \"domain\": [0.0, 1.0], \"scaleanchor\": \"y\", \"showticklabels\": false}, \"yaxis\": {\"anchor\": \"x\", \"autorange\": \"reversed\", \"constrain\": \"domain\", \"domain\": [0.0, 1.0], \"showticklabels\": false}},                        {\"responsive\": true}                    ).then(function(){\n",
       "                            \n",
       "var gd = document.getElementById('0588d665-1a50-4333-8db8-0c0c6352f400');\n",
       "var x = new MutationObserver(function (mutations, observer) {{\n",
       "        var display = window.getComputedStyle(gd).display;\n",
       "        if (!display || display === 'none') {{\n",
       "            console.log([gd, 'removed!']);\n",
       "            Plotly.purge(gd);\n",
       "            observer.disconnect();\n",
       "        }}\n",
       "}});\n",
       "\n",
       "// Listen for the removal of the full notebook cells\n",
       "var notebookContainer = gd.closest('#notebook-container');\n",
       "if (notebookContainer) {{\n",
       "    x.observe(notebookContainer, {childList: true});\n",
       "}}\n",
       "\n",
       "// Listen for the clearing of the current output cell\n",
       "var outputEl = gd.closest('.output');\n",
       "if (outputEl) {{\n",
       "    x.observe(outputEl, {childList: true});\n",
       "}}\n",
       "\n",
       "                        })                };                });            </script>        </div>"
      ]
     },
     "metadata": {},
     "output_type": "display_data"
    },
    {
     "name": "stdout",
     "output_type": "stream",
     "text": [
      "No cycles to visualize!\n"
     ]
    },
    {
     "data": {
      "application/vnd.plotly.v1+json": {
       "config": {
        "linkText": "Export to plot.ly",
        "plotlyServerURL": "https://plot.ly",
        "showLink": false
       },
       "data": [
        {
         "coloraxis": "coloraxis",
         "hovertemplate": "x: %{x}<br>y: %{y}<br>color: %{z}<extra></extra>",
         "name": "0",
         "type": "heatmap",
         "xaxis": "x",
         "yaxis": "y",
         "z": [
          [
           0,
           0,
           0,
           0,
           0,
           0,
           0,
           0,
           0,
           0,
           0,
           0,
           0,
           0,
           0,
           0,
           0,
           0,
           0,
           0,
           0,
           0,
           0,
           0,
           0,
           0,
           0,
           0
          ],
          [
           0,
           0,
           0,
           0,
           0,
           0,
           0,
           0,
           0,
           0,
           0,
           0,
           0,
           0,
           0,
           0,
           0,
           0,
           0,
           0,
           0,
           0,
           0,
           0,
           0,
           0,
           0,
           0
          ],
          [
           0,
           0,
           0,
           0,
           0,
           0,
           0,
           0,
           0,
           0,
           73,
           73,
           10,
           0,
           0,
           0,
           0,
           0,
           0,
           0,
           0,
           0,
           0,
           0,
           0,
           0,
           0,
           0
          ],
          [
           0,
           0,
           0,
           0,
           0,
           0,
           0,
           0,
           0,
           105,
           253,
           251,
           138,
           0,
           0,
           0,
           0,
           0,
           0,
           0,
           0,
           0,
           0,
           0,
           0,
           0,
           0,
           0
          ],
          [
           0,
           0,
           0,
           0,
           0,
           0,
           0,
           0,
           16,
           190,
           253,
           251,
           215,
           0,
           0,
           0,
           0,
           0,
           0,
           0,
           0,
           0,
           0,
           0,
           0,
           0,
           0,
           0
          ],
          [
           0,
           0,
           0,
           0,
           0,
           0,
           0,
           16,
           170,
           251,
           253,
           251,
           137,
           0,
           0,
           0,
           0,
           0,
           0,
           0,
           0,
           0,
           0,
           0,
           0,
           0,
           0,
           0
          ],
          [
           0,
           0,
           0,
           0,
           0,
           0,
           0,
           37,
           251,
           251,
           253,
           251,
           35,
           0,
           0,
           0,
           0,
           0,
           0,
           0,
           0,
           0,
           0,
           0,
           0,
           0,
           0,
           0
          ],
          [
           0,
           0,
           0,
           0,
           0,
           0,
           0,
           89,
           253,
           253,
           255,
           253,
           35,
           0,
           0,
           0,
           0,
           0,
           0,
           0,
           0,
           0,
           0,
           0,
           0,
           0,
           0,
           0
          ],
          [
           0,
           0,
           0,
           0,
           0,
           0,
           0,
           217,
           251,
           251,
           253,
           168,
           15,
           0,
           0,
           0,
           0,
           0,
           0,
           0,
           0,
           0,
           0,
           0,
           0,
           0,
           0,
           0
          ],
          [
           0,
           0,
           0,
           0,
           0,
           0,
           125,
           246,
           251,
           251,
           242,
           92,
           0,
           0,
           0,
           0,
           0,
           0,
           0,
           0,
           0,
           0,
           32,
           21,
           0,
           0,
           0,
           0
          ],
          [
           0,
           0,
           0,
           0,
           0,
           32,
           190,
           251,
           251,
           251,
           180,
           0,
           0,
           0,
           0,
           0,
           0,
           0,
           0,
           0,
           32,
           109,
           231,
           189,
           109,
           0,
           0,
           0
          ],
          [
           0,
           0,
           0,
           0,
           0,
           73,
           251,
           251,
           251,
           251,
           51,
           0,
           0,
           0,
           0,
           0,
           0,
           0,
           0,
           130,
           202,
           251,
           251,
           251,
           251,
           0,
           0,
           0
          ],
          [
           0,
           0,
           0,
           0,
           0,
           73,
           253,
           253,
           253,
           253,
           0,
           0,
           0,
           0,
           0,
           0,
           0,
           0,
           110,
           253,
           255,
           253,
           253,
           253,
           253,
           0,
           0,
           0
          ],
          [
           0,
           0,
           0,
           0,
           0,
           176,
           251,
           251,
           251,
           251,
           0,
           0,
           0,
           0,
           0,
           0,
           0,
           21,
           190,
           251,
           253,
           251,
           251,
           251,
           251,
           0,
           0,
           0
          ],
          [
           0,
           0,
           0,
           0,
           0,
           227,
           251,
           251,
           251,
           251,
           0,
           0,
           0,
           0,
           0,
           11,
           140,
           221,
           251,
           251,
           253,
           251,
           251,
           251,
           96,
           0,
           0,
           0
          ],
          [
           0,
           0,
           0,
           0,
           0,
           73,
           251,
           251,
           251,
           251,
           0,
           0,
           0,
           0,
           0,
           150,
           251,
           251,
           251,
           251,
           253,
           251,
           235,
           142,
           41,
           0,
           0,
           0
          ],
          [
           0,
           0,
           0,
           0,
           0,
           73,
           251,
           251,
           251,
           251,
           182,
           77,
           0,
           0,
           130,
           253,
           251,
           251,
           251,
           251,
           253,
           251,
           215,
           0,
           0,
           0,
           0,
           0
          ],
          [
           0,
           0,
           0,
           0,
           0,
           53,
           180,
           243,
           253,
           253,
           255,
           253,
           253,
           253,
           253,
           255,
           253,
           253,
           253,
           253,
           255,
           253,
           35,
           0,
           0,
           0,
           0,
           0
          ],
          [
           0,
           0,
           0,
           0,
           0,
           0,
           0,
           113,
           251,
           251,
           253,
           251,
           251,
           251,
           251,
           253,
           251,
           251,
           251,
           251,
           211,
           107,
           15,
           0,
           0,
           0,
           0,
           0
          ],
          [
           0,
           0,
           0,
           0,
           0,
           0,
           0,
           5,
           113,
           215,
           253,
           251,
           251,
           251,
           251,
           253,
           251,
           251,
           251,
           96,
           25,
           0,
           0,
           0,
           0,
           0,
           0,
           0
          ],
          [
           0,
           0,
           0,
           0,
           0,
           0,
           0,
           0,
           0,
           0,
           143,
           205,
           235,
           189,
           251,
           253,
           188,
           142,
           142,
           41,
           0,
           0,
           0,
           0,
           0,
           0,
           0,
           0
          ],
          [
           0,
           0,
           0,
           0,
           0,
           0,
           0,
           0,
           0,
           0,
           0,
           41,
           61,
           31,
           71,
           72,
           30,
           0,
           0,
           0,
           0,
           0,
           0,
           0,
           0,
           0,
           0,
           0
          ],
          [
           0,
           0,
           0,
           0,
           0,
           0,
           0,
           0,
           0,
           0,
           0,
           0,
           0,
           0,
           0,
           0,
           0,
           0,
           0,
           0,
           0,
           0,
           0,
           0,
           0,
           0,
           0,
           0
          ],
          [
           0,
           0,
           0,
           0,
           0,
           0,
           0,
           0,
           0,
           0,
           0,
           0,
           0,
           0,
           0,
           0,
           0,
           0,
           0,
           0,
           0,
           0,
           0,
           0,
           0,
           0,
           0,
           0
          ],
          [
           0,
           0,
           0,
           0,
           0,
           0,
           0,
           0,
           0,
           0,
           0,
           0,
           0,
           0,
           0,
           0,
           0,
           0,
           0,
           0,
           0,
           0,
           0,
           0,
           0,
           0,
           0,
           0
          ],
          [
           0,
           0,
           0,
           0,
           0,
           0,
           0,
           0,
           0,
           0,
           0,
           0,
           0,
           0,
           0,
           0,
           0,
           0,
           0,
           0,
           0,
           0,
           0,
           0,
           0,
           0,
           0,
           0
          ],
          [
           0,
           0,
           0,
           0,
           0,
           0,
           0,
           0,
           0,
           0,
           0,
           0,
           0,
           0,
           0,
           0,
           0,
           0,
           0,
           0,
           0,
           0,
           0,
           0,
           0,
           0,
           0,
           0
          ],
          [
           0,
           0,
           0,
           0,
           0,
           0,
           0,
           0,
           0,
           0,
           0,
           0,
           0,
           0,
           0,
           0,
           0,
           0,
           0,
           0,
           0,
           0,
           0,
           0,
           0,
           0,
           0,
           0
          ]
         ]
        }
       ],
       "layout": {
        "coloraxis": {
         "colorscale": [
          [
           0,
           "rgb(0, 0, 0)"
          ],
          [
           0.09090909090909091,
           "rgb(16, 16, 16)"
          ],
          [
           0.18181818181818182,
           "rgb(38, 38, 38)"
          ],
          [
           0.2727272727272727,
           "rgb(59, 59, 59)"
          ],
          [
           0.36363636363636365,
           "rgb(81, 80, 80)"
          ],
          [
           0.45454545454545453,
           "rgb(102, 101, 101)"
          ],
          [
           0.5454545454545454,
           "rgb(124, 123, 122)"
          ],
          [
           0.6363636363636364,
           "rgb(146, 146, 145)"
          ],
          [
           0.7272727272727273,
           "rgb(171, 171, 170)"
          ],
          [
           0.8181818181818182,
           "rgb(197, 197, 195)"
          ],
          [
           0.9090909090909091,
           "rgb(224, 224, 223)"
          ],
          [
           1,
           "rgb(254, 254, 253)"
          ]
         ],
         "showscale": false
        },
        "height": 400,
        "margin": {
         "t": 60
        },
        "template": {
         "data": {
          "bar": [
           {
            "error_x": {
             "color": "#2a3f5f"
            },
            "error_y": {
             "color": "#2a3f5f"
            },
            "marker": {
             "line": {
              "color": "#E5ECF6",
              "width": 0.5
             }
            },
            "type": "bar"
           }
          ],
          "barpolar": [
           {
            "marker": {
             "line": {
              "color": "#E5ECF6",
              "width": 0.5
             }
            },
            "type": "barpolar"
           }
          ],
          "carpet": [
           {
            "aaxis": {
             "endlinecolor": "#2a3f5f",
             "gridcolor": "white",
             "linecolor": "white",
             "minorgridcolor": "white",
             "startlinecolor": "#2a3f5f"
            },
            "baxis": {
             "endlinecolor": "#2a3f5f",
             "gridcolor": "white",
             "linecolor": "white",
             "minorgridcolor": "white",
             "startlinecolor": "#2a3f5f"
            },
            "type": "carpet"
           }
          ],
          "choropleth": [
           {
            "colorbar": {
             "outlinewidth": 0,
             "ticks": ""
            },
            "type": "choropleth"
           }
          ],
          "contour": [
           {
            "colorbar": {
             "outlinewidth": 0,
             "ticks": ""
            },
            "colorscale": [
             [
              0,
              "#0d0887"
             ],
             [
              0.1111111111111111,
              "#46039f"
             ],
             [
              0.2222222222222222,
              "#7201a8"
             ],
             [
              0.3333333333333333,
              "#9c179e"
             ],
             [
              0.4444444444444444,
              "#bd3786"
             ],
             [
              0.5555555555555556,
              "#d8576b"
             ],
             [
              0.6666666666666666,
              "#ed7953"
             ],
             [
              0.7777777777777778,
              "#fb9f3a"
             ],
             [
              0.8888888888888888,
              "#fdca26"
             ],
             [
              1,
              "#f0f921"
             ]
            ],
            "type": "contour"
           }
          ],
          "contourcarpet": [
           {
            "colorbar": {
             "outlinewidth": 0,
             "ticks": ""
            },
            "type": "contourcarpet"
           }
          ],
          "heatmap": [
           {
            "colorbar": {
             "outlinewidth": 0,
             "ticks": ""
            },
            "colorscale": [
             [
              0,
              "#0d0887"
             ],
             [
              0.1111111111111111,
              "#46039f"
             ],
             [
              0.2222222222222222,
              "#7201a8"
             ],
             [
              0.3333333333333333,
              "#9c179e"
             ],
             [
              0.4444444444444444,
              "#bd3786"
             ],
             [
              0.5555555555555556,
              "#d8576b"
             ],
             [
              0.6666666666666666,
              "#ed7953"
             ],
             [
              0.7777777777777778,
              "#fb9f3a"
             ],
             [
              0.8888888888888888,
              "#fdca26"
             ],
             [
              1,
              "#f0f921"
             ]
            ],
            "type": "heatmap"
           }
          ],
          "heatmapgl": [
           {
            "colorbar": {
             "outlinewidth": 0,
             "ticks": ""
            },
            "colorscale": [
             [
              0,
              "#0d0887"
             ],
             [
              0.1111111111111111,
              "#46039f"
             ],
             [
              0.2222222222222222,
              "#7201a8"
             ],
             [
              0.3333333333333333,
              "#9c179e"
             ],
             [
              0.4444444444444444,
              "#bd3786"
             ],
             [
              0.5555555555555556,
              "#d8576b"
             ],
             [
              0.6666666666666666,
              "#ed7953"
             ],
             [
              0.7777777777777778,
              "#fb9f3a"
             ],
             [
              0.8888888888888888,
              "#fdca26"
             ],
             [
              1,
              "#f0f921"
             ]
            ],
            "type": "heatmapgl"
           }
          ],
          "histogram": [
           {
            "marker": {
             "colorbar": {
              "outlinewidth": 0,
              "ticks": ""
             }
            },
            "type": "histogram"
           }
          ],
          "histogram2d": [
           {
            "colorbar": {
             "outlinewidth": 0,
             "ticks": ""
            },
            "colorscale": [
             [
              0,
              "#0d0887"
             ],
             [
              0.1111111111111111,
              "#46039f"
             ],
             [
              0.2222222222222222,
              "#7201a8"
             ],
             [
              0.3333333333333333,
              "#9c179e"
             ],
             [
              0.4444444444444444,
              "#bd3786"
             ],
             [
              0.5555555555555556,
              "#d8576b"
             ],
             [
              0.6666666666666666,
              "#ed7953"
             ],
             [
              0.7777777777777778,
              "#fb9f3a"
             ],
             [
              0.8888888888888888,
              "#fdca26"
             ],
             [
              1,
              "#f0f921"
             ]
            ],
            "type": "histogram2d"
           }
          ],
          "histogram2dcontour": [
           {
            "colorbar": {
             "outlinewidth": 0,
             "ticks": ""
            },
            "colorscale": [
             [
              0,
              "#0d0887"
             ],
             [
              0.1111111111111111,
              "#46039f"
             ],
             [
              0.2222222222222222,
              "#7201a8"
             ],
             [
              0.3333333333333333,
              "#9c179e"
             ],
             [
              0.4444444444444444,
              "#bd3786"
             ],
             [
              0.5555555555555556,
              "#d8576b"
             ],
             [
              0.6666666666666666,
              "#ed7953"
             ],
             [
              0.7777777777777778,
              "#fb9f3a"
             ],
             [
              0.8888888888888888,
              "#fdca26"
             ],
             [
              1,
              "#f0f921"
             ]
            ],
            "type": "histogram2dcontour"
           }
          ],
          "mesh3d": [
           {
            "colorbar": {
             "outlinewidth": 0,
             "ticks": ""
            },
            "type": "mesh3d"
           }
          ],
          "parcoords": [
           {
            "line": {
             "colorbar": {
              "outlinewidth": 0,
              "ticks": ""
             }
            },
            "type": "parcoords"
           }
          ],
          "pie": [
           {
            "automargin": true,
            "type": "pie"
           }
          ],
          "scatter": [
           {
            "marker": {
             "colorbar": {
              "outlinewidth": 0,
              "ticks": ""
             }
            },
            "type": "scatter"
           }
          ],
          "scatter3d": [
           {
            "line": {
             "colorbar": {
              "outlinewidth": 0,
              "ticks": ""
             }
            },
            "marker": {
             "colorbar": {
              "outlinewidth": 0,
              "ticks": ""
             }
            },
            "type": "scatter3d"
           }
          ],
          "scattercarpet": [
           {
            "marker": {
             "colorbar": {
              "outlinewidth": 0,
              "ticks": ""
             }
            },
            "type": "scattercarpet"
           }
          ],
          "scattergeo": [
           {
            "marker": {
             "colorbar": {
              "outlinewidth": 0,
              "ticks": ""
             }
            },
            "type": "scattergeo"
           }
          ],
          "scattergl": [
           {
            "marker": {
             "colorbar": {
              "outlinewidth": 0,
              "ticks": ""
             }
            },
            "type": "scattergl"
           }
          ],
          "scattermapbox": [
           {
            "marker": {
             "colorbar": {
              "outlinewidth": 0,
              "ticks": ""
             }
            },
            "type": "scattermapbox"
           }
          ],
          "scatterpolar": [
           {
            "marker": {
             "colorbar": {
              "outlinewidth": 0,
              "ticks": ""
             }
            },
            "type": "scatterpolar"
           }
          ],
          "scatterpolargl": [
           {
            "marker": {
             "colorbar": {
              "outlinewidth": 0,
              "ticks": ""
             }
            },
            "type": "scatterpolargl"
           }
          ],
          "scatterternary": [
           {
            "marker": {
             "colorbar": {
              "outlinewidth": 0,
              "ticks": ""
             }
            },
            "type": "scatterternary"
           }
          ],
          "surface": [
           {
            "colorbar": {
             "outlinewidth": 0,
             "ticks": ""
            },
            "colorscale": [
             [
              0,
              "#0d0887"
             ],
             [
              0.1111111111111111,
              "#46039f"
             ],
             [
              0.2222222222222222,
              "#7201a8"
             ],
             [
              0.3333333333333333,
              "#9c179e"
             ],
             [
              0.4444444444444444,
              "#bd3786"
             ],
             [
              0.5555555555555556,
              "#d8576b"
             ],
             [
              0.6666666666666666,
              "#ed7953"
             ],
             [
              0.7777777777777778,
              "#fb9f3a"
             ],
             [
              0.8888888888888888,
              "#fdca26"
             ],
             [
              1,
              "#f0f921"
             ]
            ],
            "type": "surface"
           }
          ],
          "table": [
           {
            "cells": {
             "fill": {
              "color": "#EBF0F8"
             },
             "line": {
              "color": "white"
             }
            },
            "header": {
             "fill": {
              "color": "#C8D4E3"
             },
             "line": {
              "color": "white"
             }
            },
            "type": "table"
           }
          ]
         },
         "layout": {
          "annotationdefaults": {
           "arrowcolor": "#2a3f5f",
           "arrowhead": 0,
           "arrowwidth": 1
          },
          "autotypenumbers": "strict",
          "coloraxis": {
           "colorbar": {
            "outlinewidth": 0,
            "ticks": ""
           }
          },
          "colorscale": {
           "diverging": [
            [
             0,
             "#8e0152"
            ],
            [
             0.1,
             "#c51b7d"
            ],
            [
             0.2,
             "#de77ae"
            ],
            [
             0.3,
             "#f1b6da"
            ],
            [
             0.4,
             "#fde0ef"
            ],
            [
             0.5,
             "#f7f7f7"
            ],
            [
             0.6,
             "#e6f5d0"
            ],
            [
             0.7,
             "#b8e186"
            ],
            [
             0.8,
             "#7fbc41"
            ],
            [
             0.9,
             "#4d9221"
            ],
            [
             1,
             "#276419"
            ]
           ],
           "sequential": [
            [
             0,
             "#0d0887"
            ],
            [
             0.1111111111111111,
             "#46039f"
            ],
            [
             0.2222222222222222,
             "#7201a8"
            ],
            [
             0.3333333333333333,
             "#9c179e"
            ],
            [
             0.4444444444444444,
             "#bd3786"
            ],
            [
             0.5555555555555556,
             "#d8576b"
            ],
            [
             0.6666666666666666,
             "#ed7953"
            ],
            [
             0.7777777777777778,
             "#fb9f3a"
            ],
            [
             0.8888888888888888,
             "#fdca26"
            ],
            [
             1,
             "#f0f921"
            ]
           ],
           "sequentialminus": [
            [
             0,
             "#0d0887"
            ],
            [
             0.1111111111111111,
             "#46039f"
            ],
            [
             0.2222222222222222,
             "#7201a8"
            ],
            [
             0.3333333333333333,
             "#9c179e"
            ],
            [
             0.4444444444444444,
             "#bd3786"
            ],
            [
             0.5555555555555556,
             "#d8576b"
            ],
            [
             0.6666666666666666,
             "#ed7953"
            ],
            [
             0.7777777777777778,
             "#fb9f3a"
            ],
            [
             0.8888888888888888,
             "#fdca26"
            ],
            [
             1,
             "#f0f921"
            ]
           ]
          },
          "colorway": [
           "#636efa",
           "#EF553B",
           "#00cc96",
           "#ab63fa",
           "#FFA15A",
           "#19d3f3",
           "#FF6692",
           "#B6E880",
           "#FF97FF",
           "#FECB52"
          ],
          "font": {
           "color": "#2a3f5f"
          },
          "geo": {
           "bgcolor": "white",
           "lakecolor": "white",
           "landcolor": "#E5ECF6",
           "showlakes": true,
           "showland": true,
           "subunitcolor": "white"
          },
          "hoverlabel": {
           "align": "left"
          },
          "hovermode": "closest",
          "mapbox": {
           "style": "light"
          },
          "paper_bgcolor": "white",
          "plot_bgcolor": "#E5ECF6",
          "polar": {
           "angularaxis": {
            "gridcolor": "white",
            "linecolor": "white",
            "ticks": ""
           },
           "bgcolor": "#E5ECF6",
           "radialaxis": {
            "gridcolor": "white",
            "linecolor": "white",
            "ticks": ""
           }
          },
          "scene": {
           "xaxis": {
            "backgroundcolor": "#E5ECF6",
            "gridcolor": "white",
            "gridwidth": 2,
            "linecolor": "white",
            "showbackground": true,
            "ticks": "",
            "zerolinecolor": "white"
           },
           "yaxis": {
            "backgroundcolor": "#E5ECF6",
            "gridcolor": "white",
            "gridwidth": 2,
            "linecolor": "white",
            "showbackground": true,
            "ticks": "",
            "zerolinecolor": "white"
           },
           "zaxis": {
            "backgroundcolor": "#E5ECF6",
            "gridcolor": "white",
            "gridwidth": 2,
            "linecolor": "white",
            "showbackground": true,
            "ticks": "",
            "zerolinecolor": "white"
           }
          },
          "shapedefaults": {
           "line": {
            "color": "#2a3f5f"
           }
          },
          "ternary": {
           "aaxis": {
            "gridcolor": "white",
            "linecolor": "white",
            "ticks": ""
           },
           "baxis": {
            "gridcolor": "white",
            "linecolor": "white",
            "ticks": ""
           },
           "bgcolor": "#E5ECF6",
           "caxis": {
            "gridcolor": "white",
            "linecolor": "white",
            "ticks": ""
           }
          },
          "title": {
           "x": 0.05
          },
          "xaxis": {
           "automargin": true,
           "gridcolor": "white",
           "linecolor": "white",
           "ticks": "",
           "title": {
            "standoff": 15
           },
           "zerolinecolor": "white",
           "zerolinewidth": 2
          },
          "yaxis": {
           "automargin": true,
           "gridcolor": "white",
           "linecolor": "white",
           "ticks": "",
           "title": {
            "standoff": 15
           },
           "zerolinecolor": "white",
           "zerolinewidth": 2
          }
         }
        },
        "title": {
         "text": "Digit 6 - Cycle file 559_cycles.vtk"
        },
        "width": 400,
        "xaxis": {
         "anchor": "y",
         "constrain": "domain",
         "domain": [
          0,
          1
         ],
         "scaleanchor": "y",
         "showticklabels": false
        },
        "yaxis": {
         "anchor": "x",
         "autorange": "reversed",
         "constrain": "domain",
         "domain": [
          0,
          1
         ],
         "showticklabels": false
        }
       }
      },
      "text/html": [
       "<div>                            <div id=\"f1ce48f2-4b72-4f0d-8978-700fcd287fbd\" class=\"plotly-graph-div\" style=\"height:400px; width:400px;\"></div>            <script type=\"text/javascript\">                require([\"plotly\"], function(Plotly) {                    window.PLOTLYENV=window.PLOTLYENV || {};                                    if (document.getElementById(\"f1ce48f2-4b72-4f0d-8978-700fcd287fbd\")) {                    Plotly.newPlot(                        \"f1ce48f2-4b72-4f0d-8978-700fcd287fbd\",                        [{\"coloraxis\": \"coloraxis\", \"hovertemplate\": \"x: %{x}<br>y: %{y}<br>color: %{z}<extra></extra>\", \"name\": \"0\", \"type\": \"heatmap\", \"xaxis\": \"x\", \"yaxis\": \"y\", \"z\": [[0, 0, 0, 0, 0, 0, 0, 0, 0, 0, 0, 0, 0, 0, 0, 0, 0, 0, 0, 0, 0, 0, 0, 0, 0, 0, 0, 0], [0, 0, 0, 0, 0, 0, 0, 0, 0, 0, 0, 0, 0, 0, 0, 0, 0, 0, 0, 0, 0, 0, 0, 0, 0, 0, 0, 0], [0, 0, 0, 0, 0, 0, 0, 0, 0, 0, 73, 73, 10, 0, 0, 0, 0, 0, 0, 0, 0, 0, 0, 0, 0, 0, 0, 0], [0, 0, 0, 0, 0, 0, 0, 0, 0, 105, 253, 251, 138, 0, 0, 0, 0, 0, 0, 0, 0, 0, 0, 0, 0, 0, 0, 0], [0, 0, 0, 0, 0, 0, 0, 0, 16, 190, 253, 251, 215, 0, 0, 0, 0, 0, 0, 0, 0, 0, 0, 0, 0, 0, 0, 0], [0, 0, 0, 0, 0, 0, 0, 16, 170, 251, 253, 251, 137, 0, 0, 0, 0, 0, 0, 0, 0, 0, 0, 0, 0, 0, 0, 0], [0, 0, 0, 0, 0, 0, 0, 37, 251, 251, 253, 251, 35, 0, 0, 0, 0, 0, 0, 0, 0, 0, 0, 0, 0, 0, 0, 0], [0, 0, 0, 0, 0, 0, 0, 89, 253, 253, 255, 253, 35, 0, 0, 0, 0, 0, 0, 0, 0, 0, 0, 0, 0, 0, 0, 0], [0, 0, 0, 0, 0, 0, 0, 217, 251, 251, 253, 168, 15, 0, 0, 0, 0, 0, 0, 0, 0, 0, 0, 0, 0, 0, 0, 0], [0, 0, 0, 0, 0, 0, 125, 246, 251, 251, 242, 92, 0, 0, 0, 0, 0, 0, 0, 0, 0, 0, 32, 21, 0, 0, 0, 0], [0, 0, 0, 0, 0, 32, 190, 251, 251, 251, 180, 0, 0, 0, 0, 0, 0, 0, 0, 0, 32, 109, 231, 189, 109, 0, 0, 0], [0, 0, 0, 0, 0, 73, 251, 251, 251, 251, 51, 0, 0, 0, 0, 0, 0, 0, 0, 130, 202, 251, 251, 251, 251, 0, 0, 0], [0, 0, 0, 0, 0, 73, 253, 253, 253, 253, 0, 0, 0, 0, 0, 0, 0, 0, 110, 253, 255, 253, 253, 253, 253, 0, 0, 0], [0, 0, 0, 0, 0, 176, 251, 251, 251, 251, 0, 0, 0, 0, 0, 0, 0, 21, 190, 251, 253, 251, 251, 251, 251, 0, 0, 0], [0, 0, 0, 0, 0, 227, 251, 251, 251, 251, 0, 0, 0, 0, 0, 11, 140, 221, 251, 251, 253, 251, 251, 251, 96, 0, 0, 0], [0, 0, 0, 0, 0, 73, 251, 251, 251, 251, 0, 0, 0, 0, 0, 150, 251, 251, 251, 251, 253, 251, 235, 142, 41, 0, 0, 0], [0, 0, 0, 0, 0, 73, 251, 251, 251, 251, 182, 77, 0, 0, 130, 253, 251, 251, 251, 251, 253, 251, 215, 0, 0, 0, 0, 0], [0, 0, 0, 0, 0, 53, 180, 243, 253, 253, 255, 253, 253, 253, 253, 255, 253, 253, 253, 253, 255, 253, 35, 0, 0, 0, 0, 0], [0, 0, 0, 0, 0, 0, 0, 113, 251, 251, 253, 251, 251, 251, 251, 253, 251, 251, 251, 251, 211, 107, 15, 0, 0, 0, 0, 0], [0, 0, 0, 0, 0, 0, 0, 5, 113, 215, 253, 251, 251, 251, 251, 253, 251, 251, 251, 96, 25, 0, 0, 0, 0, 0, 0, 0], [0, 0, 0, 0, 0, 0, 0, 0, 0, 0, 143, 205, 235, 189, 251, 253, 188, 142, 142, 41, 0, 0, 0, 0, 0, 0, 0, 0], [0, 0, 0, 0, 0, 0, 0, 0, 0, 0, 0, 41, 61, 31, 71, 72, 30, 0, 0, 0, 0, 0, 0, 0, 0, 0, 0, 0], [0, 0, 0, 0, 0, 0, 0, 0, 0, 0, 0, 0, 0, 0, 0, 0, 0, 0, 0, 0, 0, 0, 0, 0, 0, 0, 0, 0], [0, 0, 0, 0, 0, 0, 0, 0, 0, 0, 0, 0, 0, 0, 0, 0, 0, 0, 0, 0, 0, 0, 0, 0, 0, 0, 0, 0], [0, 0, 0, 0, 0, 0, 0, 0, 0, 0, 0, 0, 0, 0, 0, 0, 0, 0, 0, 0, 0, 0, 0, 0, 0, 0, 0, 0], [0, 0, 0, 0, 0, 0, 0, 0, 0, 0, 0, 0, 0, 0, 0, 0, 0, 0, 0, 0, 0, 0, 0, 0, 0, 0, 0, 0], [0, 0, 0, 0, 0, 0, 0, 0, 0, 0, 0, 0, 0, 0, 0, 0, 0, 0, 0, 0, 0, 0, 0, 0, 0, 0, 0, 0], [0, 0, 0, 0, 0, 0, 0, 0, 0, 0, 0, 0, 0, 0, 0, 0, 0, 0, 0, 0, 0, 0, 0, 0, 0, 0, 0, 0]]}],                        {\"coloraxis\": {\"colorscale\": [[0.0, \"rgb(0, 0, 0)\"], [0.09090909090909091, \"rgb(16, 16, 16)\"], [0.18181818181818182, \"rgb(38, 38, 38)\"], [0.2727272727272727, \"rgb(59, 59, 59)\"], [0.36363636363636365, \"rgb(81, 80, 80)\"], [0.45454545454545453, \"rgb(102, 101, 101)\"], [0.5454545454545454, \"rgb(124, 123, 122)\"], [0.6363636363636364, \"rgb(146, 146, 145)\"], [0.7272727272727273, \"rgb(171, 171, 170)\"], [0.8181818181818182, \"rgb(197, 197, 195)\"], [0.9090909090909091, \"rgb(224, 224, 223)\"], [1.0, \"rgb(254, 254, 253)\"]], \"showscale\": false}, \"height\": 400, \"margin\": {\"t\": 60}, \"template\": {\"data\": {\"bar\": [{\"error_x\": {\"color\": \"#2a3f5f\"}, \"error_y\": {\"color\": \"#2a3f5f\"}, \"marker\": {\"line\": {\"color\": \"#E5ECF6\", \"width\": 0.5}}, \"type\": \"bar\"}], \"barpolar\": [{\"marker\": {\"line\": {\"color\": \"#E5ECF6\", \"width\": 0.5}}, \"type\": \"barpolar\"}], \"carpet\": [{\"aaxis\": {\"endlinecolor\": \"#2a3f5f\", \"gridcolor\": \"white\", \"linecolor\": \"white\", \"minorgridcolor\": \"white\", \"startlinecolor\": \"#2a3f5f\"}, \"baxis\": {\"endlinecolor\": \"#2a3f5f\", \"gridcolor\": \"white\", \"linecolor\": \"white\", \"minorgridcolor\": \"white\", \"startlinecolor\": \"#2a3f5f\"}, \"type\": \"carpet\"}], \"choropleth\": [{\"colorbar\": {\"outlinewidth\": 0, \"ticks\": \"\"}, \"type\": \"choropleth\"}], \"contour\": [{\"colorbar\": {\"outlinewidth\": 0, \"ticks\": \"\"}, \"colorscale\": [[0.0, \"#0d0887\"], [0.1111111111111111, \"#46039f\"], [0.2222222222222222, \"#7201a8\"], [0.3333333333333333, \"#9c179e\"], [0.4444444444444444, \"#bd3786\"], [0.5555555555555556, \"#d8576b\"], [0.6666666666666666, \"#ed7953\"], [0.7777777777777778, \"#fb9f3a\"], [0.8888888888888888, \"#fdca26\"], [1.0, \"#f0f921\"]], \"type\": \"contour\"}], \"contourcarpet\": [{\"colorbar\": {\"outlinewidth\": 0, \"ticks\": \"\"}, \"type\": \"contourcarpet\"}], \"heatmap\": [{\"colorbar\": {\"outlinewidth\": 0, \"ticks\": \"\"}, \"colorscale\": [[0.0, \"#0d0887\"], [0.1111111111111111, \"#46039f\"], [0.2222222222222222, \"#7201a8\"], [0.3333333333333333, \"#9c179e\"], [0.4444444444444444, \"#bd3786\"], [0.5555555555555556, \"#d8576b\"], [0.6666666666666666, \"#ed7953\"], [0.7777777777777778, \"#fb9f3a\"], [0.8888888888888888, \"#fdca26\"], [1.0, \"#f0f921\"]], \"type\": \"heatmap\"}], \"heatmapgl\": [{\"colorbar\": {\"outlinewidth\": 0, \"ticks\": \"\"}, \"colorscale\": [[0.0, \"#0d0887\"], [0.1111111111111111, \"#46039f\"], [0.2222222222222222, \"#7201a8\"], [0.3333333333333333, \"#9c179e\"], [0.4444444444444444, \"#bd3786\"], [0.5555555555555556, \"#d8576b\"], [0.6666666666666666, \"#ed7953\"], [0.7777777777777778, \"#fb9f3a\"], [0.8888888888888888, \"#fdca26\"], [1.0, \"#f0f921\"]], \"type\": \"heatmapgl\"}], \"histogram\": [{\"marker\": {\"colorbar\": {\"outlinewidth\": 0, \"ticks\": \"\"}}, \"type\": \"histogram\"}], \"histogram2d\": [{\"colorbar\": {\"outlinewidth\": 0, \"ticks\": \"\"}, \"colorscale\": [[0.0, \"#0d0887\"], [0.1111111111111111, \"#46039f\"], [0.2222222222222222, \"#7201a8\"], [0.3333333333333333, \"#9c179e\"], [0.4444444444444444, \"#bd3786\"], [0.5555555555555556, \"#d8576b\"], [0.6666666666666666, \"#ed7953\"], [0.7777777777777778, \"#fb9f3a\"], [0.8888888888888888, \"#fdca26\"], [1.0, \"#f0f921\"]], \"type\": \"histogram2d\"}], \"histogram2dcontour\": [{\"colorbar\": {\"outlinewidth\": 0, \"ticks\": \"\"}, \"colorscale\": [[0.0, \"#0d0887\"], [0.1111111111111111, \"#46039f\"], [0.2222222222222222, \"#7201a8\"], [0.3333333333333333, \"#9c179e\"], [0.4444444444444444, \"#bd3786\"], [0.5555555555555556, \"#d8576b\"], [0.6666666666666666, \"#ed7953\"], [0.7777777777777778, \"#fb9f3a\"], [0.8888888888888888, \"#fdca26\"], [1.0, \"#f0f921\"]], \"type\": \"histogram2dcontour\"}], \"mesh3d\": [{\"colorbar\": {\"outlinewidth\": 0, \"ticks\": \"\"}, \"type\": \"mesh3d\"}], \"parcoords\": [{\"line\": {\"colorbar\": {\"outlinewidth\": 0, \"ticks\": \"\"}}, \"type\": \"parcoords\"}], \"pie\": [{\"automargin\": true, \"type\": \"pie\"}], \"scatter\": [{\"marker\": {\"colorbar\": {\"outlinewidth\": 0, \"ticks\": \"\"}}, \"type\": \"scatter\"}], \"scatter3d\": [{\"line\": {\"colorbar\": {\"outlinewidth\": 0, \"ticks\": \"\"}}, \"marker\": {\"colorbar\": {\"outlinewidth\": 0, \"ticks\": \"\"}}, \"type\": \"scatter3d\"}], \"scattercarpet\": [{\"marker\": {\"colorbar\": {\"outlinewidth\": 0, \"ticks\": \"\"}}, \"type\": \"scattercarpet\"}], \"scattergeo\": [{\"marker\": {\"colorbar\": {\"outlinewidth\": 0, \"ticks\": \"\"}}, \"type\": \"scattergeo\"}], \"scattergl\": [{\"marker\": {\"colorbar\": {\"outlinewidth\": 0, \"ticks\": \"\"}}, \"type\": \"scattergl\"}], \"scattermapbox\": [{\"marker\": {\"colorbar\": {\"outlinewidth\": 0, \"ticks\": \"\"}}, \"type\": \"scattermapbox\"}], \"scatterpolar\": [{\"marker\": {\"colorbar\": {\"outlinewidth\": 0, \"ticks\": \"\"}}, \"type\": \"scatterpolar\"}], \"scatterpolargl\": [{\"marker\": {\"colorbar\": {\"outlinewidth\": 0, \"ticks\": \"\"}}, \"type\": \"scatterpolargl\"}], \"scatterternary\": [{\"marker\": {\"colorbar\": {\"outlinewidth\": 0, \"ticks\": \"\"}}, \"type\": \"scatterternary\"}], \"surface\": [{\"colorbar\": {\"outlinewidth\": 0, \"ticks\": \"\"}, \"colorscale\": [[0.0, \"#0d0887\"], [0.1111111111111111, \"#46039f\"], [0.2222222222222222, \"#7201a8\"], [0.3333333333333333, \"#9c179e\"], [0.4444444444444444, \"#bd3786\"], [0.5555555555555556, \"#d8576b\"], [0.6666666666666666, \"#ed7953\"], [0.7777777777777778, \"#fb9f3a\"], [0.8888888888888888, \"#fdca26\"], [1.0, \"#f0f921\"]], \"type\": \"surface\"}], \"table\": [{\"cells\": {\"fill\": {\"color\": \"#EBF0F8\"}, \"line\": {\"color\": \"white\"}}, \"header\": {\"fill\": {\"color\": \"#C8D4E3\"}, \"line\": {\"color\": \"white\"}}, \"type\": \"table\"}]}, \"layout\": {\"annotationdefaults\": {\"arrowcolor\": \"#2a3f5f\", \"arrowhead\": 0, \"arrowwidth\": 1}, \"autotypenumbers\": \"strict\", \"coloraxis\": {\"colorbar\": {\"outlinewidth\": 0, \"ticks\": \"\"}}, \"colorscale\": {\"diverging\": [[0, \"#8e0152\"], [0.1, \"#c51b7d\"], [0.2, \"#de77ae\"], [0.3, \"#f1b6da\"], [0.4, \"#fde0ef\"], [0.5, \"#f7f7f7\"], [0.6, \"#e6f5d0\"], [0.7, \"#b8e186\"], [0.8, \"#7fbc41\"], [0.9, \"#4d9221\"], [1, \"#276419\"]], \"sequential\": [[0.0, \"#0d0887\"], [0.1111111111111111, \"#46039f\"], [0.2222222222222222, \"#7201a8\"], [0.3333333333333333, \"#9c179e\"], [0.4444444444444444, \"#bd3786\"], [0.5555555555555556, \"#d8576b\"], [0.6666666666666666, \"#ed7953\"], [0.7777777777777778, \"#fb9f3a\"], [0.8888888888888888, \"#fdca26\"], [1.0, \"#f0f921\"]], \"sequentialminus\": [[0.0, \"#0d0887\"], [0.1111111111111111, \"#46039f\"], [0.2222222222222222, \"#7201a8\"], [0.3333333333333333, \"#9c179e\"], [0.4444444444444444, \"#bd3786\"], [0.5555555555555556, \"#d8576b\"], [0.6666666666666666, \"#ed7953\"], [0.7777777777777778, \"#fb9f3a\"], [0.8888888888888888, \"#fdca26\"], [1.0, \"#f0f921\"]]}, \"colorway\": [\"#636efa\", \"#EF553B\", \"#00cc96\", \"#ab63fa\", \"#FFA15A\", \"#19d3f3\", \"#FF6692\", \"#B6E880\", \"#FF97FF\", \"#FECB52\"], \"font\": {\"color\": \"#2a3f5f\"}, \"geo\": {\"bgcolor\": \"white\", \"lakecolor\": \"white\", \"landcolor\": \"#E5ECF6\", \"showlakes\": true, \"showland\": true, \"subunitcolor\": \"white\"}, \"hoverlabel\": {\"align\": \"left\"}, \"hovermode\": \"closest\", \"mapbox\": {\"style\": \"light\"}, \"paper_bgcolor\": \"white\", \"plot_bgcolor\": \"#E5ECF6\", \"polar\": {\"angularaxis\": {\"gridcolor\": \"white\", \"linecolor\": \"white\", \"ticks\": \"\"}, \"bgcolor\": \"#E5ECF6\", \"radialaxis\": {\"gridcolor\": \"white\", \"linecolor\": \"white\", \"ticks\": \"\"}}, \"scene\": {\"xaxis\": {\"backgroundcolor\": \"#E5ECF6\", \"gridcolor\": \"white\", \"gridwidth\": 2, \"linecolor\": \"white\", \"showbackground\": true, \"ticks\": \"\", \"zerolinecolor\": \"white\"}, \"yaxis\": {\"backgroundcolor\": \"#E5ECF6\", \"gridcolor\": \"white\", \"gridwidth\": 2, \"linecolor\": \"white\", \"showbackground\": true, \"ticks\": \"\", \"zerolinecolor\": \"white\"}, \"zaxis\": {\"backgroundcolor\": \"#E5ECF6\", \"gridcolor\": \"white\", \"gridwidth\": 2, \"linecolor\": \"white\", \"showbackground\": true, \"ticks\": \"\", \"zerolinecolor\": \"white\"}}, \"shapedefaults\": {\"line\": {\"color\": \"#2a3f5f\"}}, \"ternary\": {\"aaxis\": {\"gridcolor\": \"white\", \"linecolor\": \"white\", \"ticks\": \"\"}, \"baxis\": {\"gridcolor\": \"white\", \"linecolor\": \"white\", \"ticks\": \"\"}, \"bgcolor\": \"#E5ECF6\", \"caxis\": {\"gridcolor\": \"white\", \"linecolor\": \"white\", \"ticks\": \"\"}}, \"title\": {\"x\": 0.05}, \"xaxis\": {\"automargin\": true, \"gridcolor\": \"white\", \"linecolor\": \"white\", \"ticks\": \"\", \"title\": {\"standoff\": 15}, \"zerolinecolor\": \"white\", \"zerolinewidth\": 2}, \"yaxis\": {\"automargin\": true, \"gridcolor\": \"white\", \"linecolor\": \"white\", \"ticks\": \"\", \"title\": {\"standoff\": 15}, \"zerolinecolor\": \"white\", \"zerolinewidth\": 2}}}, \"title\": {\"text\": \"Digit 6 - Cycle file 559_cycles.vtk\"}, \"width\": 400, \"xaxis\": {\"anchor\": \"y\", \"constrain\": \"domain\", \"domain\": [0.0, 1.0], \"scaleanchor\": \"y\", \"showticklabels\": false}, \"yaxis\": {\"anchor\": \"x\", \"autorange\": \"reversed\", \"constrain\": \"domain\", \"domain\": [0.0, 1.0], \"showticklabels\": false}},                        {\"responsive\": true}                    ).then(function(){\n",
       "                            \n",
       "var gd = document.getElementById('f1ce48f2-4b72-4f0d-8978-700fcd287fbd');\n",
       "var x = new MutationObserver(function (mutations, observer) {{\n",
       "        var display = window.getComputedStyle(gd).display;\n",
       "        if (!display || display === 'none') {{\n",
       "            console.log([gd, 'removed!']);\n",
       "            Plotly.purge(gd);\n",
       "            observer.disconnect();\n",
       "        }}\n",
       "}});\n",
       "\n",
       "// Listen for the removal of the full notebook cells\n",
       "var notebookContainer = gd.closest('#notebook-container');\n",
       "if (notebookContainer) {{\n",
       "    x.observe(notebookContainer, {childList: true});\n",
       "}}\n",
       "\n",
       "// Listen for the clearing of the current output cell\n",
       "var outputEl = gd.closest('.output');\n",
       "if (outputEl) {{\n",
       "    x.observe(outputEl, {childList: true});\n",
       "}}\n",
       "\n",
       "                        })                };                });            </script>        </div>"
      ]
     },
     "metadata": {},
     "output_type": "display_data"
    },
    {
     "data": {
      "application/vnd.plotly.v1+json": {
       "config": {
        "linkText": "Export to plot.ly",
        "plotlyServerURL": "https://plot.ly",
        "showLink": false
       },
       "data": [
        {
         "coloraxis": "coloraxis",
         "hovertemplate": "x: %{x}<br>y: %{y}<br>color: %{z}<extra></extra>",
         "name": "0",
         "type": "heatmap",
         "xaxis": "x",
         "yaxis": "y",
         "z": [
          [
           0,
           0,
           0,
           0,
           0,
           0,
           0,
           0,
           0,
           0,
           0,
           0,
           0,
           0,
           0,
           0,
           0,
           0,
           0,
           0,
           0,
           0,
           0,
           0,
           0,
           0,
           0,
           0
          ],
          [
           0,
           0,
           0,
           0,
           0,
           0,
           0,
           0,
           0,
           0,
           0,
           0,
           0,
           0,
           0,
           0,
           0,
           0,
           0,
           0,
           0,
           0,
           0,
           0,
           0,
           0,
           0,
           0
          ],
          [
           0,
           0,
           0,
           0,
           0,
           0,
           0,
           0,
           0,
           0,
           0,
           0,
           0,
           0,
           0,
           0,
           0,
           0,
           0,
           0,
           0,
           0,
           0,
           0,
           0,
           0,
           0,
           0
          ],
          [
           0,
           0,
           0,
           0,
           0,
           0,
           0,
           0,
           0,
           0,
           0,
           0,
           0,
           0,
           0,
           0,
           0,
           0,
           0,
           0,
           0,
           0,
           0,
           0,
           0,
           0,
           0,
           0
          ],
          [
           0,
           0,
           0,
           0,
           0,
           0,
           0,
           0,
           0,
           0,
           0,
           0,
           0,
           0,
           0,
           0,
           0,
           0,
           0,
           0,
           0,
           0,
           0,
           0,
           0,
           0,
           0,
           0
          ],
          [
           0,
           0,
           0,
           0,
           0,
           0,
           0,
           0,
           0,
           0,
           0,
           0,
           0,
           0,
           0,
           0,
           0,
           0,
           0,
           0,
           0,
           0,
           0,
           0,
           0,
           0,
           0,
           0
          ],
          [
           0,
           0,
           0,
           0,
           0,
           0,
           0,
           0,
           0,
           0,
           0,
           0,
           0,
           0,
           0,
           31,
           140,
           193,
           44,
           0,
           0,
           0,
           0,
           0,
           0,
           0,
           0,
           0
          ],
          [
           0,
           0,
           0,
           0,
           0,
           0,
           0,
           0,
           0,
           0,
           0,
           0,
           0,
           38,
           146,
           240,
           254,
           254,
           228,
           48,
           77,
           46,
           0,
           0,
           0,
           0,
           0,
           0
          ],
          [
           0,
           0,
           0,
           0,
           0,
           0,
           0,
           0,
           0,
           0,
           0,
           2,
           43,
           230,
           254,
           254,
           254,
           254,
           254,
           241,
           254,
           197,
           2,
           0,
           0,
           0,
           0,
           0
          ],
          [
           0,
           0,
           0,
           0,
           0,
           0,
           0,
           0,
           0,
           0,
           21,
           130,
           254,
           254,
           254,
           239,
           252,
           254,
           254,
           254,
           254,
           237,
           4,
           0,
           0,
           0,
           0,
           0
          ],
          [
           0,
           0,
           0,
           0,
           0,
           0,
           0,
           0,
           0,
           0,
           154,
           254,
           254,
           249,
           104,
           71,
           198,
           254,
           254,
           254,
           234,
           57,
           0,
           0,
           0,
           0,
           0,
           0
          ],
          [
           0,
           0,
           0,
           0,
           0,
           0,
           0,
           0,
           2,
           173,
           252,
           252,
           206,
           51,
           120,
           215,
           254,
           254,
           254,
           254,
           184,
           0,
           0,
           0,
           0,
           0,
           0,
           0
          ],
          [
           0,
           0,
           0,
           0,
           0,
           0,
           0,
           0,
           112,
           254,
           254,
           215,
           87,
           247,
           254,
           254,
           254,
           254,
           254,
           217,
           31,
           0,
           0,
           0,
           0,
           0,
           0,
           0
          ],
          [
           0,
           0,
           0,
           0,
           0,
           0,
           0,
           5,
           231,
           254,
           254,
           254,
           254,
           254,
           236,
           128,
           196,
           254,
           254,
           119,
           0,
           0,
           0,
           0,
           0,
           0,
           0,
           0
          ],
          [
           0,
           0,
           0,
           0,
           0,
           0,
           0,
           3,
           197,
           254,
           254,
           245,
           238,
           131,
           17,
           46,
           247,
           254,
           199,
           14,
           0,
           0,
           0,
           0,
           0,
           0,
           0,
           0
          ],
          [
           0,
           0,
           0,
           0,
           0,
           0,
           0,
           0,
           16,
           92,
           88,
           40,
           0,
           0,
           12,
           173,
           254,
           242,
           38,
           0,
           0,
           0,
           0,
           0,
           0,
           0,
           0,
           0
          ],
          [
           0,
           0,
           0,
           0,
           0,
           0,
           0,
           0,
           0,
           0,
           0,
           0,
           0,
           0,
           95,
           254,
           254,
           155,
           0,
           0,
           0,
           0,
           0,
           0,
           0,
           0,
           0,
           0
          ],
          [
           0,
           0,
           0,
           0,
           0,
           0,
           0,
           0,
           0,
           0,
           0,
           0,
           0,
           18,
           210,
           254,
           225,
           6,
           0,
           0,
           0,
           0,
           0,
           0,
           0,
           0,
           0,
           0
          ],
          [
           0,
           0,
           0,
           0,
           0,
           0,
           0,
           0,
           0,
           0,
           0,
           0,
           0,
           197,
           254,
           254,
           99,
           0,
           0,
           0,
           0,
           0,
           0,
           0,
           0,
           0,
           0,
           0
          ],
          [
           0,
           0,
           0,
           0,
           0,
           0,
           0,
           0,
           0,
           0,
           0,
           0,
           34,
           242,
           254,
           179,
           3,
           0,
           0,
           0,
           0,
           0,
           0,
           0,
           0,
           0,
           0,
           0
          ],
          [
           0,
           0,
           0,
           0,
           0,
           0,
           0,
           0,
           0,
           0,
           0,
           27,
           223,
           254,
           225,
           30,
           0,
           0,
           0,
           0,
           0,
           0,
           0,
           0,
           0,
           0,
           0,
           0
          ],
          [
           0,
           0,
           0,
           0,
           0,
           0,
           0,
           0,
           0,
           0,
           0,
           77,
           254,
           255,
           127,
           0,
           0,
           0,
           0,
           0,
           0,
           0,
           0,
           0,
           0,
           0,
           0,
           0
          ],
          [
           0,
           0,
           0,
           0,
           0,
           0,
           0,
           0,
           0,
           0,
           54,
           238,
           254,
           248,
           53,
           0,
           0,
           0,
           0,
           0,
           0,
           0,
           0,
           0,
           0,
           0,
           0,
           0
          ],
          [
           0,
           0,
           0,
           0,
           0,
           0,
           0,
           0,
           0,
           11,
           183,
           254,
           254,
           231,
           41,
           0,
           0,
           0,
           0,
           0,
           0,
           0,
           0,
           0,
           0,
           0,
           0,
           0
          ],
          [
           0,
           0,
           0,
           0,
           0,
           0,
           0,
           0,
           0,
           113,
           254,
           254,
           230,
           48,
           0,
           0,
           0,
           0,
           0,
           0,
           0,
           0,
           0,
           0,
           0,
           0,
           0,
           0
          ],
          [
           0,
           0,
           0,
           0,
           0,
           0,
           0,
           0,
           0,
           110,
           239,
           126,
           25,
           0,
           0,
           0,
           0,
           0,
           0,
           0,
           0,
           0,
           0,
           0,
           0,
           0,
           0,
           0
          ],
          [
           0,
           0,
           0,
           0,
           0,
           0,
           0,
           0,
           0,
           0,
           0,
           0,
           0,
           0,
           0,
           0,
           0,
           0,
           0,
           0,
           0,
           0,
           0,
           0,
           0,
           0,
           0,
           0
          ],
          [
           0,
           0,
           0,
           0,
           0,
           0,
           0,
           0,
           0,
           0,
           0,
           0,
           0,
           0,
           0,
           0,
           0,
           0,
           0,
           0,
           0,
           0,
           0,
           0,
           0,
           0,
           0,
           0
          ]
         ]
        },
        {
         "mode": "lines",
         "type": "scatter",
         "x": [
          8,
          8,
          9,
          10,
          10,
          9,
          8
         ],
         "y": [
          10,
          11,
          11,
          10,
          9,
          9,
          10
         ]
        },
        {
         "mode": "lines",
         "type": "scatter",
         "x": [
          15,
          15,
          16,
          15
         ],
         "y": [
          15,
          16,
          15,
          15
         ]
        }
       ],
       "layout": {
        "coloraxis": {
         "colorscale": [
          [
           0,
           "rgb(0, 0, 0)"
          ],
          [
           0.09090909090909091,
           "rgb(16, 16, 16)"
          ],
          [
           0.18181818181818182,
           "rgb(38, 38, 38)"
          ],
          [
           0.2727272727272727,
           "rgb(59, 59, 59)"
          ],
          [
           0.36363636363636365,
           "rgb(81, 80, 80)"
          ],
          [
           0.45454545454545453,
           "rgb(102, 101, 101)"
          ],
          [
           0.5454545454545454,
           "rgb(124, 123, 122)"
          ],
          [
           0.6363636363636364,
           "rgb(146, 146, 145)"
          ],
          [
           0.7272727272727273,
           "rgb(171, 171, 170)"
          ],
          [
           0.8181818181818182,
           "rgb(197, 197, 195)"
          ],
          [
           0.9090909090909091,
           "rgb(224, 224, 223)"
          ],
          [
           1,
           "rgb(254, 254, 253)"
          ]
         ],
         "showscale": false
        },
        "height": 400,
        "margin": {
         "t": 60
        },
        "template": {
         "data": {
          "bar": [
           {
            "error_x": {
             "color": "#2a3f5f"
            },
            "error_y": {
             "color": "#2a3f5f"
            },
            "marker": {
             "line": {
              "color": "#E5ECF6",
              "width": 0.5
             }
            },
            "type": "bar"
           }
          ],
          "barpolar": [
           {
            "marker": {
             "line": {
              "color": "#E5ECF6",
              "width": 0.5
             }
            },
            "type": "barpolar"
           }
          ],
          "carpet": [
           {
            "aaxis": {
             "endlinecolor": "#2a3f5f",
             "gridcolor": "white",
             "linecolor": "white",
             "minorgridcolor": "white",
             "startlinecolor": "#2a3f5f"
            },
            "baxis": {
             "endlinecolor": "#2a3f5f",
             "gridcolor": "white",
             "linecolor": "white",
             "minorgridcolor": "white",
             "startlinecolor": "#2a3f5f"
            },
            "type": "carpet"
           }
          ],
          "choropleth": [
           {
            "colorbar": {
             "outlinewidth": 0,
             "ticks": ""
            },
            "type": "choropleth"
           }
          ],
          "contour": [
           {
            "colorbar": {
             "outlinewidth": 0,
             "ticks": ""
            },
            "colorscale": [
             [
              0,
              "#0d0887"
             ],
             [
              0.1111111111111111,
              "#46039f"
             ],
             [
              0.2222222222222222,
              "#7201a8"
             ],
             [
              0.3333333333333333,
              "#9c179e"
             ],
             [
              0.4444444444444444,
              "#bd3786"
             ],
             [
              0.5555555555555556,
              "#d8576b"
             ],
             [
              0.6666666666666666,
              "#ed7953"
             ],
             [
              0.7777777777777778,
              "#fb9f3a"
             ],
             [
              0.8888888888888888,
              "#fdca26"
             ],
             [
              1,
              "#f0f921"
             ]
            ],
            "type": "contour"
           }
          ],
          "contourcarpet": [
           {
            "colorbar": {
             "outlinewidth": 0,
             "ticks": ""
            },
            "type": "contourcarpet"
           }
          ],
          "heatmap": [
           {
            "colorbar": {
             "outlinewidth": 0,
             "ticks": ""
            },
            "colorscale": [
             [
              0,
              "#0d0887"
             ],
             [
              0.1111111111111111,
              "#46039f"
             ],
             [
              0.2222222222222222,
              "#7201a8"
             ],
             [
              0.3333333333333333,
              "#9c179e"
             ],
             [
              0.4444444444444444,
              "#bd3786"
             ],
             [
              0.5555555555555556,
              "#d8576b"
             ],
             [
              0.6666666666666666,
              "#ed7953"
             ],
             [
              0.7777777777777778,
              "#fb9f3a"
             ],
             [
              0.8888888888888888,
              "#fdca26"
             ],
             [
              1,
              "#f0f921"
             ]
            ],
            "type": "heatmap"
           }
          ],
          "heatmapgl": [
           {
            "colorbar": {
             "outlinewidth": 0,
             "ticks": ""
            },
            "colorscale": [
             [
              0,
              "#0d0887"
             ],
             [
              0.1111111111111111,
              "#46039f"
             ],
             [
              0.2222222222222222,
              "#7201a8"
             ],
             [
              0.3333333333333333,
              "#9c179e"
             ],
             [
              0.4444444444444444,
              "#bd3786"
             ],
             [
              0.5555555555555556,
              "#d8576b"
             ],
             [
              0.6666666666666666,
              "#ed7953"
             ],
             [
              0.7777777777777778,
              "#fb9f3a"
             ],
             [
              0.8888888888888888,
              "#fdca26"
             ],
             [
              1,
              "#f0f921"
             ]
            ],
            "type": "heatmapgl"
           }
          ],
          "histogram": [
           {
            "marker": {
             "colorbar": {
              "outlinewidth": 0,
              "ticks": ""
             }
            },
            "type": "histogram"
           }
          ],
          "histogram2d": [
           {
            "colorbar": {
             "outlinewidth": 0,
             "ticks": ""
            },
            "colorscale": [
             [
              0,
              "#0d0887"
             ],
             [
              0.1111111111111111,
              "#46039f"
             ],
             [
              0.2222222222222222,
              "#7201a8"
             ],
             [
              0.3333333333333333,
              "#9c179e"
             ],
             [
              0.4444444444444444,
              "#bd3786"
             ],
             [
              0.5555555555555556,
              "#d8576b"
             ],
             [
              0.6666666666666666,
              "#ed7953"
             ],
             [
              0.7777777777777778,
              "#fb9f3a"
             ],
             [
              0.8888888888888888,
              "#fdca26"
             ],
             [
              1,
              "#f0f921"
             ]
            ],
            "type": "histogram2d"
           }
          ],
          "histogram2dcontour": [
           {
            "colorbar": {
             "outlinewidth": 0,
             "ticks": ""
            },
            "colorscale": [
             [
              0,
              "#0d0887"
             ],
             [
              0.1111111111111111,
              "#46039f"
             ],
             [
              0.2222222222222222,
              "#7201a8"
             ],
             [
              0.3333333333333333,
              "#9c179e"
             ],
             [
              0.4444444444444444,
              "#bd3786"
             ],
             [
              0.5555555555555556,
              "#d8576b"
             ],
             [
              0.6666666666666666,
              "#ed7953"
             ],
             [
              0.7777777777777778,
              "#fb9f3a"
             ],
             [
              0.8888888888888888,
              "#fdca26"
             ],
             [
              1,
              "#f0f921"
             ]
            ],
            "type": "histogram2dcontour"
           }
          ],
          "mesh3d": [
           {
            "colorbar": {
             "outlinewidth": 0,
             "ticks": ""
            },
            "type": "mesh3d"
           }
          ],
          "parcoords": [
           {
            "line": {
             "colorbar": {
              "outlinewidth": 0,
              "ticks": ""
             }
            },
            "type": "parcoords"
           }
          ],
          "pie": [
           {
            "automargin": true,
            "type": "pie"
           }
          ],
          "scatter": [
           {
            "marker": {
             "colorbar": {
              "outlinewidth": 0,
              "ticks": ""
             }
            },
            "type": "scatter"
           }
          ],
          "scatter3d": [
           {
            "line": {
             "colorbar": {
              "outlinewidth": 0,
              "ticks": ""
             }
            },
            "marker": {
             "colorbar": {
              "outlinewidth": 0,
              "ticks": ""
             }
            },
            "type": "scatter3d"
           }
          ],
          "scattercarpet": [
           {
            "marker": {
             "colorbar": {
              "outlinewidth": 0,
              "ticks": ""
             }
            },
            "type": "scattercarpet"
           }
          ],
          "scattergeo": [
           {
            "marker": {
             "colorbar": {
              "outlinewidth": 0,
              "ticks": ""
             }
            },
            "type": "scattergeo"
           }
          ],
          "scattergl": [
           {
            "marker": {
             "colorbar": {
              "outlinewidth": 0,
              "ticks": ""
             }
            },
            "type": "scattergl"
           }
          ],
          "scattermapbox": [
           {
            "marker": {
             "colorbar": {
              "outlinewidth": 0,
              "ticks": ""
             }
            },
            "type": "scattermapbox"
           }
          ],
          "scatterpolar": [
           {
            "marker": {
             "colorbar": {
              "outlinewidth": 0,
              "ticks": ""
             }
            },
            "type": "scatterpolar"
           }
          ],
          "scatterpolargl": [
           {
            "marker": {
             "colorbar": {
              "outlinewidth": 0,
              "ticks": ""
             }
            },
            "type": "scatterpolargl"
           }
          ],
          "scatterternary": [
           {
            "marker": {
             "colorbar": {
              "outlinewidth": 0,
              "ticks": ""
             }
            },
            "type": "scatterternary"
           }
          ],
          "surface": [
           {
            "colorbar": {
             "outlinewidth": 0,
             "ticks": ""
            },
            "colorscale": [
             [
              0,
              "#0d0887"
             ],
             [
              0.1111111111111111,
              "#46039f"
             ],
             [
              0.2222222222222222,
              "#7201a8"
             ],
             [
              0.3333333333333333,
              "#9c179e"
             ],
             [
              0.4444444444444444,
              "#bd3786"
             ],
             [
              0.5555555555555556,
              "#d8576b"
             ],
             [
              0.6666666666666666,
              "#ed7953"
             ],
             [
              0.7777777777777778,
              "#fb9f3a"
             ],
             [
              0.8888888888888888,
              "#fdca26"
             ],
             [
              1,
              "#f0f921"
             ]
            ],
            "type": "surface"
           }
          ],
          "table": [
           {
            "cells": {
             "fill": {
              "color": "#EBF0F8"
             },
             "line": {
              "color": "white"
             }
            },
            "header": {
             "fill": {
              "color": "#C8D4E3"
             },
             "line": {
              "color": "white"
             }
            },
            "type": "table"
           }
          ]
         },
         "layout": {
          "annotationdefaults": {
           "arrowcolor": "#2a3f5f",
           "arrowhead": 0,
           "arrowwidth": 1
          },
          "autotypenumbers": "strict",
          "coloraxis": {
           "colorbar": {
            "outlinewidth": 0,
            "ticks": ""
           }
          },
          "colorscale": {
           "diverging": [
            [
             0,
             "#8e0152"
            ],
            [
             0.1,
             "#c51b7d"
            ],
            [
             0.2,
             "#de77ae"
            ],
            [
             0.3,
             "#f1b6da"
            ],
            [
             0.4,
             "#fde0ef"
            ],
            [
             0.5,
             "#f7f7f7"
            ],
            [
             0.6,
             "#e6f5d0"
            ],
            [
             0.7,
             "#b8e186"
            ],
            [
             0.8,
             "#7fbc41"
            ],
            [
             0.9,
             "#4d9221"
            ],
            [
             1,
             "#276419"
            ]
           ],
           "sequential": [
            [
             0,
             "#0d0887"
            ],
            [
             0.1111111111111111,
             "#46039f"
            ],
            [
             0.2222222222222222,
             "#7201a8"
            ],
            [
             0.3333333333333333,
             "#9c179e"
            ],
            [
             0.4444444444444444,
             "#bd3786"
            ],
            [
             0.5555555555555556,
             "#d8576b"
            ],
            [
             0.6666666666666666,
             "#ed7953"
            ],
            [
             0.7777777777777778,
             "#fb9f3a"
            ],
            [
             0.8888888888888888,
             "#fdca26"
            ],
            [
             1,
             "#f0f921"
            ]
           ],
           "sequentialminus": [
            [
             0,
             "#0d0887"
            ],
            [
             0.1111111111111111,
             "#46039f"
            ],
            [
             0.2222222222222222,
             "#7201a8"
            ],
            [
             0.3333333333333333,
             "#9c179e"
            ],
            [
             0.4444444444444444,
             "#bd3786"
            ],
            [
             0.5555555555555556,
             "#d8576b"
            ],
            [
             0.6666666666666666,
             "#ed7953"
            ],
            [
             0.7777777777777778,
             "#fb9f3a"
            ],
            [
             0.8888888888888888,
             "#fdca26"
            ],
            [
             1,
             "#f0f921"
            ]
           ]
          },
          "colorway": [
           "#636efa",
           "#EF553B",
           "#00cc96",
           "#ab63fa",
           "#FFA15A",
           "#19d3f3",
           "#FF6692",
           "#B6E880",
           "#FF97FF",
           "#FECB52"
          ],
          "font": {
           "color": "#2a3f5f"
          },
          "geo": {
           "bgcolor": "white",
           "lakecolor": "white",
           "landcolor": "#E5ECF6",
           "showlakes": true,
           "showland": true,
           "subunitcolor": "white"
          },
          "hoverlabel": {
           "align": "left"
          },
          "hovermode": "closest",
          "mapbox": {
           "style": "light"
          },
          "paper_bgcolor": "white",
          "plot_bgcolor": "#E5ECF6",
          "polar": {
           "angularaxis": {
            "gridcolor": "white",
            "linecolor": "white",
            "ticks": ""
           },
           "bgcolor": "#E5ECF6",
           "radialaxis": {
            "gridcolor": "white",
            "linecolor": "white",
            "ticks": ""
           }
          },
          "scene": {
           "xaxis": {
            "backgroundcolor": "#E5ECF6",
            "gridcolor": "white",
            "gridwidth": 2,
            "linecolor": "white",
            "showbackground": true,
            "ticks": "",
            "zerolinecolor": "white"
           },
           "yaxis": {
            "backgroundcolor": "#E5ECF6",
            "gridcolor": "white",
            "gridwidth": 2,
            "linecolor": "white",
            "showbackground": true,
            "ticks": "",
            "zerolinecolor": "white"
           },
           "zaxis": {
            "backgroundcolor": "#E5ECF6",
            "gridcolor": "white",
            "gridwidth": 2,
            "linecolor": "white",
            "showbackground": true,
            "ticks": "",
            "zerolinecolor": "white"
           }
          },
          "shapedefaults": {
           "line": {
            "color": "#2a3f5f"
           }
          },
          "ternary": {
           "aaxis": {
            "gridcolor": "white",
            "linecolor": "white",
            "ticks": ""
           },
           "baxis": {
            "gridcolor": "white",
            "linecolor": "white",
            "ticks": ""
           },
           "bgcolor": "#E5ECF6",
           "caxis": {
            "gridcolor": "white",
            "linecolor": "white",
            "ticks": ""
           }
          },
          "title": {
           "x": 0.05
          },
          "xaxis": {
           "automargin": true,
           "gridcolor": "white",
           "linecolor": "white",
           "ticks": "",
           "title": {
            "standoff": 15
           },
           "zerolinecolor": "white",
           "zerolinewidth": 2
          },
          "yaxis": {
           "automargin": true,
           "gridcolor": "white",
           "linecolor": "white",
           "ticks": "",
           "title": {
            "standoff": 15
           },
           "zerolinecolor": "white",
           "zerolinewidth": 2
          }
         }
        },
        "title": {
         "text": "Digit 9 - Cycle file 20_cycles.vtk"
        },
        "width": 400,
        "xaxis": {
         "anchor": "y",
         "constrain": "domain",
         "domain": [
          0,
          1
         ],
         "scaleanchor": "y",
         "showticklabels": false
        },
        "yaxis": {
         "anchor": "x",
         "autorange": "reversed",
         "constrain": "domain",
         "domain": [
          0,
          1
         ],
         "showticklabels": false
        }
       }
      },
      "text/html": [
       "<div>                            <div id=\"2c5f6745-01dc-4b3d-85ba-5b28a10cd03f\" class=\"plotly-graph-div\" style=\"height:400px; width:400px;\"></div>            <script type=\"text/javascript\">                require([\"plotly\"], function(Plotly) {                    window.PLOTLYENV=window.PLOTLYENV || {};                                    if (document.getElementById(\"2c5f6745-01dc-4b3d-85ba-5b28a10cd03f\")) {                    Plotly.newPlot(                        \"2c5f6745-01dc-4b3d-85ba-5b28a10cd03f\",                        [{\"coloraxis\": \"coloraxis\", \"hovertemplate\": \"x: %{x}<br>y: %{y}<br>color: %{z}<extra></extra>\", \"name\": \"0\", \"type\": \"heatmap\", \"xaxis\": \"x\", \"yaxis\": \"y\", \"z\": [[0, 0, 0, 0, 0, 0, 0, 0, 0, 0, 0, 0, 0, 0, 0, 0, 0, 0, 0, 0, 0, 0, 0, 0, 0, 0, 0, 0], [0, 0, 0, 0, 0, 0, 0, 0, 0, 0, 0, 0, 0, 0, 0, 0, 0, 0, 0, 0, 0, 0, 0, 0, 0, 0, 0, 0], [0, 0, 0, 0, 0, 0, 0, 0, 0, 0, 0, 0, 0, 0, 0, 0, 0, 0, 0, 0, 0, 0, 0, 0, 0, 0, 0, 0], [0, 0, 0, 0, 0, 0, 0, 0, 0, 0, 0, 0, 0, 0, 0, 0, 0, 0, 0, 0, 0, 0, 0, 0, 0, 0, 0, 0], [0, 0, 0, 0, 0, 0, 0, 0, 0, 0, 0, 0, 0, 0, 0, 0, 0, 0, 0, 0, 0, 0, 0, 0, 0, 0, 0, 0], [0, 0, 0, 0, 0, 0, 0, 0, 0, 0, 0, 0, 0, 0, 0, 0, 0, 0, 0, 0, 0, 0, 0, 0, 0, 0, 0, 0], [0, 0, 0, 0, 0, 0, 0, 0, 0, 0, 0, 0, 0, 0, 0, 31, 140, 193, 44, 0, 0, 0, 0, 0, 0, 0, 0, 0], [0, 0, 0, 0, 0, 0, 0, 0, 0, 0, 0, 0, 0, 38, 146, 240, 254, 254, 228, 48, 77, 46, 0, 0, 0, 0, 0, 0], [0, 0, 0, 0, 0, 0, 0, 0, 0, 0, 0, 2, 43, 230, 254, 254, 254, 254, 254, 241, 254, 197, 2, 0, 0, 0, 0, 0], [0, 0, 0, 0, 0, 0, 0, 0, 0, 0, 21, 130, 254, 254, 254, 239, 252, 254, 254, 254, 254, 237, 4, 0, 0, 0, 0, 0], [0, 0, 0, 0, 0, 0, 0, 0, 0, 0, 154, 254, 254, 249, 104, 71, 198, 254, 254, 254, 234, 57, 0, 0, 0, 0, 0, 0], [0, 0, 0, 0, 0, 0, 0, 0, 2, 173, 252, 252, 206, 51, 120, 215, 254, 254, 254, 254, 184, 0, 0, 0, 0, 0, 0, 0], [0, 0, 0, 0, 0, 0, 0, 0, 112, 254, 254, 215, 87, 247, 254, 254, 254, 254, 254, 217, 31, 0, 0, 0, 0, 0, 0, 0], [0, 0, 0, 0, 0, 0, 0, 5, 231, 254, 254, 254, 254, 254, 236, 128, 196, 254, 254, 119, 0, 0, 0, 0, 0, 0, 0, 0], [0, 0, 0, 0, 0, 0, 0, 3, 197, 254, 254, 245, 238, 131, 17, 46, 247, 254, 199, 14, 0, 0, 0, 0, 0, 0, 0, 0], [0, 0, 0, 0, 0, 0, 0, 0, 16, 92, 88, 40, 0, 0, 12, 173, 254, 242, 38, 0, 0, 0, 0, 0, 0, 0, 0, 0], [0, 0, 0, 0, 0, 0, 0, 0, 0, 0, 0, 0, 0, 0, 95, 254, 254, 155, 0, 0, 0, 0, 0, 0, 0, 0, 0, 0], [0, 0, 0, 0, 0, 0, 0, 0, 0, 0, 0, 0, 0, 18, 210, 254, 225, 6, 0, 0, 0, 0, 0, 0, 0, 0, 0, 0], [0, 0, 0, 0, 0, 0, 0, 0, 0, 0, 0, 0, 0, 197, 254, 254, 99, 0, 0, 0, 0, 0, 0, 0, 0, 0, 0, 0], [0, 0, 0, 0, 0, 0, 0, 0, 0, 0, 0, 0, 34, 242, 254, 179, 3, 0, 0, 0, 0, 0, 0, 0, 0, 0, 0, 0], [0, 0, 0, 0, 0, 0, 0, 0, 0, 0, 0, 27, 223, 254, 225, 30, 0, 0, 0, 0, 0, 0, 0, 0, 0, 0, 0, 0], [0, 0, 0, 0, 0, 0, 0, 0, 0, 0, 0, 77, 254, 255, 127, 0, 0, 0, 0, 0, 0, 0, 0, 0, 0, 0, 0, 0], [0, 0, 0, 0, 0, 0, 0, 0, 0, 0, 54, 238, 254, 248, 53, 0, 0, 0, 0, 0, 0, 0, 0, 0, 0, 0, 0, 0], [0, 0, 0, 0, 0, 0, 0, 0, 0, 11, 183, 254, 254, 231, 41, 0, 0, 0, 0, 0, 0, 0, 0, 0, 0, 0, 0, 0], [0, 0, 0, 0, 0, 0, 0, 0, 0, 113, 254, 254, 230, 48, 0, 0, 0, 0, 0, 0, 0, 0, 0, 0, 0, 0, 0, 0], [0, 0, 0, 0, 0, 0, 0, 0, 0, 110, 239, 126, 25, 0, 0, 0, 0, 0, 0, 0, 0, 0, 0, 0, 0, 0, 0, 0], [0, 0, 0, 0, 0, 0, 0, 0, 0, 0, 0, 0, 0, 0, 0, 0, 0, 0, 0, 0, 0, 0, 0, 0, 0, 0, 0, 0], [0, 0, 0, 0, 0, 0, 0, 0, 0, 0, 0, 0, 0, 0, 0, 0, 0, 0, 0, 0, 0, 0, 0, 0, 0, 0, 0, 0]]}, {\"mode\": \"lines\", \"type\": \"scatter\", \"x\": [8.0, 8.0, 9.0, 10.0, 10.0, 9.0, 8.0], \"y\": [10.0, 11.0, 11.0, 10.0, 9.0, 9.0, 10.0]}, {\"mode\": \"lines\", \"type\": \"scatter\", \"x\": [15.0, 15.0, 16.0, 15.0], \"y\": [15.0, 16.0, 15.0, 15.0]}],                        {\"coloraxis\": {\"colorscale\": [[0.0, \"rgb(0, 0, 0)\"], [0.09090909090909091, \"rgb(16, 16, 16)\"], [0.18181818181818182, \"rgb(38, 38, 38)\"], [0.2727272727272727, \"rgb(59, 59, 59)\"], [0.36363636363636365, \"rgb(81, 80, 80)\"], [0.45454545454545453, \"rgb(102, 101, 101)\"], [0.5454545454545454, \"rgb(124, 123, 122)\"], [0.6363636363636364, \"rgb(146, 146, 145)\"], [0.7272727272727273, \"rgb(171, 171, 170)\"], [0.8181818181818182, \"rgb(197, 197, 195)\"], [0.9090909090909091, \"rgb(224, 224, 223)\"], [1.0, \"rgb(254, 254, 253)\"]], \"showscale\": false}, \"height\": 400, \"margin\": {\"t\": 60}, \"template\": {\"data\": {\"bar\": [{\"error_x\": {\"color\": \"#2a3f5f\"}, \"error_y\": {\"color\": \"#2a3f5f\"}, \"marker\": {\"line\": {\"color\": \"#E5ECF6\", \"width\": 0.5}}, \"type\": \"bar\"}], \"barpolar\": [{\"marker\": {\"line\": {\"color\": \"#E5ECF6\", \"width\": 0.5}}, \"type\": \"barpolar\"}], \"carpet\": [{\"aaxis\": {\"endlinecolor\": \"#2a3f5f\", \"gridcolor\": \"white\", \"linecolor\": \"white\", \"minorgridcolor\": \"white\", \"startlinecolor\": \"#2a3f5f\"}, \"baxis\": {\"endlinecolor\": \"#2a3f5f\", \"gridcolor\": \"white\", \"linecolor\": \"white\", \"minorgridcolor\": \"white\", \"startlinecolor\": \"#2a3f5f\"}, \"type\": \"carpet\"}], \"choropleth\": [{\"colorbar\": {\"outlinewidth\": 0, \"ticks\": \"\"}, \"type\": \"choropleth\"}], \"contour\": [{\"colorbar\": {\"outlinewidth\": 0, \"ticks\": \"\"}, \"colorscale\": [[0.0, \"#0d0887\"], [0.1111111111111111, \"#46039f\"], [0.2222222222222222, \"#7201a8\"], [0.3333333333333333, \"#9c179e\"], [0.4444444444444444, \"#bd3786\"], [0.5555555555555556, \"#d8576b\"], [0.6666666666666666, \"#ed7953\"], [0.7777777777777778, \"#fb9f3a\"], [0.8888888888888888, \"#fdca26\"], [1.0, \"#f0f921\"]], \"type\": \"contour\"}], \"contourcarpet\": [{\"colorbar\": {\"outlinewidth\": 0, \"ticks\": \"\"}, \"type\": \"contourcarpet\"}], \"heatmap\": [{\"colorbar\": {\"outlinewidth\": 0, \"ticks\": \"\"}, \"colorscale\": [[0.0, \"#0d0887\"], [0.1111111111111111, \"#46039f\"], [0.2222222222222222, \"#7201a8\"], [0.3333333333333333, \"#9c179e\"], [0.4444444444444444, \"#bd3786\"], [0.5555555555555556, \"#d8576b\"], [0.6666666666666666, \"#ed7953\"], [0.7777777777777778, \"#fb9f3a\"], [0.8888888888888888, \"#fdca26\"], [1.0, \"#f0f921\"]], \"type\": \"heatmap\"}], \"heatmapgl\": [{\"colorbar\": {\"outlinewidth\": 0, \"ticks\": \"\"}, \"colorscale\": [[0.0, \"#0d0887\"], [0.1111111111111111, \"#46039f\"], [0.2222222222222222, \"#7201a8\"], [0.3333333333333333, \"#9c179e\"], [0.4444444444444444, \"#bd3786\"], [0.5555555555555556, \"#d8576b\"], [0.6666666666666666, \"#ed7953\"], [0.7777777777777778, \"#fb9f3a\"], [0.8888888888888888, \"#fdca26\"], [1.0, \"#f0f921\"]], \"type\": \"heatmapgl\"}], \"histogram\": [{\"marker\": {\"colorbar\": {\"outlinewidth\": 0, \"ticks\": \"\"}}, \"type\": \"histogram\"}], \"histogram2d\": [{\"colorbar\": {\"outlinewidth\": 0, \"ticks\": \"\"}, \"colorscale\": [[0.0, \"#0d0887\"], [0.1111111111111111, \"#46039f\"], [0.2222222222222222, \"#7201a8\"], [0.3333333333333333, \"#9c179e\"], [0.4444444444444444, \"#bd3786\"], [0.5555555555555556, \"#d8576b\"], [0.6666666666666666, \"#ed7953\"], [0.7777777777777778, \"#fb9f3a\"], [0.8888888888888888, \"#fdca26\"], [1.0, \"#f0f921\"]], \"type\": \"histogram2d\"}], \"histogram2dcontour\": [{\"colorbar\": {\"outlinewidth\": 0, \"ticks\": \"\"}, \"colorscale\": [[0.0, \"#0d0887\"], [0.1111111111111111, \"#46039f\"], [0.2222222222222222, \"#7201a8\"], [0.3333333333333333, \"#9c179e\"], [0.4444444444444444, \"#bd3786\"], [0.5555555555555556, \"#d8576b\"], [0.6666666666666666, \"#ed7953\"], [0.7777777777777778, \"#fb9f3a\"], [0.8888888888888888, \"#fdca26\"], [1.0, \"#f0f921\"]], \"type\": \"histogram2dcontour\"}], \"mesh3d\": [{\"colorbar\": {\"outlinewidth\": 0, \"ticks\": \"\"}, \"type\": \"mesh3d\"}], \"parcoords\": [{\"line\": {\"colorbar\": {\"outlinewidth\": 0, \"ticks\": \"\"}}, \"type\": \"parcoords\"}], \"pie\": [{\"automargin\": true, \"type\": \"pie\"}], \"scatter\": [{\"marker\": {\"colorbar\": {\"outlinewidth\": 0, \"ticks\": \"\"}}, \"type\": \"scatter\"}], \"scatter3d\": [{\"line\": {\"colorbar\": {\"outlinewidth\": 0, \"ticks\": \"\"}}, \"marker\": {\"colorbar\": {\"outlinewidth\": 0, \"ticks\": \"\"}}, \"type\": \"scatter3d\"}], \"scattercarpet\": [{\"marker\": {\"colorbar\": {\"outlinewidth\": 0, \"ticks\": \"\"}}, \"type\": \"scattercarpet\"}], \"scattergeo\": [{\"marker\": {\"colorbar\": {\"outlinewidth\": 0, \"ticks\": \"\"}}, \"type\": \"scattergeo\"}], \"scattergl\": [{\"marker\": {\"colorbar\": {\"outlinewidth\": 0, \"ticks\": \"\"}}, \"type\": \"scattergl\"}], \"scattermapbox\": [{\"marker\": {\"colorbar\": {\"outlinewidth\": 0, \"ticks\": \"\"}}, \"type\": \"scattermapbox\"}], \"scatterpolar\": [{\"marker\": {\"colorbar\": {\"outlinewidth\": 0, \"ticks\": \"\"}}, \"type\": \"scatterpolar\"}], \"scatterpolargl\": [{\"marker\": {\"colorbar\": {\"outlinewidth\": 0, \"ticks\": \"\"}}, \"type\": \"scatterpolargl\"}], \"scatterternary\": [{\"marker\": {\"colorbar\": {\"outlinewidth\": 0, \"ticks\": \"\"}}, \"type\": \"scatterternary\"}], \"surface\": [{\"colorbar\": {\"outlinewidth\": 0, \"ticks\": \"\"}, \"colorscale\": [[0.0, \"#0d0887\"], [0.1111111111111111, \"#46039f\"], [0.2222222222222222, \"#7201a8\"], [0.3333333333333333, \"#9c179e\"], [0.4444444444444444, \"#bd3786\"], [0.5555555555555556, \"#d8576b\"], [0.6666666666666666, \"#ed7953\"], [0.7777777777777778, \"#fb9f3a\"], [0.8888888888888888, \"#fdca26\"], [1.0, \"#f0f921\"]], \"type\": \"surface\"}], \"table\": [{\"cells\": {\"fill\": {\"color\": \"#EBF0F8\"}, \"line\": {\"color\": \"white\"}}, \"header\": {\"fill\": {\"color\": \"#C8D4E3\"}, \"line\": {\"color\": \"white\"}}, \"type\": \"table\"}]}, \"layout\": {\"annotationdefaults\": {\"arrowcolor\": \"#2a3f5f\", \"arrowhead\": 0, \"arrowwidth\": 1}, \"autotypenumbers\": \"strict\", \"coloraxis\": {\"colorbar\": {\"outlinewidth\": 0, \"ticks\": \"\"}}, \"colorscale\": {\"diverging\": [[0, \"#8e0152\"], [0.1, \"#c51b7d\"], [0.2, \"#de77ae\"], [0.3, \"#f1b6da\"], [0.4, \"#fde0ef\"], [0.5, \"#f7f7f7\"], [0.6, \"#e6f5d0\"], [0.7, \"#b8e186\"], [0.8, \"#7fbc41\"], [0.9, \"#4d9221\"], [1, \"#276419\"]], \"sequential\": [[0.0, \"#0d0887\"], [0.1111111111111111, \"#46039f\"], [0.2222222222222222, \"#7201a8\"], [0.3333333333333333, \"#9c179e\"], [0.4444444444444444, \"#bd3786\"], [0.5555555555555556, \"#d8576b\"], [0.6666666666666666, \"#ed7953\"], [0.7777777777777778, \"#fb9f3a\"], [0.8888888888888888, \"#fdca26\"], [1.0, \"#f0f921\"]], \"sequentialminus\": [[0.0, \"#0d0887\"], [0.1111111111111111, \"#46039f\"], [0.2222222222222222, \"#7201a8\"], [0.3333333333333333, \"#9c179e\"], [0.4444444444444444, \"#bd3786\"], [0.5555555555555556, \"#d8576b\"], [0.6666666666666666, \"#ed7953\"], [0.7777777777777778, \"#fb9f3a\"], [0.8888888888888888, \"#fdca26\"], [1.0, \"#f0f921\"]]}, \"colorway\": [\"#636efa\", \"#EF553B\", \"#00cc96\", \"#ab63fa\", \"#FFA15A\", \"#19d3f3\", \"#FF6692\", \"#B6E880\", \"#FF97FF\", \"#FECB52\"], \"font\": {\"color\": \"#2a3f5f\"}, \"geo\": {\"bgcolor\": \"white\", \"lakecolor\": \"white\", \"landcolor\": \"#E5ECF6\", \"showlakes\": true, \"showland\": true, \"subunitcolor\": \"white\"}, \"hoverlabel\": {\"align\": \"left\"}, \"hovermode\": \"closest\", \"mapbox\": {\"style\": \"light\"}, \"paper_bgcolor\": \"white\", \"plot_bgcolor\": \"#E5ECF6\", \"polar\": {\"angularaxis\": {\"gridcolor\": \"white\", \"linecolor\": \"white\", \"ticks\": \"\"}, \"bgcolor\": \"#E5ECF6\", \"radialaxis\": {\"gridcolor\": \"white\", \"linecolor\": \"white\", \"ticks\": \"\"}}, \"scene\": {\"xaxis\": {\"backgroundcolor\": \"#E5ECF6\", \"gridcolor\": \"white\", \"gridwidth\": 2, \"linecolor\": \"white\", \"showbackground\": true, \"ticks\": \"\", \"zerolinecolor\": \"white\"}, \"yaxis\": {\"backgroundcolor\": \"#E5ECF6\", \"gridcolor\": \"white\", \"gridwidth\": 2, \"linecolor\": \"white\", \"showbackground\": true, \"ticks\": \"\", \"zerolinecolor\": \"white\"}, \"zaxis\": {\"backgroundcolor\": \"#E5ECF6\", \"gridcolor\": \"white\", \"gridwidth\": 2, \"linecolor\": \"white\", \"showbackground\": true, \"ticks\": \"\", \"zerolinecolor\": \"white\"}}, \"shapedefaults\": {\"line\": {\"color\": \"#2a3f5f\"}}, \"ternary\": {\"aaxis\": {\"gridcolor\": \"white\", \"linecolor\": \"white\", \"ticks\": \"\"}, \"baxis\": {\"gridcolor\": \"white\", \"linecolor\": \"white\", \"ticks\": \"\"}, \"bgcolor\": \"#E5ECF6\", \"caxis\": {\"gridcolor\": \"white\", \"linecolor\": \"white\", \"ticks\": \"\"}}, \"title\": {\"x\": 0.05}, \"xaxis\": {\"automargin\": true, \"gridcolor\": \"white\", \"linecolor\": \"white\", \"ticks\": \"\", \"title\": {\"standoff\": 15}, \"zerolinecolor\": \"white\", \"zerolinewidth\": 2}, \"yaxis\": {\"automargin\": true, \"gridcolor\": \"white\", \"linecolor\": \"white\", \"ticks\": \"\", \"title\": {\"standoff\": 15}, \"zerolinecolor\": \"white\", \"zerolinewidth\": 2}}}, \"title\": {\"text\": \"Digit 9 - Cycle file 20_cycles.vtk\"}, \"width\": 400, \"xaxis\": {\"anchor\": \"y\", \"constrain\": \"domain\", \"domain\": [0.0, 1.0], \"scaleanchor\": \"y\", \"showticklabels\": false}, \"yaxis\": {\"anchor\": \"x\", \"autorange\": \"reversed\", \"constrain\": \"domain\", \"domain\": [0.0, 1.0], \"showticklabels\": false}},                        {\"responsive\": true}                    ).then(function(){\n",
       "                            \n",
       "var gd = document.getElementById('2c5f6745-01dc-4b3d-85ba-5b28a10cd03f');\n",
       "var x = new MutationObserver(function (mutations, observer) {{\n",
       "        var display = window.getComputedStyle(gd).display;\n",
       "        if (!display || display === 'none') {{\n",
       "            console.log([gd, 'removed!']);\n",
       "            Plotly.purge(gd);\n",
       "            observer.disconnect();\n",
       "        }}\n",
       "}});\n",
       "\n",
       "// Listen for the removal of the full notebook cells\n",
       "var notebookContainer = gd.closest('#notebook-container');\n",
       "if (notebookContainer) {{\n",
       "    x.observe(notebookContainer, {childList: true});\n",
       "}}\n",
       "\n",
       "// Listen for the clearing of the current output cell\n",
       "var outputEl = gd.closest('.output');\n",
       "if (outputEl) {{\n",
       "    x.observe(outputEl, {childList: true});\n",
       "}}\n",
       "\n",
       "                        })                };                });            </script>        </div>"
      ]
     },
     "metadata": {},
     "output_type": "display_data"
    }
   ],
   "source": [
    "digitList = [\"2/208\", \"6/559\", \"9/20\"]\n",
    "\n",
    "for digitPrefix in digitList:\n",
    "    pngFile = os.path.join(IMG_DIR, digitPrefix+\".png\")\n",
    "    img = io.imread(pngFile)\n",
    "\n",
    "    cycleFile = os.path.join(VTK_DIR, digitPrefix+\"_cycles.vtk\")\n",
    "    iplot(visualizeCycles(img, cycleFile))"
   ]
  },
  {
   "cell_type": "markdown",
   "id": "aed6ccac",
   "metadata": {},
   "source": [
    "From the images above, we can see that no major cycles are deteced in these digits, which makes them end up to be in the same cluster. We can find the similar cause for other points in the figure too."
   ]
  },
  {
   "cell_type": "markdown",
   "id": "united-column",
   "metadata": {},
   "source": [
    "# 3. Benchmark"
   ]
  },
  {
   "cell_type": "markdown",
   "id": "rising-anime",
   "metadata": {},
   "source": [
    "\n",
    "Our apprach uses Discrete Morse Theory to encode the original chain complex by means of a Forma gradient. In practice, this allows for a more compact encoding of the information normally contained in the boundary matrix. Everything is implemented in plain C++ and integrated in the [TTK library]().\n",
    "\n",
    "The steps for computing persistent homology with our modules are the following:\n",
    "\n",
    "1. triangulate the input image (feature provided by [TTK](https://github.com/topology-tool-kit/ttk/tree/dev/core/vtk/ttkTriangulationReader))\n",
    "2. compute the Forman gradient according to the algorithm by [Robins et al., 2011](https://ieeexplore.ieee.org/document/5766002) (implemented [here](https://github.com/IuricichF/PersistenceCycles/tree/main/ttk-0.9.7/core/base/formanGradient))\n",
    "3. compute the chain complex represented by the Forman gradient (implemented [here](https://github.com/IuricichF/PersistenceCycles/blob/b68ae3ebc218ed69babeee5c1e4ac7f5a89564cd/ttk-0.9.7/core/base/fG_PersistentHomology/FG_PersistentHomology_template.h#L37))\n",
    "4. use the standard algorithm to compute persitent homology on the chain complex (implemented [here](https://github.com/IuricichF/PersistenceCycles/tree/main/ttk-0.9.7/core/base/boundaryMatrix))\n",
    "5. for each pair reconstruct the cycle (implemented [here](https://github.com/IuricichF/PersistenceCycles/blob/b68ae3ebc218ed69babeee5c1e4ac7f5a89564cd/ttk-0.9.7/core/base/fG_PersistentHomology/FG_PersistentHomology_template.h#L318))\n",
    "\n",
    "The method turns out very efficient even if we are just interested in computing persistent homology. On the larger image we tested it (a 3D image of size [500x500x100]) the computation of persistent homology takes 66.5 seconds and 1.09GB of memory using 48 threads on a desktop computer with two 3.00GHz Intel Xeon 6136 CPUs and 64GB of memory. As a comparison, [DIPHA](https://github.com/DIPHA/dipha) requires 69.4 seconds and 29.7GB on the same machine.\n",
    "\n",
    "\n",
    "Mapping information from the persistent diagram back to the original domain is a feature rarely offered by TDA packages. In part, this is due to the algorithms used to speedup persistent homology computation. Since they distrupt the information contained in the boundary matrix, it becomes impossible to reconstruct cycles.\n",
    "\n",
    "Finding the location of the simplices responsible for a birth or death is simpler task. To the best of our knowledge only [TTK](https://topology-tool-kit.github.io/index.html) and [HomCloud](https://homcloud.dev/basic-usage.en.html) provide such feature.\n",
    "\n",
    "Regarding the computation of cycles, [Eeirene](https://github.com/Eetion/Eirene.jl), a package developed in Julia, provides the computation of representative cycles when working on Vietoris-Rips filtrations."
   ]
  },
  {
   "cell_type": "markdown",
   "id": "diverse-accreditation",
   "metadata": {},
   "source": [
    "# 4. Limitations and Perspectives"
   ]
  },
  {
   "cell_type": "markdown",
   "id": "suburban-nursing",
   "metadata": {},
   "source": [
    "## Limitations of our method\n",
    "\n",
    "To build up our notebook we had to compute persistence diagrams and corresponding cycles outside of Giotto-TDA. We also needed persistence pairs to be aligned with the cycles computed.\n",
    "\n",
    "Our currenet implementation presents some limitation since it is designed to work with simplicial complexes up to dimension 3 only. This includes triangle meshes, tetrahedral meshes, or 2D and 3D images that are automatically triangulated by TTK.\n",
    "\n",
    "## Limitations of Giotto-TDA\n",
    "\n",
    "One problem we encountered wth Giotto-TDA was when computing persistence images on persistence diagrams formed by a single persistence pair. As the example shown below, we get an empty persistence image when there is only one persistence pair. \n"
   ]
  },
  {
   "cell_type": "code",
   "execution_count": 22,
   "id": "annual-semester",
   "metadata": {},
   "outputs": [
    {
     "name": "stdout",
     "output_type": "stream",
     "text": [
      "[[[[0. 0. 0. 0. 0. 0. 0. 0. 0. 0.]\n",
      "   [0. 0. 0. 0. 0. 0. 0. 0. 0. 0.]\n",
      "   [0. 0. 0. 0. 0. 0. 0. 0. 0. 0.]\n",
      "   [0. 0. 0. 0. 0. 0. 0. 0. 0. 0.]\n",
      "   [0. 0. 0. 0. 0. 0. 0. 0. 0. 0.]\n",
      "   [0. 0. 0. 0. 0. 0. 0. 0. 0. 0.]\n",
      "   [0. 0. 0. 0. 0. 0. 0. 0. 0. 0.]\n",
      "   [0. 0. 0. 0. 0. 0. 0. 0. 0. 0.]\n",
      "   [0. 0. 0. 0. 0. 0. 0. 0. 0. 0.]\n",
      "   [0. 0. 0. 0. 0. 0. 0. 0. 0. 0.]]]]\n"
     ]
    },
    {
     "data": {
      "application/vnd.plotly.v1+json": {
       "config": {
        "linkText": "Export to plot.ly",
        "plotlyServerURL": "https://plot.ly",
        "showLink": false
       },
       "data": [
        {
         "colorscale": [
          [
           0,
           "rgb(247,251,255)"
          ],
          [
           0.125,
           "rgb(222,235,247)"
          ],
          [
           0.25,
           "rgb(198,219,239)"
          ],
          [
           0.375,
           "rgb(158,202,225)"
          ],
          [
           0.5,
           "rgb(107,174,214)"
          ],
          [
           0.625,
           "rgb(66,146,198)"
          ],
          [
           0.75,
           "rgb(33,113,181)"
          ],
          [
           0.875,
           "rgb(8,81,156)"
          ],
          [
           1,
           "rgb(8,48,107)"
          ]
         ],
         "type": "heatmap",
         "x": [
          0.1,
          0.1,
          0.1,
          0.1,
          0.1,
          0.1,
          0.1,
          0.1,
          0.1,
          0.1
         ],
         "y": [
          0.1,
          0.1,
          0.1,
          0.1,
          0.1,
          0.1,
          0.1,
          0.1,
          0.1,
          0.1
         ],
         "z": [
          0,
          0,
          0,
          0,
          0,
          0,
          0,
          0,
          0,
          0
         ]
        }
       ],
       "layout": {
        "plot_bgcolor": "white",
        "template": {
         "data": {
          "bar": [
           {
            "error_x": {
             "color": "#2a3f5f"
            },
            "error_y": {
             "color": "#2a3f5f"
            },
            "marker": {
             "line": {
              "color": "#E5ECF6",
              "width": 0.5
             }
            },
            "type": "bar"
           }
          ],
          "barpolar": [
           {
            "marker": {
             "line": {
              "color": "#E5ECF6",
              "width": 0.5
             }
            },
            "type": "barpolar"
           }
          ],
          "carpet": [
           {
            "aaxis": {
             "endlinecolor": "#2a3f5f",
             "gridcolor": "white",
             "linecolor": "white",
             "minorgridcolor": "white",
             "startlinecolor": "#2a3f5f"
            },
            "baxis": {
             "endlinecolor": "#2a3f5f",
             "gridcolor": "white",
             "linecolor": "white",
             "minorgridcolor": "white",
             "startlinecolor": "#2a3f5f"
            },
            "type": "carpet"
           }
          ],
          "choropleth": [
           {
            "colorbar": {
             "outlinewidth": 0,
             "ticks": ""
            },
            "type": "choropleth"
           }
          ],
          "contour": [
           {
            "colorbar": {
             "outlinewidth": 0,
             "ticks": ""
            },
            "colorscale": [
             [
              0,
              "#0d0887"
             ],
             [
              0.1111111111111111,
              "#46039f"
             ],
             [
              0.2222222222222222,
              "#7201a8"
             ],
             [
              0.3333333333333333,
              "#9c179e"
             ],
             [
              0.4444444444444444,
              "#bd3786"
             ],
             [
              0.5555555555555556,
              "#d8576b"
             ],
             [
              0.6666666666666666,
              "#ed7953"
             ],
             [
              0.7777777777777778,
              "#fb9f3a"
             ],
             [
              0.8888888888888888,
              "#fdca26"
             ],
             [
              1,
              "#f0f921"
             ]
            ],
            "type": "contour"
           }
          ],
          "contourcarpet": [
           {
            "colorbar": {
             "outlinewidth": 0,
             "ticks": ""
            },
            "type": "contourcarpet"
           }
          ],
          "heatmap": [
           {
            "colorbar": {
             "outlinewidth": 0,
             "ticks": ""
            },
            "colorscale": [
             [
              0,
              "#0d0887"
             ],
             [
              0.1111111111111111,
              "#46039f"
             ],
             [
              0.2222222222222222,
              "#7201a8"
             ],
             [
              0.3333333333333333,
              "#9c179e"
             ],
             [
              0.4444444444444444,
              "#bd3786"
             ],
             [
              0.5555555555555556,
              "#d8576b"
             ],
             [
              0.6666666666666666,
              "#ed7953"
             ],
             [
              0.7777777777777778,
              "#fb9f3a"
             ],
             [
              0.8888888888888888,
              "#fdca26"
             ],
             [
              1,
              "#f0f921"
             ]
            ],
            "type": "heatmap"
           }
          ],
          "heatmapgl": [
           {
            "colorbar": {
             "outlinewidth": 0,
             "ticks": ""
            },
            "colorscale": [
             [
              0,
              "#0d0887"
             ],
             [
              0.1111111111111111,
              "#46039f"
             ],
             [
              0.2222222222222222,
              "#7201a8"
             ],
             [
              0.3333333333333333,
              "#9c179e"
             ],
             [
              0.4444444444444444,
              "#bd3786"
             ],
             [
              0.5555555555555556,
              "#d8576b"
             ],
             [
              0.6666666666666666,
              "#ed7953"
             ],
             [
              0.7777777777777778,
              "#fb9f3a"
             ],
             [
              0.8888888888888888,
              "#fdca26"
             ],
             [
              1,
              "#f0f921"
             ]
            ],
            "type": "heatmapgl"
           }
          ],
          "histogram": [
           {
            "marker": {
             "colorbar": {
              "outlinewidth": 0,
              "ticks": ""
             }
            },
            "type": "histogram"
           }
          ],
          "histogram2d": [
           {
            "colorbar": {
             "outlinewidth": 0,
             "ticks": ""
            },
            "colorscale": [
             [
              0,
              "#0d0887"
             ],
             [
              0.1111111111111111,
              "#46039f"
             ],
             [
              0.2222222222222222,
              "#7201a8"
             ],
             [
              0.3333333333333333,
              "#9c179e"
             ],
             [
              0.4444444444444444,
              "#bd3786"
             ],
             [
              0.5555555555555556,
              "#d8576b"
             ],
             [
              0.6666666666666666,
              "#ed7953"
             ],
             [
              0.7777777777777778,
              "#fb9f3a"
             ],
             [
              0.8888888888888888,
              "#fdca26"
             ],
             [
              1,
              "#f0f921"
             ]
            ],
            "type": "histogram2d"
           }
          ],
          "histogram2dcontour": [
           {
            "colorbar": {
             "outlinewidth": 0,
             "ticks": ""
            },
            "colorscale": [
             [
              0,
              "#0d0887"
             ],
             [
              0.1111111111111111,
              "#46039f"
             ],
             [
              0.2222222222222222,
              "#7201a8"
             ],
             [
              0.3333333333333333,
              "#9c179e"
             ],
             [
              0.4444444444444444,
              "#bd3786"
             ],
             [
              0.5555555555555556,
              "#d8576b"
             ],
             [
              0.6666666666666666,
              "#ed7953"
             ],
             [
              0.7777777777777778,
              "#fb9f3a"
             ],
             [
              0.8888888888888888,
              "#fdca26"
             ],
             [
              1,
              "#f0f921"
             ]
            ],
            "type": "histogram2dcontour"
           }
          ],
          "mesh3d": [
           {
            "colorbar": {
             "outlinewidth": 0,
             "ticks": ""
            },
            "type": "mesh3d"
           }
          ],
          "parcoords": [
           {
            "line": {
             "colorbar": {
              "outlinewidth": 0,
              "ticks": ""
             }
            },
            "type": "parcoords"
           }
          ],
          "pie": [
           {
            "automargin": true,
            "type": "pie"
           }
          ],
          "scatter": [
           {
            "marker": {
             "colorbar": {
              "outlinewidth": 0,
              "ticks": ""
             }
            },
            "type": "scatter"
           }
          ],
          "scatter3d": [
           {
            "line": {
             "colorbar": {
              "outlinewidth": 0,
              "ticks": ""
             }
            },
            "marker": {
             "colorbar": {
              "outlinewidth": 0,
              "ticks": ""
             }
            },
            "type": "scatter3d"
           }
          ],
          "scattercarpet": [
           {
            "marker": {
             "colorbar": {
              "outlinewidth": 0,
              "ticks": ""
             }
            },
            "type": "scattercarpet"
           }
          ],
          "scattergeo": [
           {
            "marker": {
             "colorbar": {
              "outlinewidth": 0,
              "ticks": ""
             }
            },
            "type": "scattergeo"
           }
          ],
          "scattergl": [
           {
            "marker": {
             "colorbar": {
              "outlinewidth": 0,
              "ticks": ""
             }
            },
            "type": "scattergl"
           }
          ],
          "scattermapbox": [
           {
            "marker": {
             "colorbar": {
              "outlinewidth": 0,
              "ticks": ""
             }
            },
            "type": "scattermapbox"
           }
          ],
          "scatterpolar": [
           {
            "marker": {
             "colorbar": {
              "outlinewidth": 0,
              "ticks": ""
             }
            },
            "type": "scatterpolar"
           }
          ],
          "scatterpolargl": [
           {
            "marker": {
             "colorbar": {
              "outlinewidth": 0,
              "ticks": ""
             }
            },
            "type": "scatterpolargl"
           }
          ],
          "scatterternary": [
           {
            "marker": {
             "colorbar": {
              "outlinewidth": 0,
              "ticks": ""
             }
            },
            "type": "scatterternary"
           }
          ],
          "surface": [
           {
            "colorbar": {
             "outlinewidth": 0,
             "ticks": ""
            },
            "colorscale": [
             [
              0,
              "#0d0887"
             ],
             [
              0.1111111111111111,
              "#46039f"
             ],
             [
              0.2222222222222222,
              "#7201a8"
             ],
             [
              0.3333333333333333,
              "#9c179e"
             ],
             [
              0.4444444444444444,
              "#bd3786"
             ],
             [
              0.5555555555555556,
              "#d8576b"
             ],
             [
              0.6666666666666666,
              "#ed7953"
             ],
             [
              0.7777777777777778,
              "#fb9f3a"
             ],
             [
              0.8888888888888888,
              "#fdca26"
             ],
             [
              1,
              "#f0f921"
             ]
            ],
            "type": "surface"
           }
          ],
          "table": [
           {
            "cells": {
             "fill": {
              "color": "#EBF0F8"
             },
             "line": {
              "color": "white"
             }
            },
            "header": {
             "fill": {
              "color": "#C8D4E3"
             },
             "line": {
              "color": "white"
             }
            },
            "type": "table"
           }
          ]
         },
         "layout": {
          "annotationdefaults": {
           "arrowcolor": "#2a3f5f",
           "arrowhead": 0,
           "arrowwidth": 1
          },
          "autotypenumbers": "strict",
          "coloraxis": {
           "colorbar": {
            "outlinewidth": 0,
            "ticks": ""
           }
          },
          "colorscale": {
           "diverging": [
            [
             0,
             "#8e0152"
            ],
            [
             0.1,
             "#c51b7d"
            ],
            [
             0.2,
             "#de77ae"
            ],
            [
             0.3,
             "#f1b6da"
            ],
            [
             0.4,
             "#fde0ef"
            ],
            [
             0.5,
             "#f7f7f7"
            ],
            [
             0.6,
             "#e6f5d0"
            ],
            [
             0.7,
             "#b8e186"
            ],
            [
             0.8,
             "#7fbc41"
            ],
            [
             0.9,
             "#4d9221"
            ],
            [
             1,
             "#276419"
            ]
           ],
           "sequential": [
            [
             0,
             "#0d0887"
            ],
            [
             0.1111111111111111,
             "#46039f"
            ],
            [
             0.2222222222222222,
             "#7201a8"
            ],
            [
             0.3333333333333333,
             "#9c179e"
            ],
            [
             0.4444444444444444,
             "#bd3786"
            ],
            [
             0.5555555555555556,
             "#d8576b"
            ],
            [
             0.6666666666666666,
             "#ed7953"
            ],
            [
             0.7777777777777778,
             "#fb9f3a"
            ],
            [
             0.8888888888888888,
             "#fdca26"
            ],
            [
             1,
             "#f0f921"
            ]
           ],
           "sequentialminus": [
            [
             0,
             "#0d0887"
            ],
            [
             0.1111111111111111,
             "#46039f"
            ],
            [
             0.2222222222222222,
             "#7201a8"
            ],
            [
             0.3333333333333333,
             "#9c179e"
            ],
            [
             0.4444444444444444,
             "#bd3786"
            ],
            [
             0.5555555555555556,
             "#d8576b"
            ],
            [
             0.6666666666666666,
             "#ed7953"
            ],
            [
             0.7777777777777778,
             "#fb9f3a"
            ],
            [
             0.8888888888888888,
             "#fdca26"
            ],
            [
             1,
             "#f0f921"
            ]
           ]
          },
          "colorway": [
           "#636efa",
           "#EF553B",
           "#00cc96",
           "#ab63fa",
           "#FFA15A",
           "#19d3f3",
           "#FF6692",
           "#B6E880",
           "#FF97FF",
           "#FECB52"
          ],
          "font": {
           "color": "#2a3f5f"
          },
          "geo": {
           "bgcolor": "white",
           "lakecolor": "white",
           "landcolor": "#E5ECF6",
           "showlakes": true,
           "showland": true,
           "subunitcolor": "white"
          },
          "hoverlabel": {
           "align": "left"
          },
          "hovermode": "closest",
          "mapbox": {
           "style": "light"
          },
          "paper_bgcolor": "white",
          "plot_bgcolor": "#E5ECF6",
          "polar": {
           "angularaxis": {
            "gridcolor": "white",
            "linecolor": "white",
            "ticks": ""
           },
           "bgcolor": "#E5ECF6",
           "radialaxis": {
            "gridcolor": "white",
            "linecolor": "white",
            "ticks": ""
           }
          },
          "scene": {
           "xaxis": {
            "backgroundcolor": "#E5ECF6",
            "gridcolor": "white",
            "gridwidth": 2,
            "linecolor": "white",
            "showbackground": true,
            "ticks": "",
            "zerolinecolor": "white"
           },
           "yaxis": {
            "backgroundcolor": "#E5ECF6",
            "gridcolor": "white",
            "gridwidth": 2,
            "linecolor": "white",
            "showbackground": true,
            "ticks": "",
            "zerolinecolor": "white"
           },
           "zaxis": {
            "backgroundcolor": "#E5ECF6",
            "gridcolor": "white",
            "gridwidth": 2,
            "linecolor": "white",
            "showbackground": true,
            "ticks": "",
            "zerolinecolor": "white"
           }
          },
          "shapedefaults": {
           "line": {
            "color": "#2a3f5f"
           }
          },
          "ternary": {
           "aaxis": {
            "gridcolor": "white",
            "linecolor": "white",
            "ticks": ""
           },
           "baxis": {
            "gridcolor": "white",
            "linecolor": "white",
            "ticks": ""
           },
           "bgcolor": "#E5ECF6",
           "caxis": {
            "gridcolor": "white",
            "linecolor": "white",
            "ticks": ""
           }
          },
          "title": {
           "x": 0.05
          },
          "xaxis": {
           "automargin": true,
           "gridcolor": "white",
           "linecolor": "white",
           "ticks": "",
           "title": {
            "standoff": 15
           },
           "zerolinecolor": "white",
           "zerolinewidth": 2
          },
          "yaxis": {
           "automargin": true,
           "gridcolor": "white",
           "linecolor": "white",
           "ticks": "",
           "title": {
            "standoff": 15
           },
           "zerolinecolor": "white",
           "zerolinewidth": 2
          }
         }
        },
        "title": {
         "text": "Persistence image representation of diagram 0 in homology dimension 1"
        },
        "xaxis": {
         "constrain": "domain",
         "scaleanchor": "y"
        },
        "yaxis": {
         "autorange": true,
         "constrain": "domain"
        }
       }
      },
      "text/html": [
       "<div>                            <div id=\"fc328ccb-d392-4978-b85c-1208a041c49e\" class=\"plotly-graph-div\" style=\"height:525px; width:100%;\"></div>            <script type=\"text/javascript\">                require([\"plotly\"], function(Plotly) {                    window.PLOTLYENV=window.PLOTLYENV || {};                                    if (document.getElementById(\"fc328ccb-d392-4978-b85c-1208a041c49e\")) {                    Plotly.newPlot(                        \"fc328ccb-d392-4978-b85c-1208a041c49e\",                        [{\"colorscale\": [[0.0, \"rgb(247,251,255)\"], [0.125, \"rgb(222,235,247)\"], [0.25, \"rgb(198,219,239)\"], [0.375, \"rgb(158,202,225)\"], [0.5, \"rgb(107,174,214)\"], [0.625, \"rgb(66,146,198)\"], [0.75, \"rgb(33,113,181)\"], [0.875, \"rgb(8,81,156)\"], [1.0, \"rgb(8,48,107)\"]], \"type\": \"heatmap\", \"x\": [0.1, 0.1, 0.1, 0.1, 0.1, 0.1, 0.1, 0.1, 0.1, 0.1], \"y\": [0.1, 0.1, 0.1, 0.1, 0.1, 0.1, 0.1, 0.1, 0.1, 0.1], \"z\": [0.0, 0.0, 0.0, 0.0, 0.0, 0.0, 0.0, 0.0, 0.0, 0.0]}],                        {\"plot_bgcolor\": \"white\", \"template\": {\"data\": {\"bar\": [{\"error_x\": {\"color\": \"#2a3f5f\"}, \"error_y\": {\"color\": \"#2a3f5f\"}, \"marker\": {\"line\": {\"color\": \"#E5ECF6\", \"width\": 0.5}}, \"type\": \"bar\"}], \"barpolar\": [{\"marker\": {\"line\": {\"color\": \"#E5ECF6\", \"width\": 0.5}}, \"type\": \"barpolar\"}], \"carpet\": [{\"aaxis\": {\"endlinecolor\": \"#2a3f5f\", \"gridcolor\": \"white\", \"linecolor\": \"white\", \"minorgridcolor\": \"white\", \"startlinecolor\": \"#2a3f5f\"}, \"baxis\": {\"endlinecolor\": \"#2a3f5f\", \"gridcolor\": \"white\", \"linecolor\": \"white\", \"minorgridcolor\": \"white\", \"startlinecolor\": \"#2a3f5f\"}, \"type\": \"carpet\"}], \"choropleth\": [{\"colorbar\": {\"outlinewidth\": 0, \"ticks\": \"\"}, \"type\": \"choropleth\"}], \"contour\": [{\"colorbar\": {\"outlinewidth\": 0, \"ticks\": \"\"}, \"colorscale\": [[0.0, \"#0d0887\"], [0.1111111111111111, \"#46039f\"], [0.2222222222222222, \"#7201a8\"], [0.3333333333333333, \"#9c179e\"], [0.4444444444444444, \"#bd3786\"], [0.5555555555555556, \"#d8576b\"], [0.6666666666666666, \"#ed7953\"], [0.7777777777777778, \"#fb9f3a\"], [0.8888888888888888, \"#fdca26\"], [1.0, \"#f0f921\"]], \"type\": \"contour\"}], \"contourcarpet\": [{\"colorbar\": {\"outlinewidth\": 0, \"ticks\": \"\"}, \"type\": \"contourcarpet\"}], \"heatmap\": [{\"colorbar\": {\"outlinewidth\": 0, \"ticks\": \"\"}, \"colorscale\": [[0.0, \"#0d0887\"], [0.1111111111111111, \"#46039f\"], [0.2222222222222222, \"#7201a8\"], [0.3333333333333333, \"#9c179e\"], [0.4444444444444444, \"#bd3786\"], [0.5555555555555556, \"#d8576b\"], [0.6666666666666666, \"#ed7953\"], [0.7777777777777778, \"#fb9f3a\"], [0.8888888888888888, \"#fdca26\"], [1.0, \"#f0f921\"]], \"type\": \"heatmap\"}], \"heatmapgl\": [{\"colorbar\": {\"outlinewidth\": 0, \"ticks\": \"\"}, \"colorscale\": [[0.0, \"#0d0887\"], [0.1111111111111111, \"#46039f\"], [0.2222222222222222, \"#7201a8\"], [0.3333333333333333, \"#9c179e\"], [0.4444444444444444, \"#bd3786\"], [0.5555555555555556, \"#d8576b\"], [0.6666666666666666, \"#ed7953\"], [0.7777777777777778, \"#fb9f3a\"], [0.8888888888888888, \"#fdca26\"], [1.0, \"#f0f921\"]], \"type\": \"heatmapgl\"}], \"histogram\": [{\"marker\": {\"colorbar\": {\"outlinewidth\": 0, \"ticks\": \"\"}}, \"type\": \"histogram\"}], \"histogram2d\": [{\"colorbar\": {\"outlinewidth\": 0, \"ticks\": \"\"}, \"colorscale\": [[0.0, \"#0d0887\"], [0.1111111111111111, \"#46039f\"], [0.2222222222222222, \"#7201a8\"], [0.3333333333333333, \"#9c179e\"], [0.4444444444444444, \"#bd3786\"], [0.5555555555555556, \"#d8576b\"], [0.6666666666666666, \"#ed7953\"], [0.7777777777777778, \"#fb9f3a\"], [0.8888888888888888, \"#fdca26\"], [1.0, \"#f0f921\"]], \"type\": \"histogram2d\"}], \"histogram2dcontour\": [{\"colorbar\": {\"outlinewidth\": 0, \"ticks\": \"\"}, \"colorscale\": [[0.0, \"#0d0887\"], [0.1111111111111111, \"#46039f\"], [0.2222222222222222, \"#7201a8\"], [0.3333333333333333, \"#9c179e\"], [0.4444444444444444, \"#bd3786\"], [0.5555555555555556, \"#d8576b\"], [0.6666666666666666, \"#ed7953\"], [0.7777777777777778, \"#fb9f3a\"], [0.8888888888888888, \"#fdca26\"], [1.0, \"#f0f921\"]], \"type\": \"histogram2dcontour\"}], \"mesh3d\": [{\"colorbar\": {\"outlinewidth\": 0, \"ticks\": \"\"}, \"type\": \"mesh3d\"}], \"parcoords\": [{\"line\": {\"colorbar\": {\"outlinewidth\": 0, \"ticks\": \"\"}}, \"type\": \"parcoords\"}], \"pie\": [{\"automargin\": true, \"type\": \"pie\"}], \"scatter\": [{\"marker\": {\"colorbar\": {\"outlinewidth\": 0, \"ticks\": \"\"}}, \"type\": \"scatter\"}], \"scatter3d\": [{\"line\": {\"colorbar\": {\"outlinewidth\": 0, \"ticks\": \"\"}}, \"marker\": {\"colorbar\": {\"outlinewidth\": 0, \"ticks\": \"\"}}, \"type\": \"scatter3d\"}], \"scattercarpet\": [{\"marker\": {\"colorbar\": {\"outlinewidth\": 0, \"ticks\": \"\"}}, \"type\": \"scattercarpet\"}], \"scattergeo\": [{\"marker\": {\"colorbar\": {\"outlinewidth\": 0, \"ticks\": \"\"}}, \"type\": \"scattergeo\"}], \"scattergl\": [{\"marker\": {\"colorbar\": {\"outlinewidth\": 0, \"ticks\": \"\"}}, \"type\": \"scattergl\"}], \"scattermapbox\": [{\"marker\": {\"colorbar\": {\"outlinewidth\": 0, \"ticks\": \"\"}}, \"type\": \"scattermapbox\"}], \"scatterpolar\": [{\"marker\": {\"colorbar\": {\"outlinewidth\": 0, \"ticks\": \"\"}}, \"type\": \"scatterpolar\"}], \"scatterpolargl\": [{\"marker\": {\"colorbar\": {\"outlinewidth\": 0, \"ticks\": \"\"}}, \"type\": \"scatterpolargl\"}], \"scatterternary\": [{\"marker\": {\"colorbar\": {\"outlinewidth\": 0, \"ticks\": \"\"}}, \"type\": \"scatterternary\"}], \"surface\": [{\"colorbar\": {\"outlinewidth\": 0, \"ticks\": \"\"}, \"colorscale\": [[0.0, \"#0d0887\"], [0.1111111111111111, \"#46039f\"], [0.2222222222222222, \"#7201a8\"], [0.3333333333333333, \"#9c179e\"], [0.4444444444444444, \"#bd3786\"], [0.5555555555555556, \"#d8576b\"], [0.6666666666666666, \"#ed7953\"], [0.7777777777777778, \"#fb9f3a\"], [0.8888888888888888, \"#fdca26\"], [1.0, \"#f0f921\"]], \"type\": \"surface\"}], \"table\": [{\"cells\": {\"fill\": {\"color\": \"#EBF0F8\"}, \"line\": {\"color\": \"white\"}}, \"header\": {\"fill\": {\"color\": \"#C8D4E3\"}, \"line\": {\"color\": \"white\"}}, \"type\": \"table\"}]}, \"layout\": {\"annotationdefaults\": {\"arrowcolor\": \"#2a3f5f\", \"arrowhead\": 0, \"arrowwidth\": 1}, \"autotypenumbers\": \"strict\", \"coloraxis\": {\"colorbar\": {\"outlinewidth\": 0, \"ticks\": \"\"}}, \"colorscale\": {\"diverging\": [[0, \"#8e0152\"], [0.1, \"#c51b7d\"], [0.2, \"#de77ae\"], [0.3, \"#f1b6da\"], [0.4, \"#fde0ef\"], [0.5, \"#f7f7f7\"], [0.6, \"#e6f5d0\"], [0.7, \"#b8e186\"], [0.8, \"#7fbc41\"], [0.9, \"#4d9221\"], [1, \"#276419\"]], \"sequential\": [[0.0, \"#0d0887\"], [0.1111111111111111, \"#46039f\"], [0.2222222222222222, \"#7201a8\"], [0.3333333333333333, \"#9c179e\"], [0.4444444444444444, \"#bd3786\"], [0.5555555555555556, \"#d8576b\"], [0.6666666666666666, \"#ed7953\"], [0.7777777777777778, \"#fb9f3a\"], [0.8888888888888888, \"#fdca26\"], [1.0, \"#f0f921\"]], \"sequentialminus\": [[0.0, \"#0d0887\"], [0.1111111111111111, \"#46039f\"], [0.2222222222222222, \"#7201a8\"], [0.3333333333333333, \"#9c179e\"], [0.4444444444444444, \"#bd3786\"], [0.5555555555555556, \"#d8576b\"], [0.6666666666666666, \"#ed7953\"], [0.7777777777777778, \"#fb9f3a\"], [0.8888888888888888, \"#fdca26\"], [1.0, \"#f0f921\"]]}, \"colorway\": [\"#636efa\", \"#EF553B\", \"#00cc96\", \"#ab63fa\", \"#FFA15A\", \"#19d3f3\", \"#FF6692\", \"#B6E880\", \"#FF97FF\", \"#FECB52\"], \"font\": {\"color\": \"#2a3f5f\"}, \"geo\": {\"bgcolor\": \"white\", \"lakecolor\": \"white\", \"landcolor\": \"#E5ECF6\", \"showlakes\": true, \"showland\": true, \"subunitcolor\": \"white\"}, \"hoverlabel\": {\"align\": \"left\"}, \"hovermode\": \"closest\", \"mapbox\": {\"style\": \"light\"}, \"paper_bgcolor\": \"white\", \"plot_bgcolor\": \"#E5ECF6\", \"polar\": {\"angularaxis\": {\"gridcolor\": \"white\", \"linecolor\": \"white\", \"ticks\": \"\"}, \"bgcolor\": \"#E5ECF6\", \"radialaxis\": {\"gridcolor\": \"white\", \"linecolor\": \"white\", \"ticks\": \"\"}}, \"scene\": {\"xaxis\": {\"backgroundcolor\": \"#E5ECF6\", \"gridcolor\": \"white\", \"gridwidth\": 2, \"linecolor\": \"white\", \"showbackground\": true, \"ticks\": \"\", \"zerolinecolor\": \"white\"}, \"yaxis\": {\"backgroundcolor\": \"#E5ECF6\", \"gridcolor\": \"white\", \"gridwidth\": 2, \"linecolor\": \"white\", \"showbackground\": true, \"ticks\": \"\", \"zerolinecolor\": \"white\"}, \"zaxis\": {\"backgroundcolor\": \"#E5ECF6\", \"gridcolor\": \"white\", \"gridwidth\": 2, \"linecolor\": \"white\", \"showbackground\": true, \"ticks\": \"\", \"zerolinecolor\": \"white\"}}, \"shapedefaults\": {\"line\": {\"color\": \"#2a3f5f\"}}, \"ternary\": {\"aaxis\": {\"gridcolor\": \"white\", \"linecolor\": \"white\", \"ticks\": \"\"}, \"baxis\": {\"gridcolor\": \"white\", \"linecolor\": \"white\", \"ticks\": \"\"}, \"bgcolor\": \"#E5ECF6\", \"caxis\": {\"gridcolor\": \"white\", \"linecolor\": \"white\", \"ticks\": \"\"}}, \"title\": {\"x\": 0.05}, \"xaxis\": {\"automargin\": true, \"gridcolor\": \"white\", \"linecolor\": \"white\", \"ticks\": \"\", \"title\": {\"standoff\": 15}, \"zerolinecolor\": \"white\", \"zerolinewidth\": 2}, \"yaxis\": {\"automargin\": true, \"gridcolor\": \"white\", \"linecolor\": \"white\", \"ticks\": \"\", \"title\": {\"standoff\": 15}, \"zerolinecolor\": \"white\", \"zerolinewidth\": 2}}}, \"title\": {\"text\": \"Persistence image representation of diagram 0 in homology dimension 1\"}, \"xaxis\": {\"constrain\": \"domain\", \"scaleanchor\": \"y\"}, \"yaxis\": {\"autorange\": true, \"constrain\": \"domain\"}},                        {\"responsive\": true}                    ).then(function(){\n",
       "                            \n",
       "var gd = document.getElementById('fc328ccb-d392-4978-b85c-1208a041c49e');\n",
       "var x = new MutationObserver(function (mutations, observer) {{\n",
       "        var display = window.getComputedStyle(gd).display;\n",
       "        if (!display || display === 'none') {{\n",
       "            console.log([gd, 'removed!']);\n",
       "            Plotly.purge(gd);\n",
       "            observer.disconnect();\n",
       "        }}\n",
       "}});\n",
       "\n",
       "// Listen for the removal of the full notebook cells\n",
       "var notebookContainer = gd.closest('#notebook-container');\n",
       "if (notebookContainer) {{\n",
       "    x.observe(notebookContainer, {childList: true});\n",
       "}}\n",
       "\n",
       "// Listen for the clearing of the current output cell\n",
       "var outputEl = gd.closest('.output');\n",
       "if (outputEl) {{\n",
       "    x.observe(outputEl, {childList: true});\n",
       "}}\n",
       "\n",
       "                        })                };                });            </script>        </div>"
      ]
     },
     "metadata": {},
     "output_type": "display_data"
    }
   ],
   "source": [
    "exampleDiagram = np.array([[[0.1, 0.2, 1]]])\n",
    "pimgr = gdiagrams.PersistenceImage(sigma=0.01, n_bins=10)\n",
    "pimgr.fit(exampleDiagram)\n",
    "persImage = pimgr.transform(exampleDiagram)\n",
    "print(persImage)\n",
    "iplot(pimgr.plot(persImage[0]))"
   ]
  },
  {
   "cell_type": "markdown",
   "id": "negative-scene",
   "metadata": {},
   "source": [
    "The root cause of the problem is in the `_bin()` function from `gtda.diagrams._utils`, and specifically the code to find the minimum and maximum persistence pair from the persistence diagram for generating the sampling slices and step sizes.\n",
    "\n",
    "```python\n",
    "def _bin(X, metric, n_bins=100, homology_dimensions=None, **kw_args):\n",
    "    ......\n",
    "    min_vals = {dim: np.min(sub_diags[dim], axis=(0, 1))\n",
    "                for dim in homology_dimensions}\n",
    "    max_vals = {dim: np.max(sub_diags[dim], axis=(0, 1))\n",
    "                for dim in homology_dimensions}\n",
    "    ......\n",
    "    samplings = {}\n",
    "    step_sizes = {}\n",
    "    for dim in homology_dimensions:\n",
    "        samplings[dim], step_sizes[dim] = np.linspace(\n",
    "            min_vals[dim], max_vals[dim], retstep=True, num=n_bins\n",
    "            )\n",
    "        \n",
    "    ......\n",
    "```"
   ]
  },
  {
   "cell_type": "markdown",
   "id": "previous-heater",
   "metadata": {},
   "source": [
    "One possible fix would be to add a parameter for `PersistenceImage` class which allows the range to be manually set, and then to be used in the `_bin()` function. As a comparison, we provide the persistence image generated with this approach."
   ]
  },
  {
   "cell_type": "code",
   "execution_count": 23,
   "id": "7a1da6bc",
   "metadata": {},
   "outputs": [
    {
     "name": "stdout",
     "output_type": "stream",
     "text": [
      "[[[[   0.      0.      0.      0.      0.      0.08    6.15  134.74  858.49 1591.55]\n",
      "   [   0.      0.      0.      0.      0.      0.04    3.32   72.68  463.08  858.49]\n",
      "   [   0.      0.      0.      0.      0.      0.01    0.52   11.41   72.68  134.74]\n",
      "   [   0.      0.      0.      0.      0.      0.      0.02    0.52    3.32    6.15]\n",
      "   [   0.      0.      0.      0.      0.      0.      0.      0.01    0.04    0.08]\n",
      "   [   0.      0.      0.      0.      0.      0.      0.      0.      0.      0.  ]\n",
      "   [   0.      0.      0.      0.      0.      0.      0.      0.      0.      0.  ]\n",
      "   [   0.      0.      0.      0.      0.      0.      0.      0.      0.      0.  ]\n",
      "   [   0.      0.      0.      0.      0.      0.      0.      0.      0.      0.  ]\n",
      "   [   0.      0.      0.      0.      0.      0.      0.      0.      0.      0.  ]]]]\n"
     ]
    },
    {
     "data": {
      "application/vnd.plotly.v1+json": {
       "config": {
        "linkText": "Export to plot.ly",
        "plotlyServerURL": "https://plot.ly",
        "showLink": false
       },
       "data": [
        {
         "colorscale": [
          [
           0,
           "rgb(247,251,255)"
          ],
          [
           0.125,
           "rgb(222,235,247)"
          ],
          [
           0.25,
           "rgb(198,219,239)"
          ],
          [
           0.375,
           "rgb(158,202,225)"
          ],
          [
           0.5,
           "rgb(107,174,214)"
          ],
          [
           0.625,
           "rgb(66,146,198)"
          ],
          [
           0.75,
           "rgb(33,113,181)"
          ],
          [
           0.875,
           "rgb(8,81,156)"
          ],
          [
           1,
           "rgb(8,48,107)"
          ]
         ],
         "type": "heatmap",
         "x": [
          0,
          0.011111111111111112,
          0.022222222222222223,
          0.03333333333333333,
          0.044444444444444446,
          0.05555555555555556,
          0.06666666666666667,
          0.07777777777777778,
          0.08888888888888889,
          0.1
         ],
         "y": [
          0.1,
          0.08888888888888889,
          0.07777777777777778,
          0.06666666666666667,
          0.05555555555555556,
          0.044444444444444446,
          0.03333333333333333,
          0.022222222222222223,
          0.011111111111111112,
          0
         ],
         "z": [
          [
           0,
           0,
           0,
           0,
           0,
           0.08175077353448937,
           6.1528023657909925,
           134.7373597714416,
           858.4936229721711,
           1591.549267396415
          ],
          [
           0,
           0,
           0,
           0,
           0,
           0.04409698096698666,
           3.318867786657091,
           72.67834336609258,
           463.07790514681767,
           858.4936229721711
          ],
          [
           0,
           0,
           0,
           0,
           0,
           0.0069208560557658255,
           0.5208838726798094,
           11.406593870560428,
           72.67834336609258,
           134.7373597714416
          ],
          [
           0,
           0,
           0,
           0,
           0,
           0.0003160419618244631,
           0.023786242580107336,
           0.5208838726798094,
           3.318867786657091,
           6.1528023657909925
          ],
          [
           0,
           0,
           0,
           0,
           0,
           4.199171907772777e-06,
           0.0003160419618244631,
           0.0069208560557658255,
           0.04409698096698666,
           0.08175077353448937
          ],
          [
           0,
           0,
           0,
           0,
           0,
           0,
           0,
           0,
           0,
           0
          ],
          [
           0,
           0,
           0,
           0,
           0,
           0,
           0,
           0,
           0,
           0
          ],
          [
           0,
           0,
           0,
           0,
           0,
           0,
           0,
           0,
           0,
           0
          ],
          [
           0,
           0,
           0,
           0,
           0,
           0,
           0,
           0,
           0,
           0
          ],
          [
           0,
           0,
           0,
           0,
           0,
           0,
           0,
           0,
           0,
           0
          ]
         ]
        }
       ],
       "layout": {
        "plot_bgcolor": "white",
        "template": {
         "data": {
          "bar": [
           {
            "error_x": {
             "color": "#2a3f5f"
            },
            "error_y": {
             "color": "#2a3f5f"
            },
            "marker": {
             "line": {
              "color": "#E5ECF6",
              "width": 0.5
             }
            },
            "type": "bar"
           }
          ],
          "barpolar": [
           {
            "marker": {
             "line": {
              "color": "#E5ECF6",
              "width": 0.5
             }
            },
            "type": "barpolar"
           }
          ],
          "carpet": [
           {
            "aaxis": {
             "endlinecolor": "#2a3f5f",
             "gridcolor": "white",
             "linecolor": "white",
             "minorgridcolor": "white",
             "startlinecolor": "#2a3f5f"
            },
            "baxis": {
             "endlinecolor": "#2a3f5f",
             "gridcolor": "white",
             "linecolor": "white",
             "minorgridcolor": "white",
             "startlinecolor": "#2a3f5f"
            },
            "type": "carpet"
           }
          ],
          "choropleth": [
           {
            "colorbar": {
             "outlinewidth": 0,
             "ticks": ""
            },
            "type": "choropleth"
           }
          ],
          "contour": [
           {
            "colorbar": {
             "outlinewidth": 0,
             "ticks": ""
            },
            "colorscale": [
             [
              0,
              "#0d0887"
             ],
             [
              0.1111111111111111,
              "#46039f"
             ],
             [
              0.2222222222222222,
              "#7201a8"
             ],
             [
              0.3333333333333333,
              "#9c179e"
             ],
             [
              0.4444444444444444,
              "#bd3786"
             ],
             [
              0.5555555555555556,
              "#d8576b"
             ],
             [
              0.6666666666666666,
              "#ed7953"
             ],
             [
              0.7777777777777778,
              "#fb9f3a"
             ],
             [
              0.8888888888888888,
              "#fdca26"
             ],
             [
              1,
              "#f0f921"
             ]
            ],
            "type": "contour"
           }
          ],
          "contourcarpet": [
           {
            "colorbar": {
             "outlinewidth": 0,
             "ticks": ""
            },
            "type": "contourcarpet"
           }
          ],
          "heatmap": [
           {
            "colorbar": {
             "outlinewidth": 0,
             "ticks": ""
            },
            "colorscale": [
             [
              0,
              "#0d0887"
             ],
             [
              0.1111111111111111,
              "#46039f"
             ],
             [
              0.2222222222222222,
              "#7201a8"
             ],
             [
              0.3333333333333333,
              "#9c179e"
             ],
             [
              0.4444444444444444,
              "#bd3786"
             ],
             [
              0.5555555555555556,
              "#d8576b"
             ],
             [
              0.6666666666666666,
              "#ed7953"
             ],
             [
              0.7777777777777778,
              "#fb9f3a"
             ],
             [
              0.8888888888888888,
              "#fdca26"
             ],
             [
              1,
              "#f0f921"
             ]
            ],
            "type": "heatmap"
           }
          ],
          "heatmapgl": [
           {
            "colorbar": {
             "outlinewidth": 0,
             "ticks": ""
            },
            "colorscale": [
             [
              0,
              "#0d0887"
             ],
             [
              0.1111111111111111,
              "#46039f"
             ],
             [
              0.2222222222222222,
              "#7201a8"
             ],
             [
              0.3333333333333333,
              "#9c179e"
             ],
             [
              0.4444444444444444,
              "#bd3786"
             ],
             [
              0.5555555555555556,
              "#d8576b"
             ],
             [
              0.6666666666666666,
              "#ed7953"
             ],
             [
              0.7777777777777778,
              "#fb9f3a"
             ],
             [
              0.8888888888888888,
              "#fdca26"
             ],
             [
              1,
              "#f0f921"
             ]
            ],
            "type": "heatmapgl"
           }
          ],
          "histogram": [
           {
            "marker": {
             "colorbar": {
              "outlinewidth": 0,
              "ticks": ""
             }
            },
            "type": "histogram"
           }
          ],
          "histogram2d": [
           {
            "colorbar": {
             "outlinewidth": 0,
             "ticks": ""
            },
            "colorscale": [
             [
              0,
              "#0d0887"
             ],
             [
              0.1111111111111111,
              "#46039f"
             ],
             [
              0.2222222222222222,
              "#7201a8"
             ],
             [
              0.3333333333333333,
              "#9c179e"
             ],
             [
              0.4444444444444444,
              "#bd3786"
             ],
             [
              0.5555555555555556,
              "#d8576b"
             ],
             [
              0.6666666666666666,
              "#ed7953"
             ],
             [
              0.7777777777777778,
              "#fb9f3a"
             ],
             [
              0.8888888888888888,
              "#fdca26"
             ],
             [
              1,
              "#f0f921"
             ]
            ],
            "type": "histogram2d"
           }
          ],
          "histogram2dcontour": [
           {
            "colorbar": {
             "outlinewidth": 0,
             "ticks": ""
            },
            "colorscale": [
             [
              0,
              "#0d0887"
             ],
             [
              0.1111111111111111,
              "#46039f"
             ],
             [
              0.2222222222222222,
              "#7201a8"
             ],
             [
              0.3333333333333333,
              "#9c179e"
             ],
             [
              0.4444444444444444,
              "#bd3786"
             ],
             [
              0.5555555555555556,
              "#d8576b"
             ],
             [
              0.6666666666666666,
              "#ed7953"
             ],
             [
              0.7777777777777778,
              "#fb9f3a"
             ],
             [
              0.8888888888888888,
              "#fdca26"
             ],
             [
              1,
              "#f0f921"
             ]
            ],
            "type": "histogram2dcontour"
           }
          ],
          "mesh3d": [
           {
            "colorbar": {
             "outlinewidth": 0,
             "ticks": ""
            },
            "type": "mesh3d"
           }
          ],
          "parcoords": [
           {
            "line": {
             "colorbar": {
              "outlinewidth": 0,
              "ticks": ""
             }
            },
            "type": "parcoords"
           }
          ],
          "pie": [
           {
            "automargin": true,
            "type": "pie"
           }
          ],
          "scatter": [
           {
            "marker": {
             "colorbar": {
              "outlinewidth": 0,
              "ticks": ""
             }
            },
            "type": "scatter"
           }
          ],
          "scatter3d": [
           {
            "line": {
             "colorbar": {
              "outlinewidth": 0,
              "ticks": ""
             }
            },
            "marker": {
             "colorbar": {
              "outlinewidth": 0,
              "ticks": ""
             }
            },
            "type": "scatter3d"
           }
          ],
          "scattercarpet": [
           {
            "marker": {
             "colorbar": {
              "outlinewidth": 0,
              "ticks": ""
             }
            },
            "type": "scattercarpet"
           }
          ],
          "scattergeo": [
           {
            "marker": {
             "colorbar": {
              "outlinewidth": 0,
              "ticks": ""
             }
            },
            "type": "scattergeo"
           }
          ],
          "scattergl": [
           {
            "marker": {
             "colorbar": {
              "outlinewidth": 0,
              "ticks": ""
             }
            },
            "type": "scattergl"
           }
          ],
          "scattermapbox": [
           {
            "marker": {
             "colorbar": {
              "outlinewidth": 0,
              "ticks": ""
             }
            },
            "type": "scattermapbox"
           }
          ],
          "scatterpolar": [
           {
            "marker": {
             "colorbar": {
              "outlinewidth": 0,
              "ticks": ""
             }
            },
            "type": "scatterpolar"
           }
          ],
          "scatterpolargl": [
           {
            "marker": {
             "colorbar": {
              "outlinewidth": 0,
              "ticks": ""
             }
            },
            "type": "scatterpolargl"
           }
          ],
          "scatterternary": [
           {
            "marker": {
             "colorbar": {
              "outlinewidth": 0,
              "ticks": ""
             }
            },
            "type": "scatterternary"
           }
          ],
          "surface": [
           {
            "colorbar": {
             "outlinewidth": 0,
             "ticks": ""
            },
            "colorscale": [
             [
              0,
              "#0d0887"
             ],
             [
              0.1111111111111111,
              "#46039f"
             ],
             [
              0.2222222222222222,
              "#7201a8"
             ],
             [
              0.3333333333333333,
              "#9c179e"
             ],
             [
              0.4444444444444444,
              "#bd3786"
             ],
             [
              0.5555555555555556,
              "#d8576b"
             ],
             [
              0.6666666666666666,
              "#ed7953"
             ],
             [
              0.7777777777777778,
              "#fb9f3a"
             ],
             [
              0.8888888888888888,
              "#fdca26"
             ],
             [
              1,
              "#f0f921"
             ]
            ],
            "type": "surface"
           }
          ],
          "table": [
           {
            "cells": {
             "fill": {
              "color": "#EBF0F8"
             },
             "line": {
              "color": "white"
             }
            },
            "header": {
             "fill": {
              "color": "#C8D4E3"
             },
             "line": {
              "color": "white"
             }
            },
            "type": "table"
           }
          ]
         },
         "layout": {
          "annotationdefaults": {
           "arrowcolor": "#2a3f5f",
           "arrowhead": 0,
           "arrowwidth": 1
          },
          "autotypenumbers": "strict",
          "coloraxis": {
           "colorbar": {
            "outlinewidth": 0,
            "ticks": ""
           }
          },
          "colorscale": {
           "diverging": [
            [
             0,
             "#8e0152"
            ],
            [
             0.1,
             "#c51b7d"
            ],
            [
             0.2,
             "#de77ae"
            ],
            [
             0.3,
             "#f1b6da"
            ],
            [
             0.4,
             "#fde0ef"
            ],
            [
             0.5,
             "#f7f7f7"
            ],
            [
             0.6,
             "#e6f5d0"
            ],
            [
             0.7,
             "#b8e186"
            ],
            [
             0.8,
             "#7fbc41"
            ],
            [
             0.9,
             "#4d9221"
            ],
            [
             1,
             "#276419"
            ]
           ],
           "sequential": [
            [
             0,
             "#0d0887"
            ],
            [
             0.1111111111111111,
             "#46039f"
            ],
            [
             0.2222222222222222,
             "#7201a8"
            ],
            [
             0.3333333333333333,
             "#9c179e"
            ],
            [
             0.4444444444444444,
             "#bd3786"
            ],
            [
             0.5555555555555556,
             "#d8576b"
            ],
            [
             0.6666666666666666,
             "#ed7953"
            ],
            [
             0.7777777777777778,
             "#fb9f3a"
            ],
            [
             0.8888888888888888,
             "#fdca26"
            ],
            [
             1,
             "#f0f921"
            ]
           ],
           "sequentialminus": [
            [
             0,
             "#0d0887"
            ],
            [
             0.1111111111111111,
             "#46039f"
            ],
            [
             0.2222222222222222,
             "#7201a8"
            ],
            [
             0.3333333333333333,
             "#9c179e"
            ],
            [
             0.4444444444444444,
             "#bd3786"
            ],
            [
             0.5555555555555556,
             "#d8576b"
            ],
            [
             0.6666666666666666,
             "#ed7953"
            ],
            [
             0.7777777777777778,
             "#fb9f3a"
            ],
            [
             0.8888888888888888,
             "#fdca26"
            ],
            [
             1,
             "#f0f921"
            ]
           ]
          },
          "colorway": [
           "#636efa",
           "#EF553B",
           "#00cc96",
           "#ab63fa",
           "#FFA15A",
           "#19d3f3",
           "#FF6692",
           "#B6E880",
           "#FF97FF",
           "#FECB52"
          ],
          "font": {
           "color": "#2a3f5f"
          },
          "geo": {
           "bgcolor": "white",
           "lakecolor": "white",
           "landcolor": "#E5ECF6",
           "showlakes": true,
           "showland": true,
           "subunitcolor": "white"
          },
          "hoverlabel": {
           "align": "left"
          },
          "hovermode": "closest",
          "mapbox": {
           "style": "light"
          },
          "paper_bgcolor": "white",
          "plot_bgcolor": "#E5ECF6",
          "polar": {
           "angularaxis": {
            "gridcolor": "white",
            "linecolor": "white",
            "ticks": ""
           },
           "bgcolor": "#E5ECF6",
           "radialaxis": {
            "gridcolor": "white",
            "linecolor": "white",
            "ticks": ""
           }
          },
          "scene": {
           "xaxis": {
            "backgroundcolor": "#E5ECF6",
            "gridcolor": "white",
            "gridwidth": 2,
            "linecolor": "white",
            "showbackground": true,
            "ticks": "",
            "zerolinecolor": "white"
           },
           "yaxis": {
            "backgroundcolor": "#E5ECF6",
            "gridcolor": "white",
            "gridwidth": 2,
            "linecolor": "white",
            "showbackground": true,
            "ticks": "",
            "zerolinecolor": "white"
           },
           "zaxis": {
            "backgroundcolor": "#E5ECF6",
            "gridcolor": "white",
            "gridwidth": 2,
            "linecolor": "white",
            "showbackground": true,
            "ticks": "",
            "zerolinecolor": "white"
           }
          },
          "shapedefaults": {
           "line": {
            "color": "#2a3f5f"
           }
          },
          "ternary": {
           "aaxis": {
            "gridcolor": "white",
            "linecolor": "white",
            "ticks": ""
           },
           "baxis": {
            "gridcolor": "white",
            "linecolor": "white",
            "ticks": ""
           },
           "bgcolor": "#E5ECF6",
           "caxis": {
            "gridcolor": "white",
            "linecolor": "white",
            "ticks": ""
           }
          },
          "title": {
           "x": 0.05
          },
          "xaxis": {
           "automargin": true,
           "gridcolor": "white",
           "linecolor": "white",
           "ticks": "",
           "title": {
            "standoff": 15
           },
           "zerolinecolor": "white",
           "zerolinewidth": 2
          },
          "yaxis": {
           "automargin": true,
           "gridcolor": "white",
           "linecolor": "white",
           "ticks": "",
           "title": {
            "standoff": 15
           },
           "zerolinecolor": "white",
           "zerolinewidth": 2
          }
         }
        },
        "title": {
         "text": "Persistence image representation of diagram 0 in homology dimension 1"
        },
        "xaxis": {
         "constrain": "domain",
         "scaleanchor": "y"
        },
        "yaxis": {
         "autorange": true,
         "constrain": "domain"
        }
       }
      },
      "text/html": [
       "<div>                            <div id=\"c3eb547f-0642-409a-b496-dc0ae4638fd2\" class=\"plotly-graph-div\" style=\"height:525px; width:100%;\"></div>            <script type=\"text/javascript\">                require([\"plotly\"], function(Plotly) {                    window.PLOTLYENV=window.PLOTLYENV || {};                                    if (document.getElementById(\"c3eb547f-0642-409a-b496-dc0ae4638fd2\")) {                    Plotly.newPlot(                        \"c3eb547f-0642-409a-b496-dc0ae4638fd2\",                        [{\"colorscale\": [[0.0, \"rgb(247,251,255)\"], [0.125, \"rgb(222,235,247)\"], [0.25, \"rgb(198,219,239)\"], [0.375, \"rgb(158,202,225)\"], [0.5, \"rgb(107,174,214)\"], [0.625, \"rgb(66,146,198)\"], [0.75, \"rgb(33,113,181)\"], [0.875, \"rgb(8,81,156)\"], [1.0, \"rgb(8,48,107)\"]], \"type\": \"heatmap\", \"x\": [0.0, 0.011111111111111112, 0.022222222222222223, 0.03333333333333333, 0.044444444444444446, 0.05555555555555556, 0.06666666666666667, 0.07777777777777778, 0.08888888888888889, 0.1], \"y\": [0.1, 0.08888888888888889, 0.07777777777777778, 0.06666666666666667, 0.05555555555555556, 0.044444444444444446, 0.03333333333333333, 0.022222222222222223, 0.011111111111111112, 0.0], \"z\": [[0.0, 0.0, 0.0, 0.0, 0.0, 0.08175077353448937, 6.1528023657909925, 134.7373597714416, 858.4936229721711, 1591.549267396415], [0.0, 0.0, 0.0, 0.0, 0.0, 0.04409698096698666, 3.318867786657091, 72.67834336609258, 463.07790514681767, 858.4936229721711], [0.0, 0.0, 0.0, 0.0, 0.0, 0.0069208560557658255, 0.5208838726798094, 11.406593870560428, 72.67834336609258, 134.7373597714416], [0.0, 0.0, 0.0, 0.0, 0.0, 0.0003160419618244631, 0.023786242580107336, 0.5208838726798094, 3.318867786657091, 6.1528023657909925], [0.0, 0.0, 0.0, 0.0, 0.0, 4.199171907772777e-06, 0.0003160419618244631, 0.0069208560557658255, 0.04409698096698666, 0.08175077353448937], [0.0, 0.0, 0.0, 0.0, 0.0, 0.0, 0.0, 0.0, 0.0, 0.0], [0.0, 0.0, 0.0, 0.0, 0.0, 0.0, 0.0, 0.0, 0.0, 0.0], [0.0, 0.0, 0.0, 0.0, 0.0, 0.0, 0.0, 0.0, 0.0, 0.0], [0.0, 0.0, 0.0, 0.0, 0.0, 0.0, 0.0, 0.0, 0.0, 0.0], [0.0, 0.0, 0.0, 0.0, 0.0, 0.0, 0.0, 0.0, 0.0, 0.0]]}],                        {\"plot_bgcolor\": \"white\", \"template\": {\"data\": {\"bar\": [{\"error_x\": {\"color\": \"#2a3f5f\"}, \"error_y\": {\"color\": \"#2a3f5f\"}, \"marker\": {\"line\": {\"color\": \"#E5ECF6\", \"width\": 0.5}}, \"type\": \"bar\"}], \"barpolar\": [{\"marker\": {\"line\": {\"color\": \"#E5ECF6\", \"width\": 0.5}}, \"type\": \"barpolar\"}], \"carpet\": [{\"aaxis\": {\"endlinecolor\": \"#2a3f5f\", \"gridcolor\": \"white\", \"linecolor\": \"white\", \"minorgridcolor\": \"white\", \"startlinecolor\": \"#2a3f5f\"}, \"baxis\": {\"endlinecolor\": \"#2a3f5f\", \"gridcolor\": \"white\", \"linecolor\": \"white\", \"minorgridcolor\": \"white\", \"startlinecolor\": \"#2a3f5f\"}, \"type\": \"carpet\"}], \"choropleth\": [{\"colorbar\": {\"outlinewidth\": 0, \"ticks\": \"\"}, \"type\": \"choropleth\"}], \"contour\": [{\"colorbar\": {\"outlinewidth\": 0, \"ticks\": \"\"}, \"colorscale\": [[0.0, \"#0d0887\"], [0.1111111111111111, \"#46039f\"], [0.2222222222222222, \"#7201a8\"], [0.3333333333333333, \"#9c179e\"], [0.4444444444444444, \"#bd3786\"], [0.5555555555555556, \"#d8576b\"], [0.6666666666666666, \"#ed7953\"], [0.7777777777777778, \"#fb9f3a\"], [0.8888888888888888, \"#fdca26\"], [1.0, \"#f0f921\"]], \"type\": \"contour\"}], \"contourcarpet\": [{\"colorbar\": {\"outlinewidth\": 0, \"ticks\": \"\"}, \"type\": \"contourcarpet\"}], \"heatmap\": [{\"colorbar\": {\"outlinewidth\": 0, \"ticks\": \"\"}, \"colorscale\": [[0.0, \"#0d0887\"], [0.1111111111111111, \"#46039f\"], [0.2222222222222222, \"#7201a8\"], [0.3333333333333333, \"#9c179e\"], [0.4444444444444444, \"#bd3786\"], [0.5555555555555556, \"#d8576b\"], [0.6666666666666666, \"#ed7953\"], [0.7777777777777778, \"#fb9f3a\"], [0.8888888888888888, \"#fdca26\"], [1.0, \"#f0f921\"]], \"type\": \"heatmap\"}], \"heatmapgl\": [{\"colorbar\": {\"outlinewidth\": 0, \"ticks\": \"\"}, \"colorscale\": [[0.0, \"#0d0887\"], [0.1111111111111111, \"#46039f\"], [0.2222222222222222, \"#7201a8\"], [0.3333333333333333, \"#9c179e\"], [0.4444444444444444, \"#bd3786\"], [0.5555555555555556, \"#d8576b\"], [0.6666666666666666, \"#ed7953\"], [0.7777777777777778, \"#fb9f3a\"], [0.8888888888888888, \"#fdca26\"], [1.0, \"#f0f921\"]], \"type\": \"heatmapgl\"}], \"histogram\": [{\"marker\": {\"colorbar\": {\"outlinewidth\": 0, \"ticks\": \"\"}}, \"type\": \"histogram\"}], \"histogram2d\": [{\"colorbar\": {\"outlinewidth\": 0, \"ticks\": \"\"}, \"colorscale\": [[0.0, \"#0d0887\"], [0.1111111111111111, \"#46039f\"], [0.2222222222222222, \"#7201a8\"], [0.3333333333333333, \"#9c179e\"], [0.4444444444444444, \"#bd3786\"], [0.5555555555555556, \"#d8576b\"], [0.6666666666666666, \"#ed7953\"], [0.7777777777777778, \"#fb9f3a\"], [0.8888888888888888, \"#fdca26\"], [1.0, \"#f0f921\"]], \"type\": \"histogram2d\"}], \"histogram2dcontour\": [{\"colorbar\": {\"outlinewidth\": 0, \"ticks\": \"\"}, \"colorscale\": [[0.0, \"#0d0887\"], [0.1111111111111111, \"#46039f\"], [0.2222222222222222, \"#7201a8\"], [0.3333333333333333, \"#9c179e\"], [0.4444444444444444, \"#bd3786\"], [0.5555555555555556, \"#d8576b\"], [0.6666666666666666, \"#ed7953\"], [0.7777777777777778, \"#fb9f3a\"], [0.8888888888888888, \"#fdca26\"], [1.0, \"#f0f921\"]], \"type\": \"histogram2dcontour\"}], \"mesh3d\": [{\"colorbar\": {\"outlinewidth\": 0, \"ticks\": \"\"}, \"type\": \"mesh3d\"}], \"parcoords\": [{\"line\": {\"colorbar\": {\"outlinewidth\": 0, \"ticks\": \"\"}}, \"type\": \"parcoords\"}], \"pie\": [{\"automargin\": true, \"type\": \"pie\"}], \"scatter\": [{\"marker\": {\"colorbar\": {\"outlinewidth\": 0, \"ticks\": \"\"}}, \"type\": \"scatter\"}], \"scatter3d\": [{\"line\": {\"colorbar\": {\"outlinewidth\": 0, \"ticks\": \"\"}}, \"marker\": {\"colorbar\": {\"outlinewidth\": 0, \"ticks\": \"\"}}, \"type\": \"scatter3d\"}], \"scattercarpet\": [{\"marker\": {\"colorbar\": {\"outlinewidth\": 0, \"ticks\": \"\"}}, \"type\": \"scattercarpet\"}], \"scattergeo\": [{\"marker\": {\"colorbar\": {\"outlinewidth\": 0, \"ticks\": \"\"}}, \"type\": \"scattergeo\"}], \"scattergl\": [{\"marker\": {\"colorbar\": {\"outlinewidth\": 0, \"ticks\": \"\"}}, \"type\": \"scattergl\"}], \"scattermapbox\": [{\"marker\": {\"colorbar\": {\"outlinewidth\": 0, \"ticks\": \"\"}}, \"type\": \"scattermapbox\"}], \"scatterpolar\": [{\"marker\": {\"colorbar\": {\"outlinewidth\": 0, \"ticks\": \"\"}}, \"type\": \"scatterpolar\"}], \"scatterpolargl\": [{\"marker\": {\"colorbar\": {\"outlinewidth\": 0, \"ticks\": \"\"}}, \"type\": \"scatterpolargl\"}], \"scatterternary\": [{\"marker\": {\"colorbar\": {\"outlinewidth\": 0, \"ticks\": \"\"}}, \"type\": \"scatterternary\"}], \"surface\": [{\"colorbar\": {\"outlinewidth\": 0, \"ticks\": \"\"}, \"colorscale\": [[0.0, \"#0d0887\"], [0.1111111111111111, \"#46039f\"], [0.2222222222222222, \"#7201a8\"], [0.3333333333333333, \"#9c179e\"], [0.4444444444444444, \"#bd3786\"], [0.5555555555555556, \"#d8576b\"], [0.6666666666666666, \"#ed7953\"], [0.7777777777777778, \"#fb9f3a\"], [0.8888888888888888, \"#fdca26\"], [1.0, \"#f0f921\"]], \"type\": \"surface\"}], \"table\": [{\"cells\": {\"fill\": {\"color\": \"#EBF0F8\"}, \"line\": {\"color\": \"white\"}}, \"header\": {\"fill\": {\"color\": \"#C8D4E3\"}, \"line\": {\"color\": \"white\"}}, \"type\": \"table\"}]}, \"layout\": {\"annotationdefaults\": {\"arrowcolor\": \"#2a3f5f\", \"arrowhead\": 0, \"arrowwidth\": 1}, \"autotypenumbers\": \"strict\", \"coloraxis\": {\"colorbar\": {\"outlinewidth\": 0, \"ticks\": \"\"}}, \"colorscale\": {\"diverging\": [[0, \"#8e0152\"], [0.1, \"#c51b7d\"], [0.2, \"#de77ae\"], [0.3, \"#f1b6da\"], [0.4, \"#fde0ef\"], [0.5, \"#f7f7f7\"], [0.6, \"#e6f5d0\"], [0.7, \"#b8e186\"], [0.8, \"#7fbc41\"], [0.9, \"#4d9221\"], [1, \"#276419\"]], \"sequential\": [[0.0, \"#0d0887\"], [0.1111111111111111, \"#46039f\"], [0.2222222222222222, \"#7201a8\"], [0.3333333333333333, \"#9c179e\"], [0.4444444444444444, \"#bd3786\"], [0.5555555555555556, \"#d8576b\"], [0.6666666666666666, \"#ed7953\"], [0.7777777777777778, \"#fb9f3a\"], [0.8888888888888888, \"#fdca26\"], [1.0, \"#f0f921\"]], \"sequentialminus\": [[0.0, \"#0d0887\"], [0.1111111111111111, \"#46039f\"], [0.2222222222222222, \"#7201a8\"], [0.3333333333333333, \"#9c179e\"], [0.4444444444444444, \"#bd3786\"], [0.5555555555555556, \"#d8576b\"], [0.6666666666666666, \"#ed7953\"], [0.7777777777777778, \"#fb9f3a\"], [0.8888888888888888, \"#fdca26\"], [1.0, \"#f0f921\"]]}, \"colorway\": [\"#636efa\", \"#EF553B\", \"#00cc96\", \"#ab63fa\", \"#FFA15A\", \"#19d3f3\", \"#FF6692\", \"#B6E880\", \"#FF97FF\", \"#FECB52\"], \"font\": {\"color\": \"#2a3f5f\"}, \"geo\": {\"bgcolor\": \"white\", \"lakecolor\": \"white\", \"landcolor\": \"#E5ECF6\", \"showlakes\": true, \"showland\": true, \"subunitcolor\": \"white\"}, \"hoverlabel\": {\"align\": \"left\"}, \"hovermode\": \"closest\", \"mapbox\": {\"style\": \"light\"}, \"paper_bgcolor\": \"white\", \"plot_bgcolor\": \"#E5ECF6\", \"polar\": {\"angularaxis\": {\"gridcolor\": \"white\", \"linecolor\": \"white\", \"ticks\": \"\"}, \"bgcolor\": \"#E5ECF6\", \"radialaxis\": {\"gridcolor\": \"white\", \"linecolor\": \"white\", \"ticks\": \"\"}}, \"scene\": {\"xaxis\": {\"backgroundcolor\": \"#E5ECF6\", \"gridcolor\": \"white\", \"gridwidth\": 2, \"linecolor\": \"white\", \"showbackground\": true, \"ticks\": \"\", \"zerolinecolor\": \"white\"}, \"yaxis\": {\"backgroundcolor\": \"#E5ECF6\", \"gridcolor\": \"white\", \"gridwidth\": 2, \"linecolor\": \"white\", \"showbackground\": true, \"ticks\": \"\", \"zerolinecolor\": \"white\"}, \"zaxis\": {\"backgroundcolor\": \"#E5ECF6\", \"gridcolor\": \"white\", \"gridwidth\": 2, \"linecolor\": \"white\", \"showbackground\": true, \"ticks\": \"\", \"zerolinecolor\": \"white\"}}, \"shapedefaults\": {\"line\": {\"color\": \"#2a3f5f\"}}, \"ternary\": {\"aaxis\": {\"gridcolor\": \"white\", \"linecolor\": \"white\", \"ticks\": \"\"}, \"baxis\": {\"gridcolor\": \"white\", \"linecolor\": \"white\", \"ticks\": \"\"}, \"bgcolor\": \"#E5ECF6\", \"caxis\": {\"gridcolor\": \"white\", \"linecolor\": \"white\", \"ticks\": \"\"}}, \"title\": {\"x\": 0.05}, \"xaxis\": {\"automargin\": true, \"gridcolor\": \"white\", \"linecolor\": \"white\", \"ticks\": \"\", \"title\": {\"standoff\": 15}, \"zerolinecolor\": \"white\", \"zerolinewidth\": 2}, \"yaxis\": {\"automargin\": true, \"gridcolor\": \"white\", \"linecolor\": \"white\", \"ticks\": \"\", \"title\": {\"standoff\": 15}, \"zerolinecolor\": \"white\", \"zerolinewidth\": 2}}}, \"title\": {\"text\": \"Persistence image representation of diagram 0 in homology dimension 1\"}, \"xaxis\": {\"constrain\": \"domain\", \"scaleanchor\": \"y\"}, \"yaxis\": {\"autorange\": true, \"constrain\": \"domain\"}},                        {\"responsive\": true}                    ).then(function(){\n",
       "                            \n",
       "var gd = document.getElementById('c3eb547f-0642-409a-b496-dc0ae4638fd2');\n",
       "var x = new MutationObserver(function (mutations, observer) {{\n",
       "        var display = window.getComputedStyle(gd).display;\n",
       "        if (!display || display === 'none') {{\n",
       "            console.log([gd, 'removed!']);\n",
       "            Plotly.purge(gd);\n",
       "            observer.disconnect();\n",
       "        }}\n",
       "}});\n",
       "\n",
       "// Listen for the removal of the full notebook cells\n",
       "var notebookContainer = gd.closest('#notebook-container');\n",
       "if (notebookContainer) {{\n",
       "    x.observe(notebookContainer, {childList: true});\n",
       "}}\n",
       "\n",
       "// Listen for the clearing of the current output cell\n",
       "var outputEl = gd.closest('.output');\n",
       "if (outputEl) {{\n",
       "    x.observe(outputEl, {childList: true});\n",
       "}}\n",
       "\n",
       "                        })                };                });            </script>        </div>"
      ]
     },
     "metadata": {},
     "output_type": "display_data"
    }
   ],
   "source": [
    "exampleDiagram = np.array([[[0.1, 0.2, 1]]])\n",
    "pimgr = gdiagrams.PersistenceImage(sigma=0.01, n_bins=10)\n",
    "fit(pimgr, exampleDiagram)\n",
    "persImage = pimgr.transform(exampleDiagram)\n",
    "with np.printoptions(precision=2, suppress=True, linewidth=np.inf):\n",
    "    print(persImage)\n",
    "iplot(pimgr.plot(persImage))"
   ]
  },
  {
   "cell_type": "markdown",
   "id": "nominated-compilation",
   "metadata": {},
   "source": [
    "## Perspectives\n",
    "\n",
    "\n",
    "We think it would be very useful to integrate our module in Giotto-tda. While we have not taken steps in this directions yet, the integration should not be too challenging. \n",
    "\n",
    "The step requiring the most work should be adapting the input and output produced by the main functions. Regarding the input, we should update TTK Triangulation so to let it read and triangulate a numpy array. Regarding outputs, we can simply convert persistence diagrams in the format generated by Giotto-TDA and define a new object to store cycles.\n",
    "\n",
    "Aside from adapting our implementation, we should also design visualization functions for 2-cycles in 3D. In practice, these are surfaces representing the boundary of the voids created by the filtration which should be fairly easy to achieve in Plotly."
   ]
  }
 ],
 "metadata": {
  "kernelspec": {
   "display_name": "Python 3",
   "language": "python",
   "name": "python3"
  },
  "language_info": {
   "codemirror_mode": {
    "name": "ipython",
    "version": 3
   },
   "file_extension": ".py",
   "mimetype": "text/x-python",
   "name": "python",
   "nbconvert_exporter": "python",
   "pygments_lexer": "ipython3",
   "version": "3.8.0"
  }
 },
 "nbformat": 4,
 "nbformat_minor": 5
}
