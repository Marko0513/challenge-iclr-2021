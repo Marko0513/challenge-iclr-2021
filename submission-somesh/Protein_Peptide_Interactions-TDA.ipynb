{
 "cells": [
  {
   "cell_type": "markdown",
   "id": "c8c18587",
   "metadata": {},
   "source": [
    "## Topological featurization enables robust classification of protein-peptide interactions"
   ]
  },
  {
   "cell_type": "code",
   "execution_count": null,
   "id": "2da84f77",
   "metadata": {},
   "outputs": [],
   "source": []
  },
  {
   "cell_type": "code",
   "execution_count": 1,
   "id": "92bf2154",
   "metadata": {},
   "outputs": [],
   "source": [
    "import os\n",
    "import sys\n",
    "\n",
    "import warnings\n",
    "warnings.simplefilter(\"ignore\", UserWarning)"
   ]
  },
  {
   "cell_type": "code",
   "execution_count": 2,
   "id": "da255323",
   "metadata": {},
   "outputs": [],
   "source": [
    "from gtda.homology import VietorisRipsPersistence\n",
    "from gtda.diagrams import PersistenceEntropy, NumberOfPoints, Amplitude\n",
    "from gtda.plotting import plot_diagram, plot_point_cloud\n",
    "\n",
    "from matplotlib import pyplot as plt\n",
    "import numpy as np\n",
    "import pandas as pd\n",
    "\n",
    "from sklearn import metrics, svm, ensemble, covariance, model_selection\n",
    "\n",
    "import featurize_pdb\n",
    "import utils_occ_model"
   ]
  },
  {
   "cell_type": "markdown",
   "id": "64f5a825",
   "metadata": {},
   "source": [
    "#### Set Paths and Variables"
   ]
  },
  {
   "cell_type": "code",
   "execution_count": 3,
   "id": "00be958b",
   "metadata": {},
   "outputs": [],
   "source": [
    "PATH = './'\n",
    "PATH_PEPTIDE_LIST = os.path.join(PATH, 'Dataset', 'peptide_list.csv')\n",
    "PATH_DATA = os.path.join(PATH, 'Dataset', 'pepbdb')"
   ]
  },
  {
   "cell_type": "code",
   "execution_count": 4,
   "id": "e3585a03",
   "metadata": {},
   "outputs": [],
   "source": [
    "NON_CANONICAL_PEPTIDE = [0]\n",
    "MIN_RES= 0\n",
    "MAX_RES= 5\n",
    "\n",
    "SEED=108\n",
    "SAMPLE = 100"
   ]
  },
  {
   "cell_type": "markdown",
   "id": "fb6e9354",
   "metadata": {},
   "source": [
    "#### Sequence Dataset Loading and Filtering"
   ]
  },
  {
   "cell_type": "code",
   "execution_count": 5,
   "id": "c8409e05",
   "metadata": {},
   "outputs": [],
   "source": [
    "df_peptide_list = pd.read_csv(PATH_PEPTIDE_LIST)\n",
    "\n",
    "df_peptide_list = df_peptide_list[\n",
    "    df_peptide_list['noncanonical_peptide'].isin(NON_CANONICAL_PEPTIDE)]"
   ]
  },
  {
   "cell_type": "code",
   "execution_count": 6,
   "id": "fc3b4f18",
   "metadata": {},
   "outputs": [],
   "source": [
    "df_peptide_list = df_peptide_list.sample(\n",
    "    SAMPLE, random_state=SEED).reset_index(drop=True)"
   ]
  },
  {
   "cell_type": "markdown",
   "id": "b55136ef",
   "metadata": {},
   "source": [
    "#### Sequence Featurization"
   ]
  },
  {
   "cell_type": "code",
   "execution_count": 7,
   "id": "4579f9be",
   "metadata": {},
   "outputs": [
    {
     "name": "stdout",
     "output_type": "stream",
     "text": [
      "Featurize PDB as Coulomb Matrix, Point Cloud, and Protein Parameters\n"
     ]
    }
   ],
   "source": [
    "featurize = featurize_pdb.Featurize_PDB()"
   ]
  },
  {
   "cell_type": "code",
   "execution_count": 8,
   "id": "0b4f3bd7",
   "metadata": {},
   "outputs": [],
   "source": [
    "peptide_feature_types = ['Coulomb', 'PC', 'PC-Mass']"
   ]
  },
  {
   "cell_type": "code",
   "execution_count": 9,
   "id": "526c413a",
   "metadata": {},
   "outputs": [],
   "source": [
    "%%capture\n",
    "receptor_features = []\n",
    "peptide_param_features = []\n",
    "\n",
    "peptide_raw_features = {feature:[] for feature in peptide_feature_types}\n",
    "for idx in range(df_peptide_list.shape[0]):\n",
    "    pdb_chain_id = ''.join((\n",
    "        df_peptide_list.iloc[idx]['PDB_ID'], '_', \n",
    "        df_peptide_list.iloc[idx]['peptide_chain_ID']))\n",
    "    \n",
    "    path_folder = os.path.join(PATH_DATA, pdb_chain_id)\n",
    "    try:\n",
    "        tmp_peptide_feature = {}\n",
    "        for feature in peptide_raw_features:\n",
    "            tmp_peptide_feature[feature] = featurize.featurize(path_folder, 'peptide.pdb', feature)\n",
    "\n",
    "        tmp_receptor_feature = featurize.featurize(path_folder, 'receptor.pdb', 'Parameters')\n",
    "        tmp_peptide_param_feature = featurize.featurize(path_folder, 'peptide.pdb', 'Parameters')\n",
    "\n",
    "    except: \n",
    "        continue\n",
    "    \n",
    "    for feature in peptide_raw_features:\n",
    "        peptide_raw_features[feature].append(tmp_peptide_feature[feature])\n",
    "    receptor_features.append(tmp_receptor_feature)\n",
    "    peptide_param_features.append(tmp_peptide_param_feature)"
   ]
  },
  {
   "cell_type": "code",
   "execution_count": 10,
   "id": "eb5c31b0",
   "metadata": {},
   "outputs": [],
   "source": [
    "dict_receptor_features, dict_peptide_features = {}, {}\n",
    "\n",
    "for feature in peptide_raw_features:\n",
    "    dict_receptor_features[feature], dict_peptide_features[feature] = utils_occ_model.filter_dataset(\n",
    "        receptor_features, peptide_raw_features[feature])"
   ]
  },
  {
   "cell_type": "markdown",
   "id": "da70a2bb",
   "metadata": {},
   "source": [
    "#### TDA Featurization for peptides"
   ]
  },
  {
   "cell_type": "code",
   "execution_count": null,
   "id": "08c36cb3",
   "metadata": {},
   "outputs": [],
   "source": [
    "persistence_diagrams = {}\n",
    "\n",
    "for feature in peptide_feature_types:\n",
    "    metric = 'precomputed' if feature is 'Coulomb' else 'euclidean'\n",
    "    VR = VietorisRipsPersistence(metric=metric, homology_dimensions=[0, 1, 2], n_jobs=-1)\n",
    "    persistence_diagrams[feature] = VR.fit_transform(dict_peptide_features[feature])"
   ]
  },
  {
   "cell_type": "code",
   "execution_count": null,
   "id": "a3185c7f",
   "metadata": {},
   "outputs": [],
   "source": [
    "persistence_entropy = {}\n",
    "\n",
    "for feature in peptide_feature_types:\n",
    "    PE = PersistenceEntropy()\n",
    "    persistence_entropy[feature] = PE.fit_transform(persistence_diagrams[feature])"
   ]
  },
  {
   "cell_type": "code",
   "execution_count": null,
   "id": "29efb914",
   "metadata": {},
   "outputs": [],
   "source": [
    "number_of_points = {}\n",
    "for feature in peptide_feature_types:\n",
    "    for diagram in persistence_diagrams[feature]:\n",
    "        number_of_points[feature] = NumberOfPoints().fit_transform(\n",
    "            persistence_diagrams[feature])"
   ]
  },
  {
   "cell_type": "code",
   "execution_count": null,
   "id": "9d816ab5",
   "metadata": {},
   "outputs": [],
   "source": [
    "amplitude = {}\n",
    "for feature in peptide_feature_types:\n",
    "    for diagram in persistence_diagrams[feature]:\n",
    "        amplitude[feature] = Amplitude(metric='wasserstein').fit_transform(\n",
    "            persistence_diagrams[feature])"
   ]
  },
  {
   "cell_type": "markdown",
   "id": "740bb9aa",
   "metadata": {},
   "source": [
    "#### Train, Test Splits"
   ]
  },
  {
   "cell_type": "code",
   "execution_count": null,
   "id": "19cc9069",
   "metadata": {},
   "outputs": [],
   "source": [
    "X_train, X_test = {}, {}\n",
    "\n",
    "for feature in peptide_feature_types:\n",
    "    X_train[feature], X_test[feature], _, _ = utils_occ_model.occ_feature_preprocess(\n",
    "        X=[persistence_entropy[feature], \n",
    "           dict_receptor_features[feature], \n",
    "           number_of_points[feature],\n",
    "           amplitude[feature]])"
   ]
  },
  {
   "cell_type": "code",
   "execution_count": null,
   "id": "34037dc9",
   "metadata": {},
   "outputs": [],
   "source": [
    "X_train_params, X_test_params, _, _ = utils_occ_model.occ_feature_preprocess(\n",
    "        X=[receptor_features, peptide_param_features])"
   ]
  },
  {
   "cell_type": "markdown",
   "id": "9a6432ca",
   "metadata": {},
   "source": [
    "#### Model training"
   ]
  },
  {
   "cell_type": "code",
   "execution_count": null,
   "id": "9514cae0",
   "metadata": {},
   "outputs": [],
   "source": [
    "utils_occ_model.occ_training(X_train_params, 'svm')"
   ]
  },
  {
   "cell_type": "code",
   "execution_count": null,
   "id": "20fd804f",
   "metadata": {},
   "outputs": [],
   "source": [
    "utils_occ_model.occ_training(X_train_params, 'isoforest')"
   ]
  },
  {
   "cell_type": "code",
   "execution_count": null,
   "id": "3d4d325b",
   "metadata": {},
   "outputs": [],
   "source": [
    "utils_occ_model.occ_training(X_train['PC'], 'svm')"
   ]
  },
  {
   "cell_type": "code",
   "execution_count": null,
   "id": "8d45e5d0",
   "metadata": {},
   "outputs": [],
   "source": [
    "utils_occ_model.occ_training(X_train['PC'], 'isoforest')"
   ]
  },
  {
   "cell_type": "code",
   "execution_count": null,
   "id": "f2e5724c",
   "metadata": {},
   "outputs": [],
   "source": [
    "utils_occ_model.occ_training(X_train['Coulomb'], 'svm')"
   ]
  },
  {
   "cell_type": "code",
   "execution_count": null,
   "id": "884f2166",
   "metadata": {},
   "outputs": [],
   "source": [
    "utils_occ_model.occ_training(X_train['Coulomb'], 'isoforest')"
   ]
  },
  {
   "cell_type": "code",
   "execution_count": null,
   "id": "09936e0b",
   "metadata": {},
   "outputs": [],
   "source": [
    "utils_occ_model.occ_training(X_train['PC-Mass'], 'svm')"
   ]
  },
  {
   "cell_type": "code",
   "execution_count": null,
   "id": "fb6f4509",
   "metadata": {},
   "outputs": [],
   "source": [
    "utils_occ_model.occ_training(X_train['PC-Mass'], 'isoforest')"
   ]
  },
  {
   "cell_type": "code",
   "execution_count": null,
   "id": "9bed9c81",
   "metadata": {},
   "outputs": [],
   "source": []
  }
 ],
 "metadata": {
  "kernelspec": {
   "display_name": "Python [conda env:ppi_rdkit_tda] *",
   "language": "python",
   "name": "conda-env-ppi_rdkit_tda-py"
  },
  "language_info": {
   "codemirror_mode": {
    "name": "ipython",
    "version": 3
   },
   "file_extension": ".py",
   "mimetype": "text/x-python",
   "name": "python",
   "nbconvert_exporter": "python",
   "pygments_lexer": "ipython3",
   "version": "3.6.13"
  }
 },
 "nbformat": 4,
 "nbformat_minor": 5
}
