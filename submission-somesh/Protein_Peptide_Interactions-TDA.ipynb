{
 "cells": [
  {
   "cell_type": "code",
   "execution_count": null,
   "id": "6900c392",
   "metadata": {},
   "outputs": [],
   "source": [
    "%config IPCompleter.greedy=True\n",
    "%config Completer.use_jedi = False"
   ]
  },
  {
   "cell_type": "code",
   "execution_count": 1,
   "id": "083436c8",
   "metadata": {},
   "outputs": [],
   "source": [
    "import os\n",
    "import sys"
   ]
  },
  {
   "cell_type": "code",
   "execution_count": 2,
   "id": "da255323",
   "metadata": {},
   "outputs": [],
   "source": [
    "import mdtraj as md\n",
    "import numpy as np\n",
    "import pandas as pd\n",
    "from rdkit import Chem\n",
    "from rdkit.Chem import rdMolDescriptors"
   ]
  },
  {
   "cell_type": "code",
   "execution_count": 3,
   "id": "00be958b",
   "metadata": {},
   "outputs": [],
   "source": [
    "PATH_USER = '/home/somesh'\n",
    "PATH_FOLDER = 'challenge-iclr-2021/submission-somesh'\n",
    "PATH_PEPTIDE_LIST = os.path.join(PATH_USER, PATH_FOLDER, 'Dataset', 'peptide_list.csv')\n",
    "PATH_PDB_FOLDER = os.path.join(PATH_USER, 'pepbdb')"
   ]
  },
  {
   "cell_type": "code",
   "execution_count": 4,
   "id": "c8409e05",
   "metadata": {},
   "outputs": [],
   "source": [
    "df_peptide_list = pd.read_csv(PATH_PEPTIDE_LIST)\n",
    "df_peptide_list = df_peptide_list[\n",
    "    (df_peptide_list.noncanonical_peptide == 0) & \n",
    "    (df_peptide_list.resolution >= 0) &\n",
    "    (df_peptide_list.resolution <= 5)].reset_index(drop=True)[:10]"
   ]
  },
  {
   "cell_type": "code",
   "execution_count": 5,
   "id": "2a0f6867",
   "metadata": {},
   "outputs": [],
   "source": [
    "def receptor_peptide_mdtraj(PATH_PDB_FOLDER, pdb_chain_id):\n",
    "    \"\"\"Loads PDB files into MDTraj objects.\n",
    "    \n",
    "    Args:\n",
    "        PATH_PDB_FOLDER: str, path where all the PDB folders are \n",
    "        pdb_chain_id: str, PDB ID followed by chain ID, example: 1a61_L\n",
    "    \n",
    "    Returns:\n",
    "        tuple(receptor_obj, peptide_obj)\n",
    "        \n",
    "    \"\"\"\n",
    "    path_pdb_folder = os.path.join(PATH_PDB_FOLDER, pdb_chain_id)\n",
    "    return (md.load_pdb(os.path.join(path_pdb_folder, 'receptor.pdb')), \n",
    "            md.load_pdb(os.path.join(path_pdb_folder, 'peptide.pdb')))"
   ]
  },
  {
   "cell_type": "code",
   "execution_count": 6,
   "id": "dd4ac96a",
   "metadata": {},
   "outputs": [],
   "source": [
    "def receptor_peptide_mol(PATH_PDB_FOLDER, pdb_chain_id):\n",
    "    \"\"\"Loads PDB files into RDKit mol objects.\n",
    "    \n",
    "    Args:\n",
    "        PATH_PDB_FOLDER: str, path where all the PDB folders are \n",
    "        pdb_chain_id: str, PDB ID followed by chain ID, example: 1a61_L\n",
    "    \n",
    "    Returns:\n",
    "        tuple(receptor_obj, peptide_obj)\n",
    "        \n",
    "    \"\"\"\n",
    "    path_pdb_folder = os.path.join(PATH_PDB_FOLDER, pdb_chain_id)\n",
    "    return (Chem.rdmolfiles.MolFromPDBFile(os.path.join(path_pdb_folder, 'receptor.pdb')), \n",
    "            Chem.rdmolfiles.MolFromPDBFile(os.path.join(path_pdb_folder, 'peptide.pdb')))"
   ]
  },
  {
   "cell_type": "code",
   "execution_count": 17,
   "id": "063abe47",
   "metadata": {},
   "outputs": [],
   "source": [
    "def coulomb_matrix_from_mol(rdkit_mol):\n",
    "    \"\"\"Featurizes RDKit mol as Coulomb matrix.\n",
    "    \n",
    "    Args: \n",
    "        rdkit_mol: RDKit mol, receptor/peptide mol object\n",
    "        \n",
    "    Returns:\n",
    "        np array, (n_atoms, n_atoms) Coulomb matrix\n",
    "        \n",
    "    \"\"\"\n",
    "    return np.array(rdMolDescriptors.CalcCoulombMat(rdkit_mol))"
   ]
  },
  {
   "cell_type": "code",
   "execution_count": 82,
   "id": "80842b26",
   "metadata": {},
   "outputs": [],
   "source": [
    "def pc_coordinates(mdtraj_obj):\n",
    "    \"\"\"Featurizes MDTraj object as array of coordinates.\n",
    "    \n",
    "    Args: \n",
    "        mdtraj_obj: MDTraj object, receptor/peptide MDTraj object\n",
    "        \n",
    "    Returns:\n",
    "        np array: (n_atoms, 3), 3 Cartesian coordinates\n",
    "        \n",
    "    \"\"\"    \n",
    "    return mdtraj_obj.xyz[0]"
   ]
  },
  {
   "cell_type": "code",
   "execution_count": 84,
   "id": "3e007cab",
   "metadata": {},
   "outputs": [],
   "source": [
    "elements_dict = {'H' : 1.008,'HE' : 4.003, 'LI' : 6.941, 'BE' : 9.012,\\\n",
    "                 'B' : 10.811, 'C' : 12.011, 'N' : 14.007, 'O' : 15.999,\\\n",
    "                 'F' : 18.998, 'NE' : 20.180, 'NA' : 22.990, 'MG' : 24.305,\\\n",
    "                 'AL' : 26.982, 'SI' : 28.086, 'P' : 30.974, 'S' : 32.066,\\\n",
    "                 'CL' : 35.453, 'AR' : 39.948, 'K' : 39.098, 'CA' : 40.078,\\\n",
    "                 'SC' : 44.956, 'TI' : 47.867, 'V' : 50.942, 'CR' : 51.996,\\\n",
    "                 'MN' : 54.938, 'FE' : 55.845, 'CO' : 58.933, 'NI' : 58.693,\\\n",
    "                 'CU' : 63.546, 'ZN' : 65.38, 'GA' : 69.723, 'GE' : 72.631,\\\n",
    "                 'AS' : 74.922, 'SE' : 78.971, 'BR' : 79.904, 'KR' : 84.798,\\\n",
    "                 'RB' : 84.468, 'SR' : 87.62, 'Y' : 88.906, 'ZR' : 91.224,\\\n",
    "                 'NB' : 92.906, 'MO' : 95.95, 'TC' : 98.907, 'RU' : 101.07,\\\n",
    "                 'RH' : 102.906, 'PD' : 106.42, 'AG' : 107.868, 'CD' : 112.414,\\\n",
    "                 'IN' : 114.818, 'SN' : 118.711, 'SB' : 121.760, 'TE' : 126.7,\\\n",
    "                 'I' : 126.904, 'XE' : 131.294, 'CS' : 132.905, 'BA' : 137.328,\\\n",
    "                 'LA' : 138.905, 'CE' : 140.116, 'PR' : 140.908, 'ND' : 144.243,\\\n",
    "                 'PM' : 144.913, 'SM' : 150.36, 'EU' : 151.964, 'GD' : 157.25,\\\n",
    "                 'TB' : 158.925, 'DY': 162.500, 'HO' : 164.930, 'ER' : 167.259,\\\n",
    "                 'TM' : 168.934, 'YB' : 173.055, 'LU' : 174.967, 'HF' : 178.49,\\\n",
    "                 'TA' : 180.948, 'W' : 183.84, 'RE' : 186.207, 'OS' : 190.23,\\\n",
    "                 'IR' : 192.217, 'PT' : 195.085, 'AU' : 196.967, 'HG' : 200.592,\\\n",
    "                 'TL' : 204.383, 'PB' : 207.2, 'BI' : 208.980, 'PO' : 208.982,\\\n",
    "                 'AT' : 209.987, 'RN' : 222.081, 'FR' : 223.020, 'RA' : 226.025,\\\n",
    "                 'AC' : 227.028, 'TH' : 232.038, 'PA' : 231.036, 'U' : 238.029,\\\n",
    "                 'NP' : 237, 'PU' : 244, 'AM' : 243, 'CM' : 247, 'BK' : 247,\\\n",
    "                 'CT' : 251, 'ES' : 252, 'FM' : 257, 'MD' : 258, 'NO' : 259,\\\n",
    "                 'LR' : 262, 'RF' : 261, 'DB' : 262, 'SG' : 266, 'BH' : 264,\\\n",
    "                 'HS' : 269, 'MT' : 268, 'DS' : 271, 'RG' : 272, 'CN' : 285,\\\n",
    "                 'NH' : 284, 'FL' : 289, 'MC' : 288, 'LV' : 292, 'TS' : 294,\\\n",
    "                 'OG' : 294}\n",
    "\n",
    "def pc_coordinates_mass(mdtraj_obj):\n",
    "    \"\"\"Featurizes MDTraj object as array of coordinates.\n",
    "    \n",
    "    Args: \n",
    "        mdtraj_obj: MDTraj object, receptor/peptide MDTraj object\n",
    "        \n",
    "    Returns:\n",
    "        (n_atoms, 4): np array, 3 Cartesian coordinates and mass\n",
    "        \n",
    "    \"\"\"  \n",
    "    mass = np.array([\n",
    "        elements_dict[element] for element in \n",
    "        mdtraj_obj.topology.to_dataframe()[0]['element']])\n",
    "    return np.hstack([mdtraj_obj.xyz[0], mass.reshape(-1, 1)])"
   ]
  },
  {
   "cell_type": "code",
   "execution_count": null,
   "id": "4c0e4e11",
   "metadata": {},
   "outputs": [],
   "source": []
  },
  {
   "cell_type": "code",
   "execution_count": null,
   "id": "99a2bad5",
   "metadata": {},
   "outputs": [],
   "source": []
  },
  {
   "cell_type": "code",
   "execution_count": 8,
   "id": "526c413a",
   "metadata": {},
   "outputs": [],
   "source": [
    "for idx in range(df_peptide_list.shape[0]):\n",
    "    pdb_chain_id = ''.join((\n",
    "        df_peptide_list.iloc[idx]['PDB_ID'], '_', \n",
    "        df_peptide_list.iloc[idx]['peptide_chain_ID']))\n",
    "    "
   ]
  },
  {
   "cell_type": "code",
   "execution_count": 85,
   "id": "b625ff43",
   "metadata": {},
   "outputs": [
    {
     "data": {
      "text/plain": [
       "'1a61_L'"
      ]
     },
     "execution_count": 85,
     "metadata": {},
     "output_type": "execute_result"
    }
   ],
   "source": [
    "pdb_chain_id"
   ]
  },
  {
   "cell_type": "code",
   "execution_count": null,
   "id": "5c45aff7",
   "metadata": {},
   "outputs": [],
   "source": []
  },
  {
   "cell_type": "code",
   "execution_count": null,
   "id": "a3185c7f",
   "metadata": {},
   "outputs": [],
   "source": []
  },
  {
   "cell_type": "code",
   "execution_count": null,
   "id": "c83728d9",
   "metadata": {},
   "outputs": [],
   "source": [
    "receptor_peptide_pdb(PATH_PDB_FOLDER, pdb_chain_id)"
   ]
  },
  {
   "cell_type": "code",
   "execution_count": null,
   "id": "95fc6dfd",
   "metadata": {},
   "outputs": [],
   "source": []
  }
 ],
 "metadata": {
  "kernelspec": {
   "display_name": "Python [conda env:ppi_rdkit_tda]",
   "language": "python",
   "name": "conda-env-ppi_rdkit_tda-py"
  },
  "language_info": {
   "codemirror_mode": {
    "name": "ipython",
    "version": 3
   },
   "file_extension": ".py",
   "mimetype": "text/x-python",
   "name": "python",
   "nbconvert_exporter": "python",
   "pygments_lexer": "ipython3",
   "version": "3.6.13"
  }
 },
 "nbformat": 4,
 "nbformat_minor": 5
}
