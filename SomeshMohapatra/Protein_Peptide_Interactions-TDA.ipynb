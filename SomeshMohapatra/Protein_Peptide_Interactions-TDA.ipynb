{
 "cells": [
  {
   "cell_type": "markdown",
   "id": "5f84618d",
   "metadata": {},
   "source": [
    "## Repurposing peptide inhibitors for SARS-Cov-2 spike protein using models trained on topological features\n",
    "<b>Somesh Mohapatra</b><sup>a</sup><br>\n",
    "<sup>a</sup>Massachusetts Institute of Technology, Cambridge, MA 02139. USA.<br>\n",
    "someshm [at] mit.edu\n",
    "\n",
    "## 1. Introduction\n",
    "\n",
    "Protein-protein interactions (PPIs) form the molecular basis of processes that equally sustain life and drive development of disease, such as SARS-Cov-2. PPIs are critical for regulating signal transduction, metabolic pathways, and cell cycles. ([Petta, et al., 2016](https://www.sciencedirect.com/science/article/pii/S1525001616309947?via%3Dihub)) Therefore, disruption of these PPIs represents an attractive therapeutic modality. Peptides have garnered therapeutic interest due to their potential to disrupt clinically-relevant PPIs. ([Tsomaia, et al., 2015](http://europepmc.org/article/med/25591543)) Their synthetic accessibility, amenability to chemical tailoring, and potential for cell penetration have made them increasingly popular starting points in drug discovery. ([Mohapatra, et al., 2020](https://pubs.acs.org/doi/10.1021/acscentsci.0c00979), [Schissel, et al., 2020](https://www.biorxiv.org/content/10.1101/2020.04.10.036566v1)) However, the exponential scaling of the possible peptide sequences (<i>N</i><sup><i>n</i></sup>, where <i>N</i> is number of possible amino acids and <i>n</i> is sequence length), and routine identification of non-specific binders in high throughput experimental screening act as an impediment to the design of effective binders.\n",
    "\n",
    "Machine learning has accelerated efforts in virtual screening. ([Stokes, et al., 2020](https://www.sciencedirect.com/science/article/pii/S0092867420301021), [Yoshida, et al., 2018](https://www.sciencedirect.com/science/article/pii/S2451929418300275)) For peptides specifically, there are multiple instances where machine learning models trained over data from generated libraries or public databases have predicted peptides that experimentally demonstrate higher activity. ([Schissel, et al., 2020](https://www.biorxiv.org/content/10.1101/2020.04.10.036566v1), [Basith, et al., 2020](https://onlinelibrary.wiley.com/doi/abs/10.1002/med.21658)) Accurate predictions of PPIs have been demonstrated using three-dimensional structures of target protein and peptides. ([Cunningham, et al., 2020](https://www.nature.com/articles/s41592-019-0687-1)). However, these approaches are limited because they require significant computational resources to train deep 3D convolutional neural network models. The recent use of geometric deep learning has provided a conceptual framework that advances the field significantly. ([Gainza, et al., 2020](https://www.nature.com/articles/s41592-019-0666-6))\n",
    "\n",
    "In this notebook, we developed an approach combining conventional physicochemical parameter analysis and topological featurization to train robust one-class classifiers to predict PPIs. We used the top-performing model to screen the peptides in the current dataset against SARS-Cov-2 receptor binding domain protein. We used the Peptide Binding DataBase (PepBDB) for model training. ([Wen, et al., 2019](https://academic.oup.com/bioinformatics/article/35/1/175/5050021))"
   ]
  },
  {
   "cell_type": "markdown",
   "id": "d0d25f47",
   "metadata": {},
   "source": [
    "## 2. Methodology\n",
    "\n",
    "In this section, we have elaborated on our approach/reasoning in the specific parts of the code. We also explain the utility of 2 custom python scripts - `featurize_pdb.py` and `utils_occ_model.py` - whose code has been separated to make room for a cleaner notebook.\n",
    "\n",
    "### Installation and importing of packages"
   ]
  },
  {
   "cell_type": "code",
   "execution_count": 1,
   "id": "2da84f77",
   "metadata": {},
   "outputs": [],
   "source": [
    "# !wget https://repo.continuum.io/miniconda/Miniconda3-4.5.4-Linux-x86_64.sh && bash Miniconda3-4.5.4-Linux-x86_64.sh -bfp /usr/local\n",
    "# !conda update conda -y -q\n",
    "# !source /usr/local/etc/profile.d/conda.sh\n",
    "# !conda init \n",
    "# !conda install -n root _license -y -q\n",
    "\n",
    "# !conda create -c conda-forge -n ppi_tda rdkit python=3.8\n",
    "\n",
    "# !conda activate ppi_tda\n",
    "# !pip install frozendict\n",
    "# !pip install scikit-learn==0.23.2\n",
    "# !pip install giotto-tda\n",
    "# !pip install biopython\n",
    "# !conda install -c conda-forge mdtraj"
   ]
  },
  {
   "cell_type": "code",
   "execution_count": 2,
   "id": "ef503400",
   "metadata": {},
   "outputs": [],
   "source": [
    "import os\n",
    "import sys\n",
    "\n",
    "import warnings\n",
    "warnings.filterwarnings('ignore')"
   ]
  },
  {
   "cell_type": "code",
   "execution_count": 3,
   "id": "da255323",
   "metadata": {},
   "outputs": [],
   "source": [
    "from gtda.homology import VietorisRipsPersistence\n",
    "from gtda.diagrams import PersistenceEntropy, NumberOfPoints, Amplitude\n",
    "from gtda.plotting import plot_diagram, plot_point_cloud\n",
    "\n",
    "from matplotlib import pyplot as plt\n",
    "import numpy as np\n",
    "import pandas as pd"
   ]
  },
  {
   "cell_type": "markdown",
   "id": "07a35f28",
   "metadata": {},
   "source": [
    "### Custom libraries - Development and import\n",
    "\n",
    "This notebook is accompanied by 2 python scripts, `featurize_pdb.py` and `utils_occ_model.py`. Both of these scripts have been developed taking into account the custom requirements for handling protein/peptide data files. The data files follow the Protein Data Bank (PDB) convention, in which the residues in the protein, corresponding atoms, and their positions in the Cartesian coordinate space, are noted.\n",
    "\n",
    "`featurize_pdb.py` loads the PDB files into 3 different formats, `text`, `<RDKit_mol>` and `<MDTraj_traj>`, as per the user's request of `feature_type`. \n",
    "\n",
    "If the `feature_type` is `Coulomb`, then the file is loaded as an `<RDKit_mol>` object. The `mol` object is used to generate an atom-atom pairwise charge interaction matrix, called the Coulomb matrix. This matrix shows how the charge distribution is in the protein/peptide. The computation of the Coulomb matrix is costly, hence, only peptides are featurized using this method.\n",
    "\n",
    "If the `feature_type` has the sub-string `PC`, then the file is loaded as an `<MDTraj_traj>` object. The `traj` object is used to generate an array of 3D coordinates, corresponding to the Cartesian coordinates of the atoms. If the user does not specify `Mass` as a part of the `PC` `feature_type`, then the function returns the coordinates alone. In the case where `Mass` is specified, there is a further round of computation where the atomic mass (in a.u.) of each element corresponding to the Cartesian coordinates is noted from a stored dictionary `elements_dict`, and appended to the coordinates vector. In both cases, the protein/peptide is featurized as an array, <i>(n_atoms, n_features)</i>, where <i>n_features</i> is 3 for the coordinates, and 4 if `Mass` is specified.\n",
    "\n",
    "When the `feature_type` is noted as `Parameters`, the PDB file is parsed line-by-line to extract the protein sequence as 1-letter residue codes from the 3-letter codes, using a stored dictionary `letters`. The protein sequence is parsed through `biopython` to generate a `ProteinAnalysis` object. This object computes the several physicochemical parameters, such as secondary structure, hydropathy, isolectronic point, amongst others, which are used to featurize the protein sequence. This code only supports PDBs with natural residues. Given the significantly low computational costs to featurize protein/peptide PDB files as `Parameters`, we have featurized the larger `protein receptor` PDBs across all tasks using `Parameters`. In addition to that, we have benchmarked models using this representation for peptides.\n",
    "\n",
    "\n",
    "`utils_occ_model.py` supports the model development, by pre-processing the data, creating train-validation-test splits, and training of the one-class classifiers. Unfortunately, `scikit-learn` does not provide for a way to optimize one-class classifiers. The use of `GridSearchCV` in `scikit-learn` and `BayesSearchCV` in `scikit-optimize` is plagued with errors, from failing to load the [model instance](https://github.com/NicolasHug/Surprise/issues/212) to [integer transform issues](https://github.com/scikit-optimize/scikit-optimize/issues/877). \n",
    "\n",
    "In absence of support from `scikit-learn`, the `utils_occ_model.py` script provides for pre-processing of features using `occ_feature_preprocess`, by concatenating different data and addressing the case where a `y` label is not available, as the dataset at hand has only positive labels. Further, `occ_training` finds the best model using grid search for 2 different types of one-class classifiers - [Support Vector Machine](http://scikit-learn.org/stable/modules/generated/sklearn.svm.OneClassSVM.html) and [Isolation Forest](http://scikit-learn.org/stable/modules/generated/sklearn.ensemble.IsolationForest.html)."
   ]
  },
  {
   "cell_type": "code",
   "execution_count": 4,
   "id": "cb19ed00",
   "metadata": {},
   "outputs": [],
   "source": [
    "import featurize_pdb\n",
    "import utils_occ_model"
   ]
  },
  {
   "cell_type": "markdown",
   "id": "9cb72edf",
   "metadata": {},
   "source": [
    "### Define paths for the dataset and custom values for filtering\n",
    "For this repository, the data was downloaded from [PepBDB](http://huanglab.phys.hust.edu.cn/pepbdb/db/download/) (accessed on April 30, 2021). The accompanying `peptide_list.txt` file was cleaned, column headers were added, and made available as `peptide_list.csv` in the `Dataset` folder. For the purpose of this notebook and given time constraints, a portion of the PepBDB dataset, containing 100 receptor-peptide combinations, was selected at random and made available in `Dataset/pepbdb`. The code has been run against the complete dataset.\n",
    "\n",
    "<b>Variables to define the path:</b><br>\n",
    "`PATH`: home folder of the files - dataset, peptide_list<br>\n",
    "`PATH_PEPTIDE_LIST`: location of the peptide_list<br>\n",
    "`PATH_DATA`: location of the folder containing the PDB files<br>\n",
    "\n",
    "<b>Variables to filter the dataset:</b><br>\n",
    "`MIN_RES`: float, mimimum resolution of the protein-peptide complex in the PDB file<br>\n",
    "`MAX_RES`: float, maximum resolution of the protein-peptide complex in the PDB file<br>\n",
    "`NON_CANONICAL_PEPTIDE`: list, `peptide_list` notes the peptides with non-canonical residues as 1<br>\n",
    "In this ntoebook, only peptides with natural residues have been analyzed, hence the default value is `[0]`. If all peptides need to be included, then this can be changed to `[0, 1]`, or if only peptides with non-canonical residues need to be analyzed, this can be changed to `[1]`.<br>\n",
    "\n",
    "<b>Other Variables:</b><br>\n",
    "`SAMPLE`: int/float, selection of a particular number/fraction of the sequences<br>\n",
    "`SEED`: int, seed for pseudo-random generator for sampling and training purposes"
   ]
  },
  {
   "cell_type": "code",
   "execution_count": 5,
   "id": "00be958b",
   "metadata": {},
   "outputs": [],
   "source": [
    "PATH = './'\n",
    "PATH_PEPTIDE_LIST = os.path.join(PATH, 'Dataset', 'peptide_list.csv')\n",
    "PATH_DATA = os.path.join(PATH, 'Dataset', 'pepbdb')"
   ]
  },
  {
   "cell_type": "code",
   "execution_count": 6,
   "id": "e3585a03",
   "metadata": {},
   "outputs": [],
   "source": [
    "NON_CANONICAL_PEPTIDE = [0]\n",
    "MIN_RES= 0\n",
    "MAX_RES= 5\n",
    "\n",
    "SEED=108\n",
    "SAMPLE = 100"
   ]
  },
  {
   "cell_type": "markdown",
   "id": "b16bebac",
   "metadata": {},
   "source": [
    "### Sequence dataset Loading and filtering\n",
    "The dataset of PDB files is summarized in `peptide_list.csv`, with information of `PDB_ID`, `peptide_chain_ID`, `noncanonical_peptide`, and `resolution`, amongst others. This list is used to filter the PDB files for further usage.\n",
    "\n",
    "In this notebook, the abridged dataset is used for demonstration.\n",
    "\n",
    "The distribution of the lengths of peptide is shown. Length is one of the bottle-necks in computation and processing of the features."
   ]
  },
  {
   "cell_type": "code",
   "execution_count": 7,
   "id": "c8409e05",
   "metadata": {},
   "outputs": [],
   "source": [
    "df_peptide_list = pd.read_csv(PATH_PEPTIDE_LIST)\n",
    "\n",
    "df_peptide_list = df_peptide_list[\n",
    "    df_peptide_list['noncanonical_peptide'].isin(NON_CANONICAL_PEPTIDE)]"
   ]
  },
  {
   "cell_type": "code",
   "execution_count": 8,
   "id": "fc3b4f18",
   "metadata": {},
   "outputs": [],
   "source": [
    "df_peptide_list = df_peptide_list.sample(\n",
    "    SAMPLE, random_state=SEED).reset_index(drop=True)"
   ]
  },
  {
   "cell_type": "code",
   "execution_count": 9,
   "id": "565c9925",
   "metadata": {},
   "outputs": [
    {
     "data": {
      "text/plain": [
       "(array([15., 20., 12.,  7., 10.,  8., 14.,  6.,  5.,  3.]),\n",
       " array([ 2. ,  6.2, 10.4, 14.6, 18.8, 23. , 27.2, 31.4, 35.6, 39.8, 44. ]),\n",
       " <BarContainer object of 10 artists>)"
      ]
     },
     "execution_count": 9,
     "metadata": {},
     "output_type": "execute_result"
    },
    {
     "data": {
      "image/png": "[encoded data removed]",
      "text/plain": [
       "<Figure size 432x288 with 1 Axes>"
      ]
     },
     "metadata": {
      "needs_background": "light"
     },
     "output_type": "display_data"
    }
   ],
   "source": [
    "plt.hist(df_peptide_list['peptide_length'])"
   ]
  },
  {
   "cell_type": "markdown",
   "id": "ba537680",
   "metadata": {},
   "source": [
    "### Featurization of receptors and peptides\n",
    "Receptor protein and peptide, in the PDB files, are featurized using `class Featurize_PDB` in the `featurize_pdb.py` script. An instance of this class is created and used for featurization of receptors and peptides.\n",
    "\n",
    "By convention, `receptor` denotes the larger protein in the complex, and `peptide` denotes the smaller protein. In the file scheme of PepBDB, the same convention has been used. Each folder in `Dataset/pepbdb` has a folder by the name of the PDB ID followed by the peptide chain. For example, `1a1n_C`, where `1a1n` is the PDB ID and `C` is the chain ID. This information can also be looked up in the [PDB database](https://www.rcsb.org/).\n",
    "\n",
    "Receptor proteins are large proteins, and featurized using physicochemical parameters obtained using `ProteinAnalysis` in `biopython`.\n",
    "\n",
    "Peptides are relatively smaller proteins, hence computationally cheaper to featurize. They have been represented using Coulomb matrix, point cloud of Cartesian coordinates of heavy atoms (as noted in the PDB file) and point cloud of Cartesian coordinates of heavy atoms with a fourth value which represents the mass of the corresponding atom. The featurization types has been noted in a list `peptide_feature_types` and used through the notebook to define keys in the dictionary and train models. Physico-chemical parameters for peptides have also been computed to benchmark the models.\n",
    "\n",
    "`try` and `except` is used to handle exceptions arising from processing of PDB files with improper entries. Features for both receptors and peptides which pass this exception-handling statement are stored in `receptor_features` list, `peptide_param_features` list (for benchmarking) and `peptide_raw_features` dictionary. `dictionary` data type has been used for `peptide_raw_features` to conveniently handle all the different features used for peptides."
   ]
  },
  {
   "cell_type": "code",
   "execution_count": 10,
   "id": "8cf3b38e",
   "metadata": {},
   "outputs": [],
   "source": [
    "peptide_feature_types = ['Coulomb', 'PC', 'PC-Mass']"
   ]
  },
  {
   "cell_type": "code",
   "execution_count": 11,
   "id": "231252f5",
   "metadata": {},
   "outputs": [
    {
     "name": "stdout",
     "output_type": "stream",
     "text": [
      "Featurize PDB as Coulomb Matrix, Point Cloud, and Protein Parameters\n"
     ]
    }
   ],
   "source": [
    "featurize = featurize_pdb.Featurize_PDB()"
   ]
  },
  {
   "cell_type": "code",
   "execution_count": 12,
   "id": "526c413a",
   "metadata": {},
   "outputs": [],
   "source": [
    "%%capture\n",
    "receptor_features = []\n",
    "peptide_param_features = []\n",
    "\n",
    "peptide_raw_features = {feature:[] for feature in peptide_feature_types}\n",
    "for idx in range(df_peptide_list.shape[0]):\n",
    "    pdb_chain_id = ''.join((\n",
    "        df_peptide_list.iloc[idx]['PDB_ID'], '_', \n",
    "        df_peptide_list.iloc[idx]['peptide_chain_ID']))\n",
    "    \n",
    "    path_folder = os.path.join(PATH_DATA, pdb_chain_id)\n",
    "    try:\n",
    "        tmp_peptide_feature = {}\n",
    "        for feature in peptide_raw_features:\n",
    "            tmp_peptide_feature[feature] = featurize.featurize(path_folder, 'peptide.pdb', feature)\n",
    "\n",
    "        tmp_receptor_feature = featurize.featurize(path_folder, 'receptor.pdb', 'Parameters')\n",
    "        tmp_peptide_param_feature = featurize.featurize(path_folder, 'peptide.pdb', 'Parameters')\n",
    "        \n",
    "        if (tmp_receptor_feature is None) or (\n",
    "            tmp_peptide_param_feature is None) or (\n",
    "            True in [tmp_peptide_feature[feature] is None for feature in peptide_feature_types]):\n",
    "            continue\n",
    "\n",
    "    except: \n",
    "        continue\n",
    "    \n",
    "    for feature in peptide_raw_features:\n",
    "        peptide_raw_features[feature].append(tmp_peptide_feature[feature])\n",
    "    receptor_features.append(tmp_receptor_feature)\n",
    "    peptide_param_features.append(tmp_peptide_param_feature)"
   ]
  },
  {
   "cell_type": "markdown",
   "id": "91b46c61",
   "metadata": {},
   "source": [
    "Owing to issues in the featurization process, arising from mishandling of PDB in `RDKit` and `MDTraj` objects, a post-featurization filtering using `utils_occ_model.filter_dataset` is used. This removes any `None` values in both `receptor_features` and `peptide_features` lists.\n",
    "\n",
    "The filtered datasets are stored as dictionaries by `feature_type` for further usage.\n",
    "\n",
    "`indices_list` returned from the function notes down the indices in the original `peptide_list` dataframe that have been carried forward for further analysis. This list has been used to obtain a filtered dataframe, `df_filter`."
   ]
  },
  {
   "cell_type": "code",
   "execution_count": 13,
   "id": "e183a30d",
   "metadata": {},
   "outputs": [],
   "source": [
    "dict_receptor_features, dict_peptide_features = {}, {}\n",
    "\n",
    "for feature in peptide_raw_features:\n",
    "    (dict_receptor_features[feature], \n",
    "     dict_peptide_features[feature], \n",
    "     indices_list) = utils_occ_model.filter_dataset(\n",
    "        receptor_features, peptide_raw_features[feature])"
   ]
  },
  {
   "cell_type": "code",
   "execution_count": 14,
   "id": "ab74ef9e",
   "metadata": {},
   "outputs": [],
   "source": [
    "df_filter = df_peptide_list.loc[indices_list].reset_index(drop=True)"
   ]
  },
  {
   "cell_type": "markdown",
   "id": "88e1b64b",
   "metadata": {},
   "source": [
    "### Featurization of peptides using <i>giotto-tda</i>\n",
    "Peptide features - Coulomb matrices, point clouds with coordinates, and point clouds with coordinates and mass - have been featurized using topological representations obtained from <i>giotto-tda</i>.\n",
    "\n",
    "Peristence diagrams for peptide features have been calculated using `VietorisRipsPersistence`, with `euclidean` metric for point clouds, and `precomputed` for Coulomb matrices. The homology dimensions have been set to `[0, 1, 2]` tracking connected components, loops, and voids.\n",
    "\n",
    "For this section, we have referred to the tutorial on [Classifying 3D shapes](https://giotto-ai.github.io/gtda-docs/latest/notebooks/classifying_shapes.html) provided in the <i>[giotto-tda](https://giotto-ai.github.io/)</i> documentation (accessed on April 30, 2021)."
   ]
  },
  {
   "cell_type": "code",
   "execution_count": null,
   "id": "08c36cb3",
   "metadata": {},
   "outputs": [],
   "source": [
    "persistence_diagrams = {}\n",
    "\n",
    "for feature in peptide_feature_types:\n",
    "    metric = 'precomputed' if feature is 'Coulomb' else 'euclidean'\n",
    "    VR = VietorisRipsPersistence(metric=metric, homology_dimensions=[0, 1, 2], n_jobs=-1)\n",
    "    persistence_diagrams[feature] = VR.fit_transform(dict_peptide_features[feature])"
   ]
  },
  {
   "cell_type": "code",
   "execution_count": null,
   "id": "a4f9f6a4",
   "metadata": {},
   "outputs": [],
   "source": [
    "plot_diagram(persistence_diagrams['PC'][0])"
   ]
  },
  {
   "cell_type": "markdown",
   "id": "55497a70",
   "metadata": {},
   "source": [
    "Persistence diagrams have been used to compute persistence entropy, number of off-diagonal points per homology dimension, and a vector of amplitudes, using the pre-defined functions in `gtda.diagrams`."
   ]
  },
  {
   "cell_type": "code",
   "execution_count": null,
   "id": "a3185c7f",
   "metadata": {},
   "outputs": [],
   "source": [
    "persistence_entropy = {}\n",
    "\n",
    "for feature in peptide_feature_types:\n",
    "    PE = PersistenceEntropy()\n",
    "    persistence_entropy[feature] = PE.fit_transform(persistence_diagrams[feature])"
   ]
  },
  {
   "cell_type": "markdown",
   "id": "6901898b",
   "metadata": {},
   "source": [
    "Point cloud of persistence entropy across the 3 homology dimensions shows the variation in the peptide features."
   ]
  },
  {
   "cell_type": "code",
   "execution_count": null,
   "id": "0c9963ae",
   "metadata": {},
   "outputs": [],
   "source": [
    "plot_point_cloud(persistence_entropy['PC-Mass'])"
   ]
  },
  {
   "cell_type": "code",
   "execution_count": null,
   "id": "0fb49b84",
   "metadata": {},
   "outputs": [],
   "source": [
    "number_of_points = {}\n",
    "for feature in peptide_feature_types:\n",
    "    for diagram in persistence_diagrams[feature]:\n",
    "        number_of_points[feature] = NumberOfPoints().fit_transform(\n",
    "            persistence_diagrams[feature])"
   ]
  },
  {
   "cell_type": "code",
   "execution_count": null,
   "id": "25cb63ce",
   "metadata": {},
   "outputs": [],
   "source": [
    "amplitude = {}\n",
    "for feature in peptide_feature_types:\n",
    "    for diagram in persistence_diagrams[feature]:\n",
    "        amplitude[feature] = Amplitude(metric='wasserstein').fit_transform(\n",
    "            persistence_diagrams[feature])"
   ]
  },
  {
   "cell_type": "markdown",
   "id": "ba2f81c5",
   "metadata": {},
   "source": [
    "### Dataset preparation for model training\n",
    "One-class classifiers are trained using `utils_occ_model.occ_training` on the pre-processed dataset. \n",
    "\n",
    "Physico-chemical parameters of receptor and topological features of peptides are concatenated to a feature vector, per protein-peptide sample using `utils_occ_model.occ_feature_preprocess`. `X_train` and `X_test` are stored as dictionaries with `feature_type` key values. In addition to the `peptide_feature_types`, physico-chemical parameters for both protein and peptide have been updated as `Parameters` `feature_type`.\n",
    "\n",
    "The default split for training and testing, 80: 20, has been used in this notebook. This can be changed by passing a float value for the `test_split` in the `occ_feature_preprocess` function.\n",
    "\n",
    "As a gentle reminder, no class labels as `y_train` and `y_test` are present here, since this is a one-class classification."
   ]
  },
  {
   "cell_type": "code",
   "execution_count": null,
   "id": "4c5cee2e",
   "metadata": {},
   "outputs": [],
   "source": [
    "X_train, X_test = {}, {}\n",
    "\n",
    "for feature in peptide_feature_types:\n",
    "    X_train[feature], X_test[feature], _, _ = utils_occ_model.occ_feature_preprocess(\n",
    "        X=[dict_receptor_features[feature], \n",
    "           persistence_entropy[feature], \n",
    "           number_of_points[feature],\n",
    "           amplitude[feature]])\n",
    "    \n",
    "    X_train[feature+'_Params'], X_test[feature], _, _ = utils_occ_model.occ_feature_preprocess(\n",
    "        X=[dict_receptor_features[feature], \n",
    "           persistence_entropy[feature], \n",
    "           number_of_points[feature],\n",
    "           amplitude[feature]])\n",
    "    \n",
    "    \n",
    "X_train['Parameters'], X_test['Parameters'], _, _ = utils_occ_model.occ_feature_preprocess(\n",
    "        X=[receptor_features, peptide_param_features,])"
   ]
  },
  {
   "cell_type": "markdown",
   "id": "f5bce41f",
   "metadata": {},
   "source": [
    "## 3. Benchmark - Results and Experiments\n",
    "\n",
    "### Model training\n",
    "To obtain the best feature type and model architecture, and benchmark others, we train 2 one-class classifiers, optimized over an exhaustive list of hyperparameters, over 7 feature types. For this purpose, we use `utils_occ_model.occ_training` which handles the splitting of the training data into train and validation sets, and trains a suite of models for different hyperparameter combinations. \n",
    "\n",
    "2 one-class classifiers in the `scikit-learn` package, [Support Vector Machine](http://scikit-learn.org/stable/modules/generated/sklearn.svm.OneClassSVM.html) and [Isolation Forest](http://scikit-learn.org/stable/modules/generated/sklearn.ensemble.IsolationForest.html) have been implemented. Parameters and corresponding hyperparameters for each model architecture have been noted in a dictionary `model_params`. Apart from the default parameters, user-defined parameters are also handled using the `dict_params` argument in the `occ_training` function.\n",
    "\n",
    "For the peptides, we have studied how the augmentation of physico-chemical parameters with topological feature representations can impact the model performance. In total, we obtain 3 feature sets same as the earlier `feature_type` defined in `peptide_feature_types`, along with 3 augmented feature sets and 1 benchmark feature set with the physico-chemical parameters alone.\n",
    "\n",
    "The code splits the data into a final set of <b>60: 20: 20</b>, <b>training: validation: test</b>, with a pre-defined `val_split` argument. This argument can also be passed by the user, along with the `random_state` for the splitting.\n",
    "\n",
    "`occ_training` function takes `X_train` and `model_type` as input, and returns `best_model`, `best_params`, `best_accuracy`. The best model is scored by the accuracy on the validation dataset during model training. It is noted that the parameters for the best model can be obtained by querying the `scikit-learn` model instance. However, for ease of access to the specific parameters for the user, this has been included as an additional attribute.\n",
    "\n",
    "The output of a one-class classifier is either `1` or `-1`, where `1` denotes that the feature vector belongs to the classm and vice-versa. Accuracy is computed as a sum of the classifier outputs divided by the total number of samples, where if all output classes are `1`, then the accuracy is 1.0."
   ]
  },
  {
   "cell_type": "code",
   "execution_count": null,
   "id": "7ac51f16",
   "metadata": {},
   "outputs": [],
   "source": [
    "model_arch_types = ['svm', 'isoforest']\n",
    "\n",
    "top_models = {feature:{} for feature in X_train}\n",
    "top_params = {feature:{} for feature in X_train}\n",
    "top_val_acc = {feature:{} for feature in X_train}\n",
    "\n",
    "for feature_type in X_train:\n",
    "    for model_type in model_arch_types:\n",
    "        (top_models[feature_type][model_type], \n",
    "         top_params[feature_type][model_type], \n",
    "         top_val_acc[feature_type][model_type]) = utils_occ_model.occ_training(\n",
    "            X_train[feature_type], model_type)"
   ]
  },
  {
   "cell_type": "code",
   "execution_count": null,
   "id": "bbf8d904",
   "metadata": {},
   "outputs": [],
   "source": [
    "top_test_acc = {feature:{} for feature in X_train}\n",
    "\n",
    "for feature_type in X_train:\n",
    "    for model_type in model_arch_types:\n",
    "        top_test_acc[feature_type][model_type] = utils_occ_model.occ_scorer(\n",
    "            top_models[feature_type][model_type], X_test[feature_type])"
   ]
  },
  {
   "cell_type": "markdown",
   "id": "675a09da",
   "metadata": {},
   "source": [
    "In the following 2 dataframes, we have summarized the accuracy values for the validation and test datasets. The addition of topological features, in conjunction with the [Isolation Forest](http://scikit-learn.org/stable/modules/generated/sklearn.ensemble.IsolationForest.html) one-class classifier is noted to be a top performing combination. \n",
    "\n",
    "Given the limited data that we have trained on, the performance of using just the physico-chemical parameters is shown to be unusally high. This result might be caused due to a lot similar proteins in the sampled dataset. In other experiments (not in this notebook) with the complete dataset, we observed that the Isolation Forest models trained with topological features performs better than the physico-chemical parameters. We also observed that augmented feature set performs slightly better than using topological features alone.\n",
    "\n",
    "To remain consistent to the representations and the dataset in this notebook, we have used the `PC-Mass-isoforest` `feature-model_type` combination in further analysis."
   ]
  },
  {
   "cell_type": "code",
   "execution_count": null,
   "id": "b4612b76",
   "metadata": {},
   "outputs": [],
   "source": [
    "pd.DataFrame.from_dict(top_val_acc)"
   ]
  },
  {
   "cell_type": "code",
   "execution_count": null,
   "id": "3fd85450",
   "metadata": {},
   "outputs": [],
   "source": [
    "pd.DataFrame.from_dict(top_test_acc)"
   ]
  },
  {
   "cell_type": "markdown",
   "id": "10e27879",
   "metadata": {},
   "source": [
    "### Repurposition for SARS-Cov-2 RBD protein\n",
    "We used the `PC-Mass-isoforest` model to screen the peptides in the dataset with the features of the SARS-Cov-2 receptor binding domain (RBD) protein. We downloaded a pre-processed PDB file for RBD protein (PDB ID: [6XM0](https://www.rcsb.org/structure/6XM0)) from [PDB database](https://www.rcsb.org/). (accessed on April 30, 2021) This file had only one chain of the RDB protein and did not include any non-canonical amino acids or glycans.\n",
    "\n",
    "The PDB file was featurized using `featurize_pdb` with `Parameters` `feature_type`, and stored in `rbd_features`. The list of receptor features was concatenated with the peptide features into `X_rbd_peptide`.\n",
    "\n",
    "The indices for the positive predictions, `1` from the top model, which indicated the peptides that bound to the RBD protein (noted in `rbd_pred`). These indices were matched with the corresponding PDB IDs in `df_filter`."
   ]
  },
  {
   "cell_type": "code",
   "execution_count": null,
   "id": "348dc532",
   "metadata": {},
   "outputs": [],
   "source": [
    "top_feature_type = 'PC-Mass'\n",
    "top_model_type = 'isoforest'"
   ]
  },
  {
   "cell_type": "code",
   "execution_count": null,
   "id": "77fc8f96",
   "metadata": {},
   "outputs": [],
   "source": [
    "rbd_features = featurize.featurize(\n",
    "    path_folder = os.path.join(PATH, 'Dataset'), \n",
    "    file_name = 'sars_cov2_rbd.pdb',\n",
    "    feature_type = 'Parameters')"
   ]
  },
  {
   "cell_type": "code",
   "execution_count": null,
   "id": "7cf8d97a",
   "metadata": {},
   "outputs": [],
   "source": [
    "X_rbd_peptide = np.hstack([\n",
    "    len(persistence_entropy[top_feature_type])*[rbd_features], \n",
    "    persistence_entropy[top_feature_type], \n",
    "    number_of_points[top_feature_type],\n",
    "    amplitude[top_feature_type]])"
   ]
  },
  {
   "cell_type": "code",
   "execution_count": null,
   "id": "0f4a412c",
   "metadata": {},
   "outputs": [],
   "source": [
    "rbd_pred = top_models['PC-Mass']['isoforest'].predict(X_rbd_PC_Mass)"
   ]
  },
  {
   "cell_type": "code",
   "execution_count": null,
   "id": "aa5024bd",
   "metadata": {},
   "outputs": [],
   "source": [
    "df_filter.loc[[idx for idx, pred in enumerate(rbd_pred) if pred == 1]][\n",
    "    ['PDB_ID', 'peptide_chain_ID']].head()"
   ]
  },
  {
   "cell_type": "markdown",
   "id": "5b2f4614",
   "metadata": {},
   "source": [
    "To understand if the results are likely, we checked the top 3 PDB IDs shown here, and tried to correlate it with known understanding of general biology and of the SARS-Cov-2 system. The analysis has been done, by each PDB ID - <br>\n",
    "[4NUF](https://www.rcsb.org/structure/4NUF): Peptide bound to Escherechia coli, a known microbe which affects humans.<br>\n",
    "[1KPV](https://www.rcsb.org/structure/1KPV): Peptide bound to MHC class I complex, which will incite immunogenic response. This might be a false positive.<br>\n",
    "[2C3I](https://www.rcsb.org/structure/2C3I): Peptide bound to PIM 1 kinase, kknwon to responsible for cardiovascular malignancies. Recent studies have noted SARS-Cov-2 as a vascular disease, so this might be a good binder. ([Siddiqui, et al., 2021](https://linkinghub.elsevier.com/retrieve/pii/S1050173820301286), [Lei, et al., 2021](https://www.ahajournals.org/doi/10.1161/CIRCRESAHA.121.318902)) <br>\n",
    "\n",
    "These preliminary results indicate that more analysis into both methodology and selection can aid in finding peptide-based inhibitors for PPI, not only for SARS-Cov-2 but also for other diseases where the protein is known."
   ]
  },
  {
   "cell_type": "markdown",
   "id": "440e90f7",
   "metadata": {},
   "source": [
    "## 4. Limitations and perspectives\n",
    "We note that there are certain limitations to this approach, and provide suggestions on how they may be overcome -<br>\n",
    "- Need for 3D data for peptides and proteins: Despite the significantly large size of [PepBDB](https://academic.oup.com/bioinformatics/article/35/1/175/5050021) dataset with 13,000+ entries, it still falls short of the protein sequences in millions noted in [UniProt](https://www.uniprot.org/). We suggest that for known proteins, molecular dynamics simulation approaches can be used to obtain 3D structures for peptides and they can be screened against. Similarly, individual structures for the receptor protein can be used in the absence of receptor-peptide complexes to augment the dataset.\n",
    "- Understanding of topological features and manifolds: Proteins and peptides are being only recently studied using topological featurization methods. Even then, featurization in non-Euclidean manifolds for proteins remains an esoteric area of research. Deeper studies in understanding the different representations and their effects on model performance can significantly impact the field.\n",
    "- Experimental validation of predictions: Given the difficult task to synthesize and validate in wet lab experiments, understanding of the efficacy of the models remains an open challenge.\n",
    "\n",
    "In summary, we demonstrated the power of topological representations to learn PPIs. In this notebook, we showed how public PPI datasets with 3D information of peptide and protein can be used to develop robust models, and used for different applications, such as repurposition of peptide inhibitors. In addition to that, we repurposed peptide inhibitors, and correlated the predictions for 3 bound peptides with contemporary knowledge."
   ]
  }
 ],
 "metadata": {
  "kernelspec": {
   "display_name": "Python [conda env:ppi_rdkit_tda] *",
   "language": "python",
   "name": "conda-env-ppi_rdkit_tda-py"
  },
  "language_info": {
   "codemirror_mode": {
    "name": "ipython",
    "version": 3
   },
   "file_extension": ".py",
   "mimetype": "text/x-python",
   "name": "python",
   "nbconvert_exporter": "python",
   "pygments_lexer": "ipython3",
   "version": "3.6.13"
  }
 },
 "nbformat": 4,
 "nbformat_minor": 5
}
