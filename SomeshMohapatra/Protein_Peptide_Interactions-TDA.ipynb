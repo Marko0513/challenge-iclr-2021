{
 "cells": [
  {
   "attachments": {},
   "cell_type": "markdown",
   "id": "5f84618d",
   "metadata": {},
   "source": [
    "## Repurposing peptide inhibitors for SARS-Cov-2 spike protein using models trained on topological features\n",
    "<b>Somesh Mohapatra</b><sup>a</sup><br>\n",
    "<sup>a</sup>Massachusetts Institute of Technology, Cambridge, MA 02139. USA.<br>\n",
    "someshm [at] mit.edu\n",
    "\n",
    "## 1. Introduction\n",
    "\n",
    "Protein-protein interactions (PPIs) form the molecular basis of processes that equally sustain life and drive development of disease, such as SARS-Cov-2. PPIs are critical for regulating signal transduction, metabolic pathways, and cell cycles. ([Petta, et al., 2016](https://www.sciencedirect.com/science/article/pii/S1525001616309947?via%3Dihub)) Therefore, disruption of these PPIs represents an attractive therapeutic modality. Peptides have garnered therapeutic interest due to their potential to disrupt clinically-relevant PPIs. ([Tsomaia, et al., 2015](http://europepmc.org/article/med/25591543)) Their synthetic accessibility, amenability to chemical tailoring, and potential for cell penetration have made them increasingly popular starting points in drug discovery. ([Mohapatra, et al., 2020](https://pubs.acs.org/doi/10.1021/acscentsci.0c00979), [Schissel, et al., 2020](https://www.biorxiv.org/content/10.1101/2020.04.10.036566v1)) However, the exponential scaling of the possible peptide sequences (<i>N</i><sup><i>n</i></sup>, where <i>N</i> is number of possible amino acids and <i>n</i> is sequence length), and routine identification of non-specific binders in high throughput experimental screening act as an impediment to the design of effective binders.\n",
    "\n",
    "Machine learning has accelerated efforts in virtual screening. ([Stokes, et al., 2020](https://www.sciencedirect.com/science/article/pii/S0092867420301021), [Yoshida, et al., 2018](https://www.sciencedirect.com/science/article/pii/S2451929418300275)) For peptides specifically, there are multiple instances where machine learning models trained over data from generated libraries or public databases have predicted peptides that experimentally demonstrate higher activity. ([Schissel, et al., 2020](https://www.biorxiv.org/content/10.1101/2020.04.10.036566v1), [Basith, et al., 2020](https://onlinelibrary.wiley.com/doi/abs/10.1002/med.21658)) Accurate predictions of PPIs have been demonstrated using three-dimensional structures of target protein and peptides. ([Cunningham, et al., 2020](https://www.nature.com/articles/s41592-019-0687-1)). However, these approaches are limited because they require significant computational resources to train deep 3D convolutional neural network models. The recent use of geometric deep learning has provided a conceptual framework that advances the field significantly. ([Gainza, et al., 2020](https://www.nature.com/articles/s41592-019-0666-6))\n",
    "\n",
    "In this notebook, we developed an approach combining conventional physicochemical parameter analysis and topological featurization to train robust one-class classifiers to predict PPIs. We used the top-performing model to screen the peptides in the current dataset against SARS-Cov-2 receptor binding domain protein. We used the Peptide Binding DataBase (PepBDB) for model training. ([Wen, et al., 2019](https://academic.oup.com/bioinformatics/article/35/1/175/5050021))"
   ]
  },
  {
   "cell_type": "markdown",
   "id": "d0d25f47",
   "metadata": {},
   "source": [
    "## 2. Methodology\n",
    "\n",
    "In this section, we have elaborated on our approach/reasoning in the specific parts of the code. We also explain the utility of 2 custom python scripts - `featurize_pdb.py` and `utils_occ_model.py` - whose code has been separated to make room for a cleaner notebook.\n",
    "\n",
    "### Installation and importing of packages"
   ]
  },
  {
   "cell_type": "code",
   "execution_count": null,
   "id": "2da84f77",
   "metadata": {},
   "outputs": [],
   "source": [
    "!wget https://repo.continuum.io/miniconda/Miniconda3-4.5.4-Linux-x86_64.sh && bash Miniconda3-4.5.4-Linux-x86_64.sh -bfp /usr/local\n",
    "!conda update conda -y -q\n",
    "!source /usr/local/etc/profile.d/conda.sh\n",
    "!conda init \n",
    "!conda install -n root _license -y -q\n",
    "!conda create -c conda-forge -n ppi_tda rdkit python=3.8\n",
    "\n",
    "!conda activate ppi_tda\n",
    "!pip install frozendict\n",
    "!pip install scikit-learn==0.23.2\n",
    "!pip install giotto-tda\n",
    "!pip install biopython\n",
    "!conda install -c conda-forge mdtraj"
   ]
  },
  {
   "cell_type": "code",
   "execution_count": 18,
   "id": "ef503400",
   "metadata": {},
   "outputs": [],
   "source": [
    "import os\n",
    "import sys\n",
    "\n",
    "import warnings\n",
    "warnings.filterwarnings('ignore')"
   ]
  },
  {
   "cell_type": "code",
   "execution_count": 25,
   "id": "da255323",
   "metadata": {},
   "outputs": [],
   "source": [
    "from gtda.homology import VietorisRipsPersistence\n",
    "from gtda.diagrams import PersistenceEntropy, NumberOfPoints, Amplitude\n",
    "from gtda.plotting import plot_diagram, plot_point_cloud\n",
    "\n",
    "from matplotlib import pyplot as plt\n",
    "import numpy as np\n",
    "import pandas as pd"
   ]
  },
  {
   "cell_type": "markdown",
   "id": "07a35f28",
   "metadata": {},
   "source": [
    "### Custom libraries - Development and import\n",
    "\n",
    "This notebook is accompanied by 2 python scripts, `featurize_pdb.py` and `utils_occ_model.py`. Both of these scripts have been developed taking into account the custom requirements for handling protein/peptide data files. The data files follow the Protein Data Bank (PDB) convention, in which the residues in the protein, corresponding atoms, and their positions in the Cartesian coordinate space, are noted.\n",
    "\n",
    "`featurize_pdb.py` loads the PDB files into 3 different formats, `text`, `<RDKit_mol>` and `<MDTraj_traj>`, as per the user's request of `feature_type`. \n",
    "\n",
    "If the `feature_type` is `Coulomb`, then the file is loaded as an `<RDKit_mol>` object. The `mol` object is used to generate an atom-atom pairwise charge interaction matrix, called the Coulomb matrix. This matrix shows how the charge distribution is in the protein/peptide. The computation of the Coulomb matrix is costly, hence, only peptides are featurized using this method.\n",
    "\n",
    "If the `feature_type` has the sub-string `PC`, then the file is loaded as an `<MDTraj_traj>` object. The `traj` object is used to generate an array of 3D coordinates, corresponding to the Cartesian coordinates of the atoms. If the user does not specify `Mass` as a part of the `PC` `feature_type`, then the function returns the coordinates alone. In the case where `Mass` is specified, there is a further round of computation where the atomic mass (in a.u.) of each element corresponding to the Cartesian coordinates is noted from a stored dictionary `elements_dict`, and appended to the coordinates vector. In both cases, the protein/peptide is featurized as an array, <i>(n_atoms, n_features)</i>, where <i>n_features</i> is 3 for the coordinates, and 4 if `Mass` is specified.\n",
    "\n",
    "When the `feature_type` is noted as `Parameters`, the PDB file is parsed line-by-line to extract the protein sequence as 1-letter residue codes from the 3-letter codes, using a stored dictionary `letters`. The protein sequence is parsed through `biopython` to generate a `ProteinAnalysis` object. This object computes the several physicochemical parameters, such as secondary structure, hydropathy, isolectronic point, amongst others, which are used to featurize the protein sequence. This code only supports PDBs with natural residues. Given the significantly low computational costs to featurize protein/peptide PDB files as `Parameters`, we have featurized the larger `protein receptor` PDBs across all tasks using `Parameters`. In addition to that, we have benchmarked models using this representation for peptides.\n",
    "\n",
    "\n",
    "`utils_occ_model.py` supports the model development, by pre-processing the data, creating train-validation-test splits, and training of the one-class classifiers. Unfortunately, `scikit-learn` does not provide for a way to optimize one-class classifiers. The use of `GridSearchCV` in `scikit-learn` and `BayesSearchCV` in `scikit-optimize` is plagued with errors, from failing to load the [model instance](https://github.com/NicolasHug/Surprise/issues/212) to [integer transform issues](https://github.com/scikit-optimize/scikit-optimize/issues/877). \n",
    "\n",
    "In absence of support from `scikit-learn`, the `utils_occ_model.py` script provides for pre-processing of features using `occ_feature_preprocess`, by concatenating different data and addressing the case where a `y` label is not available, as the dataset at hand has only positive labels. Further, `occ_training` finds the best model using grid search for 2 different types of one-class classifiers - [Support Vector Machine](http://scikit-learn.org/stable/modules/generated/sklearn.svm.OneClassSVM.html) and [Isolation Forest](http://scikit-learn.org/stable/modules/generated/sklearn.ensemble.IsolationForest.html)."
   ]
  },
  {
   "cell_type": "code",
   "execution_count": 28,
   "id": "cb19ed00",
   "metadata": {},
   "outputs": [],
   "source": [
    "import featurize_pdb\n",
    "import utils_occ_model"
   ]
  },
  {
   "cell_type": "markdown",
   "id": "9cb72edf",
   "metadata": {},
   "source": [
    "### Define paths for the dataset and custom values for filtering\n",
    "For this repository, the data was downloaded from [PepBDB](http://huanglab.phys.hust.edu.cn/pepbdb/db/download/) (accessed on April 30, 2021). The accompanying `peptide_list.txt` file was cleaned, column headers were added, and made available as `peptide_list.csv` in the `Dataset` folder. For the purpose of this notebook and given time constraints, a portion of the PepBDB dataset, containing 100 receptor-peptide combinations, was selected at random and made available in `Dataset/pepbdb`. The code has been run against the complete dataset.\n",
    "\n",
    "<b>Variables to define the path:</b><br>\n",
    "`PATH`: home folder of the files - dataset, peptide_list<br>\n",
    "`PATH_PEPTIDE_LIST`: location of the peptide_list<br>\n",
    "`PATH_DATA`: location of the folder containing the PDB files<br>\n",
    "\n",
    "<b>Variables to filter the dataset:</b><br>\n",
    "`MIN_RES`: float, mimimum resolution of the protein-peptide complex in the PDB file<br>\n",
    "`MAX_RES`: float, maximum resolution of the protein-peptide complex in the PDB file<br>\n",
    "`NON_CANONICAL_PEPTIDE`: list, `peptide_list` notes the peptides with non-canonical residues as 1<br>\n",
    "In this ntoebook, only peptides with natural residues have been analyzed, hence the default value is `[0]`. If all peptides need to be included, then this can be changed to `[0, 1]`, or if only peptides with non-canonical residues need to be analyzed, this can be changed to `[1]`.<br>\n",
    "\n",
    "<b>Other Variables:</b><br>\n",
    "`SAMPLE`: int/float, selection of a particular number/fraction of the sequences<br>\n",
    "`SEED`: int, seed for pseudo-random generator for sampling and training purposes"
   ]
  },
  {
   "cell_type": "code",
   "execution_count": 3,
   "id": "00be958b",
   "metadata": {},
   "outputs": [],
   "source": [
    "PATH = './'\n",
    "PATH_PEPTIDE_LIST = os.path.join(PATH, 'Dataset', 'peptide_list.csv')\n",
    "PATH_DATA = os.path.join(PATH, 'Dataset', 'pepbdb')"
   ]
  },
  {
   "cell_type": "code",
   "execution_count": 4,
   "id": "e3585a03",
   "metadata": {},
   "outputs": [],
   "source": [
    "NON_CANONICAL_PEPTIDE = [0]\n",
    "MIN_RES= 0\n",
    "MAX_RES= 5\n",
    "\n",
    "SEED=108\n",
    "SAMPLE = 100"
   ]
  },
  {
   "cell_type": "markdown",
   "id": "b16bebac",
   "metadata": {},
   "source": [
    "### Sequence dataset Loading and filtering\n",
    "The dataset of PDB files is summarized in `peptide_list.csv`, with information of `PDB_ID`, `peptide_chain_ID`, `noncanonical_peptide`, and `resolution`, amongst others. This list is used to filter the PDB files for further usage.\n",
    "\n",
    "In this notebook, the abridged dataset is used for demonstration.\n",
    "\n",
    "The distribution of the lengths of peptide is shown. Length is one of the bottle-necks in computation and processing of the features."
   ]
  },
  {
   "cell_type": "code",
   "execution_count": 5,
   "id": "c8409e05",
   "metadata": {},
   "outputs": [],
   "source": [
    "df_peptide_list = pd.read_csv(PATH_PEPTIDE_LIST)\n",
    "\n",
    "df_peptide_list = df_peptide_list[\n",
    "    df_peptide_list['noncanonical_peptide'].isin(NON_CANONICAL_PEPTIDE)]"
   ]
  },
  {
   "cell_type": "code",
   "execution_count": 6,
   "id": "fc3b4f18",
   "metadata": {},
   "outputs": [],
   "source": [
    "df_peptide_list = df_peptide_list.sample(\n",
    "    SAMPLE, random_state=SEED).reset_index(drop=True)"
   ]
  },
  {
   "cell_type": "code",
   "execution_count": 112,
   "id": "565c9925",
   "metadata": {},
   "outputs": [
    {
     "data": {
      "text/plain": [
       "(array([15., 20., 12.,  7., 10.,  8., 14.,  6.,  5.,  3.]),\n",
       " array([ 2. ,  6.2, 10.4, 14.6, 18.8, 23. , 27.2, 31.4, 35.6, 39.8, 44. ]),\n",
       " <BarContainer object of 10 artists>)"
      ]
     },
     "execution_count": 112,
     "metadata": {},
     "output_type": "execute_result"
    },
    {
     "data": {
      "image/png": "[encoded data removed]",
      "text/plain": [
       "<Figure size 432x288 with 1 Axes>"
      ]
     },
     "metadata": {
      "needs_background": "light"
     },
     "output_type": "display_data"
    }
   ],
   "source": [
    "plt.hist(df_peptide_list['peptide_length'])"
   ]
  },
  {
   "cell_type": "markdown",
   "id": "ba537680",
   "metadata": {},
   "source": [
    "### Featurization of receptors and peptides\n",
    "Receptor protein and peptide, in the PDB files, are featurized using `class Featurize_PDB` in the `featurize_pdb.py` script. An instance of this class is created and used for featurization of receptors and peptides.\n",
    "\n",
    "By convention, `receptor` denotes the larger protein in the complex, and `peptide` denotes the smaller protein. In the file scheme of PepBDB, the same convention has been used. Each folder in `Dataset/pepbdb` has a folder by the name of the PDB ID followed by the peptide chain. For example, `1a1n_C`, where `1a1n` is the PDB ID and `C` is the chain ID. This information can also be looked up in the [PDB database](https://www.rcsb.org/).\n",
    "\n",
    "Receptor proteins are large proteins, and featurized using physicochemical parameters obtained using `ProteinAnalysis` in `biopython`.\n",
    "\n",
    "Peptides are relatively smaller proteins, hence computationally cheaper to featurize. They have been represented using Coulomb matrix, point cloud of Cartesian coordinates of heavy atoms (as noted in the PDB file) and point cloud of Cartesian coordinates of heavy atoms with a fourth value which represents the mass of the corresponding atom. The featurization types has been noted in a list `peptide_feature_types` and used through the notebook to define keys in the dictionary and train models. Physico-chemical parameters for peptides have also been computed to benchmark the models.\n",
    "\n",
    "`try` and `except` is used to handle exceptions arising from processing of PDB files with improper entries. Features for both receptors and peptides which pass this exception-handling statement are stored in `receptor_features` list, `peptide_param_features` list (for benchmarking) and `peptide_raw_features` dictionary. `dictionary` data type has been used for `peptide_raw_features` to conveniently handle all the different features used for peptides."
   ]
  },
  {
   "cell_type": "code",
   "execution_count": 33,
   "id": "8cf3b38e",
   "metadata": {},
   "outputs": [],
   "source": [
    "peptide_feature_types = ['Coulomb', 'PC', 'PC-Mass']"
   ]
  },
  {
   "cell_type": "code",
   "execution_count": 69,
   "id": "231252f5",
   "metadata": {},
   "outputs": [
    {
     "name": "stdout",
     "output_type": "stream",
     "text": [
      "Featurize PDB as Coulomb Matrix, Point Cloud, and Protein Parameters\n"
     ]
    }
   ],
   "source": [
    "featurize = featurize_pdb.Featurize_PDB()"
   ]
  },
  {
   "cell_type": "code",
   "execution_count": 9,
   "id": "526c413a",
   "metadata": {},
   "outputs": [],
   "source": [
    "%%capture\n",
    "receptor_features = []\n",
    "peptide_param_features = []\n",
    "\n",
    "peptide_raw_features = {feature:[] for feature in peptide_feature_types}\n",
    "for idx in range(df_peptide_list.shape[0]):\n",
    "    pdb_chain_id = ''.join((\n",
    "        df_peptide_list.iloc[idx]['PDB_ID'], '_', \n",
    "        df_peptide_list.iloc[idx]['peptide_chain_ID']))\n",
    "    \n",
    "    path_folder = os.path.join(PATH_DATA, pdb_chain_id)\n",
    "    try:\n",
    "        tmp_peptide_feature = {}\n",
    "        for feature in peptide_raw_features:\n",
    "            tmp_peptide_feature[feature] = featurize.featurize(path_folder, 'peptide.pdb', feature)\n",
    "\n",
    "        tmp_receptor_feature = featurize.featurize(path_folder, 'receptor.pdb', 'Parameters')\n",
    "        tmp_peptide_param_feature = featurize.featurize(path_folder, 'peptide.pdb', 'Parameters')\n",
    "\n",
    "    except: \n",
    "        continue\n",
    "    \n",
    "    for feature in peptide_raw_features:\n",
    "        peptide_raw_features[feature].append(tmp_peptide_feature[feature])\n",
    "    receptor_features.append(tmp_receptor_feature)\n",
    "    peptide_param_features.append(tmp_peptide_param_feature)"
   ]
  },
  {
   "cell_type": "markdown",
   "id": "91b46c61",
   "metadata": {},
   "source": [
    "Owing to issues in the featurization process, arising from mishandling of PDB in `RDKit` and `MDTraj` objects, a post-featurization filtering using `utils_occ_model.filter_dataset` is used. This removes any `None` values in both `receptor_features` and `peptide_features` lists.\n",
    "\n",
    "The filtered datasets are stored as dictionaries by `feature_type` for further usage.\n",
    "\n",
    "`indices_list` returned from the function notes down the indices in the original `peptide_list` dataframe that have been carried forward for further analysis. This list has been used to obtain a filtered dataframe, `df_filter`."
   ]
  },
  {
   "cell_type": "code",
   "execution_count": 95,
   "id": "e183a30d",
   "metadata": {},
   "outputs": [],
   "source": [
    "dict_receptor_features, dict_peptide_features = {}, {}\n",
    "\n",
    "for feature in peptide_raw_features:\n",
    "    (dict_receptor_features[feature], \n",
    "     dict_peptide_features[feature], \n",
    "     indices_list) = utils_occ_model.filter_dataset(\n",
    "        receptor_features, peptide_raw_features[feature])"
   ]
  },
  {
   "cell_type": "code",
   "execution_count": 100,
   "id": "ab74ef9e",
   "metadata": {},
   "outputs": [],
   "source": [
    "df_filter = df_peptide_list.loc[indices_list].reset_index(drop=True)"
   ]
  },
  {
   "cell_type": "markdown",
   "id": "88e1b64b",
   "metadata": {},
   "source": [
    "### Featurization of peptides using <i>giotto-tda</i>\n",
    "Peptide features - Coulomb matrices, point clouds with coordinates, and point clouds with coordinates and mass - have been featurized using topological representations obtained from <i>giotto-tda</i>.\n",
    "\n",
    "Peristence diagrams for peptide features have been calculated using `VietorisRipsPersistence`, with `euclidean` metric for point clouds, and `precomputed` for Coulomb matrices. The homology dimensions have been set to `[0, 1, 2]` tracking connected components, loops, and voids.\n",
    "\n",
    "For this section, we have referred to the tutorial on [Classifying 3D shapes](https://giotto-ai.github.io/gtda-docs/latest/notebooks/classifying_shapes.html) provided in the <i>[giotto-tda](https://giotto-ai.github.io/)</i> documentation (accessed on April 30, 2021)."
   ]
  },
  {
   "cell_type": "code",
   "execution_count": 11,
   "id": "08c36cb3",
   "metadata": {},
   "outputs": [],
   "source": [
    "persistence_diagrams = {}\n",
    "\n",
    "for feature in peptide_feature_types:\n",
    "    metric = 'precomputed' if feature is 'Coulomb' else 'euclidean'\n",
    "    VR = VietorisRipsPersistence(metric=metric, homology_dimensions=[0, 1, 2], n_jobs=-1)\n",
    "    persistence_diagrams[feature] = VR.fit_transform(dict_peptide_features[feature])"
   ]
  },
  {
   "cell_type": "code",
   "execution_count": 39,
   "id": "a4f9f6a4",
   "metadata": {},
   "outputs": [
    {
     "data": {
      "application/vnd.plotly.v1+json": {
       "config": {
        "plotlyServerURL": "https://plot.ly"
       },
       "data": [
        {
         "hoverinfo": "none",
         "line": {
          "color": "black",
          "dash": "dash",
          "width": 1
         },
         "mode": "lines",
         "showlegend": false,
         "type": "scatter",
         "x": [
          -0.008364589810371399,
          0.42659408032894136
         ],
         "y": [
          -0.008364589810371399,
          0.42659408032894136
         ]
        },
        {
         "hoverinfo": "text",
         "hovertext": [
          "(0.0, 0.12240806967020035)",
          "(0.0, 0.12259048223495483)",
          "(0.0, 0.1227322444319725)",
          "(0.0, 0.12286265194416046)",
          "(0.0, 0.12287455797195435)",
          "(0.0, 0.12296771258115768)",
          "(0.0, 0.1229928508400917)",
          "(0.0, 0.12300165742635727)",
          "(0.0, 0.12306791543960571)",
          "(0.0, 0.12306837737560272)",
          "(0.0, 0.12312505394220352)",
          "(0.0, 0.12314285337924957)",
          "(0.0, 0.12325224280357361)",
          "(0.0, 0.12348556518554688)",
          "(0.0, 0.12375123798847198)",
          "(0.0, 0.12379344552755356)",
          "(0.0, 0.12381548434495926)",
          "(0.0, 0.12505294382572174)",
          "(0.0, 0.12515109777450562)",
          "(0.0, 0.1252862811088562)",
          "(0.0, 0.1252896785736084)",
          "(0.0, 0.13213907182216644)",
          "(0.0, 0.13215720653533936)",
          "(0.0, 0.13217350840568542)",
          "(0.0, 0.13233056664466858)",
          "(0.0, 0.1323987990617752)",
          "(0.0, 0.1324503868818283)",
          "(0.0, 0.13257762789726257)",
          "(0.0, 0.13266131281852722)",
          "(0.0, 0.13274253904819489)",
          "(0.0, 0.13276277482509613)",
          "(0.0, 0.132796972990036)",
          "(0.0, 0.13281506299972534)",
          "(0.0, 0.13287954032421112)",
          "(0.0, 0.13288046419620514)",
          "(0.0, 0.1329239159822464)",
          "(0.0, 0.13312837481498718)",
          "(0.0, 0.13317371904850006)",
          "(0.0, 0.13324210047721863)",
          "(0.0, 0.13335655629634857)",
          "(0.0, 0.13350601494312286)",
          "(0.0, 0.13352477550506592)",
          "(0.0, 0.13554143905639648)",
          "(0.0, 0.13748717308044434)",
          "(0.0, 0.13890089094638824)",
          "(0.0, 0.1390063613653183)",
          "(0.0, 0.13916589319705963)",
          "(0.0, 0.139321967959404)",
          "(0.0, 0.13984401524066925)",
          "(0.0, 0.14129586517810822)",
          "(0.0, 0.144065260887146)",
          "(0.0, 0.1444108635187149)",
          "(0.0, 0.14475394785404205)",
          "(0.0, 0.14520452916622162)",
          "(0.0, 0.14539319276809692)",
          "(0.0, 0.1455349326133728)",
          "(0.0, 0.14575394988059998)",
          "(0.0, 0.1457892656326294)",
          "(0.0, 0.1458144336938858)",
          "(0.0, 0.1458161324262619)",
          "(0.0, 0.14589466154575348)",
          "(0.0, 0.14590437710285187)",
          "(0.0, 0.1460449993610382)",
          "(0.0, 0.1461026668548584)",
          "(0.0, 0.14616890251636505)",
          "(0.0, 0.14674466848373413)",
          "(0.0, 0.14688602089881897)",
          "(0.0, 0.14964759349822998)",
          "(0.0, 0.15000930428504944)",
          "(0.0, 0.15020738542079926)",
          "(0.0, 0.15024320781230927)",
          "(0.0, 0.15048716962337494)",
          "(0.0, 0.15050193667411804)",
          "(0.0, 0.15060563385486603)",
          "(0.0, 0.15061643719673157)",
          "(0.0, 0.150798037648201)",
          "(0.0, 0.15081676840782166)",
          "(0.0, 0.15105889737606049)",
          "(0.0, 0.15110962092876434)",
          "(0.0, 0.15156212449073792)",
          "(0.0, 0.15171384811401367)",
          "(0.0, 0.15185126662254333)",
          "(0.0, 0.151859849691391)",
          "(0.0, 0.15197259187698364)",
          "(0.0, 0.15198957920074463)",
          "(0.0, 0.15204118192195892)",
          "(0.0, 0.1520518958568573)",
          "(0.0, 0.15208299458026886)",
          "(0.0, 0.15218329429626465)",
          "(0.0, 0.15220406651496887)",
          "(0.0, 0.1523178666830063)",
          "(0.0, 0.15250800549983978)",
          "(0.0, 0.15252885222434998)",
          "(0.0, 0.1525472104549408)",
          "(0.0, 0.15255701541900635)",
          "(0.0, 0.15270444750785828)",
          "(0.0, 0.15275979042053223)",
          "(0.0, 0.15277202427387238)",
          "(0.0, 0.15283966064453125)",
          "(0.0, 0.15286871790885925)",
          "(0.0, 0.15289664268493652)",
          "(0.0, 0.15296553075313568)",
          "(0.0, 0.15302322804927826)",
          "(0.0, 0.1530541032552719)",
          "(0.0, 0.1530909240245819)",
          "(0.0, 0.1531790792942047)",
          "(0.0, 0.15322522819042206)",
          "(0.0, 0.15325583517551422)",
          "(0.0, 0.15335488319396973)",
          "(0.0, 0.1533556431531906)",
          "(0.0, 0.15338636934757233)",
          "(0.0, 0.1534520983695984)",
          "(0.0, 0.1535210758447647)",
          "(0.0, 0.15356527268886566)",
          "(0.0, 0.15367428958415985)",
          "(0.0, 0.15383179485797882)",
          "(0.0, 0.1538858413696289)",
          "(0.0, 0.15393349528312683)",
          "(0.0, 0.15401388704776764)",
          "(0.0, 0.15416841208934784)",
          "(0.0, 0.15436455607414246)",
          "(0.0, 0.15478301048278809)",
          "(0.0, 0.15662525594234467)",
          "(0.0, 0.1798514425754547)",
          "(0.0, 0.18389931321144104)"
         ],
         "mode": "markers",
         "name": "H0",
         "type": "scatter",
         "x": [
          0,
          0,
          0,
          0,
          0,
          0,
          0,
          0,
          0,
          0,
          0,
          0,
          0,
          0,
          0,
          0,
          0,
          0,
          0,
          0,
          0,
          0,
          0,
          0,
          0,
          0,
          0,
          0,
          0,
          0,
          0,
          0,
          0,
          0,
          0,
          0,
          0,
          0,
          0,
          0,
          0,
          0,
          0,
          0,
          0,
          0,
          0,
          0,
          0,
          0,
          0,
          0,
          0,
          0,
          0,
          0,
          0,
          0,
          0,
          0,
          0,
          0,
          0,
          0,
          0,
          0,
          0,
          0,
          0,
          0,
          0,
          0,
          0,
          0,
          0,
          0,
          0,
          0,
          0,
          0,
          0,
          0,
          0,
          0,
          0,
          0,
          0,
          0,
          0,
          0,
          0,
          0,
          0,
          0,
          0,
          0,
          0,
          0,
          0,
          0,
          0,
          0,
          0,
          0,
          0,
          0,
          0,
          0,
          0,
          0,
          0,
          0,
          0,
          0,
          0,
          0,
          0,
          0,
          0,
          0,
          0,
          0,
          0,
          0,
          0
         ],
         "y": [
          0.12240806967020035,
          0.12259048223495483,
          0.1227322444319725,
          0.12286265194416046,
          0.12287455797195435,
          0.12296771258115768,
          0.1229928508400917,
          0.12300165742635727,
          0.12306791543960571,
          0.12306837737560272,
          0.12312505394220352,
          0.12314285337924957,
          0.12325224280357361,
          0.12348556518554688,
          0.12375123798847198,
          0.12379344552755356,
          0.12381548434495926,
          0.12505294382572174,
          0.12515109777450562,
          0.1252862811088562,
          0.1252896785736084,
          0.13213907182216644,
          0.13215720653533936,
          0.13217350840568542,
          0.13233056664466858,
          0.1323987990617752,
          0.1324503868818283,
          0.13257762789726257,
          0.13266131281852722,
          0.13274253904819489,
          0.13276277482509613,
          0.132796972990036,
          0.13281506299972534,
          0.13287954032421112,
          0.13288046419620514,
          0.1329239159822464,
          0.13312837481498718,
          0.13317371904850006,
          0.13324210047721863,
          0.13335655629634857,
          0.13350601494312286,
          0.13352477550506592,
          0.13554143905639648,
          0.13748717308044434,
          0.13890089094638824,
          0.1390063613653183,
          0.13916589319705963,
          0.139321967959404,
          0.13984401524066925,
          0.14129586517810822,
          0.144065260887146,
          0.1444108635187149,
          0.14475394785404205,
          0.14520452916622162,
          0.14539319276809692,
          0.1455349326133728,
          0.14575394988059998,
          0.1457892656326294,
          0.1458144336938858,
          0.1458161324262619,
          0.14589466154575348,
          0.14590437710285187,
          0.1460449993610382,
          0.1461026668548584,
          0.14616890251636505,
          0.14674466848373413,
          0.14688602089881897,
          0.14964759349822998,
          0.15000930428504944,
          0.15020738542079926,
          0.15024320781230927,
          0.15048716962337494,
          0.15050193667411804,
          0.15060563385486603,
          0.15061643719673157,
          0.150798037648201,
          0.15081676840782166,
          0.15105889737606049,
          0.15110962092876434,
          0.15156212449073792,
          0.15171384811401367,
          0.15185126662254333,
          0.151859849691391,
          0.15197259187698364,
          0.15198957920074463,
          0.15204118192195892,
          0.1520518958568573,
          0.15208299458026886,
          0.15218329429626465,
          0.15220406651496887,
          0.1523178666830063,
          0.15250800549983978,
          0.15252885222434998,
          0.1525472104549408,
          0.15255701541900635,
          0.15270444750785828,
          0.15275979042053223,
          0.15277202427387238,
          0.15283966064453125,
          0.15286871790885925,
          0.15289664268493652,
          0.15296553075313568,
          0.15302322804927826,
          0.1530541032552719,
          0.1530909240245819,
          0.1531790792942047,
          0.15322522819042206,
          0.15325583517551422,
          0.15335488319396973,
          0.1533556431531906,
          0.15338636934757233,
          0.1534520983695984,
          0.1535210758447647,
          0.15356527268886566,
          0.15367428958415985,
          0.15383179485797882,
          0.1538858413696289,
          0.15393349528312683,
          0.15401388704776764,
          0.15416841208934784,
          0.15436455607414246,
          0.15478301048278809,
          0.15662525594234467,
          0.1798514425754547,
          0.18389931321144104
         ]
        },
        {
         "hoverinfo": "text",
         "hovertext": [
          "(0.3872950077056885, 0.41822949051856995)",
          "(0.3668014705181122, 0.38820528984069824)",
          "(0.3431396186351776, 0.35369500517845154)",
          "(0.334602952003479, 0.337531179189682)",
          "(0.325678288936615, 0.3332905173301697)",
          "(0.3191375434398651, 0.35849884152412415)",
          "(0.31623536348342896, 0.3660237491130829)",
          "(0.3140147626399994, 0.3918166756629944)",
          "(0.30927813053131104, 0.31099143624305725)",
          "(0.2914784252643585, 0.3165474236011505)",
          "(0.29017195105552673, 0.3267163038253784)",
          "(0.28403541445732117, 0.28601276874542236)",
          "(0.2833595275878906, 0.31877806782722473)",
          "(0.14000432193279266, 0.2418578416109085)",
          "(0.1380143016576767, 0.2185225784778595)"
         ],
         "mode": "markers",
         "name": "H1",
         "type": "scatter",
         "x": [
          0.3872950077056885,
          0.3668014705181122,
          0.3431396186351776,
          0.334602952003479,
          0.325678288936615,
          0.3191375434398651,
          0.31623536348342896,
          0.3140147626399994,
          0.30927813053131104,
          0.2914784252643585,
          0.29017195105552673,
          0.28403541445732117,
          0.2833595275878906,
          0.14000432193279266,
          0.1380143016576767
         ],
         "y": [
          0.41822949051856995,
          0.38820528984069824,
          0.35369500517845154,
          0.337531179189682,
          0.3332905173301697,
          0.35849884152412415,
          0.3660237491130829,
          0.3918166756629944,
          0.31099143624305725,
          0.3165474236011505,
          0.3267163038253784,
          0.28601276874542236,
          0.31877806782722473,
          0.2418578416109085,
          0.2185225784778595
         ]
        },
        {
         "hoverinfo": "text",
         "hovertext": [
          "(0.38820528984069824, 0.4033988118171692)",
          "(0.37072256207466125, 0.37133723497390747)",
          "(0.3595239222049713, 0.3620508909225464)",
          "(0.2428468018770218, 0.2774296998977661)"
         ],
         "mode": "markers",
         "name": "H2",
         "type": "scatter",
         "x": [
          0.38820528984069824,
          0.37072256207466125,
          0.3595239222049713,
          0.2428468018770218
         ],
         "y": [
          0.4033988118171692,
          0.37133723497390747,
          0.3620508909225464,
          0.2774296998977661
         ]
        }
       ],
       "layout": {
        "height": 500,
        "plot_bgcolor": "white",
        "template": {
         "data": {
          "bar": [
           {
            "error_x": {
             "color": "#2a3f5f"
            },
            "error_y": {
             "color": "#2a3f5f"
            },
            "marker": {
             "line": {
              "color": "#E5ECF6",
              "width": 0.5
             }
            },
            "type": "bar"
           }
          ],
          "barpolar": [
           {
            "marker": {
             "line": {
              "color": "#E5ECF6",
              "width": 0.5
             }
            },
            "type": "barpolar"
           }
          ],
          "carpet": [
           {
            "aaxis": {
             "endlinecolor": "#2a3f5f",
             "gridcolor": "white",
             "linecolor": "white",
             "minorgridcolor": "white",
             "startlinecolor": "#2a3f5f"
            },
            "baxis": {
             "endlinecolor": "#2a3f5f",
             "gridcolor": "white",
             "linecolor": "white",
             "minorgridcolor": "white",
             "startlinecolor": "#2a3f5f"
            },
            "type": "carpet"
           }
          ],
          "choropleth": [
           {
            "colorbar": {
             "outlinewidth": 0,
             "ticks": ""
            },
            "type": "choropleth"
           }
          ],
          "contour": [
           {
            "colorbar": {
             "outlinewidth": 0,
             "ticks": ""
            },
            "colorscale": [
             [
              0,
              "#0d0887"
             ],
             [
              0.1111111111111111,
              "#46039f"
             ],
             [
              0.2222222222222222,
              "#7201a8"
             ],
             [
              0.3333333333333333,
              "#9c179e"
             ],
             [
              0.4444444444444444,
              "#bd3786"
             ],
             [
              0.5555555555555556,
              "#d8576b"
             ],
             [
              0.6666666666666666,
              "#ed7953"
             ],
             [
              0.7777777777777778,
              "#fb9f3a"
             ],
             [
              0.8888888888888888,
              "#fdca26"
             ],
             [
              1,
              "#f0f921"
             ]
            ],
            "type": "contour"
           }
          ],
          "contourcarpet": [
           {
            "colorbar": {
             "outlinewidth": 0,
             "ticks": ""
            },
            "type": "contourcarpet"
           }
          ],
          "heatmap": [
           {
            "colorbar": {
             "outlinewidth": 0,
             "ticks": ""
            },
            "colorscale": [
             [
              0,
              "#0d0887"
             ],
             [
              0.1111111111111111,
              "#46039f"
             ],
             [
              0.2222222222222222,
              "#7201a8"
             ],
             [
              0.3333333333333333,
              "#9c179e"
             ],
             [
              0.4444444444444444,
              "#bd3786"
             ],
             [
              0.5555555555555556,
              "#d8576b"
             ],
             [
              0.6666666666666666,
              "#ed7953"
             ],
             [
              0.7777777777777778,
              "#fb9f3a"
             ],
             [
              0.8888888888888888,
              "#fdca26"
             ],
             [
              1,
              "#f0f921"
             ]
            ],
            "type": "heatmap"
           }
          ],
          "heatmapgl": [
           {
            "colorbar": {
             "outlinewidth": 0,
             "ticks": ""
            },
            "colorscale": [
             [
              0,
              "#0d0887"
             ],
             [
              0.1111111111111111,
              "#46039f"
             ],
             [
              0.2222222222222222,
              "#7201a8"
             ],
             [
              0.3333333333333333,
              "#9c179e"
             ],
             [
              0.4444444444444444,
              "#bd3786"
             ],
             [
              0.5555555555555556,
              "#d8576b"
             ],
             [
              0.6666666666666666,
              "#ed7953"
             ],
             [
              0.7777777777777778,
              "#fb9f3a"
             ],
             [
              0.8888888888888888,
              "#fdca26"
             ],
             [
              1,
              "#f0f921"
             ]
            ],
            "type": "heatmapgl"
           }
          ],
          "histogram": [
           {
            "marker": {
             "colorbar": {
              "outlinewidth": 0,
              "ticks": ""
             }
            },
            "type": "histogram"
           }
          ],
          "histogram2d": [
           {
            "colorbar": {
             "outlinewidth": 0,
             "ticks": ""
            },
            "colorscale": [
             [
              0,
              "#0d0887"
             ],
             [
              0.1111111111111111,
              "#46039f"
             ],
             [
              0.2222222222222222,
              "#7201a8"
             ],
             [
              0.3333333333333333,
              "#9c179e"
             ],
             [
              0.4444444444444444,
              "#bd3786"
             ],
             [
              0.5555555555555556,
              "#d8576b"
             ],
             [
              0.6666666666666666,
              "#ed7953"
             ],
             [
              0.7777777777777778,
              "#fb9f3a"
             ],
             [
              0.8888888888888888,
              "#fdca26"
             ],
             [
              1,
              "#f0f921"
             ]
            ],
            "type": "histogram2d"
           }
          ],
          "histogram2dcontour": [
           {
            "colorbar": {
             "outlinewidth": 0,
             "ticks": ""
            },
            "colorscale": [
             [
              0,
              "#0d0887"
             ],
             [
              0.1111111111111111,
              "#46039f"
             ],
             [
              0.2222222222222222,
              "#7201a8"
             ],
             [
              0.3333333333333333,
              "#9c179e"
             ],
             [
              0.4444444444444444,
              "#bd3786"
             ],
             [
              0.5555555555555556,
              "#d8576b"
             ],
             [
              0.6666666666666666,
              "#ed7953"
             ],
             [
              0.7777777777777778,
              "#fb9f3a"
             ],
             [
              0.8888888888888888,
              "#fdca26"
             ],
             [
              1,
              "#f0f921"
             ]
            ],
            "type": "histogram2dcontour"
           }
          ],
          "mesh3d": [
           {
            "colorbar": {
             "outlinewidth": 0,
             "ticks": ""
            },
            "type": "mesh3d"
           }
          ],
          "parcoords": [
           {
            "line": {
             "colorbar": {
              "outlinewidth": 0,
              "ticks": ""
             }
            },
            "type": "parcoords"
           }
          ],
          "pie": [
           {
            "automargin": true,
            "type": "pie"
           }
          ],
          "scatter": [
           {
            "marker": {
             "colorbar": {
              "outlinewidth": 0,
              "ticks": ""
             }
            },
            "type": "scatter"
           }
          ],
          "scatter3d": [
           {
            "line": {
             "colorbar": {
              "outlinewidth": 0,
              "ticks": ""
             }
            },
            "marker": {
             "colorbar": {
              "outlinewidth": 0,
              "ticks": ""
             }
            },
            "type": "scatter3d"
           }
          ],
          "scattercarpet": [
           {
            "marker": {
             "colorbar": {
              "outlinewidth": 0,
              "ticks": ""
             }
            },
            "type": "scattercarpet"
           }
          ],
          "scattergeo": [
           {
            "marker": {
             "colorbar": {
              "outlinewidth": 0,
              "ticks": ""
             }
            },
            "type": "scattergeo"
           }
          ],
          "scattergl": [
           {
            "marker": {
             "colorbar": {
              "outlinewidth": 0,
              "ticks": ""
             }
            },
            "type": "scattergl"
           }
          ],
          "scattermapbox": [
           {
            "marker": {
             "colorbar": {
              "outlinewidth": 0,
              "ticks": ""
             }
            },
            "type": "scattermapbox"
           }
          ],
          "scatterpolar": [
           {
            "marker": {
             "colorbar": {
              "outlinewidth": 0,
              "ticks": ""
             }
            },
            "type": "scatterpolar"
           }
          ],
          "scatterpolargl": [
           {
            "marker": {
             "colorbar": {
              "outlinewidth": 0,
              "ticks": ""
             }
            },
            "type": "scatterpolargl"
           }
          ],
          "scatterternary": [
           {
            "marker": {
             "colorbar": {
              "outlinewidth": 0,
              "ticks": ""
             }
            },
            "type": "scatterternary"
           }
          ],
          "surface": [
           {
            "colorbar": {
             "outlinewidth": 0,
             "ticks": ""
            },
            "colorscale": [
             [
              0,
              "#0d0887"
             ],
             [
              0.1111111111111111,
              "#46039f"
             ],
             [
              0.2222222222222222,
              "#7201a8"
             ],
             [
              0.3333333333333333,
              "#9c179e"
             ],
             [
              0.4444444444444444,
              "#bd3786"
             ],
             [
              0.5555555555555556,
              "#d8576b"
             ],
             [
              0.6666666666666666,
              "#ed7953"
             ],
             [
              0.7777777777777778,
              "#fb9f3a"
             ],
             [
              0.8888888888888888,
              "#fdca26"
             ],
             [
              1,
              "#f0f921"
             ]
            ],
            "type": "surface"
           }
          ],
          "table": [
           {
            "cells": {
             "fill": {
              "color": "#EBF0F8"
             },
             "line": {
              "color": "white"
             }
            },
            "header": {
             "fill": {
              "color": "#C8D4E3"
             },
             "line": {
              "color": "white"
             }
            },
            "type": "table"
           }
          ]
         },
         "layout": {
          "annotationdefaults": {
           "arrowcolor": "#2a3f5f",
           "arrowhead": 0,
           "arrowwidth": 1
          },
          "autotypenumbers": "strict",
          "coloraxis": {
           "colorbar": {
            "outlinewidth": 0,
            "ticks": ""
           }
          },
          "colorscale": {
           "diverging": [
            [
             0,
             "#8e0152"
            ],
            [
             0.1,
             "#c51b7d"
            ],
            [
             0.2,
             "#de77ae"
            ],
            [
             0.3,
             "#f1b6da"
            ],
            [
             0.4,
             "#fde0ef"
            ],
            [
             0.5,
             "#f7f7f7"
            ],
            [
             0.6,
             "#e6f5d0"
            ],
            [
             0.7,
             "#b8e186"
            ],
            [
             0.8,
             "#7fbc41"
            ],
            [
             0.9,
             "#4d9221"
            ],
            [
             1,
             "#276419"
            ]
           ],
           "sequential": [
            [
             0,
             "#0d0887"
            ],
            [
             0.1111111111111111,
             "#46039f"
            ],
            [
             0.2222222222222222,
             "#7201a8"
            ],
            [
             0.3333333333333333,
             "#9c179e"
            ],
            [
             0.4444444444444444,
             "#bd3786"
            ],
            [
             0.5555555555555556,
             "#d8576b"
            ],
            [
             0.6666666666666666,
             "#ed7953"
            ],
            [
             0.7777777777777778,
             "#fb9f3a"
            ],
            [
             0.8888888888888888,
             "#fdca26"
            ],
            [
             1,
             "#f0f921"
            ]
           ],
           "sequentialminus": [
            [
             0,
             "#0d0887"
            ],
            [
             0.1111111111111111,
             "#46039f"
            ],
            [
             0.2222222222222222,
             "#7201a8"
            ],
            [
             0.3333333333333333,
             "#9c179e"
            ],
            [
             0.4444444444444444,
             "#bd3786"
            ],
            [
             0.5555555555555556,
             "#d8576b"
            ],
            [
             0.6666666666666666,
             "#ed7953"
            ],
            [
             0.7777777777777778,
             "#fb9f3a"
            ],
            [
             0.8888888888888888,
             "#fdca26"
            ],
            [
             1,
             "#f0f921"
            ]
           ]
          },
          "colorway": [
           "#636efa",
           "#EF553B",
           "#00cc96",
           "#ab63fa",
           "#FFA15A",
           "#19d3f3",
           "#FF6692",
           "#B6E880",
           "#FF97FF",
           "#FECB52"
          ],
          "font": {
           "color": "#2a3f5f"
          },
          "geo": {
           "bgcolor": "white",
           "lakecolor": "white",
           "landcolor": "#E5ECF6",
           "showlakes": true,
           "showland": true,
           "subunitcolor": "white"
          },
          "hoverlabel": {
           "align": "left"
          },
          "hovermode": "closest",
          "mapbox": {
           "style": "light"
          },
          "paper_bgcolor": "white",
          "plot_bgcolor": "#E5ECF6",
          "polar": {
           "angularaxis": {
            "gridcolor": "white",
            "linecolor": "white",
            "ticks": ""
           },
           "bgcolor": "#E5ECF6",
           "radialaxis": {
            "gridcolor": "white",
            "linecolor": "white",
            "ticks": ""
           }
          },
          "scene": {
           "xaxis": {
            "backgroundcolor": "#E5ECF6",
            "gridcolor": "white",
            "gridwidth": 2,
            "linecolor": "white",
            "showbackground": true,
            "ticks": "",
            "zerolinecolor": "white"
           },
           "yaxis": {
            "backgroundcolor": "#E5ECF6",
            "gridcolor": "white",
            "gridwidth": 2,
            "linecolor": "white",
            "showbackground": true,
            "ticks": "",
            "zerolinecolor": "white"
           },
           "zaxis": {
            "backgroundcolor": "#E5ECF6",
            "gridcolor": "white",
            "gridwidth": 2,
            "linecolor": "white",
            "showbackground": true,
            "ticks": "",
            "zerolinecolor": "white"
           }
          },
          "shapedefaults": {
           "line": {
            "color": "#2a3f5f"
           }
          },
          "ternary": {
           "aaxis": {
            "gridcolor": "white",
            "linecolor": "white",
            "ticks": ""
           },
           "baxis": {
            "gridcolor": "white",
            "linecolor": "white",
            "ticks": ""
           },
           "bgcolor": "#E5ECF6",
           "caxis": {
            "gridcolor": "white",
            "linecolor": "white",
            "ticks": ""
           }
          },
          "title": {
           "x": 0.05
          },
          "xaxis": {
           "automargin": true,
           "gridcolor": "white",
           "linecolor": "white",
           "ticks": "",
           "title": {
            "standoff": 15
           },
           "zerolinecolor": "white",
           "zerolinewidth": 2
          },
          "yaxis": {
           "automargin": true,
           "gridcolor": "white",
           "linecolor": "white",
           "ticks": "",
           "title": {
            "standoff": 15
           },
           "zerolinecolor": "white",
           "zerolinewidth": 2
          }
         }
        },
        "width": 500,
        "xaxis": {
         "autorange": false,
         "exponentformat": "e",
         "linecolor": "black",
         "linewidth": 1,
         "mirror": false,
         "range": [
          -0.008364589810371399,
          0.42659408032894136
         ],
         "showexponent": "all",
         "showline": true,
         "side": "bottom",
         "ticks": "outside",
         "title": {
          "text": "Birth"
         },
         "type": "linear",
         "zeroline": true
        },
        "yaxis": {
         "autorange": false,
         "exponentformat": "e",
         "linecolor": "black",
         "linewidth": 1,
         "mirror": false,
         "range": [
          -0.008364589810371399,
          0.42659408032894136
         ],
         "scaleanchor": "x",
         "scaleratio": 1,
         "showexponent": "all",
         "showline": true,
         "side": "left",
         "ticks": "outside",
         "title": {
          "text": "Death"
         },
         "type": "linear",
         "zeroline": true
        }
       }
      },
      "text/html": [
       "<div>                            <div id=\"d3367074-7797-4e87-8772-6c75faac4c9c\" class=\"plotly-graph-div\" style=\"height:500px; width:500px;\"></div>            <script type=\"text/javascript\">                require([\"plotly\"], function(Plotly) {                    window.PLOTLYENV=window.PLOTLYENV || {};                                    if (document.getElementById(\"d3367074-7797-4e87-8772-6c75faac4c9c\")) {                    Plotly.newPlot(                        \"d3367074-7797-4e87-8772-6c75faac4c9c\",                        [{\"hoverinfo\": \"none\", \"line\": {\"color\": \"black\", \"dash\": \"dash\", \"width\": 1}, \"mode\": \"lines\", \"showlegend\": false, \"type\": \"scatter\", \"x\": [-0.008364589810371399, 0.42659408032894136], \"y\": [-0.008364589810371399, 0.42659408032894136]}, {\"hoverinfo\": \"text\", \"hovertext\": [\"(0.0, 0.12240806967020035)\", \"(0.0, 0.12259048223495483)\", \"(0.0, 0.1227322444319725)\", \"(0.0, 0.12286265194416046)\", \"(0.0, 0.12287455797195435)\", \"(0.0, 0.12296771258115768)\", \"(0.0, 0.1229928508400917)\", \"(0.0, 0.12300165742635727)\", \"(0.0, 0.12306791543960571)\", \"(0.0, 0.12306837737560272)\", \"(0.0, 0.12312505394220352)\", \"(0.0, 0.12314285337924957)\", \"(0.0, 0.12325224280357361)\", \"(0.0, 0.12348556518554688)\", \"(0.0, 0.12375123798847198)\", \"(0.0, 0.12379344552755356)\", \"(0.0, 0.12381548434495926)\", \"(0.0, 0.12505294382572174)\", \"(0.0, 0.12515109777450562)\", \"(0.0, 0.1252862811088562)\", \"(0.0, 0.1252896785736084)\", \"(0.0, 0.13213907182216644)\", \"(0.0, 0.13215720653533936)\", \"(0.0, 0.13217350840568542)\", \"(0.0, 0.13233056664466858)\", \"(0.0, 0.1323987990617752)\", \"(0.0, 0.1324503868818283)\", \"(0.0, 0.13257762789726257)\", \"(0.0, 0.13266131281852722)\", \"(0.0, 0.13274253904819489)\", \"(0.0, 0.13276277482509613)\", \"(0.0, 0.132796972990036)\", \"(0.0, 0.13281506299972534)\", \"(0.0, 0.13287954032421112)\", \"(0.0, 0.13288046419620514)\", \"(0.0, 0.1329239159822464)\", \"(0.0, 0.13312837481498718)\", \"(0.0, 0.13317371904850006)\", \"(0.0, 0.13324210047721863)\", \"(0.0, 0.13335655629634857)\", \"(0.0, 0.13350601494312286)\", \"(0.0, 0.13352477550506592)\", \"(0.0, 0.13554143905639648)\", \"(0.0, 0.13748717308044434)\", \"(0.0, 0.13890089094638824)\", \"(0.0, 0.1390063613653183)\", \"(0.0, 0.13916589319705963)\", \"(0.0, 0.139321967959404)\", \"(0.0, 0.13984401524066925)\", \"(0.0, 0.14129586517810822)\", \"(0.0, 0.144065260887146)\", \"(0.0, 0.1444108635187149)\", \"(0.0, 0.14475394785404205)\", \"(0.0, 0.14520452916622162)\", \"(0.0, 0.14539319276809692)\", \"(0.0, 0.1455349326133728)\", \"(0.0, 0.14575394988059998)\", \"(0.0, 0.1457892656326294)\", \"(0.0, 0.1458144336938858)\", \"(0.0, 0.1458161324262619)\", \"(0.0, 0.14589466154575348)\", \"(0.0, 0.14590437710285187)\", \"(0.0, 0.1460449993610382)\", \"(0.0, 0.1461026668548584)\", \"(0.0, 0.14616890251636505)\", \"(0.0, 0.14674466848373413)\", \"(0.0, 0.14688602089881897)\", \"(0.0, 0.14964759349822998)\", \"(0.0, 0.15000930428504944)\", \"(0.0, 0.15020738542079926)\", \"(0.0, 0.15024320781230927)\", \"(0.0, 0.15048716962337494)\", \"(0.0, 0.15050193667411804)\", \"(0.0, 0.15060563385486603)\", \"(0.0, 0.15061643719673157)\", \"(0.0, 0.150798037648201)\", \"(0.0, 0.15081676840782166)\", \"(0.0, 0.15105889737606049)\", \"(0.0, 0.15110962092876434)\", \"(0.0, 0.15156212449073792)\", \"(0.0, 0.15171384811401367)\", \"(0.0, 0.15185126662254333)\", \"(0.0, 0.151859849691391)\", \"(0.0, 0.15197259187698364)\", \"(0.0, 0.15198957920074463)\", \"(0.0, 0.15204118192195892)\", \"(0.0, 0.1520518958568573)\", \"(0.0, 0.15208299458026886)\", \"(0.0, 0.15218329429626465)\", \"(0.0, 0.15220406651496887)\", \"(0.0, 0.1523178666830063)\", \"(0.0, 0.15250800549983978)\", \"(0.0, 0.15252885222434998)\", \"(0.0, 0.1525472104549408)\", \"(0.0, 0.15255701541900635)\", \"(0.0, 0.15270444750785828)\", \"(0.0, 0.15275979042053223)\", \"(0.0, 0.15277202427387238)\", \"(0.0, 0.15283966064453125)\", \"(0.0, 0.15286871790885925)\", \"(0.0, 0.15289664268493652)\", \"(0.0, 0.15296553075313568)\", \"(0.0, 0.15302322804927826)\", \"(0.0, 0.1530541032552719)\", \"(0.0, 0.1530909240245819)\", \"(0.0, 0.1531790792942047)\", \"(0.0, 0.15322522819042206)\", \"(0.0, 0.15325583517551422)\", \"(0.0, 0.15335488319396973)\", \"(0.0, 0.1533556431531906)\", \"(0.0, 0.15338636934757233)\", \"(0.0, 0.1534520983695984)\", \"(0.0, 0.1535210758447647)\", \"(0.0, 0.15356527268886566)\", \"(0.0, 0.15367428958415985)\", \"(0.0, 0.15383179485797882)\", \"(0.0, 0.1538858413696289)\", \"(0.0, 0.15393349528312683)\", \"(0.0, 0.15401388704776764)\", \"(0.0, 0.15416841208934784)\", \"(0.0, 0.15436455607414246)\", \"(0.0, 0.15478301048278809)\", \"(0.0, 0.15662525594234467)\", \"(0.0, 0.1798514425754547)\", \"(0.0, 0.18389931321144104)\"], \"mode\": \"markers\", \"name\": \"H0\", \"type\": \"scatter\", \"x\": [0.0, 0.0, 0.0, 0.0, 0.0, 0.0, 0.0, 0.0, 0.0, 0.0, 0.0, 0.0, 0.0, 0.0, 0.0, 0.0, 0.0, 0.0, 0.0, 0.0, 0.0, 0.0, 0.0, 0.0, 0.0, 0.0, 0.0, 0.0, 0.0, 0.0, 0.0, 0.0, 0.0, 0.0, 0.0, 0.0, 0.0, 0.0, 0.0, 0.0, 0.0, 0.0, 0.0, 0.0, 0.0, 0.0, 0.0, 0.0, 0.0, 0.0, 0.0, 0.0, 0.0, 0.0, 0.0, 0.0, 0.0, 0.0, 0.0, 0.0, 0.0, 0.0, 0.0, 0.0, 0.0, 0.0, 0.0, 0.0, 0.0, 0.0, 0.0, 0.0, 0.0, 0.0, 0.0, 0.0, 0.0, 0.0, 0.0, 0.0, 0.0, 0.0, 0.0, 0.0, 0.0, 0.0, 0.0, 0.0, 0.0, 0.0, 0.0, 0.0, 0.0, 0.0, 0.0, 0.0, 0.0, 0.0, 0.0, 0.0, 0.0, 0.0, 0.0, 0.0, 0.0, 0.0, 0.0, 0.0, 0.0, 0.0, 0.0, 0.0, 0.0, 0.0, 0.0, 0.0, 0.0, 0.0, 0.0, 0.0, 0.0, 0.0, 0.0, 0.0, 0.0], \"y\": [0.12240806967020035, 0.12259048223495483, 0.1227322444319725, 0.12286265194416046, 0.12287455797195435, 0.12296771258115768, 0.1229928508400917, 0.12300165742635727, 0.12306791543960571, 0.12306837737560272, 0.12312505394220352, 0.12314285337924957, 0.12325224280357361, 0.12348556518554688, 0.12375123798847198, 0.12379344552755356, 0.12381548434495926, 0.12505294382572174, 0.12515109777450562, 0.1252862811088562, 0.1252896785736084, 0.13213907182216644, 0.13215720653533936, 0.13217350840568542, 0.13233056664466858, 0.1323987990617752, 0.1324503868818283, 0.13257762789726257, 0.13266131281852722, 0.13274253904819489, 0.13276277482509613, 0.132796972990036, 0.13281506299972534, 0.13287954032421112, 0.13288046419620514, 0.1329239159822464, 0.13312837481498718, 0.13317371904850006, 0.13324210047721863, 0.13335655629634857, 0.13350601494312286, 0.13352477550506592, 0.13554143905639648, 0.13748717308044434, 0.13890089094638824, 0.1390063613653183, 0.13916589319705963, 0.139321967959404, 0.13984401524066925, 0.14129586517810822, 0.144065260887146, 0.1444108635187149, 0.14475394785404205, 0.14520452916622162, 0.14539319276809692, 0.1455349326133728, 0.14575394988059998, 0.1457892656326294, 0.1458144336938858, 0.1458161324262619, 0.14589466154575348, 0.14590437710285187, 0.1460449993610382, 0.1461026668548584, 0.14616890251636505, 0.14674466848373413, 0.14688602089881897, 0.14964759349822998, 0.15000930428504944, 0.15020738542079926, 0.15024320781230927, 0.15048716962337494, 0.15050193667411804, 0.15060563385486603, 0.15061643719673157, 0.150798037648201, 0.15081676840782166, 0.15105889737606049, 0.15110962092876434, 0.15156212449073792, 0.15171384811401367, 0.15185126662254333, 0.151859849691391, 0.15197259187698364, 0.15198957920074463, 0.15204118192195892, 0.1520518958568573, 0.15208299458026886, 0.15218329429626465, 0.15220406651496887, 0.1523178666830063, 0.15250800549983978, 0.15252885222434998, 0.1525472104549408, 0.15255701541900635, 0.15270444750785828, 0.15275979042053223, 0.15277202427387238, 0.15283966064453125, 0.15286871790885925, 0.15289664268493652, 0.15296553075313568, 0.15302322804927826, 0.1530541032552719, 0.1530909240245819, 0.1531790792942047, 0.15322522819042206, 0.15325583517551422, 0.15335488319396973, 0.1533556431531906, 0.15338636934757233, 0.1534520983695984, 0.1535210758447647, 0.15356527268886566, 0.15367428958415985, 0.15383179485797882, 0.1538858413696289, 0.15393349528312683, 0.15401388704776764, 0.15416841208934784, 0.15436455607414246, 0.15478301048278809, 0.15662525594234467, 0.1798514425754547, 0.18389931321144104]}, {\"hoverinfo\": \"text\", \"hovertext\": [\"(0.3872950077056885, 0.41822949051856995)\", \"(0.3668014705181122, 0.38820528984069824)\", \"(0.3431396186351776, 0.35369500517845154)\", \"(0.334602952003479, 0.337531179189682)\", \"(0.325678288936615, 0.3332905173301697)\", \"(0.3191375434398651, 0.35849884152412415)\", \"(0.31623536348342896, 0.3660237491130829)\", \"(0.3140147626399994, 0.3918166756629944)\", \"(0.30927813053131104, 0.31099143624305725)\", \"(0.2914784252643585, 0.3165474236011505)\", \"(0.29017195105552673, 0.3267163038253784)\", \"(0.28403541445732117, 0.28601276874542236)\", \"(0.2833595275878906, 0.31877806782722473)\", \"(0.14000432193279266, 0.2418578416109085)\", \"(0.1380143016576767, 0.2185225784778595)\"], \"mode\": \"markers\", \"name\": \"H1\", \"type\": \"scatter\", \"x\": [0.3872950077056885, 0.3668014705181122, 0.3431396186351776, 0.334602952003479, 0.325678288936615, 0.3191375434398651, 0.31623536348342896, 0.3140147626399994, 0.30927813053131104, 0.2914784252643585, 0.29017195105552673, 0.28403541445732117, 0.2833595275878906, 0.14000432193279266, 0.1380143016576767], \"y\": [0.41822949051856995, 0.38820528984069824, 0.35369500517845154, 0.337531179189682, 0.3332905173301697, 0.35849884152412415, 0.3660237491130829, 0.3918166756629944, 0.31099143624305725, 0.3165474236011505, 0.3267163038253784, 0.28601276874542236, 0.31877806782722473, 0.2418578416109085, 0.2185225784778595]}, {\"hoverinfo\": \"text\", \"hovertext\": [\"(0.38820528984069824, 0.4033988118171692)\", \"(0.37072256207466125, 0.37133723497390747)\", \"(0.3595239222049713, 0.3620508909225464)\", \"(0.2428468018770218, 0.2774296998977661)\"], \"mode\": \"markers\", \"name\": \"H2\", \"type\": \"scatter\", \"x\": [0.38820528984069824, 0.37072256207466125, 0.3595239222049713, 0.2428468018770218], \"y\": [0.4033988118171692, 0.37133723497390747, 0.3620508909225464, 0.2774296998977661]}],                        {\"height\": 500, \"plot_bgcolor\": \"white\", \"template\": {\"data\": {\"bar\": [{\"error_x\": {\"color\": \"#2a3f5f\"}, \"error_y\": {\"color\": \"#2a3f5f\"}, \"marker\": {\"line\": {\"color\": \"#E5ECF6\", \"width\": 0.5}}, \"type\": \"bar\"}], \"barpolar\": [{\"marker\": {\"line\": {\"color\": \"#E5ECF6\", \"width\": 0.5}}, \"type\": \"barpolar\"}], \"carpet\": [{\"aaxis\": {\"endlinecolor\": \"#2a3f5f\", \"gridcolor\": \"white\", \"linecolor\": \"white\", \"minorgridcolor\": \"white\", \"startlinecolor\": \"#2a3f5f\"}, \"baxis\": {\"endlinecolor\": \"#2a3f5f\", \"gridcolor\": \"white\", \"linecolor\": \"white\", \"minorgridcolor\": \"white\", \"startlinecolor\": \"#2a3f5f\"}, \"type\": \"carpet\"}], \"choropleth\": [{\"colorbar\": {\"outlinewidth\": 0, \"ticks\": \"\"}, \"type\": \"choropleth\"}], \"contour\": [{\"colorbar\": {\"outlinewidth\": 0, \"ticks\": \"\"}, \"colorscale\": [[0.0, \"#0d0887\"], [0.1111111111111111, \"#46039f\"], [0.2222222222222222, \"#7201a8\"], [0.3333333333333333, \"#9c179e\"], [0.4444444444444444, \"#bd3786\"], [0.5555555555555556, \"#d8576b\"], [0.6666666666666666, \"#ed7953\"], [0.7777777777777778, \"#fb9f3a\"], [0.8888888888888888, \"#fdca26\"], [1.0, \"#f0f921\"]], \"type\": \"contour\"}], \"contourcarpet\": [{\"colorbar\": {\"outlinewidth\": 0, \"ticks\": \"\"}, \"type\": \"contourcarpet\"}], \"heatmap\": [{\"colorbar\": {\"outlinewidth\": 0, \"ticks\": \"\"}, \"colorscale\": [[0.0, \"#0d0887\"], [0.1111111111111111, \"#46039f\"], [0.2222222222222222, \"#7201a8\"], [0.3333333333333333, \"#9c179e\"], [0.4444444444444444, \"#bd3786\"], [0.5555555555555556, \"#d8576b\"], [0.6666666666666666, \"#ed7953\"], [0.7777777777777778, \"#fb9f3a\"], [0.8888888888888888, \"#fdca26\"], [1.0, \"#f0f921\"]], \"type\": \"heatmap\"}], \"heatmapgl\": [{\"colorbar\": {\"outlinewidth\": 0, \"ticks\": \"\"}, \"colorscale\": [[0.0, \"#0d0887\"], [0.1111111111111111, \"#46039f\"], [0.2222222222222222, \"#7201a8\"], [0.3333333333333333, \"#9c179e\"], [0.4444444444444444, \"#bd3786\"], [0.5555555555555556, \"#d8576b\"], [0.6666666666666666, \"#ed7953\"], [0.7777777777777778, \"#fb9f3a\"], [0.8888888888888888, \"#fdca26\"], [1.0, \"#f0f921\"]], \"type\": \"heatmapgl\"}], \"histogram\": [{\"marker\": {\"colorbar\": {\"outlinewidth\": 0, \"ticks\": \"\"}}, \"type\": \"histogram\"}], \"histogram2d\": [{\"colorbar\": {\"outlinewidth\": 0, \"ticks\": \"\"}, \"colorscale\": [[0.0, \"#0d0887\"], [0.1111111111111111, \"#46039f\"], [0.2222222222222222, \"#7201a8\"], [0.3333333333333333, \"#9c179e\"], [0.4444444444444444, \"#bd3786\"], [0.5555555555555556, \"#d8576b\"], [0.6666666666666666, \"#ed7953\"], [0.7777777777777778, \"#fb9f3a\"], [0.8888888888888888, \"#fdca26\"], [1.0, \"#f0f921\"]], \"type\": \"histogram2d\"}], \"histogram2dcontour\": [{\"colorbar\": {\"outlinewidth\": 0, \"ticks\": \"\"}, \"colorscale\": [[0.0, \"#0d0887\"], [0.1111111111111111, \"#46039f\"], [0.2222222222222222, \"#7201a8\"], [0.3333333333333333, \"#9c179e\"], [0.4444444444444444, \"#bd3786\"], [0.5555555555555556, \"#d8576b\"], [0.6666666666666666, \"#ed7953\"], [0.7777777777777778, \"#fb9f3a\"], [0.8888888888888888, \"#fdca26\"], [1.0, \"#f0f921\"]], \"type\": \"histogram2dcontour\"}], \"mesh3d\": [{\"colorbar\": {\"outlinewidth\": 0, \"ticks\": \"\"}, \"type\": \"mesh3d\"}], \"parcoords\": [{\"line\": {\"colorbar\": {\"outlinewidth\": 0, \"ticks\": \"\"}}, \"type\": \"parcoords\"}], \"pie\": [{\"automargin\": true, \"type\": \"pie\"}], \"scatter\": [{\"marker\": {\"colorbar\": {\"outlinewidth\": 0, \"ticks\": \"\"}}, \"type\": \"scatter\"}], \"scatter3d\": [{\"line\": {\"colorbar\": {\"outlinewidth\": 0, \"ticks\": \"\"}}, \"marker\": {\"colorbar\": {\"outlinewidth\": 0, \"ticks\": \"\"}}, \"type\": \"scatter3d\"}], \"scattercarpet\": [{\"marker\": {\"colorbar\": {\"outlinewidth\": 0, \"ticks\": \"\"}}, \"type\": \"scattercarpet\"}], \"scattergeo\": [{\"marker\": {\"colorbar\": {\"outlinewidth\": 0, \"ticks\": \"\"}}, \"type\": \"scattergeo\"}], \"scattergl\": [{\"marker\": {\"colorbar\": {\"outlinewidth\": 0, \"ticks\": \"\"}}, \"type\": \"scattergl\"}], \"scattermapbox\": [{\"marker\": {\"colorbar\": {\"outlinewidth\": 0, \"ticks\": \"\"}}, \"type\": \"scattermapbox\"}], \"scatterpolar\": [{\"marker\": {\"colorbar\": {\"outlinewidth\": 0, \"ticks\": \"\"}}, \"type\": \"scatterpolar\"}], \"scatterpolargl\": [{\"marker\": {\"colorbar\": {\"outlinewidth\": 0, \"ticks\": \"\"}}, \"type\": \"scatterpolargl\"}], \"scatterternary\": [{\"marker\": {\"colorbar\": {\"outlinewidth\": 0, \"ticks\": \"\"}}, \"type\": \"scatterternary\"}], \"surface\": [{\"colorbar\": {\"outlinewidth\": 0, \"ticks\": \"\"}, \"colorscale\": [[0.0, \"#0d0887\"], [0.1111111111111111, \"#46039f\"], [0.2222222222222222, \"#7201a8\"], [0.3333333333333333, \"#9c179e\"], [0.4444444444444444, \"#bd3786\"], [0.5555555555555556, \"#d8576b\"], [0.6666666666666666, \"#ed7953\"], [0.7777777777777778, \"#fb9f3a\"], [0.8888888888888888, \"#fdca26\"], [1.0, \"#f0f921\"]], \"type\": \"surface\"}], \"table\": [{\"cells\": {\"fill\": {\"color\": \"#EBF0F8\"}, \"line\": {\"color\": \"white\"}}, \"header\": {\"fill\": {\"color\": \"#C8D4E3\"}, \"line\": {\"color\": \"white\"}}, \"type\": \"table\"}]}, \"layout\": {\"annotationdefaults\": {\"arrowcolor\": \"#2a3f5f\", \"arrowhead\": 0, \"arrowwidth\": 1}, \"autotypenumbers\": \"strict\", \"coloraxis\": {\"colorbar\": {\"outlinewidth\": 0, \"ticks\": \"\"}}, \"colorscale\": {\"diverging\": [[0, \"#8e0152\"], [0.1, \"#c51b7d\"], [0.2, \"#de77ae\"], [0.3, \"#f1b6da\"], [0.4, \"#fde0ef\"], [0.5, \"#f7f7f7\"], [0.6, \"#e6f5d0\"], [0.7, \"#b8e186\"], [0.8, \"#7fbc41\"], [0.9, \"#4d9221\"], [1, \"#276419\"]], \"sequential\": [[0.0, \"#0d0887\"], [0.1111111111111111, \"#46039f\"], [0.2222222222222222, \"#7201a8\"], [0.3333333333333333, \"#9c179e\"], [0.4444444444444444, \"#bd3786\"], [0.5555555555555556, \"#d8576b\"], [0.6666666666666666, \"#ed7953\"], [0.7777777777777778, \"#fb9f3a\"], [0.8888888888888888, \"#fdca26\"], [1.0, \"#f0f921\"]], \"sequentialminus\": [[0.0, \"#0d0887\"], [0.1111111111111111, \"#46039f\"], [0.2222222222222222, \"#7201a8\"], [0.3333333333333333, \"#9c179e\"], [0.4444444444444444, \"#bd3786\"], [0.5555555555555556, \"#d8576b\"], [0.6666666666666666, \"#ed7953\"], [0.7777777777777778, \"#fb9f3a\"], [0.8888888888888888, \"#fdca26\"], [1.0, \"#f0f921\"]]}, \"colorway\": [\"#636efa\", \"#EF553B\", \"#00cc96\", \"#ab63fa\", \"#FFA15A\", \"#19d3f3\", \"#FF6692\", \"#B6E880\", \"#FF97FF\", \"#FECB52\"], \"font\": {\"color\": \"#2a3f5f\"}, \"geo\": {\"bgcolor\": \"white\", \"lakecolor\": \"white\", \"landcolor\": \"#E5ECF6\", \"showlakes\": true, \"showland\": true, \"subunitcolor\": \"white\"}, \"hoverlabel\": {\"align\": \"left\"}, \"hovermode\": \"closest\", \"mapbox\": {\"style\": \"light\"}, \"paper_bgcolor\": \"white\", \"plot_bgcolor\": \"#E5ECF6\", \"polar\": {\"angularaxis\": {\"gridcolor\": \"white\", \"linecolor\": \"white\", \"ticks\": \"\"}, \"bgcolor\": \"#E5ECF6\", \"radialaxis\": {\"gridcolor\": \"white\", \"linecolor\": \"white\", \"ticks\": \"\"}}, \"scene\": {\"xaxis\": {\"backgroundcolor\": \"#E5ECF6\", \"gridcolor\": \"white\", \"gridwidth\": 2, \"linecolor\": \"white\", \"showbackground\": true, \"ticks\": \"\", \"zerolinecolor\": \"white\"}, \"yaxis\": {\"backgroundcolor\": \"#E5ECF6\", \"gridcolor\": \"white\", \"gridwidth\": 2, \"linecolor\": \"white\", \"showbackground\": true, \"ticks\": \"\", \"zerolinecolor\": \"white\"}, \"zaxis\": {\"backgroundcolor\": \"#E5ECF6\", \"gridcolor\": \"white\", \"gridwidth\": 2, \"linecolor\": \"white\", \"showbackground\": true, \"ticks\": \"\", \"zerolinecolor\": \"white\"}}, \"shapedefaults\": {\"line\": {\"color\": \"#2a3f5f\"}}, \"ternary\": {\"aaxis\": {\"gridcolor\": \"white\", \"linecolor\": \"white\", \"ticks\": \"\"}, \"baxis\": {\"gridcolor\": \"white\", \"linecolor\": \"white\", \"ticks\": \"\"}, \"bgcolor\": \"#E5ECF6\", \"caxis\": {\"gridcolor\": \"white\", \"linecolor\": \"white\", \"ticks\": \"\"}}, \"title\": {\"x\": 0.05}, \"xaxis\": {\"automargin\": true, \"gridcolor\": \"white\", \"linecolor\": \"white\", \"ticks\": \"\", \"title\": {\"standoff\": 15}, \"zerolinecolor\": \"white\", \"zerolinewidth\": 2}, \"yaxis\": {\"automargin\": true, \"gridcolor\": \"white\", \"linecolor\": \"white\", \"ticks\": \"\", \"title\": {\"standoff\": 15}, \"zerolinecolor\": \"white\", \"zerolinewidth\": 2}}}, \"width\": 500, \"xaxis\": {\"autorange\": false, \"exponentformat\": \"e\", \"linecolor\": \"black\", \"linewidth\": 1, \"mirror\": false, \"range\": [-0.008364589810371399, 0.42659408032894136], \"showexponent\": \"all\", \"showline\": true, \"side\": \"bottom\", \"ticks\": \"outside\", \"title\": {\"text\": \"Birth\"}, \"type\": \"linear\", \"zeroline\": true}, \"yaxis\": {\"autorange\": false, \"exponentformat\": \"e\", \"linecolor\": \"black\", \"linewidth\": 1, \"mirror\": false, \"range\": [-0.008364589810371399, 0.42659408032894136], \"scaleanchor\": \"x\", \"scaleratio\": 1, \"showexponent\": \"all\", \"showline\": true, \"side\": \"left\", \"ticks\": \"outside\", \"title\": {\"text\": \"Death\"}, \"type\": \"linear\", \"zeroline\": true}},                        {\"responsive\": true}                    ).then(function(){\n",
       "                            \n",
       "var gd = document.getElementById('d3367074-7797-4e87-8772-6c75faac4c9c');\n",
       "var x = new MutationObserver(function (mutations, observer) {{\n",
       "        var display = window.getComputedStyle(gd).display;\n",
       "        if (!display || display === 'none') {{\n",
       "            console.log([gd, 'removed!']);\n",
       "            Plotly.purge(gd);\n",
       "            observer.disconnect();\n",
       "        }}\n",
       "}});\n",
       "\n",
       "// Listen for the removal of the full notebook cells\n",
       "var notebookContainer = gd.closest('#notebook-container');\n",
       "if (notebookContainer) {{\n",
       "    x.observe(notebookContainer, {childList: true});\n",
       "}}\n",
       "\n",
       "// Listen for the clearing of the current output cell\n",
       "var outputEl = gd.closest('.output');\n",
       "if (outputEl) {{\n",
       "    x.observe(outputEl, {childList: true});\n",
       "}}\n",
       "\n",
       "                        })                };                });            </script>        </div>"
      ]
     },
     "metadata": {},
     "output_type": "display_data"
    }
   ],
   "source": [
    "plot_diagram(persistence_diagrams['PC'][0])"
   ]
  },
  {
   "cell_type": "markdown",
   "id": "55497a70",
   "metadata": {},
   "source": [
    "Persistence diagrams have been used to compute persistence entropy, number of off-diagonal points per homology dimension, and a vector of amplitudes, using the pre-defined functions in `gtda.diagrams`."
   ]
  },
  {
   "cell_type": "code",
   "execution_count": 12,
   "id": "a3185c7f",
   "metadata": {},
   "outputs": [],
   "source": [
    "persistence_entropy = {}\n",
    "\n",
    "for feature in peptide_feature_types:\n",
    "    PE = PersistenceEntropy()\n",
    "    persistence_entropy[feature] = PE.fit_transform(persistence_diagrams[feature])"
   ]
  },
  {
   "cell_type": "markdown",
   "id": "6901898b",
   "metadata": {},
   "source": [
    "Point cloud of persistence entropy across the 3 homology dimensions shows the variation in the peptide features."
   ]
  },
  {
   "cell_type": "code",
   "execution_count": 44,
   "id": "0c9963ae",
   "metadata": {},
   "outputs": [
    {
     "data": {
      "application/vnd.plotly.v1+json": {
       "config": {
        "plotlyServerURL": "https://plot.ly"
       },
       "data": [
        {
         "marker": {
          "color": [
           0,
           1,
           2,
           3,
           4,
           5,
           6,
           7,
           8,
           9,
           10,
           11,
           12,
           13,
           14,
           15,
           16,
           17,
           18,
           19,
           20,
           21,
           22,
           23,
           24,
           25,
           26,
           27,
           28,
           29,
           30,
           31,
           32,
           33,
           34,
           35,
           36,
           37,
           38,
           39,
           40,
           41,
           42,
           43,
           44,
           45,
           46,
           47,
           48,
           49,
           50,
           51,
           52,
           53,
           54,
           55,
           56,
           57,
           58,
           59,
           60,
           61,
           62,
           63,
           64,
           65,
           66,
           67,
           68,
           69,
           70,
           71,
           72,
           73,
           74,
           75,
           76,
           77,
           78,
           79,
           80,
           81,
           82,
           83,
           84,
           85,
           86,
           87,
           88,
           89,
           90,
           91,
           92,
           93,
           94
          ],
          "colorscale": [
           [
            0,
            "#440154"
           ],
           [
            0.1111111111111111,
            "#482878"
           ],
           [
            0.2222222222222222,
            "#3e4989"
           ],
           [
            0.3333333333333333,
            "#31688e"
           ],
           [
            0.4444444444444444,
            "#26828e"
           ],
           [
            0.5555555555555556,
            "#1f9e89"
           ],
           [
            0.6666666666666666,
            "#35b779"
           ],
           [
            0.7777777777777778,
            "#6ece58"
           ],
           [
            0.8888888888888888,
            "#b5de2b"
           ],
           [
            1,
            "#fde725"
           ]
          ],
          "opacity": 0.8,
          "size": 4
         },
         "mode": "markers",
         "type": "scatter3d",
         "x": [
          5.323994495585995,
          4.736988727981736,
          5.588555600242786,
          5.654629253986752,
          6.370427624163166,
          7.1934382416054,
          6.54672830269538,
          6.099980166538431,
          5.268840852266534,
          5.8016100580726,
          5.996722737262098,
          3.4787207180259885,
          5.796819642472743,
          6.677053648809256,
          5.803355204639218,
          7.148317544298879,
          4.4261693995786064,
          4.264290787265644,
          7.415589272393447,
          6.832830054195244,
          6.328799740174075,
          6.879037899700815,
          6.2915974022632115,
          6.75832957831736,
          5.51136266025211,
          7.187248968750812,
          5.959692347307122,
          4.506348569240773,
          6.838423821607935,
          6.7548034278199305,
          6.063085064517634,
          6.024446099116854,
          6.578503217249486,
          6.902343946557276,
          7.4722597443580945,
          7.492534695071221,
          7.327513531504683,
          7.164374214055398,
          7.776853170103293,
          4.933765765846249,
          4.973603814870423,
          7.762604291236697,
          5.5376771238133085,
          6.34176965891358,
          5.188744847831665,
          7.062999499007181,
          6.9965333050355865,
          6.1443010713382735,
          6.810739611797308,
          5.895929315883005,
          4.370723573001194,
          5.824728983305091,
          6.781845325346288,
          3.9527519808852496,
          5.945089680544895,
          7.515652026755473,
          6.210705140770455,
          7.026442062785525,
          5.854377891528644,
          6.44206912941162,
          5.6784217565667054,
          6.521205227651687,
          6.668541409278827,
          7.197944342070922,
          5.949432360146859,
          4.643301138083489,
          4.073818517266904,
          3.612748930395166,
          6.745085026495215,
          3.416383274348225,
          5.256157887502579,
          2.789845751916359,
          5.93685892123643,
          4.802908064253105,
          6.667762195429793,
          5.417932409886039,
          4.645509901018861,
          4.850406922273123,
          6.781476812894054,
          2.789869043043365,
          6.99574922739182,
          5.900512934686246,
          5.301453971842368,
          7.71274739950209,
          2.7278048804179513,
          6.975328620581928,
          6.646603786357093,
          6.44085631305747,
          5.893891810744643,
          6.288713470171688,
          6.30966827367838,
          3.205307862759715,
          5.046708204431009,
          5.453266408184461,
          4.007169065205931
         ],
         "y": [
          5.074768598172731,
          3.1562756411748314,
          3.3488739222019372,
          4.004230785072553,
          5.546733637178567,
          5.784343519094958,
          5.982651834562546,
          5.885558180361052,
          3.373592128241175,
          4.284383944576419,
          5.751242159129095,
          1.2179672587460524,
          4.639793819084987,
          5.996143594799586,
          4.878091688770703,
          6.306329953615306,
          4.575814964394061,
          3.7158641770764924,
          6.6229237576620585,
          6.04667961918371,
          5.198446493857504,
          6.4561495821399895,
          4.279952375082136,
          5.645174122384684,
          3.870671279347912,
          5.448303663386766,
          5.69849583500757,
          2.3012036191841827,
          6.623441859133782,
          6.134883013601996,
          5.619447634658629,
          4.1303501566807785,
          4.50398591552087,
          6.529724969379591,
          6.457729848351434,
          5.784104293739143,
          6.376259369019129,
          5.462233393542132,
          5.978701304080975,
          4.862454471298279,
          5.024109264459619,
          6.290811843916305,
          3.2603050929810276,
          5.457454295167911,
          3.5358802143633783,
          5.802563678162479,
          5.41032594960914,
          4.682082249659326,
          5.314836028806318,
          3.4721167260329966,
          2.41066078988305,
          4.330468973418382,
          5.3125891904812805,
          2.277109723430311,
          4.410897532439946,
          6.565387780218159,
          4.78522777030012,
          6.615672551946508,
          4.699385373717167,
          4.952485241036222,
          3.778756480419031,
          5.90313827953282,
          5.101683900219106,
          6.229178209358389,
          5.657474575011402,
          4.777556420158685,
          4.054176559572693,
          2.299108582106749,
          5.80387523782275,
          1.5461140353253386,
          3.7150823376673103,
          2.7127713480620907,
          3.746593944200324,
          4.213741496145014,
          6.228094736253103,
          4.031496912323932,
          2.363089662549042,
          5.144372962539289,
          6.098073906818253,
          0,
          5.322720300510818,
          5.447428902012149,
          3.029997373562234,
          6.592859267656336,
          3.131139432579211,
          6.325801089787635,
          6.028578457690226,
          5.833836373148227,
          5.347544611254951,
          4.363265043639808,
          5.1446045804496805,
          2.4181289805568746,
          3.155420169788866,
          3.173090550319532,
          3.9265558508200344
         ],
         "z": [
          1.368219755677006,
          -1,
          0.9966363594020309,
          0,
          2.4931102875357456,
          -1,
          3.4908901905346306,
          3.667483601850501,
          2.477630101136642,
          1.3141811983677596,
          3.6471236385873413,
          0.9999795802162135,
          2.1995635671730818,
          4.044478602784459,
          1.632318508323385,
          4.420268043425226,
          1.3424199624772026,
          0,
          4.246802565722162,
          3.977379561076385,
          2.414964567595689,
          4.000342702998602,
          0,
          3.6418551376115578,
          0.8380746542792696,
          1.8609441379925766,
          3.7028518953123513,
          0.43250210964546326,
          4.137878736470498,
          4.02242584401701,
          3.461220115264092,
          0.9250985425196365,
          1.1236293785128642,
          4.174600470847312,
          3.7325135388918484,
          3.5416579834135806,
          4.354530805518063,
          2.83153395190211,
          3.9414472840010757,
          2.8022201094868513,
          2.2253357060871677,
          3.6533244698065555,
          0.9999998363542293,
          1.7753347251287246,
          0.9155304216853118,
          3.4708141035464926,
          -1,
          2.0303128799223877,
          2.8977427099618445,
          0,
          -1,
          0.5755160084225803,
          2.8850507611450715,
          -1,
          0,
          4.1771677454297595,
          2.871937464129949,
          4.137866064947346,
          2.720260314468092,
          2.6983551412643663,
          0,
          4.062702236586087,
          2.633587577179143,
          3.2310596135808196,
          3.6217188984079547,
          1.8219774341580244,
          0.9072325024660866,
          -1,
          3.4121597665562207,
          -1,
          -1,
          -1,
          1.3995240554383264,
          0,
          4.938374094698748,
          0,
          0,
          1.57380467418904,
          3.721371250625236,
          -1,
          3.0149498867432487,
          3.878233354362091,
          0,
          3.932553848633674,
          -1,
          4.328726474283809,
          3.5664722311878028,
          4.19240016675754,
          -1,
          1.9007014384700234,
          2.713556487250156,
          0,
          0.76135953513666,
          1.831776368195805,
          0
         ]
        }
       ],
       "layout": {
        "scene": {
         "xaxis": {
          "exponentformat": "e",
          "showexponent": "all",
          "title": {
           "text": "0th"
          },
          "type": "linear"
         },
         "yaxis": {
          "exponentformat": "e",
          "showexponent": "all",
          "title": {
           "text": "1st"
          },
          "type": "linear"
         },
         "zaxis": {
          "exponentformat": "e",
          "showexponent": "all",
          "title": {
           "text": "2nd"
          },
          "type": "linear"
         }
        },
        "template": {
         "data": {
          "bar": [
           {
            "error_x": {
             "color": "#2a3f5f"
            },
            "error_y": {
             "color": "#2a3f5f"
            },
            "marker": {
             "line": {
              "color": "#E5ECF6",
              "width": 0.5
             }
            },
            "type": "bar"
           }
          ],
          "barpolar": [
           {
            "marker": {
             "line": {
              "color": "#E5ECF6",
              "width": 0.5
             }
            },
            "type": "barpolar"
           }
          ],
          "carpet": [
           {
            "aaxis": {
             "endlinecolor": "#2a3f5f",
             "gridcolor": "white",
             "linecolor": "white",
             "minorgridcolor": "white",
             "startlinecolor": "#2a3f5f"
            },
            "baxis": {
             "endlinecolor": "#2a3f5f",
             "gridcolor": "white",
             "linecolor": "white",
             "minorgridcolor": "white",
             "startlinecolor": "#2a3f5f"
            },
            "type": "carpet"
           }
          ],
          "choropleth": [
           {
            "colorbar": {
             "outlinewidth": 0,
             "ticks": ""
            },
            "type": "choropleth"
           }
          ],
          "contour": [
           {
            "colorbar": {
             "outlinewidth": 0,
             "ticks": ""
            },
            "colorscale": [
             [
              0,
              "#0d0887"
             ],
             [
              0.1111111111111111,
              "#46039f"
             ],
             [
              0.2222222222222222,
              "#7201a8"
             ],
             [
              0.3333333333333333,
              "#9c179e"
             ],
             [
              0.4444444444444444,
              "#bd3786"
             ],
             [
              0.5555555555555556,
              "#d8576b"
             ],
             [
              0.6666666666666666,
              "#ed7953"
             ],
             [
              0.7777777777777778,
              "#fb9f3a"
             ],
             [
              0.8888888888888888,
              "#fdca26"
             ],
             [
              1,
              "#f0f921"
             ]
            ],
            "type": "contour"
           }
          ],
          "contourcarpet": [
           {
            "colorbar": {
             "outlinewidth": 0,
             "ticks": ""
            },
            "type": "contourcarpet"
           }
          ],
          "heatmap": [
           {
            "colorbar": {
             "outlinewidth": 0,
             "ticks": ""
            },
            "colorscale": [
             [
              0,
              "#0d0887"
             ],
             [
              0.1111111111111111,
              "#46039f"
             ],
             [
              0.2222222222222222,
              "#7201a8"
             ],
             [
              0.3333333333333333,
              "#9c179e"
             ],
             [
              0.4444444444444444,
              "#bd3786"
             ],
             [
              0.5555555555555556,
              "#d8576b"
             ],
             [
              0.6666666666666666,
              "#ed7953"
             ],
             [
              0.7777777777777778,
              "#fb9f3a"
             ],
             [
              0.8888888888888888,
              "#fdca26"
             ],
             [
              1,
              "#f0f921"
             ]
            ],
            "type": "heatmap"
           }
          ],
          "heatmapgl": [
           {
            "colorbar": {
             "outlinewidth": 0,
             "ticks": ""
            },
            "colorscale": [
             [
              0,
              "#0d0887"
             ],
             [
              0.1111111111111111,
              "#46039f"
             ],
             [
              0.2222222222222222,
              "#7201a8"
             ],
             [
              0.3333333333333333,
              "#9c179e"
             ],
             [
              0.4444444444444444,
              "#bd3786"
             ],
             [
              0.5555555555555556,
              "#d8576b"
             ],
             [
              0.6666666666666666,
              "#ed7953"
             ],
             [
              0.7777777777777778,
              "#fb9f3a"
             ],
             [
              0.8888888888888888,
              "#fdca26"
             ],
             [
              1,
              "#f0f921"
             ]
            ],
            "type": "heatmapgl"
           }
          ],
          "histogram": [
           {
            "marker": {
             "colorbar": {
              "outlinewidth": 0,
              "ticks": ""
             }
            },
            "type": "histogram"
           }
          ],
          "histogram2d": [
           {
            "colorbar": {
             "outlinewidth": 0,
             "ticks": ""
            },
            "colorscale": [
             [
              0,
              "#0d0887"
             ],
             [
              0.1111111111111111,
              "#46039f"
             ],
             [
              0.2222222222222222,
              "#7201a8"
             ],
             [
              0.3333333333333333,
              "#9c179e"
             ],
             [
              0.4444444444444444,
              "#bd3786"
             ],
             [
              0.5555555555555556,
              "#d8576b"
             ],
             [
              0.6666666666666666,
              "#ed7953"
             ],
             [
              0.7777777777777778,
              "#fb9f3a"
             ],
             [
              0.8888888888888888,
              "#fdca26"
             ],
             [
              1,
              "#f0f921"
             ]
            ],
            "type": "histogram2d"
           }
          ],
          "histogram2dcontour": [
           {
            "colorbar": {
             "outlinewidth": 0,
             "ticks": ""
            },
            "colorscale": [
             [
              0,
              "#0d0887"
             ],
             [
              0.1111111111111111,
              "#46039f"
             ],
             [
              0.2222222222222222,
              "#7201a8"
             ],
             [
              0.3333333333333333,
              "#9c179e"
             ],
             [
              0.4444444444444444,
              "#bd3786"
             ],
             [
              0.5555555555555556,
              "#d8576b"
             ],
             [
              0.6666666666666666,
              "#ed7953"
             ],
             [
              0.7777777777777778,
              "#fb9f3a"
             ],
             [
              0.8888888888888888,
              "#fdca26"
             ],
             [
              1,
              "#f0f921"
             ]
            ],
            "type": "histogram2dcontour"
           }
          ],
          "mesh3d": [
           {
            "colorbar": {
             "outlinewidth": 0,
             "ticks": ""
            },
            "type": "mesh3d"
           }
          ],
          "parcoords": [
           {
            "line": {
             "colorbar": {
              "outlinewidth": 0,
              "ticks": ""
             }
            },
            "type": "parcoords"
           }
          ],
          "pie": [
           {
            "automargin": true,
            "type": "pie"
           }
          ],
          "scatter": [
           {
            "marker": {
             "colorbar": {
              "outlinewidth": 0,
              "ticks": ""
             }
            },
            "type": "scatter"
           }
          ],
          "scatter3d": [
           {
            "line": {
             "colorbar": {
              "outlinewidth": 0,
              "ticks": ""
             }
            },
            "marker": {
             "colorbar": {
              "outlinewidth": 0,
              "ticks": ""
             }
            },
            "type": "scatter3d"
           }
          ],
          "scattercarpet": [
           {
            "marker": {
             "colorbar": {
              "outlinewidth": 0,
              "ticks": ""
             }
            },
            "type": "scattercarpet"
           }
          ],
          "scattergeo": [
           {
            "marker": {
             "colorbar": {
              "outlinewidth": 0,
              "ticks": ""
             }
            },
            "type": "scattergeo"
           }
          ],
          "scattergl": [
           {
            "marker": {
             "colorbar": {
              "outlinewidth": 0,
              "ticks": ""
             }
            },
            "type": "scattergl"
           }
          ],
          "scattermapbox": [
           {
            "marker": {
             "colorbar": {
              "outlinewidth": 0,
              "ticks": ""
             }
            },
            "type": "scattermapbox"
           }
          ],
          "scatterpolar": [
           {
            "marker": {
             "colorbar": {
              "outlinewidth": 0,
              "ticks": ""
             }
            },
            "type": "scatterpolar"
           }
          ],
          "scatterpolargl": [
           {
            "marker": {
             "colorbar": {
              "outlinewidth": 0,
              "ticks": ""
             }
            },
            "type": "scatterpolargl"
           }
          ],
          "scatterternary": [
           {
            "marker": {
             "colorbar": {
              "outlinewidth": 0,
              "ticks": ""
             }
            },
            "type": "scatterternary"
           }
          ],
          "surface": [
           {
            "colorbar": {
             "outlinewidth": 0,
             "ticks": ""
            },
            "colorscale": [
             [
              0,
              "#0d0887"
             ],
             [
              0.1111111111111111,
              "#46039f"
             ],
             [
              0.2222222222222222,
              "#7201a8"
             ],
             [
              0.3333333333333333,
              "#9c179e"
             ],
             [
              0.4444444444444444,
              "#bd3786"
             ],
             [
              0.5555555555555556,
              "#d8576b"
             ],
             [
              0.6666666666666666,
              "#ed7953"
             ],
             [
              0.7777777777777778,
              "#fb9f3a"
             ],
             [
              0.8888888888888888,
              "#fdca26"
             ],
             [
              1,
              "#f0f921"
             ]
            ],
            "type": "surface"
           }
          ],
          "table": [
           {
            "cells": {
             "fill": {
              "color": "#EBF0F8"
             },
             "line": {
              "color": "white"
             }
            },
            "header": {
             "fill": {
              "color": "#C8D4E3"
             },
             "line": {
              "color": "white"
             }
            },
            "type": "table"
           }
          ]
         },
         "layout": {
          "annotationdefaults": {
           "arrowcolor": "#2a3f5f",
           "arrowhead": 0,
           "arrowwidth": 1
          },
          "autotypenumbers": "strict",
          "coloraxis": {
           "colorbar": {
            "outlinewidth": 0,
            "ticks": ""
           }
          },
          "colorscale": {
           "diverging": [
            [
             0,
             "#8e0152"
            ],
            [
             0.1,
             "#c51b7d"
            ],
            [
             0.2,
             "#de77ae"
            ],
            [
             0.3,
             "#f1b6da"
            ],
            [
             0.4,
             "#fde0ef"
            ],
            [
             0.5,
             "#f7f7f7"
            ],
            [
             0.6,
             "#e6f5d0"
            ],
            [
             0.7,
             "#b8e186"
            ],
            [
             0.8,
             "#7fbc41"
            ],
            [
             0.9,
             "#4d9221"
            ],
            [
             1,
             "#276419"
            ]
           ],
           "sequential": [
            [
             0,
             "#0d0887"
            ],
            [
             0.1111111111111111,
             "#46039f"
            ],
            [
             0.2222222222222222,
             "#7201a8"
            ],
            [
             0.3333333333333333,
             "#9c179e"
            ],
            [
             0.4444444444444444,
             "#bd3786"
            ],
            [
             0.5555555555555556,
             "#d8576b"
            ],
            [
             0.6666666666666666,
             "#ed7953"
            ],
            [
             0.7777777777777778,
             "#fb9f3a"
            ],
            [
             0.8888888888888888,
             "#fdca26"
            ],
            [
             1,
             "#f0f921"
            ]
           ],
           "sequentialminus": [
            [
             0,
             "#0d0887"
            ],
            [
             0.1111111111111111,
             "#46039f"
            ],
            [
             0.2222222222222222,
             "#7201a8"
            ],
            [
             0.3333333333333333,
             "#9c179e"
            ],
            [
             0.4444444444444444,
             "#bd3786"
            ],
            [
             0.5555555555555556,
             "#d8576b"
            ],
            [
             0.6666666666666666,
             "#ed7953"
            ],
            [
             0.7777777777777778,
             "#fb9f3a"
            ],
            [
             0.8888888888888888,
             "#fdca26"
            ],
            [
             1,
             "#f0f921"
            ]
           ]
          },
          "colorway": [
           "#636efa",
           "#EF553B",
           "#00cc96",
           "#ab63fa",
           "#FFA15A",
           "#19d3f3",
           "#FF6692",
           "#B6E880",
           "#FF97FF",
           "#FECB52"
          ],
          "font": {
           "color": "#2a3f5f"
          },
          "geo": {
           "bgcolor": "white",
           "lakecolor": "white",
           "landcolor": "#E5ECF6",
           "showlakes": true,
           "showland": true,
           "subunitcolor": "white"
          },
          "hoverlabel": {
           "align": "left"
          },
          "hovermode": "closest",
          "mapbox": {
           "style": "light"
          },
          "paper_bgcolor": "white",
          "plot_bgcolor": "#E5ECF6",
          "polar": {
           "angularaxis": {
            "gridcolor": "white",
            "linecolor": "white",
            "ticks": ""
           },
           "bgcolor": "#E5ECF6",
           "radialaxis": {
            "gridcolor": "white",
            "linecolor": "white",
            "ticks": ""
           }
          },
          "scene": {
           "xaxis": {
            "backgroundcolor": "#E5ECF6",
            "gridcolor": "white",
            "gridwidth": 2,
            "linecolor": "white",
            "showbackground": true,
            "ticks": "",
            "zerolinecolor": "white"
           },
           "yaxis": {
            "backgroundcolor": "#E5ECF6",
            "gridcolor": "white",
            "gridwidth": 2,
            "linecolor": "white",
            "showbackground": true,
            "ticks": "",
            "zerolinecolor": "white"
           },
           "zaxis": {
            "backgroundcolor": "#E5ECF6",
            "gridcolor": "white",
            "gridwidth": 2,
            "linecolor": "white",
            "showbackground": true,
            "ticks": "",
            "zerolinecolor": "white"
           }
          },
          "shapedefaults": {
           "line": {
            "color": "#2a3f5f"
           }
          },
          "ternary": {
           "aaxis": {
            "gridcolor": "white",
            "linecolor": "white",
            "ticks": ""
           },
           "baxis": {
            "gridcolor": "white",
            "linecolor": "white",
            "ticks": ""
           },
           "bgcolor": "#E5ECF6",
           "caxis": {
            "gridcolor": "white",
            "linecolor": "white",
            "ticks": ""
           }
          },
          "title": {
           "x": 0.05
          },
          "xaxis": {
           "automargin": true,
           "gridcolor": "white",
           "linecolor": "white",
           "ticks": "",
           "title": {
            "standoff": 15
           },
           "zerolinecolor": "white",
           "zerolinewidth": 2
          },
          "yaxis": {
           "automargin": true,
           "gridcolor": "white",
           "linecolor": "white",
           "ticks": "",
           "title": {
            "standoff": 15
           },
           "zerolinecolor": "white",
           "zerolinewidth": 2
          }
         }
        }
       }
      },
      "text/html": [
       "<div>                            <div id=\"e1f3f1ae-009b-4bed-aeb6-06f9990a40e2\" class=\"plotly-graph-div\" style=\"height:525px; width:100%;\"></div>            <script type=\"text/javascript\">                require([\"plotly\"], function(Plotly) {                    window.PLOTLYENV=window.PLOTLYENV || {};                                    if (document.getElementById(\"e1f3f1ae-009b-4bed-aeb6-06f9990a40e2\")) {                    Plotly.newPlot(                        \"e1f3f1ae-009b-4bed-aeb6-06f9990a40e2\",                        [{\"marker\": {\"color\": [0, 1, 2, 3, 4, 5, 6, 7, 8, 9, 10, 11, 12, 13, 14, 15, 16, 17, 18, 19, 20, 21, 22, 23, 24, 25, 26, 27, 28, 29, 30, 31, 32, 33, 34, 35, 36, 37, 38, 39, 40, 41, 42, 43, 44, 45, 46, 47, 48, 49, 50, 51, 52, 53, 54, 55, 56, 57, 58, 59, 60, 61, 62, 63, 64, 65, 66, 67, 68, 69, 70, 71, 72, 73, 74, 75, 76, 77, 78, 79, 80, 81, 82, 83, 84, 85, 86, 87, 88, 89, 90, 91, 92, 93, 94], \"colorscale\": [[0.0, \"#440154\"], [0.1111111111111111, \"#482878\"], [0.2222222222222222, \"#3e4989\"], [0.3333333333333333, \"#31688e\"], [0.4444444444444444, \"#26828e\"], [0.5555555555555556, \"#1f9e89\"], [0.6666666666666666, \"#35b779\"], [0.7777777777777778, \"#6ece58\"], [0.8888888888888888, \"#b5de2b\"], [1.0, \"#fde725\"]], \"opacity\": 0.8, \"size\": 4}, \"mode\": \"markers\", \"type\": \"scatter3d\", \"x\": [5.323994495585995, 4.736988727981736, 5.588555600242786, 5.654629253986752, 6.370427624163166, 7.1934382416054, 6.54672830269538, 6.099980166538431, 5.268840852266534, 5.8016100580726, 5.996722737262098, 3.4787207180259885, 5.796819642472743, 6.677053648809256, 5.803355204639218, 7.148317544298879, 4.4261693995786064, 4.264290787265644, 7.415589272393447, 6.832830054195244, 6.328799740174075, 6.879037899700815, 6.2915974022632115, 6.75832957831736, 5.51136266025211, 7.187248968750812, 5.959692347307122, 4.506348569240773, 6.838423821607935, 6.7548034278199305, 6.063085064517634, 6.024446099116854, 6.578503217249486, 6.902343946557276, 7.4722597443580945, 7.492534695071221, 7.327513531504683, 7.164374214055398, 7.776853170103293, 4.933765765846249, 4.973603814870423, 7.762604291236697, 5.5376771238133085, 6.34176965891358, 5.188744847831665, 7.062999499007181, 6.9965333050355865, 6.1443010713382735, 6.810739611797308, 5.895929315883005, 4.370723573001194, 5.824728983305091, 6.781845325346288, 3.9527519808852496, 5.945089680544895, 7.515652026755473, 6.210705140770455, 7.026442062785525, 5.854377891528644, 6.44206912941162, 5.6784217565667054, 6.521205227651687, 6.668541409278827, 7.197944342070922, 5.949432360146859, 4.643301138083489, 4.073818517266904, 3.612748930395166, 6.745085026495215, 3.416383274348225, 5.256157887502579, 2.789845751916359, 5.93685892123643, 4.802908064253105, 6.667762195429793, 5.417932409886039, 4.645509901018861, 4.850406922273123, 6.781476812894054, 2.789869043043365, 6.99574922739182, 5.900512934686246, 5.301453971842368, 7.71274739950209, 2.7278048804179513, 6.975328620581928, 6.646603786357093, 6.44085631305747, 5.893891810744643, 6.288713470171688, 6.30966827367838, 3.205307862759715, 5.046708204431009, 5.453266408184461, 4.007169065205931], \"y\": [5.074768598172731, 3.1562756411748314, 3.3488739222019372, 4.004230785072553, 5.546733637178567, 5.784343519094958, 5.982651834562546, 5.885558180361052, 3.373592128241175, 4.284383944576419, 5.751242159129095, 1.2179672587460524, 4.639793819084987, 5.996143594799586, 4.878091688770703, 6.306329953615306, 4.575814964394061, 3.7158641770764924, 6.6229237576620585, 6.04667961918371, 5.198446493857504, 6.4561495821399895, 4.279952375082136, 5.645174122384684, 3.870671279347912, 5.448303663386766, 5.69849583500757, 2.3012036191841827, 6.623441859133782, 6.134883013601996, 5.619447634658629, 4.1303501566807785, 4.50398591552087, 6.529724969379591, 6.457729848351434, 5.784104293739143, 6.376259369019129, 5.462233393542132, 5.978701304080975, 4.862454471298279, 5.024109264459619, 6.290811843916305, 3.2603050929810276, 5.457454295167911, 3.5358802143633783, 5.802563678162479, 5.41032594960914, 4.682082249659326, 5.314836028806318, 3.4721167260329966, 2.41066078988305, 4.330468973418382, 5.3125891904812805, 2.277109723430311, 4.410897532439946, 6.565387780218159, 4.78522777030012, 6.615672551946508, 4.699385373717167, 4.952485241036222, 3.778756480419031, 5.90313827953282, 5.101683900219106, 6.229178209358389, 5.657474575011402, 4.777556420158685, 4.054176559572693, 2.299108582106749, 5.80387523782275, 1.5461140353253386, 3.7150823376673103, 2.7127713480620907, 3.746593944200324, 4.213741496145014, 6.228094736253103, 4.031496912323932, 2.363089662549042, 5.144372962539289, 6.098073906818253, 0.0, 5.322720300510818, 5.447428902012149, 3.029997373562234, 6.592859267656336, 3.131139432579211, 6.325801089787635, 6.028578457690226, 5.833836373148227, 5.347544611254951, 4.363265043639808, 5.1446045804496805, 2.4181289805568746, 3.155420169788866, 3.173090550319532, 3.9265558508200344], \"z\": [1.368219755677006, -1.0, 0.9966363594020309, 0.0, 2.4931102875357456, -1.0, 3.4908901905346306, 3.667483601850501, 2.477630101136642, 1.3141811983677596, 3.6471236385873413, 0.9999795802162135, 2.1995635671730818, 4.044478602784459, 1.632318508323385, 4.420268043425226, 1.3424199624772026, 0.0, 4.246802565722162, 3.977379561076385, 2.414964567595689, 4.000342702998602, 0.0, 3.6418551376115578, 0.8380746542792696, 1.8609441379925766, 3.7028518953123513, 0.43250210964546326, 4.137878736470498, 4.02242584401701, 3.461220115264092, 0.9250985425196365, 1.1236293785128642, 4.174600470847312, 3.7325135388918484, 3.5416579834135806, 4.354530805518063, 2.83153395190211, 3.9414472840010757, 2.8022201094868513, 2.2253357060871677, 3.6533244698065555, 0.9999998363542293, 1.7753347251287246, 0.9155304216853118, 3.4708141035464926, -1.0, 2.0303128799223877, 2.8977427099618445, 0.0, -1.0, 0.5755160084225803, 2.8850507611450715, -1.0, 0.0, 4.1771677454297595, 2.871937464129949, 4.137866064947346, 2.720260314468092, 2.6983551412643663, 0.0, 4.062702236586087, 2.633587577179143, 3.2310596135808196, 3.6217188984079547, 1.8219774341580244, 0.9072325024660866, -1.0, 3.4121597665562207, -1.0, -1.0, -1.0, 1.3995240554383264, 0.0, 4.938374094698748, 0.0, 0.0, 1.57380467418904, 3.721371250625236, -1.0, 3.0149498867432487, 3.878233354362091, 0.0, 3.932553848633674, -1.0, 4.328726474283809, 3.5664722311878028, 4.19240016675754, -1.0, 1.9007014384700234, 2.713556487250156, 0.0, 0.76135953513666, 1.831776368195805, 0.0]}],                        {\"scene\": {\"xaxis\": {\"exponentformat\": \"e\", \"showexponent\": \"all\", \"title\": {\"text\": \"0th\"}, \"type\": \"linear\"}, \"yaxis\": {\"exponentformat\": \"e\", \"showexponent\": \"all\", \"title\": {\"text\": \"1st\"}, \"type\": \"linear\"}, \"zaxis\": {\"exponentformat\": \"e\", \"showexponent\": \"all\", \"title\": {\"text\": \"2nd\"}, \"type\": \"linear\"}}, \"template\": {\"data\": {\"bar\": [{\"error_x\": {\"color\": \"#2a3f5f\"}, \"error_y\": {\"color\": \"#2a3f5f\"}, \"marker\": {\"line\": {\"color\": \"#E5ECF6\", \"width\": 0.5}}, \"type\": \"bar\"}], \"barpolar\": [{\"marker\": {\"line\": {\"color\": \"#E5ECF6\", \"width\": 0.5}}, \"type\": \"barpolar\"}], \"carpet\": [{\"aaxis\": {\"endlinecolor\": \"#2a3f5f\", \"gridcolor\": \"white\", \"linecolor\": \"white\", \"minorgridcolor\": \"white\", \"startlinecolor\": \"#2a3f5f\"}, \"baxis\": {\"endlinecolor\": \"#2a3f5f\", \"gridcolor\": \"white\", \"linecolor\": \"white\", \"minorgridcolor\": \"white\", \"startlinecolor\": \"#2a3f5f\"}, \"type\": \"carpet\"}], \"choropleth\": [{\"colorbar\": {\"outlinewidth\": 0, \"ticks\": \"\"}, \"type\": \"choropleth\"}], \"contour\": [{\"colorbar\": {\"outlinewidth\": 0, \"ticks\": \"\"}, \"colorscale\": [[0.0, \"#0d0887\"], [0.1111111111111111, \"#46039f\"], [0.2222222222222222, \"#7201a8\"], [0.3333333333333333, \"#9c179e\"], [0.4444444444444444, \"#bd3786\"], [0.5555555555555556, \"#d8576b\"], [0.6666666666666666, \"#ed7953\"], [0.7777777777777778, \"#fb9f3a\"], [0.8888888888888888, \"#fdca26\"], [1.0, \"#f0f921\"]], \"type\": \"contour\"}], \"contourcarpet\": [{\"colorbar\": {\"outlinewidth\": 0, \"ticks\": \"\"}, \"type\": \"contourcarpet\"}], \"heatmap\": [{\"colorbar\": {\"outlinewidth\": 0, \"ticks\": \"\"}, \"colorscale\": [[0.0, \"#0d0887\"], [0.1111111111111111, \"#46039f\"], [0.2222222222222222, \"#7201a8\"], [0.3333333333333333, \"#9c179e\"], [0.4444444444444444, \"#bd3786\"], [0.5555555555555556, \"#d8576b\"], [0.6666666666666666, \"#ed7953\"], [0.7777777777777778, \"#fb9f3a\"], [0.8888888888888888, \"#fdca26\"], [1.0, \"#f0f921\"]], \"type\": \"heatmap\"}], \"heatmapgl\": [{\"colorbar\": {\"outlinewidth\": 0, \"ticks\": \"\"}, \"colorscale\": [[0.0, \"#0d0887\"], [0.1111111111111111, \"#46039f\"], [0.2222222222222222, \"#7201a8\"], [0.3333333333333333, \"#9c179e\"], [0.4444444444444444, \"#bd3786\"], [0.5555555555555556, \"#d8576b\"], [0.6666666666666666, \"#ed7953\"], [0.7777777777777778, \"#fb9f3a\"], [0.8888888888888888, \"#fdca26\"], [1.0, \"#f0f921\"]], \"type\": \"heatmapgl\"}], \"histogram\": [{\"marker\": {\"colorbar\": {\"outlinewidth\": 0, \"ticks\": \"\"}}, \"type\": \"histogram\"}], \"histogram2d\": [{\"colorbar\": {\"outlinewidth\": 0, \"ticks\": \"\"}, \"colorscale\": [[0.0, \"#0d0887\"], [0.1111111111111111, \"#46039f\"], [0.2222222222222222, \"#7201a8\"], [0.3333333333333333, \"#9c179e\"], [0.4444444444444444, \"#bd3786\"], [0.5555555555555556, \"#d8576b\"], [0.6666666666666666, \"#ed7953\"], [0.7777777777777778, \"#fb9f3a\"], [0.8888888888888888, \"#fdca26\"], [1.0, \"#f0f921\"]], \"type\": \"histogram2d\"}], \"histogram2dcontour\": [{\"colorbar\": {\"outlinewidth\": 0, \"ticks\": \"\"}, \"colorscale\": [[0.0, \"#0d0887\"], [0.1111111111111111, \"#46039f\"], [0.2222222222222222, \"#7201a8\"], [0.3333333333333333, \"#9c179e\"], [0.4444444444444444, \"#bd3786\"], [0.5555555555555556, \"#d8576b\"], [0.6666666666666666, \"#ed7953\"], [0.7777777777777778, \"#fb9f3a\"], [0.8888888888888888, \"#fdca26\"], [1.0, \"#f0f921\"]], \"type\": \"histogram2dcontour\"}], \"mesh3d\": [{\"colorbar\": {\"outlinewidth\": 0, \"ticks\": \"\"}, \"type\": \"mesh3d\"}], \"parcoords\": [{\"line\": {\"colorbar\": {\"outlinewidth\": 0, \"ticks\": \"\"}}, \"type\": \"parcoords\"}], \"pie\": [{\"automargin\": true, \"type\": \"pie\"}], \"scatter\": [{\"marker\": {\"colorbar\": {\"outlinewidth\": 0, \"ticks\": \"\"}}, \"type\": \"scatter\"}], \"scatter3d\": [{\"line\": {\"colorbar\": {\"outlinewidth\": 0, \"ticks\": \"\"}}, \"marker\": {\"colorbar\": {\"outlinewidth\": 0, \"ticks\": \"\"}}, \"type\": \"scatter3d\"}], \"scattercarpet\": [{\"marker\": {\"colorbar\": {\"outlinewidth\": 0, \"ticks\": \"\"}}, \"type\": \"scattercarpet\"}], \"scattergeo\": [{\"marker\": {\"colorbar\": {\"outlinewidth\": 0, \"ticks\": \"\"}}, \"type\": \"scattergeo\"}], \"scattergl\": [{\"marker\": {\"colorbar\": {\"outlinewidth\": 0, \"ticks\": \"\"}}, \"type\": \"scattergl\"}], \"scattermapbox\": [{\"marker\": {\"colorbar\": {\"outlinewidth\": 0, \"ticks\": \"\"}}, \"type\": \"scattermapbox\"}], \"scatterpolar\": [{\"marker\": {\"colorbar\": {\"outlinewidth\": 0, \"ticks\": \"\"}}, \"type\": \"scatterpolar\"}], \"scatterpolargl\": [{\"marker\": {\"colorbar\": {\"outlinewidth\": 0, \"ticks\": \"\"}}, \"type\": \"scatterpolargl\"}], \"scatterternary\": [{\"marker\": {\"colorbar\": {\"outlinewidth\": 0, \"ticks\": \"\"}}, \"type\": \"scatterternary\"}], \"surface\": [{\"colorbar\": {\"outlinewidth\": 0, \"ticks\": \"\"}, \"colorscale\": [[0.0, \"#0d0887\"], [0.1111111111111111, \"#46039f\"], [0.2222222222222222, \"#7201a8\"], [0.3333333333333333, \"#9c179e\"], [0.4444444444444444, \"#bd3786\"], [0.5555555555555556, \"#d8576b\"], [0.6666666666666666, \"#ed7953\"], [0.7777777777777778, \"#fb9f3a\"], [0.8888888888888888, \"#fdca26\"], [1.0, \"#f0f921\"]], \"type\": \"surface\"}], \"table\": [{\"cells\": {\"fill\": {\"color\": \"#EBF0F8\"}, \"line\": {\"color\": \"white\"}}, \"header\": {\"fill\": {\"color\": \"#C8D4E3\"}, \"line\": {\"color\": \"white\"}}, \"type\": \"table\"}]}, \"layout\": {\"annotationdefaults\": {\"arrowcolor\": \"#2a3f5f\", \"arrowhead\": 0, \"arrowwidth\": 1}, \"autotypenumbers\": \"strict\", \"coloraxis\": {\"colorbar\": {\"outlinewidth\": 0, \"ticks\": \"\"}}, \"colorscale\": {\"diverging\": [[0, \"#8e0152\"], [0.1, \"#c51b7d\"], [0.2, \"#de77ae\"], [0.3, \"#f1b6da\"], [0.4, \"#fde0ef\"], [0.5, \"#f7f7f7\"], [0.6, \"#e6f5d0\"], [0.7, \"#b8e186\"], [0.8, \"#7fbc41\"], [0.9, \"#4d9221\"], [1, \"#276419\"]], \"sequential\": [[0.0, \"#0d0887\"], [0.1111111111111111, \"#46039f\"], [0.2222222222222222, \"#7201a8\"], [0.3333333333333333, \"#9c179e\"], [0.4444444444444444, \"#bd3786\"], [0.5555555555555556, \"#d8576b\"], [0.6666666666666666, \"#ed7953\"], [0.7777777777777778, \"#fb9f3a\"], [0.8888888888888888, \"#fdca26\"], [1.0, \"#f0f921\"]], \"sequentialminus\": [[0.0, \"#0d0887\"], [0.1111111111111111, \"#46039f\"], [0.2222222222222222, \"#7201a8\"], [0.3333333333333333, \"#9c179e\"], [0.4444444444444444, \"#bd3786\"], [0.5555555555555556, \"#d8576b\"], [0.6666666666666666, \"#ed7953\"], [0.7777777777777778, \"#fb9f3a\"], [0.8888888888888888, \"#fdca26\"], [1.0, \"#f0f921\"]]}, \"colorway\": [\"#636efa\", \"#EF553B\", \"#00cc96\", \"#ab63fa\", \"#FFA15A\", \"#19d3f3\", \"#FF6692\", \"#B6E880\", \"#FF97FF\", \"#FECB52\"], \"font\": {\"color\": \"#2a3f5f\"}, \"geo\": {\"bgcolor\": \"white\", \"lakecolor\": \"white\", \"landcolor\": \"#E5ECF6\", \"showlakes\": true, \"showland\": true, \"subunitcolor\": \"white\"}, \"hoverlabel\": {\"align\": \"left\"}, \"hovermode\": \"closest\", \"mapbox\": {\"style\": \"light\"}, \"paper_bgcolor\": \"white\", \"plot_bgcolor\": \"#E5ECF6\", \"polar\": {\"angularaxis\": {\"gridcolor\": \"white\", \"linecolor\": \"white\", \"ticks\": \"\"}, \"bgcolor\": \"#E5ECF6\", \"radialaxis\": {\"gridcolor\": \"white\", \"linecolor\": \"white\", \"ticks\": \"\"}}, \"scene\": {\"xaxis\": {\"backgroundcolor\": \"#E5ECF6\", \"gridcolor\": \"white\", \"gridwidth\": 2, \"linecolor\": \"white\", \"showbackground\": true, \"ticks\": \"\", \"zerolinecolor\": \"white\"}, \"yaxis\": {\"backgroundcolor\": \"#E5ECF6\", \"gridcolor\": \"white\", \"gridwidth\": 2, \"linecolor\": \"white\", \"showbackground\": true, \"ticks\": \"\", \"zerolinecolor\": \"white\"}, \"zaxis\": {\"backgroundcolor\": \"#E5ECF6\", \"gridcolor\": \"white\", \"gridwidth\": 2, \"linecolor\": \"white\", \"showbackground\": true, \"ticks\": \"\", \"zerolinecolor\": \"white\"}}, \"shapedefaults\": {\"line\": {\"color\": \"#2a3f5f\"}}, \"ternary\": {\"aaxis\": {\"gridcolor\": \"white\", \"linecolor\": \"white\", \"ticks\": \"\"}, \"baxis\": {\"gridcolor\": \"white\", \"linecolor\": \"white\", \"ticks\": \"\"}, \"bgcolor\": \"#E5ECF6\", \"caxis\": {\"gridcolor\": \"white\", \"linecolor\": \"white\", \"ticks\": \"\"}}, \"title\": {\"x\": 0.05}, \"xaxis\": {\"automargin\": true, \"gridcolor\": \"white\", \"linecolor\": \"white\", \"ticks\": \"\", \"title\": {\"standoff\": 15}, \"zerolinecolor\": \"white\", \"zerolinewidth\": 2}, \"yaxis\": {\"automargin\": true, \"gridcolor\": \"white\", \"linecolor\": \"white\", \"ticks\": \"\", \"title\": {\"standoff\": 15}, \"zerolinecolor\": \"white\", \"zerolinewidth\": 2}}}},                        {\"responsive\": true}                    ).then(function(){\n",
       "                            \n",
       "var gd = document.getElementById('e1f3f1ae-009b-4bed-aeb6-06f9990a40e2');\n",
       "var x = new MutationObserver(function (mutations, observer) {{\n",
       "        var display = window.getComputedStyle(gd).display;\n",
       "        if (!display || display === 'none') {{\n",
       "            console.log([gd, 'removed!']);\n",
       "            Plotly.purge(gd);\n",
       "            observer.disconnect();\n",
       "        }}\n",
       "}});\n",
       "\n",
       "// Listen for the removal of the full notebook cells\n",
       "var notebookContainer = gd.closest('#notebook-container');\n",
       "if (notebookContainer) {{\n",
       "    x.observe(notebookContainer, {childList: true});\n",
       "}}\n",
       "\n",
       "// Listen for the clearing of the current output cell\n",
       "var outputEl = gd.closest('.output');\n",
       "if (outputEl) {{\n",
       "    x.observe(outputEl, {childList: true});\n",
       "}}\n",
       "\n",
       "                        })                };                });            </script>        </div>"
      ]
     },
     "metadata": {},
     "output_type": "display_data"
    }
   ],
   "source": [
    "plot_point_cloud(persistence_entropy['PC-Mass'])"
   ]
  },
  {
   "cell_type": "code",
   "execution_count": 13,
   "id": "0fb49b84",
   "metadata": {},
   "outputs": [],
   "source": [
    "number_of_points = {}\n",
    "for feature in peptide_feature_types:\n",
    "    for diagram in persistence_diagrams[feature]:\n",
    "        number_of_points[feature] = NumberOfPoints().fit_transform(\n",
    "            persistence_diagrams[feature])"
   ]
  },
  {
   "cell_type": "code",
   "execution_count": 14,
   "id": "25cb63ce",
   "metadata": {},
   "outputs": [],
   "source": [
    "amplitude = {}\n",
    "for feature in peptide_feature_types:\n",
    "    for diagram in persistence_diagrams[feature]:\n",
    "        amplitude[feature] = Amplitude(metric='wasserstein').fit_transform(\n",
    "            persistence_diagrams[feature])"
   ]
  },
  {
   "cell_type": "markdown",
   "id": "ba2f81c5",
   "metadata": {},
   "source": [
    "### Dataset preparation for model training\n",
    "One-class classifiers are trained using `utils_occ_model.occ_training` on the pre-processed dataset. \n",
    "\n",
    "Physico-chemical parameters of receptor and topological features of peptides are concatenated to a feature vector, per protein-peptide sample using `utils_occ_model.occ_feature_preprocess`. `X_train` and `X_test` are stored as dictionaries with `feature_type` key values. In addition to the `peptide_feature_types`, physico-chemical parameters for both protein and peptide have been updated as `Parameters` `feature_type`.\n",
    "\n",
    "The default split for training and testing, 80: 20, has been used in this notebook. This can be changed by passing a float value for the `test_split` in the `occ_feature_preprocess` function.\n",
    "\n",
    "As a gentle reminder, no class labels as `y_train` and `y_test` are present here, since this is a one-class classification."
   ]
  },
  {
   "cell_type": "code",
   "execution_count": 63,
   "id": "4c5cee2e",
   "metadata": {},
   "outputs": [],
   "source": [
    "X_train, X_test = {}, {}\n",
    "\n",
    "for feature in peptide_feature_types:\n",
    "    X_train[feature], X_test[feature], _, _ = utils_occ_model.occ_feature_preprocess(\n",
    "        X=[dict_receptor_features[feature], \n",
    "           persistence_entropy[feature], \n",
    "           number_of_points[feature],\n",
    "           amplitude[feature]])\n",
    "    \n",
    "    X_train[feature+'_Params'], X_test[feature+'_Params'], _, _ = utils_occ_model.occ_feature_preprocess(\n",
    "        X=[dict_receptor_features[feature], \n",
    "           peptide_param_features,\n",
    "           persistence_entropy[feature], \n",
    "           number_of_points[feature],\n",
    "           amplitude[feature]])\n",
    "    \n",
    "X_train['Parameters'], X_test['Parameters'], _, _ = utils_occ_model.occ_feature_preprocess(\n",
    "        X=[receptor_features, peptide_param_features])"
   ]
  },
  {
   "cell_type": "markdown",
   "id": "f5bce41f",
   "metadata": {},
   "source": [
    "## 3. Benchmark - Results and Experiments\n",
    "\n",
    "### Model training\n",
    "To obtain the best feature type and model architecture, and benchmark others, we train 2 one-class classifiers, optimized over an exhaustive list of hyperparameters, over 7 feature types. For this purpose, we use `utils_occ_model.occ_training` which handles the splitting of the training data into train and validation sets, and trains a suite of models for different hyperparameter combinations. \n",
    "\n",
    "2 one-class classifiers in the `scikit-learn` package, [Support Vector Machine](http://scikit-learn.org/stable/modules/generated/sklearn.svm.OneClassSVM.html) and [Isolation Forest](http://scikit-learn.org/stable/modules/generated/sklearn.ensemble.IsolationForest.html) have been implemented. Parameters and corresponding hyperparameters for each model architecture have been noted in a dictionary `model_params`. Apart from the default parameters, user-defined parameters are also handled using the `dict_params` argument in the `occ_training` function.\n",
    "\n",
    "For the peptides, we have studied how the augmentation of physico-chemical parameters with topological feature representations can impact the model performance. In total, we obtain 3 feature sets same as the earlier `feature_type` defined in `peptide_feature_types`, along with 3 augmented feature sets and 1 benchmark feature set with the physico-chemical parameters alone.\n",
    "\n",
    "The code splits the data into a final set of <b>60: 20: 20</b>, <b>training: validation: test</b>, with a pre-defined `val_split` argument. This argument can also be passed by the user, along with the `random_state` for the splitting.\n",
    "\n",
    "`occ_training` function takes `X_train` and `model_type` as input, and returns `best_model`, `best_params`, `best_accuracy`. The best model is scored by the accuracy on the validation dataset during model training. It is noted that the parameters for the best model can be obtained by querying the `scikit-learn` model instance. However, for ease of access to the specific parameters for the user, this has been included as an additional attribute.\n",
    "\n",
    "The output of a one-class classifier is either `1` or `-1`, where `1` denotes that the feature vector belongs to the classm and vice-versa. Accuracy is computed as a sum of the classifier outputs divided by the total number of samples, where if all output classes are `1`, then the accuracy is 1.0."
   ]
  },
  {
   "cell_type": "code",
   "execution_count": 64,
   "id": "7ac51f16",
   "metadata": {},
   "outputs": [],
   "source": [
    "model_arch_types = ['svm', 'isoforest']\n",
    "\n",
    "top_models = {feature:{} for feature in X_train}\n",
    "top_params = {feature:{} for feature in X_train}\n",
    "top_val_acc = {feature:{} for feature in X_train}\n",
    "\n",
    "for feature_type in X_train:\n",
    "    for model_type in model_arch_types:\n",
    "        (top_models[feature_type][model_type], \n",
    "         top_params[feature_type][model_type], \n",
    "         top_val_acc[feature_type][model_type]) = utils_occ_model.occ_training(\n",
    "            X_train[feature_type], model_type)"
   ]
  },
  {
   "cell_type": "code",
   "execution_count": 65,
   "id": "bbf8d904",
   "metadata": {},
   "outputs": [],
   "source": [
    "top_test_acc = {feature:{} for feature in X_train}\n",
    "\n",
    "for feature_type in X_train:\n",
    "    for model_type in model_arch_types:\n",
    "        top_test_acc[feature_type][model_type] = utils_occ_model.occ_scorer(\n",
    "            top_models[feature_type][model_type], X_test[feature_type])"
   ]
  },
  {
   "cell_type": "markdown",
   "id": "675a09da",
   "metadata": {},
   "source": [
    "In the following 2 dataframes, we have summarized the accuracy values for the validation and test datasets. The addition of topological features, in conjunction with the [Isolation Forest](http://scikit-learn.org/stable/modules/generated/sklearn.ensemble.IsolationForest.html) one-class classifier is noted to be a top performing combination. \n",
    "\n",
    "Given the limited data that we have trained on, the performance of using just the physico-chemical parameters is shown to be unusally high. This result might be caused due to a lot similar proteins in the sampled dataset. In other experiments (not in this notebook) with the complete dataset, we observed that the Isolation Forest models trained with topological features performs better than the physico-chemical parameters. We also observed that augmented feature set performs slightly better than using topological features alone.\n",
    "\n",
    "To remain consistent to the representations and the dataset in this notebook, we have used the `PC-Mass-isoforest` `feature-model_type` combination in further analysis."
   ]
  },
  {
   "cell_type": "code",
   "execution_count": 66,
   "id": "b4612b76",
   "metadata": {},
   "outputs": [
    {
     "data": {
      "text/html": [
       "<div>\n",
       "<style scoped>\n",
       "    .dataframe tbody tr th:only-of-type {\n",
       "        vertical-align: middle;\n",
       "    }\n",
       "\n",
       "    .dataframe tbody tr th {\n",
       "        vertical-align: top;\n",
       "    }\n",
       "\n",
       "    .dataframe thead th {\n",
       "        text-align: right;\n",
       "    }\n",
       "</style>\n",
       "<table border=\"1\" class=\"dataframe\">\n",
       "  <thead>\n",
       "    <tr style=\"text-align: right;\">\n",
       "      <th></th>\n",
       "      <th>Coulomb</th>\n",
       "      <th>Coulomb_Params</th>\n",
       "      <th>PC</th>\n",
       "      <th>PC_Params</th>\n",
       "      <th>PC-Mass</th>\n",
       "      <th>PC-Mass_Params</th>\n",
       "      <th>Parameters</th>\n",
       "    </tr>\n",
       "  </thead>\n",
       "  <tbody>\n",
       "    <tr>\n",
       "      <th>svm</th>\n",
       "      <td>0.421053</td>\n",
       "      <td>0.421053</td>\n",
       "      <td>0.473684</td>\n",
       "      <td>0.473684</td>\n",
       "      <td>0.473684</td>\n",
       "      <td>0.473684</td>\n",
       "      <td>0.473684</td>\n",
       "    </tr>\n",
       "    <tr>\n",
       "      <th>isoforest</th>\n",
       "      <td>0.789474</td>\n",
       "      <td>0.842105</td>\n",
       "      <td>0.789474</td>\n",
       "      <td>0.789474</td>\n",
       "      <td>0.894737</td>\n",
       "      <td>0.789474</td>\n",
       "      <td>0.842105</td>\n",
       "    </tr>\n",
       "  </tbody>\n",
       "</table>\n",
       "</div>"
      ],
      "text/plain": [
       "            Coulomb  Coulomb_Params        PC  PC_Params   PC-Mass  \\\n",
       "svm        0.421053        0.421053  0.473684   0.473684  0.473684   \n",
       "isoforest  0.789474        0.842105  0.789474   0.789474  0.894737   \n",
       "\n",
       "           PC-Mass_Params  Parameters  \n",
       "svm              0.473684    0.473684  \n",
       "isoforest        0.789474    0.842105  "
      ]
     },
     "execution_count": 66,
     "metadata": {},
     "output_type": "execute_result"
    }
   ],
   "source": [
    "pd.DataFrame.from_dict(top_val_acc)"
   ]
  },
  {
   "cell_type": "code",
   "execution_count": 67,
   "id": "3fd85450",
   "metadata": {},
   "outputs": [
    {
     "data": {
      "text/html": [
       "<div>\n",
       "<style scoped>\n",
       "    .dataframe tbody tr th:only-of-type {\n",
       "        vertical-align: middle;\n",
       "    }\n",
       "\n",
       "    .dataframe tbody tr th {\n",
       "        vertical-align: top;\n",
       "    }\n",
       "\n",
       "    .dataframe thead th {\n",
       "        text-align: right;\n",
       "    }\n",
       "</style>\n",
       "<table border=\"1\" class=\"dataframe\">\n",
       "  <thead>\n",
       "    <tr style=\"text-align: right;\">\n",
       "      <th></th>\n",
       "      <th>Coulomb</th>\n",
       "      <th>Coulomb_Params</th>\n",
       "      <th>PC</th>\n",
       "      <th>PC_Params</th>\n",
       "      <th>PC-Mass</th>\n",
       "      <th>PC-Mass_Params</th>\n",
       "      <th>Parameters</th>\n",
       "    </tr>\n",
       "  </thead>\n",
       "  <tbody>\n",
       "    <tr>\n",
       "      <th>svm</th>\n",
       "      <td>0.578947</td>\n",
       "      <td>0.578947</td>\n",
       "      <td>0.578947</td>\n",
       "      <td>0.578947</td>\n",
       "      <td>0.578947</td>\n",
       "      <td>0.578947</td>\n",
       "      <td>0.578947</td>\n",
       "    </tr>\n",
       "    <tr>\n",
       "      <th>isoforest</th>\n",
       "      <td>0.684211</td>\n",
       "      <td>0.789474</td>\n",
       "      <td>0.736842</td>\n",
       "      <td>0.789474</td>\n",
       "      <td>0.736842</td>\n",
       "      <td>0.736842</td>\n",
       "      <td>0.894737</td>\n",
       "    </tr>\n",
       "  </tbody>\n",
       "</table>\n",
       "</div>"
      ],
      "text/plain": [
       "            Coulomb  Coulomb_Params        PC  PC_Params   PC-Mass  \\\n",
       "svm        0.578947        0.578947  0.578947   0.578947  0.578947   \n",
       "isoforest  0.684211        0.789474  0.736842   0.789474  0.736842   \n",
       "\n",
       "           PC-Mass_Params  Parameters  \n",
       "svm              0.578947    0.578947  \n",
       "isoforest        0.736842    0.894737  "
      ]
     },
     "execution_count": 67,
     "metadata": {},
     "output_type": "execute_result"
    }
   ],
   "source": [
    "pd.DataFrame.from_dict(top_test_acc)"
   ]
  },
  {
   "cell_type": "markdown",
   "id": "10e27879",
   "metadata": {},
   "source": [
    "### Repurposition for SARS-Cov-2 RBD protein\n",
    "We used the `PC-Mass-isoforest` model to screen the peptides in the dataset with the features of the SARS-Cov-2 receptor binding domain (RBD) protein. We downloaded a pre-processed PDB file for RBD protein (PDB ID: [6XM0](https://www.rcsb.org/structure/6XM0)) from [PDB database](https://www.rcsb.org/). (accessed on April 30, 2021) This file had only one chain of the RDB protein and did not include any non-canonical amino acids or glycans.\n",
    "\n",
    "The PDB file was featurized using `featurize_pdb` with `Parameters` `feature_type`, and stored in `rbd_features`. The list of receptor features was concatenated with the peptide features into `X_rbd_peptide`.\n",
    "\n",
    "The indices for the positive predictions, `1` from the top model, which indicated the peptides that bound to the RBD protein (noted in `rbd_pred`). These indices were matched with the corresponding PDB IDs in `df_filter`."
   ]
  },
  {
   "cell_type": "code",
   "execution_count": null,
   "id": "348dc532",
   "metadata": {},
   "outputs": [],
   "source": [
    "top_feature_type = 'PC-Mass'\n",
    "top_model_type = 'isoforest'"
   ]
  },
  {
   "cell_type": "code",
   "execution_count": 81,
   "id": "77fc8f96",
   "metadata": {},
   "outputs": [],
   "source": [
    "rbd_features = featurize.featurize(\n",
    "    path_folder = os.path.join(PATH, 'Dataset'), \n",
    "    file_name = 'sars_cov2_rbd.pdb',\n",
    "    feature_type = 'Parameters')"
   ]
  },
  {
   "cell_type": "code",
   "execution_count": 87,
   "id": "7cf8d97a",
   "metadata": {},
   "outputs": [],
   "source": [
    "X_rbd_peptide = np.hstack([\n",
    "    len(persistence_entropy[top_feature_type])*[rbd_features], \n",
    "    persistence_entropy[top_feature_type], \n",
    "    number_of_points[top_feature_type],\n",
    "    amplitude[top_feature_type]])"
   ]
  },
  {
   "cell_type": "code",
   "execution_count": 101,
   "id": "0f4a412c",
   "metadata": {},
   "outputs": [],
   "source": [
    "rbd_pred = top_models['PC-Mass']['isoforest'].predict(X_rbd_PC_Mass)"
   ]
  },
  {
   "cell_type": "code",
   "execution_count": 110,
   "id": "aa5024bd",
   "metadata": {},
   "outputs": [
    {
     "data": {
      "text/html": [
       "<div>\n",
       "<style scoped>\n",
       "    .dataframe tbody tr th:only-of-type {\n",
       "        vertical-align: middle;\n",
       "    }\n",
       "\n",
       "    .dataframe tbody tr th {\n",
       "        vertical-align: top;\n",
       "    }\n",
       "\n",
       "    .dataframe thead th {\n",
       "        text-align: right;\n",
       "    }\n",
       "</style>\n",
       "<table border=\"1\" class=\"dataframe\">\n",
       "  <thead>\n",
       "    <tr style=\"text-align: right;\">\n",
       "      <th></th>\n",
       "      <th>PDB_ID</th>\n",
       "      <th>peptide_chain_ID</th>\n",
       "    </tr>\n",
       "  </thead>\n",
       "  <tbody>\n",
       "    <tr>\n",
       "      <th>0</th>\n",
       "      <td>4nuf</td>\n",
       "      <td>P</td>\n",
       "    </tr>\n",
       "    <tr>\n",
       "      <th>2</th>\n",
       "      <td>1kpv</td>\n",
       "      <td>P</td>\n",
       "    </tr>\n",
       "    <tr>\n",
       "      <th>3</th>\n",
       "      <td>2c3i</td>\n",
       "      <td>A</td>\n",
       "    </tr>\n",
       "    <tr>\n",
       "      <th>4</th>\n",
       "      <td>5xym</td>\n",
       "      <td>a</td>\n",
       "    </tr>\n",
       "    <tr>\n",
       "      <th>6</th>\n",
       "      <td>1k6f</td>\n",
       "      <td>A</td>\n",
       "    </tr>\n",
       "  </tbody>\n",
       "</table>\n",
       "</div>"
      ],
      "text/plain": [
       "  PDB_ID peptide_chain_ID\n",
       "0   4nuf                P\n",
       "2   1kpv                P\n",
       "3   2c3i                A\n",
       "4   5xym                a\n",
       "6   1k6f                A"
      ]
     },
     "execution_count": 110,
     "metadata": {},
     "output_type": "execute_result"
    }
   ],
   "source": [
    "df_filter.loc[[idx for idx, pred in enumerate(rbd_pred) if pred == 1]][\n",
    "    ['PDB_ID', 'peptide_chain_ID']].head()"
   ]
  },
  {
   "cell_type": "markdown",
   "id": "5b2f4614",
   "metadata": {},
   "source": [
    "To understand if the results are likely, we checked the top 3 PDB IDs shown here, and tried to correlate it with known understanding of general biology and of the SARS-Cov-2 system. The analysis has been done, by each PDB ID - <br>\n",
    "[4NUF](https://www.rcsb.org/structure/4NUF): Peptide bound to Escherechia coli, a known microbe which affects humans.<br>\n",
    "[1KPV](https://www.rcsb.org/structure/1KPV): Peptide bound to MHC class I complex, which will incite immunogenic response. This might be a false positive.<br>\n",
    "[2C3I](https://www.rcsb.org/structure/2C3I): Peptide bound to PIM 1 kinase, kknwon to responsible for cardiovascular malignancies. Recent studies have noted SARS-Cov-2 as a vascular disease, so this might be a good binder. ([Siddiqui, et al., 2021](https://linkinghub.elsevier.com/retrieve/pii/S1050173820301286), [Lei, et al., 2021](https://www.ahajournals.org/doi/10.1161/CIRCRESAHA.121.318902)) <br>\n",
    "\n",
    "These preliminary results indicate that more analysis into both methodology and selection can aid in finding peptide-based inhibitors for PPI, not only for SARS-Cov-2 but also for other diseases where the protein is known."
   ]
  },
  {
   "cell_type": "markdown",
   "id": "440e90f7",
   "metadata": {},
   "source": [
    "## 4. Limitations and perspectives\n",
    "We note that there are certain limitations to this approach, and provide suggestions on how they may be overcome -<br>\n",
    "- Need for 3D data for peptides and proteins: Despite the significantly large size of [PepBDB](https://academic.oup.com/bioinformatics/article/35/1/175/5050021) dataset with 13,000+ entries, it still falls short of the protein sequences in millions noted in [UniProt](https://www.uniprot.org/). We suggest that for known proteins, molecular dynamics simulation approaches can be used to obtain 3D structures for peptides and they can be screened against. Similarly, individual structures for the receptor protein can be used in the absence of receptor-peptide complexes to augment the dataset.\n",
    "- Understanding of topological features and manifolds: Proteins and peptides are being only recently studied using topological featurization methods. Even then, featurization in non-Euclidean manifolds for proteins remains an esoteric area of research. Deeper studies in understanding the different representations and their effects on model performance can significantly impact the field.\n",
    "- Experimental validation of predictions: Given the difficult task to synthesize and validate in wet lab experiments, understanding of the efficacy of the models remains an open challenge.\n",
    "\n",
    "In summary, we demonstrated the power of topological representations to learn PPIs. In this notebook, we showed how public PPI datasets with 3D information of peptide and protein can be used to develop robust models, and used for different applications, such as repurposition of peptide inhibitors. In addition to that, we repurposed peptide inhibitors, and correlated the predictions for 3 bound peptides with contemporary knowledge."
   ]
  }
 ],
 "metadata": {
  "kernelspec": {
   "display_name": "Python [conda env:ppi_rdkit_tda] *",
   "language": "python",
   "name": "conda-env-ppi_rdkit_tda-py"
  },
  "language_info": {
   "codemirror_mode": {
    "name": "ipython",
    "version": 3
   },
   "file_extension": ".py",
   "mimetype": "text/x-python",
   "name": "python",
   "nbconvert_exporter": "python",
   "pygments_lexer": "ipython3",
   "version": "3.6.13"
  }
 },
 "nbformat": 4,
 "nbformat_minor": 5
}
